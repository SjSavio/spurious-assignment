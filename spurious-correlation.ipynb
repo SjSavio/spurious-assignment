{
  "cells": [
    {
      "cell_type": "code",
      "execution_count": null,
      "metadata": {
        "colab": {
          "base_uri": "https://localhost:8080/"
        },
        "id": "mohPrg0OGIIK",
        "outputId": "95a3bd63-4d57-4ce6-f6b0-0370f3647812"
      },
      "outputs": [
        {
          "name": "stdout",
          "output_type": "stream",
          "text": [
            "Collecting spuco\n",
            "  Downloading spuco-2.0.3-py3-none-any.whl.metadata (4.3 kB)\n",
            "Requirement already satisfied: matplotlib>=3.7.1 in /usr/local/lib/python3.11/dist-packages (from spuco) (3.10.0)\n",
            "Requirement already satisfied: numpy>=1.23.5 in /usr/local/lib/python3.11/dist-packages (from spuco) (2.0.2)\n",
            "Requirement already satisfied: setuptools>=61.0 in /usr/local/lib/python3.11/dist-packages (from spuco) (75.2.0)\n",
            "Requirement already satisfied: torch>=2.0.0 in /usr/local/lib/python3.11/dist-packages (from spuco) (2.6.0+cu124)\n",
            "Requirement already satisfied: torchvision>=0.15.1 in /usr/local/lib/python3.11/dist-packages (from spuco) (0.21.0+cu124)\n",
            "Requirement already satisfied: tqdm>=4.65.0 in /usr/local/lib/python3.11/dist-packages (from spuco) (4.67.1)\n",
            "Requirement already satisfied: scikit-learn>=0.20.0 in /usr/local/lib/python3.11/dist-packages (from spuco) (1.6.1)\n",
            "Collecting wilds>=2.0.0 (from spuco)\n",
            "  Downloading wilds-2.0.0-py3-none-any.whl.metadata (22 kB)\n",
            "Requirement already satisfied: transformers>=3.5.0 in /usr/local/lib/python3.11/dist-packages (from spuco) (4.51.3)\n",
            "Requirement already satisfied: umap-learn>=0.5.5 in /usr/local/lib/python3.11/dist-packages (from spuco) (0.5.7)\n",
            "Collecting grad-cam>=1.5.0 (from spuco)\n",
            "  Downloading grad-cam-1.5.5.tar.gz (7.8 MB)\n",
            "\u001b[2K     \u001b[90m━━━━━━━━━━━━━━━━━━━━━━━━━━━━━━━━━━━━━━━━\u001b[0m \u001b[32m7.8/7.8 MB\u001b[0m \u001b[31m38.0 MB/s\u001b[0m eta \u001b[36m0:00:00\u001b[0m\n",
            "\u001b[?25h  Installing build dependencies ... \u001b[?25l\u001b[?25hdone\n",
            "  Getting requirements to build wheel ... \u001b[?25l\u001b[?25hdone\n",
            "  Preparing metadata (pyproject.toml) ... \u001b[?25l\u001b[?25hdone\n",
            "Requirement already satisfied: Pillow in /usr/local/lib/python3.11/dist-packages (from grad-cam>=1.5.0->spuco) (11.2.1)\n",
            "Collecting ttach (from grad-cam>=1.5.0->spuco)\n",
            "  Downloading ttach-0.0.3-py3-none-any.whl.metadata (5.2 kB)\n",
            "Requirement already satisfied: opencv-python in /usr/local/lib/python3.11/dist-packages (from grad-cam>=1.5.0->spuco) (4.11.0.86)\n",
            "Requirement already satisfied: contourpy>=1.0.1 in /usr/local/lib/python3.11/dist-packages (from matplotlib>=3.7.1->spuco) (1.3.2)\n",
            "Requirement already satisfied: cycler>=0.10 in /usr/local/lib/python3.11/dist-packages (from matplotlib>=3.7.1->spuco) (0.12.1)\n",
            "Requirement already satisfied: fonttools>=4.22.0 in /usr/local/lib/python3.11/dist-packages (from matplotlib>=3.7.1->spuco) (4.57.0)\n",
            "Requirement already satisfied: kiwisolver>=1.3.1 in /usr/local/lib/python3.11/dist-packages (from matplotlib>=3.7.1->spuco) (1.4.8)\n",
            "Requirement already satisfied: packaging>=20.0 in /usr/local/lib/python3.11/dist-packages (from matplotlib>=3.7.1->spuco) (24.2)\n",
            "Requirement already satisfied: pyparsing>=2.3.1 in /usr/local/lib/python3.11/dist-packages (from matplotlib>=3.7.1->spuco) (3.2.3)\n",
            "Requirement already satisfied: python-dateutil>=2.7 in /usr/local/lib/python3.11/dist-packages (from matplotlib>=3.7.1->spuco) (2.9.0.post0)\n",
            "Requirement already satisfied: scipy>=1.6.0 in /usr/local/lib/python3.11/dist-packages (from scikit-learn>=0.20.0->spuco) (1.15.2)\n",
            "Requirement already satisfied: joblib>=1.2.0 in /usr/local/lib/python3.11/dist-packages (from scikit-learn>=0.20.0->spuco) (1.4.2)\n",
            "Requirement already satisfied: threadpoolctl>=3.1.0 in /usr/local/lib/python3.11/dist-packages (from scikit-learn>=0.20.0->spuco) (3.6.0)\n",
            "Requirement already satisfied: filelock in /usr/local/lib/python3.11/dist-packages (from torch>=2.0.0->spuco) (3.18.0)\n",
            "Requirement already satisfied: typing-extensions>=4.10.0 in /usr/local/lib/python3.11/dist-packages (from torch>=2.0.0->spuco) (4.13.2)\n",
            "Requirement already satisfied: networkx in /usr/local/lib/python3.11/dist-packages (from torch>=2.0.0->spuco) (3.4.2)\n",
            "Requirement already satisfied: jinja2 in /usr/local/lib/python3.11/dist-packages (from torch>=2.0.0->spuco) (3.1.6)\n",
            "Requirement already satisfied: fsspec in /usr/local/lib/python3.11/dist-packages (from torch>=2.0.0->spuco) (2025.3.2)\n",
            "Collecting nvidia-cuda-nvrtc-cu12==12.4.127 (from torch>=2.0.0->spuco)\n",
            "  Downloading nvidia_cuda_nvrtc_cu12-12.4.127-py3-none-manylinux2014_x86_64.whl.metadata (1.5 kB)\n",
            "Collecting nvidia-cuda-runtime-cu12==12.4.127 (from torch>=2.0.0->spuco)\n",
            "  Downloading nvidia_cuda_runtime_cu12-12.4.127-py3-none-manylinux2014_x86_64.whl.metadata (1.5 kB)\n",
            "Collecting nvidia-cuda-cupti-cu12==12.4.127 (from torch>=2.0.0->spuco)\n",
            "  Downloading nvidia_cuda_cupti_cu12-12.4.127-py3-none-manylinux2014_x86_64.whl.metadata (1.6 kB)\n",
            "Collecting nvidia-cudnn-cu12==9.1.0.70 (from torch>=2.0.0->spuco)\n",
            "  Downloading nvidia_cudnn_cu12-9.1.0.70-py3-none-manylinux2014_x86_64.whl.metadata (1.6 kB)\n",
            "Collecting nvidia-cublas-cu12==12.4.5.8 (from torch>=2.0.0->spuco)\n",
            "  Downloading nvidia_cublas_cu12-12.4.5.8-py3-none-manylinux2014_x86_64.whl.metadata (1.5 kB)\n",
            "Collecting nvidia-cufft-cu12==11.2.1.3 (from torch>=2.0.0->spuco)\n",
            "  Downloading nvidia_cufft_cu12-11.2.1.3-py3-none-manylinux2014_x86_64.whl.metadata (1.5 kB)\n",
            "Collecting nvidia-curand-cu12==10.3.5.147 (from torch>=2.0.0->spuco)\n",
            "  Downloading nvidia_curand_cu12-10.3.5.147-py3-none-manylinux2014_x86_64.whl.metadata (1.5 kB)\n",
            "Collecting nvidia-cusolver-cu12==11.6.1.9 (from torch>=2.0.0->spuco)\n",
            "  Downloading nvidia_cusolver_cu12-11.6.1.9-py3-none-manylinux2014_x86_64.whl.metadata (1.6 kB)\n",
            "Collecting nvidia-cusparse-cu12==12.3.1.170 (from torch>=2.0.0->spuco)\n",
            "  Downloading nvidia_cusparse_cu12-12.3.1.170-py3-none-manylinux2014_x86_64.whl.metadata (1.6 kB)\n",
            "Requirement already satisfied: nvidia-cusparselt-cu12==0.6.2 in /usr/local/lib/python3.11/dist-packages (from torch>=2.0.0->spuco) (0.6.2)\n",
            "Requirement already satisfied: nvidia-nccl-cu12==2.21.5 in /usr/local/lib/python3.11/dist-packages (from torch>=2.0.0->spuco) (2.21.5)\n",
            "Requirement already satisfied: nvidia-nvtx-cu12==12.4.127 in /usr/local/lib/python3.11/dist-packages (from torch>=2.0.0->spuco) (12.4.127)\n",
            "Collecting nvidia-nvjitlink-cu12==12.4.127 (from torch>=2.0.0->spuco)\n",
            "  Downloading nvidia_nvjitlink_cu12-12.4.127-py3-none-manylinux2014_x86_64.whl.metadata (1.5 kB)\n",
            "Requirement already satisfied: triton==3.2.0 in /usr/local/lib/python3.11/dist-packages (from torch>=2.0.0->spuco) (3.2.0)\n",
            "Requirement already satisfied: sympy==1.13.1 in /usr/local/lib/python3.11/dist-packages (from torch>=2.0.0->spuco) (1.13.1)\n",
            "Requirement already satisfied: mpmath<1.4,>=1.1.0 in /usr/local/lib/python3.11/dist-packages (from sympy==1.13.1->torch>=2.0.0->spuco) (1.3.0)\n",
            "Requirement already satisfied: huggingface-hub<1.0,>=0.30.0 in /usr/local/lib/python3.11/dist-packages (from transformers>=3.5.0->spuco) (0.30.2)\n",
            "Requirement already satisfied: pyyaml>=5.1 in /usr/local/lib/python3.11/dist-packages (from transformers>=3.5.0->spuco) (6.0.2)\n",
            "Requirement already satisfied: regex!=2019.12.17 in /usr/local/lib/python3.11/dist-packages (from transformers>=3.5.0->spuco) (2024.11.6)\n",
            "Requirement already satisfied: requests in /usr/local/lib/python3.11/dist-packages (from transformers>=3.5.0->spuco) (2.32.3)\n",
            "Requirement already satisfied: tokenizers<0.22,>=0.21 in /usr/local/lib/python3.11/dist-packages (from transformers>=3.5.0->spuco) (0.21.1)\n",
            "Requirement already satisfied: safetensors>=0.4.3 in /usr/local/lib/python3.11/dist-packages (from transformers>=3.5.0->spuco) (0.5.3)\n",
            "Requirement already satisfied: numba>=0.51.2 in /usr/local/lib/python3.11/dist-packages (from umap-learn>=0.5.5->spuco) (0.60.0)\n",
            "Requirement already satisfied: pynndescent>=0.5 in /usr/local/lib/python3.11/dist-packages (from umap-learn>=0.5.5->spuco) (0.5.13)\n",
            "Collecting ogb>=1.2.6 (from wilds>=2.0.0->spuco)\n",
            "  Downloading ogb-1.3.6-py3-none-any.whl.metadata (6.2 kB)\n",
            "Collecting outdated>=0.2.0 (from wilds>=2.0.0->spuco)\n",
            "  Downloading outdated-0.2.2-py2.py3-none-any.whl.metadata (4.7 kB)\n",
            "Requirement already satisfied: pandas>=1.1.0 in /usr/local/lib/python3.11/dist-packages (from wilds>=2.0.0->spuco) (2.2.2)\n",
            "Requirement already satisfied: pytz>=2020.4 in /usr/local/lib/python3.11/dist-packages (from wilds>=2.0.0->spuco) (2025.2)\n",
            "Requirement already satisfied: llvmlite<0.44,>=0.43.0dev0 in /usr/local/lib/python3.11/dist-packages (from numba>=0.51.2->umap-learn>=0.5.5->spuco) (0.43.0)\n",
            "Requirement already satisfied: six>=1.12.0 in /usr/local/lib/python3.11/dist-packages (from ogb>=1.2.6->wilds>=2.0.0->spuco) (1.17.0)\n",
            "Requirement already satisfied: urllib3>=1.24.0 in /usr/local/lib/python3.11/dist-packages (from ogb>=1.2.6->wilds>=2.0.0->spuco) (2.4.0)\n",
            "Collecting littleutils (from outdated>=0.2.0->wilds>=2.0.0->spuco)\n",
            "  Downloading littleutils-0.2.4-py3-none-any.whl.metadata (679 bytes)\n",
            "Requirement already satisfied: tzdata>=2022.7 in /usr/local/lib/python3.11/dist-packages (from pandas>=1.1.0->wilds>=2.0.0->spuco) (2025.2)\n",
            "Requirement already satisfied: MarkupSafe>=2.0 in /usr/local/lib/python3.11/dist-packages (from jinja2->torch>=2.0.0->spuco) (3.0.2)\n",
            "Requirement already satisfied: charset-normalizer<4,>=2 in /usr/local/lib/python3.11/dist-packages (from requests->transformers>=3.5.0->spuco) (3.4.1)\n",
            "Requirement already satisfied: idna<4,>=2.5 in /usr/local/lib/python3.11/dist-packages (from requests->transformers>=3.5.0->spuco) (3.10)\n",
            "Requirement already satisfied: certifi>=2017.4.17 in /usr/local/lib/python3.11/dist-packages (from requests->transformers>=3.5.0->spuco) (2025.4.26)\n",
            "Downloading spuco-2.0.3-py3-none-any.whl (127 kB)\n",
            "\u001b[2K   \u001b[90m━━━━━━━━━━━━━━━━━━━━━━━━━━━━━━━━━━━━━━━━\u001b[0m \u001b[32m127.4/127.4 kB\u001b[0m \u001b[31m7.9 MB/s\u001b[0m eta \u001b[36m0:00:00\u001b[0m\n",
            "\u001b[?25hDownloading nvidia_cublas_cu12-12.4.5.8-py3-none-manylinux2014_x86_64.whl (363.4 MB)\n",
            "\u001b[2K   \u001b[90m━━━━━━━━━━━━━━━━━━━━━━━━━━━━━━━━━━━━━━━━\u001b[0m \u001b[32m363.4/363.4 MB\u001b[0m \u001b[31m1.2 MB/s\u001b[0m eta \u001b[36m0:00:00\u001b[0m\n",
            "\u001b[?25hDownloading nvidia_cuda_cupti_cu12-12.4.127-py3-none-manylinux2014_x86_64.whl (13.8 MB)\n",
            "\u001b[2K   \u001b[90m━━━━━━━━━━━━━━━━━━━━━━━━━━━━━━━━━━━━━━━━\u001b[0m \u001b[32m13.8/13.8 MB\u001b[0m \u001b[31m112.4 MB/s\u001b[0m eta \u001b[36m0:00:00\u001b[0m\n",
            "\u001b[?25hDownloading nvidia_cuda_nvrtc_cu12-12.4.127-py3-none-manylinux2014_x86_64.whl (24.6 MB)\n",
            "\u001b[2K   \u001b[90m━━━━━━━━━━━━━━━━━━━━━━━━━━━━━━━━━━━━━━━━\u001b[0m \u001b[32m24.6/24.6 MB\u001b[0m \u001b[31m81.2 MB/s\u001b[0m eta \u001b[36m0:00:00\u001b[0m\n",
            "\u001b[?25hDownloading nvidia_cuda_runtime_cu12-12.4.127-py3-none-manylinux2014_x86_64.whl (883 kB)\n",
            "\u001b[2K   \u001b[90m━━━━━━━━━━━━━━━━━━━━━━━━━━━━━━━━━━━━━━━━\u001b[0m \u001b[32m883.7/883.7 kB\u001b[0m \u001b[31m53.3 MB/s\u001b[0m eta \u001b[36m0:00:00\u001b[0m\n",
            "\u001b[?25hDownloading nvidia_cudnn_cu12-9.1.0.70-py3-none-manylinux2014_x86_64.whl (664.8 MB)\n",
            "\u001b[2K   \u001b[90m━━━━━━━━━━━━━━━━━━━━━━━━━━━━━━━━━━━━━━━━\u001b[0m \u001b[32m664.8/664.8 MB\u001b[0m \u001b[31m2.8 MB/s\u001b[0m eta \u001b[36m0:00:00\u001b[0m\n",
            "\u001b[?25hDownloading nvidia_cufft_cu12-11.2.1.3-py3-none-manylinux2014_x86_64.whl (211.5 MB)\n",
            "\u001b[2K   \u001b[90m━━━━━━━━━━━━━━━━━━━━━━━━━━━━━━━━━━━━━━━━\u001b[0m \u001b[32m211.5/211.5 MB\u001b[0m \u001b[31m5.5 MB/s\u001b[0m eta \u001b[36m0:00:00\u001b[0m\n",
            "\u001b[?25hDownloading nvidia_curand_cu12-10.3.5.147-py3-none-manylinux2014_x86_64.whl (56.3 MB)\n",
            "\u001b[2K   \u001b[90m━━━━━━━━━━━━━━━━━━━━━━━━━━━━━━━━━━━━━━━━\u001b[0m \u001b[32m56.3/56.3 MB\u001b[0m \u001b[31m13.1 MB/s\u001b[0m eta \u001b[36m0:00:00\u001b[0m\n",
            "\u001b[?25hDownloading nvidia_cusolver_cu12-11.6.1.9-py3-none-manylinux2014_x86_64.whl (127.9 MB)\n",
            "\u001b[2K   \u001b[90m━━━━━━━━━━━━━━━━━━━━━━━━━━━━━━━━━━━━━━━━\u001b[0m \u001b[32m127.9/127.9 MB\u001b[0m \u001b[31m7.8 MB/s\u001b[0m eta \u001b[36m0:00:00\u001b[0m\n",
            "\u001b[?25hDownloading nvidia_cusparse_cu12-12.3.1.170-py3-none-manylinux2014_x86_64.whl (207.5 MB)\n",
            "\u001b[2K   \u001b[90m━━━━━━━━━━━━━━━━━━━━━━━━━━━━━━━━━━━━━━━━\u001b[0m \u001b[32m207.5/207.5 MB\u001b[0m \u001b[31m5.5 MB/s\u001b[0m eta \u001b[36m0:00:00\u001b[0m\n",
            "\u001b[?25hDownloading nvidia_nvjitlink_cu12-12.4.127-py3-none-manylinux2014_x86_64.whl (21.1 MB)\n",
            "\u001b[2K   \u001b[90m━━━━━━━━━━━━━━━━━━━━━━━━━━━━━━━━━━━━━━━━\u001b[0m \u001b[32m21.1/21.1 MB\u001b[0m \u001b[31m92.1 MB/s\u001b[0m eta \u001b[36m0:00:00\u001b[0m\n",
            "\u001b[?25hDownloading wilds-2.0.0-py3-none-any.whl (126 kB)\n",
            "\u001b[2K   \u001b[90m━━━━━━━━━━━━━━━━━━━━━━━━━━━━━━━━━━━━━━━━\u001b[0m \u001b[32m126.2/126.2 kB\u001b[0m \u001b[31m13.1 MB/s\u001b[0m eta \u001b[36m0:00:00\u001b[0m\n",
            "\u001b[?25hDownloading ogb-1.3.6-py3-none-any.whl (78 kB)\n",
            "\u001b[2K   \u001b[90m━━━━━━━━━━━━━━━━━━━━━━━━━━━━━━━━━━━━━━━━\u001b[0m \u001b[32m78.8/78.8 kB\u001b[0m \u001b[31m8.6 MB/s\u001b[0m eta \u001b[36m0:00:00\u001b[0m\n",
            "\u001b[?25hDownloading outdated-0.2.2-py2.py3-none-any.whl (7.5 kB)\n",
            "Downloading ttach-0.0.3-py3-none-any.whl (9.8 kB)\n",
            "Downloading littleutils-0.2.4-py3-none-any.whl (8.1 kB)\n",
            "Building wheels for collected packages: grad-cam\n",
            "  Building wheel for grad-cam (pyproject.toml) ... \u001b[?25l\u001b[?25hdone\n",
            "  Created wheel for grad-cam: filename=grad_cam-1.5.5-py3-none-any.whl size=44284 sha256=c3eb4fb50ef8120305c309b243148209cef6575def2e1ae9cb06a5ea7a4e814f\n",
            "  Stored in directory: /root/.cache/pip/wheels/bc/52/78/893c3b94279ef238f43a9e89608af648de401b96415bebbd1f\n",
            "Successfully built grad-cam\n",
            "Installing collected packages: ttach, nvidia-nvjitlink-cu12, nvidia-curand-cu12, nvidia-cufft-cu12, nvidia-cuda-runtime-cu12, nvidia-cuda-nvrtc-cu12, nvidia-cuda-cupti-cu12, nvidia-cublas-cu12, littleutils, outdated, nvidia-cusparse-cu12, nvidia-cudnn-cu12, nvidia-cusolver-cu12, ogb, wilds, grad-cam, spuco\n",
            "  Attempting uninstall: nvidia-nvjitlink-cu12\n",
            "    Found existing installation: nvidia-nvjitlink-cu12 12.5.82\n",
            "    Uninstalling nvidia-nvjitlink-cu12-12.5.82:\n",
            "      Successfully uninstalled nvidia-nvjitlink-cu12-12.5.82\n",
            "  Attempting uninstall: nvidia-curand-cu12\n",
            "    Found existing installation: nvidia-curand-cu12 10.3.6.82\n",
            "    Uninstalling nvidia-curand-cu12-10.3.6.82:\n",
            "      Successfully uninstalled nvidia-curand-cu12-10.3.6.82\n",
            "  Attempting uninstall: nvidia-cufft-cu12\n",
            "    Found existing installation: nvidia-cufft-cu12 11.2.3.61\n",
            "    Uninstalling nvidia-cufft-cu12-11.2.3.61:\n",
            "      Successfully uninstalled nvidia-cufft-cu12-11.2.3.61\n",
            "  Attempting uninstall: nvidia-cuda-runtime-cu12\n",
            "    Found existing installation: nvidia-cuda-runtime-cu12 12.5.82\n",
            "    Uninstalling nvidia-cuda-runtime-cu12-12.5.82:\n",
            "      Successfully uninstalled nvidia-cuda-runtime-cu12-12.5.82\n",
            "  Attempting uninstall: nvidia-cuda-nvrtc-cu12\n",
            "    Found existing installation: nvidia-cuda-nvrtc-cu12 12.5.82\n",
            "    Uninstalling nvidia-cuda-nvrtc-cu12-12.5.82:\n",
            "      Successfully uninstalled nvidia-cuda-nvrtc-cu12-12.5.82\n",
            "  Attempting uninstall: nvidia-cuda-cupti-cu12\n",
            "    Found existing installation: nvidia-cuda-cupti-cu12 12.5.82\n",
            "    Uninstalling nvidia-cuda-cupti-cu12-12.5.82:\n",
            "      Successfully uninstalled nvidia-cuda-cupti-cu12-12.5.82\n",
            "  Attempting uninstall: nvidia-cublas-cu12\n",
            "    Found existing installation: nvidia-cublas-cu12 12.5.3.2\n",
            "    Uninstalling nvidia-cublas-cu12-12.5.3.2:\n",
            "      Successfully uninstalled nvidia-cublas-cu12-12.5.3.2\n",
            "  Attempting uninstall: nvidia-cusparse-cu12\n",
            "    Found existing installation: nvidia-cusparse-cu12 12.5.1.3\n",
            "    Uninstalling nvidia-cusparse-cu12-12.5.1.3:\n",
            "      Successfully uninstalled nvidia-cusparse-cu12-12.5.1.3\n",
            "  Attempting uninstall: nvidia-cudnn-cu12\n",
            "    Found existing installation: nvidia-cudnn-cu12 9.3.0.75\n",
            "    Uninstalling nvidia-cudnn-cu12-9.3.0.75:\n",
            "      Successfully uninstalled nvidia-cudnn-cu12-9.3.0.75\n",
            "  Attempting uninstall: nvidia-cusolver-cu12\n",
            "    Found existing installation: nvidia-cusolver-cu12 11.6.3.83\n",
            "    Uninstalling nvidia-cusolver-cu12-11.6.3.83:\n",
            "      Successfully uninstalled nvidia-cusolver-cu12-11.6.3.83\n",
            "Successfully installed grad-cam-1.5.5 littleutils-0.2.4 nvidia-cublas-cu12-12.4.5.8 nvidia-cuda-cupti-cu12-12.4.127 nvidia-cuda-nvrtc-cu12-12.4.127 nvidia-cuda-runtime-cu12-12.4.127 nvidia-cudnn-cu12-9.1.0.70 nvidia-cufft-cu12-11.2.1.3 nvidia-curand-cu12-10.3.5.147 nvidia-cusolver-cu12-11.6.1.9 nvidia-cusparse-cu12-12.3.1.170 nvidia-nvjitlink-cu12-12.4.127 ogb-1.3.6 outdated-0.2.2 spuco-2.0.3 ttach-0.0.3 wilds-2.0.0\n"
          ]
        }
      ],
      "source": [
        "!pip install spuco"
      ]
    },
    {
      "cell_type": "code",
      "execution_count": null,
      "metadata": {
        "id": "BkvysUM9GQ4N"
      },
      "outputs": [],
      "source": [
        "import torch\n",
        "from spuco.datasets import SpuCoMNIST, SpuriousFeatureDifficulty\n",
        "import torchvision.transforms as T\n",
        "from spuco.evaluate import Evaluator\n",
        "from spuco.models import model_factory\n",
        "from spuco.utils import Trainer\n",
        "from torch.optim import SGD\n",
        "from spuco.evaluate import Evaluator\n",
        "from spuco.group_inference import Cluster, ClusterAlg\n",
        "from spuco.robust_train import GroupBalanceBatchERM\n"
      ]
    },
    {
      "cell_type": "code",
      "execution_count": null,
      "metadata": {
        "id": "92uf6Y6THPbZ"
      },
      "outputs": [],
      "source": [
        "device = torch.device(\"cuda\")"
      ]
    },
    {
      "cell_type": "code",
      "execution_count": null,
      "metadata": {
        "colab": {
          "base_uri": "https://localhost:8080/"
        },
        "id": "h21hQSdjHRjt",
        "outputId": "3412319d-d25d-4910-f14c-f90ac04256a1"
      },
      "outputs": [
        {
          "name": "stderr",
          "output_type": "stream",
          "text": [
            "100%|██████████| 9.91M/9.91M [00:00<00:00, 16.5MB/s]\n",
            "100%|██████████| 28.9k/28.9k [00:00<00:00, 494kB/s]\n",
            "100%|██████████| 1.65M/1.65M [00:00<00:00, 4.47MB/s]\n",
            "100%|██████████| 4.54k/4.54k [00:00<00:00, 9.85MB/s]\n"
          ]
        }
      ],
      "source": [
        "classes = [[0, 1], [2, 3], [4, 5], [6, 7], [8, 9]]\n",
        "difficulty = SpuriousFeatureDifficulty.MAGNITUDE_LARGE\n",
        "\n",
        "trainset = SpuCoMNIST(\n",
        "    root=\"/data/mnist/\",\n",
        "    spurious_feature_difficulty=difficulty,\n",
        "    spurious_correlation_strength=0.995,\n",
        "    classes=classes,\n",
        "    split=\"train\"\n",
        ")\n",
        "trainset.initialize()\n",
        "\n",
        "testset = SpuCoMNIST(\n",
        "    root=\"/data/mnist/\",\n",
        "    spurious_feature_difficulty=difficulty,\n",
        "    classes=classes,\n",
        "    split=\"test\"\n",
        ")\n",
        "testset.initialize()"
      ]
    },
    {
      "cell_type": "code",
      "execution_count": null,
      "metadata": {
        "colab": {
          "base_uri": "https://localhost:8080/"
        },
        "id": "8wUp6WhKHXZB",
        "outputId": "1683110b-426e-47f2-81ea-031651db3aab"
      },
      "outputs": [
        {
          "name": "stderr",
          "output_type": "stream",
          "text": [
            "Epoch 0:   2%|▏         | 13/751 [00:00<00:18, 39.21batch/s, accuracy=14.0625%, loss=1.61]"
          ]
        },
        {
          "name": "stdout",
          "output_type": "stream",
          "text": [
            " | Epoch 0 | Loss: 1.6119283437728882 | Accuracy: 15.625%\n",
            " | Epoch 0 | Loss: 1.6037821769714355 | Accuracy: 18.75%\n",
            " | Epoch 0 | Loss: 1.6132866144180298 | Accuracy: 12.5%\n",
            " | Epoch 0 | Loss: 1.614161491394043 | Accuracy: 14.0625%\n",
            " | Epoch 0 | Loss: 1.6157965660095215 | Accuracy: 6.25%\n",
            " | Epoch 0 | Loss: 1.611609697341919 | Accuracy: 14.0625%\n",
            " | Epoch 0 | Loss: 1.6173245906829834 | Accuracy: 6.25%\n",
            " | Epoch 0 | Loss: 1.608636736869812 | Accuracy: 9.375%\n",
            " | Epoch 0 | Loss: 1.6143556833267212 | Accuracy: 6.25%\n",
            " | Epoch 0 | Loss: 1.605649471282959 | Accuracy: 15.625%\n",
            " | Epoch 0 | Loss: 1.6209099292755127 | Accuracy: 14.0625%\n",
            " | Epoch 0 | Loss: 1.614650845527649 | Accuracy: 10.9375%\n",
            " | Epoch 0 | Loss: 1.600382685661316 | Accuracy: 10.9375%\n",
            " | Epoch 0 | Loss: 1.5990301370620728 | Accuracy: 18.75%\n",
            " | Epoch 0 | Loss: 1.625059723854065 | Accuracy: 7.8125%\n",
            " | Epoch 0 | Loss: 1.6021331548690796 | Accuracy: 9.375%\n",
            " | Epoch 0 | Loss: 1.614708423614502 | Accuracy: 4.6875%\n",
            " | Epoch 0 | Loss: 1.6114376783370972 | Accuracy: 9.375%\n",
            " | Epoch 0 | Loss: 1.6201952695846558 | Accuracy: 14.0625%\n",
            " | Epoch 0 | Loss: 1.6093482971191406 | Accuracy: 12.5%\n",
            " | Epoch 0 | Loss: 1.6079282760620117 | Accuracy: 9.375%\n",
            " | Epoch 0 | Loss: 1.6053082942962646 | Accuracy: 10.9375%\n",
            " | Epoch 0 | Loss: 1.6071889400482178 | Accuracy: 12.5%\n",
            " | Epoch 0 | Loss: 1.6121628284454346 | Accuracy: 12.5%\n",
            " | Epoch 0 | Loss: 1.614754319190979 | Accuracy: 12.5%\n",
            " | Epoch 0 | Loss: 1.60777747631073 | Accuracy: 21.875%\n",
            " | Epoch 0 | Loss: 1.6046029329299927 | Accuracy: 14.0625%\n",
            " | Epoch 0 | Loss: 1.6075190305709839 | Accuracy: 14.0625%\n"
          ]
        },
        {
          "name": "stderr",
          "output_type": "stream",
          "text": [
            "Epoch 0:   6%|▋         | 47/751 [00:00<00:06, 104.16batch/s, accuracy=21.875%, loss=1.61]"
          ]
        },
        {
          "name": "stdout",
          "output_type": "stream",
          "text": [
            " | Epoch 0 | Loss: 1.6112143993377686 | Accuracy: 12.5%\n",
            " | Epoch 0 | Loss: 1.6028881072998047 | Accuracy: 17.1875%\n",
            " | Epoch 0 | Loss: 1.6036810874938965 | Accuracy: 15.625%\n",
            " | Epoch 0 | Loss: 1.603493094444275 | Accuracy: 18.75%\n",
            " | Epoch 0 | Loss: 1.609642505645752 | Accuracy: 18.75%\n",
            " | Epoch 0 | Loss: 1.6081331968307495 | Accuracy: 20.3125%\n",
            " | Epoch 0 | Loss: 1.6230287551879883 | Accuracy: 12.5%\n",
            " | Epoch 0 | Loss: 1.6068886518478394 | Accuracy: 10.9375%\n",
            " | Epoch 0 | Loss: 1.6088228225708008 | Accuracy: 15.625%\n",
            " | Epoch 0 | Loss: 1.6129179000854492 | Accuracy: 10.9375%\n",
            " | Epoch 0 | Loss: 1.611122727394104 | Accuracy: 23.4375%\n",
            " | Epoch 0 | Loss: 1.6151375770568848 | Accuracy: 12.5%\n",
            " | Epoch 0 | Loss: 1.6114840507507324 | Accuracy: 18.75%\n",
            " | Epoch 0 | Loss: 1.6109051704406738 | Accuracy: 12.5%\n",
            " | Epoch 0 | Loss: 1.6014841794967651 | Accuracy: 20.3125%\n",
            " | Epoch 0 | Loss: 1.598789095878601 | Accuracy: 18.75%\n",
            " | Epoch 0 | Loss: 1.6031310558319092 | Accuracy: 15.625%\n",
            " | Epoch 0 | Loss: 1.6175925731658936 | Accuracy: 6.25%\n",
            " | Epoch 0 | Loss: 1.6076326370239258 | Accuracy: 17.1875%\n",
            " | Epoch 0 | Loss: 1.6086969375610352 | Accuracy: 17.1875%\n",
            " | Epoch 0 | Loss: 1.6111774444580078 | Accuracy: 15.625%\n",
            " | Epoch 0 | Loss: 1.5981764793395996 | Accuracy: 17.1875%\n",
            " | Epoch 0 | Loss: 1.6069750785827637 | Accuracy: 20.3125%\n",
            " | Epoch 0 | Loss: 1.6198610067367554 | Accuracy: 15.625%\n",
            " | Epoch 0 | Loss: 1.600252628326416 | Accuracy: 31.25%\n",
            " | Epoch 0 | Loss: 1.6132524013519287 | Accuracy: 20.3125%\n",
            " | Epoch 0 | Loss: 1.601698875427246 | Accuracy: 26.5625%\n",
            " | Epoch 0 | Loss: 1.6074349880218506 | Accuracy: 14.0625%\n",
            " | Epoch 0 | Loss: 1.6049667596817017 | Accuracy: 21.875%\n",
            " | Epoch 0 | Loss: 1.6003345251083374 | Accuracy: 23.4375%\n",
            " | Epoch 0 | Loss: 1.6002752780914307 | Accuracy: 18.75%\n",
            " | Epoch 0 | Loss: 1.5953080654144287 | Accuracy: 25.0%\n",
            " | Epoch 0 | Loss: 1.6128677129745483 | Accuracy: 21.875%\n"
          ]
        },
        {
          "name": "stderr",
          "output_type": "stream",
          "text": [
            "Epoch 0:  10%|█         | 78/751 [00:00<00:05, 126.30batch/s, accuracy=28.125%, loss=1.6]"
          ]
        },
        {
          "name": "stdout",
          "output_type": "stream",
          "text": [
            " | Epoch 0 | Loss: 1.6245806217193604 | Accuracy: 12.5%\n",
            " | Epoch 0 | Loss: 1.609816074371338 | Accuracy: 14.0625%\n",
            " | Epoch 0 | Loss: 1.603415608406067 | Accuracy: 29.6875%\n",
            " | Epoch 0 | Loss: 1.5995984077453613 | Accuracy: 25.0%\n",
            " | Epoch 0 | Loss: 1.614438772201538 | Accuracy: 25.0%\n",
            " | Epoch 0 | Loss: 1.6182504892349243 | Accuracy: 18.75%\n",
            " | Epoch 0 | Loss: 1.6129971742630005 | Accuracy: 12.5%\n",
            " | Epoch 0 | Loss: 1.615842580795288 | Accuracy: 21.875%\n",
            " | Epoch 0 | Loss: 1.6085809469223022 | Accuracy: 25.0%\n",
            " | Epoch 0 | Loss: 1.6056209802627563 | Accuracy: 25.0%\n",
            " | Epoch 0 | Loss: 1.5950504541397095 | Accuracy: 29.6875%\n",
            " | Epoch 0 | Loss: 1.6114423274993896 | Accuracy: 21.875%\n",
            " | Epoch 0 | Loss: 1.5984916687011719 | Accuracy: 17.1875%\n",
            " | Epoch 0 | Loss: 1.6094460487365723 | Accuracy: 25.0%\n",
            " | Epoch 0 | Loss: 1.6189072132110596 | Accuracy: 15.625%\n",
            " | Epoch 0 | Loss: 1.603488564491272 | Accuracy: 23.4375%\n",
            " | Epoch 0 | Loss: 1.6074103116989136 | Accuracy: 18.75%\n",
            " | Epoch 0 | Loss: 1.6011627912521362 | Accuracy: 28.125%\n",
            " | Epoch 0 | Loss: 1.595188856124878 | Accuracy: 34.375%\n",
            " | Epoch 0 | Loss: 1.6033241748809814 | Accuracy: 17.1875%\n",
            " | Epoch 0 | Loss: 1.6201430559158325 | Accuracy: 20.3125%\n",
            " | Epoch 0 | Loss: 1.597389817237854 | Accuracy: 28.125%\n",
            " | Epoch 0 | Loss: 1.6057318449020386 | Accuracy: 15.625%\n",
            " | Epoch 0 | Loss: 1.6056711673736572 | Accuracy: 17.1875%\n",
            " | Epoch 0 | Loss: 1.6210005283355713 | Accuracy: 14.0625%\n",
            " | Epoch 0 | Loss: 1.6071990728378296 | Accuracy: 23.4375%\n",
            " | Epoch 0 | Loss: 1.603907823562622 | Accuracy: 17.1875%\n",
            " | Epoch 0 | Loss: 1.6027051210403442 | Accuracy: 21.875%\n",
            " | Epoch 0 | Loss: 1.5999183654785156 | Accuracy: 31.25%\n",
            " | Epoch 0 | Loss: 1.612709403038025 | Accuracy: 18.75%\n",
            " | Epoch 0 | Loss: 1.5972756147384644 | Accuracy: 28.125%\n"
          ]
        },
        {
          "name": "stderr",
          "output_type": "stream",
          "text": [
            "Epoch 0:  15%|█▍        | 111/751 [00:01<00:04, 143.08batch/s, accuracy=18.75%, loss=1.61]  "
          ]
        },
        {
          "name": "stdout",
          "output_type": "stream",
          "text": [
            " | Epoch 0 | Loss: 1.6070576906204224 | Accuracy: 17.1875%\n",
            " | Epoch 0 | Loss: 1.6006979942321777 | Accuracy: 31.25%\n",
            " | Epoch 0 | Loss: 1.6081905364990234 | Accuracy: 14.0625%\n",
            " | Epoch 0 | Loss: 1.6167258024215698 | Accuracy: 18.75%\n",
            " | Epoch 0 | Loss: 1.6007057428359985 | Accuracy: 20.3125%\n",
            " | Epoch 0 | Loss: 1.5950151681900024 | Accuracy: 25.0%\n",
            " | Epoch 0 | Loss: 1.6028757095336914 | Accuracy: 23.4375%\n",
            " | Epoch 0 | Loss: 1.602142333984375 | Accuracy: 31.25%\n",
            " | Epoch 0 | Loss: 1.6008397340774536 | Accuracy: 26.5625%\n",
            " | Epoch 0 | Loss: 1.6083776950836182 | Accuracy: 23.4375%\n",
            " | Epoch 0 | Loss: 1.6134594678878784 | Accuracy: 18.75%\n",
            " | Epoch 0 | Loss: 1.6078439950942993 | Accuracy: 18.75%\n",
            " | Epoch 0 | Loss: 1.6054935455322266 | Accuracy: 14.0625%\n",
            " | Epoch 0 | Loss: 1.6064949035644531 | Accuracy: 23.4375%\n",
            " | Epoch 0 | Loss: 1.6145161390304565 | Accuracy: 17.1875%\n",
            " | Epoch 0 | Loss: 1.6016879081726074 | Accuracy: 26.5625%\n",
            " | Epoch 0 | Loss: 1.600964069366455 | Accuracy: 20.3125%\n",
            " | Epoch 0 | Loss: 1.592787504196167 | Accuracy: 29.6875%\n",
            " | Epoch 0 | Loss: 1.6128289699554443 | Accuracy: 23.4375%\n",
            " | Epoch 0 | Loss: 1.604239583015442 | Accuracy: 21.875%\n",
            " | Epoch 0 | Loss: 1.6087455749511719 | Accuracy: 23.4375%\n",
            " | Epoch 0 | Loss: 1.6058588027954102 | Accuracy: 20.3125%\n",
            " | Epoch 0 | Loss: 1.606881856918335 | Accuracy: 21.875%\n",
            " | Epoch 0 | Loss: 1.6051687002182007 | Accuracy: 17.1875%\n",
            " | Epoch 0 | Loss: 1.6221287250518799 | Accuracy: 10.9375%\n",
            " | Epoch 0 | Loss: 1.5956645011901855 | Accuracy: 29.6875%\n",
            " | Epoch 0 | Loss: 1.6031042337417603 | Accuracy: 20.3125%\n",
            " | Epoch 0 | Loss: 1.6142756938934326 | Accuracy: 15.625%\n",
            " | Epoch 0 | Loss: 1.6073172092437744 | Accuracy: 23.4375%\n",
            " | Epoch 0 | Loss: 1.6097733974456787 | Accuracy: 18.75%\n",
            " | Epoch 0 | Loss: 1.6011700630187988 | Accuracy: 26.5625%\n",
            " | Epoch 0 | Loss: 1.6064088344573975 | Accuracy: 23.4375%\n",
            " | Epoch 0 | Loss: 1.6093143224716187 | Accuracy: 18.75%\n"
          ]
        },
        {
          "name": "stderr",
          "output_type": "stream",
          "text": [
            "Epoch 0:  19%|█▉        | 145/751 [00:01<00:03, 154.12batch/s, accuracy=18.75%, loss=1.6]   "
          ]
        },
        {
          "name": "stdout",
          "output_type": "stream",
          "text": [
            " | Epoch 0 | Loss: 1.6063222885131836 | Accuracy: 23.4375%\n",
            " | Epoch 0 | Loss: 1.6068617105484009 | Accuracy: 18.75%\n",
            " | Epoch 0 | Loss: 1.60691499710083 | Accuracy: 18.75%\n",
            " | Epoch 0 | Loss: 1.6095590591430664 | Accuracy: 17.1875%\n",
            " | Epoch 0 | Loss: 1.601125717163086 | Accuracy: 29.6875%\n",
            " | Epoch 0 | Loss: 1.6052547693252563 | Accuracy: 26.5625%\n",
            " | Epoch 0 | Loss: 1.6005336046218872 | Accuracy: 23.4375%\n",
            " | Epoch 0 | Loss: 1.6027382612228394 | Accuracy: 21.875%\n",
            " | Epoch 0 | Loss: 1.6144077777862549 | Accuracy: 15.625%\n",
            " | Epoch 0 | Loss: 1.611255407333374 | Accuracy: 20.3125%\n",
            " | Epoch 0 | Loss: 1.6074765920639038 | Accuracy: 21.875%\n",
            " | Epoch 0 | Loss: 1.6012331247329712 | Accuracy: 15.625%\n",
            " | Epoch 0 | Loss: 1.5956394672393799 | Accuracy: 28.125%\n",
            " | Epoch 0 | Loss: 1.6046338081359863 | Accuracy: 18.75%\n",
            " | Epoch 0 | Loss: 1.6027309894561768 | Accuracy: 26.5625%\n",
            " | Epoch 0 | Loss: 1.5975685119628906 | Accuracy: 31.25%\n",
            " | Epoch 0 | Loss: 1.5979772806167603 | Accuracy: 25.0%\n",
            " | Epoch 0 | Loss: 1.6032272577285767 | Accuracy: 18.75%\n",
            " | Epoch 0 | Loss: 1.6058320999145508 | Accuracy: 17.1875%\n",
            " | Epoch 0 | Loss: 1.610543131828308 | Accuracy: 20.3125%\n",
            " | Epoch 0 | Loss: 1.6066581010818481 | Accuracy: 23.4375%\n",
            " | Epoch 0 | Loss: 1.6021827459335327 | Accuracy: 21.875%\n",
            " | Epoch 0 | Loss: 1.6031265258789062 | Accuracy: 15.625%\n",
            " | Epoch 0 | Loss: 1.600462794303894 | Accuracy: 25.0%\n",
            " | Epoch 0 | Loss: 1.594226360321045 | Accuracy: 18.75%\n",
            " | Epoch 0 | Loss: 1.6000962257385254 | Accuracy: 21.875%\n",
            " | Epoch 0 | Loss: 1.6151264905929565 | Accuracy: 17.1875%\n",
            " | Epoch 0 | Loss: 1.606053113937378 | Accuracy: 15.625%\n",
            " | Epoch 0 | Loss: 1.600696086883545 | Accuracy: 20.3125%\n",
            " | Epoch 0 | Loss: 1.6051005125045776 | Accuracy: 25.0%\n",
            " | Epoch 0 | Loss: 1.6021273136138916 | Accuracy: 18.75%\n",
            " | Epoch 0 | Loss: 1.6069517135620117 | Accuracy: 23.4375%\n",
            " | Epoch 0 | Loss: 1.61088228225708 | Accuracy: 10.9375%\n"
          ]
        },
        {
          "name": "stderr",
          "output_type": "stream",
          "text": [
            "Epoch 0:  24%|██▎       | 178/751 [00:01<00:03, 156.93batch/s, accuracy=21.875%, loss=1.6]  "
          ]
        },
        {
          "name": "stdout",
          "output_type": "stream",
          "text": [
            " | Epoch 0 | Loss: 1.5998005867004395 | Accuracy: 18.75%\n",
            " | Epoch 0 | Loss: 1.6116018295288086 | Accuracy: 18.75%\n",
            " | Epoch 0 | Loss: 1.602823257446289 | Accuracy: 20.3125%\n",
            " | Epoch 0 | Loss: 1.6082391738891602 | Accuracy: 17.1875%\n",
            " | Epoch 0 | Loss: 1.6049712896347046 | Accuracy: 20.3125%\n",
            " | Epoch 0 | Loss: 1.6035652160644531 | Accuracy: 23.4375%\n",
            " | Epoch 0 | Loss: 1.606921672821045 | Accuracy: 18.75%\n",
            " | Epoch 0 | Loss: 1.603724479675293 | Accuracy: 18.75%\n",
            " | Epoch 0 | Loss: 1.6054563522338867 | Accuracy: 20.3125%\n",
            " | Epoch 0 | Loss: 1.5981929302215576 | Accuracy: 20.3125%\n",
            " | Epoch 0 | Loss: 1.5977585315704346 | Accuracy: 28.125%\n",
            " | Epoch 0 | Loss: 1.6008737087249756 | Accuracy: 18.75%\n",
            " | Epoch 0 | Loss: 1.6015117168426514 | Accuracy: 17.1875%\n",
            " | Epoch 0 | Loss: 1.6019710302352905 | Accuracy: 20.3125%\n",
            " | Epoch 0 | Loss: 1.6026442050933838 | Accuracy: 12.5%\n",
            " | Epoch 0 | Loss: 1.6035525798797607 | Accuracy: 15.625%\n",
            " | Epoch 0 | Loss: 1.6039265394210815 | Accuracy: 15.625%\n",
            " | Epoch 0 | Loss: 1.604630947113037 | Accuracy: 25.0%\n",
            " | Epoch 0 | Loss: 1.6060283184051514 | Accuracy: 17.1875%\n",
            " | Epoch 0 | Loss: 1.5982779264450073 | Accuracy: 21.875%\n",
            " | Epoch 0 | Loss: 1.6052767038345337 | Accuracy: 20.3125%\n",
            " | Epoch 0 | Loss: 1.5992506742477417 | Accuracy: 25.0%\n",
            " | Epoch 0 | Loss: 1.5944180488586426 | Accuracy: 28.125%\n",
            " | Epoch 0 | Loss: 1.5978343486785889 | Accuracy: 25.0%\n",
            " | Epoch 0 | Loss: 1.6009422540664673 | Accuracy: 20.3125%\n",
            " | Epoch 0 | Loss: 1.6042391061782837 | Accuracy: 20.3125%\n",
            " | Epoch 0 | Loss: 1.6082607507705688 | Accuracy: 21.875%\n",
            " | Epoch 0 | Loss: 1.5912704467773438 | Accuracy: 28.125%\n",
            " | Epoch 0 | Loss: 1.5984102487564087 | Accuracy: 23.4375%\n",
            " | Epoch 0 | Loss: 1.597989797592163 | Accuracy: 23.4375%\n",
            " | Epoch 0 | Loss: 1.6070445775985718 | Accuracy: 15.625%\n",
            " | Epoch 0 | Loss: 1.6050875186920166 | Accuracy: 17.1875%\n",
            " | Epoch 0 | Loss: 1.5988191366195679 | Accuracy: 21.875%\n"
          ]
        },
        {
          "name": "stderr",
          "output_type": "stream",
          "text": [
            "Epoch 0:  28%|██▊       | 212/751 [00:01<00:03, 158.83batch/s, accuracy=21.875%, loss=1.59]"
          ]
        },
        {
          "name": "stdout",
          "output_type": "stream",
          "text": [
            " | Epoch 0 | Loss: 1.6089706420898438 | Accuracy: 10.9375%\n",
            " | Epoch 0 | Loss: 1.6002421379089355 | Accuracy: 18.75%\n",
            " | Epoch 0 | Loss: 1.6019387245178223 | Accuracy: 12.5%\n",
            " | Epoch 0 | Loss: 1.5985103845596313 | Accuracy: 18.75%\n",
            " | Epoch 0 | Loss: 1.6041326522827148 | Accuracy: 14.0625%\n",
            " | Epoch 0 | Loss: 1.593578577041626 | Accuracy: 25.0%\n",
            " | Epoch 0 | Loss: 1.5964125394821167 | Accuracy: 29.6875%\n",
            " | Epoch 0 | Loss: 1.5966858863830566 | Accuracy: 21.875%\n",
            " | Epoch 0 | Loss: 1.6020745038986206 | Accuracy: 20.3125%\n",
            " | Epoch 0 | Loss: 1.6000959873199463 | Accuracy: 28.125%\n",
            " | Epoch 0 | Loss: 1.599830150604248 | Accuracy: 17.1875%\n",
            " | Epoch 0 | Loss: 1.59683096408844 | Accuracy: 25.0%\n",
            " | Epoch 0 | Loss: 1.5988352298736572 | Accuracy: 21.875%\n",
            " | Epoch 0 | Loss: 1.6020312309265137 | Accuracy: 18.75%\n",
            " | Epoch 0 | Loss: 1.5969661474227905 | Accuracy: 21.875%\n",
            " | Epoch 0 | Loss: 1.6039119958877563 | Accuracy: 14.0625%\n",
            " | Epoch 0 | Loss: 1.5934251546859741 | Accuracy: 25.0%\n",
            " | Epoch 0 | Loss: 1.5990344285964966 | Accuracy: 15.625%\n",
            " | Epoch 0 | Loss: 1.5996952056884766 | Accuracy: 12.5%\n",
            " | Epoch 0 | Loss: 1.6028099060058594 | Accuracy: 18.75%\n",
            " | Epoch 0 | Loss: 1.5981732606887817 | Accuracy: 20.3125%\n",
            " | Epoch 0 | Loss: 1.5925779342651367 | Accuracy: 26.5625%\n",
            " | Epoch 0 | Loss: 1.6017978191375732 | Accuracy: 15.625%\n",
            " | Epoch 0 | Loss: 1.5997296571731567 | Accuracy: 25.0%\n",
            " | Epoch 0 | Loss: 1.5966582298278809 | Accuracy: 20.3125%\n",
            " | Epoch 0 | Loss: 1.6055880784988403 | Accuracy: 9.375%\n",
            " | Epoch 0 | Loss: 1.5902377367019653 | Accuracy: 29.6875%\n",
            " | Epoch 0 | Loss: 1.5931528806686401 | Accuracy: 26.5625%\n",
            " | Epoch 0 | Loss: 1.593777060508728 | Accuracy: 25.0%\n",
            " | Epoch 0 | Loss: 1.6006386280059814 | Accuracy: 9.375%\n",
            " | Epoch 0 | Loss: 1.6029878854751587 | Accuracy: 21.875%\n",
            " | Epoch 0 | Loss: 1.5937682390213013 | Accuracy: 21.875%\n"
          ]
        },
        {
          "name": "stderr",
          "output_type": "stream",
          "text": [
            "Epoch 0:  32%|███▏      | 244/751 [00:01<00:03, 149.60batch/s, accuracy=18.75%, loss=1.59] "
          ]
        },
        {
          "name": "stdout",
          "output_type": "stream",
          "text": [
            " | Epoch 0 | Loss: 1.5976675748825073 | Accuracy: 23.4375%\n",
            " | Epoch 0 | Loss: 1.597303032875061 | Accuracy: 17.1875%\n",
            " | Epoch 0 | Loss: 1.5977150201797485 | Accuracy: 20.3125%\n",
            " | Epoch 0 | Loss: 1.6015206575393677 | Accuracy: 12.5%\n",
            " | Epoch 0 | Loss: 1.5945744514465332 | Accuracy: 21.875%\n",
            " | Epoch 0 | Loss: 1.5931777954101562 | Accuracy: 23.4375%\n",
            " | Epoch 0 | Loss: 1.5952140092849731 | Accuracy: 26.5625%\n",
            " | Epoch 0 | Loss: 1.5944141149520874 | Accuracy: 15.625%\n",
            " | Epoch 0 | Loss: 1.5958229303359985 | Accuracy: 17.1875%\n",
            " | Epoch 0 | Loss: 1.592104196548462 | Accuracy: 20.3125%\n",
            " | Epoch 0 | Loss: 1.5926679372787476 | Accuracy: 26.5625%\n",
            " | Epoch 0 | Loss: 1.5964524745941162 | Accuracy: 14.0625%\n",
            " | Epoch 0 | Loss: 1.601082444190979 | Accuracy: 9.375%\n",
            " | Epoch 0 | Loss: 1.5960185527801514 | Accuracy: 18.75%\n",
            " | Epoch 0 | Loss: 1.5946005582809448 | Accuracy: 21.875%\n",
            " | Epoch 0 | Loss: 1.591511607170105 | Accuracy: 20.3125%\n",
            " | Epoch 0 | Loss: 1.5871610641479492 | Accuracy: 31.25%\n",
            " | Epoch 0 | Loss: 1.6000992059707642 | Accuracy: 10.9375%\n",
            " | Epoch 0 | Loss: 1.596570611000061 | Accuracy: 17.1875%\n",
            " | Epoch 0 | Loss: 1.5915026664733887 | Accuracy: 21.875%\n",
            " | Epoch 0 | Loss: 1.591993808746338 | Accuracy: 21.875%\n",
            " | Epoch 0 | Loss: 1.598750114440918 | Accuracy: 15.625%\n",
            " | Epoch 0 | Loss: 1.5891518592834473 | Accuracy: 20.3125%\n",
            " | Epoch 0 | Loss: 1.5935341119766235 | Accuracy: 14.0625%\n",
            " | Epoch 0 | Loss: 1.5932376384735107 | Accuracy: 21.875%\n",
            " | Epoch 0 | Loss: 1.5885841846466064 | Accuracy: 26.5625%\n",
            " | Epoch 0 | Loss: 1.5903958082199097 | Accuracy: 20.3125%\n",
            " | Epoch 0 | Loss: 1.5895256996154785 | Accuracy: 21.875%\n"
          ]
        },
        {
          "name": "stderr",
          "output_type": "stream",
          "text": [
            "Epoch 0:  37%|███▋      | 277/751 [00:02<00:03, 154.31batch/s, accuracy=37.5%, loss=1.58] "
          ]
        },
        {
          "name": "stdout",
          "output_type": "stream",
          "text": [
            " | Epoch 0 | Loss: 1.5899242162704468 | Accuracy: 18.75%\n",
            " | Epoch 0 | Loss: 1.5884662866592407 | Accuracy: 25.0%\n",
            " | Epoch 0 | Loss: 1.5909684896469116 | Accuracy: 17.1875%\n",
            " | Epoch 0 | Loss: 1.5902215242385864 | Accuracy: 18.75%\n",
            " | Epoch 0 | Loss: 1.5888583660125732 | Accuracy: 18.75%\n",
            " | Epoch 0 | Loss: 1.592403531074524 | Accuracy: 10.9375%\n",
            " | Epoch 0 | Loss: 1.5911692380905151 | Accuracy: 17.1875%\n",
            " | Epoch 0 | Loss: 1.591410517692566 | Accuracy: 7.8125%\n",
            " | Epoch 0 | Loss: 1.5920507907867432 | Accuracy: 18.75%\n",
            " | Epoch 0 | Loss: 1.5937517881393433 | Accuracy: 17.1875%\n",
            " | Epoch 0 | Loss: 1.586242914199829 | Accuracy: 25.0%\n",
            " | Epoch 0 | Loss: 1.5899255275726318 | Accuracy: 15.625%\n",
            " | Epoch 0 | Loss: 1.5849887132644653 | Accuracy: 26.5625%\n",
            " | Epoch 0 | Loss: 1.581115484237671 | Accuracy: 35.9375%\n",
            " | Epoch 0 | Loss: 1.5879764556884766 | Accuracy: 23.4375%\n",
            " | Epoch 0 | Loss: 1.5893685817718506 | Accuracy: 21.875%\n",
            " | Epoch 0 | Loss: 1.5846141576766968 | Accuracy: 20.3125%\n",
            " | Epoch 0 | Loss: 1.5870453119277954 | Accuracy: 25.0%\n",
            " | Epoch 0 | Loss: 1.5839687585830688 | Accuracy: 31.25%\n",
            " | Epoch 0 | Loss: 1.5847893953323364 | Accuracy: 29.6875%\n",
            " | Epoch 0 | Loss: 1.5843784809112549 | Accuracy: 26.5625%\n",
            " | Epoch 0 | Loss: 1.5868134498596191 | Accuracy: 26.5625%\n",
            " | Epoch 0 | Loss: 1.5839837789535522 | Accuracy: 25.0%\n",
            " | Epoch 0 | Loss: 1.5809699296951294 | Accuracy: 34.375%\n",
            " | Epoch 0 | Loss: 1.586403250694275 | Accuracy: 28.125%\n",
            " | Epoch 0 | Loss: 1.590506911277771 | Accuracy: 23.4375%\n",
            " | Epoch 0 | Loss: 1.5886077880859375 | Accuracy: 23.4375%\n",
            " | Epoch 0 | Loss: 1.5834966897964478 | Accuracy: 34.375%\n",
            " | Epoch 0 | Loss: 1.586549162864685 | Accuracy: 28.125%\n",
            " | Epoch 0 | Loss: 1.5837657451629639 | Accuracy: 28.125%\n",
            " | Epoch 0 | Loss: 1.585403561592102 | Accuracy: 31.25%\n",
            " | Epoch 0 | Loss: 1.5869576930999756 | Accuracy: 31.25%\n",
            " | Epoch 0 | Loss: 1.5816829204559326 | Accuracy: 37.5%\n"
          ]
        },
        {
          "name": "stderr",
          "output_type": "stream",
          "text": [
            "Epoch 0:  41%|████▏     | 310/751 [00:02<00:02, 156.53batch/s, accuracy=45.3125%, loss=1.57]"
          ]
        },
        {
          "name": "stdout",
          "output_type": "stream",
          "text": [
            " | Epoch 0 | Loss: 1.583587884902954 | Accuracy: 34.375%\n",
            " | Epoch 0 | Loss: 1.5842406749725342 | Accuracy: 32.8125%\n",
            " | Epoch 0 | Loss: 1.5813523530960083 | Accuracy: 34.375%\n",
            " | Epoch 0 | Loss: 1.5840545892715454 | Accuracy: 23.4375%\n",
            " | Epoch 0 | Loss: 1.5803930759429932 | Accuracy: 32.8125%\n",
            " | Epoch 0 | Loss: 1.5843896865844727 | Accuracy: 28.125%\n",
            " | Epoch 0 | Loss: 1.5803836584091187 | Accuracy: 35.9375%\n",
            " | Epoch 0 | Loss: 1.5802528858184814 | Accuracy: 39.0625%\n",
            " | Epoch 0 | Loss: 1.5819367170333862 | Accuracy: 32.8125%\n",
            " | Epoch 0 | Loss: 1.5801405906677246 | Accuracy: 39.0625%\n",
            " | Epoch 0 | Loss: 1.5813521146774292 | Accuracy: 26.5625%\n",
            " | Epoch 0 | Loss: 1.5767725706100464 | Accuracy: 39.0625%\n",
            " | Epoch 0 | Loss: 1.5792453289031982 | Accuracy: 34.375%\n",
            " | Epoch 0 | Loss: 1.5770111083984375 | Accuracy: 35.9375%\n",
            " | Epoch 0 | Loss: 1.5771996974945068 | Accuracy: 32.8125%\n",
            " | Epoch 0 | Loss: 1.5759572982788086 | Accuracy: 29.6875%\n",
            " | Epoch 0 | Loss: 1.58018958568573 | Accuracy: 29.6875%\n",
            " | Epoch 0 | Loss: 1.5756860971450806 | Accuracy: 35.9375%\n",
            " | Epoch 0 | Loss: 1.5747936964035034 | Accuracy: 42.1875%\n",
            " | Epoch 0 | Loss: 1.5774081945419312 | Accuracy: 31.25%\n",
            " | Epoch 0 | Loss: 1.5740200281143188 | Accuracy: 43.75%\n",
            " | Epoch 0 | Loss: 1.574704647064209 | Accuracy: 31.25%\n",
            " | Epoch 0 | Loss: 1.5692588090896606 | Accuracy: 45.3125%\n",
            " | Epoch 0 | Loss: 1.5711017847061157 | Accuracy: 42.1875%\n",
            " | Epoch 0 | Loss: 1.572801947593689 | Accuracy: 46.875%\n",
            " | Epoch 0 | Loss: 1.574245572090149 | Accuracy: 39.0625%\n",
            " | Epoch 0 | Loss: 1.5697274208068848 | Accuracy: 37.5%\n",
            " | Epoch 0 | Loss: 1.575906753540039 | Accuracy: 29.6875%\n",
            " | Epoch 0 | Loss: 1.5677279233932495 | Accuracy: 39.0625%\n",
            " | Epoch 0 | Loss: 1.5714977979660034 | Accuracy: 40.625%\n",
            " | Epoch 0 | Loss: 1.5673532485961914 | Accuracy: 40.625%\n",
            " | Epoch 0 | Loss: 1.5687401294708252 | Accuracy: 45.3125%\n"
          ]
        },
        {
          "name": "stderr",
          "output_type": "stream",
          "text": [
            "Epoch 0:  46%|████▌     | 343/751 [00:02<00:02, 159.96batch/s, accuracy=34.375%, loss=1.54] "
          ]
        },
        {
          "name": "stdout",
          "output_type": "stream",
          "text": [
            " | Epoch 0 | Loss: 1.5668530464172363 | Accuracy: 40.625%\n",
            " | Epoch 0 | Loss: 1.5693451166152954 | Accuracy: 34.375%\n",
            " | Epoch 0 | Loss: 1.5644632577896118 | Accuracy: 40.625%\n",
            " | Epoch 0 | Loss: 1.5655733346939087 | Accuracy: 48.4375%\n",
            " | Epoch 0 | Loss: 1.568274736404419 | Accuracy: 43.75%\n",
            " | Epoch 0 | Loss: 1.560745358467102 | Accuracy: 35.9375%\n",
            " | Epoch 0 | Loss: 1.5634123086929321 | Accuracy: 35.9375%\n",
            " | Epoch 0 | Loss: 1.5666835308074951 | Accuracy: 51.5625%\n",
            " | Epoch 0 | Loss: 1.563790202140808 | Accuracy: 34.375%\n",
            " | Epoch 0 | Loss: 1.56688392162323 | Accuracy: 45.3125%\n",
            " | Epoch 0 | Loss: 1.5615754127502441 | Accuracy: 28.125%\n",
            " | Epoch 0 | Loss: 1.563100814819336 | Accuracy: 39.0625%\n",
            " | Epoch 0 | Loss: 1.5588843822479248 | Accuracy: 40.625%\n",
            " | Epoch 0 | Loss: 1.5624831914901733 | Accuracy: 35.9375%\n",
            " | Epoch 0 | Loss: 1.5561888217926025 | Accuracy: 46.875%\n",
            " | Epoch 0 | Loss: 1.5595874786376953 | Accuracy: 34.375%\n",
            " | Epoch 0 | Loss: 1.5609476566314697 | Accuracy: 46.875%\n",
            " | Epoch 0 | Loss: 1.5548055171966553 | Accuracy: 43.75%\n",
            " | Epoch 0 | Loss: 1.5585745573043823 | Accuracy: 31.25%\n",
            " | Epoch 0 | Loss: 1.5542510747909546 | Accuracy: 39.0625%\n",
            " | Epoch 0 | Loss: 1.5542362928390503 | Accuracy: 42.1875%\n",
            " | Epoch 0 | Loss: 1.5508265495300293 | Accuracy: 45.3125%\n",
            " | Epoch 0 | Loss: 1.552217721939087 | Accuracy: 45.3125%\n",
            " | Epoch 0 | Loss: 1.5545313358306885 | Accuracy: 50.0%\n",
            " | Epoch 0 | Loss: 1.5459885597229004 | Accuracy: 53.125%\n",
            " | Epoch 0 | Loss: 1.5528920888900757 | Accuracy: 31.25%\n",
            " | Epoch 0 | Loss: 1.546757698059082 | Accuracy: 50.0%\n",
            " | Epoch 0 | Loss: 1.5453542470932007 | Accuracy: 37.5%\n",
            " | Epoch 0 | Loss: 1.5519561767578125 | Accuracy: 40.625%\n",
            " | Epoch 0 | Loss: 1.5562074184417725 | Accuracy: 29.6875%\n",
            " | Epoch 0 | Loss: 1.5424202680587769 | Accuracy: 39.0625%\n",
            " | Epoch 0 | Loss: 1.5390141010284424 | Accuracy: 51.5625%\n",
            " | Epoch 0 | Loss: 1.5437802076339722 | Accuracy: 35.9375%\n",
            " | Epoch 0 | Loss: 1.5447427034378052 | Accuracy: 34.375%\n"
          ]
        },
        {
          "name": "stderr",
          "output_type": "stream",
          "text": [
            "Epoch 0:  50%|█████     | 377/751 [00:02<00:02, 160.25batch/s, accuracy=48.4375%, loss=1.49]"
          ]
        },
        {
          "name": "stdout",
          "output_type": "stream",
          "text": [
            " | Epoch 0 | Loss: 1.5378086566925049 | Accuracy: 42.1875%\n",
            " | Epoch 0 | Loss: 1.5327495336532593 | Accuracy: 51.5625%\n",
            " | Epoch 0 | Loss: 1.5417648553848267 | Accuracy: 35.9375%\n",
            " | Epoch 0 | Loss: 1.535814642906189 | Accuracy: 37.5%\n",
            " | Epoch 0 | Loss: 1.5295668840408325 | Accuracy: 34.375%\n",
            " | Epoch 0 | Loss: 1.535443902015686 | Accuracy: 37.5%\n",
            " | Epoch 0 | Loss: 1.5345391035079956 | Accuracy: 40.625%\n",
            " | Epoch 0 | Loss: 1.532944917678833 | Accuracy: 35.9375%\n",
            " | Epoch 0 | Loss: 1.5271466970443726 | Accuracy: 40.625%\n",
            " | Epoch 0 | Loss: 1.525553822517395 | Accuracy: 43.75%\n",
            " | Epoch 0 | Loss: 1.527784824371338 | Accuracy: 40.625%\n",
            " | Epoch 0 | Loss: 1.5200507640838623 | Accuracy: 57.8125%\n",
            " | Epoch 0 | Loss: 1.5242633819580078 | Accuracy: 45.3125%\n",
            " | Epoch 0 | Loss: 1.5223220586776733 | Accuracy: 45.3125%\n",
            " | Epoch 0 | Loss: 1.5186302661895752 | Accuracy: 29.6875%\n",
            " | Epoch 0 | Loss: 1.5062140226364136 | Accuracy: 53.125%\n",
            " | Epoch 0 | Loss: 1.5183279514312744 | Accuracy: 35.9375%\n",
            " | Epoch 0 | Loss: 1.5134203433990479 | Accuracy: 32.8125%\n",
            " | Epoch 0 | Loss: 1.5154273509979248 | Accuracy: 48.4375%\n",
            " | Epoch 0 | Loss: 1.5187057256698608 | Accuracy: 42.1875%\n",
            " | Epoch 0 | Loss: 1.5110260248184204 | Accuracy: 40.625%\n",
            " | Epoch 0 | Loss: 1.5150632858276367 | Accuracy: 42.1875%\n",
            " | Epoch 0 | Loss: 1.5043590068817139 | Accuracy: 54.6875%\n",
            " | Epoch 0 | Loss: 1.5044444799423218 | Accuracy: 37.5%\n",
            " | Epoch 0 | Loss: 1.5023797750473022 | Accuracy: 51.5625%\n",
            " | Epoch 0 | Loss: 1.4976427555084229 | Accuracy: 40.625%\n",
            " | Epoch 0 | Loss: 1.5025150775909424 | Accuracy: 48.4375%\n",
            " | Epoch 0 | Loss: 1.4976615905761719 | Accuracy: 42.1875%\n",
            " | Epoch 0 | Loss: 1.4819190502166748 | Accuracy: 48.4375%\n",
            " | Epoch 0 | Loss: 1.4891648292541504 | Accuracy: 50.0%\n",
            " | Epoch 0 | Loss: 1.480249047279358 | Accuracy: 45.3125%\n",
            " | Epoch 0 | Loss: 1.4908806085586548 | Accuracy: 48.4375%\n"
          ]
        },
        {
          "name": "stderr",
          "output_type": "stream",
          "text": [
            "Epoch 0:  55%|█████▍    | 410/751 [00:02<00:02, 153.25batch/s, accuracy=39.0625%, loss=1.36]"
          ]
        },
        {
          "name": "stdout",
          "output_type": "stream",
          "text": [
            " | Epoch 0 | Loss: 1.4802831411361694 | Accuracy: 42.1875%\n",
            " | Epoch 0 | Loss: 1.483237385749817 | Accuracy: 45.3125%\n",
            " | Epoch 0 | Loss: 1.4686002731323242 | Accuracy: 54.6875%\n",
            " | Epoch 0 | Loss: 1.4696974754333496 | Accuracy: 50.0%\n",
            " | Epoch 0 | Loss: 1.4758756160736084 | Accuracy: 56.25%\n",
            " | Epoch 0 | Loss: 1.4555044174194336 | Accuracy: 56.25%\n",
            " | Epoch 0 | Loss: 1.4603382349014282 | Accuracy: 45.3125%\n",
            " | Epoch 0 | Loss: 1.446581482887268 | Accuracy: 56.25%\n",
            " | Epoch 0 | Loss: 1.4507215023040771 | Accuracy: 56.25%\n",
            " | Epoch 0 | Loss: 1.4635930061340332 | Accuracy: 35.9375%\n",
            " | Epoch 0 | Loss: 1.456497311592102 | Accuracy: 35.9375%\n",
            " | Epoch 0 | Loss: 1.4370970726013184 | Accuracy: 40.625%\n",
            " | Epoch 0 | Loss: 1.439124584197998 | Accuracy: 43.75%\n",
            " | Epoch 0 | Loss: 1.4275054931640625 | Accuracy: 54.6875%\n",
            " | Epoch 0 | Loss: 1.442057728767395 | Accuracy: 46.875%\n",
            " | Epoch 0 | Loss: 1.4249285459518433 | Accuracy: 40.625%\n",
            " | Epoch 0 | Loss: 1.42934250831604 | Accuracy: 35.9375%\n",
            " | Epoch 0 | Loss: 1.4240851402282715 | Accuracy: 32.8125%\n",
            " | Epoch 0 | Loss: 1.4105654954910278 | Accuracy: 42.1875%\n",
            " | Epoch 0 | Loss: 1.412748098373413 | Accuracy: 45.3125%\n",
            " | Epoch 0 | Loss: 1.4214544296264648 | Accuracy: 32.8125%\n",
            " | Epoch 0 | Loss: 1.405118465423584 | Accuracy: 42.1875%\n",
            " | Epoch 0 | Loss: 1.4072834253311157 | Accuracy: 43.75%\n",
            " | Epoch 0 | Loss: 1.3973232507705688 | Accuracy: 32.8125%\n",
            " | Epoch 0 | Loss: 1.3950603008270264 | Accuracy: 39.0625%\n",
            " | Epoch 0 | Loss: 1.380090594291687 | Accuracy: 35.9375%\n",
            " | Epoch 0 | Loss: 1.3745256662368774 | Accuracy: 37.5%\n",
            " | Epoch 0 | Loss: 1.364388346672058 | Accuracy: 43.75%\n",
            " | Epoch 0 | Loss: 1.3671799898147583 | Accuracy: 39.0625%\n",
            " | Epoch 0 | Loss: 1.3574045896530151 | Accuracy: 39.0625%\n"
          ]
        },
        {
          "name": "stderr",
          "output_type": "stream",
          "text": [
            "Epoch 0:  59%|█████▉    | 443/751 [00:03<00:01, 156.32batch/s, accuracy=50.0%, loss=1.11]"
          ]
        },
        {
          "name": "stdout",
          "output_type": "stream",
          "text": [
            " | Epoch 0 | Loss: 1.3504871129989624 | Accuracy: 45.3125%\n",
            " | Epoch 0 | Loss: 1.3364671468734741 | Accuracy: 45.3125%\n",
            " | Epoch 0 | Loss: 1.3243842124938965 | Accuracy: 43.75%\n",
            " | Epoch 0 | Loss: 1.3287012577056885 | Accuracy: 40.625%\n",
            " | Epoch 0 | Loss: 1.3101762533187866 | Accuracy: 46.875%\n",
            " | Epoch 0 | Loss: 1.3196688890457153 | Accuracy: 43.75%\n",
            " | Epoch 0 | Loss: 1.2951061725616455 | Accuracy: 50.0%\n",
            " | Epoch 0 | Loss: 1.2993723154067993 | Accuracy: 42.1875%\n",
            " | Epoch 0 | Loss: 1.267594814300537 | Accuracy: 54.6875%\n",
            " | Epoch 0 | Loss: 1.2930231094360352 | Accuracy: 34.375%\n",
            " | Epoch 0 | Loss: 1.2784874439239502 | Accuracy: 43.75%\n",
            " | Epoch 0 | Loss: 1.2538272142410278 | Accuracy: 53.125%\n",
            " | Epoch 0 | Loss: 1.2711689472198486 | Accuracy: 39.0625%\n",
            " | Epoch 0 | Loss: 1.2356135845184326 | Accuracy: 45.3125%\n",
            " | Epoch 0 | Loss: 1.2494628429412842 | Accuracy: 31.25%\n",
            " | Epoch 0 | Loss: 1.2378827333450317 | Accuracy: 29.6875%\n",
            " | Epoch 0 | Loss: 1.2284194231033325 | Accuracy: 45.3125%\n",
            " | Epoch 0 | Loss: 1.245473861694336 | Accuracy: 43.75%\n",
            " | Epoch 0 | Loss: 1.2004411220550537 | Accuracy: 43.75%\n",
            " | Epoch 0 | Loss: 1.1962648630142212 | Accuracy: 37.5%\n",
            " | Epoch 0 | Loss: 1.1765693426132202 | Accuracy: 53.125%\n",
            " | Epoch 0 | Loss: 1.2159323692321777 | Accuracy: 18.75%\n",
            " | Epoch 0 | Loss: 1.15351140499115 | Accuracy: 45.3125%\n",
            " | Epoch 0 | Loss: 1.1489112377166748 | Accuracy: 46.875%\n",
            " | Epoch 0 | Loss: 1.1466450691223145 | Accuracy: 42.1875%\n",
            " | Epoch 0 | Loss: 1.1083691120147705 | Accuracy: 53.125%\n",
            " | Epoch 0 | Loss: 1.1373058557510376 | Accuracy: 43.75%\n",
            " | Epoch 0 | Loss: 1.0993709564208984 | Accuracy: 60.9375%\n",
            " | Epoch 0 | Loss: 1.1403911113739014 | Accuracy: 51.5625%\n",
            " | Epoch 0 | Loss: 1.0919644832611084 | Accuracy: 62.5%\n",
            " | Epoch 0 | Loss: 1.0852010250091553 | Accuracy: 59.375%\n",
            " | Epoch 0 | Loss: 1.0727938413619995 | Accuracy: 62.5%\n",
            " | Epoch 0 | Loss: 1.1066139936447144 | Accuracy: 50.0%\n"
          ]
        },
        {
          "name": "stderr",
          "output_type": "stream",
          "text": [
            "Epoch 0:  63%|██████▎   | 476/751 [00:03<00:01, 157.34batch/s, accuracy=56.25%, loss=0.863]"
          ]
        },
        {
          "name": "stdout",
          "output_type": "stream",
          "text": [
            " | Epoch 0 | Loss: 1.0441163778305054 | Accuracy: 59.375%\n",
            " | Epoch 0 | Loss: 1.0298187732696533 | Accuracy: 62.5%\n",
            " | Epoch 0 | Loss: 1.010230302810669 | Accuracy: 54.6875%\n",
            " | Epoch 0 | Loss: 1.009063720703125 | Accuracy: 65.625%\n",
            " | Epoch 0 | Loss: 1.0353364944458008 | Accuracy: 75.0%\n",
            " | Epoch 0 | Loss: 1.0149598121643066 | Accuracy: 71.875%\n",
            " | Epoch 0 | Loss: 1.0199798345565796 | Accuracy: 68.75%\n",
            " | Epoch 0 | Loss: 0.9627789258956909 | Accuracy: 78.125%\n",
            " | Epoch 0 | Loss: 0.9687120318412781 | Accuracy: 75.0%\n",
            " | Epoch 0 | Loss: 0.9840781688690186 | Accuracy: 64.0625%\n",
            " | Epoch 0 | Loss: 0.966990053653717 | Accuracy: 67.1875%\n",
            " | Epoch 0 | Loss: 0.9751157760620117 | Accuracy: 65.625%\n",
            " | Epoch 0 | Loss: 0.9394450783729553 | Accuracy: 71.875%\n",
            " | Epoch 0 | Loss: 0.917853057384491 | Accuracy: 76.5625%\n",
            " | Epoch 0 | Loss: 0.9182906150817871 | Accuracy: 64.0625%\n",
            " | Epoch 0 | Loss: 0.9054025411605835 | Accuracy: 53.125%\n",
            " | Epoch 0 | Loss: 0.92943274974823 | Accuracy: 59.375%\n",
            " | Epoch 0 | Loss: 0.8896917104721069 | Accuracy: 64.0625%\n",
            " | Epoch 0 | Loss: 0.8848394751548767 | Accuracy: 67.1875%\n",
            " | Epoch 0 | Loss: 0.840986967086792 | Accuracy: 78.125%\n",
            " | Epoch 0 | Loss: 0.8879427313804626 | Accuracy: 76.5625%\n",
            " | Epoch 0 | Loss: 0.8456522822380066 | Accuracy: 70.3125%\n",
            " | Epoch 0 | Loss: 0.8348367810249329 | Accuracy: 71.875%\n",
            " | Epoch 0 | Loss: 0.8487681746482849 | Accuracy: 75.0%\n",
            " | Epoch 0 | Loss: 0.8337621092796326 | Accuracy: 68.75%\n",
            " | Epoch 0 | Loss: 0.7823060154914856 | Accuracy: 84.375%\n",
            " | Epoch 0 | Loss: 0.7989287376403809 | Accuracy: 73.4375%\n",
            " | Epoch 0 | Loss: 0.8294320702552795 | Accuracy: 70.3125%\n",
            " | Epoch 0 | Loss: 0.8291940689086914 | Accuracy: 68.75%\n",
            " | Epoch 0 | Loss: 0.7723636031150818 | Accuracy: 65.625%\n",
            " | Epoch 0 | Loss: 0.7699576020240784 | Accuracy: 59.375%\n",
            " | Epoch 0 | Loss: 0.8632652759552002 | Accuracy: 56.25%\n"
          ]
        },
        {
          "name": "stderr",
          "output_type": "stream",
          "text": [
            "Epoch 0:  68%|██████▊   | 510/751 [00:03<00:01, 158.13batch/s, accuracy=78.125%, loss=0.522]"
          ]
        },
        {
          "name": "stdout",
          "output_type": "stream",
          "text": [
            " | Epoch 0 | Loss: 0.7448533177375793 | Accuracy: 70.3125%\n",
            " | Epoch 0 | Loss: 0.8071594834327698 | Accuracy: 62.5%\n",
            " | Epoch 0 | Loss: 0.7509750723838806 | Accuracy: 60.9375%\n",
            " | Epoch 0 | Loss: 0.8535690903663635 | Accuracy: 53.125%\n",
            " | Epoch 0 | Loss: 0.7428327798843384 | Accuracy: 60.9375%\n",
            " | Epoch 0 | Loss: 0.703321635723114 | Accuracy: 84.375%\n",
            " | Epoch 0 | Loss: 0.7185097932815552 | Accuracy: 78.125%\n",
            " | Epoch 0 | Loss: 0.690482497215271 | Accuracy: 87.5%\n",
            " | Epoch 0 | Loss: 0.7087886333465576 | Accuracy: 79.6875%\n",
            " | Epoch 0 | Loss: 0.6649662256240845 | Accuracy: 84.375%\n",
            " | Epoch 0 | Loss: 0.6870564818382263 | Accuracy: 79.6875%\n",
            " | Epoch 0 | Loss: 0.6639364957809448 | Accuracy: 84.375%\n",
            " | Epoch 0 | Loss: 0.6548457145690918 | Accuracy: 85.9375%\n",
            " | Epoch 0 | Loss: 0.6232472062110901 | Accuracy: 89.0625%\n",
            " | Epoch 0 | Loss: 0.6563016176223755 | Accuracy: 85.9375%\n",
            " | Epoch 0 | Loss: 0.5984916687011719 | Accuracy: 92.1875%\n",
            " | Epoch 0 | Loss: 0.6039507985115051 | Accuracy: 89.0625%\n",
            " | Epoch 0 | Loss: 0.6103183031082153 | Accuracy: 85.9375%\n",
            " | Epoch 0 | Loss: 0.6280758380889893 | Accuracy: 79.6875%\n",
            " | Epoch 0 | Loss: 0.6234140396118164 | Accuracy: 73.4375%\n",
            " | Epoch 0 | Loss: 0.7070899605751038 | Accuracy: 75.0%\n",
            " | Epoch 0 | Loss: 0.5599148273468018 | Accuracy: 81.25%\n",
            " | Epoch 0 | Loss: 0.5238996148109436 | Accuracy: 82.8125%\n",
            " | Epoch 0 | Loss: 0.6429038047790527 | Accuracy: 71.875%\n",
            " | Epoch 0 | Loss: 0.5329595804214478 | Accuracy: 76.5625%\n",
            " | Epoch 0 | Loss: 0.5872458219528198 | Accuracy: 70.3125%\n",
            " | Epoch 0 | Loss: 0.5091841816902161 | Accuracy: 84.375%\n",
            " | Epoch 0 | Loss: 0.6553663015365601 | Accuracy: 70.3125%\n",
            " | Epoch 0 | Loss: 0.5754265189170837 | Accuracy: 73.4375%\n",
            " | Epoch 0 | Loss: 0.6778714656829834 | Accuracy: 78.125%\n",
            " | Epoch 0 | Loss: 0.585239052772522 | Accuracy: 76.5625%\n",
            " | Epoch 0 | Loss: 0.48163825273513794 | Accuracy: 89.0625%\n",
            " | Epoch 0 | Loss: 0.5218178629875183 | Accuracy: 78.125%\n"
          ]
        },
        {
          "name": "stderr",
          "output_type": "stream",
          "text": [
            "Epoch 0:  72%|███████▏  | 543/751 [00:03<00:01, 159.47batch/s, accuracy=92.1875%, loss=0.415]"
          ]
        },
        {
          "name": "stdout",
          "output_type": "stream",
          "text": [
            " | Epoch 0 | Loss: 0.5349596738815308 | Accuracy: 78.125%\n",
            " | Epoch 0 | Loss: 0.5371863842010498 | Accuracy: 82.8125%\n",
            " | Epoch 0 | Loss: 0.5991235375404358 | Accuracy: 81.25%\n",
            " | Epoch 0 | Loss: 0.4773852825164795 | Accuracy: 90.625%\n",
            " | Epoch 0 | Loss: 0.4921107292175293 | Accuracy: 85.9375%\n",
            " | Epoch 0 | Loss: 0.49381810426712036 | Accuracy: 92.1875%\n",
            " | Epoch 0 | Loss: 0.5756543874740601 | Accuracy: 85.9375%\n",
            " | Epoch 0 | Loss: 0.5959405899047852 | Accuracy: 85.9375%\n",
            " | Epoch 0 | Loss: 0.4805947542190552 | Accuracy: 90.625%\n",
            " | Epoch 0 | Loss: 0.5401673316955566 | Accuracy: 82.8125%\n",
            " | Epoch 0 | Loss: 0.45255833864212036 | Accuracy: 92.1875%\n",
            " | Epoch 0 | Loss: 0.47454968094825745 | Accuracy: 92.1875%\n",
            " | Epoch 0 | Loss: 0.43981605768203735 | Accuracy: 85.9375%\n",
            " | Epoch 0 | Loss: 0.4286782443523407 | Accuracy: 93.75%\n",
            " | Epoch 0 | Loss: 0.482960045337677 | Accuracy: 84.375%\n",
            " | Epoch 0 | Loss: 0.7140041589736938 | Accuracy: 89.0625%\n",
            " | Epoch 0 | Loss: 0.3911294937133789 | Accuracy: 93.75%\n",
            " | Epoch 0 | Loss: 0.625331699848175 | Accuracy: 89.0625%\n",
            " | Epoch 0 | Loss: 0.3541291058063507 | Accuracy: 93.75%\n",
            " | Epoch 0 | Loss: 0.6362348198890686 | Accuracy: 87.5%\n",
            " | Epoch 0 | Loss: 0.6488170027732849 | Accuracy: 89.0625%\n",
            " | Epoch 0 | Loss: 0.4039723873138428 | Accuracy: 92.1875%\n",
            " | Epoch 0 | Loss: 0.36567211151123047 | Accuracy: 92.1875%\n",
            " | Epoch 0 | Loss: 0.40494975447654724 | Accuracy: 90.625%\n",
            " | Epoch 0 | Loss: 0.4019879996776581 | Accuracy: 89.0625%\n",
            " | Epoch 0 | Loss: 0.38433682918548584 | Accuracy: 84.375%\n",
            " | Epoch 0 | Loss: 0.40327414870262146 | Accuracy: 85.9375%\n",
            " | Epoch 0 | Loss: 0.36198171973228455 | Accuracy: 95.3125%\n",
            " | Epoch 0 | Loss: 0.446889728307724 | Accuracy: 82.8125%\n",
            " | Epoch 0 | Loss: 0.3810974061489105 | Accuracy: 95.3125%\n",
            " | Epoch 0 | Loss: 0.38442862033843994 | Accuracy: 87.5%\n",
            " | Epoch 0 | Loss: 0.4269460141658783 | Accuracy: 85.9375%\n",
            " | Epoch 0 | Loss: 0.4151245355606079 | Accuracy: 92.1875%\n"
          ]
        },
        {
          "name": "stderr",
          "output_type": "stream",
          "text": [
            "Epoch 0:  74%|███████▍  | 559/751 [00:03<00:01, 151.61batch/s, accuracy=92.1875%, loss=0.262]"
          ]
        },
        {
          "name": "stdout",
          "output_type": "stream",
          "text": [
            " | Epoch 0 | Loss: 0.3244434893131256 | Accuracy: 95.3125%\n",
            " | Epoch 0 | Loss: 0.35005983710289 | Accuracy: 92.1875%\n",
            " | Epoch 0 | Loss: 0.3045055568218231 | Accuracy: 92.1875%\n",
            " | Epoch 0 | Loss: 0.3272119164466858 | Accuracy: 93.75%\n",
            " | Epoch 0 | Loss: 0.41677042841911316 | Accuracy: 79.6875%\n",
            " | Epoch 0 | Loss: 0.4518111050128937 | Accuracy: 84.375%\n",
            " | Epoch 0 | Loss: 0.4121513366699219 | Accuracy: 89.0625%\n",
            " | Epoch 0 | Loss: 0.4028155505657196 | Accuracy: 87.5%\n",
            " | Epoch 0 | Loss: 0.34313538670539856 | Accuracy: 92.1875%\n",
            " | Epoch 0 | Loss: 0.3614136874675751 | Accuracy: 90.625%\n",
            " | Epoch 0 | Loss: 0.2965177297592163 | Accuracy: 93.75%\n",
            " | Epoch 0 | Loss: 0.3330627679824829 | Accuracy: 92.1875%\n",
            " | Epoch 0 | Loss: 0.29673394560813904 | Accuracy: 92.1875%\n",
            " | Epoch 0 | Loss: 0.3215164542198181 | Accuracy: 93.75%\n",
            " | Epoch 0 | Loss: 0.3742707669734955 | Accuracy: 87.5%\n",
            " | Epoch 0 | Loss: 0.3621182441711426 | Accuracy: 82.8125%\n",
            " | Epoch 0 | Loss: 0.28537458181381226 | Accuracy: 95.3125%\n",
            " | Epoch 0 | Loss: 0.3263908922672272 | Accuracy: 90.625%\n",
            " | Epoch 0 | Loss: 0.31801044940948486 | Accuracy: 92.1875%\n",
            " | Epoch 0 | Loss: 0.278104692697525 | Accuracy: 93.75%\n",
            " | Epoch 0 | Loss: 0.5279058814048767 | Accuracy: 89.0625%\n",
            " | Epoch 0 | Loss: 0.3147909939289093 | Accuracy: 92.1875%\n",
            " | Epoch 0 | Loss: 0.30079951882362366 | Accuracy: 89.0625%\n",
            " | Epoch 0 | Loss: 0.4381956160068512 | Accuracy: 89.0625%\n",
            " | Epoch 0 | Loss: 0.28666093945503235 | Accuracy: 93.75%\n",
            " | Epoch 0 | Loss: 0.2865297794342041 | Accuracy: 92.1875%\n",
            " | Epoch 0 | Loss: 0.31750378012657166 | Accuracy: 90.625%\n",
            " | Epoch 0 | Loss: 0.2688369154930115 | Accuracy: 95.3125%\n",
            " | Epoch 0 | Loss: 0.5053055882453918 | Accuracy: 90.625%\n",
            " | Epoch 0 | Loss: 0.26180538535118103 | Accuracy: 92.1875%\n"
          ]
        },
        {
          "name": "stderr",
          "output_type": "stream",
          "text": [
            "Epoch 0:  79%|███████▉  | 592/751 [00:04<00:01, 155.09batch/s, accuracy=96.875%, loss=0.171]"
          ]
        },
        {
          "name": "stdout",
          "output_type": "stream",
          "text": [
            " | Epoch 0 | Loss: 0.31081077456474304 | Accuracy: 90.625%\n",
            " | Epoch 0 | Loss: 0.21836084127426147 | Accuracy: 98.4375%\n",
            " | Epoch 0 | Loss: 0.2258833944797516 | Accuracy: 96.875%\n",
            " | Epoch 0 | Loss: 0.26131975650787354 | Accuracy: 93.75%\n",
            " | Epoch 0 | Loss: 0.34282931685447693 | Accuracy: 90.625%\n",
            " | Epoch 0 | Loss: 0.275799036026001 | Accuracy: 92.1875%\n",
            " | Epoch 0 | Loss: 0.2953062653541565 | Accuracy: 87.5%\n",
            " | Epoch 0 | Loss: 0.2796669900417328 | Accuracy: 93.75%\n",
            " | Epoch 0 | Loss: 0.2707207500934601 | Accuracy: 98.4375%\n",
            " | Epoch 0 | Loss: 0.2814517617225647 | Accuracy: 92.1875%\n",
            " | Epoch 0 | Loss: 0.2768917381763458 | Accuracy: 95.3125%\n",
            " | Epoch 0 | Loss: 0.3101250231266022 | Accuracy: 90.625%\n",
            " | Epoch 0 | Loss: 0.20979240536689758 | Accuracy: 93.75%\n",
            " | Epoch 0 | Loss: 0.21481311321258545 | Accuracy: 93.75%\n",
            " | Epoch 0 | Loss: 0.28753066062927246 | Accuracy: 92.1875%\n",
            " | Epoch 0 | Loss: 0.22174157202243805 | Accuracy: 96.875%\n",
            " | Epoch 0 | Loss: 0.19891470670700073 | Accuracy: 95.3125%\n",
            " | Epoch 0 | Loss: 0.32773557305336 | Accuracy: 90.625%\n",
            " | Epoch 0 | Loss: 0.2731340825557709 | Accuracy: 90.625%\n",
            " | Epoch 0 | Loss: 0.23976431787014008 | Accuracy: 92.1875%\n",
            " | Epoch 0 | Loss: 0.20893439650535583 | Accuracy: 95.3125%\n",
            " | Epoch 0 | Loss: 0.3039867579936981 | Accuracy: 92.1875%\n",
            " | Epoch 0 | Loss: 0.3372461795806885 | Accuracy: 89.0625%\n",
            " | Epoch 0 | Loss: 0.2071397453546524 | Accuracy: 96.875%\n",
            " | Epoch 0 | Loss: 0.3363652527332306 | Accuracy: 95.3125%\n",
            " | Epoch 0 | Loss: 0.5826740860939026 | Accuracy: 92.1875%\n",
            " | Epoch 0 | Loss: 0.47480541467666626 | Accuracy: 92.1875%\n",
            " | Epoch 0 | Loss: 0.22147449851036072 | Accuracy: 96.875%\n",
            " | Epoch 0 | Loss: 0.1667051911354065 | Accuracy: 96.875%\n",
            " | Epoch 0 | Loss: 0.22182686626911163 | Accuracy: 93.75%\n",
            " | Epoch 0 | Loss: 0.18974268436431885 | Accuracy: 96.875%\n",
            " | Epoch 0 | Loss: 0.1711273193359375 | Accuracy: 96.875%\n"
          ]
        },
        {
          "name": "stderr",
          "output_type": "stream",
          "text": [
            "Epoch 0:  83%|████████▎ | 624/751 [00:04<00:00, 156.72batch/s, accuracy=95.3125%, loss=0.539]"
          ]
        },
        {
          "name": "stdout",
          "output_type": "stream",
          "text": [
            " | Epoch 0 | Loss: 0.18625806272029877 | Accuracy: 95.3125%\n",
            " | Epoch 0 | Loss: 0.2547459602355957 | Accuracy: 92.1875%\n",
            " | Epoch 0 | Loss: 0.26897627115249634 | Accuracy: 95.3125%\n",
            " | Epoch 0 | Loss: 0.1487533152103424 | Accuracy: 96.875%\n",
            " | Epoch 0 | Loss: 0.19516611099243164 | Accuracy: 95.3125%\n",
            " | Epoch 0 | Loss: 0.13610616326332092 | Accuracy: 98.4375%\n",
            " | Epoch 0 | Loss: 0.20853106677532196 | Accuracy: 96.875%\n",
            " | Epoch 0 | Loss: 0.38918888568878174 | Accuracy: 90.625%\n",
            " | Epoch 0 | Loss: 0.19386444985866547 | Accuracy: 98.4375%\n",
            " | Epoch 0 | Loss: 0.13424748182296753 | Accuracy: 100.0%\n",
            " | Epoch 0 | Loss: 0.14575879275798798 | Accuracy: 98.4375%\n",
            " | Epoch 0 | Loss: 0.5721080303192139 | Accuracy: 96.875%\n",
            " | Epoch 0 | Loss: 0.151078462600708 | Accuracy: 98.4375%\n",
            " | Epoch 0 | Loss: 0.1903097927570343 | Accuracy: 95.3125%\n",
            " | Epoch 0 | Loss: 0.16242095828056335 | Accuracy: 96.875%\n",
            " | Epoch 0 | Loss: 0.2587551474571228 | Accuracy: 89.0625%\n",
            " | Epoch 0 | Loss: 0.2123018503189087 | Accuracy: 93.75%\n",
            " | Epoch 0 | Loss: 0.2063203752040863 | Accuracy: 93.75%\n",
            " | Epoch 0 | Loss: 0.37345749139785767 | Accuracy: 95.3125%\n",
            " | Epoch 0 | Loss: 0.15161141753196716 | Accuracy: 100.0%\n",
            " | Epoch 0 | Loss: 0.15775488317012787 | Accuracy: 96.875%\n",
            " | Epoch 0 | Loss: 0.5959486961364746 | Accuracy: 93.75%\n",
            " | Epoch 0 | Loss: 0.11025972664356232 | Accuracy: 100.0%\n",
            " | Epoch 0 | Loss: 0.15106789767742157 | Accuracy: 95.3125%\n",
            " | Epoch 0 | Loss: 0.10907360166311264 | Accuracy: 100.0%\n",
            " | Epoch 0 | Loss: 0.2332712858915329 | Accuracy: 92.1875%\n",
            " | Epoch 0 | Loss: 0.1457253098487854 | Accuracy: 95.3125%\n",
            " | Epoch 0 | Loss: 0.40487271547317505 | Accuracy: 96.875%\n",
            " | Epoch 0 | Loss: 0.14525829255580902 | Accuracy: 98.4375%\n",
            " | Epoch 0 | Loss: 0.6640208959579468 | Accuracy: 95.3125%\n",
            " | Epoch 0 | Loss: 0.35179099440574646 | Accuracy: 90.625%\n",
            " | Epoch 0 | Loss: 0.5392795205116272 | Accuracy: 95.3125%\n"
          ]
        },
        {
          "name": "stderr",
          "output_type": "stream",
          "text": [
            "Epoch 0:  87%|████████▋ | 656/751 [00:04<00:00, 156.47batch/s, accuracy=100.0%, loss=0.0839] "
          ]
        },
        {
          "name": "stdout",
          "output_type": "stream",
          "text": [
            " | Epoch 0 | Loss: 0.7332837581634521 | Accuracy: 90.625%\n",
            " | Epoch 0 | Loss: 0.2901622951030731 | Accuracy: 90.625%\n",
            " | Epoch 0 | Loss: 0.10638786107301712 | Accuracy: 100.0%\n",
            " | Epoch 0 | Loss: 0.1133982390165329 | Accuracy: 98.4375%\n",
            " | Epoch 0 | Loss: 0.24122656881809235 | Accuracy: 93.75%\n",
            " | Epoch 0 | Loss: 0.0931377038359642 | Accuracy: 98.4375%\n",
            " | Epoch 0 | Loss: 0.14738412201404572 | Accuracy: 95.3125%\n",
            " | Epoch 0 | Loss: 0.33025798201560974 | Accuracy: 95.3125%\n",
            " | Epoch 0 | Loss: 0.1389053910970688 | Accuracy: 96.875%\n",
            " | Epoch 0 | Loss: 0.09788695722818375 | Accuracy: 100.0%\n",
            " | Epoch 0 | Loss: 0.12486208230257034 | Accuracy: 98.4375%\n",
            " | Epoch 0 | Loss: 0.16095151007175446 | Accuracy: 96.875%\n",
            " | Epoch 0 | Loss: 0.606880247592926 | Accuracy: 96.875%\n",
            " | Epoch 0 | Loss: 0.12417903542518616 | Accuracy: 96.875%\n",
            " | Epoch 0 | Loss: 0.13998474180698395 | Accuracy: 98.4375%\n",
            " | Epoch 0 | Loss: 0.09824381023645401 | Accuracy: 98.4375%\n",
            " | Epoch 0 | Loss: 0.11626482009887695 | Accuracy: 98.4375%\n",
            " | Epoch 0 | Loss: 0.15952059626579285 | Accuracy: 95.3125%\n",
            " | Epoch 0 | Loss: 0.14170977473258972 | Accuracy: 96.875%\n",
            " | Epoch 0 | Loss: 0.18001310527324677 | Accuracy: 96.875%\n",
            " | Epoch 0 | Loss: 0.14505834877490997 | Accuracy: 96.875%\n",
            " | Epoch 0 | Loss: 0.08056485652923584 | Accuracy: 100.0%\n",
            " | Epoch 0 | Loss: 0.202011376619339 | Accuracy: 95.3125%\n",
            " | Epoch 0 | Loss: 0.12889952957630157 | Accuracy: 96.875%\n",
            " | Epoch 0 | Loss: 0.14991332590579987 | Accuracy: 98.4375%\n",
            " | Epoch 0 | Loss: 0.12785066664218903 | Accuracy: 95.3125%\n",
            " | Epoch 0 | Loss: 0.0928904339671135 | Accuracy: 100.0%\n",
            " | Epoch 0 | Loss: 0.22842662036418915 | Accuracy: 93.75%\n",
            " | Epoch 0 | Loss: 0.07820086926221848 | Accuracy: 100.0%\n",
            " | Epoch 0 | Loss: 0.07260806858539581 | Accuracy: 100.0%\n",
            " | Epoch 0 | Loss: 0.13147082924842834 | Accuracy: 98.4375%\n"
          ]
        },
        {
          "name": "stderr",
          "output_type": "stream",
          "text": [
            "Epoch 0:  92%|█████████▏| 688/751 [00:04<00:00, 154.80batch/s, accuracy=100.0%, loss=0.0641]  "
          ]
        },
        {
          "name": "stdout",
          "output_type": "stream",
          "text": [
            " | Epoch 0 | Loss: 0.0838528573513031 | Accuracy: 100.0%\n",
            " | Epoch 0 | Loss: 0.11121591180562973 | Accuracy: 96.875%\n",
            " | Epoch 0 | Loss: 0.11445239186286926 | Accuracy: 96.875%\n",
            " | Epoch 0 | Loss: 0.14642901718616486 | Accuracy: 96.875%\n",
            " | Epoch 0 | Loss: 0.09224627912044525 | Accuracy: 100.0%\n",
            " | Epoch 0 | Loss: 0.26358968019485474 | Accuracy: 98.4375%\n",
            " | Epoch 0 | Loss: 0.16737034916877747 | Accuracy: 96.875%\n",
            " | Epoch 0 | Loss: 0.1016906201839447 | Accuracy: 100.0%\n",
            " | Epoch 0 | Loss: 0.10393626242876053 | Accuracy: 98.4375%\n",
            " | Epoch 0 | Loss: 0.20457428693771362 | Accuracy: 95.3125%\n",
            " | Epoch 0 | Loss: 0.1671619713306427 | Accuracy: 96.875%\n",
            " | Epoch 0 | Loss: 0.0958794355392456 | Accuracy: 98.4375%\n",
            " | Epoch 0 | Loss: 0.11015471071004868 | Accuracy: 96.875%\n",
            " | Epoch 0 | Loss: 0.09439125657081604 | Accuracy: 98.4375%\n",
            " | Epoch 0 | Loss: 0.10234523564577103 | Accuracy: 98.4375%\n",
            " | Epoch 0 | Loss: 0.12013060599565506 | Accuracy: 96.875%\n",
            " | Epoch 0 | Loss: 0.6479284763336182 | Accuracy: 98.4375%\n",
            " | Epoch 0 | Loss: 0.12480956315994263 | Accuracy: 98.4375%\n",
            " | Epoch 0 | Loss: 0.14559921622276306 | Accuracy: 98.4375%\n",
            " | Epoch 0 | Loss: 0.24317379295825958 | Accuracy: 96.875%\n",
            " | Epoch 0 | Loss: 0.07383521646261215 | Accuracy: 100.0%\n",
            " | Epoch 0 | Loss: 0.6370115876197815 | Accuracy: 96.875%\n",
            " | Epoch 0 | Loss: 0.059659771621227264 | Accuracy: 100.0%\n",
            " | Epoch 0 | Loss: 0.2767646908760071 | Accuracy: 98.4375%\n",
            " | Epoch 0 | Loss: 0.07978735119104385 | Accuracy: 100.0%\n",
            " | Epoch 0 | Loss: 0.0743311271071434 | Accuracy: 98.4375%\n",
            " | Epoch 0 | Loss: 0.11421474069356918 | Accuracy: 96.875%\n",
            " | Epoch 0 | Loss: 0.10676750540733337 | Accuracy: 96.875%\n",
            " | Epoch 0 | Loss: 0.13295353949069977 | Accuracy: 98.4375%\n",
            " | Epoch 0 | Loss: 0.09722277522087097 | Accuracy: 98.4375%\n",
            " | Epoch 0 | Loss: 0.06405269354581833 | Accuracy: 100.0%\n"
          ]
        },
        {
          "name": "stderr",
          "output_type": "stream",
          "text": [
            "Epoch 0:  96%|█████████▌| 720/751 [00:05<00:00, 146.96batch/s, accuracy=100.0%, loss=0.0489]  "
          ]
        },
        {
          "name": "stdout",
          "output_type": "stream",
          "text": [
            " | Epoch 0 | Loss: 0.26831570267677307 | Accuracy: 96.875%\n",
            " | Epoch 0 | Loss: 0.12757781147956848 | Accuracy: 95.3125%\n",
            " | Epoch 0 | Loss: 0.1215502917766571 | Accuracy: 98.4375%\n",
            " | Epoch 0 | Loss: 0.0834166631102562 | Accuracy: 98.4375%\n",
            " | Epoch 0 | Loss: 0.11224530637264252 | Accuracy: 98.4375%\n",
            " | Epoch 0 | Loss: 0.08227185904979706 | Accuracy: 100.0%\n",
            " | Epoch 0 | Loss: 0.09116815775632858 | Accuracy: 98.4375%\n",
            " | Epoch 0 | Loss: 0.15091417729854584 | Accuracy: 96.875%\n",
            " | Epoch 0 | Loss: 0.07348126918077469 | Accuracy: 98.4375%\n",
            " | Epoch 0 | Loss: 0.10019044578075409 | Accuracy: 96.875%\n",
            " | Epoch 0 | Loss: 0.08708421140909195 | Accuracy: 98.4375%\n",
            " | Epoch 0 | Loss: 0.06429512798786163 | Accuracy: 100.0%\n",
            " | Epoch 0 | Loss: 0.13865700364112854 | Accuracy: 95.3125%\n",
            " | Epoch 0 | Loss: 0.07918865978717804 | Accuracy: 98.4375%\n",
            " | Epoch 0 | Loss: 0.09565252810716629 | Accuracy: 98.4375%\n",
            " | Epoch 0 | Loss: 0.2589854896068573 | Accuracy: 98.4375%\n",
            " | Epoch 0 | Loss: 0.10547400265932083 | Accuracy: 96.875%\n",
            " | Epoch 0 | Loss: 0.05489375442266464 | Accuracy: 100.0%\n",
            " | Epoch 0 | Loss: 0.04700402542948723 | Accuracy: 100.0%\n",
            " | Epoch 0 | Loss: 0.12556563317775726 | Accuracy: 96.875%\n",
            " | Epoch 0 | Loss: 0.07841049879789352 | Accuracy: 96.875%\n",
            " | Epoch 0 | Loss: 0.055513594299554825 | Accuracy: 100.0%\n",
            " | Epoch 0 | Loss: 0.4521044194698334 | Accuracy: 98.4375%\n",
            " | Epoch 0 | Loss: 0.08117838203907013 | Accuracy: 98.4375%\n",
            " | Epoch 0 | Loss: 0.070967897772789 | Accuracy: 98.4375%\n",
            " | Epoch 0 | Loss: 0.05036997050046921 | Accuracy: 100.0%\n",
            " | Epoch 0 | Loss: 0.07811013609170914 | Accuracy: 98.4375%\n",
            " | Epoch 0 | Loss: 0.05875476822257042 | Accuracy: 98.4375%\n",
            " | Epoch 0 | Loss: 0.04890870302915573 | Accuracy: 100.0%\n"
          ]
        },
        {
          "name": "stderr",
          "output_type": "stream",
          "text": [
            "Epoch 0:  98%|█████████▊| 736/751 [00:05<00:00, 148.58batch/s, accuracy=100.0%, loss=0.0476]"
          ]
        },
        {
          "name": "stdout",
          "output_type": "stream",
          "text": [
            " | Epoch 0 | Loss: 0.08206894993782043 | Accuracy: 98.4375%\n",
            " | Epoch 0 | Loss: 0.0745982676744461 | Accuracy: 98.4375%\n",
            " | Epoch 0 | Loss: 0.06030154228210449 | Accuracy: 100.0%\n",
            " | Epoch 0 | Loss: 0.07119908928871155 | Accuracy: 98.4375%\n",
            " | Epoch 0 | Loss: 0.34295883774757385 | Accuracy: 95.3125%\n",
            " | Epoch 0 | Loss: 0.04289179667830467 | Accuracy: 100.0%\n",
            " | Epoch 0 | Loss: 0.14132876694202423 | Accuracy: 96.875%\n",
            " | Epoch 0 | Loss: 0.052680984139442444 | Accuracy: 100.0%\n",
            " | Epoch 0 | Loss: 0.40750157833099365 | Accuracy: 98.4375%\n",
            " | Epoch 0 | Loss: 0.08178649842739105 | Accuracy: 100.0%\n",
            " | Epoch 0 | Loss: 0.05857900157570839 | Accuracy: 100.0%\n",
            " | Epoch 0 | Loss: 0.07984298467636108 | Accuracy: 98.4375%\n",
            " | Epoch 0 | Loss: 0.07747936248779297 | Accuracy: 98.4375%\n",
            " | Epoch 0 | Loss: 0.0867486447095871 | Accuracy: 98.4375%\n",
            " | Epoch 0 | Loss: 0.13221874833106995 | Accuracy: 98.4375%\n",
            " | Epoch 0 | Loss: 0.10767749696969986 | Accuracy: 98.4375%\n",
            " | Epoch 0 | Loss: 0.0761648565530777 | Accuracy: 96.875%\n",
            " | Epoch 0 | Loss: 0.39571887254714966 | Accuracy: 98.4375%\n",
            " | Epoch 0 | Loss: 0.0846489891409874 | Accuracy: 96.875%\n",
            " | Epoch 0 | Loss: 0.0786716565489769 | Accuracy: 100.0%\n",
            " | Epoch 0 | Loss: 0.11986859887838364 | Accuracy: 98.4375%\n",
            " | Epoch 0 | Loss: 0.32847538590431213 | Accuracy: 93.75%\n",
            " | Epoch 0 | Loss: 0.04764699935913086 | Accuracy: 100.0%\n"
          ]
        },
        {
          "name": "stderr",
          "output_type": "stream",
          "text": [
            "\rEpoch 0: 100%|██████████| 751/751 [00:05<00:00, 142.71batch/s, accuracy=100.0%, loss=0.0476]\n"
          ]
        }
      ],
      "source": [
        "model = model_factory(\"lenet\", trainset[0][0].shape, trainset.num_classes).to(device)\n",
        "trainer = Trainer(\n",
        "    trainset=trainset,\n",
        "    model=model,\n",
        "    batch_size=64,\n",
        "    optimizer=SGD(model.parameters(), lr=1e-3, weight_decay=5e-4, momentum=0.9, nesterov=True),\n",
        "    device=device,\n",
        "    verbose=True\n",
        ")\n",
        "\n",
        "trainer.train(1)"
      ]
    },
    {
      "cell_type": "code",
      "execution_count": null,
      "metadata": {
        "colab": {
          "base_uri": "https://localhost:8080/"
        },
        "id": "ibLn_oIWIJbD",
        "outputId": "81b26e00-8025-42d3-c740-b4bf7f31a46e"
      },
      "outputs": [
        {
          "name": "stderr",
          "output_type": "stream",
          "text": [
            "Evaluating group-wise accuracy:   4%|▍         | 1/25 [00:00<00:07,  3.16it/s]"
          ]
        },
        {
          "name": "stdout",
          "output_type": "stream",
          "text": [
            "Group (0, 0) Accuracy: 97.39952718676123\n"
          ]
        },
        {
          "name": "stderr",
          "output_type": "stream",
          "text": [
            "\rEvaluating group-wise accuracy:   8%|▊         | 2/25 [00:00<00:07,  3.17it/s]"
          ]
        },
        {
          "name": "stdout",
          "output_type": "stream",
          "text": [
            "Group (0, 1) Accuracy: 0.0\n"
          ]
        },
        {
          "name": "stderr",
          "output_type": "stream",
          "text": [
            "\rEvaluating group-wise accuracy:  12%|█▏        | 3/25 [00:00<00:07,  3.13it/s]"
          ]
        },
        {
          "name": "stdout",
          "output_type": "stream",
          "text": [
            "Group (0, 2) Accuracy: 0.0\n"
          ]
        },
        {
          "name": "stderr",
          "output_type": "stream",
          "text": [
            "\rEvaluating group-wise accuracy:  16%|█▌        | 4/25 [00:01<00:06,  3.18it/s]"
          ]
        },
        {
          "name": "stdout",
          "output_type": "stream",
          "text": [
            "Group (0, 3) Accuracy: 0.0\n"
          ]
        },
        {
          "name": "stderr",
          "output_type": "stream",
          "text": [
            "\rEvaluating group-wise accuracy:  20%|██        | 5/25 [00:01<00:06,  2.95it/s]"
          ]
        },
        {
          "name": "stdout",
          "output_type": "stream",
          "text": [
            "Group (0, 4) Accuracy: 2.127659574468085\n"
          ]
        },
        {
          "name": "stderr",
          "output_type": "stream",
          "text": [
            "\rEvaluating group-wise accuracy:  24%|██▍       | 6/25 [00:02<00:07,  2.50it/s]"
          ]
        },
        {
          "name": "stdout",
          "output_type": "stream",
          "text": [
            "Group (1, 0) Accuracy: 0.0\n"
          ]
        },
        {
          "name": "stderr",
          "output_type": "stream",
          "text": [
            "\rEvaluating group-wise accuracy:  28%|██▊       | 7/25 [00:02<00:07,  2.30it/s]"
          ]
        },
        {
          "name": "stdout",
          "output_type": "stream",
          "text": [
            "Group (1, 1) Accuracy: 100.0\n"
          ]
        },
        {
          "name": "stderr",
          "output_type": "stream",
          "text": [
            "\rEvaluating group-wise accuracy:  32%|███▏      | 8/25 [00:03<00:07,  2.19it/s]"
          ]
        },
        {
          "name": "stdout",
          "output_type": "stream",
          "text": [
            "Group (1, 2) Accuracy: 0.0\n"
          ]
        },
        {
          "name": "stderr",
          "output_type": "stream",
          "text": [
            "\rEvaluating group-wise accuracy:  36%|███▌      | 9/25 [00:03<00:07,  2.09it/s]"
          ]
        },
        {
          "name": "stdout",
          "output_type": "stream",
          "text": [
            "Group (1, 3) Accuracy: 0.0\n"
          ]
        },
        {
          "name": "stderr",
          "output_type": "stream",
          "text": [
            "\rEvaluating group-wise accuracy:  40%|████      | 10/25 [00:04<00:06,  2.20it/s]"
          ]
        },
        {
          "name": "stdout",
          "output_type": "stream",
          "text": [
            "Group (1, 4) Accuracy: 0.0\n"
          ]
        },
        {
          "name": "stderr",
          "output_type": "stream",
          "text": [
            "\rEvaluating group-wise accuracy:  44%|████▍     | 11/25 [00:04<00:05,  2.44it/s]"
          ]
        },
        {
          "name": "stdout",
          "output_type": "stream",
          "text": [
            "Group (2, 0) Accuracy: 0.0\n"
          ]
        },
        {
          "name": "stderr",
          "output_type": "stream",
          "text": [
            "\rEvaluating group-wise accuracy:  48%|████▊     | 12/25 [00:04<00:04,  2.61it/s]"
          ]
        },
        {
          "name": "stdout",
          "output_type": "stream",
          "text": [
            "Group (2, 1) Accuracy: 0.0\n"
          ]
        },
        {
          "name": "stderr",
          "output_type": "stream",
          "text": [
            "\rEvaluating group-wise accuracy:  52%|█████▏    | 13/25 [00:05<00:04,  2.72it/s]"
          ]
        },
        {
          "name": "stdout",
          "output_type": "stream",
          "text": [
            "Group (2, 2) Accuracy: 98.66666666666667\n"
          ]
        },
        {
          "name": "stderr",
          "output_type": "stream",
          "text": [
            "\rEvaluating group-wise accuracy:  56%|█████▌    | 14/25 [00:05<00:03,  2.79it/s]"
          ]
        },
        {
          "name": "stdout",
          "output_type": "stream",
          "text": [
            "Group (2, 3) Accuracy: 1.6\n"
          ]
        },
        {
          "name": "stderr",
          "output_type": "stream",
          "text": [
            "\rEvaluating group-wise accuracy:  60%|██████    | 15/25 [00:05<00:03,  2.89it/s]"
          ]
        },
        {
          "name": "stdout",
          "output_type": "stream",
          "text": [
            "Group (2, 4) Accuracy: 0.0\n"
          ]
        },
        {
          "name": "stderr",
          "output_type": "stream",
          "text": [
            "\rEvaluating group-wise accuracy:  64%|██████▍   | 16/25 [00:06<00:03,  2.97it/s]"
          ]
        },
        {
          "name": "stdout",
          "output_type": "stream",
          "text": [
            "Group (3, 0) Accuracy: 0.0\n"
          ]
        },
        {
          "name": "stderr",
          "output_type": "stream",
          "text": [
            "\rEvaluating group-wise accuracy:  68%|██████▊   | 17/25 [00:06<00:02,  3.00it/s]"
          ]
        },
        {
          "name": "stdout",
          "output_type": "stream",
          "text": [
            "Group (3, 1) Accuracy: 0.0\n"
          ]
        },
        {
          "name": "stderr",
          "output_type": "stream",
          "text": [
            "\rEvaluating group-wise accuracy:  72%|███████▏  | 18/25 [00:06<00:02,  3.04it/s]"
          ]
        },
        {
          "name": "stdout",
          "output_type": "stream",
          "text": [
            "Group (3, 2) Accuracy: 3.27455919395466\n"
          ]
        },
        {
          "name": "stderr",
          "output_type": "stream",
          "text": [
            "\rEvaluating group-wise accuracy:  76%|███████▌  | 19/25 [00:06<00:01,  3.09it/s]"
          ]
        },
        {
          "name": "stdout",
          "output_type": "stream",
          "text": [
            "Group (3, 3) Accuracy: 96.97732997481108\n"
          ]
        },
        {
          "name": "stderr",
          "output_type": "stream",
          "text": [
            "\rEvaluating group-wise accuracy:  80%|████████  | 20/25 [00:07<00:01,  3.10it/s]"
          ]
        },
        {
          "name": "stdout",
          "output_type": "stream",
          "text": [
            "Group (3, 4) Accuracy: 0.0\n"
          ]
        },
        {
          "name": "stderr",
          "output_type": "stream",
          "text": [
            "\rEvaluating group-wise accuracy:  84%|████████▍ | 21/25 [00:07<00:01,  3.13it/s]"
          ]
        },
        {
          "name": "stdout",
          "output_type": "stream",
          "text": [
            "Group (4, 0) Accuracy: 2.2670025188916876\n"
          ]
        },
        {
          "name": "stderr",
          "output_type": "stream",
          "text": [
            "\rEvaluating group-wise accuracy:  88%|████████▊ | 22/25 [00:07<00:00,  3.17it/s]"
          ]
        },
        {
          "name": "stdout",
          "output_type": "stream",
          "text": [
            "Group (4, 1) Accuracy: 0.0\n"
          ]
        },
        {
          "name": "stderr",
          "output_type": "stream",
          "text": [
            "\rEvaluating group-wise accuracy:  92%|█████████▏| 23/25 [00:08<00:00,  3.13it/s]"
          ]
        },
        {
          "name": "stdout",
          "output_type": "stream",
          "text": [
            "Group (4, 2) Accuracy: 0.0\n"
          ]
        },
        {
          "name": "stderr",
          "output_type": "stream",
          "text": [
            "\rEvaluating group-wise accuracy:  96%|█████████▌| 24/25 [00:08<00:00,  3.15it/s]"
          ]
        },
        {
          "name": "stdout",
          "output_type": "stream",
          "text": [
            "Group (4, 3) Accuracy: 0.0\n"
          ]
        },
        {
          "name": "stderr",
          "output_type": "stream",
          "text": [
            "Evaluating group-wise accuracy: 100%|██████████| 25/25 [00:08<00:00,  2.81it/s]"
          ]
        },
        {
          "name": "stdout",
          "output_type": "stream",
          "text": [
            "Group (4, 4) Accuracy: 100.0\n"
          ]
        },
        {
          "name": "stderr",
          "output_type": "stream",
          "text": [
            "\n"
          ]
        },
        {
          "data": {
            "text/plain": [
              "{(0, 0): 97.39952718676123,\n",
              " (0, 1): 0.0,\n",
              " (0, 2): 0.0,\n",
              " (0, 3): 0.0,\n",
              " (0, 4): 2.127659574468085,\n",
              " (1, 0): 0.0,\n",
              " (1, 1): 100.0,\n",
              " (1, 2): 0.0,\n",
              " (1, 3): 0.0,\n",
              " (1, 4): 0.0,\n",
              " (2, 0): 0.0,\n",
              " (2, 1): 0.0,\n",
              " (2, 2): 98.66666666666667,\n",
              " (2, 3): 1.6,\n",
              " (2, 4): 0.0,\n",
              " (3, 0): 0.0,\n",
              " (3, 1): 0.0,\n",
              " (3, 2): 3.27455919395466,\n",
              " (3, 3): 96.97732997481108,\n",
              " (3, 4): 0.0,\n",
              " (4, 0): 2.2670025188916876,\n",
              " (4, 1): 0.0,\n",
              " (4, 2): 0.0,\n",
              " (4, 3): 0.0,\n",
              " (4, 4): 100.0}"
            ]
          },
          "execution_count": 16,
          "metadata": {},
          "output_type": "execute_result"
        }
      ],
      "source": [
        "evaluator = Evaluator(\n",
        "    testset=testset,\n",
        "    group_partition=testset.group_partition,\n",
        "    group_weights=trainset.group_weights,\n",
        "    batch_size=64,\n",
        "    model=model,\n",
        "    device=device,\n",
        "    verbose=True\n",
        ")\n",
        "evaluator.evaluate()"
      ]
    },
    {
      "cell_type": "code",
      "execution_count": null,
      "metadata": {
        "colab": {
          "base_uri": "https://localhost:8080/"
        },
        "id": "WweX4p05lCQ-",
        "outputId": "fb57cdf3-099f-48a2-e7ca-16f11224ab10"
      },
      "outputs": [
        {
          "name": "stdout",
          "output_type": "stream",
          "text": [
            "/usr/local/lib/python3.11/dist-packages/spuco/__init__.py\n"
          ]
        }
      ],
      "source": [
        "import spuco\n",
        "\n",
        "print(spuco.__file__)"
      ]
    },
    {
      "cell_type": "code",
      "execution_count": null,
      "metadata": {
        "id": "1IMDLBVTnLad"
      },
      "outputs": [],
      "source": [
        "# %load /usr/local/lib/python3.11/dist-packages/spuco/utils/exemplar_cluster.py\n",
        "from typing import Dict, List\n",
        "\n",
        "import numpy as np\n",
        "from tqdm import tqdm\n",
        "\n",
        "from spuco.utils.submodular import FacilityLocation, lazy_greedy\n",
        "\n",
        "def cluster_by_exemplars(similarity_matrix, num_exemplars, verbose=False) -> Dict[int, List[int]]:\n",
        "    \"\"\"\n",
        "    Returns a dictionary mapping exemplar index to a list of indices.\n",
        "\n",
        "    :param similarity_matrix: The similarity matrix.\n",
        "    :type similarity_matrix: numpy.ndarray\n",
        "    :param num_exemplars: The number of exemplars to select.\n",
        "    :type num_exemplars: int\n",
        "    :param verbose: Whether to print progress information.\n",
        "    :type verbose: bool, optional\n",
        "    :return: A dictionary mapping exemplar index to a list of indices.\n",
        "    :rtype: dict[int, list[int]]]\n",
        "    \"\"\"\n",
        "    submodular_function = FacilityLocation(D=similarity_matrix, V=range(len(similarity_matrix)))\n",
        "    exemplar_indices, _ = lazy_greedy(F=submodular_function, V=range(len(similarity_matrix)), B=num_exemplars, verbose=verbose)\n",
        "    clusters = {}\n",
        "\n",
        "    for exemplar_index in exemplar_indices:\n",
        "        clusters[exemplar_index] = []\n",
        "\n",
        "    for index in tqdm(range(len(similarity_matrix)), desc=\"Sorting samples by exemplar\", disable=not verbose):\n",
        "        exemplar_index, _  = closest_exemplar(index, exemplar_indices, similarity_matrix)\n",
        "        clusters[exemplar_index].append(index)\n",
        "\n",
        "    return clusters\n",
        "\n",
        "def closest_exemplar(sample_index, exemplar_indices, similarity_matrix):\n",
        "    \"\"\"\n",
        "    Finds the closest exemplar to a given sample index.\n",
        "\n",
        "    :param sample_index: The index of the sample.\n",
        "    :type sample_index: int\n",
        "    :param exemplar_indices: The indices of the exemplars.\n",
        "    :type exemplar_indices: list[int]\n",
        "    :param similarity_matrix: The similarity matrix.\n",
        "    :type similarity_matrix: numpy.ndarray\n",
        "    :return: The index of the closest exemplar and the similarity score.\n",
        "    :rtype: tuple[int, float]\n",
        "    \"\"\"\n",
        "\n",
        "    max_similarity = -np.inf\n",
        "    best_exemplar_index = -1\n",
        "\n",
        "    for curr_exemplar_index in exemplar_indices:\n",
        "        if similarity_matrix[sample_index][curr_exemplar_index] > max_similarity:\n",
        "            max_similarity = similarity_matrix[sample_index][curr_exemplar_index]\n",
        "            best_exemplar_index = curr_exemplar_index\n",
        "\n",
        "    return best_exemplar_index, max_similarity\n"
      ]
    },
    {
      "cell_type": "code",
      "execution_count": null,
      "metadata": {
        "colab": {
          "base_uri": "https://localhost:8080/"
        },
        "id": "RYUmIUUElDZj",
        "outputId": "fef86275-415c-4d3a-f843-62b7ebf88ff9"
      },
      "outputs": [
        {
          "name": "stdout",
          "output_type": "stream",
          "text": [
            "Overwriting /usr/local/lib/python3.11/dist-packages/spuco/utils/exemplar_cluster.py\n"
          ]
        }
      ],
      "source": [
        "# this cell needs to be ran to fix np.inf compatability issue\n",
        "%%writefile /usr/local/lib/python3.11/dist-packages/spuco/utils/exemplar_cluster.py\n",
        "from typing import Dict, List\n",
        "\n",
        "import numpy as np\n",
        "from tqdm import tqdm\n",
        "\n",
        "from spuco.utils.submodular import FacilityLocation, lazy_greedy\n",
        "\n",
        "def cluster_by_exemplars(similarity_matrix, num_exemplars, verbose=False) -> Dict[int, List[int]]:\n",
        "    \"\"\"\n",
        "    Returns a dictionary mapping exemplar index to a list of indices.\n",
        "\n",
        "    :param similarity_matrix: The similarity matrix.\n",
        "    :type similarity_matrix: numpy.ndarray\n",
        "    :param num_exemplars: The number of exemplars to select.\n",
        "    :type num_exemplars: int\n",
        "    :param verbose: Whether to print progress information.\n",
        "    :type verbose: bool, optional\n",
        "    :return: A dictionary mapping exemplar index to a list of indices.\n",
        "    :rtype: dict[int, list[int]]]\n",
        "    \"\"\"\n",
        "    submodular_function = FacilityLocation(D=similarity_matrix, V=range(len(similarity_matrix)))\n",
        "    exemplar_indices, _ = lazy_greedy(F=submodular_function, V=range(len(similarity_matrix)), B=num_exemplars, verbose=verbose)\n",
        "    clusters = {}\n",
        "\n",
        "    for exemplar_index in exemplar_indices:\n",
        "        clusters[exemplar_index] = []\n",
        "\n",
        "    for index in tqdm(range(len(similarity_matrix)), desc=\"Sorting samples by exemplar\", disable=not verbose):\n",
        "        exemplar_index, _  = closest_exemplar(index, exemplar_indices, similarity_matrix)\n",
        "        clusters[exemplar_index].append(index)\n",
        "\n",
        "    return clusters\n",
        "\n",
        "def closest_exemplar(sample_index, exemplar_indices, similarity_matrix):\n",
        "    \"\"\"\n",
        "    Finds the closest exemplar to a given sample index.\n",
        "\n",
        "    :param sample_index: The index of the sample.\n",
        "    :type sample_index: int\n",
        "    :param exemplar_indices: The indices of the exemplars.\n",
        "    :type exemplar_indices: list[int]\n",
        "    :param similarity_matrix: The similarity matrix.\n",
        "    :type similarity_matrix: numpy.ndarray\n",
        "    :return: The index of the closest exemplar and the similarity score.\n",
        "    :rtype: tuple[int, float]\n",
        "    \"\"\"\n",
        "\n",
        "    max_similarity = -np.inf\n",
        "    best_exemplar_index = -1\n",
        "\n",
        "    for curr_exemplar_index in exemplar_indices:\n",
        "        if similarity_matrix[sample_index][curr_exemplar_index] > max_similarity:\n",
        "            max_similarity = similarity_matrix[sample_index][curr_exemplar_index]\n",
        "            best_exemplar_index = curr_exemplar_index\n",
        "\n",
        "    return best_exemplar_index, max_similarity\n"
      ]
    },
    {
      "cell_type": "code",
      "execution_count": null,
      "metadata": {
        "colab": {
          "base_uri": "https://localhost:8080/"
        },
        "id": "SFWc8uyelkUp",
        "outputId": "d6ec86ae-41c3-409a-a8a9-098c3128d9cd"
      },
      "outputs": [
        {
          "data": {
            "text/plain": [
              "<module 'spuco' from '/usr/local/lib/python3.11/dist-packages/spuco/__init__.py'>"
            ]
          },
          "execution_count": 19,
          "metadata": {},
          "output_type": "execute_result"
        }
      ],
      "source": [
        "import importlib\n",
        "import spuco\n",
        "importlib.invalidate_caches()\n",
        "importlib.reload(spuco.utils.exemplar_cluster)\n",
        "importlib.reload(spuco)"
      ]
    },
    {
      "cell_type": "code",
      "execution_count": null,
      "metadata": {
        "colab": {
          "base_uri": "https://localhost:8080/"
        },
        "id": "WQmKLy-rIKeX",
        "outputId": "a1a05da6-c09e-4c8d-e3fb-3be67fb03b7d"
      },
      "outputs": [
        {
          "name": "stderr",
          "output_type": "stream",
          "text": [
            "/usr/local/lib/python3.11/dist-packages/torch/utils/data/dataloader.py:624: UserWarning: This DataLoader will create 4 worker processes in total. Our suggested max number of worker in current system is 2, which is smaller than what this DataLoader is going to create. Please be aware that excessive worker creation might get DataLoader running slow or even freeze, lower the worker number to avoid potential slowness/freeze if necessary.\n",
            "  warnings.warn(\n",
            "Getting model outputs: 100%|██████████| 751/751 [00:04<00:00, 161.46batch/s]\n",
            "Clustering class-wise: 100%|██████████| 5/5 [00:00<00:00,  6.16it/s]\n"
          ]
        }
      ],
      "source": [
        "import importlib\n",
        "importlib.reload(spuco)\n",
        "outputs = trainer.get_trainset_outputs()\n",
        "cluster = Cluster(\n",
        "    Z=outputs,\n",
        "    class_labels=trainset.labels,\n",
        "    cluster_alg=ClusterAlg.KMEANS,\n",
        "    num_clusters=2,\n",
        "    device=device,\n",
        "    verbose=True\n",
        ")\n",
        "group_partition = cluster.infer_groups()"
      ]
    },
    {
      "cell_type": "code",
      "execution_count": null,
      "metadata": {
        "id": "Su4I5SFslBCp"
      },
      "outputs": [],
      "source": []
    },
    {
      "cell_type": "markdown",
      "metadata": {
        "id": "DhvkNWJ5yV0g"
      },
      "source": []
    },
    {
      "cell_type": "code",
      "execution_count": null,
      "metadata": {
        "colab": {
          "base_uri": "https://localhost:8080/"
        },
        "id": "mX1n3q-eIw0U",
        "outputId": "65a1c3c5-e2e0-4b3a-ff2b-24845f9d5914"
      },
      "outputs": [
        {
          "name": "stdout",
          "output_type": "stream",
          "text": [
            "(0, 0) 10093\n",
            "(0, 1) 40\n",
            "(1, 0) 9645\n",
            "(1, 1) 27\n",
            "(2, 0) 8971\n",
            "(2, 1) 40\n",
            "(3, 0) 9723\n",
            "(3, 1) 24\n",
            "(4, 0) 9400\n",
            "(4, 1) 41\n"
          ]
        }
      ],
      "source": [
        "for key in sorted(group_partition.keys()):\n",
        "    print(key, len(group_partition[key]))"
      ]
    },
    {
      "cell_type": "code",
      "execution_count": null,
      "metadata": {
        "colab": {
          "base_uri": "https://localhost:8080/"
        },
        "id": "4e8oxwe_IiKM",
        "outputId": "84cf8f4b-5bfb-4254-d9c4-c8a7be57dcd3"
      },
      "outputs": [
        {
          "name": "stderr",
          "output_type": "stream",
          "text": [
            "/usr/local/lib/python3.11/dist-packages/torch/utils/data/dataloader.py:624: UserWarning: This DataLoader will create 4 worker processes in total. Our suggested max number of worker in current system is 2, which is smaller than what this DataLoader is going to create. Please be aware that excessive worker creation might get DataLoader running slow or even freeze, lower the worker number to avoid potential slowness/freeze if necessary.\n",
            "  warnings.warn(\n",
            "Evaluating group-wise accuracy:  10%|█         | 1/10 [00:01<00:14,  1.61s/it]"
          ]
        },
        {
          "name": "stdout",
          "output_type": "stream",
          "text": [
            "Group (0, 0) Accuracy: 97.81036361834936\n"
          ]
        },
        {
          "name": "stderr",
          "output_type": "stream",
          "text": [
            "\rEvaluating group-wise accuracy:  20%|██        | 2/10 [00:02<00:07,  1.11it/s]"
          ]
        },
        {
          "name": "stdout",
          "output_type": "stream",
          "text": [
            "Group (0, 1) Accuracy: 0.0\n"
          ]
        },
        {
          "name": "stderr",
          "output_type": "stream",
          "text": [
            "\rEvaluating group-wise accuracy:  30%|███       | 3/10 [00:03<00:07,  1.05s/it]"
          ]
        },
        {
          "name": "stdout",
          "output_type": "stream",
          "text": [
            "Group (1, 0) Accuracy: 99.77190254017626\n"
          ]
        },
        {
          "name": "stderr",
          "output_type": "stream",
          "text": [
            "\rEvaluating group-wise accuracy:  40%|████      | 4/10 [00:03<00:05,  1.19it/s]"
          ]
        },
        {
          "name": "stdout",
          "output_type": "stream",
          "text": [
            "Group (1, 1) Accuracy: 0.0\n"
          ]
        },
        {
          "name": "stderr",
          "output_type": "stream",
          "text": [
            "\rEvaluating group-wise accuracy:  50%|█████     | 5/10 [00:04<00:04,  1.14it/s]"
          ]
        },
        {
          "name": "stdout",
          "output_type": "stream",
          "text": [
            "Group (2, 0) Accuracy: 98.87415003901461\n"
          ]
        },
        {
          "name": "stderr",
          "output_type": "stream",
          "text": [
            "\rEvaluating group-wise accuracy:  60%|██████    | 6/10 [00:05<00:02,  1.44it/s]"
          ]
        },
        {
          "name": "stdout",
          "output_type": "stream",
          "text": [
            "Group (2, 1) Accuracy: 0.0\n"
          ]
        },
        {
          "name": "stderr",
          "output_type": "stream",
          "text": [
            "\rEvaluating group-wise accuracy:  70%|███████   | 7/10 [00:05<00:02,  1.36it/s]"
          ]
        },
        {
          "name": "stdout",
          "output_type": "stream",
          "text": [
            "Group (3, 0) Accuracy: 98.16928931399774\n"
          ]
        },
        {
          "name": "stderr",
          "output_type": "stream",
          "text": [
            "\rEvaluating group-wise accuracy:  80%|████████  | 8/10 [00:06<00:01,  1.63it/s]"
          ]
        },
        {
          "name": "stdout",
          "output_type": "stream",
          "text": [
            "Group (3, 1) Accuracy: 0.0\n"
          ]
        },
        {
          "name": "stderr",
          "output_type": "stream",
          "text": [
            "\rEvaluating group-wise accuracy:  90%|█████████ | 9/10 [00:06<00:00,  1.50it/s]"
          ]
        },
        {
          "name": "stdout",
          "output_type": "stream",
          "text": [
            "Group (4, 0) Accuracy: 99.93617021276596\n"
          ]
        },
        {
          "name": "stderr",
          "output_type": "stream",
          "text": [
            "Evaluating group-wise accuracy: 100%|██████████| 10/10 [00:07<00:00,  1.36it/s]"
          ]
        },
        {
          "name": "stdout",
          "output_type": "stream",
          "text": [
            "Group (4, 1) Accuracy: 0.0\n"
          ]
        },
        {
          "name": "stderr",
          "output_type": "stream",
          "text": [
            "\n"
          ]
        },
        {
          "data": {
            "text/plain": [
              "{(0, 0): 97.81036361834936,\n",
              " (0, 1): 0.0,\n",
              " (1, 0): 99.77190254017626,\n",
              " (1, 1): 0.0,\n",
              " (2, 0): 98.87415003901461,\n",
              " (2, 1): 0.0,\n",
              " (3, 0): 98.16928931399774,\n",
              " (3, 1): 0.0,\n",
              " (4, 0): 99.93617021276596,\n",
              " (4, 1): 0.0}"
            ]
          },
          "execution_count": 29,
          "metadata": {},
          "output_type": "execute_result"
        }
      ],
      "source": [
        "evaluator = Evaluator(\n",
        "    testset=trainset,\n",
        "    group_partition=group_partition,\n",
        "    group_weights=trainset.group_weights,\n",
        "    batch_size=64,\n",
        "    model=model,\n",
        "    device=device,\n",
        "    verbose=True\n",
        ")\n",
        "evaluator.evaluate()"
      ]
    },
    {
      "cell_type": "code",
      "execution_count": null,
      "metadata": {
        "colab": {
          "base_uri": "https://localhost:8080/"
        },
        "id": "SA41Y7xcIpY9",
        "outputId": "0dedf37c-8066-4f63-e1bf-a55d384deabe"
      },
      "outputs": [
        {
          "name": "stderr",
          "output_type": "stream",
          "text": [
            "Epoch 0:   2%|▏         | 14/751 [00:00<00:15, 46.99batch/s, accuracy=7.8125%, loss=1.63] "
          ]
        },
        {
          "name": "stdout",
          "output_type": "stream",
          "text": [
            "GB | Epoch 0 | Loss: 1.616376280784607 | Accuracy: 18.75%\n",
            "GB | Epoch 0 | Loss: 1.605672836303711 | Accuracy: 15.625%\n",
            "GB | Epoch 0 | Loss: 1.6066949367523193 | Accuracy: 18.75%\n",
            "GB | Epoch 0 | Loss: 1.6147258281707764 | Accuracy: 17.1875%\n",
            "GB | Epoch 0 | Loss: 1.6161426305770874 | Accuracy: 20.3125%\n",
            "GB | Epoch 0 | Loss: 1.6099820137023926 | Accuracy: 14.0625%\n",
            "GB | Epoch 0 | Loss: 1.6053920984268188 | Accuracy: 23.4375%\n",
            "GB | Epoch 0 | Loss: 1.6124390363693237 | Accuracy: 18.75%\n",
            "GB | Epoch 0 | Loss: 1.6179320812225342 | Accuracy: 17.1875%\n",
            "GB | Epoch 0 | Loss: 1.6133649349212646 | Accuracy: 20.3125%\n",
            "GB | Epoch 0 | Loss: 1.6063042879104614 | Accuracy: 26.5625%\n",
            "GB | Epoch 0 | Loss: 1.6189731359481812 | Accuracy: 14.0625%\n",
            "GB | Epoch 0 | Loss: 1.6170413494110107 | Accuracy: 15.625%\n",
            "GB | Epoch 0 | Loss: 1.608757734298706 | Accuracy: 23.4375%\n",
            "GB | Epoch 0 | Loss: 1.6066327095031738 | Accuracy: 21.875%\n",
            "GB | Epoch 0 | Loss: 1.630560278892517 | Accuracy: 12.5%\n",
            "GB | Epoch 0 | Loss: 1.6152048110961914 | Accuracy: 21.875%\n",
            "GB | Epoch 0 | Loss: 1.6187697649002075 | Accuracy: 17.1875%\n",
            "GB | Epoch 0 | Loss: 1.6075042486190796 | Accuracy: 15.625%\n",
            "GB | Epoch 0 | Loss: 1.6075714826583862 | Accuracy: 32.8125%\n",
            "GB | Epoch 0 | Loss: 1.6202685832977295 | Accuracy: 21.875%\n",
            "GB | Epoch 0 | Loss: 1.6123861074447632 | Accuracy: 23.4375%\n",
            "GB | Epoch 0 | Loss: 1.62234365940094 | Accuracy: 25.0%\n",
            "GB | Epoch 0 | Loss: 1.6162841320037842 | Accuracy: 14.0625%\n",
            "GB | Epoch 0 | Loss: 1.6232432126998901 | Accuracy: 10.9375%\n",
            "GB | Epoch 0 | Loss: 1.6066737174987793 | Accuracy: 21.875%\n",
            "GB | Epoch 0 | Loss: 1.6094937324523926 | Accuracy: 20.3125%\n",
            "GB | Epoch 0 | Loss: 1.6349461078643799 | Accuracy: 7.8125%\n"
          ]
        },
        {
          "name": "stderr",
          "output_type": "stream",
          "text": [
            "Epoch 0:   6%|▋         | 47/751 [00:00<00:06, 109.07batch/s, accuracy=29.6875%, loss=1.61]"
          ]
        },
        {
          "name": "stdout",
          "output_type": "stream",
          "text": [
            "GB | Epoch 0 | Loss: 1.6103172302246094 | Accuracy: 17.1875%\n",
            "GB | Epoch 0 | Loss: 1.6156730651855469 | Accuracy: 18.75%\n",
            "GB | Epoch 0 | Loss: 1.611386775970459 | Accuracy: 18.75%\n",
            "GB | Epoch 0 | Loss: 1.6055184602737427 | Accuracy: 21.875%\n",
            "GB | Epoch 0 | Loss: 1.6248241662979126 | Accuracy: 18.75%\n",
            "GB | Epoch 0 | Loss: 1.6120421886444092 | Accuracy: 25.0%\n",
            "GB | Epoch 0 | Loss: 1.606407880783081 | Accuracy: 31.25%\n",
            "GB | Epoch 0 | Loss: 1.6120516061782837 | Accuracy: 26.5625%\n",
            "GB | Epoch 0 | Loss: 1.6072014570236206 | Accuracy: 26.5625%\n",
            "GB | Epoch 0 | Loss: 1.6101902723312378 | Accuracy: 21.875%\n",
            "GB | Epoch 0 | Loss: 1.60452401638031 | Accuracy: 26.5625%\n",
            "GB | Epoch 0 | Loss: 1.602498173713684 | Accuracy: 26.5625%\n",
            "GB | Epoch 0 | Loss: 1.606472134590149 | Accuracy: 28.125%\n",
            "GB | Epoch 0 | Loss: 1.606865406036377 | Accuracy: 17.1875%\n",
            "GB | Epoch 0 | Loss: 1.603924036026001 | Accuracy: 25.0%\n",
            "GB | Epoch 0 | Loss: 1.6113475561141968 | Accuracy: 12.5%\n",
            "GB | Epoch 0 | Loss: 1.6119147539138794 | Accuracy: 21.875%\n",
            "GB | Epoch 0 | Loss: 1.6150906085968018 | Accuracy: 20.3125%\n",
            "GB | Epoch 0 | Loss: 1.6154152154922485 | Accuracy: 20.3125%\n",
            "GB | Epoch 0 | Loss: 1.6202293634414673 | Accuracy: 21.875%\n",
            "GB | Epoch 0 | Loss: 1.6075599193572998 | Accuracy: 18.75%\n",
            "GB | Epoch 0 | Loss: 1.6191660165786743 | Accuracy: 20.3125%\n",
            "GB | Epoch 0 | Loss: 1.6028984785079956 | Accuracy: 26.5625%\n",
            "GB | Epoch 0 | Loss: 1.6095690727233887 | Accuracy: 23.4375%\n",
            "GB | Epoch 0 | Loss: 1.6020783185958862 | Accuracy: 25.0%\n",
            "GB | Epoch 0 | Loss: 1.5968706607818604 | Accuracy: 31.25%\n",
            "GB | Epoch 0 | Loss: 1.6140620708465576 | Accuracy: 26.5625%\n",
            "GB | Epoch 0 | Loss: 1.607427954673767 | Accuracy: 29.6875%\n",
            "GB | Epoch 0 | Loss: 1.6097161769866943 | Accuracy: 26.5625%\n",
            "GB | Epoch 0 | Loss: 1.606197476387024 | Accuracy: 25.0%\n",
            "GB | Epoch 0 | Loss: 1.6127463579177856 | Accuracy: 23.4375%\n",
            "GB | Epoch 0 | Loss: 1.605244755744934 | Accuracy: 29.6875%\n"
          ]
        },
        {
          "name": "stderr",
          "output_type": "stream",
          "text": [
            "Epoch 0:  11%|█         | 79/751 [00:00<00:05, 133.55batch/s, accuracy=17.1875%, loss=1.61]"
          ]
        },
        {
          "name": "stdout",
          "output_type": "stream",
          "text": [
            "GB | Epoch 0 | Loss: 1.6152437925338745 | Accuracy: 25.0%\n",
            "GB | Epoch 0 | Loss: 1.6147265434265137 | Accuracy: 23.4375%\n",
            "GB | Epoch 0 | Loss: 1.6169694662094116 | Accuracy: 18.75%\n",
            "GB | Epoch 0 | Loss: 1.5996431112289429 | Accuracy: 34.375%\n",
            "GB | Epoch 0 | Loss: 1.6181718111038208 | Accuracy: 17.1875%\n",
            "GB | Epoch 0 | Loss: 1.6161822080612183 | Accuracy: 21.875%\n",
            "GB | Epoch 0 | Loss: 1.611793875694275 | Accuracy: 15.625%\n",
            "GB | Epoch 0 | Loss: 1.6155565977096558 | Accuracy: 18.75%\n",
            "GB | Epoch 0 | Loss: 1.6174298524856567 | Accuracy: 25.0%\n",
            "GB | Epoch 0 | Loss: 1.6162614822387695 | Accuracy: 17.1875%\n",
            "GB | Epoch 0 | Loss: 1.6144425868988037 | Accuracy: 20.3125%\n",
            "GB | Epoch 0 | Loss: 1.6163705587387085 | Accuracy: 21.875%\n",
            "GB | Epoch 0 | Loss: 1.6075572967529297 | Accuracy: 18.75%\n",
            "GB | Epoch 0 | Loss: 1.6063690185546875 | Accuracy: 29.6875%\n",
            "GB | Epoch 0 | Loss: 1.6122725009918213 | Accuracy: 18.75%\n",
            "GB | Epoch 0 | Loss: 1.6125073432922363 | Accuracy: 23.4375%\n",
            "GB | Epoch 0 | Loss: 1.6225037574768066 | Accuracy: 18.75%\n",
            "GB | Epoch 0 | Loss: 1.6222740411758423 | Accuracy: 18.75%\n",
            "GB | Epoch 0 | Loss: 1.6079813241958618 | Accuracy: 23.4375%\n",
            "GB | Epoch 0 | Loss: 1.615525245666504 | Accuracy: 18.75%\n",
            "GB | Epoch 0 | Loss: 1.6044700145721436 | Accuracy: 31.25%\n",
            "GB | Epoch 0 | Loss: 1.6088628768920898 | Accuracy: 20.3125%\n",
            "GB | Epoch 0 | Loss: 1.6104862689971924 | Accuracy: 25.0%\n",
            "GB | Epoch 0 | Loss: 1.606009840965271 | Accuracy: 20.3125%\n",
            "GB | Epoch 0 | Loss: 1.614251971244812 | Accuracy: 17.1875%\n",
            "GB | Epoch 0 | Loss: 1.6096563339233398 | Accuracy: 14.0625%\n",
            "GB | Epoch 0 | Loss: 1.6084333658218384 | Accuracy: 17.1875%\n",
            "GB | Epoch 0 | Loss: 1.6135151386260986 | Accuracy: 23.4375%\n",
            "GB | Epoch 0 | Loss: 1.5996484756469727 | Accuracy: 26.5625%\n",
            "GB | Epoch 0 | Loss: 1.6165164709091187 | Accuracy: 14.0625%\n",
            "GB | Epoch 0 | Loss: 1.6109850406646729 | Accuracy: 21.875%\n",
            "GB | Epoch 0 | Loss: 1.6159485578536987 | Accuracy: 17.1875%\n",
            "GB | Epoch 0 | Loss: 1.6094374656677246 | Accuracy: 17.1875%\n"
          ]
        },
        {
          "name": "stderr",
          "output_type": "stream",
          "text": [
            "Epoch 0:  15%|█▌        | 113/751 [00:01<00:04, 148.91batch/s, accuracy=20.3125%, loss=1.61]"
          ]
        },
        {
          "name": "stdout",
          "output_type": "stream",
          "text": [
            "GB | Epoch 0 | Loss: 1.61460280418396 | Accuracy: 23.4375%\n",
            "GB | Epoch 0 | Loss: 1.6042767763137817 | Accuracy: 29.6875%\n",
            "GB | Epoch 0 | Loss: 1.6162118911743164 | Accuracy: 18.75%\n",
            "GB | Epoch 0 | Loss: 1.6080394983291626 | Accuracy: 23.4375%\n",
            "GB | Epoch 0 | Loss: 1.606894850730896 | Accuracy: 26.5625%\n",
            "GB | Epoch 0 | Loss: 1.6277506351470947 | Accuracy: 9.375%\n",
            "GB | Epoch 0 | Loss: 1.6088619232177734 | Accuracy: 23.4375%\n",
            "GB | Epoch 0 | Loss: 1.619951844215393 | Accuracy: 14.0625%\n",
            "GB | Epoch 0 | Loss: 1.6138026714324951 | Accuracy: 21.875%\n",
            "GB | Epoch 0 | Loss: 1.6122448444366455 | Accuracy: 20.3125%\n",
            "GB | Epoch 0 | Loss: 1.6088292598724365 | Accuracy: 14.0625%\n",
            "GB | Epoch 0 | Loss: 1.6127642393112183 | Accuracy: 20.3125%\n",
            "GB | Epoch 0 | Loss: 1.6157958507537842 | Accuracy: 14.0625%\n",
            "GB | Epoch 0 | Loss: 1.6138653755187988 | Accuracy: 17.1875%\n",
            "GB | Epoch 0 | Loss: 1.6031817197799683 | Accuracy: 23.4375%\n",
            "GB | Epoch 0 | Loss: 1.610164999961853 | Accuracy: 18.75%\n",
            "GB | Epoch 0 | Loss: 1.6131010055541992 | Accuracy: 20.3125%\n",
            "GB | Epoch 0 | Loss: 1.6084657907485962 | Accuracy: 20.3125%\n",
            "GB | Epoch 0 | Loss: 1.6104923486709595 | Accuracy: 17.1875%\n",
            "GB | Epoch 0 | Loss: 1.6141225099563599 | Accuracy: 15.625%\n",
            "GB | Epoch 0 | Loss: 1.6104360818862915 | Accuracy: 18.75%\n",
            "GB | Epoch 0 | Loss: 1.6060371398925781 | Accuracy: 26.5625%\n",
            "GB | Epoch 0 | Loss: 1.6006746292114258 | Accuracy: 20.3125%\n",
            "GB | Epoch 0 | Loss: 1.6124013662338257 | Accuracy: 15.625%\n",
            "GB | Epoch 0 | Loss: 1.6082324981689453 | Accuracy: 26.5625%\n",
            "GB | Epoch 0 | Loss: 1.611319661140442 | Accuracy: 20.3125%\n",
            "GB | Epoch 0 | Loss: 1.6222724914550781 | Accuracy: 12.5%\n",
            "GB | Epoch 0 | Loss: 1.607986569404602 | Accuracy: 23.4375%\n",
            "GB | Epoch 0 | Loss: 1.6098498106002808 | Accuracy: 23.4375%\n",
            "GB | Epoch 0 | Loss: 1.6067599058151245 | Accuracy: 21.875%\n",
            "GB | Epoch 0 | Loss: 1.611647605895996 | Accuracy: 20.3125%\n",
            "GB | Epoch 0 | Loss: 1.605862021446228 | Accuracy: 15.625%\n"
          ]
        },
        {
          "name": "stderr",
          "output_type": "stream",
          "text": [
            "Epoch 0:  19%|█▉        | 146/751 [00:01<00:03, 152.07batch/s, accuracy=18.75%, loss=1.61]"
          ]
        },
        {
          "name": "stdout",
          "output_type": "stream",
          "text": [
            "GB | Epoch 0 | Loss: 1.6126161813735962 | Accuracy: 20.3125%\n",
            "GB | Epoch 0 | Loss: 1.6034181118011475 | Accuracy: 28.125%\n",
            "GB | Epoch 0 | Loss: 1.6106256246566772 | Accuracy: 26.5625%\n",
            "GB | Epoch 0 | Loss: 1.602207899093628 | Accuracy: 20.3125%\n",
            "GB | Epoch 0 | Loss: 1.6110641956329346 | Accuracy: 15.625%\n",
            "GB | Epoch 0 | Loss: 1.6090487241744995 | Accuracy: 21.875%\n",
            "GB | Epoch 0 | Loss: 1.6073914766311646 | Accuracy: 18.75%\n",
            "GB | Epoch 0 | Loss: 1.6014745235443115 | Accuracy: 25.0%\n",
            "GB | Epoch 0 | Loss: 1.6035053730010986 | Accuracy: 23.4375%\n",
            "GB | Epoch 0 | Loss: 1.6080025434494019 | Accuracy: 20.3125%\n",
            "GB | Epoch 0 | Loss: 1.6115105152130127 | Accuracy: 17.1875%\n",
            "GB | Epoch 0 | Loss: 1.6167960166931152 | Accuracy: 12.5%\n",
            "GB | Epoch 0 | Loss: 1.6214993000030518 | Accuracy: 10.9375%\n",
            "GB | Epoch 0 | Loss: 1.6163371801376343 | Accuracy: 20.3125%\n",
            "GB | Epoch 0 | Loss: 1.6099086999893188 | Accuracy: 12.5%\n",
            "GB | Epoch 0 | Loss: 1.6104497909545898 | Accuracy: 21.875%\n",
            "GB | Epoch 0 | Loss: 1.6164937019348145 | Accuracy: 14.0625%\n",
            "GB | Epoch 0 | Loss: 1.6039884090423584 | Accuracy: 29.6875%\n",
            "GB | Epoch 0 | Loss: 1.615565538406372 | Accuracy: 10.9375%\n",
            "GB | Epoch 0 | Loss: 1.6116564273834229 | Accuracy: 20.3125%\n",
            "GB | Epoch 0 | Loss: 1.6015582084655762 | Accuracy: 20.3125%\n",
            "GB | Epoch 0 | Loss: 1.6112068891525269 | Accuracy: 17.1875%\n",
            "GB | Epoch 0 | Loss: 1.6044098138809204 | Accuracy: 18.75%\n",
            "GB | Epoch 0 | Loss: 1.6124672889709473 | Accuracy: 12.5%\n",
            "GB | Epoch 0 | Loss: 1.6022926568984985 | Accuracy: 20.3125%\n",
            "GB | Epoch 0 | Loss: 1.614829421043396 | Accuracy: 15.625%\n",
            "GB | Epoch 0 | Loss: 1.6063894033432007 | Accuracy: 21.875%\n",
            "GB | Epoch 0 | Loss: 1.6116822957992554 | Accuracy: 17.1875%\n",
            "GB | Epoch 0 | Loss: 1.615126609802246 | Accuracy: 18.75%\n",
            "GB | Epoch 0 | Loss: 1.6075186729431152 | Accuracy: 18.75%\n"
          ]
        },
        {
          "name": "stderr",
          "output_type": "stream",
          "text": [
            "Epoch 0:  24%|██▎       | 177/751 [00:01<00:03, 146.72batch/s, accuracy=17.1875%, loss=1.61]"
          ]
        },
        {
          "name": "stdout",
          "output_type": "stream",
          "text": [
            "GB | Epoch 0 | Loss: 1.612330675125122 | Accuracy: 17.1875%\n",
            "GB | Epoch 0 | Loss: 1.6069034337997437 | Accuracy: 23.4375%\n",
            "GB | Epoch 0 | Loss: 1.6093562841415405 | Accuracy: 21.875%\n",
            "GB | Epoch 0 | Loss: 1.612711787223816 | Accuracy: 12.5%\n",
            "GB | Epoch 0 | Loss: 1.6047155857086182 | Accuracy: 23.4375%\n",
            "GB | Epoch 0 | Loss: 1.613063097000122 | Accuracy: 12.5%\n",
            "GB | Epoch 0 | Loss: 1.6039122343063354 | Accuracy: 23.4375%\n",
            "GB | Epoch 0 | Loss: 1.606285572052002 | Accuracy: 21.875%\n",
            "GB | Epoch 0 | Loss: 1.6122671365737915 | Accuracy: 14.0625%\n",
            "GB | Epoch 0 | Loss: 1.6123919486999512 | Accuracy: 21.875%\n",
            "GB | Epoch 0 | Loss: 1.603739857673645 | Accuracy: 23.4375%\n",
            "GB | Epoch 0 | Loss: 1.6078567504882812 | Accuracy: 26.5625%\n",
            "GB | Epoch 0 | Loss: 1.6097514629364014 | Accuracy: 14.0625%\n",
            "GB | Epoch 0 | Loss: 1.612248182296753 | Accuracy: 15.625%\n",
            "GB | Epoch 0 | Loss: 1.6051329374313354 | Accuracy: 28.125%\n",
            "GB | Epoch 0 | Loss: 1.6144392490386963 | Accuracy: 12.5%\n",
            "GB | Epoch 0 | Loss: 1.6092908382415771 | Accuracy: 18.75%\n",
            "GB | Epoch 0 | Loss: 1.6132115125656128 | Accuracy: 14.0625%\n",
            "GB | Epoch 0 | Loss: 1.6067644357681274 | Accuracy: 25.0%\n",
            "GB | Epoch 0 | Loss: 1.6079171895980835 | Accuracy: 25.0%\n",
            "GB | Epoch 0 | Loss: 1.607505202293396 | Accuracy: 15.625%\n",
            "GB | Epoch 0 | Loss: 1.6122965812683105 | Accuracy: 21.875%\n",
            "GB | Epoch 0 | Loss: 1.6076076030731201 | Accuracy: 25.0%\n",
            "GB | Epoch 0 | Loss: 1.6050902605056763 | Accuracy: 21.875%\n",
            "GB | Epoch 0 | Loss: 1.6094948053359985 | Accuracy: 26.5625%\n",
            "GB | Epoch 0 | Loss: 1.6090402603149414 | Accuracy: 20.3125%\n",
            "GB | Epoch 0 | Loss: 1.608469009399414 | Accuracy: 20.3125%\n",
            "GB | Epoch 0 | Loss: 1.6006678342819214 | Accuracy: 32.8125%\n",
            "GB | Epoch 0 | Loss: 1.6120810508728027 | Accuracy: 17.1875%\n",
            "GB | Epoch 0 | Loss: 1.6142220497131348 | Accuracy: 12.5%\n",
            "GB | Epoch 0 | Loss: 1.6060824394226074 | Accuracy: 17.1875%\n"
          ]
        },
        {
          "name": "stderr",
          "output_type": "stream",
          "text": [
            "Epoch 0:  28%|██▊       | 209/751 [00:01<00:03, 150.95batch/s, accuracy=15.625%, loss=1.61]"
          ]
        },
        {
          "name": "stdout",
          "output_type": "stream",
          "text": [
            "GB | Epoch 0 | Loss: 1.6086944341659546 | Accuracy: 18.75%\n",
            "GB | Epoch 0 | Loss: 1.6085431575775146 | Accuracy: 18.75%\n",
            "GB | Epoch 0 | Loss: 1.614232063293457 | Accuracy: 17.1875%\n",
            "GB | Epoch 0 | Loss: 1.6078981161117554 | Accuracy: 18.75%\n",
            "GB | Epoch 0 | Loss: 1.6101481914520264 | Accuracy: 23.4375%\n",
            "GB | Epoch 0 | Loss: 1.6077141761779785 | Accuracy: 17.1875%\n",
            "GB | Epoch 0 | Loss: 1.598562479019165 | Accuracy: 31.25%\n",
            "GB | Epoch 0 | Loss: 1.6166479587554932 | Accuracy: 12.5%\n",
            "GB | Epoch 0 | Loss: 1.6031606197357178 | Accuracy: 20.3125%\n",
            "GB | Epoch 0 | Loss: 1.6060611009597778 | Accuracy: 23.4375%\n",
            "GB | Epoch 0 | Loss: 1.6075801849365234 | Accuracy: 23.4375%\n",
            "GB | Epoch 0 | Loss: 1.612741231918335 | Accuracy: 9.375%\n",
            "GB | Epoch 0 | Loss: 1.6071434020996094 | Accuracy: 21.875%\n",
            "GB | Epoch 0 | Loss: 1.6150007247924805 | Accuracy: 12.5%\n",
            "GB | Epoch 0 | Loss: 1.615911841392517 | Accuracy: 12.5%\n",
            "GB | Epoch 0 | Loss: 1.6024422645568848 | Accuracy: 26.5625%\n",
            "GB | Epoch 0 | Loss: 1.603759765625 | Accuracy: 20.3125%\n",
            "GB | Epoch 0 | Loss: 1.6119275093078613 | Accuracy: 20.3125%\n",
            "GB | Epoch 0 | Loss: 1.6045610904693604 | Accuracy: 28.125%\n",
            "GB | Epoch 0 | Loss: 1.6081829071044922 | Accuracy: 17.1875%\n",
            "GB | Epoch 0 | Loss: 1.6133791208267212 | Accuracy: 12.5%\n",
            "GB | Epoch 0 | Loss: 1.613755226135254 | Accuracy: 14.0625%\n",
            "GB | Epoch 0 | Loss: 1.6100329160690308 | Accuracy: 18.75%\n",
            "GB | Epoch 0 | Loss: 1.6043745279312134 | Accuracy: 25.0%\n",
            "GB | Epoch 0 | Loss: 1.6100587844848633 | Accuracy: 17.1875%\n",
            "GB | Epoch 0 | Loss: 1.5997540950775146 | Accuracy: 39.0625%\n",
            "GB | Epoch 0 | Loss: 1.6034940481185913 | Accuracy: 17.1875%\n",
            "GB | Epoch 0 | Loss: 1.6034795045852661 | Accuracy: 26.5625%\n",
            "GB | Epoch 0 | Loss: 1.6030149459838867 | Accuracy: 23.4375%\n",
            "GB | Epoch 0 | Loss: 1.6072512865066528 | Accuracy: 23.4375%\n",
            "GB | Epoch 0 | Loss: 1.6032248735427856 | Accuracy: 21.875%\n",
            "GB | Epoch 0 | Loss: 1.612539291381836 | Accuracy: 15.625%\n"
          ]
        },
        {
          "name": "stderr",
          "output_type": "stream",
          "text": [
            "Epoch 0:  32%|███▏      | 241/751 [00:01<00:03, 152.24batch/s, accuracy=21.875%, loss=1.61]"
          ]
        },
        {
          "name": "stdout",
          "output_type": "stream",
          "text": [
            "GB | Epoch 0 | Loss: 1.606587290763855 | Accuracy: 21.875%\n",
            "GB | Epoch 0 | Loss: 1.6121139526367188 | Accuracy: 17.1875%\n",
            "GB | Epoch 0 | Loss: 1.608477234840393 | Accuracy: 23.4375%\n",
            "GB | Epoch 0 | Loss: 1.6045156717300415 | Accuracy: 31.25%\n",
            "GB | Epoch 0 | Loss: 1.6125195026397705 | Accuracy: 18.75%\n",
            "GB | Epoch 0 | Loss: 1.607499361038208 | Accuracy: 17.1875%\n",
            "GB | Epoch 0 | Loss: 1.6155394315719604 | Accuracy: 20.3125%\n",
            "GB | Epoch 0 | Loss: 1.6081817150115967 | Accuracy: 21.875%\n",
            "GB | Epoch 0 | Loss: 1.6118687391281128 | Accuracy: 12.5%\n",
            "GB | Epoch 0 | Loss: 1.6051009893417358 | Accuracy: 23.4375%\n",
            "GB | Epoch 0 | Loss: 1.6110531091690063 | Accuracy: 18.75%\n",
            "GB | Epoch 0 | Loss: 1.611114263534546 | Accuracy: 14.0625%\n",
            "GB | Epoch 0 | Loss: 1.6035135984420776 | Accuracy: 26.5625%\n",
            "GB | Epoch 0 | Loss: 1.6084468364715576 | Accuracy: 18.75%\n",
            "GB | Epoch 0 | Loss: 1.6122584342956543 | Accuracy: 14.0625%\n",
            "GB | Epoch 0 | Loss: 1.6072901487350464 | Accuracy: 17.1875%\n",
            "GB | Epoch 0 | Loss: 1.612506628036499 | Accuracy: 20.3125%\n",
            "GB | Epoch 0 | Loss: 1.611465334892273 | Accuracy: 15.625%\n",
            "GB | Epoch 0 | Loss: 1.6072454452514648 | Accuracy: 23.4375%\n",
            "GB | Epoch 0 | Loss: 1.6177198886871338 | Accuracy: 9.375%\n",
            "GB | Epoch 0 | Loss: 1.610696792602539 | Accuracy: 18.75%\n",
            "GB | Epoch 0 | Loss: 1.6073458194732666 | Accuracy: 15.625%\n",
            "GB | Epoch 0 | Loss: 1.6055965423583984 | Accuracy: 26.5625%\n",
            "GB | Epoch 0 | Loss: 1.6097476482391357 | Accuracy: 17.1875%\n",
            "GB | Epoch 0 | Loss: 1.6162948608398438 | Accuracy: 10.9375%\n",
            "GB | Epoch 0 | Loss: 1.603301763534546 | Accuracy: 25.0%\n",
            "GB | Epoch 0 | Loss: 1.609131932258606 | Accuracy: 15.625%\n",
            "GB | Epoch 0 | Loss: 1.6115554571151733 | Accuracy: 17.1875%\n",
            "GB | Epoch 0 | Loss: 1.6108816862106323 | Accuracy: 17.1875%\n",
            "GB | Epoch 0 | Loss: 1.607206106185913 | Accuracy: 21.875%\n"
          ]
        },
        {
          "name": "stderr",
          "output_type": "stream",
          "text": [
            "Epoch 0:  36%|███▋      | 273/751 [00:02<00:03, 152.74batch/s, accuracy=25.0%, loss=1.61]"
          ]
        },
        {
          "name": "stdout",
          "output_type": "stream",
          "text": [
            "GB | Epoch 0 | Loss: 1.6072728633880615 | Accuracy: 21.875%\n",
            "GB | Epoch 0 | Loss: 1.608505368232727 | Accuracy: 15.625%\n",
            "GB | Epoch 0 | Loss: 1.613372564315796 | Accuracy: 17.1875%\n",
            "GB | Epoch 0 | Loss: 1.6067407131195068 | Accuracy: 25.0%\n",
            "GB | Epoch 0 | Loss: 1.6099046468734741 | Accuracy: 18.75%\n",
            "GB | Epoch 0 | Loss: 1.6097685098648071 | Accuracy: 18.75%\n",
            "GB | Epoch 0 | Loss: 1.6019765138626099 | Accuracy: 28.125%\n",
            "GB | Epoch 0 | Loss: 1.604048728942871 | Accuracy: 21.875%\n",
            "GB | Epoch 0 | Loss: 1.6097506284713745 | Accuracy: 18.75%\n",
            "GB | Epoch 0 | Loss: 1.6091710329055786 | Accuracy: 18.75%\n",
            "GB | Epoch 0 | Loss: 1.6070078611373901 | Accuracy: 23.4375%\n",
            "GB | Epoch 0 | Loss: 1.6061091423034668 | Accuracy: 25.0%\n",
            "GB | Epoch 0 | Loss: 1.606209397315979 | Accuracy: 20.3125%\n",
            "GB | Epoch 0 | Loss: 1.6026028394699097 | Accuracy: 26.5625%\n",
            "GB | Epoch 0 | Loss: 1.6131625175476074 | Accuracy: 14.0625%\n",
            "GB | Epoch 0 | Loss: 1.60100519657135 | Accuracy: 26.5625%\n",
            "GB | Epoch 0 | Loss: 1.6061755418777466 | Accuracy: 25.0%\n",
            "GB | Epoch 0 | Loss: 1.6131879091262817 | Accuracy: 9.375%\n",
            "GB | Epoch 0 | Loss: 1.6059961318969727 | Accuracy: 20.3125%\n",
            "GB | Epoch 0 | Loss: 1.6081613302230835 | Accuracy: 17.1875%\n",
            "GB | Epoch 0 | Loss: 1.6061631441116333 | Accuracy: 21.875%\n",
            "GB | Epoch 0 | Loss: 1.6105643510818481 | Accuracy: 18.75%\n",
            "GB | Epoch 0 | Loss: 1.611012578010559 | Accuracy: 17.1875%\n",
            "GB | Epoch 0 | Loss: 1.6079202890396118 | Accuracy: 21.875%\n",
            "GB | Epoch 0 | Loss: 1.6110082864761353 | Accuracy: 18.75%\n",
            "GB | Epoch 0 | Loss: 1.6121562719345093 | Accuracy: 12.5%\n",
            "GB | Epoch 0 | Loss: 1.6011161804199219 | Accuracy: 34.375%\n",
            "GB | Epoch 0 | Loss: 1.607202410697937 | Accuracy: 25.0%\n",
            "GB | Epoch 0 | Loss: 1.6046373844146729 | Accuracy: 21.875%\n",
            "GB | Epoch 0 | Loss: 1.6007012128829956 | Accuracy: 31.25%\n",
            "GB | Epoch 0 | Loss: 1.6092529296875 | Accuracy: 25.0%\n"
          ]
        },
        {
          "name": "stderr",
          "output_type": "stream",
          "text": [
            "Epoch 0:  41%|████      | 305/751 [00:02<00:02, 151.07batch/s, accuracy=20.3125%, loss=1.61]"
          ]
        },
        {
          "name": "stdout",
          "output_type": "stream",
          "text": [
            "GB | Epoch 0 | Loss: 1.6062815189361572 | Accuracy: 20.3125%\n",
            "GB | Epoch 0 | Loss: 1.6109918355941772 | Accuracy: 20.3125%\n",
            "GB | Epoch 0 | Loss: 1.604262113571167 | Accuracy: 25.0%\n",
            "GB | Epoch 0 | Loss: 1.6028450727462769 | Accuracy: 25.0%\n",
            "GB | Epoch 0 | Loss: 1.604071021080017 | Accuracy: 25.0%\n",
            "GB | Epoch 0 | Loss: 1.6050305366516113 | Accuracy: 18.75%\n",
            "GB | Epoch 0 | Loss: 1.6032729148864746 | Accuracy: 26.5625%\n",
            "GB | Epoch 0 | Loss: 1.607071042060852 | Accuracy: 21.875%\n",
            "GB | Epoch 0 | Loss: 1.603488802909851 | Accuracy: 18.75%\n",
            "GB | Epoch 0 | Loss: 1.6127922534942627 | Accuracy: 18.75%\n",
            "GB | Epoch 0 | Loss: 1.6088274717330933 | Accuracy: 17.1875%\n",
            "GB | Epoch 0 | Loss: 1.6024953126907349 | Accuracy: 31.25%\n",
            "GB | Epoch 0 | Loss: 1.6116105318069458 | Accuracy: 18.75%\n",
            "GB | Epoch 0 | Loss: 1.6038767099380493 | Accuracy: 17.1875%\n",
            "GB | Epoch 0 | Loss: 1.601425051689148 | Accuracy: 29.6875%\n",
            "GB | Epoch 0 | Loss: 1.6065410375595093 | Accuracy: 20.3125%\n",
            "GB | Epoch 0 | Loss: 1.6084691286087036 | Accuracy: 17.1875%\n",
            "GB | Epoch 0 | Loss: 1.6086580753326416 | Accuracy: 15.625%\n",
            "GB | Epoch 0 | Loss: 1.6065508127212524 | Accuracy: 21.875%\n",
            "GB | Epoch 0 | Loss: 1.60242760181427 | Accuracy: 26.5625%\n",
            "GB | Epoch 0 | Loss: 1.6097502708435059 | Accuracy: 17.1875%\n",
            "GB | Epoch 0 | Loss: 1.6075116395950317 | Accuracy: 15.625%\n",
            "GB | Epoch 0 | Loss: 1.6103274822235107 | Accuracy: 17.1875%\n",
            "GB | Epoch 0 | Loss: 1.6038579940795898 | Accuracy: 23.4375%\n",
            "GB | Epoch 0 | Loss: 1.6007122993469238 | Accuracy: 26.5625%\n",
            "GB | Epoch 0 | Loss: 1.6123466491699219 | Accuracy: 14.0625%\n",
            "GB | Epoch 0 | Loss: 1.6107845306396484 | Accuracy: 14.0625%\n",
            "GB | Epoch 0 | Loss: 1.60486900806427 | Accuracy: 21.875%\n",
            "GB | Epoch 0 | Loss: 1.608628511428833 | Accuracy: 17.1875%\n"
          ]
        },
        {
          "name": "stderr",
          "output_type": "stream",
          "text": [
            "Epoch 0:  45%|████▍     | 337/751 [00:02<00:02, 151.03batch/s, accuracy=18.75%, loss=1.61] "
          ]
        },
        {
          "name": "stdout",
          "output_type": "stream",
          "text": [
            "GB | Epoch 0 | Loss: 1.6084792613983154 | Accuracy: 20.3125%\n",
            "GB | Epoch 0 | Loss: 1.6044669151306152 | Accuracy: 20.3125%\n",
            "GB | Epoch 0 | Loss: 1.6059632301330566 | Accuracy: 20.3125%\n",
            "GB | Epoch 0 | Loss: 1.604241132736206 | Accuracy: 26.5625%\n",
            "GB | Epoch 0 | Loss: 1.6015284061431885 | Accuracy: 21.875%\n",
            "GB | Epoch 0 | Loss: 1.6073263883590698 | Accuracy: 15.625%\n",
            "GB | Epoch 0 | Loss: 1.6050361394882202 | Accuracy: 29.6875%\n",
            "GB | Epoch 0 | Loss: 1.603307843208313 | Accuracy: 26.5625%\n",
            "GB | Epoch 0 | Loss: 1.6049954891204834 | Accuracy: 28.125%\n",
            "GB | Epoch 0 | Loss: 1.613284707069397 | Accuracy: 10.9375%\n",
            "GB | Epoch 0 | Loss: 1.606528639793396 | Accuracy: 23.4375%\n",
            "GB | Epoch 0 | Loss: 1.6054767370224 | Accuracy: 21.875%\n",
            "GB | Epoch 0 | Loss: 1.606368064880371 | Accuracy: 21.875%\n",
            "GB | Epoch 0 | Loss: 1.6045143604278564 | Accuracy: 20.3125%\n",
            "GB | Epoch 0 | Loss: 1.6021695137023926 | Accuracy: 25.0%\n",
            "GB | Epoch 0 | Loss: 1.6074252128601074 | Accuracy: 17.1875%\n",
            "GB | Epoch 0 | Loss: 1.609032154083252 | Accuracy: 18.75%\n",
            "GB | Epoch 0 | Loss: 1.6085211038589478 | Accuracy: 18.75%\n",
            "GB | Epoch 0 | Loss: 1.6068220138549805 | Accuracy: 17.1875%\n",
            "GB | Epoch 0 | Loss: 1.604445219039917 | Accuracy: 31.25%\n",
            "GB | Epoch 0 | Loss: 1.6081866025924683 | Accuracy: 18.75%\n",
            "GB | Epoch 0 | Loss: 1.6078689098358154 | Accuracy: 17.1875%\n",
            "GB | Epoch 0 | Loss: 1.6078484058380127 | Accuracy: 25.0%\n",
            "GB | Epoch 0 | Loss: 1.609237790107727 | Accuracy: 15.625%\n",
            "GB | Epoch 0 | Loss: 1.611574411392212 | Accuracy: 14.0625%\n",
            "GB | Epoch 0 | Loss: 1.606558918952942 | Accuracy: 18.75%\n",
            "GB | Epoch 0 | Loss: 1.6132278442382812 | Accuracy: 10.9375%\n",
            "GB | Epoch 0 | Loss: 1.6075202226638794 | Accuracy: 18.75%\n",
            "GB | Epoch 0 | Loss: 1.6116284132003784 | Accuracy: 14.0625%\n",
            "GB | Epoch 0 | Loss: 1.606735110282898 | Accuracy: 18.75%\n",
            "GB | Epoch 0 | Loss: 1.5994353294372559 | Accuracy: 26.5625%\n",
            "GB | Epoch 0 | Loss: 1.6092474460601807 | Accuracy: 18.75%\n"
          ]
        },
        {
          "name": "stderr",
          "output_type": "stream",
          "text": [
            "Epoch 0:  49%|████▉     | 370/751 [00:02<00:02, 156.81batch/s, accuracy=9.375%, loss=1.61]"
          ]
        },
        {
          "name": "stdout",
          "output_type": "stream",
          "text": [
            "GB | Epoch 0 | Loss: 1.6056286096572876 | Accuracy: 15.625%\n",
            "GB | Epoch 0 | Loss: 1.609784722328186 | Accuracy: 23.4375%\n",
            "GB | Epoch 0 | Loss: 1.6053799390792847 | Accuracy: 15.625%\n",
            "GB | Epoch 0 | Loss: 1.6124982833862305 | Accuracy: 9.375%\n",
            "GB | Epoch 0 | Loss: 1.6042920351028442 | Accuracy: 21.875%\n",
            "GB | Epoch 0 | Loss: 1.606735110282898 | Accuracy: 21.875%\n",
            "GB | Epoch 0 | Loss: 1.610115647315979 | Accuracy: 17.1875%\n",
            "GB | Epoch 0 | Loss: 1.6068421602249146 | Accuracy: 20.3125%\n",
            "GB | Epoch 0 | Loss: 1.6024894714355469 | Accuracy: 23.4375%\n",
            "GB | Epoch 0 | Loss: 1.6069529056549072 | Accuracy: 20.3125%\n",
            "GB | Epoch 0 | Loss: 1.6069296598434448 | Accuracy: 18.75%\n",
            "GB | Epoch 0 | Loss: 1.6024658679962158 | Accuracy: 21.875%\n",
            "GB | Epoch 0 | Loss: 1.6077053546905518 | Accuracy: 14.0625%\n",
            "GB | Epoch 0 | Loss: 1.601628303527832 | Accuracy: 26.5625%\n",
            "GB | Epoch 0 | Loss: 1.6038613319396973 | Accuracy: 21.875%\n",
            "GB | Epoch 0 | Loss: 1.6080130338668823 | Accuracy: 14.0625%\n",
            "GB | Epoch 0 | Loss: 1.609972357749939 | Accuracy: 17.1875%\n",
            "GB | Epoch 0 | Loss: 1.6098297834396362 | Accuracy: 21.875%\n",
            "GB | Epoch 0 | Loss: 1.6060914993286133 | Accuracy: 17.1875%\n",
            "GB | Epoch 0 | Loss: 1.611328363418579 | Accuracy: 14.0625%\n",
            "GB | Epoch 0 | Loss: 1.607912540435791 | Accuracy: 21.875%\n",
            "GB | Epoch 0 | Loss: 1.6085444688796997 | Accuracy: 17.1875%\n",
            "GB | Epoch 0 | Loss: 1.6071935892105103 | Accuracy: 21.875%\n",
            "GB | Epoch 0 | Loss: 1.6048542261123657 | Accuracy: 17.1875%\n",
            "GB | Epoch 0 | Loss: 1.6049197912216187 | Accuracy: 26.5625%\n",
            "GB | Epoch 0 | Loss: 1.6094492673873901 | Accuracy: 15.625%\n",
            "GB | Epoch 0 | Loss: 1.6075718402862549 | Accuracy: 25.0%\n",
            "GB | Epoch 0 | Loss: 1.6070225238800049 | Accuracy: 21.875%\n",
            "GB | Epoch 0 | Loss: 1.6075068712234497 | Accuracy: 17.1875%\n",
            "GB | Epoch 0 | Loss: 1.6063228845596313 | Accuracy: 21.875%\n",
            "GB | Epoch 0 | Loss: 1.6081823110580444 | Accuracy: 20.3125%\n",
            "GB | Epoch 0 | Loss: 1.6033328771591187 | Accuracy: 21.875%\n",
            "GB | Epoch 0 | Loss: 1.6143914461135864 | Accuracy: 9.375%\n"
          ]
        },
        {
          "name": "stderr",
          "output_type": "stream",
          "text": [
            "Epoch 0:  54%|█████▎    | 402/751 [00:02<00:02, 154.27batch/s, accuracy=15.625%, loss=1.61]"
          ]
        },
        {
          "name": "stdout",
          "output_type": "stream",
          "text": [
            "GB | Epoch 0 | Loss: 1.6070507764816284 | Accuracy: 12.5%\n",
            "GB | Epoch 0 | Loss: 1.6056047677993774 | Accuracy: 23.4375%\n",
            "GB | Epoch 0 | Loss: 1.6045023202896118 | Accuracy: 32.8125%\n",
            "GB | Epoch 0 | Loss: 1.6055970191955566 | Accuracy: 20.3125%\n",
            "GB | Epoch 0 | Loss: 1.6081167459487915 | Accuracy: 21.875%\n",
            "GB | Epoch 0 | Loss: 1.607387661933899 | Accuracy: 21.875%\n",
            "GB | Epoch 0 | Loss: 1.6020480394363403 | Accuracy: 25.0%\n",
            "GB | Epoch 0 | Loss: 1.6032782793045044 | Accuracy: 23.4375%\n",
            "GB | Epoch 0 | Loss: 1.605479121208191 | Accuracy: 26.5625%\n",
            "GB | Epoch 0 | Loss: 1.6055246591567993 | Accuracy: 20.3125%\n",
            "GB | Epoch 0 | Loss: 1.6067497730255127 | Accuracy: 15.625%\n",
            "GB | Epoch 0 | Loss: 1.604846477508545 | Accuracy: 23.4375%\n",
            "GB | Epoch 0 | Loss: 1.597580909729004 | Accuracy: 31.25%\n",
            "GB | Epoch 0 | Loss: 1.6073323488235474 | Accuracy: 18.75%\n",
            "GB | Epoch 0 | Loss: 1.6067357063293457 | Accuracy: 17.1875%\n",
            "GB | Epoch 0 | Loss: 1.608229160308838 | Accuracy: 17.1875%\n",
            "GB | Epoch 0 | Loss: 1.6058018207550049 | Accuracy: 21.875%\n",
            "GB | Epoch 0 | Loss: 1.6068243980407715 | Accuracy: 14.0625%\n",
            "GB | Epoch 0 | Loss: 1.6056251525878906 | Accuracy: 15.625%\n",
            "GB | Epoch 0 | Loss: 1.6053047180175781 | Accuracy: 20.3125%\n",
            "GB | Epoch 0 | Loss: 1.6030082702636719 | Accuracy: 20.3125%\n",
            "GB | Epoch 0 | Loss: 1.611876368522644 | Accuracy: 10.9375%\n",
            "GB | Epoch 0 | Loss: 1.6081819534301758 | Accuracy: 17.1875%\n",
            "GB | Epoch 0 | Loss: 1.6045562028884888 | Accuracy: 25.0%\n",
            "GB | Epoch 0 | Loss: 1.60856294631958 | Accuracy: 15.625%\n",
            "GB | Epoch 0 | Loss: 1.6034183502197266 | Accuracy: 21.875%\n",
            "GB | Epoch 0 | Loss: 1.6068179607391357 | Accuracy: 17.1875%\n",
            "GB | Epoch 0 | Loss: 1.6068620681762695 | Accuracy: 18.75%\n",
            "GB | Epoch 0 | Loss: 1.6031899452209473 | Accuracy: 21.875%\n",
            "GB | Epoch 0 | Loss: 1.6045204401016235 | Accuracy: 21.875%\n",
            "GB | Epoch 0 | Loss: 1.6099021434783936 | Accuracy: 15.625%\n"
          ]
        },
        {
          "name": "stderr",
          "output_type": "stream",
          "text": [
            "Epoch 0:  58%|█████▊    | 434/751 [00:03<00:02, 153.04batch/s, accuracy=28.125%, loss=1.6] "
          ]
        },
        {
          "name": "stdout",
          "output_type": "stream",
          "text": [
            "GB | Epoch 0 | Loss: 1.6064507961273193 | Accuracy: 21.875%\n",
            "GB | Epoch 0 | Loss: 1.605707049369812 | Accuracy: 17.1875%\n",
            "GB | Epoch 0 | Loss: 1.6086626052856445 | Accuracy: 15.625%\n",
            "GB | Epoch 0 | Loss: 1.6080273389816284 | Accuracy: 14.0625%\n",
            "GB | Epoch 0 | Loss: 1.6026232242584229 | Accuracy: 23.4375%\n",
            "GB | Epoch 0 | Loss: 1.6108424663543701 | Accuracy: 12.5%\n",
            "GB | Epoch 0 | Loss: 1.6021331548690796 | Accuracy: 21.875%\n",
            "GB | Epoch 0 | Loss: 1.6049519777297974 | Accuracy: 23.4375%\n",
            "GB | Epoch 0 | Loss: 1.604660987854004 | Accuracy: 21.875%\n",
            "GB | Epoch 0 | Loss: 1.6027337312698364 | Accuracy: 28.125%\n",
            "GB | Epoch 0 | Loss: 1.6006804704666138 | Accuracy: 25.0%\n",
            "GB | Epoch 0 | Loss: 1.6051796674728394 | Accuracy: 15.625%\n",
            "GB | Epoch 0 | Loss: 1.6046364307403564 | Accuracy: 21.875%\n",
            "GB | Epoch 0 | Loss: 1.605751633644104 | Accuracy: 15.625%\n",
            "GB | Epoch 0 | Loss: 1.6055361032485962 | Accuracy: 25.0%\n",
            "GB | Epoch 0 | Loss: 1.6054317951202393 | Accuracy: 21.875%\n",
            "GB | Epoch 0 | Loss: 1.6095260381698608 | Accuracy: 15.625%\n",
            "GB | Epoch 0 | Loss: 1.606764554977417 | Accuracy: 20.3125%\n",
            "GB | Epoch 0 | Loss: 1.6050920486450195 | Accuracy: 18.75%\n",
            "GB | Epoch 0 | Loss: 1.601793885231018 | Accuracy: 26.5625%\n",
            "GB | Epoch 0 | Loss: 1.6058424711227417 | Accuracy: 21.875%\n",
            "GB | Epoch 0 | Loss: 1.6004592180252075 | Accuracy: 29.6875%\n",
            "GB | Epoch 0 | Loss: 1.6061331033706665 | Accuracy: 15.625%\n",
            "GB | Epoch 0 | Loss: 1.6058403253555298 | Accuracy: 17.1875%\n",
            "GB | Epoch 0 | Loss: 1.609375238418579 | Accuracy: 18.75%\n",
            "GB | Epoch 0 | Loss: 1.607184648513794 | Accuracy: 18.75%\n",
            "GB | Epoch 0 | Loss: 1.6008951663970947 | Accuracy: 28.125%\n",
            "GB | Epoch 0 | Loss: 1.6037887334823608 | Accuracy: 23.4375%\n",
            "GB | Epoch 0 | Loss: 1.6019878387451172 | Accuracy: 25.0%\n",
            "GB | Epoch 0 | Loss: 1.6034835577011108 | Accuracy: 26.5625%\n",
            "GB | Epoch 0 | Loss: 1.5994257926940918 | Accuracy: 28.125%\n"
          ]
        },
        {
          "name": "stderr",
          "output_type": "stream",
          "text": [
            "Epoch 0:  60%|█████▉    | 450/751 [00:03<00:01, 151.94batch/s, accuracy=17.1875%, loss=1.61]"
          ]
        },
        {
          "name": "stdout",
          "output_type": "stream",
          "text": [
            "GB | Epoch 0 | Loss: 1.5992203950881958 | Accuracy: 32.8125%\n",
            "GB | Epoch 0 | Loss: 1.6035937070846558 | Accuracy: 18.75%\n",
            "GB | Epoch 0 | Loss: 1.6077953577041626 | Accuracy: 17.1875%\n",
            "GB | Epoch 0 | Loss: 1.606807827949524 | Accuracy: 18.75%\n",
            "GB | Epoch 0 | Loss: 1.6065800189971924 | Accuracy: 15.625%\n",
            "GB | Epoch 0 | Loss: 1.6028199195861816 | Accuracy: 21.875%\n",
            "GB | Epoch 0 | Loss: 1.606182336807251 | Accuracy: 21.875%\n",
            "GB | Epoch 0 | Loss: 1.605252981185913 | Accuracy: 15.625%\n",
            "GB | Epoch 0 | Loss: 1.6061193943023682 | Accuracy: 20.3125%\n",
            "GB | Epoch 0 | Loss: 1.6052305698394775 | Accuracy: 25.0%\n",
            "GB | Epoch 0 | Loss: 1.6066160202026367 | Accuracy: 15.625%\n",
            "GB | Epoch 0 | Loss: 1.6028554439544678 | Accuracy: 23.4375%\n",
            "GB | Epoch 0 | Loss: 1.607602596282959 | Accuracy: 20.3125%\n",
            "GB | Epoch 0 | Loss: 1.6074832677841187 | Accuracy: 17.1875%\n",
            "GB | Epoch 0 | Loss: 1.6104470491409302 | Accuracy: 12.5%\n",
            "GB | Epoch 0 | Loss: 1.6001120805740356 | Accuracy: 28.125%\n",
            "GB | Epoch 0 | Loss: 1.6085978746414185 | Accuracy: 15.625%\n",
            "GB | Epoch 0 | Loss: 1.5996798276901245 | Accuracy: 31.25%\n",
            "GB | Epoch 0 | Loss: 1.6059143543243408 | Accuracy: 17.1875%\n",
            "GB | Epoch 0 | Loss: 1.6074763536453247 | Accuracy: 18.75%\n",
            "GB | Epoch 0 | Loss: 1.6042345762252808 | Accuracy: 20.3125%\n",
            "GB | Epoch 0 | Loss: 1.6015912294387817 | Accuracy: 21.875%\n",
            "GB | Epoch 0 | Loss: 1.6068227291107178 | Accuracy: 18.75%\n",
            "GB | Epoch 0 | Loss: 1.602742314338684 | Accuracy: 23.4375%\n",
            "GB | Epoch 0 | Loss: 1.600115418434143 | Accuracy: 23.4375%\n",
            "GB | Epoch 0 | Loss: 1.6071382761001587 | Accuracy: 15.625%\n",
            "GB | Epoch 0 | Loss: 1.6031488180160522 | Accuracy: 18.75%\n",
            "GB | Epoch 0 | Loss: 1.6102181673049927 | Accuracy: 10.9375%\n",
            "GB | Epoch 0 | Loss: 1.6090284585952759 | Accuracy: 17.1875%\n"
          ]
        },
        {
          "name": "stderr",
          "output_type": "stream",
          "text": [
            "Epoch 0:  64%|██████▍   | 481/751 [00:03<00:01, 144.56batch/s, accuracy=20.3125%, loss=1.6] "
          ]
        },
        {
          "name": "stdout",
          "output_type": "stream",
          "text": [
            "GB | Epoch 0 | Loss: 1.6033731698989868 | Accuracy: 26.5625%\n",
            "GB | Epoch 0 | Loss: 1.59958815574646 | Accuracy: 25.0%\n",
            "GB | Epoch 0 | Loss: 1.608154296875 | Accuracy: 14.0625%\n",
            "GB | Epoch 0 | Loss: 1.6035758256912231 | Accuracy: 15.625%\n",
            "GB | Epoch 0 | Loss: 1.6067204475402832 | Accuracy: 20.3125%\n",
            "GB | Epoch 0 | Loss: 1.6009207963943481 | Accuracy: 31.25%\n",
            "GB | Epoch 0 | Loss: 1.6072814464569092 | Accuracy: 14.0625%\n",
            "GB | Epoch 0 | Loss: 1.6046465635299683 | Accuracy: 20.3125%\n",
            "GB | Epoch 0 | Loss: 1.6069213151931763 | Accuracy: 14.0625%\n",
            "GB | Epoch 0 | Loss: 1.6043941974639893 | Accuracy: 14.0625%\n",
            "GB | Epoch 0 | Loss: 1.6073637008666992 | Accuracy: 17.1875%\n",
            "GB | Epoch 0 | Loss: 1.6060186624526978 | Accuracy: 15.625%\n",
            "GB | Epoch 0 | Loss: 1.600964069366455 | Accuracy: 26.5625%\n",
            "GB | Epoch 0 | Loss: 1.6049951314926147 | Accuracy: 18.75%\n",
            "GB | Epoch 0 | Loss: 1.6060353517532349 | Accuracy: 14.0625%\n",
            "GB | Epoch 0 | Loss: 1.6006368398666382 | Accuracy: 28.125%\n",
            "GB | Epoch 0 | Loss: 1.6058827638626099 | Accuracy: 15.625%\n",
            "GB | Epoch 0 | Loss: 1.6050291061401367 | Accuracy: 12.5%\n",
            "GB | Epoch 0 | Loss: 1.6067421436309814 | Accuracy: 14.0625%\n",
            "GB | Epoch 0 | Loss: 1.6027932167053223 | Accuracy: 20.3125%\n",
            "GB | Epoch 0 | Loss: 1.6038334369659424 | Accuracy: 14.0625%\n",
            "GB | Epoch 0 | Loss: 1.6047518253326416 | Accuracy: 21.875%\n",
            "GB | Epoch 0 | Loss: 1.6068388223648071 | Accuracy: 15.625%\n",
            "GB | Epoch 0 | Loss: 1.6080436706542969 | Accuracy: 17.1875%\n",
            "GB | Epoch 0 | Loss: 1.603441596031189 | Accuracy: 25.0%\n",
            "GB | Epoch 0 | Loss: 1.606553077697754 | Accuracy: 20.3125%\n",
            "GB | Epoch 0 | Loss: 1.598934531211853 | Accuracy: 21.875%\n",
            "GB | Epoch 0 | Loss: 1.6024640798568726 | Accuracy: 28.125%\n",
            "GB | Epoch 0 | Loss: 1.6057296991348267 | Accuracy: 15.625%\n",
            "GB | Epoch 0 | Loss: 1.6054409742355347 | Accuracy: 17.1875%\n",
            "GB | Epoch 0 | Loss: 1.6036598682403564 | Accuracy: 20.3125%\n"
          ]
        },
        {
          "name": "stderr",
          "output_type": "stream",
          "text": [
            "Epoch 0:  68%|██████▊   | 514/751 [00:03<00:01, 152.60batch/s, accuracy=18.75%, loss=1.6] "
          ]
        },
        {
          "name": "stdout",
          "output_type": "stream",
          "text": [
            "GB | Epoch 0 | Loss: 1.6038252115249634 | Accuracy: 18.75%\n",
            "GB | Epoch 0 | Loss: 1.6041662693023682 | Accuracy: 20.3125%\n",
            "GB | Epoch 0 | Loss: 1.6039811372756958 | Accuracy: 25.0%\n",
            "GB | Epoch 0 | Loss: 1.6057276725769043 | Accuracy: 20.3125%\n",
            "GB | Epoch 0 | Loss: 1.6079210042953491 | Accuracy: 15.625%\n",
            "GB | Epoch 0 | Loss: 1.608170747756958 | Accuracy: 18.75%\n",
            "GB | Epoch 0 | Loss: 1.6055035591125488 | Accuracy: 25.0%\n",
            "GB | Epoch 0 | Loss: 1.6000920534133911 | Accuracy: 23.4375%\n",
            "GB | Epoch 0 | Loss: 1.60175359249115 | Accuracy: 25.0%\n",
            "GB | Epoch 0 | Loss: 1.6047307252883911 | Accuracy: 21.875%\n",
            "GB | Epoch 0 | Loss: 1.6059868335723877 | Accuracy: 18.75%\n",
            "GB | Epoch 0 | Loss: 1.601606011390686 | Accuracy: 20.3125%\n",
            "GB | Epoch 0 | Loss: 1.5999393463134766 | Accuracy: 20.3125%\n",
            "GB | Epoch 0 | Loss: 1.6021475791931152 | Accuracy: 25.0%\n",
            "GB | Epoch 0 | Loss: 1.60431706905365 | Accuracy: 23.4375%\n",
            "GB | Epoch 0 | Loss: 1.6071051359176636 | Accuracy: 17.1875%\n",
            "GB | Epoch 0 | Loss: 1.6082617044448853 | Accuracy: 12.5%\n",
            "GB | Epoch 0 | Loss: 1.6069377660751343 | Accuracy: 17.1875%\n",
            "GB | Epoch 0 | Loss: 1.6025974750518799 | Accuracy: 26.5625%\n",
            "GB | Epoch 0 | Loss: 1.6010708808898926 | Accuracy: 20.3125%\n",
            "GB | Epoch 0 | Loss: 1.6071324348449707 | Accuracy: 12.5%\n",
            "GB | Epoch 0 | Loss: 1.6012951135635376 | Accuracy: 20.3125%\n",
            "GB | Epoch 0 | Loss: 1.6066220998764038 | Accuracy: 15.625%\n",
            "GB | Epoch 0 | Loss: 1.602627158164978 | Accuracy: 20.3125%\n",
            "GB | Epoch 0 | Loss: 1.6003751754760742 | Accuracy: 21.875%\n",
            "GB | Epoch 0 | Loss: 1.603479027748108 | Accuracy: 18.75%\n",
            "GB | Epoch 0 | Loss: 1.6035106182098389 | Accuracy: 18.75%\n",
            "GB | Epoch 0 | Loss: 1.607155680656433 | Accuracy: 18.75%\n",
            "GB | Epoch 0 | Loss: 1.601523756980896 | Accuracy: 25.0%\n",
            "GB | Epoch 0 | Loss: 1.5955861806869507 | Accuracy: 34.375%\n",
            "GB | Epoch 0 | Loss: 1.6037429571151733 | Accuracy: 18.75%\n"
          ]
        },
        {
          "name": "stderr",
          "output_type": "stream",
          "text": [
            "Epoch 0:  73%|███████▎  | 546/751 [00:03<00:01, 152.03batch/s, accuracy=20.3125%, loss=1.6]"
          ]
        },
        {
          "name": "stdout",
          "output_type": "stream",
          "text": [
            "GB | Epoch 0 | Loss: 1.6036009788513184 | Accuracy: 20.3125%\n",
            "GB | Epoch 0 | Loss: 1.6029633283615112 | Accuracy: 18.75%\n",
            "GB | Epoch 0 | Loss: 1.6013730764389038 | Accuracy: 28.125%\n",
            "GB | Epoch 0 | Loss: 1.6006834506988525 | Accuracy: 32.8125%\n",
            "GB | Epoch 0 | Loss: 1.6071538925170898 | Accuracy: 14.0625%\n",
            "GB | Epoch 0 | Loss: 1.6011682748794556 | Accuracy: 25.0%\n",
            "GB | Epoch 0 | Loss: 1.601094126701355 | Accuracy: 28.125%\n",
            "GB | Epoch 0 | Loss: 1.6031649112701416 | Accuracy: 21.875%\n",
            "GB | Epoch 0 | Loss: 1.6017855405807495 | Accuracy: 29.6875%\n",
            "GB | Epoch 0 | Loss: 1.6003652811050415 | Accuracy: 26.5625%\n",
            "GB | Epoch 0 | Loss: 1.6030750274658203 | Accuracy: 21.875%\n",
            "GB | Epoch 0 | Loss: 1.604607343673706 | Accuracy: 18.75%\n",
            "GB | Epoch 0 | Loss: 1.5996010303497314 | Accuracy: 25.0%\n",
            "GB | Epoch 0 | Loss: 1.5999767780303955 | Accuracy: 23.4375%\n",
            "GB | Epoch 0 | Loss: 1.6006293296813965 | Accuracy: 29.6875%\n",
            "GB | Epoch 0 | Loss: 1.6005033254623413 | Accuracy: 29.6875%\n",
            "GB | Epoch 0 | Loss: 1.5995606184005737 | Accuracy: 26.5625%\n",
            "GB | Epoch 0 | Loss: 1.6010421514511108 | Accuracy: 20.3125%\n",
            "GB | Epoch 0 | Loss: 1.5993766784667969 | Accuracy: 23.4375%\n",
            "GB | Epoch 0 | Loss: 1.6024516820907593 | Accuracy: 21.875%\n",
            "GB | Epoch 0 | Loss: 1.5995063781738281 | Accuracy: 25.0%\n",
            "GB | Epoch 0 | Loss: 1.6011425256729126 | Accuracy: 26.5625%\n",
            "GB | Epoch 0 | Loss: 1.6075831651687622 | Accuracy: 17.1875%\n",
            "GB | Epoch 0 | Loss: 1.604801893234253 | Accuracy: 18.75%\n",
            "GB | Epoch 0 | Loss: 1.5984630584716797 | Accuracy: 20.3125%\n",
            "GB | Epoch 0 | Loss: 1.6074717044830322 | Accuracy: 12.5%\n",
            "GB | Epoch 0 | Loss: 1.5954383611679077 | Accuracy: 25.0%\n",
            "GB | Epoch 0 | Loss: 1.5981847047805786 | Accuracy: 23.4375%\n",
            "GB | Epoch 0 | Loss: 1.602353811264038 | Accuracy: 18.75%\n",
            "GB | Epoch 0 | Loss: 1.6034659147262573 | Accuracy: 15.625%\n",
            "GB | Epoch 0 | Loss: 1.6024528741836548 | Accuracy: 20.3125%\n"
          ]
        },
        {
          "name": "stderr",
          "output_type": "stream",
          "text": [
            "Epoch 0:  77%|███████▋  | 579/751 [00:04<00:01, 153.51batch/s, accuracy=25.0%, loss=1.6]    "
          ]
        },
        {
          "name": "stdout",
          "output_type": "stream",
          "text": [
            "GB | Epoch 0 | Loss: 1.5990852117538452 | Accuracy: 25.0%\n",
            "GB | Epoch 0 | Loss: 1.602609395980835 | Accuracy: 17.1875%\n",
            "GB | Epoch 0 | Loss: 1.59639573097229 | Accuracy: 26.5625%\n",
            "GB | Epoch 0 | Loss: 1.5974611043930054 | Accuracy: 25.0%\n",
            "GB | Epoch 0 | Loss: 1.6027865409851074 | Accuracy: 15.625%\n",
            "GB | Epoch 0 | Loss: 1.5988965034484863 | Accuracy: 25.0%\n",
            "GB | Epoch 0 | Loss: 1.6038117408752441 | Accuracy: 18.75%\n",
            "GB | Epoch 0 | Loss: 1.599556565284729 | Accuracy: 25.0%\n",
            "GB | Epoch 0 | Loss: 1.5952705144882202 | Accuracy: 29.6875%\n",
            "GB | Epoch 0 | Loss: 1.6005909442901611 | Accuracy: 23.4375%\n",
            "GB | Epoch 0 | Loss: 1.599798321723938 | Accuracy: 21.875%\n",
            "GB | Epoch 0 | Loss: 1.598067045211792 | Accuracy: 23.4375%\n",
            "GB | Epoch 0 | Loss: 1.6019896268844604 | Accuracy: 20.3125%\n",
            "GB | Epoch 0 | Loss: 1.59775710105896 | Accuracy: 26.5625%\n",
            "GB | Epoch 0 | Loss: 1.5937409400939941 | Accuracy: 31.25%\n",
            "GB | Epoch 0 | Loss: 1.6001769304275513 | Accuracy: 23.4375%\n",
            "GB | Epoch 0 | Loss: 1.6077091693878174 | Accuracy: 10.9375%\n",
            "GB | Epoch 0 | Loss: 1.5959833860397339 | Accuracy: 26.5625%\n",
            "GB | Epoch 0 | Loss: 1.5927232503890991 | Accuracy: 32.8125%\n",
            "GB | Epoch 0 | Loss: 1.5975252389907837 | Accuracy: 20.3125%\n",
            "GB | Epoch 0 | Loss: 1.5957062244415283 | Accuracy: 28.125%\n",
            "GB | Epoch 0 | Loss: 1.5965226888656616 | Accuracy: 25.0%\n",
            "GB | Epoch 0 | Loss: 1.597232460975647 | Accuracy: 23.4375%\n",
            "GB | Epoch 0 | Loss: 1.602418065071106 | Accuracy: 18.75%\n",
            "GB | Epoch 0 | Loss: 1.6037921905517578 | Accuracy: 15.625%\n",
            "GB | Epoch 0 | Loss: 1.5972813367843628 | Accuracy: 21.875%\n",
            "GB | Epoch 0 | Loss: 1.6010377407073975 | Accuracy: 18.75%\n",
            "GB | Epoch 0 | Loss: 1.599587082862854 | Accuracy: 23.4375%\n",
            "GB | Epoch 0 | Loss: 1.6072276830673218 | Accuracy: 14.0625%\n",
            "GB | Epoch 0 | Loss: 1.6001017093658447 | Accuracy: 25.0%\n"
          ]
        },
        {
          "name": "stderr",
          "output_type": "stream",
          "text": [
            "Epoch 0:  81%|████████▏ | 611/751 [00:04<00:00, 148.26batch/s, accuracy=18.75%, loss=1.6]  "
          ]
        },
        {
          "name": "stdout",
          "output_type": "stream",
          "text": [
            "GB | Epoch 0 | Loss: 1.6014388799667358 | Accuracy: 25.0%\n",
            "GB | Epoch 0 | Loss: 1.5968631505966187 | Accuracy: 23.4375%\n",
            "GB | Epoch 0 | Loss: 1.6036851406097412 | Accuracy: 21.875%\n",
            "GB | Epoch 0 | Loss: 1.5957704782485962 | Accuracy: 26.5625%\n",
            "GB | Epoch 0 | Loss: 1.6024789810180664 | Accuracy: 20.3125%\n",
            "GB | Epoch 0 | Loss: 1.601069688796997 | Accuracy: 18.75%\n",
            "GB | Epoch 0 | Loss: 1.6009933948516846 | Accuracy: 17.1875%\n",
            "GB | Epoch 0 | Loss: 1.5985664129257202 | Accuracy: 28.125%\n",
            "GB | Epoch 0 | Loss: 1.5989311933517456 | Accuracy: 25.0%\n",
            "GB | Epoch 0 | Loss: 1.5914342403411865 | Accuracy: 26.5625%\n",
            "GB | Epoch 0 | Loss: 1.6033086776733398 | Accuracy: 15.625%\n",
            "GB | Epoch 0 | Loss: 1.5998748540878296 | Accuracy: 25.0%\n",
            "GB | Epoch 0 | Loss: 1.5947285890579224 | Accuracy: 21.875%\n",
            "GB | Epoch 0 | Loss: 1.604421854019165 | Accuracy: 18.75%\n",
            "GB | Epoch 0 | Loss: 1.6020233631134033 | Accuracy: 20.3125%\n",
            "GB | Epoch 0 | Loss: 1.6072694063186646 | Accuracy: 17.1875%\n",
            "GB | Epoch 0 | Loss: 1.6032732725143433 | Accuracy: 17.1875%\n",
            "GB | Epoch 0 | Loss: 1.6031711101531982 | Accuracy: 17.1875%\n",
            "GB | Epoch 0 | Loss: 1.60072660446167 | Accuracy: 20.3125%\n",
            "GB | Epoch 0 | Loss: 1.5967950820922852 | Accuracy: 25.0%\n",
            "GB | Epoch 0 | Loss: 1.6007730960845947 | Accuracy: 20.3125%\n",
            "GB | Epoch 0 | Loss: 1.6033055782318115 | Accuracy: 17.1875%\n",
            "GB | Epoch 0 | Loss: 1.6018056869506836 | Accuracy: 18.75%\n",
            "GB | Epoch 0 | Loss: 1.601536750793457 | Accuracy: 15.625%\n",
            "GB | Epoch 0 | Loss: 1.596990704536438 | Accuracy: 20.3125%\n",
            "GB | Epoch 0 | Loss: 1.6054288148880005 | Accuracy: 10.9375%\n",
            "GB | Epoch 0 | Loss: 1.6026513576507568 | Accuracy: 17.1875%\n",
            "GB | Epoch 0 | Loss: 1.5937422513961792 | Accuracy: 20.3125%\n",
            "GB | Epoch 0 | Loss: 1.6029911041259766 | Accuracy: 14.0625%\n",
            "GB | Epoch 0 | Loss: 1.599985122680664 | Accuracy: 18.75%\n"
          ]
        },
        {
          "name": "stderr",
          "output_type": "stream",
          "text": [
            "Epoch 0:  85%|████████▌ | 642/751 [00:04<00:00, 145.02batch/s, accuracy=25.0%, loss=1.6]   "
          ]
        },
        {
          "name": "stdout",
          "output_type": "stream",
          "text": [
            "GB | Epoch 0 | Loss: 1.599173903465271 | Accuracy: 17.1875%\n",
            "GB | Epoch 0 | Loss: 1.5937225818634033 | Accuracy: 28.125%\n",
            "GB | Epoch 0 | Loss: 1.600439429283142 | Accuracy: 15.625%\n",
            "GB | Epoch 0 | Loss: 1.5996567010879517 | Accuracy: 18.75%\n",
            "GB | Epoch 0 | Loss: 1.6019318103790283 | Accuracy: 18.75%\n",
            "GB | Epoch 0 | Loss: 1.5941840410232544 | Accuracy: 21.875%\n",
            "GB | Epoch 0 | Loss: 1.596484899520874 | Accuracy: 21.875%\n",
            "GB | Epoch 0 | Loss: 1.5935046672821045 | Accuracy: 25.0%\n",
            "GB | Epoch 0 | Loss: 1.6008732318878174 | Accuracy: 18.75%\n",
            "GB | Epoch 0 | Loss: 1.603963851928711 | Accuracy: 12.5%\n",
            "GB | Epoch 0 | Loss: 1.595362663269043 | Accuracy: 23.4375%\n",
            "GB | Epoch 0 | Loss: 1.588058352470398 | Accuracy: 29.6875%\n",
            "GB | Epoch 0 | Loss: 1.592933177947998 | Accuracy: 29.6875%\n",
            "GB | Epoch 0 | Loss: 1.5987926721572876 | Accuracy: 21.875%\n",
            "GB | Epoch 0 | Loss: 1.5977803468704224 | Accuracy: 15.625%\n",
            "GB | Epoch 0 | Loss: 1.6010286808013916 | Accuracy: 15.625%\n",
            "GB | Epoch 0 | Loss: 1.5951993465423584 | Accuracy: 28.125%\n",
            "GB | Epoch 0 | Loss: 1.591292142868042 | Accuracy: 29.6875%\n",
            "GB | Epoch 0 | Loss: 1.5976568460464478 | Accuracy: 18.75%\n",
            "GB | Epoch 0 | Loss: 1.5958709716796875 | Accuracy: 23.4375%\n",
            "GB | Epoch 0 | Loss: 1.5994846820831299 | Accuracy: 17.1875%\n",
            "GB | Epoch 0 | Loss: 1.5982599258422852 | Accuracy: 20.3125%\n",
            "GB | Epoch 0 | Loss: 1.591596245765686 | Accuracy: 28.125%\n",
            "GB | Epoch 0 | Loss: 1.591788649559021 | Accuracy: 23.4375%\n",
            "GB | Epoch 0 | Loss: 1.5958932638168335 | Accuracy: 26.5625%\n",
            "GB | Epoch 0 | Loss: 1.6056880950927734 | Accuracy: 10.9375%\n",
            "GB | Epoch 0 | Loss: 1.5931185483932495 | Accuracy: 18.75%\n",
            "GB | Epoch 0 | Loss: 1.5955557823181152 | Accuracy: 23.4375%\n",
            "GB | Epoch 0 | Loss: 1.596001148223877 | Accuracy: 25.0%\n"
          ]
        },
        {
          "name": "stderr",
          "output_type": "stream",
          "text": [
            "Epoch 0:  90%|████████▉ | 673/751 [00:04<00:00, 148.54batch/s, accuracy=28.125%, loss=1.59]"
          ]
        },
        {
          "name": "stdout",
          "output_type": "stream",
          "text": [
            "GB | Epoch 0 | Loss: 1.6015620231628418 | Accuracy: 17.1875%\n",
            "GB | Epoch 0 | Loss: 1.600546956062317 | Accuracy: 23.4375%\n",
            "GB | Epoch 0 | Loss: 1.5924979448318481 | Accuracy: 25.0%\n",
            "GB | Epoch 0 | Loss: 1.5906177759170532 | Accuracy: 26.5625%\n",
            "GB | Epoch 0 | Loss: 1.6047803163528442 | Accuracy: 9.375%\n",
            "GB | Epoch 0 | Loss: 1.6006544828414917 | Accuracy: 18.75%\n",
            "GB | Epoch 0 | Loss: 1.5960944890975952 | Accuracy: 25.0%\n",
            "GB | Epoch 0 | Loss: 1.5882258415222168 | Accuracy: 28.125%\n",
            "GB | Epoch 0 | Loss: 1.5993980169296265 | Accuracy: 15.625%\n",
            "GB | Epoch 0 | Loss: 1.5987613201141357 | Accuracy: 23.4375%\n",
            "GB | Epoch 0 | Loss: 1.5987831354141235 | Accuracy: 21.875%\n",
            "GB | Epoch 0 | Loss: 1.585655927658081 | Accuracy: 31.25%\n",
            "GB | Epoch 0 | Loss: 1.5882118940353394 | Accuracy: 29.6875%\n",
            "GB | Epoch 0 | Loss: 1.595706820487976 | Accuracy: 25.0%\n",
            "GB | Epoch 0 | Loss: 1.5942707061767578 | Accuracy: 26.5625%\n",
            "GB | Epoch 0 | Loss: 1.6022789478302002 | Accuracy: 17.1875%\n",
            "GB | Epoch 0 | Loss: 1.6015182733535767 | Accuracy: 17.1875%\n",
            "GB | Epoch 0 | Loss: 1.5899302959442139 | Accuracy: 23.4375%\n",
            "GB | Epoch 0 | Loss: 1.5938470363616943 | Accuracy: 18.75%\n",
            "GB | Epoch 0 | Loss: 1.5938622951507568 | Accuracy: 18.75%\n",
            "GB | Epoch 0 | Loss: 1.601622223854065 | Accuracy: 21.875%\n",
            "GB | Epoch 0 | Loss: 1.589746117591858 | Accuracy: 25.0%\n",
            "GB | Epoch 0 | Loss: 1.5996049642562866 | Accuracy: 12.5%\n",
            "GB | Epoch 0 | Loss: 1.5878376960754395 | Accuracy: 28.125%\n",
            "GB | Epoch 0 | Loss: 1.5943341255187988 | Accuracy: 26.5625%\n",
            "GB | Epoch 0 | Loss: 1.598955512046814 | Accuracy: 18.75%\n",
            "GB | Epoch 0 | Loss: 1.604814887046814 | Accuracy: 12.5%\n",
            "GB | Epoch 0 | Loss: 1.5877572298049927 | Accuracy: 20.3125%\n",
            "GB | Epoch 0 | Loss: 1.592816948890686 | Accuracy: 25.0%\n",
            "GB | Epoch 0 | Loss: 1.5916341543197632 | Accuracy: 28.125%\n"
          ]
        },
        {
          "name": "stderr",
          "output_type": "stream",
          "text": [
            "Epoch 0:  94%|█████████▎| 703/751 [00:04<00:00, 139.70batch/s, accuracy=17.1875%, loss=1.6]"
          ]
        },
        {
          "name": "stdout",
          "output_type": "stream",
          "text": [
            "GB | Epoch 0 | Loss: 1.5961614847183228 | Accuracy: 15.625%\n",
            "GB | Epoch 0 | Loss: 1.5991064310073853 | Accuracy: 17.1875%\n",
            "GB | Epoch 0 | Loss: 1.5934449434280396 | Accuracy: 25.0%\n",
            "GB | Epoch 0 | Loss: 1.5961596965789795 | Accuracy: 18.75%\n",
            "GB | Epoch 0 | Loss: 1.5891504287719727 | Accuracy: 21.875%\n",
            "GB | Epoch 0 | Loss: 1.5900168418884277 | Accuracy: 21.875%\n",
            "GB | Epoch 0 | Loss: 1.5922706127166748 | Accuracy: 25.0%\n",
            "GB | Epoch 0 | Loss: 1.5941073894500732 | Accuracy: 23.4375%\n",
            "GB | Epoch 0 | Loss: 1.6036655902862549 | Accuracy: 12.5%\n",
            "GB | Epoch 0 | Loss: 1.5928314924240112 | Accuracy: 23.4375%\n",
            "GB | Epoch 0 | Loss: 1.6012725830078125 | Accuracy: 9.375%\n",
            "GB | Epoch 0 | Loss: 1.5923973321914673 | Accuracy: 18.75%\n",
            "GB | Epoch 0 | Loss: 1.5928750038146973 | Accuracy: 23.4375%\n",
            "GB | Epoch 0 | Loss: 1.5911465883255005 | Accuracy: 23.4375%\n",
            "GB | Epoch 0 | Loss: 1.5964950323104858 | Accuracy: 23.4375%\n",
            "GB | Epoch 0 | Loss: 1.5933516025543213 | Accuracy: 17.1875%\n",
            "GB | Epoch 0 | Loss: 1.5851058959960938 | Accuracy: 28.125%\n",
            "GB | Epoch 0 | Loss: 1.5902775526046753 | Accuracy: 25.0%\n",
            "GB | Epoch 0 | Loss: 1.5943292379379272 | Accuracy: 17.1875%\n",
            "GB | Epoch 0 | Loss: 1.6008195877075195 | Accuracy: 14.0625%\n",
            "GB | Epoch 0 | Loss: 1.5951353311538696 | Accuracy: 21.875%\n",
            "GB | Epoch 0 | Loss: 1.5906540155410767 | Accuracy: 20.3125%\n",
            "GB | Epoch 0 | Loss: 1.5931992530822754 | Accuracy: 21.875%\n",
            "GB | Epoch 0 | Loss: 1.594728946685791 | Accuracy: 18.75%\n",
            "GB | Epoch 0 | Loss: 1.59898841381073 | Accuracy: 15.625%\n",
            "GB | Epoch 0 | Loss: 1.5872135162353516 | Accuracy: 21.875%\n",
            "GB | Epoch 0 | Loss: 1.5989019870758057 | Accuracy: 17.1875%\n"
          ]
        },
        {
          "name": "stderr",
          "output_type": "stream",
          "text": [
            "Epoch 0:  98%|█████████▊| 733/751 [00:05<00:00, 142.93batch/s, accuracy=25.0%, loss=1.6] "
          ]
        },
        {
          "name": "stdout",
          "output_type": "stream",
          "text": [
            "GB | Epoch 0 | Loss: 1.603660225868225 | Accuracy: 14.0625%\n",
            "GB | Epoch 0 | Loss: 1.5866352319717407 | Accuracy: 29.6875%\n",
            "GB | Epoch 0 | Loss: 1.591249942779541 | Accuracy: 28.125%\n",
            "GB | Epoch 0 | Loss: 1.5934938192367554 | Accuracy: 20.3125%\n",
            "GB | Epoch 0 | Loss: 1.59111487865448 | Accuracy: 26.5625%\n",
            "GB | Epoch 0 | Loss: 1.5928460359573364 | Accuracy: 25.0%\n",
            "GB | Epoch 0 | Loss: 1.5909799337387085 | Accuracy: 28.125%\n",
            "GB | Epoch 0 | Loss: 1.5889651775360107 | Accuracy: 21.875%\n",
            "GB | Epoch 0 | Loss: 1.5903937816619873 | Accuracy: 21.875%\n",
            "GB | Epoch 0 | Loss: 1.5991637706756592 | Accuracy: 14.0625%\n",
            "GB | Epoch 0 | Loss: 1.5961551666259766 | Accuracy: 28.125%\n",
            "GB | Epoch 0 | Loss: 1.6030914783477783 | Accuracy: 20.3125%\n",
            "GB | Epoch 0 | Loss: 1.5944879055023193 | Accuracy: 23.4375%\n",
            "GB | Epoch 0 | Loss: 1.5925909280776978 | Accuracy: 26.5625%\n",
            "GB | Epoch 0 | Loss: 1.588957667350769 | Accuracy: 28.125%\n",
            "GB | Epoch 0 | Loss: 1.5950570106506348 | Accuracy: 31.25%\n",
            "GB | Epoch 0 | Loss: 1.591904640197754 | Accuracy: 31.25%\n",
            "GB | Epoch 0 | Loss: 1.5855083465576172 | Accuracy: 25.0%\n",
            "GB | Epoch 0 | Loss: 1.5860310792922974 | Accuracy: 26.5625%\n",
            "GB | Epoch 0 | Loss: 1.595637321472168 | Accuracy: 21.875%\n",
            "GB | Epoch 0 | Loss: 1.5890891551971436 | Accuracy: 32.8125%\n",
            "GB | Epoch 0 | Loss: 1.5822639465332031 | Accuracy: 23.4375%\n",
            "GB | Epoch 0 | Loss: 1.5799330472946167 | Accuracy: 34.375%\n",
            "GB | Epoch 0 | Loss: 1.5913444757461548 | Accuracy: 23.4375%\n",
            "GB | Epoch 0 | Loss: 1.5840615034103394 | Accuracy: 31.25%\n",
            "GB | Epoch 0 | Loss: 1.5914560556411743 | Accuracy: 18.75%\n",
            "GB | Epoch 0 | Loss: 1.5850549936294556 | Accuracy: 26.5625%\n",
            "GB | Epoch 0 | Loss: 1.585463523864746 | Accuracy: 29.6875%\n",
            "GB | Epoch 0 | Loss: 1.584741473197937 | Accuracy: 20.3125%\n",
            "GB | Epoch 0 | Loss: 1.5903236865997314 | Accuracy: 25.0%\n"
          ]
        },
        {
          "name": "stderr",
          "output_type": "stream",
          "text": [
            "Epoch 0: 100%|█████████▉| 749/751 [00:05<00:00, 146.70batch/s, accuracy=0.0%, loss=1.61]    "
          ]
        },
        {
          "name": "stdout",
          "output_type": "stream",
          "text": [
            "GB | Epoch 0 | Loss: 1.5951985120773315 | Accuracy: 25.0%\n",
            "GB | Epoch 0 | Loss: 1.5934803485870361 | Accuracy: 20.3125%\n",
            "GB | Epoch 0 | Loss: 1.5793542861938477 | Accuracy: 34.375%\n",
            "GB | Epoch 0 | Loss: 1.593035101890564 | Accuracy: 29.6875%\n",
            "GB | Epoch 0 | Loss: 1.5778934955596924 | Accuracy: 28.125%\n",
            "GB | Epoch 0 | Loss: 1.5875537395477295 | Accuracy: 20.3125%\n",
            "GB | Epoch 0 | Loss: 1.599798321723938 | Accuracy: 14.0625%\n",
            "GB | Epoch 0 | Loss: 1.5745738744735718 | Accuracy: 40.625%\n",
            "GB | Epoch 0 | Loss: 1.5702916383743286 | Accuracy: 35.9375%\n",
            "GB | Epoch 0 | Loss: 1.5846424102783203 | Accuracy: 31.25%\n",
            "GB | Epoch 0 | Loss: 1.5925986766815186 | Accuracy: 21.875%\n",
            "GB | Epoch 0 | Loss: 1.583756446838379 | Accuracy: 28.125%\n",
            "GB | Epoch 0 | Loss: 1.5932585000991821 | Accuracy: 25.0%\n",
            "GB | Epoch 0 | Loss: 1.5943403244018555 | Accuracy: 18.75%\n",
            "GB | Epoch 0 | Loss: 1.583724856376648 | Accuracy: 25.0%\n",
            "GB | Epoch 0 | Loss: 1.5897951126098633 | Accuracy: 25.0%\n",
            "GB | Epoch 0 | Loss: 1.5881409645080566 | Accuracy: 20.3125%\n",
            "GB | Epoch 0 | Loss: 1.6068933010101318 | Accuracy: 0.0%\n"
          ]
        },
        {
          "name": "stderr",
          "output_type": "stream",
          "text": [
            "Epoch 0: 100%|██████████| 751/751 [00:05<00:00, 138.23batch/s, accuracy=0.0%, loss=1.61]\n",
            "Epoch 1:   2%|▏         | 14/751 [00:00<00:15, 48.96batch/s, accuracy=28.125%, loss=1.59] "
          ]
        },
        {
          "name": "stdout",
          "output_type": "stream",
          "text": [
            "GB | Epoch 1 | Loss: 1.5817209482192993 | Accuracy: 29.6875%\n",
            "GB | Epoch 1 | Loss: 1.5924468040466309 | Accuracy: 37.5%\n",
            "GB | Epoch 1 | Loss: 1.5881760120391846 | Accuracy: 23.4375%\n",
            "GB | Epoch 1 | Loss: 1.5693801641464233 | Accuracy: 35.9375%\n",
            "GB | Epoch 1 | Loss: 1.572088599205017 | Accuracy: 39.0625%\n",
            "GB | Epoch 1 | Loss: 1.5795576572418213 | Accuracy: 26.5625%\n",
            "GB | Epoch 1 | Loss: 1.5939899682998657 | Accuracy: 29.6875%\n",
            "GB | Epoch 1 | Loss: 1.596003532409668 | Accuracy: 20.3125%\n",
            "GB | Epoch 1 | Loss: 1.5935356616973877 | Accuracy: 28.125%\n",
            "GB | Epoch 1 | Loss: 1.5873109102249146 | Accuracy: 34.375%\n",
            "GB | Epoch 1 | Loss: 1.5805928707122803 | Accuracy: 29.6875%\n",
            "GB | Epoch 1 | Loss: 1.5813260078430176 | Accuracy: 29.6875%\n",
            "GB | Epoch 1 | Loss: 1.571040391921997 | Accuracy: 34.375%\n",
            "GB | Epoch 1 | Loss: 1.5838369131088257 | Accuracy: 23.4375%\n",
            "GB | Epoch 1 | Loss: 1.571513295173645 | Accuracy: 31.25%\n",
            "GB | Epoch 1 | Loss: 1.5773208141326904 | Accuracy: 21.875%\n",
            "GB | Epoch 1 | Loss: 1.5934420824050903 | Accuracy: 20.3125%\n",
            "GB | Epoch 1 | Loss: 1.5891226530075073 | Accuracy: 26.5625%\n",
            "GB | Epoch 1 | Loss: 1.587322473526001 | Accuracy: 31.25%\n",
            "GB | Epoch 1 | Loss: 1.588513731956482 | Accuracy: 21.875%\n",
            "GB | Epoch 1 | Loss: 1.5800155401229858 | Accuracy: 35.9375%\n",
            "GB | Epoch 1 | Loss: 1.5887041091918945 | Accuracy: 15.625%\n",
            "GB | Epoch 1 | Loss: 1.5815318822860718 | Accuracy: 32.8125%\n",
            "GB | Epoch 1 | Loss: 1.5845239162445068 | Accuracy: 29.6875%\n",
            "GB | Epoch 1 | Loss: 1.5946180820465088 | Accuracy: 23.4375%\n",
            "GB | Epoch 1 | Loss: 1.586422324180603 | Accuracy: 28.125%\n"
          ]
        },
        {
          "name": "stderr",
          "output_type": "stream",
          "text": [
            "Epoch 1:   6%|▌         | 42/751 [00:00<00:07, 98.01batch/s, accuracy=21.875%, loss=1.59] "
          ]
        },
        {
          "name": "stdout",
          "output_type": "stream",
          "text": [
            "GB | Epoch 1 | Loss: 1.5797414779663086 | Accuracy: 26.5625%\n",
            "GB | Epoch 1 | Loss: 1.5886518955230713 | Accuracy: 23.4375%\n",
            "GB | Epoch 1 | Loss: 1.586510419845581 | Accuracy: 23.4375%\n",
            "GB | Epoch 1 | Loss: 1.5603525638580322 | Accuracy: 39.0625%\n",
            "GB | Epoch 1 | Loss: 1.5915107727050781 | Accuracy: 20.3125%\n",
            "GB | Epoch 1 | Loss: 1.5882493257522583 | Accuracy: 17.1875%\n",
            "GB | Epoch 1 | Loss: 1.5690139532089233 | Accuracy: 37.5%\n",
            "GB | Epoch 1 | Loss: 1.5815340280532837 | Accuracy: 26.5625%\n",
            "GB | Epoch 1 | Loss: 1.5727790594100952 | Accuracy: 31.25%\n",
            "GB | Epoch 1 | Loss: 1.5923305749893188 | Accuracy: 23.4375%\n",
            "GB | Epoch 1 | Loss: 1.5817619562149048 | Accuracy: 32.8125%\n",
            "GB | Epoch 1 | Loss: 1.5776959657669067 | Accuracy: 20.3125%\n",
            "GB | Epoch 1 | Loss: 1.5803312063217163 | Accuracy: 26.5625%\n",
            "GB | Epoch 1 | Loss: 1.5872117280960083 | Accuracy: 23.4375%\n",
            "GB | Epoch 1 | Loss: 1.5953421592712402 | Accuracy: 15.625%\n",
            "GB | Epoch 1 | Loss: 1.5791414976119995 | Accuracy: 23.4375%\n",
            "GB | Epoch 1 | Loss: 1.5723285675048828 | Accuracy: 21.875%\n",
            "GB | Epoch 1 | Loss: 1.5666133165359497 | Accuracy: 23.4375%\n",
            "GB | Epoch 1 | Loss: 1.5724377632141113 | Accuracy: 25.0%\n",
            "GB | Epoch 1 | Loss: 1.5839987993240356 | Accuracy: 15.625%\n",
            "GB | Epoch 1 | Loss: 1.5663652420043945 | Accuracy: 23.4375%\n",
            "GB | Epoch 1 | Loss: 1.5603861808776855 | Accuracy: 32.8125%\n",
            "GB | Epoch 1 | Loss: 1.5705021619796753 | Accuracy: 17.1875%\n",
            "GB | Epoch 1 | Loss: 1.5646222829818726 | Accuracy: 28.125%\n",
            "GB | Epoch 1 | Loss: 1.5689512491226196 | Accuracy: 23.4375%\n",
            "GB | Epoch 1 | Loss: 1.5618382692337036 | Accuracy: 23.4375%\n",
            "GB | Epoch 1 | Loss: 1.585244059562683 | Accuracy: 12.5%\n",
            "GB | Epoch 1 | Loss: 1.568826675415039 | Accuracy: 26.5625%\n"
          ]
        },
        {
          "name": "stderr",
          "output_type": "stream",
          "text": [
            "Epoch 1:   9%|▉         | 71/751 [00:00<00:05, 120.13batch/s, accuracy=25.0%, loss=1.57]  "
          ]
        },
        {
          "name": "stdout",
          "output_type": "stream",
          "text": [
            "GB | Epoch 1 | Loss: 1.5867358446121216 | Accuracy: 21.875%\n",
            "GB | Epoch 1 | Loss: 1.58090078830719 | Accuracy: 21.875%\n",
            "GB | Epoch 1 | Loss: 1.5716365575790405 | Accuracy: 28.125%\n",
            "GB | Epoch 1 | Loss: 1.5883285999298096 | Accuracy: 17.1875%\n",
            "GB | Epoch 1 | Loss: 1.5756938457489014 | Accuracy: 18.75%\n",
            "GB | Epoch 1 | Loss: 1.573130488395691 | Accuracy: 23.4375%\n",
            "GB | Epoch 1 | Loss: 1.5713399648666382 | Accuracy: 18.75%\n",
            "GB | Epoch 1 | Loss: 1.5867704153060913 | Accuracy: 12.5%\n",
            "GB | Epoch 1 | Loss: 1.5684266090393066 | Accuracy: 25.0%\n",
            "GB | Epoch 1 | Loss: 1.595760464668274 | Accuracy: 14.0625%\n",
            "GB | Epoch 1 | Loss: 1.5775247812271118 | Accuracy: 20.3125%\n",
            "GB | Epoch 1 | Loss: 1.5501128435134888 | Accuracy: 34.375%\n",
            "GB | Epoch 1 | Loss: 1.5678045749664307 | Accuracy: 28.125%\n",
            "GB | Epoch 1 | Loss: 1.566416621208191 | Accuracy: 29.6875%\n",
            "GB | Epoch 1 | Loss: 1.5732282400131226 | Accuracy: 23.4375%\n",
            "GB | Epoch 1 | Loss: 1.5836994647979736 | Accuracy: 23.4375%\n",
            "GB | Epoch 1 | Loss: 1.5525269508361816 | Accuracy: 34.375%\n",
            "GB | Epoch 1 | Loss: 1.563276767730713 | Accuracy: 21.875%\n",
            "GB | Epoch 1 | Loss: 1.5684974193572998 | Accuracy: 32.8125%\n",
            "GB | Epoch 1 | Loss: 1.5834871530532837 | Accuracy: 18.75%\n",
            "GB | Epoch 1 | Loss: 1.579730749130249 | Accuracy: 25.0%\n",
            "GB | Epoch 1 | Loss: 1.5506126880645752 | Accuracy: 31.25%\n",
            "GB | Epoch 1 | Loss: 1.562873125076294 | Accuracy: 26.5625%\n",
            "GB | Epoch 1 | Loss: 1.5699272155761719 | Accuracy: 25.0%\n",
            "GB | Epoch 1 | Loss: 1.5648841857910156 | Accuracy: 23.4375%\n",
            "GB | Epoch 1 | Loss: 1.5612199306488037 | Accuracy: 21.875%\n",
            "GB | Epoch 1 | Loss: 1.558120608329773 | Accuracy: 26.5625%\n",
            "GB | Epoch 1 | Loss: 1.5578632354736328 | Accuracy: 28.125%\n",
            "GB | Epoch 1 | Loss: 1.5668489933013916 | Accuracy: 25.0%\n"
          ]
        },
        {
          "name": "stderr",
          "output_type": "stream",
          "text": [
            "Epoch 1:  13%|█▎        | 99/751 [00:01<00:05, 130.14batch/s, accuracy=25.0%, loss=1.57] "
          ]
        },
        {
          "name": "stdout",
          "output_type": "stream",
          "text": [
            "GB | Epoch 1 | Loss: 1.5612199306488037 | Accuracy: 23.4375%\n",
            "GB | Epoch 1 | Loss: 1.5711146593093872 | Accuracy: 21.875%\n",
            "GB | Epoch 1 | Loss: 1.5681790113449097 | Accuracy: 25.0%\n",
            "GB | Epoch 1 | Loss: 1.5696789026260376 | Accuracy: 25.0%\n",
            "GB | Epoch 1 | Loss: 1.5827233791351318 | Accuracy: 14.0625%\n",
            "GB | Epoch 1 | Loss: 1.5840246677398682 | Accuracy: 18.75%\n",
            "GB | Epoch 1 | Loss: 1.5739240646362305 | Accuracy: 28.125%\n",
            "GB | Epoch 1 | Loss: 1.5744879245758057 | Accuracy: 21.875%\n",
            "GB | Epoch 1 | Loss: 1.5549249649047852 | Accuracy: 25.0%\n",
            "GB | Epoch 1 | Loss: 1.574151873588562 | Accuracy: 23.4375%\n",
            "GB | Epoch 1 | Loss: 1.5645546913146973 | Accuracy: 18.75%\n",
            "GB | Epoch 1 | Loss: 1.5754950046539307 | Accuracy: 17.1875%\n",
            "GB | Epoch 1 | Loss: 1.5432449579238892 | Accuracy: 31.25%\n",
            "GB | Epoch 1 | Loss: 1.5866625308990479 | Accuracy: 12.5%\n",
            "GB | Epoch 1 | Loss: 1.5754770040512085 | Accuracy: 14.0625%\n",
            "GB | Epoch 1 | Loss: 1.5680841207504272 | Accuracy: 20.3125%\n",
            "GB | Epoch 1 | Loss: 1.570871114730835 | Accuracy: 20.3125%\n",
            "GB | Epoch 1 | Loss: 1.5553748607635498 | Accuracy: 20.3125%\n",
            "GB | Epoch 1 | Loss: 1.53745436668396 | Accuracy: 20.3125%\n",
            "GB | Epoch 1 | Loss: 1.575005292892456 | Accuracy: 23.4375%\n",
            "GB | Epoch 1 | Loss: 1.5279988050460815 | Accuracy: 37.5%\n",
            "GB | Epoch 1 | Loss: 1.5552469491958618 | Accuracy: 25.0%\n",
            "GB | Epoch 1 | Loss: 1.5640513896942139 | Accuracy: 25.0%\n",
            "GB | Epoch 1 | Loss: 1.5348842144012451 | Accuracy: 23.4375%\n",
            "GB | Epoch 1 | Loss: 1.538745641708374 | Accuracy: 26.5625%\n",
            "GB | Epoch 1 | Loss: 1.5653491020202637 | Accuracy: 18.75%\n",
            "GB | Epoch 1 | Loss: 1.5683826208114624 | Accuracy: 25.0%\n"
          ]
        },
        {
          "name": "stderr",
          "output_type": "stream",
          "text": [
            "Epoch 1:  17%|█▋        | 128/751 [00:01<00:04, 131.95batch/s, accuracy=28.125%, loss=1.51]"
          ]
        },
        {
          "name": "stdout",
          "output_type": "stream",
          "text": [
            "GB | Epoch 1 | Loss: 1.5710920095443726 | Accuracy: 18.75%\n",
            "GB | Epoch 1 | Loss: 1.5726325511932373 | Accuracy: 18.75%\n",
            "GB | Epoch 1 | Loss: 1.568624496459961 | Accuracy: 28.125%\n",
            "GB | Epoch 1 | Loss: 1.5344096422195435 | Accuracy: 28.125%\n",
            "GB | Epoch 1 | Loss: 1.532335877418518 | Accuracy: 35.9375%\n",
            "GB | Epoch 1 | Loss: 1.5701494216918945 | Accuracy: 21.875%\n",
            "GB | Epoch 1 | Loss: 1.5271313190460205 | Accuracy: 42.1875%\n",
            "GB | Epoch 1 | Loss: 1.5647252798080444 | Accuracy: 28.125%\n",
            "GB | Epoch 1 | Loss: 1.5463148355484009 | Accuracy: 35.9375%\n",
            "GB | Epoch 1 | Loss: 1.5795220136642456 | Accuracy: 28.125%\n",
            "GB | Epoch 1 | Loss: 1.5549935102462769 | Accuracy: 28.125%\n",
            "GB | Epoch 1 | Loss: 1.5519403219223022 | Accuracy: 39.0625%\n",
            "GB | Epoch 1 | Loss: 1.53783118724823 | Accuracy: 32.8125%\n",
            "GB | Epoch 1 | Loss: 1.5635368824005127 | Accuracy: 23.4375%\n",
            "GB | Epoch 1 | Loss: 1.5518572330474854 | Accuracy: 28.125%\n",
            "GB | Epoch 1 | Loss: 1.5597916841506958 | Accuracy: 18.75%\n",
            "GB | Epoch 1 | Loss: 1.5303280353546143 | Accuracy: 32.8125%\n",
            "GB | Epoch 1 | Loss: 1.5453914403915405 | Accuracy: 26.5625%\n",
            "GB | Epoch 1 | Loss: 1.5261015892028809 | Accuracy: 34.375%\n",
            "GB | Epoch 1 | Loss: 1.532228708267212 | Accuracy: 35.9375%\n",
            "GB | Epoch 1 | Loss: 1.526125192642212 | Accuracy: 31.25%\n",
            "GB | Epoch 1 | Loss: 1.5129069089889526 | Accuracy: 37.5%\n",
            "GB | Epoch 1 | Loss: 1.527186393737793 | Accuracy: 34.375%\n",
            "GB | Epoch 1 | Loss: 1.5347453355789185 | Accuracy: 35.9375%\n",
            "GB | Epoch 1 | Loss: 1.5208250284194946 | Accuracy: 31.25%\n",
            "GB | Epoch 1 | Loss: 1.5301910638809204 | Accuracy: 28.125%\n",
            "GB | Epoch 1 | Loss: 1.5144069194793701 | Accuracy: 28.125%\n"
          ]
        },
        {
          "name": "stderr",
          "output_type": "stream",
          "text": [
            "Epoch 1:  21%|██        | 156/751 [00:01<00:04, 132.39batch/s, accuracy=37.5%, loss=1.51] "
          ]
        },
        {
          "name": "stdout",
          "output_type": "stream",
          "text": [
            "GB | Epoch 1 | Loss: 1.562832236289978 | Accuracy: 32.8125%\n",
            "GB | Epoch 1 | Loss: 1.5438477993011475 | Accuracy: 23.4375%\n",
            "GB | Epoch 1 | Loss: 1.5549876689910889 | Accuracy: 34.375%\n",
            "GB | Epoch 1 | Loss: 1.5242371559143066 | Accuracy: 40.625%\n",
            "GB | Epoch 1 | Loss: 1.5342683792114258 | Accuracy: 35.9375%\n",
            "GB | Epoch 1 | Loss: 1.53825843334198 | Accuracy: 39.0625%\n",
            "GB | Epoch 1 | Loss: 1.5351710319519043 | Accuracy: 29.6875%\n",
            "GB | Epoch 1 | Loss: 1.5757027864456177 | Accuracy: 21.875%\n",
            "GB | Epoch 1 | Loss: 1.5407356023788452 | Accuracy: 28.125%\n",
            "GB | Epoch 1 | Loss: 1.550989031791687 | Accuracy: 32.8125%\n",
            "GB | Epoch 1 | Loss: 1.5468409061431885 | Accuracy: 32.8125%\n",
            "GB | Epoch 1 | Loss: 1.5004810094833374 | Accuracy: 46.875%\n",
            "GB | Epoch 1 | Loss: 1.5415998697280884 | Accuracy: 29.6875%\n",
            "GB | Epoch 1 | Loss: 1.5197722911834717 | Accuracy: 29.6875%\n",
            "GB | Epoch 1 | Loss: 1.5371261835098267 | Accuracy: 32.8125%\n",
            "GB | Epoch 1 | Loss: 1.5243208408355713 | Accuracy: 40.625%\n",
            "GB | Epoch 1 | Loss: 1.5795992612838745 | Accuracy: 18.75%\n",
            "GB | Epoch 1 | Loss: 1.5317015647888184 | Accuracy: 35.9375%\n",
            "GB | Epoch 1 | Loss: 1.5824373960494995 | Accuracy: 20.3125%\n",
            "GB | Epoch 1 | Loss: 1.5367493629455566 | Accuracy: 29.6875%\n",
            "GB | Epoch 1 | Loss: 1.5442919731140137 | Accuracy: 31.25%\n",
            "GB | Epoch 1 | Loss: 1.552857518196106 | Accuracy: 28.125%\n",
            "GB | Epoch 1 | Loss: 1.5602525472640991 | Accuracy: 20.3125%\n",
            "GB | Epoch 1 | Loss: 1.5306342840194702 | Accuracy: 26.5625%\n",
            "GB | Epoch 1 | Loss: 1.541999101638794 | Accuracy: 28.125%\n",
            "GB | Epoch 1 | Loss: 1.4987963438034058 | Accuracy: 37.5%\n",
            "GB | Epoch 1 | Loss: 1.5472782850265503 | Accuracy: 18.75%\n",
            "GB | Epoch 1 | Loss: 1.5091601610183716 | Accuracy: 37.5%\n"
          ]
        },
        {
          "name": "stderr",
          "output_type": "stream",
          "text": [
            "Epoch 1:  25%|██▍       | 184/751 [00:01<00:04, 133.79batch/s, accuracy=20.3125%, loss=1.54]"
          ]
        },
        {
          "name": "stdout",
          "output_type": "stream",
          "text": [
            "GB | Epoch 1 | Loss: 1.5341601371765137 | Accuracy: 32.8125%\n",
            "GB | Epoch 1 | Loss: 1.5099719762802124 | Accuracy: 29.6875%\n",
            "GB | Epoch 1 | Loss: 1.4732742309570312 | Accuracy: 37.5%\n",
            "GB | Epoch 1 | Loss: 1.4913328886032104 | Accuracy: 37.5%\n",
            "GB | Epoch 1 | Loss: 1.5409269332885742 | Accuracy: 25.0%\n",
            "GB | Epoch 1 | Loss: 1.5004231929779053 | Accuracy: 32.8125%\n",
            "GB | Epoch 1 | Loss: 1.505261778831482 | Accuracy: 31.25%\n",
            "GB | Epoch 1 | Loss: 1.5065423250198364 | Accuracy: 31.25%\n",
            "GB | Epoch 1 | Loss: 1.5275275707244873 | Accuracy: 26.5625%\n",
            "GB | Epoch 1 | Loss: 1.519874095916748 | Accuracy: 31.25%\n",
            "GB | Epoch 1 | Loss: 1.5163991451263428 | Accuracy: 31.25%\n",
            "GB | Epoch 1 | Loss: 1.5253902673721313 | Accuracy: 32.8125%\n",
            "GB | Epoch 1 | Loss: 1.5245680809020996 | Accuracy: 34.375%\n",
            "GB | Epoch 1 | Loss: 1.5259497165679932 | Accuracy: 32.8125%\n",
            "GB | Epoch 1 | Loss: 1.5428285598754883 | Accuracy: 25.0%\n",
            "GB | Epoch 1 | Loss: 1.5121629238128662 | Accuracy: 28.125%\n",
            "GB | Epoch 1 | Loss: 1.4792412519454956 | Accuracy: 31.25%\n",
            "GB | Epoch 1 | Loss: 1.5420598983764648 | Accuracy: 28.125%\n",
            "GB | Epoch 1 | Loss: 1.556060791015625 | Accuracy: 23.4375%\n",
            "GB | Epoch 1 | Loss: 1.5423856973648071 | Accuracy: 25.0%\n",
            "GB | Epoch 1 | Loss: 1.5468746423721313 | Accuracy: 28.125%\n",
            "GB | Epoch 1 | Loss: 1.528520941734314 | Accuracy: 25.0%\n",
            "GB | Epoch 1 | Loss: 1.4918025732040405 | Accuracy: 26.5625%\n",
            "GB | Epoch 1 | Loss: 1.501818299293518 | Accuracy: 26.5625%\n",
            "GB | Epoch 1 | Loss: 1.501549482345581 | Accuracy: 31.25%\n",
            "GB | Epoch 1 | Loss: 1.5023492574691772 | Accuracy: 26.5625%\n",
            "GB | Epoch 1 | Loss: 1.5186716318130493 | Accuracy: 28.125%\n",
            "GB | Epoch 1 | Loss: 1.5262993574142456 | Accuracy: 31.25%\n",
            "GB | Epoch 1 | Loss: 1.538480281829834 | Accuracy: 20.3125%\n"
          ]
        },
        {
          "name": "stderr",
          "output_type": "stream",
          "text": [
            "Epoch 1:  28%|██▊       | 214/751 [00:01<00:03, 140.41batch/s, accuracy=42.1875%, loss=1.45]"
          ]
        },
        {
          "name": "stdout",
          "output_type": "stream",
          "text": [
            "GB | Epoch 1 | Loss: 1.4785056114196777 | Accuracy: 26.5625%\n",
            "GB | Epoch 1 | Loss: 1.5271204710006714 | Accuracy: 26.5625%\n",
            "GB | Epoch 1 | Loss: 1.5160574913024902 | Accuracy: 23.4375%\n",
            "GB | Epoch 1 | Loss: 1.5431852340698242 | Accuracy: 26.5625%\n",
            "GB | Epoch 1 | Loss: 1.4926152229309082 | Accuracy: 26.5625%\n",
            "GB | Epoch 1 | Loss: 1.543744444847107 | Accuracy: 26.5625%\n",
            "GB | Epoch 1 | Loss: 1.5096830129623413 | Accuracy: 37.5%\n",
            "GB | Epoch 1 | Loss: 1.487880825996399 | Accuracy: 25.0%\n",
            "GB | Epoch 1 | Loss: 1.4861986637115479 | Accuracy: 35.9375%\n",
            "GB | Epoch 1 | Loss: 1.5196807384490967 | Accuracy: 29.6875%\n",
            "GB | Epoch 1 | Loss: 1.5523147583007812 | Accuracy: 25.0%\n",
            "GB | Epoch 1 | Loss: 1.4828836917877197 | Accuracy: 28.125%\n",
            "GB | Epoch 1 | Loss: 1.481449842453003 | Accuracy: 35.9375%\n",
            "GB | Epoch 1 | Loss: 1.5287086963653564 | Accuracy: 26.5625%\n",
            "GB | Epoch 1 | Loss: 1.5065902471542358 | Accuracy: 34.375%\n",
            "GB | Epoch 1 | Loss: 1.5157639980316162 | Accuracy: 29.6875%\n",
            "GB | Epoch 1 | Loss: 1.4878175258636475 | Accuracy: 32.8125%\n",
            "GB | Epoch 1 | Loss: 1.4868507385253906 | Accuracy: 42.1875%\n",
            "GB | Epoch 1 | Loss: 1.522929072380066 | Accuracy: 18.75%\n",
            "GB | Epoch 1 | Loss: 1.5372309684753418 | Accuracy: 20.3125%\n",
            "GB | Epoch 1 | Loss: 1.420878291130066 | Accuracy: 40.625%\n",
            "GB | Epoch 1 | Loss: 1.5410808324813843 | Accuracy: 17.1875%\n",
            "GB | Epoch 1 | Loss: 1.4570144414901733 | Accuracy: 23.4375%\n",
            "GB | Epoch 1 | Loss: 1.4980334043502808 | Accuracy: 23.4375%\n",
            "GB | Epoch 1 | Loss: 1.524651288986206 | Accuracy: 28.125%\n",
            "GB | Epoch 1 | Loss: 1.5083431005477905 | Accuracy: 21.875%\n",
            "GB | Epoch 1 | Loss: 1.4263277053833008 | Accuracy: 40.625%\n",
            "GB | Epoch 1 | Loss: 1.4784047603607178 | Accuracy: 29.6875%\n",
            "GB | Epoch 1 | Loss: 1.4472206830978394 | Accuracy: 42.1875%\n"
          ]
        },
        {
          "name": "stderr",
          "output_type": "stream",
          "text": [
            "Epoch 1:  32%|███▏      | 244/751 [00:02<00:03, 133.20batch/s, accuracy=31.25%, loss=1.48]  "
          ]
        },
        {
          "name": "stdout",
          "output_type": "stream",
          "text": [
            "GB | Epoch 1 | Loss: 1.512982964515686 | Accuracy: 23.4375%\n",
            "GB | Epoch 1 | Loss: 1.5373103618621826 | Accuracy: 25.0%\n",
            "GB | Epoch 1 | Loss: 1.5470558404922485 | Accuracy: 26.5625%\n",
            "GB | Epoch 1 | Loss: 1.4809259176254272 | Accuracy: 28.125%\n",
            "GB | Epoch 1 | Loss: 1.5485833883285522 | Accuracy: 17.1875%\n",
            "GB | Epoch 1 | Loss: 1.5098955631256104 | Accuracy: 32.8125%\n",
            "GB | Epoch 1 | Loss: 1.477538824081421 | Accuracy: 31.25%\n",
            "GB | Epoch 1 | Loss: 1.4203133583068848 | Accuracy: 39.0625%\n",
            "GB | Epoch 1 | Loss: 1.473254680633545 | Accuracy: 34.375%\n",
            "GB | Epoch 1 | Loss: 1.442281723022461 | Accuracy: 31.25%\n",
            "GB | Epoch 1 | Loss: 1.506408452987671 | Accuracy: 28.125%\n",
            "GB | Epoch 1 | Loss: 1.4783852100372314 | Accuracy: 28.125%\n",
            "GB | Epoch 1 | Loss: 1.4950324296951294 | Accuracy: 23.4375%\n",
            "GB | Epoch 1 | Loss: 1.5028796195983887 | Accuracy: 21.875%\n",
            "GB | Epoch 1 | Loss: 1.525264024734497 | Accuracy: 25.0%\n",
            "GB | Epoch 1 | Loss: 1.4746081829071045 | Accuracy: 26.5625%\n",
            "GB | Epoch 1 | Loss: 1.5433743000030518 | Accuracy: 23.4375%\n",
            "GB | Epoch 1 | Loss: 1.4951941967010498 | Accuracy: 25.0%\n",
            "GB | Epoch 1 | Loss: 1.5638847351074219 | Accuracy: 25.0%\n",
            "GB | Epoch 1 | Loss: 1.4747751951217651 | Accuracy: 37.5%\n",
            "GB | Epoch 1 | Loss: 1.5537745952606201 | Accuracy: 26.5625%\n",
            "GB | Epoch 1 | Loss: 1.4697210788726807 | Accuracy: 35.9375%\n",
            "GB | Epoch 1 | Loss: 1.4941576719284058 | Accuracy: 37.5%\n",
            "GB | Epoch 1 | Loss: 1.4688576459884644 | Accuracy: 37.5%\n",
            "GB | Epoch 1 | Loss: 1.4796903133392334 | Accuracy: 39.0625%\n",
            "GB | Epoch 1 | Loss: 1.4830057621002197 | Accuracy: 32.8125%\n",
            "GB | Epoch 1 | Loss: 1.4805036783218384 | Accuracy: 31.25%\n"
          ]
        },
        {
          "name": "stderr",
          "output_type": "stream",
          "text": [
            "Epoch 1:  37%|███▋      | 275/751 [00:02<00:03, 139.95batch/s, accuracy=29.6875%, loss=1.45]"
          ]
        },
        {
          "name": "stdout",
          "output_type": "stream",
          "text": [
            "GB | Epoch 1 | Loss: 1.5116149187088013 | Accuracy: 29.6875%\n",
            "GB | Epoch 1 | Loss: 1.4519504308700562 | Accuracy: 29.6875%\n",
            "GB | Epoch 1 | Loss: 1.5066689252853394 | Accuracy: 31.25%\n",
            "GB | Epoch 1 | Loss: 1.4993557929992676 | Accuracy: 32.8125%\n",
            "GB | Epoch 1 | Loss: 1.4944640398025513 | Accuracy: 29.6875%\n",
            "GB | Epoch 1 | Loss: 1.459699273109436 | Accuracy: 34.375%\n",
            "GB | Epoch 1 | Loss: 1.503873348236084 | Accuracy: 26.5625%\n",
            "GB | Epoch 1 | Loss: 1.475780963897705 | Accuracy: 32.8125%\n",
            "GB | Epoch 1 | Loss: 1.4372644424438477 | Accuracy: 43.75%\n",
            "GB | Epoch 1 | Loss: 1.4181103706359863 | Accuracy: 37.5%\n",
            "GB | Epoch 1 | Loss: 1.4993816614151 | Accuracy: 35.9375%\n",
            "GB | Epoch 1 | Loss: 1.5119189023971558 | Accuracy: 32.8125%\n",
            "GB | Epoch 1 | Loss: 1.4983294010162354 | Accuracy: 39.0625%\n",
            "GB | Epoch 1 | Loss: 1.4606516361236572 | Accuracy: 37.5%\n",
            "GB | Epoch 1 | Loss: 1.5244977474212646 | Accuracy: 23.4375%\n",
            "GB | Epoch 1 | Loss: 1.456610083580017 | Accuracy: 40.625%\n",
            "GB | Epoch 1 | Loss: 1.5218744277954102 | Accuracy: 25.0%\n",
            "GB | Epoch 1 | Loss: 1.5670071840286255 | Accuracy: 26.5625%\n",
            "GB | Epoch 1 | Loss: 1.5022106170654297 | Accuracy: 35.9375%\n",
            "GB | Epoch 1 | Loss: 1.4916921854019165 | Accuracy: 32.8125%\n",
            "GB | Epoch 1 | Loss: 1.4687328338623047 | Accuracy: 34.375%\n",
            "GB | Epoch 1 | Loss: 1.4462443590164185 | Accuracy: 40.625%\n",
            "GB | Epoch 1 | Loss: 1.5073939561843872 | Accuracy: 34.375%\n",
            "GB | Epoch 1 | Loss: 1.4579931497573853 | Accuracy: 35.9375%\n",
            "GB | Epoch 1 | Loss: 1.4461802244186401 | Accuracy: 34.375%\n",
            "GB | Epoch 1 | Loss: 1.5061589479446411 | Accuracy: 31.25%\n",
            "GB | Epoch 1 | Loss: 1.4652204513549805 | Accuracy: 34.375%\n",
            "GB | Epoch 1 | Loss: 1.4809287786483765 | Accuracy: 34.375%\n",
            "GB | Epoch 1 | Loss: 1.4534313678741455 | Accuracy: 29.6875%\n"
          ]
        },
        {
          "name": "stderr",
          "output_type": "stream",
          "text": [
            "Epoch 1:  41%|████      | 305/751 [00:02<00:03, 141.43batch/s, accuracy=34.375%, loss=1.41] "
          ]
        },
        {
          "name": "stdout",
          "output_type": "stream",
          "text": [
            "GB | Epoch 1 | Loss: 1.4965969324111938 | Accuracy: 23.4375%\n",
            "GB | Epoch 1 | Loss: 1.4838571548461914 | Accuracy: 31.25%\n",
            "GB | Epoch 1 | Loss: 1.462885856628418 | Accuracy: 43.75%\n",
            "GB | Epoch 1 | Loss: 1.4544020891189575 | Accuracy: 34.375%\n",
            "GB | Epoch 1 | Loss: 1.4829604625701904 | Accuracy: 29.6875%\n",
            "GB | Epoch 1 | Loss: 1.4470611810684204 | Accuracy: 40.625%\n",
            "GB | Epoch 1 | Loss: 1.4878491163253784 | Accuracy: 40.625%\n",
            "GB | Epoch 1 | Loss: 1.5004525184631348 | Accuracy: 25.0%\n",
            "GB | Epoch 1 | Loss: 1.4228031635284424 | Accuracy: 45.3125%\n",
            "GB | Epoch 1 | Loss: 1.4822227954864502 | Accuracy: 32.8125%\n",
            "GB | Epoch 1 | Loss: 1.4000321626663208 | Accuracy: 40.625%\n",
            "GB | Epoch 1 | Loss: 1.509382963180542 | Accuracy: 39.0625%\n",
            "GB | Epoch 1 | Loss: 1.5468127727508545 | Accuracy: 32.8125%\n",
            "GB | Epoch 1 | Loss: 1.4407681226730347 | Accuracy: 34.375%\n",
            "GB | Epoch 1 | Loss: 1.422290563583374 | Accuracy: 39.0625%\n",
            "GB | Epoch 1 | Loss: 1.3955715894699097 | Accuracy: 43.75%\n",
            "GB | Epoch 1 | Loss: 1.3609191179275513 | Accuracy: 53.125%\n",
            "GB | Epoch 1 | Loss: 1.43842351436615 | Accuracy: 43.75%\n",
            "GB | Epoch 1 | Loss: 1.4621213674545288 | Accuracy: 32.8125%\n",
            "GB | Epoch 1 | Loss: 1.4284054040908813 | Accuracy: 32.8125%\n",
            "GB | Epoch 1 | Loss: 1.508875846862793 | Accuracy: 35.9375%\n",
            "GB | Epoch 1 | Loss: 1.4113311767578125 | Accuracy: 40.625%\n",
            "GB | Epoch 1 | Loss: 1.4510879516601562 | Accuracy: 45.3125%\n",
            "GB | Epoch 1 | Loss: 1.4183200597763062 | Accuracy: 43.75%\n",
            "GB | Epoch 1 | Loss: 1.4778707027435303 | Accuracy: 29.6875%\n",
            "GB | Epoch 1 | Loss: 1.4299671649932861 | Accuracy: 37.5%\n",
            "GB | Epoch 1 | Loss: 1.405597448348999 | Accuracy: 40.625%\n",
            "GB | Epoch 1 | Loss: 1.4313714504241943 | Accuracy: 46.875%\n",
            "GB | Epoch 1 | Loss: 1.364591360092163 | Accuracy: 42.1875%\n",
            "GB | Epoch 1 | Loss: 1.4091638326644897 | Accuracy: 34.375%\n"
          ]
        },
        {
          "name": "stderr",
          "output_type": "stream",
          "text": [
            "Epoch 1:  45%|████▍     | 335/751 [00:02<00:02, 140.21batch/s, accuracy=46.875%, loss=1.33]"
          ]
        },
        {
          "name": "stdout",
          "output_type": "stream",
          "text": [
            "GB | Epoch 1 | Loss: 1.463096022605896 | Accuracy: 34.375%\n",
            "GB | Epoch 1 | Loss: 1.4953898191452026 | Accuracy: 35.9375%\n",
            "GB | Epoch 1 | Loss: 1.3959600925445557 | Accuracy: 28.125%\n",
            "GB | Epoch 1 | Loss: 1.5140565633773804 | Accuracy: 35.9375%\n",
            "GB | Epoch 1 | Loss: 1.4223814010620117 | Accuracy: 42.1875%\n",
            "GB | Epoch 1 | Loss: 1.4916999340057373 | Accuracy: 29.6875%\n",
            "GB | Epoch 1 | Loss: 1.3858211040496826 | Accuracy: 40.625%\n",
            "GB | Epoch 1 | Loss: 1.4265964031219482 | Accuracy: 42.1875%\n",
            "GB | Epoch 1 | Loss: 1.3866065740585327 | Accuracy: 43.75%\n",
            "GB | Epoch 1 | Loss: 1.5215672254562378 | Accuracy: 35.9375%\n",
            "GB | Epoch 1 | Loss: 1.4317572116851807 | Accuracy: 40.625%\n",
            "GB | Epoch 1 | Loss: 1.4928261041641235 | Accuracy: 34.375%\n",
            "GB | Epoch 1 | Loss: 1.5209825038909912 | Accuracy: 28.125%\n",
            "GB | Epoch 1 | Loss: 1.446555495262146 | Accuracy: 43.75%\n",
            "GB | Epoch 1 | Loss: 1.4976671934127808 | Accuracy: 37.5%\n",
            "GB | Epoch 1 | Loss: 1.4552297592163086 | Accuracy: 43.75%\n",
            "GB | Epoch 1 | Loss: 1.4909178018569946 | Accuracy: 42.1875%\n",
            "GB | Epoch 1 | Loss: 1.3840711116790771 | Accuracy: 40.625%\n",
            "GB | Epoch 1 | Loss: 1.3499369621276855 | Accuracy: 48.4375%\n",
            "GB | Epoch 1 | Loss: 1.4085949659347534 | Accuracy: 39.0625%\n",
            "GB | Epoch 1 | Loss: 1.484848976135254 | Accuracy: 29.6875%\n",
            "GB | Epoch 1 | Loss: 1.4428054094314575 | Accuracy: 32.8125%\n",
            "GB | Epoch 1 | Loss: 1.4288989305496216 | Accuracy: 40.625%\n",
            "GB | Epoch 1 | Loss: 1.4070926904678345 | Accuracy: 39.0625%\n",
            "GB | Epoch 1 | Loss: 1.4257901906967163 | Accuracy: 34.375%\n",
            "GB | Epoch 1 | Loss: 1.4705756902694702 | Accuracy: 40.625%\n",
            "GB | Epoch 1 | Loss: 1.4082223176956177 | Accuracy: 34.375%\n",
            "GB | Epoch 1 | Loss: 1.5035607814788818 | Accuracy: 23.4375%\n",
            "GB | Epoch 1 | Loss: 1.3305617570877075 | Accuracy: 46.875%\n"
          ]
        },
        {
          "name": "stderr",
          "output_type": "stream",
          "text": [
            "Epoch 1:  48%|████▊     | 364/751 [00:02<00:02, 137.55batch/s, accuracy=34.375%, loss=1.46]"
          ]
        },
        {
          "name": "stdout",
          "output_type": "stream",
          "text": [
            "GB | Epoch 1 | Loss: 1.4259026050567627 | Accuracy: 39.0625%\n",
            "GB | Epoch 1 | Loss: 1.470784306526184 | Accuracy: 31.25%\n",
            "GB | Epoch 1 | Loss: 1.4177364110946655 | Accuracy: 40.625%\n",
            "GB | Epoch 1 | Loss: 1.4771203994750977 | Accuracy: 39.0625%\n",
            "GB | Epoch 1 | Loss: 1.4861185550689697 | Accuracy: 26.5625%\n",
            "GB | Epoch 1 | Loss: 1.3893486261367798 | Accuracy: 35.9375%\n",
            "GB | Epoch 1 | Loss: 1.4217658042907715 | Accuracy: 31.25%\n",
            "GB | Epoch 1 | Loss: 1.4308576583862305 | Accuracy: 28.125%\n",
            "GB | Epoch 1 | Loss: 1.3906158208847046 | Accuracy: 39.0625%\n",
            "GB | Epoch 1 | Loss: 1.4558392763137817 | Accuracy: 26.5625%\n",
            "GB | Epoch 1 | Loss: 1.445591926574707 | Accuracy: 45.3125%\n",
            "GB | Epoch 1 | Loss: 1.405072808265686 | Accuracy: 40.625%\n",
            "GB | Epoch 1 | Loss: 1.4348572492599487 | Accuracy: 35.9375%\n",
            "GB | Epoch 1 | Loss: 1.4414533376693726 | Accuracy: 39.0625%\n",
            "GB | Epoch 1 | Loss: 1.4190540313720703 | Accuracy: 34.375%\n",
            "GB | Epoch 1 | Loss: 1.3891805410385132 | Accuracy: 43.75%\n",
            "GB | Epoch 1 | Loss: 1.4675557613372803 | Accuracy: 29.6875%\n",
            "GB | Epoch 1 | Loss: 1.4371483325958252 | Accuracy: 35.9375%\n",
            "GB | Epoch 1 | Loss: 1.361374020576477 | Accuracy: 48.4375%\n",
            "GB | Epoch 1 | Loss: 1.4714287519454956 | Accuracy: 34.375%\n",
            "GB | Epoch 1 | Loss: 1.4067258834838867 | Accuracy: 48.4375%\n",
            "GB | Epoch 1 | Loss: 1.4856131076812744 | Accuracy: 28.125%\n",
            "GB | Epoch 1 | Loss: 1.3738653659820557 | Accuracy: 39.0625%\n",
            "GB | Epoch 1 | Loss: 1.3212833404541016 | Accuracy: 48.4375%\n",
            "GB | Epoch 1 | Loss: 1.4227352142333984 | Accuracy: 31.25%\n",
            "GB | Epoch 1 | Loss: 1.4718811511993408 | Accuracy: 31.25%\n",
            "GB | Epoch 1 | Loss: 1.4606282711029053 | Accuracy: 34.375%\n"
          ]
        },
        {
          "name": "stderr",
          "output_type": "stream",
          "text": [
            "Epoch 1:  50%|█████     | 379/751 [00:03<00:02, 138.62batch/s, accuracy=39.0625%, loss=1.47]"
          ]
        },
        {
          "name": "stdout",
          "output_type": "stream",
          "text": [
            "GB | Epoch 1 | Loss: 1.4700278043746948 | Accuracy: 32.8125%\n",
            "GB | Epoch 1 | Loss: 1.3713773488998413 | Accuracy: 35.9375%\n",
            "GB | Epoch 1 | Loss: 1.6100654602050781 | Accuracy: 26.5625%\n",
            "GB | Epoch 1 | Loss: 1.445924162864685 | Accuracy: 32.8125%\n",
            "GB | Epoch 1 | Loss: 1.496349811553955 | Accuracy: 26.5625%\n",
            "GB | Epoch 1 | Loss: 1.334928035736084 | Accuracy: 48.4375%\n",
            "GB | Epoch 1 | Loss: 1.3744312524795532 | Accuracy: 39.0625%\n",
            "GB | Epoch 1 | Loss: 1.2924083471298218 | Accuracy: 53.125%\n",
            "GB | Epoch 1 | Loss: 1.3219163417816162 | Accuracy: 42.1875%\n",
            "GB | Epoch 1 | Loss: 1.433719277381897 | Accuracy: 35.9375%\n",
            "GB | Epoch 1 | Loss: 1.4766631126403809 | Accuracy: 26.5625%\n",
            "GB | Epoch 1 | Loss: 1.4284343719482422 | Accuracy: 35.9375%\n",
            "GB | Epoch 1 | Loss: 1.4451781511306763 | Accuracy: 34.375%\n",
            "GB | Epoch 1 | Loss: 1.4160252809524536 | Accuracy: 34.375%\n",
            "GB | Epoch 1 | Loss: 1.451407551765442 | Accuracy: 29.6875%\n",
            "GB | Epoch 1 | Loss: 1.4618031978607178 | Accuracy: 34.375%\n",
            "GB | Epoch 1 | Loss: 1.323034405708313 | Accuracy: 46.875%\n",
            "GB | Epoch 1 | Loss: 1.4093140363693237 | Accuracy: 39.0625%\n",
            "GB | Epoch 1 | Loss: 1.3998873233795166 | Accuracy: 45.3125%\n",
            "GB | Epoch 1 | Loss: 1.3705494403839111 | Accuracy: 34.375%\n",
            "GB | Epoch 1 | Loss: 1.3820686340332031 | Accuracy: 45.3125%\n",
            "GB | Epoch 1 | Loss: 1.366718053817749 | Accuracy: 42.1875%\n",
            "GB | Epoch 1 | Loss: 1.5168565511703491 | Accuracy: 26.5625%\n",
            "GB | Epoch 1 | Loss: 1.3782655000686646 | Accuracy: 39.0625%\n",
            "GB | Epoch 1 | Loss: 1.3340249061584473 | Accuracy: 40.625%\n",
            "GB | Epoch 1 | Loss: 1.4676235914230347 | Accuracy: 39.0625%\n"
          ]
        },
        {
          "name": "stderr",
          "output_type": "stream",
          "text": [
            "Epoch 1:  54%|█████▍    | 407/751 [00:03<00:02, 119.52batch/s, accuracy=25.0%, loss=1.47]   "
          ]
        },
        {
          "name": "stdout",
          "output_type": "stream",
          "text": [
            "GB | Epoch 1 | Loss: 1.4700473546981812 | Accuracy: 25.0%\n",
            "GB | Epoch 1 | Loss: 1.3592500686645508 | Accuracy: 42.1875%\n",
            "GB | Epoch 1 | Loss: 1.5518240928649902 | Accuracy: 26.5625%\n",
            "GB | Epoch 1 | Loss: 1.2831649780273438 | Accuracy: 45.3125%\n",
            "GB | Epoch 1 | Loss: 1.4254652261734009 | Accuracy: 35.9375%\n",
            "GB | Epoch 1 | Loss: 1.3873852491378784 | Accuracy: 39.0625%\n",
            "GB | Epoch 1 | Loss: 1.4346091747283936 | Accuracy: 35.9375%\n",
            "GB | Epoch 1 | Loss: 1.400523066520691 | Accuracy: 37.5%\n",
            "GB | Epoch 1 | Loss: 1.343169093132019 | Accuracy: 40.625%\n",
            "GB | Epoch 1 | Loss: 1.4847519397735596 | Accuracy: 34.375%\n",
            "GB | Epoch 1 | Loss: 1.3536276817321777 | Accuracy: 45.3125%\n",
            "GB | Epoch 1 | Loss: 1.4468783140182495 | Accuracy: 31.25%\n",
            "GB | Epoch 1 | Loss: 1.5322291851043701 | Accuracy: 34.375%\n",
            "GB | Epoch 1 | Loss: 1.376660943031311 | Accuracy: 35.9375%\n",
            "GB | Epoch 1 | Loss: 1.4979795217514038 | Accuracy: 37.5%\n",
            "GB | Epoch 1 | Loss: 1.3526734113693237 | Accuracy: 37.5%\n",
            "GB | Epoch 1 | Loss: 1.4427889585494995 | Accuracy: 32.8125%\n",
            "GB | Epoch 1 | Loss: 1.3766443729400635 | Accuracy: 39.0625%\n",
            "GB | Epoch 1 | Loss: 1.4713329076766968 | Accuracy: 35.9375%\n",
            "GB | Epoch 1 | Loss: 1.3798844814300537 | Accuracy: 39.0625%\n",
            "GB | Epoch 1 | Loss: 1.4669286012649536 | Accuracy: 25.0%\n"
          ]
        },
        {
          "name": "stderr",
          "output_type": "stream",
          "text": [
            "Epoch 1:  58%|█████▊    | 432/751 [00:03<00:02, 116.48batch/s, accuracy=37.5%, loss=1.43]  "
          ]
        },
        {
          "name": "stdout",
          "output_type": "stream",
          "text": [
            "GB | Epoch 1 | Loss: 1.3902544975280762 | Accuracy: 53.125%\n",
            "GB | Epoch 1 | Loss: 1.4041547775268555 | Accuracy: 43.75%\n",
            "GB | Epoch 1 | Loss: 1.3877582550048828 | Accuracy: 37.5%\n",
            "GB | Epoch 1 | Loss: 1.4614278078079224 | Accuracy: 34.375%\n",
            "GB | Epoch 1 | Loss: 1.3707033395767212 | Accuracy: 35.9375%\n",
            "GB | Epoch 1 | Loss: 1.2721872329711914 | Accuracy: 50.0%\n",
            "GB | Epoch 1 | Loss: 1.3936455249786377 | Accuracy: 37.5%\n",
            "GB | Epoch 1 | Loss: 1.5065867900848389 | Accuracy: 26.5625%\n",
            "GB | Epoch 1 | Loss: 1.3886454105377197 | Accuracy: 46.875%\n",
            "GB | Epoch 1 | Loss: 1.3975319862365723 | Accuracy: 35.9375%\n",
            "GB | Epoch 1 | Loss: 1.3500785827636719 | Accuracy: 42.1875%\n",
            "GB | Epoch 1 | Loss: 1.4613679647445679 | Accuracy: 37.5%\n",
            "GB | Epoch 1 | Loss: 1.4572997093200684 | Accuracy: 40.625%\n",
            "GB | Epoch 1 | Loss: 1.4273443222045898 | Accuracy: 31.25%\n",
            "GB | Epoch 1 | Loss: 1.4339779615402222 | Accuracy: 42.1875%\n",
            "GB | Epoch 1 | Loss: 1.3986082077026367 | Accuracy: 35.9375%\n",
            "GB | Epoch 1 | Loss: 1.4120408296585083 | Accuracy: 35.9375%\n",
            "GB | Epoch 1 | Loss: 1.4043282270431519 | Accuracy: 39.0625%\n",
            "GB | Epoch 1 | Loss: 1.5118721723556519 | Accuracy: 21.875%\n",
            "GB | Epoch 1 | Loss: 1.4374494552612305 | Accuracy: 31.25%\n",
            "GB | Epoch 1 | Loss: 1.459646463394165 | Accuracy: 34.375%\n",
            "GB | Epoch 1 | Loss: 1.4286950826644897 | Accuracy: 37.5%\n"
          ]
        },
        {
          "name": "stderr",
          "output_type": "stream",
          "text": [
            "Epoch 1:  59%|█████▉    | 444/751 [00:03<00:02, 111.04batch/s, accuracy=32.8125%, loss=1.38]"
          ]
        },
        {
          "name": "stdout",
          "output_type": "stream",
          "text": [
            "GB | Epoch 1 | Loss: 1.4366556406021118 | Accuracy: 25.0%\n",
            "GB | Epoch 1 | Loss: 1.428648829460144 | Accuracy: 37.5%\n",
            "GB | Epoch 1 | Loss: 1.3385515213012695 | Accuracy: 45.3125%\n",
            "GB | Epoch 1 | Loss: 1.4151757955551147 | Accuracy: 34.375%\n",
            "GB | Epoch 1 | Loss: 1.3890384435653687 | Accuracy: 42.1875%\n",
            "GB | Epoch 1 | Loss: 1.3990391492843628 | Accuracy: 31.25%\n",
            "GB | Epoch 1 | Loss: 1.402127981185913 | Accuracy: 40.625%\n",
            "GB | Epoch 1 | Loss: 1.3356857299804688 | Accuracy: 48.4375%\n",
            "GB | Epoch 1 | Loss: 1.422661304473877 | Accuracy: 39.0625%\n",
            "GB | Epoch 1 | Loss: 1.386569619178772 | Accuracy: 34.375%\n",
            "GB | Epoch 1 | Loss: 1.373759388923645 | Accuracy: 42.1875%\n",
            "GB | Epoch 1 | Loss: 1.4657317399978638 | Accuracy: 39.0625%\n",
            "GB | Epoch 1 | Loss: 1.3945249319076538 | Accuracy: 29.6875%\n",
            "GB | Epoch 1 | Loss: 1.427486777305603 | Accuracy: 32.8125%\n",
            "GB | Epoch 1 | Loss: 1.2965718507766724 | Accuracy: 40.625%\n",
            "GB | Epoch 1 | Loss: 1.3766902685165405 | Accuracy: 37.5%\n",
            "GB | Epoch 1 | Loss: 1.342953085899353 | Accuracy: 43.75%\n",
            "GB | Epoch 1 | Loss: 1.4055036306381226 | Accuracy: 34.375%\n",
            "GB | Epoch 1 | Loss: 1.4305905103683472 | Accuracy: 32.8125%\n",
            "GB | Epoch 1 | Loss: 1.436293125152588 | Accuracy: 37.5%\n",
            "GB | Epoch 1 | Loss: 1.465582013130188 | Accuracy: 29.6875%\n"
          ]
        },
        {
          "name": "stderr",
          "output_type": "stream",
          "text": [
            "Epoch 1:  62%|██████▏   | 468/751 [00:03<00:02, 105.91batch/s, accuracy=31.25%, loss=1.49]  "
          ]
        },
        {
          "name": "stdout",
          "output_type": "stream",
          "text": [
            "GB | Epoch 1 | Loss: 1.380434513092041 | Accuracy: 32.8125%\n",
            "GB | Epoch 1 | Loss: 1.3747470378875732 | Accuracy: 39.0625%\n",
            "GB | Epoch 1 | Loss: 1.3293085098266602 | Accuracy: 40.625%\n",
            "GB | Epoch 1 | Loss: 1.4353760480880737 | Accuracy: 39.0625%\n",
            "GB | Epoch 1 | Loss: 1.3668473958969116 | Accuracy: 35.9375%\n",
            "GB | Epoch 1 | Loss: 1.370395541191101 | Accuracy: 40.625%\n",
            "GB | Epoch 1 | Loss: 1.4698010683059692 | Accuracy: 32.8125%\n",
            "GB | Epoch 1 | Loss: 1.3712809085845947 | Accuracy: 32.8125%\n",
            "GB | Epoch 1 | Loss: 1.3452450037002563 | Accuracy: 43.75%\n",
            "GB | Epoch 1 | Loss: 1.4345418214797974 | Accuracy: 32.8125%\n",
            "GB | Epoch 1 | Loss: 1.3580796718597412 | Accuracy: 42.1875%\n",
            "GB | Epoch 1 | Loss: 1.3558523654937744 | Accuracy: 43.75%\n",
            "GB | Epoch 1 | Loss: 1.3646596670150757 | Accuracy: 43.75%\n",
            "GB | Epoch 1 | Loss: 1.4087939262390137 | Accuracy: 37.5%\n",
            "GB | Epoch 1 | Loss: 1.4847966432571411 | Accuracy: 26.5625%\n",
            "GB | Epoch 1 | Loss: 1.4057070016860962 | Accuracy: 37.5%\n",
            "GB | Epoch 1 | Loss: 1.3921617269515991 | Accuracy: 43.75%\n",
            "GB | Epoch 1 | Loss: 1.4358046054840088 | Accuracy: 32.8125%\n",
            "GB | Epoch 1 | Loss: 1.2901524305343628 | Accuracy: 46.875%\n",
            "GB | Epoch 1 | Loss: 1.3332345485687256 | Accuracy: 42.1875%\n",
            "GB | Epoch 1 | Loss: 1.4867632389068604 | Accuracy: 31.25%\n"
          ]
        },
        {
          "name": "stderr",
          "output_type": "stream",
          "text": [
            "Epoch 1:  65%|██████▌   | 490/751 [00:04<00:02, 104.22batch/s, accuracy=37.5%, loss=1.35]   "
          ]
        },
        {
          "name": "stdout",
          "output_type": "stream",
          "text": [
            "GB | Epoch 1 | Loss: 1.4193155765533447 | Accuracy: 37.5%\n",
            "GB | Epoch 1 | Loss: 1.472442626953125 | Accuracy: 37.5%\n",
            "GB | Epoch 1 | Loss: 1.3340389728546143 | Accuracy: 43.75%\n",
            "GB | Epoch 1 | Loss: 1.3909330368041992 | Accuracy: 32.8125%\n",
            "GB | Epoch 1 | Loss: 1.3742324113845825 | Accuracy: 42.1875%\n",
            "GB | Epoch 1 | Loss: 1.403275489807129 | Accuracy: 37.5%\n",
            "GB | Epoch 1 | Loss: 1.4870694875717163 | Accuracy: 26.5625%\n",
            "GB | Epoch 1 | Loss: 1.411136507987976 | Accuracy: 42.1875%\n",
            "GB | Epoch 1 | Loss: 1.371211051940918 | Accuracy: 40.625%\n",
            "GB | Epoch 1 | Loss: 1.38844633102417 | Accuracy: 35.9375%\n",
            "GB | Epoch 1 | Loss: 1.3913042545318604 | Accuracy: 34.375%\n",
            "GB | Epoch 1 | Loss: 1.361510992050171 | Accuracy: 34.375%\n",
            "GB | Epoch 1 | Loss: 1.4282091856002808 | Accuracy: 34.375%\n",
            "GB | Epoch 1 | Loss: 1.3781391382217407 | Accuracy: 37.5%\n",
            "GB | Epoch 1 | Loss: 1.361221432685852 | Accuracy: 37.5%\n",
            "GB | Epoch 1 | Loss: 1.343812346458435 | Accuracy: 35.9375%\n",
            "GB | Epoch 1 | Loss: 1.319397211074829 | Accuracy: 46.875%\n",
            "GB | Epoch 1 | Loss: 1.302267074584961 | Accuracy: 48.4375%\n",
            "GB | Epoch 1 | Loss: 1.3688844442367554 | Accuracy: 51.5625%\n",
            "GB | Epoch 1 | Loss: 1.3661210536956787 | Accuracy: 42.1875%\n",
            "GB | Epoch 1 | Loss: 1.3500274419784546 | Accuracy: 37.5%\n"
          ]
        },
        {
          "name": "stderr",
          "output_type": "stream",
          "text": [
            "Epoch 1:  68%|██████▊   | 512/751 [00:04<00:02, 101.87batch/s, accuracy=37.5%, loss=1.44]   "
          ]
        },
        {
          "name": "stdout",
          "output_type": "stream",
          "text": [
            "GB | Epoch 1 | Loss: 1.4093818664550781 | Accuracy: 35.9375%\n",
            "GB | Epoch 1 | Loss: 1.372313380241394 | Accuracy: 43.75%\n",
            "GB | Epoch 1 | Loss: 1.4253312349319458 | Accuracy: 35.9375%\n",
            "GB | Epoch 1 | Loss: 1.3595287799835205 | Accuracy: 34.375%\n",
            "GB | Epoch 1 | Loss: 1.3955252170562744 | Accuracy: 35.9375%\n",
            "GB | Epoch 1 | Loss: 1.330711841583252 | Accuracy: 37.5%\n",
            "GB | Epoch 1 | Loss: 1.4523404836654663 | Accuracy: 28.125%\n",
            "GB | Epoch 1 | Loss: 1.5699752569198608 | Accuracy: 26.5625%\n",
            "GB | Epoch 1 | Loss: 1.4215292930603027 | Accuracy: 34.375%\n",
            "GB | Epoch 1 | Loss: 1.3634305000305176 | Accuracy: 42.1875%\n",
            "GB | Epoch 1 | Loss: 1.332100749015808 | Accuracy: 39.0625%\n",
            "GB | Epoch 1 | Loss: 1.3802014589309692 | Accuracy: 40.625%\n",
            "GB | Epoch 1 | Loss: 1.3166248798370361 | Accuracy: 43.75%\n",
            "GB | Epoch 1 | Loss: 1.366808295249939 | Accuracy: 34.375%\n",
            "GB | Epoch 1 | Loss: 1.2754913568496704 | Accuracy: 46.875%\n",
            "GB | Epoch 1 | Loss: 1.333569049835205 | Accuracy: 42.1875%\n",
            "GB | Epoch 1 | Loss: 1.3946171998977661 | Accuracy: 34.375%\n",
            "GB | Epoch 1 | Loss: 1.3601549863815308 | Accuracy: 37.5%\n",
            "GB | Epoch 1 | Loss: 1.381550669670105 | Accuracy: 34.375%\n",
            "GB | Epoch 1 | Loss: 1.4649147987365723 | Accuracy: 26.5625%\n"
          ]
        },
        {
          "name": "stderr",
          "output_type": "stream",
          "text": [
            "Epoch 1:  71%|███████   | 534/751 [00:04<00:02, 103.24batch/s, accuracy=29.6875%, loss=1.46]"
          ]
        },
        {
          "name": "stdout",
          "output_type": "stream",
          "text": [
            "GB | Epoch 1 | Loss: 1.442718267440796 | Accuracy: 37.5%\n",
            "GB | Epoch 1 | Loss: 1.3215491771697998 | Accuracy: 42.1875%\n",
            "GB | Epoch 1 | Loss: 1.4565153121948242 | Accuracy: 31.25%\n",
            "GB | Epoch 1 | Loss: 1.4305535554885864 | Accuracy: 37.5%\n",
            "GB | Epoch 1 | Loss: 1.4082775115966797 | Accuracy: 37.5%\n",
            "GB | Epoch 1 | Loss: 1.3851749897003174 | Accuracy: 42.1875%\n",
            "GB | Epoch 1 | Loss: 1.4171661138534546 | Accuracy: 35.9375%\n",
            "GB | Epoch 1 | Loss: 1.443101406097412 | Accuracy: 29.6875%\n",
            "GB | Epoch 1 | Loss: 1.4027174711227417 | Accuracy: 35.9375%\n",
            "GB | Epoch 1 | Loss: 1.376286506652832 | Accuracy: 37.5%\n",
            "GB | Epoch 1 | Loss: 1.3924269676208496 | Accuracy: 43.75%\n",
            "GB | Epoch 1 | Loss: 1.37826406955719 | Accuracy: 39.0625%\n",
            "GB | Epoch 1 | Loss: 1.3941915035247803 | Accuracy: 32.8125%\n",
            "GB | Epoch 1 | Loss: 1.3543848991394043 | Accuracy: 42.1875%\n",
            "GB | Epoch 1 | Loss: 1.4836678504943848 | Accuracy: 31.25%\n",
            "GB | Epoch 1 | Loss: 1.3268988132476807 | Accuracy: 39.0625%\n",
            "GB | Epoch 1 | Loss: 1.3209034204483032 | Accuracy: 43.75%\n",
            "GB | Epoch 1 | Loss: 1.3390834331512451 | Accuracy: 42.1875%\n",
            "GB | Epoch 1 | Loss: 1.5078608989715576 | Accuracy: 32.8125%\n",
            "GB | Epoch 1 | Loss: 1.4067848920822144 | Accuracy: 42.1875%\n",
            "GB | Epoch 1 | Loss: 1.338315486907959 | Accuracy: 40.625%\n",
            "GB | Epoch 1 | Loss: 1.459656000137329 | Accuracy: 29.6875%\n"
          ]
        },
        {
          "name": "stderr",
          "output_type": "stream",
          "text": [
            "Epoch 1:  74%|███████▍  | 557/751 [00:04<00:01, 104.86batch/s, accuracy=46.875%, loss=1.35] "
          ]
        },
        {
          "name": "stdout",
          "output_type": "stream",
          "text": [
            "GB | Epoch 1 | Loss: 1.3716998100280762 | Accuracy: 42.1875%\n",
            "GB | Epoch 1 | Loss: 1.28669011592865 | Accuracy: 51.5625%\n",
            "GB | Epoch 1 | Loss: 1.3385109901428223 | Accuracy: 34.375%\n",
            "GB | Epoch 1 | Loss: 1.3202557563781738 | Accuracy: 46.875%\n",
            "GB | Epoch 1 | Loss: 1.479359745979309 | Accuracy: 37.5%\n",
            "GB | Epoch 1 | Loss: 1.4829643964767456 | Accuracy: 28.125%\n",
            "GB | Epoch 1 | Loss: 1.3579190969467163 | Accuracy: 34.375%\n",
            "GB | Epoch 1 | Loss: 1.3580892086029053 | Accuracy: 37.5%\n",
            "GB | Epoch 1 | Loss: 1.36766517162323 | Accuracy: 34.375%\n",
            "GB | Epoch 1 | Loss: 1.3715726137161255 | Accuracy: 34.375%\n",
            "GB | Epoch 1 | Loss: 1.4040504693984985 | Accuracy: 29.6875%\n",
            "GB | Epoch 1 | Loss: 1.372724175453186 | Accuracy: 40.625%\n",
            "GB | Epoch 1 | Loss: 1.408972144126892 | Accuracy: 39.0625%\n",
            "GB | Epoch 1 | Loss: 1.4030256271362305 | Accuracy: 39.0625%\n",
            "GB | Epoch 1 | Loss: 1.311841607093811 | Accuracy: 50.0%\n",
            "GB | Epoch 1 | Loss: 1.2871953248977661 | Accuracy: 57.8125%\n",
            "GB | Epoch 1 | Loss: 1.4192904233932495 | Accuracy: 37.5%\n",
            "GB | Epoch 1 | Loss: 1.403921365737915 | Accuracy: 45.3125%\n",
            "GB | Epoch 1 | Loss: 1.3995884656906128 | Accuracy: 43.75%\n",
            "GB | Epoch 1 | Loss: 1.3275432586669922 | Accuracy: 50.0%\n",
            "GB | Epoch 1 | Loss: 1.4854254722595215 | Accuracy: 32.8125%\n",
            "GB | Epoch 1 | Loss: 1.3544999361038208 | Accuracy: 46.875%\n"
          ]
        },
        {
          "name": "stderr",
          "output_type": "stream",
          "text": [
            "Epoch 1:  77%|███████▋  | 580/751 [00:04<00:01, 105.55batch/s, accuracy=31.25%, loss=1.49]"
          ]
        },
        {
          "name": "stdout",
          "output_type": "stream",
          "text": [
            "GB | Epoch 1 | Loss: 1.2307418584823608 | Accuracy: 57.8125%\n",
            "GB | Epoch 1 | Loss: 1.2534370422363281 | Accuracy: 56.25%\n",
            "GB | Epoch 1 | Loss: 1.3275737762451172 | Accuracy: 50.0%\n",
            "GB | Epoch 1 | Loss: 1.292819619178772 | Accuracy: 48.4375%\n",
            "GB | Epoch 1 | Loss: 1.402831792831421 | Accuracy: 35.9375%\n",
            "GB | Epoch 1 | Loss: 1.4248887300491333 | Accuracy: 37.5%\n",
            "GB | Epoch 1 | Loss: 1.3930013179779053 | Accuracy: 37.5%\n",
            "GB | Epoch 1 | Loss: 1.403303623199463 | Accuracy: 46.875%\n",
            "GB | Epoch 1 | Loss: 1.4065536260604858 | Accuracy: 42.1875%\n",
            "GB | Epoch 1 | Loss: 1.2863404750823975 | Accuracy: 51.5625%\n",
            "GB | Epoch 1 | Loss: 1.3689138889312744 | Accuracy: 46.875%\n",
            "GB | Epoch 1 | Loss: 1.3927308320999146 | Accuracy: 43.75%\n",
            "GB | Epoch 1 | Loss: 1.3572016954421997 | Accuracy: 42.1875%\n",
            "GB | Epoch 1 | Loss: 1.4121650457382202 | Accuracy: 40.625%\n",
            "GB | Epoch 1 | Loss: 1.394574522972107 | Accuracy: 42.1875%\n",
            "GB | Epoch 1 | Loss: 1.3788915872573853 | Accuracy: 37.5%\n",
            "GB | Epoch 1 | Loss: 1.3077208995819092 | Accuracy: 50.0%\n",
            "GB | Epoch 1 | Loss: 1.2936787605285645 | Accuracy: 43.75%\n",
            "GB | Epoch 1 | Loss: 1.321557879447937 | Accuracy: 50.0%\n",
            "GB | Epoch 1 | Loss: 1.2527920007705688 | Accuracy: 50.0%\n",
            "GB | Epoch 1 | Loss: 1.4860315322875977 | Accuracy: 31.25%\n"
          ]
        },
        {
          "name": "stderr",
          "output_type": "stream",
          "text": [
            "Epoch 1:  80%|████████  | 603/751 [00:05<00:01, 105.46batch/s, accuracy=42.1875%, loss=1.39]"
          ]
        },
        {
          "name": "stdout",
          "output_type": "stream",
          "text": [
            "GB | Epoch 1 | Loss: 1.4041876792907715 | Accuracy: 43.75%\n",
            "GB | Epoch 1 | Loss: 1.3236093521118164 | Accuracy: 43.75%\n",
            "GB | Epoch 1 | Loss: 1.3213655948638916 | Accuracy: 46.875%\n",
            "GB | Epoch 1 | Loss: 1.2935502529144287 | Accuracy: 50.0%\n",
            "GB | Epoch 1 | Loss: 1.3482823371887207 | Accuracy: 51.5625%\n",
            "GB | Epoch 1 | Loss: 1.3659820556640625 | Accuracy: 37.5%\n",
            "GB | Epoch 1 | Loss: 1.3586398363113403 | Accuracy: 51.5625%\n",
            "GB | Epoch 1 | Loss: 1.3031175136566162 | Accuracy: 51.5625%\n",
            "GB | Epoch 1 | Loss: 1.441458821296692 | Accuracy: 31.25%\n",
            "GB | Epoch 1 | Loss: 1.4175083637237549 | Accuracy: 37.5%\n",
            "GB | Epoch 1 | Loss: 1.3706145286560059 | Accuracy: 46.875%\n",
            "GB | Epoch 1 | Loss: 1.3483034372329712 | Accuracy: 50.0%\n",
            "GB | Epoch 1 | Loss: 1.3253499269485474 | Accuracy: 50.0%\n",
            "GB | Epoch 1 | Loss: 1.4017126560211182 | Accuracy: 42.1875%\n",
            "GB | Epoch 1 | Loss: 1.3647819757461548 | Accuracy: 45.3125%\n",
            "GB | Epoch 1 | Loss: 1.30841863155365 | Accuracy: 56.25%\n",
            "GB | Epoch 1 | Loss: 1.3956687450408936 | Accuracy: 46.875%\n",
            "GB | Epoch 1 | Loss: 1.413681149482727 | Accuracy: 42.1875%\n",
            "GB | Epoch 1 | Loss: 1.3570317029953003 | Accuracy: 43.75%\n",
            "GB | Epoch 1 | Loss: 1.3682761192321777 | Accuracy: 46.875%\n",
            "GB | Epoch 1 | Loss: 1.2749991416931152 | Accuracy: 50.0%\n",
            "GB | Epoch 1 | Loss: 1.3872226476669312 | Accuracy: 42.1875%\n"
          ]
        },
        {
          "name": "stderr",
          "output_type": "stream",
          "text": [
            "Epoch 1:  83%|████████▎ | 625/751 [00:05<00:01, 105.54batch/s, accuracy=48.4375%, loss=1.31]"
          ]
        },
        {
          "name": "stdout",
          "output_type": "stream",
          "text": [
            "GB | Epoch 1 | Loss: 1.374940276145935 | Accuracy: 45.3125%\n",
            "GB | Epoch 1 | Loss: 1.2546007633209229 | Accuracy: 56.25%\n",
            "GB | Epoch 1 | Loss: 1.3348870277404785 | Accuracy: 45.3125%\n",
            "GB | Epoch 1 | Loss: 1.308127999305725 | Accuracy: 46.875%\n",
            "GB | Epoch 1 | Loss: 1.3690762519836426 | Accuracy: 37.5%\n",
            "GB | Epoch 1 | Loss: 1.3845398426055908 | Accuracy: 46.875%\n",
            "GB | Epoch 1 | Loss: 1.3003162145614624 | Accuracy: 46.875%\n",
            "GB | Epoch 1 | Loss: 1.2792552709579468 | Accuracy: 56.25%\n",
            "GB | Epoch 1 | Loss: 1.3974236249923706 | Accuracy: 43.75%\n",
            "GB | Epoch 1 | Loss: 1.3454031944274902 | Accuracy: 45.3125%\n",
            "GB | Epoch 1 | Loss: 1.292181372642517 | Accuracy: 57.8125%\n",
            "GB | Epoch 1 | Loss: 1.392162561416626 | Accuracy: 39.0625%\n",
            "GB | Epoch 1 | Loss: 1.343183159828186 | Accuracy: 51.5625%\n",
            "GB | Epoch 1 | Loss: 1.366896390914917 | Accuracy: 42.1875%\n",
            "GB | Epoch 1 | Loss: 1.4799259901046753 | Accuracy: 32.8125%\n",
            "GB | Epoch 1 | Loss: 1.3100908994674683 | Accuracy: 48.4375%\n",
            "GB | Epoch 1 | Loss: 1.3977357149124146 | Accuracy: 40.625%\n",
            "GB | Epoch 1 | Loss: 1.3212426900863647 | Accuracy: 51.5625%\n",
            "GB | Epoch 1 | Loss: 1.3581222295761108 | Accuracy: 46.875%\n",
            "GB | Epoch 1 | Loss: 1.3277616500854492 | Accuracy: 50.0%\n",
            "GB | Epoch 1 | Loss: 1.308722972869873 | Accuracy: 48.4375%\n"
          ]
        },
        {
          "name": "stderr",
          "output_type": "stream",
          "text": [
            "Epoch 1:  85%|████████▍ | 636/751 [00:05<00:01, 103.57batch/s, accuracy=34.375%, loss=1.38]"
          ]
        },
        {
          "name": "stdout",
          "output_type": "stream",
          "text": [
            "GB | Epoch 1 | Loss: 1.3208746910095215 | Accuracy: 40.625%\n",
            "GB | Epoch 1 | Loss: 1.277108907699585 | Accuracy: 53.125%\n",
            "GB | Epoch 1 | Loss: 1.3600767850875854 | Accuracy: 43.75%\n",
            "GB | Epoch 1 | Loss: 1.3209290504455566 | Accuracy: 53.125%\n",
            "GB | Epoch 1 | Loss: 1.3822178840637207 | Accuracy: 34.375%\n",
            "GB | Epoch 1 | Loss: 1.4004522562026978 | Accuracy: 39.0625%\n",
            "GB | Epoch 1 | Loss: 1.3876500129699707 | Accuracy: 45.3125%\n",
            "GB | Epoch 1 | Loss: 1.3714877367019653 | Accuracy: 43.75%\n",
            "GB | Epoch 1 | Loss: 1.3924827575683594 | Accuracy: 37.5%\n",
            "GB | Epoch 1 | Loss: 1.4606825113296509 | Accuracy: 43.75%\n",
            "GB | Epoch 1 | Loss: 1.2902830839157104 | Accuracy: 45.3125%\n",
            "GB | Epoch 1 | Loss: 1.3626914024353027 | Accuracy: 40.625%\n",
            "GB | Epoch 1 | Loss: 1.3399442434310913 | Accuracy: 43.75%\n",
            "GB | Epoch 1 | Loss: 1.2866860628128052 | Accuracy: 59.375%\n",
            "GB | Epoch 1 | Loss: 1.4253737926483154 | Accuracy: 34.375%\n",
            "GB | Epoch 1 | Loss: 1.2622438669204712 | Accuracy: 53.125%\n",
            "GB | Epoch 1 | Loss: 1.3286373615264893 | Accuracy: 34.375%\n",
            "GB | Epoch 1 | Loss: 1.3893426656723022 | Accuracy: 39.0625%\n",
            "GB | Epoch 1 | Loss: 1.3833147287368774 | Accuracy: 42.1875%\n",
            "GB | Epoch 1 | Loss: 1.3249850273132324 | Accuracy: 37.5%\n",
            "GB | Epoch 1 | Loss: 1.3765873908996582 | Accuracy: 34.375%\n"
          ]
        },
        {
          "name": "stderr",
          "output_type": "stream",
          "text": [
            "Epoch 1:  88%|████████▊ | 658/751 [00:05<00:00, 103.21batch/s, accuracy=48.4375%, loss=1.34]"
          ]
        },
        {
          "name": "stdout",
          "output_type": "stream",
          "text": [
            "GB | Epoch 1 | Loss: 1.359210729598999 | Accuracy: 43.75%\n",
            "GB | Epoch 1 | Loss: 1.3300460577011108 | Accuracy: 50.0%\n",
            "GB | Epoch 1 | Loss: 1.479708194732666 | Accuracy: 31.25%\n",
            "GB | Epoch 1 | Loss: 1.360478162765503 | Accuracy: 43.75%\n",
            "GB | Epoch 1 | Loss: 1.4078701734542847 | Accuracy: 42.1875%\n",
            "GB | Epoch 1 | Loss: 1.2991914749145508 | Accuracy: 54.6875%\n",
            "GB | Epoch 1 | Loss: 1.3890072107315063 | Accuracy: 32.8125%\n",
            "GB | Epoch 1 | Loss: 1.3635536432266235 | Accuracy: 42.1875%\n",
            "GB | Epoch 1 | Loss: 1.3974124193191528 | Accuracy: 32.8125%\n",
            "GB | Epoch 1 | Loss: 1.4148986339569092 | Accuracy: 35.9375%\n",
            "GB | Epoch 1 | Loss: 1.241581916809082 | Accuracy: 48.4375%\n",
            "GB | Epoch 1 | Loss: 1.3679535388946533 | Accuracy: 43.75%\n",
            "GB | Epoch 1 | Loss: 1.283254861831665 | Accuracy: 51.5625%\n",
            "GB | Epoch 1 | Loss: 1.320473551750183 | Accuracy: 51.5625%\n",
            "GB | Epoch 1 | Loss: 1.3106045722961426 | Accuracy: 43.75%\n",
            "GB | Epoch 1 | Loss: 1.3139119148254395 | Accuracy: 50.0%\n",
            "GB | Epoch 1 | Loss: 1.3773096799850464 | Accuracy: 42.1875%\n",
            "GB | Epoch 1 | Loss: 1.2980765104293823 | Accuracy: 42.1875%\n",
            "GB | Epoch 1 | Loss: 1.311462640762329 | Accuracy: 46.875%\n",
            "GB | Epoch 1 | Loss: 1.3360204696655273 | Accuracy: 48.4375%\n"
          ]
        },
        {
          "name": "stderr",
          "output_type": "stream",
          "text": [
            "Epoch 1:  91%|█████████ | 680/751 [00:05<00:00, 101.65batch/s, accuracy=51.5625%, loss=1.25]"
          ]
        },
        {
          "name": "stdout",
          "output_type": "stream",
          "text": [
            "GB | Epoch 1 | Loss: 1.4061425924301147 | Accuracy: 40.625%\n",
            "GB | Epoch 1 | Loss: 1.3084485530853271 | Accuracy: 48.4375%\n",
            "GB | Epoch 1 | Loss: 1.3309422731399536 | Accuracy: 39.0625%\n",
            "GB | Epoch 1 | Loss: 1.365323781967163 | Accuracy: 40.625%\n",
            "GB | Epoch 1 | Loss: 1.3806371688842773 | Accuracy: 39.0625%\n",
            "GB | Epoch 1 | Loss: 1.3945972919464111 | Accuracy: 39.0625%\n",
            "GB | Epoch 1 | Loss: 1.295699119567871 | Accuracy: 57.8125%\n",
            "GB | Epoch 1 | Loss: 1.3831274509429932 | Accuracy: 40.625%\n",
            "GB | Epoch 1 | Loss: 1.2478429079055786 | Accuracy: 48.4375%\n",
            "GB | Epoch 1 | Loss: 1.3803101778030396 | Accuracy: 43.75%\n",
            "GB | Epoch 1 | Loss: 1.3996864557266235 | Accuracy: 37.5%\n",
            "GB | Epoch 1 | Loss: 1.3512449264526367 | Accuracy: 43.75%\n",
            "GB | Epoch 1 | Loss: 1.3884941339492798 | Accuracy: 39.0625%\n",
            "GB | Epoch 1 | Loss: 1.401281476020813 | Accuracy: 37.5%\n",
            "GB | Epoch 1 | Loss: 1.296610951423645 | Accuracy: 50.0%\n",
            "GB | Epoch 1 | Loss: 1.3293098211288452 | Accuracy: 50.0%\n",
            "GB | Epoch 1 | Loss: 1.3384402990341187 | Accuracy: 39.0625%\n",
            "GB | Epoch 1 | Loss: 1.341747522354126 | Accuracy: 42.1875%\n",
            "GB | Epoch 1 | Loss: 1.3362845182418823 | Accuracy: 45.3125%\n",
            "GB | Epoch 1 | Loss: 1.3533029556274414 | Accuracy: 42.1875%\n",
            "GB | Epoch 1 | Loss: 1.289052963256836 | Accuracy: 48.4375%\n",
            "GB | Epoch 1 | Loss: 1.253322720527649 | Accuracy: 51.5625%\n"
          ]
        },
        {
          "name": "stderr",
          "output_type": "stream",
          "text": [
            "Epoch 1:  93%|█████████▎| 702/751 [00:06<00:00, 102.18batch/s, accuracy=59.375%, loss=1.24] "
          ]
        },
        {
          "name": "stdout",
          "output_type": "stream",
          "text": [
            "GB | Epoch 1 | Loss: 1.317717432975769 | Accuracy: 43.75%\n",
            "GB | Epoch 1 | Loss: 1.2318732738494873 | Accuracy: 51.5625%\n",
            "GB | Epoch 1 | Loss: 1.3351577520370483 | Accuracy: 48.4375%\n",
            "GB | Epoch 1 | Loss: 1.3555407524108887 | Accuracy: 40.625%\n",
            "GB | Epoch 1 | Loss: 1.3173680305480957 | Accuracy: 51.5625%\n",
            "GB | Epoch 1 | Loss: 1.3836694955825806 | Accuracy: 40.625%\n",
            "GB | Epoch 1 | Loss: 1.3455356359481812 | Accuracy: 43.75%\n",
            "GB | Epoch 1 | Loss: 1.3695006370544434 | Accuracy: 45.3125%\n",
            "GB | Epoch 1 | Loss: 1.2923322916030884 | Accuracy: 40.625%\n",
            "GB | Epoch 1 | Loss: 1.2910140752792358 | Accuracy: 54.6875%\n",
            "GB | Epoch 1 | Loss: 1.315778374671936 | Accuracy: 48.4375%\n",
            "GB | Epoch 1 | Loss: 1.3846430778503418 | Accuracy: 39.0625%\n",
            "GB | Epoch 1 | Loss: 1.3427451848983765 | Accuracy: 43.75%\n",
            "GB | Epoch 1 | Loss: 1.2964916229248047 | Accuracy: 43.75%\n",
            "GB | Epoch 1 | Loss: 1.3085991144180298 | Accuracy: 46.875%\n",
            "GB | Epoch 1 | Loss: 1.5036931037902832 | Accuracy: 29.6875%\n",
            "GB | Epoch 1 | Loss: 1.3253542184829712 | Accuracy: 50.0%\n",
            "GB | Epoch 1 | Loss: 1.4145753383636475 | Accuracy: 31.25%\n",
            "GB | Epoch 1 | Loss: 1.3701626062393188 | Accuracy: 37.5%\n",
            "GB | Epoch 1 | Loss: 1.4107706546783447 | Accuracy: 35.9375%\n",
            "GB | Epoch 1 | Loss: 1.2374078035354614 | Accuracy: 59.375%\n"
          ]
        },
        {
          "name": "stderr",
          "output_type": "stream",
          "text": [
            "Epoch 1:  96%|█████████▋| 724/751 [00:06<00:00, 103.27batch/s, accuracy=46.875%, loss=1.29]"
          ]
        },
        {
          "name": "stdout",
          "output_type": "stream",
          "text": [
            "GB | Epoch 1 | Loss: 1.3054763078689575 | Accuracy: 46.875%\n",
            "GB | Epoch 1 | Loss: 1.365048885345459 | Accuracy: 40.625%\n",
            "GB | Epoch 1 | Loss: 1.3288559913635254 | Accuracy: 42.1875%\n",
            "GB | Epoch 1 | Loss: 1.3718754053115845 | Accuracy: 40.625%\n",
            "GB | Epoch 1 | Loss: 1.459751009941101 | Accuracy: 32.8125%\n",
            "GB | Epoch 1 | Loss: 1.2957823276519775 | Accuracy: 48.4375%\n",
            "GB | Epoch 1 | Loss: 1.3025693893432617 | Accuracy: 46.875%\n",
            "GB | Epoch 1 | Loss: 1.2616277933120728 | Accuracy: 54.6875%\n",
            "GB | Epoch 1 | Loss: 1.3269730806350708 | Accuracy: 50.0%\n",
            "GB | Epoch 1 | Loss: 1.398123860359192 | Accuracy: 32.8125%\n",
            "GB | Epoch 1 | Loss: 1.314562439918518 | Accuracy: 50.0%\n",
            "GB | Epoch 1 | Loss: 1.2752267122268677 | Accuracy: 43.75%\n",
            "GB | Epoch 1 | Loss: 1.3893136978149414 | Accuracy: 40.625%\n",
            "GB | Epoch 1 | Loss: 1.3847107887268066 | Accuracy: 37.5%\n",
            "GB | Epoch 1 | Loss: 1.3710863590240479 | Accuracy: 46.875%\n",
            "GB | Epoch 1 | Loss: 1.4693197011947632 | Accuracy: 28.125%\n",
            "GB | Epoch 1 | Loss: 1.2547770738601685 | Accuracy: 42.1875%\n",
            "GB | Epoch 1 | Loss: 1.3316689729690552 | Accuracy: 40.625%\n",
            "GB | Epoch 1 | Loss: 1.3815144300460815 | Accuracy: 35.9375%\n",
            "GB | Epoch 1 | Loss: 1.388266682624817 | Accuracy: 40.625%\n",
            "GB | Epoch 1 | Loss: 1.2872202396392822 | Accuracy: 46.875%\n"
          ]
        },
        {
          "name": "stderr",
          "output_type": "stream",
          "text": [
            "Epoch 1:  99%|█████████▉| 747/751 [00:06<00:00, 105.60batch/s, accuracy=75.0%, loss=1.03] "
          ]
        },
        {
          "name": "stdout",
          "output_type": "stream",
          "text": [
            "GB | Epoch 1 | Loss: 1.317269206047058 | Accuracy: 48.4375%\n",
            "GB | Epoch 1 | Loss: 1.4087632894515991 | Accuracy: 34.375%\n",
            "GB | Epoch 1 | Loss: 1.2545945644378662 | Accuracy: 53.125%\n",
            "GB | Epoch 1 | Loss: 1.3364202976226807 | Accuracy: 48.4375%\n",
            "GB | Epoch 1 | Loss: 1.2544265985488892 | Accuracy: 48.4375%\n",
            "GB | Epoch 1 | Loss: 1.357163906097412 | Accuracy: 42.1875%\n",
            "GB | Epoch 1 | Loss: 1.3838486671447754 | Accuracy: 35.9375%\n",
            "GB | Epoch 1 | Loss: 1.3514007329940796 | Accuracy: 46.875%\n",
            "GB | Epoch 1 | Loss: 1.3495264053344727 | Accuracy: 40.625%\n",
            "GB | Epoch 1 | Loss: 1.3735802173614502 | Accuracy: 37.5%\n",
            "GB | Epoch 1 | Loss: 1.2688136100769043 | Accuracy: 43.75%\n",
            "GB | Epoch 1 | Loss: 1.3323229551315308 | Accuracy: 43.75%\n",
            "GB | Epoch 1 | Loss: 1.338678240776062 | Accuracy: 42.1875%\n",
            "GB | Epoch 1 | Loss: 1.331421136856079 | Accuracy: 39.0625%\n",
            "GB | Epoch 1 | Loss: 1.2604780197143555 | Accuracy: 50.0%\n",
            "GB | Epoch 1 | Loss: 1.2992981672286987 | Accuracy: 48.4375%\n",
            "GB | Epoch 1 | Loss: 1.403846025466919 | Accuracy: 37.5%\n",
            "GB | Epoch 1 | Loss: 1.3888778686523438 | Accuracy: 37.5%\n",
            "GB | Epoch 1 | Loss: 1.341463327407837 | Accuracy: 45.3125%\n",
            "GB | Epoch 1 | Loss: 1.3303353786468506 | Accuracy: 43.75%\n",
            "GB | Epoch 1 | Loss: 1.032836675643921 | Accuracy: 75.0%\n"
          ]
        },
        {
          "name": "stderr",
          "output_type": "stream",
          "text": [
            "Epoch 1: 100%|██████████| 751/751 [00:06<00:00, 110.64batch/s, accuracy=75.0%, loss=1.03]\n",
            "Epoch 2:   2%|▏         | 13/751 [00:00<00:17, 41.70batch/s, accuracy=40.625%, loss=1.32] "
          ]
        },
        {
          "name": "stdout",
          "output_type": "stream",
          "text": [
            "GB | Epoch 2 | Loss: 1.379108190536499 | Accuracy: 42.1875%\n",
            "GB | Epoch 2 | Loss: 1.4118977785110474 | Accuracy: 40.625%\n",
            "GB | Epoch 2 | Loss: 1.3588168621063232 | Accuracy: 42.1875%\n",
            "GB | Epoch 2 | Loss: 1.3252854347229004 | Accuracy: 46.875%\n",
            "GB | Epoch 2 | Loss: 1.4222975969314575 | Accuracy: 35.9375%\n",
            "GB | Epoch 2 | Loss: 1.464604377746582 | Accuracy: 32.8125%\n",
            "GB | Epoch 2 | Loss: 1.2918585538864136 | Accuracy: 50.0%\n",
            "GB | Epoch 2 | Loss: 1.268959641456604 | Accuracy: 43.75%\n",
            "GB | Epoch 2 | Loss: 1.3377268314361572 | Accuracy: 37.5%\n",
            "GB | Epoch 2 | Loss: 1.364047884941101 | Accuracy: 34.375%\n",
            "GB | Epoch 2 | Loss: 1.3076752424240112 | Accuracy: 48.4375%\n",
            "GB | Epoch 2 | Loss: 1.355911374092102 | Accuracy: 40.625%\n",
            "GB | Epoch 2 | Loss: 1.3002015352249146 | Accuracy: 43.75%\n",
            "GB | Epoch 2 | Loss: 1.258772611618042 | Accuracy: 54.6875%\n",
            "GB | Epoch 2 | Loss: 1.301127552986145 | Accuracy: 45.3125%\n",
            "GB | Epoch 2 | Loss: 1.3940622806549072 | Accuracy: 37.5%\n",
            "GB | Epoch 2 | Loss: 1.3377870321273804 | Accuracy: 46.875%\n",
            "GB | Epoch 2 | Loss: 1.4099836349487305 | Accuracy: 40.625%\n",
            "GB | Epoch 2 | Loss: 1.339826226234436 | Accuracy: 51.5625%\n",
            "GB | Epoch 2 | Loss: 1.4525032043457031 | Accuracy: 34.375%\n",
            "GB | Epoch 2 | Loss: 1.2181252241134644 | Accuracy: 53.125%\n",
            "GB | Epoch 2 | Loss: 1.2278714179992676 | Accuracy: 53.125%\n",
            "GB | Epoch 2 | Loss: 1.3522648811340332 | Accuracy: 39.0625%\n",
            "GB | Epoch 2 | Loss: 1.3150850534439087 | Accuracy: 40.625%\n"
          ]
        },
        {
          "name": "stderr",
          "output_type": "stream",
          "text": [
            "Epoch 2:   5%|▍         | 37/751 [00:00<00:08, 81.32batch/s, accuracy=42.1875%, loss=1.31]"
          ]
        },
        {
          "name": "stdout",
          "output_type": "stream",
          "text": [
            "GB | Epoch 2 | Loss: 1.2856014966964722 | Accuracy: 45.3125%\n",
            "GB | Epoch 2 | Loss: 1.333411693572998 | Accuracy: 40.625%\n",
            "GB | Epoch 2 | Loss: 1.230065107345581 | Accuracy: 53.125%\n",
            "GB | Epoch 2 | Loss: 1.3960881233215332 | Accuracy: 34.375%\n",
            "GB | Epoch 2 | Loss: 1.318941354751587 | Accuracy: 29.6875%\n",
            "GB | Epoch 2 | Loss: 1.388506293296814 | Accuracy: 45.3125%\n",
            "GB | Epoch 2 | Loss: 1.2936056852340698 | Accuracy: 46.875%\n",
            "GB | Epoch 2 | Loss: 1.3579438924789429 | Accuracy: 43.75%\n",
            "GB | Epoch 2 | Loss: 1.2598962783813477 | Accuracy: 46.875%\n",
            "GB | Epoch 2 | Loss: 1.254169225692749 | Accuracy: 53.125%\n",
            "GB | Epoch 2 | Loss: 1.4296599626541138 | Accuracy: 37.5%\n",
            "GB | Epoch 2 | Loss: 1.3397279977798462 | Accuracy: 39.0625%\n",
            "GB | Epoch 2 | Loss: 1.365591287612915 | Accuracy: 39.0625%\n",
            "GB | Epoch 2 | Loss: 1.2957748174667358 | Accuracy: 39.0625%\n",
            "GB | Epoch 2 | Loss: 1.328258752822876 | Accuracy: 45.3125%\n",
            "GB | Epoch 2 | Loss: 1.3135690689086914 | Accuracy: 40.625%\n",
            "GB | Epoch 2 | Loss: 1.4005428552627563 | Accuracy: 42.1875%\n",
            "GB | Epoch 2 | Loss: 1.302289366722107 | Accuracy: 45.3125%\n",
            "GB | Epoch 2 | Loss: 1.390433669090271 | Accuracy: 35.9375%\n",
            "GB | Epoch 2 | Loss: 1.4460171461105347 | Accuracy: 37.5%\n",
            "GB | Epoch 2 | Loss: 1.3117423057556152 | Accuracy: 32.8125%\n",
            "GB | Epoch 2 | Loss: 1.2592638731002808 | Accuracy: 54.6875%\n",
            "GB | Epoch 2 | Loss: 1.2375551462173462 | Accuracy: 48.4375%\n",
            "GB | Epoch 2 | Loss: 1.3206071853637695 | Accuracy: 42.1875%\n",
            "GB | Epoch 2 | Loss: 1.3141465187072754 | Accuracy: 42.1875%\n"
          ]
        },
        {
          "name": "stderr",
          "output_type": "stream",
          "text": [
            "Epoch 2:   9%|▊         | 64/751 [00:00<00:06, 106.54batch/s, accuracy=35.9375%, loss=1.37]"
          ]
        },
        {
          "name": "stdout",
          "output_type": "stream",
          "text": [
            "GB | Epoch 2 | Loss: 1.3564341068267822 | Accuracy: 42.1875%\n",
            "GB | Epoch 2 | Loss: 1.4174072742462158 | Accuracy: 35.9375%\n",
            "GB | Epoch 2 | Loss: 1.2962977886199951 | Accuracy: 46.875%\n",
            "GB | Epoch 2 | Loss: 1.2775969505310059 | Accuracy: 50.0%\n",
            "GB | Epoch 2 | Loss: 1.3996195793151855 | Accuracy: 39.0625%\n",
            "GB | Epoch 2 | Loss: 1.29031503200531 | Accuracy: 54.6875%\n",
            "GB | Epoch 2 | Loss: 1.3421626091003418 | Accuracy: 40.625%\n",
            "GB | Epoch 2 | Loss: 1.2873115539550781 | Accuracy: 46.875%\n",
            "GB | Epoch 2 | Loss: 1.355644941329956 | Accuracy: 40.625%\n",
            "GB | Epoch 2 | Loss: 1.2030837535858154 | Accuracy: 54.6875%\n",
            "GB | Epoch 2 | Loss: 1.3418171405792236 | Accuracy: 39.0625%\n",
            "GB | Epoch 2 | Loss: 1.247789740562439 | Accuracy: 46.875%\n",
            "GB | Epoch 2 | Loss: 1.2733968496322632 | Accuracy: 43.75%\n",
            "GB | Epoch 2 | Loss: 1.4278942346572876 | Accuracy: 37.5%\n",
            "GB | Epoch 2 | Loss: 1.2711642980575562 | Accuracy: 53.125%\n",
            "GB | Epoch 2 | Loss: 1.261112093925476 | Accuracy: 45.3125%\n",
            "GB | Epoch 2 | Loss: 1.3290879726409912 | Accuracy: 42.1875%\n",
            "GB | Epoch 2 | Loss: 1.26874577999115 | Accuracy: 48.4375%\n",
            "GB | Epoch 2 | Loss: 1.2151998281478882 | Accuracy: 50.0%\n",
            "GB | Epoch 2 | Loss: 1.227698564529419 | Accuracy: 46.875%\n",
            "GB | Epoch 2 | Loss: 1.368073582649231 | Accuracy: 45.3125%\n",
            "GB | Epoch 2 | Loss: 1.2509196996688843 | Accuracy: 54.6875%\n",
            "GB | Epoch 2 | Loss: 1.320034384727478 | Accuracy: 45.3125%\n",
            "GB | Epoch 2 | Loss: 1.2716338634490967 | Accuracy: 50.0%\n",
            "GB | Epoch 2 | Loss: 1.3342069387435913 | Accuracy: 40.625%\n",
            "GB | Epoch 2 | Loss: 1.370581865310669 | Accuracy: 35.9375%\n"
          ]
        },
        {
          "name": "stderr",
          "output_type": "stream",
          "text": [
            "Epoch 2:  12%|█▏        | 90/751 [00:01<00:05, 115.75batch/s, accuracy=46.875%, loss=1.23] "
          ]
        },
        {
          "name": "stdout",
          "output_type": "stream",
          "text": [
            "GB | Epoch 2 | Loss: 1.2278554439544678 | Accuracy: 42.1875%\n",
            "GB | Epoch 2 | Loss: 1.24418306350708 | Accuracy: 48.4375%\n",
            "GB | Epoch 2 | Loss: 1.1855847835540771 | Accuracy: 53.125%\n",
            "GB | Epoch 2 | Loss: 1.2698732614517212 | Accuracy: 45.3125%\n",
            "GB | Epoch 2 | Loss: 1.2497273683547974 | Accuracy: 48.4375%\n",
            "GB | Epoch 2 | Loss: 1.225394606590271 | Accuracy: 51.5625%\n",
            "GB | Epoch 2 | Loss: 1.2400834560394287 | Accuracy: 54.6875%\n",
            "GB | Epoch 2 | Loss: 1.319970726966858 | Accuracy: 43.75%\n",
            "GB | Epoch 2 | Loss: 1.2952510118484497 | Accuracy: 50.0%\n",
            "GB | Epoch 2 | Loss: 1.4053356647491455 | Accuracy: 39.0625%\n",
            "GB | Epoch 2 | Loss: 1.3277548551559448 | Accuracy: 43.75%\n",
            "GB | Epoch 2 | Loss: 1.3011889457702637 | Accuracy: 43.75%\n",
            "GB | Epoch 2 | Loss: 1.3626459836959839 | Accuracy: 43.75%\n",
            "GB | Epoch 2 | Loss: 1.3173730373382568 | Accuracy: 40.625%\n",
            "GB | Epoch 2 | Loss: 1.3034141063690186 | Accuracy: 42.1875%\n",
            "GB | Epoch 2 | Loss: 1.2818608283996582 | Accuracy: 43.75%\n",
            "GB | Epoch 2 | Loss: 1.3504306077957153 | Accuracy: 39.0625%\n",
            "GB | Epoch 2 | Loss: 1.353174090385437 | Accuracy: 28.125%\n",
            "GB | Epoch 2 | Loss: 1.2066640853881836 | Accuracy: 54.6875%\n",
            "GB | Epoch 2 | Loss: 1.3911163806915283 | Accuracy: 35.9375%\n",
            "GB | Epoch 2 | Loss: 1.295456051826477 | Accuracy: 42.1875%\n",
            "GB | Epoch 2 | Loss: 1.437278151512146 | Accuracy: 32.8125%\n",
            "GB | Epoch 2 | Loss: 1.256976842880249 | Accuracy: 43.75%\n",
            "GB | Epoch 2 | Loss: 1.3828768730163574 | Accuracy: 35.9375%\n",
            "GB | Epoch 2 | Loss: 1.304980754852295 | Accuracy: 42.1875%\n",
            "GB | Epoch 2 | Loss: 1.378267765045166 | Accuracy: 45.3125%\n",
            "GB | Epoch 2 | Loss: 1.2313677072525024 | Accuracy: 46.875%\n"
          ]
        },
        {
          "name": "stderr",
          "output_type": "stream",
          "text": [
            "Epoch 2:  16%|█▌        | 117/751 [00:01<00:05, 121.92batch/s, accuracy=40.625%, loss=1.33]"
          ]
        },
        {
          "name": "stdout",
          "output_type": "stream",
          "text": [
            "GB | Epoch 2 | Loss: 1.3308135271072388 | Accuracy: 40.625%\n",
            "GB | Epoch 2 | Loss: 1.2292428016662598 | Accuracy: 51.5625%\n",
            "GB | Epoch 2 | Loss: 1.2787038087844849 | Accuracy: 40.625%\n",
            "GB | Epoch 2 | Loss: 1.3407117128372192 | Accuracy: 39.0625%\n",
            "GB | Epoch 2 | Loss: 1.3307591676712036 | Accuracy: 45.3125%\n",
            "GB | Epoch 2 | Loss: 1.2139183282852173 | Accuracy: 57.8125%\n",
            "GB | Epoch 2 | Loss: 1.155839443206787 | Accuracy: 56.25%\n",
            "GB | Epoch 2 | Loss: 1.2227739095687866 | Accuracy: 53.125%\n",
            "GB | Epoch 2 | Loss: 1.3493196964263916 | Accuracy: 40.625%\n",
            "GB | Epoch 2 | Loss: 1.3545933961868286 | Accuracy: 43.75%\n",
            "GB | Epoch 2 | Loss: 1.35458505153656 | Accuracy: 45.3125%\n",
            "GB | Epoch 2 | Loss: 1.3171151876449585 | Accuracy: 42.1875%\n",
            "GB | Epoch 2 | Loss: 1.2093088626861572 | Accuracy: 54.6875%\n",
            "GB | Epoch 2 | Loss: 1.2725180387496948 | Accuracy: 43.75%\n",
            "GB | Epoch 2 | Loss: 1.1688801050186157 | Accuracy: 56.25%\n",
            "GB | Epoch 2 | Loss: 1.3045085668563843 | Accuracy: 43.75%\n",
            "GB | Epoch 2 | Loss: 1.3092104196548462 | Accuracy: 45.3125%\n",
            "GB | Epoch 2 | Loss: 1.2615487575531006 | Accuracy: 50.0%\n",
            "GB | Epoch 2 | Loss: 1.1902390718460083 | Accuracy: 46.875%\n",
            "GB | Epoch 2 | Loss: 1.2945373058319092 | Accuracy: 43.75%\n",
            "GB | Epoch 2 | Loss: 1.312614917755127 | Accuracy: 43.75%\n",
            "GB | Epoch 2 | Loss: 1.302269697189331 | Accuracy: 43.75%\n",
            "GB | Epoch 2 | Loss: 1.234257459640503 | Accuracy: 51.5625%\n",
            "GB | Epoch 2 | Loss: 1.305094599723816 | Accuracy: 50.0%\n",
            "GB | Epoch 2 | Loss: 1.165588140487671 | Accuracy: 57.8125%\n",
            "GB | Epoch 2 | Loss: 1.3350154161453247 | Accuracy: 40.625%\n",
            "GB | Epoch 2 | Loss: 1.325505256652832 | Accuracy: 40.625%\n"
          ]
        },
        {
          "name": "stderr",
          "output_type": "stream",
          "text": [
            "Epoch 2:  19%|█▉        | 145/751 [00:01<00:04, 126.40batch/s, accuracy=50.0%, loss=1.19]   "
          ]
        },
        {
          "name": "stdout",
          "output_type": "stream",
          "text": [
            "GB | Epoch 2 | Loss: 1.3271968364715576 | Accuracy: 45.3125%\n",
            "GB | Epoch 2 | Loss: 1.2476603984832764 | Accuracy: 42.1875%\n",
            "GB | Epoch 2 | Loss: 1.165435552597046 | Accuracy: 50.0%\n",
            "GB | Epoch 2 | Loss: 1.2793982028961182 | Accuracy: 46.875%\n",
            "GB | Epoch 2 | Loss: 1.1851030588150024 | Accuracy: 53.125%\n",
            "GB | Epoch 2 | Loss: 1.3767688274383545 | Accuracy: 39.0625%\n",
            "GB | Epoch 2 | Loss: 1.304539680480957 | Accuracy: 46.875%\n",
            "GB | Epoch 2 | Loss: 1.272333025932312 | Accuracy: 48.4375%\n",
            "GB | Epoch 2 | Loss: 1.2954643964767456 | Accuracy: 43.75%\n",
            "GB | Epoch 2 | Loss: 1.4309351444244385 | Accuracy: 29.6875%\n",
            "GB | Epoch 2 | Loss: 1.2695200443267822 | Accuracy: 48.4375%\n",
            "GB | Epoch 2 | Loss: 1.2187814712524414 | Accuracy: 42.1875%\n",
            "GB | Epoch 2 | Loss: 1.376113772392273 | Accuracy: 46.875%\n",
            "GB | Epoch 2 | Loss: 1.1686521768569946 | Accuracy: 51.5625%\n",
            "GB | Epoch 2 | Loss: 1.2956539392471313 | Accuracy: 46.875%\n",
            "GB | Epoch 2 | Loss: 1.312949299812317 | Accuracy: 45.3125%\n",
            "GB | Epoch 2 | Loss: 1.4044479131698608 | Accuracy: 31.25%\n",
            "GB | Epoch 2 | Loss: 1.23726487159729 | Accuracy: 53.125%\n",
            "GB | Epoch 2 | Loss: 1.3504353761672974 | Accuracy: 34.375%\n",
            "GB | Epoch 2 | Loss: 1.335254430770874 | Accuracy: 39.0625%\n",
            "GB | Epoch 2 | Loss: 1.3818180561065674 | Accuracy: 32.8125%\n",
            "GB | Epoch 2 | Loss: 1.304520845413208 | Accuracy: 50.0%\n",
            "GB | Epoch 2 | Loss: 1.2815473079681396 | Accuracy: 39.0625%\n",
            "GB | Epoch 2 | Loss: 1.314103126525879 | Accuracy: 48.4375%\n",
            "GB | Epoch 2 | Loss: 1.389633297920227 | Accuracy: 48.4375%\n",
            "GB | Epoch 2 | Loss: 1.2289687395095825 | Accuracy: 51.5625%\n",
            "GB | Epoch 2 | Loss: 1.1904900074005127 | Accuracy: 50.0%\n"
          ]
        },
        {
          "name": "stderr",
          "output_type": "stream",
          "text": [
            "Epoch 2:  23%|██▎       | 173/751 [00:01<00:04, 122.81batch/s, accuracy=46.875%, loss=1.27]"
          ]
        },
        {
          "name": "stdout",
          "output_type": "stream",
          "text": [
            "GB | Epoch 2 | Loss: 1.3312162160873413 | Accuracy: 45.3125%\n",
            "GB | Epoch 2 | Loss: 1.2791115045547485 | Accuracy: 40.625%\n",
            "GB | Epoch 2 | Loss: 1.2586755752563477 | Accuracy: 40.625%\n",
            "GB | Epoch 2 | Loss: 1.2333714962005615 | Accuracy: 50.0%\n",
            "GB | Epoch 2 | Loss: 1.2659494876861572 | Accuracy: 46.875%\n",
            "GB | Epoch 2 | Loss: 1.283276081085205 | Accuracy: 34.375%\n",
            "GB | Epoch 2 | Loss: 1.2123535871505737 | Accuracy: 53.125%\n",
            "GB | Epoch 2 | Loss: 1.3209228515625 | Accuracy: 45.3125%\n",
            "GB | Epoch 2 | Loss: 1.255441665649414 | Accuracy: 46.875%\n",
            "GB | Epoch 2 | Loss: 1.3650639057159424 | Accuracy: 37.5%\n",
            "GB | Epoch 2 | Loss: 1.2559163570404053 | Accuracy: 48.4375%\n",
            "GB | Epoch 2 | Loss: 1.3342890739440918 | Accuracy: 40.625%\n",
            "GB | Epoch 2 | Loss: 1.353878378868103 | Accuracy: 40.625%\n",
            "GB | Epoch 2 | Loss: 1.3270624876022339 | Accuracy: 39.0625%\n",
            "GB | Epoch 2 | Loss: 1.3044707775115967 | Accuracy: 42.1875%\n",
            "GB | Epoch 2 | Loss: 1.310929298400879 | Accuracy: 31.25%\n",
            "GB | Epoch 2 | Loss: 1.153752088546753 | Accuracy: 57.8125%\n",
            "GB | Epoch 2 | Loss: 1.2988152503967285 | Accuracy: 40.625%\n",
            "GB | Epoch 2 | Loss: 1.3933830261230469 | Accuracy: 37.5%\n",
            "GB | Epoch 2 | Loss: 1.2599564790725708 | Accuracy: 45.3125%\n",
            "GB | Epoch 2 | Loss: 1.3299962282180786 | Accuracy: 39.0625%\n",
            "GB | Epoch 2 | Loss: 1.1868499517440796 | Accuracy: 54.6875%\n",
            "GB | Epoch 2 | Loss: 1.3148733377456665 | Accuracy: 43.75%\n",
            "GB | Epoch 2 | Loss: 1.2681469917297363 | Accuracy: 46.875%\n"
          ]
        },
        {
          "name": "stderr",
          "output_type": "stream",
          "text": [
            "Epoch 2:  27%|██▋       | 201/751 [00:01<00:04, 129.83batch/s, accuracy=51.5625%, loss=1.18]"
          ]
        },
        {
          "name": "stdout",
          "output_type": "stream",
          "text": [
            "GB | Epoch 2 | Loss: 1.193005919456482 | Accuracy: 51.5625%\n",
            "GB | Epoch 2 | Loss: 1.3055331707000732 | Accuracy: 46.875%\n",
            "GB | Epoch 2 | Loss: 1.2973358631134033 | Accuracy: 48.4375%\n",
            "GB | Epoch 2 | Loss: 1.2723530530929565 | Accuracy: 45.3125%\n",
            "GB | Epoch 2 | Loss: 1.3440438508987427 | Accuracy: 39.0625%\n",
            "GB | Epoch 2 | Loss: 1.1907846927642822 | Accuracy: 56.25%\n",
            "GB | Epoch 2 | Loss: 1.3334088325500488 | Accuracy: 46.875%\n",
            "GB | Epoch 2 | Loss: 1.3070652484893799 | Accuracy: 35.9375%\n",
            "GB | Epoch 2 | Loss: 1.3424988985061646 | Accuracy: 37.5%\n",
            "GB | Epoch 2 | Loss: 1.2844581604003906 | Accuracy: 42.1875%\n",
            "GB | Epoch 2 | Loss: 1.3008875846862793 | Accuracy: 48.4375%\n",
            "GB | Epoch 2 | Loss: 1.2618968486785889 | Accuracy: 40.625%\n",
            "GB | Epoch 2 | Loss: 1.3355025053024292 | Accuracy: 37.5%\n",
            "GB | Epoch 2 | Loss: 1.2581311464309692 | Accuracy: 43.75%\n",
            "GB | Epoch 2 | Loss: 1.2779611349105835 | Accuracy: 50.0%\n",
            "GB | Epoch 2 | Loss: 1.2316548824310303 | Accuracy: 46.875%\n",
            "GB | Epoch 2 | Loss: 1.2181497812271118 | Accuracy: 46.875%\n",
            "GB | Epoch 2 | Loss: 1.2171355485916138 | Accuracy: 48.4375%\n",
            "GB | Epoch 2 | Loss: 1.3090052604675293 | Accuracy: 34.375%\n",
            "GB | Epoch 2 | Loss: 1.2922344207763672 | Accuracy: 45.3125%\n",
            "GB | Epoch 2 | Loss: 1.3007268905639648 | Accuracy: 35.9375%\n",
            "GB | Epoch 2 | Loss: 1.2167837619781494 | Accuracy: 45.3125%\n",
            "GB | Epoch 2 | Loss: 1.2471468448638916 | Accuracy: 45.3125%\n",
            "GB | Epoch 2 | Loss: 1.2892359495162964 | Accuracy: 37.5%\n",
            "GB | Epoch 2 | Loss: 1.3256194591522217 | Accuracy: 46.875%\n",
            "GB | Epoch 2 | Loss: 1.2479900121688843 | Accuracy: 53.125%\n",
            "GB | Epoch 2 | Loss: 1.302795648574829 | Accuracy: 43.75%\n"
          ]
        },
        {
          "name": "stderr",
          "output_type": "stream",
          "text": [
            "Epoch 2:  30%|███       | 229/751 [00:02<00:04, 130.05batch/s, accuracy=48.4375%, loss=1.22]"
          ]
        },
        {
          "name": "stdout",
          "output_type": "stream",
          "text": [
            "GB | Epoch 2 | Loss: 1.1839584112167358 | Accuracy: 51.5625%\n",
            "GB | Epoch 2 | Loss: 1.3152413368225098 | Accuracy: 40.625%\n",
            "GB | Epoch 2 | Loss: 1.2189842462539673 | Accuracy: 53.125%\n",
            "GB | Epoch 2 | Loss: 1.2200926542282104 | Accuracy: 53.125%\n",
            "GB | Epoch 2 | Loss: 1.1553544998168945 | Accuracy: 48.4375%\n",
            "GB | Epoch 2 | Loss: 1.318665862083435 | Accuracy: 45.3125%\n",
            "GB | Epoch 2 | Loss: 1.3006813526153564 | Accuracy: 39.0625%\n",
            "GB | Epoch 2 | Loss: 1.2270348072052002 | Accuracy: 42.1875%\n",
            "GB | Epoch 2 | Loss: 1.3281382322311401 | Accuracy: 34.375%\n",
            "GB | Epoch 2 | Loss: 1.1707557439804077 | Accuracy: 54.6875%\n",
            "GB | Epoch 2 | Loss: 1.342133641242981 | Accuracy: 39.0625%\n",
            "GB | Epoch 2 | Loss: 1.157312035560608 | Accuracy: 54.6875%\n",
            "GB | Epoch 2 | Loss: 1.214070200920105 | Accuracy: 45.3125%\n",
            "GB | Epoch 2 | Loss: 1.360196828842163 | Accuracy: 32.8125%\n",
            "GB | Epoch 2 | Loss: 1.2254807949066162 | Accuracy: 56.25%\n",
            "GB | Epoch 2 | Loss: 1.2705012559890747 | Accuracy: 45.3125%\n",
            "GB | Epoch 2 | Loss: 1.3384937047958374 | Accuracy: 43.75%\n",
            "GB | Epoch 2 | Loss: 1.4625613689422607 | Accuracy: 31.25%\n",
            "GB | Epoch 2 | Loss: 1.2567756175994873 | Accuracy: 45.3125%\n",
            "GB | Epoch 2 | Loss: 1.3121294975280762 | Accuracy: 35.9375%\n",
            "GB | Epoch 2 | Loss: 1.234203815460205 | Accuracy: 46.875%\n",
            "GB | Epoch 2 | Loss: 1.180134654045105 | Accuracy: 54.6875%\n",
            "GB | Epoch 2 | Loss: 1.354433536529541 | Accuracy: 35.9375%\n",
            "GB | Epoch 2 | Loss: 1.2151410579681396 | Accuracy: 43.75%\n",
            "GB | Epoch 2 | Loss: 1.2066452503204346 | Accuracy: 50.0%\n",
            "GB | Epoch 2 | Loss: 1.3132126331329346 | Accuracy: 40.625%\n",
            "GB | Epoch 2 | Loss: 1.2165061235427856 | Accuracy: 48.4375%\n"
          ]
        },
        {
          "name": "stderr",
          "output_type": "stream",
          "text": [
            "Epoch 2:  34%|███▍      | 258/751 [00:02<00:03, 134.57batch/s, accuracy=37.5%, loss=1.32]   "
          ]
        },
        {
          "name": "stdout",
          "output_type": "stream",
          "text": [
            "GB | Epoch 2 | Loss: 1.2528972625732422 | Accuracy: 43.75%\n",
            "GB | Epoch 2 | Loss: 1.372598648071289 | Accuracy: 34.375%\n",
            "GB | Epoch 2 | Loss: 1.3432402610778809 | Accuracy: 37.5%\n",
            "GB | Epoch 2 | Loss: 1.3175201416015625 | Accuracy: 37.5%\n",
            "GB | Epoch 2 | Loss: 1.2187126874923706 | Accuracy: 46.875%\n",
            "GB | Epoch 2 | Loss: 1.2924766540527344 | Accuracy: 39.0625%\n",
            "GB | Epoch 2 | Loss: 1.1904548406600952 | Accuracy: 50.0%\n",
            "GB | Epoch 2 | Loss: 1.2672226428985596 | Accuracy: 50.0%\n",
            "GB | Epoch 2 | Loss: 1.2347818613052368 | Accuracy: 50.0%\n",
            "GB | Epoch 2 | Loss: 1.1085823774337769 | Accuracy: 65.625%\n",
            "GB | Epoch 2 | Loss: 1.214288592338562 | Accuracy: 43.75%\n",
            "GB | Epoch 2 | Loss: 1.2548470497131348 | Accuracy: 42.1875%\n",
            "GB | Epoch 2 | Loss: 1.117580533027649 | Accuracy: 57.8125%\n",
            "GB | Epoch 2 | Loss: 1.3328301906585693 | Accuracy: 37.5%\n",
            "GB | Epoch 2 | Loss: 1.3093080520629883 | Accuracy: 42.1875%\n",
            "GB | Epoch 2 | Loss: 1.1997997760772705 | Accuracy: 54.6875%\n",
            "GB | Epoch 2 | Loss: 1.389714241027832 | Accuracy: 50.0%\n",
            "GB | Epoch 2 | Loss: 1.2327381372451782 | Accuracy: 46.875%\n",
            "GB | Epoch 2 | Loss: 1.314972162246704 | Accuracy: 39.0625%\n",
            "GB | Epoch 2 | Loss: 1.3127596378326416 | Accuracy: 42.1875%\n",
            "GB | Epoch 2 | Loss: 1.2014024257659912 | Accuracy: 48.4375%\n",
            "GB | Epoch 2 | Loss: 1.3041850328445435 | Accuracy: 39.0625%\n",
            "GB | Epoch 2 | Loss: 1.264856219291687 | Accuracy: 50.0%\n",
            "GB | Epoch 2 | Loss: 1.212843656539917 | Accuracy: 50.0%\n",
            "GB | Epoch 2 | Loss: 1.2041321992874146 | Accuracy: 45.3125%\n",
            "GB | Epoch 2 | Loss: 1.2235794067382812 | Accuracy: 53.125%\n",
            "GB | Epoch 2 | Loss: 1.2921795845031738 | Accuracy: 42.1875%\n"
          ]
        },
        {
          "name": "stderr",
          "output_type": "stream",
          "text": [
            "Epoch 2:  38%|███▊      | 286/751 [00:02<00:03, 130.38batch/s, accuracy=43.75%, loss=1.22] "
          ]
        },
        {
          "name": "stdout",
          "output_type": "stream",
          "text": [
            "GB | Epoch 2 | Loss: 1.3213987350463867 | Accuracy: 37.5%\n",
            "GB | Epoch 2 | Loss: 1.2215685844421387 | Accuracy: 48.4375%\n",
            "GB | Epoch 2 | Loss: 1.1760311126708984 | Accuracy: 46.875%\n",
            "GB | Epoch 2 | Loss: 1.2892986536026 | Accuracy: 42.1875%\n",
            "GB | Epoch 2 | Loss: 1.1919829845428467 | Accuracy: 57.8125%\n",
            "GB | Epoch 2 | Loss: 1.3114049434661865 | Accuracy: 39.0625%\n",
            "GB | Epoch 2 | Loss: 1.27377450466156 | Accuracy: 43.75%\n",
            "GB | Epoch 2 | Loss: 1.1962641477584839 | Accuracy: 56.25%\n",
            "GB | Epoch 2 | Loss: 1.2254763841629028 | Accuracy: 46.875%\n",
            "GB | Epoch 2 | Loss: 1.1792649030685425 | Accuracy: 51.5625%\n",
            "GB | Epoch 2 | Loss: 1.275120496749878 | Accuracy: 42.1875%\n",
            "GB | Epoch 2 | Loss: 1.2566863298416138 | Accuracy: 40.625%\n",
            "GB | Epoch 2 | Loss: 1.3033283948898315 | Accuracy: 39.0625%\n",
            "GB | Epoch 2 | Loss: 1.250748634338379 | Accuracy: 48.4375%\n",
            "GB | Epoch 2 | Loss: 1.1796324253082275 | Accuracy: 53.125%\n",
            "GB | Epoch 2 | Loss: 1.3124761581420898 | Accuracy: 40.625%\n",
            "GB | Epoch 2 | Loss: 1.1950865983963013 | Accuracy: 53.125%\n",
            "GB | Epoch 2 | Loss: 1.237520456314087 | Accuracy: 50.0%\n",
            "GB | Epoch 2 | Loss: 1.212477445602417 | Accuracy: 51.5625%\n",
            "GB | Epoch 2 | Loss: 1.3897984027862549 | Accuracy: 37.5%\n",
            "GB | Epoch 2 | Loss: 1.1988273859024048 | Accuracy: 50.0%\n",
            "GB | Epoch 2 | Loss: 1.159069538116455 | Accuracy: 53.125%\n",
            "GB | Epoch 2 | Loss: 1.255419135093689 | Accuracy: 43.75%\n",
            "GB | Epoch 2 | Loss: 1.1445590257644653 | Accuracy: 50.0%\n",
            "GB | Epoch 2 | Loss: 1.3001974821090698 | Accuracy: 39.0625%\n",
            "GB | Epoch 2 | Loss: 1.2513618469238281 | Accuracy: 48.4375%\n",
            "GB | Epoch 2 | Loss: 1.2446826696395874 | Accuracy: 46.875%\n"
          ]
        },
        {
          "name": "stderr",
          "output_type": "stream",
          "text": [
            "Epoch 2:  40%|███▉      | 300/751 [00:02<00:03, 128.19batch/s, accuracy=37.5%, loss=1.29]   "
          ]
        },
        {
          "name": "stdout",
          "output_type": "stream",
          "text": [
            "GB | Epoch 2 | Loss: 1.2245738506317139 | Accuracy: 43.75%\n",
            "GB | Epoch 2 | Loss: 1.3517128229141235 | Accuracy: 37.5%\n",
            "GB | Epoch 2 | Loss: 1.1734272241592407 | Accuracy: 51.5625%\n",
            "GB | Epoch 2 | Loss: 1.2498836517333984 | Accuracy: 43.75%\n",
            "GB | Epoch 2 | Loss: 1.3380653858184814 | Accuracy: 35.9375%\n",
            "GB | Epoch 2 | Loss: 1.2908034324645996 | Accuracy: 37.5%\n",
            "GB | Epoch 2 | Loss: 1.2282930612564087 | Accuracy: 46.875%\n",
            "GB | Epoch 2 | Loss: 1.2202000617980957 | Accuracy: 42.1875%\n",
            "GB | Epoch 2 | Loss: 1.2334198951721191 | Accuracy: 45.3125%\n",
            "GB | Epoch 2 | Loss: 1.190819501876831 | Accuracy: 53.125%\n",
            "GB | Epoch 2 | Loss: 1.2725709676742554 | Accuracy: 43.75%\n",
            "GB | Epoch 2 | Loss: 1.1312637329101562 | Accuracy: 51.5625%\n",
            "GB | Epoch 2 | Loss: 1.2462533712387085 | Accuracy: 40.625%\n",
            "GB | Epoch 2 | Loss: 1.1378095149993896 | Accuracy: 59.375%\n",
            "GB | Epoch 2 | Loss: 1.2557786703109741 | Accuracy: 56.25%\n",
            "GB | Epoch 2 | Loss: 1.211203932762146 | Accuracy: 45.3125%\n",
            "GB | Epoch 2 | Loss: 1.1933473348617554 | Accuracy: 46.875%\n",
            "GB | Epoch 2 | Loss: 1.2367165088653564 | Accuracy: 43.75%\n",
            "GB | Epoch 2 | Loss: 1.3048655986785889 | Accuracy: 40.625%\n",
            "GB | Epoch 2 | Loss: 1.2811535596847534 | Accuracy: 40.625%\n",
            "GB | Epoch 2 | Loss: 1.3033133745193481 | Accuracy: 37.5%\n",
            "GB | Epoch 2 | Loss: 1.2716023921966553 | Accuracy: 43.75%\n",
            "GB | Epoch 2 | Loss: 1.14134681224823 | Accuracy: 51.5625%\n",
            "GB | Epoch 2 | Loss: 1.2864168882369995 | Accuracy: 37.5%\n"
          ]
        },
        {
          "name": "stderr",
          "output_type": "stream",
          "text": [
            "Epoch 2:  44%|████▎     | 327/751 [00:02<00:03, 125.75batch/s, accuracy=48.4375%, loss=1.25]"
          ]
        },
        {
          "name": "stdout",
          "output_type": "stream",
          "text": [
            "GB | Epoch 2 | Loss: 1.2661399841308594 | Accuracy: 45.3125%\n",
            "GB | Epoch 2 | Loss: 1.2246150970458984 | Accuracy: 45.3125%\n",
            "GB | Epoch 2 | Loss: 1.307666540145874 | Accuracy: 42.1875%\n",
            "GB | Epoch 2 | Loss: 1.2577874660491943 | Accuracy: 39.0625%\n",
            "GB | Epoch 2 | Loss: 1.268791913986206 | Accuracy: 48.4375%\n",
            "GB | Epoch 2 | Loss: 1.2835148572921753 | Accuracy: 39.0625%\n",
            "GB | Epoch 2 | Loss: 1.3649216890335083 | Accuracy: 34.375%\n",
            "GB | Epoch 2 | Loss: 1.2384976148605347 | Accuracy: 45.3125%\n",
            "GB | Epoch 2 | Loss: 1.3031327724456787 | Accuracy: 37.5%\n",
            "GB | Epoch 2 | Loss: 1.266416072845459 | Accuracy: 39.0625%\n",
            "GB | Epoch 2 | Loss: 1.3686901330947876 | Accuracy: 40.625%\n",
            "GB | Epoch 2 | Loss: 1.248956322669983 | Accuracy: 48.4375%\n",
            "GB | Epoch 2 | Loss: 1.2941635847091675 | Accuracy: 50.0%\n",
            "GB | Epoch 2 | Loss: 1.195282220840454 | Accuracy: 45.3125%\n",
            "GB | Epoch 2 | Loss: 1.3489148616790771 | Accuracy: 37.5%\n",
            "GB | Epoch 2 | Loss: 1.2789280414581299 | Accuracy: 42.1875%\n",
            "GB | Epoch 2 | Loss: 1.1488142013549805 | Accuracy: 53.125%\n",
            "GB | Epoch 2 | Loss: 1.2757056951522827 | Accuracy: 42.1875%\n",
            "GB | Epoch 2 | Loss: 1.1622971296310425 | Accuracy: 46.875%\n",
            "GB | Epoch 2 | Loss: 1.357475996017456 | Accuracy: 39.0625%\n",
            "GB | Epoch 2 | Loss: 1.2196909189224243 | Accuracy: 45.3125%\n",
            "GB | Epoch 2 | Loss: 1.2370792627334595 | Accuracy: 43.75%\n",
            "GB | Epoch 2 | Loss: 1.1339150667190552 | Accuracy: 46.875%\n",
            "GB | Epoch 2 | Loss: 1.2868465185165405 | Accuracy: 42.1875%\n",
            "GB | Epoch 2 | Loss: 1.1536787748336792 | Accuracy: 46.875%\n",
            "GB | Epoch 2 | Loss: 1.286261796951294 | Accuracy: 43.75%\n",
            "GB | Epoch 2 | Loss: 1.2315542697906494 | Accuracy: 46.875%\n",
            "GB | Epoch 2 | Loss: 1.247892141342163 | Accuracy: 48.4375%\n"
          ]
        },
        {
          "name": "stderr",
          "output_type": "stream",
          "text": [
            "Epoch 2:  47%|████▋     | 355/751 [00:03<00:03, 131.65batch/s, accuracy=43.75%, loss=1.23] "
          ]
        },
        {
          "name": "stdout",
          "output_type": "stream",
          "text": [
            "GB | Epoch 2 | Loss: 1.2888917922973633 | Accuracy: 43.75%\n",
            "GB | Epoch 2 | Loss: 1.3441065549850464 | Accuracy: 39.0625%\n",
            "GB | Epoch 2 | Loss: 1.2026540040969849 | Accuracy: 45.3125%\n",
            "GB | Epoch 2 | Loss: 1.2250865697860718 | Accuracy: 45.3125%\n",
            "GB | Epoch 2 | Loss: 1.2653460502624512 | Accuracy: 46.875%\n",
            "GB | Epoch 2 | Loss: 1.2471518516540527 | Accuracy: 46.875%\n",
            "GB | Epoch 2 | Loss: 1.2956730127334595 | Accuracy: 45.3125%\n",
            "GB | Epoch 2 | Loss: 1.253576397895813 | Accuracy: 42.1875%\n",
            "GB | Epoch 2 | Loss: 1.2232935428619385 | Accuracy: 51.5625%\n",
            "GB | Epoch 2 | Loss: 1.1821074485778809 | Accuracy: 53.125%\n",
            "GB | Epoch 2 | Loss: 1.2256630659103394 | Accuracy: 46.875%\n",
            "GB | Epoch 2 | Loss: 1.2541966438293457 | Accuracy: 50.0%\n",
            "GB | Epoch 2 | Loss: 1.4899252653121948 | Accuracy: 32.8125%\n",
            "GB | Epoch 2 | Loss: 1.1835801601409912 | Accuracy: 43.75%\n",
            "GB | Epoch 2 | Loss: 1.2395182847976685 | Accuracy: 42.1875%\n",
            "GB | Epoch 2 | Loss: 1.2408064603805542 | Accuracy: 39.0625%\n",
            "GB | Epoch 2 | Loss: 1.2096421718597412 | Accuracy: 42.1875%\n",
            "GB | Epoch 2 | Loss: 1.1478793621063232 | Accuracy: 50.0%\n",
            "GB | Epoch 2 | Loss: 1.322925329208374 | Accuracy: 34.375%\n",
            "GB | Epoch 2 | Loss: 1.2600631713867188 | Accuracy: 43.75%\n",
            "GB | Epoch 2 | Loss: 1.2546812295913696 | Accuracy: 39.0625%\n",
            "GB | Epoch 2 | Loss: 1.3564285039901733 | Accuracy: 46.875%\n",
            "GB | Epoch 2 | Loss: 1.2491294145584106 | Accuracy: 45.3125%\n",
            "GB | Epoch 2 | Loss: 1.241700291633606 | Accuracy: 43.75%\n",
            "GB | Epoch 2 | Loss: 1.2458422183990479 | Accuracy: 45.3125%\n",
            "GB | Epoch 2 | Loss: 1.2121844291687012 | Accuracy: 46.875%\n",
            "GB | Epoch 2 | Loss: 1.2333844900131226 | Accuracy: 43.75%\n"
          ]
        },
        {
          "name": "stderr",
          "output_type": "stream",
          "text": [
            "Epoch 2:  51%|█████     | 383/751 [00:03<00:02, 129.73batch/s, accuracy=45.3125%, loss=1.15]"
          ]
        },
        {
          "name": "stdout",
          "output_type": "stream",
          "text": [
            "GB | Epoch 2 | Loss: 1.2618000507354736 | Accuracy: 46.875%\n",
            "GB | Epoch 2 | Loss: 1.2498548030853271 | Accuracy: 45.3125%\n",
            "GB | Epoch 2 | Loss: 1.1139049530029297 | Accuracy: 56.25%\n",
            "GB | Epoch 2 | Loss: 1.2542884349822998 | Accuracy: 43.75%\n",
            "GB | Epoch 2 | Loss: 1.2641699314117432 | Accuracy: 40.625%\n",
            "GB | Epoch 2 | Loss: 1.186829924583435 | Accuracy: 48.4375%\n",
            "GB | Epoch 2 | Loss: 1.2691316604614258 | Accuracy: 43.75%\n",
            "GB | Epoch 2 | Loss: 1.2081905603408813 | Accuracy: 48.4375%\n",
            "GB | Epoch 2 | Loss: 1.2905241250991821 | Accuracy: 43.75%\n",
            "GB | Epoch 2 | Loss: 1.250196099281311 | Accuracy: 43.75%\n",
            "GB | Epoch 2 | Loss: 1.1805322170257568 | Accuracy: 48.4375%\n",
            "GB | Epoch 2 | Loss: 1.2977877855300903 | Accuracy: 43.75%\n",
            "GB | Epoch 2 | Loss: 1.2757827043533325 | Accuracy: 40.625%\n",
            "GB | Epoch 2 | Loss: 1.2931050062179565 | Accuracy: 42.1875%\n",
            "GB | Epoch 2 | Loss: 1.196792483329773 | Accuracy: 51.5625%\n",
            "GB | Epoch 2 | Loss: 1.2858470678329468 | Accuracy: 35.9375%\n",
            "GB | Epoch 2 | Loss: 1.185091257095337 | Accuracy: 48.4375%\n",
            "GB | Epoch 2 | Loss: 1.1625105142593384 | Accuracy: 50.0%\n",
            "GB | Epoch 2 | Loss: 1.0903956890106201 | Accuracy: 56.25%\n",
            "GB | Epoch 2 | Loss: 1.2782213687896729 | Accuracy: 40.625%\n",
            "GB | Epoch 2 | Loss: 1.3080397844314575 | Accuracy: 37.5%\n",
            "GB | Epoch 2 | Loss: 1.2245187759399414 | Accuracy: 37.5%\n",
            "GB | Epoch 2 | Loss: 1.2132455110549927 | Accuracy: 48.4375%\n",
            "GB | Epoch 2 | Loss: 1.2504109144210815 | Accuracy: 40.625%\n",
            "GB | Epoch 2 | Loss: 1.1174402236938477 | Accuracy: 53.125%\n",
            "GB | Epoch 2 | Loss: 1.2111622095108032 | Accuracy: 51.5625%\n",
            "GB | Epoch 2 | Loss: 1.2946953773498535 | Accuracy: 39.0625%\n",
            "GB | Epoch 2 | Loss: 1.14883553981781 | Accuracy: 45.3125%\n"
          ]
        },
        {
          "name": "stderr",
          "output_type": "stream",
          "text": [
            "Epoch 2:  55%|█████▍    | 412/751 [00:03<00:02, 131.05batch/s, accuracy=50.0%, loss=1.22]  "
          ]
        },
        {
          "name": "stdout",
          "output_type": "stream",
          "text": [
            "GB | Epoch 2 | Loss: 1.2728161811828613 | Accuracy: 43.75%\n",
            "GB | Epoch 2 | Loss: 1.3774330615997314 | Accuracy: 35.9375%\n",
            "GB | Epoch 2 | Loss: 1.2829077243804932 | Accuracy: 42.1875%\n",
            "GB | Epoch 2 | Loss: 1.1372140645980835 | Accuracy: 48.4375%\n",
            "GB | Epoch 2 | Loss: 1.2990835905075073 | Accuracy: 39.0625%\n",
            "GB | Epoch 2 | Loss: 1.2525315284729004 | Accuracy: 37.5%\n",
            "GB | Epoch 2 | Loss: 1.2729668617248535 | Accuracy: 37.5%\n",
            "GB | Epoch 2 | Loss: 1.1462085247039795 | Accuracy: 53.125%\n",
            "GB | Epoch 2 | Loss: 1.297905445098877 | Accuracy: 50.0%\n",
            "GB | Epoch 2 | Loss: 1.159662127494812 | Accuracy: 50.0%\n",
            "GB | Epoch 2 | Loss: 1.26242995262146 | Accuracy: 37.5%\n",
            "GB | Epoch 2 | Loss: 1.14841890335083 | Accuracy: 57.8125%\n",
            "GB | Epoch 2 | Loss: 1.250791311264038 | Accuracy: 39.0625%\n",
            "GB | Epoch 2 | Loss: 1.256554365158081 | Accuracy: 46.875%\n",
            "GB | Epoch 2 | Loss: 1.3092797994613647 | Accuracy: 45.3125%\n",
            "GB | Epoch 2 | Loss: 1.2212316989898682 | Accuracy: 51.5625%\n",
            "GB | Epoch 2 | Loss: 1.159860372543335 | Accuracy: 54.6875%\n",
            "GB | Epoch 2 | Loss: 1.2792130708694458 | Accuracy: 42.1875%\n",
            "GB | Epoch 2 | Loss: 1.1419410705566406 | Accuracy: 50.0%\n",
            "GB | Epoch 2 | Loss: 1.2327321767807007 | Accuracy: 42.1875%\n",
            "GB | Epoch 2 | Loss: 1.2324196100234985 | Accuracy: 45.3125%\n",
            "GB | Epoch 2 | Loss: 1.361812710762024 | Accuracy: 31.25%\n",
            "GB | Epoch 2 | Loss: 1.285786509513855 | Accuracy: 39.0625%\n",
            "GB | Epoch 2 | Loss: 1.2178802490234375 | Accuracy: 43.75%\n",
            "GB | Epoch 2 | Loss: 1.1897375583648682 | Accuracy: 53.125%\n",
            "GB | Epoch 2 | Loss: 1.2230836153030396 | Accuracy: 50.0%\n"
          ]
        },
        {
          "name": "stderr",
          "output_type": "stream",
          "text": [
            "Epoch 2:  59%|█████▊    | 440/751 [00:03<00:02, 131.59batch/s, accuracy=37.5%, loss=1.31]   "
          ]
        },
        {
          "name": "stdout",
          "output_type": "stream",
          "text": [
            "GB | Epoch 2 | Loss: 1.2350916862487793 | Accuracy: 43.75%\n",
            "GB | Epoch 2 | Loss: 1.3904920816421509 | Accuracy: 32.8125%\n",
            "GB | Epoch 2 | Loss: 1.0911606550216675 | Accuracy: 59.375%\n",
            "GB | Epoch 2 | Loss: 1.132921576499939 | Accuracy: 57.8125%\n",
            "GB | Epoch 2 | Loss: 1.1998463869094849 | Accuracy: 54.6875%\n",
            "GB | Epoch 2 | Loss: 1.2364038228988647 | Accuracy: 48.4375%\n",
            "GB | Epoch 2 | Loss: 1.1360583305358887 | Accuracy: 53.125%\n",
            "GB | Epoch 2 | Loss: 1.1981401443481445 | Accuracy: 48.4375%\n",
            "GB | Epoch 2 | Loss: 1.275843620300293 | Accuracy: 37.5%\n",
            "GB | Epoch 2 | Loss: 1.337354063987732 | Accuracy: 32.8125%\n",
            "GB | Epoch 2 | Loss: 1.1973286867141724 | Accuracy: 50.0%\n",
            "GB | Epoch 2 | Loss: 1.2331161499023438 | Accuracy: 48.4375%\n",
            "GB | Epoch 2 | Loss: 1.1529314517974854 | Accuracy: 54.6875%\n",
            "GB | Epoch 2 | Loss: 1.2509535551071167 | Accuracy: 43.75%\n",
            "GB | Epoch 2 | Loss: 1.1211830377578735 | Accuracy: 53.125%\n",
            "GB | Epoch 2 | Loss: 1.2243438959121704 | Accuracy: 42.1875%\n",
            "GB | Epoch 2 | Loss: 1.2182141542434692 | Accuracy: 45.3125%\n",
            "GB | Epoch 2 | Loss: 1.2124145030975342 | Accuracy: 51.5625%\n",
            "GB | Epoch 2 | Loss: 1.1454823017120361 | Accuracy: 54.6875%\n",
            "GB | Epoch 2 | Loss: 1.36753249168396 | Accuracy: 31.25%\n",
            "GB | Epoch 2 | Loss: 1.151937484741211 | Accuracy: 46.875%\n",
            "GB | Epoch 2 | Loss: 1.247645616531372 | Accuracy: 50.0%\n",
            "GB | Epoch 2 | Loss: 1.217783808708191 | Accuracy: 48.4375%\n",
            "GB | Epoch 2 | Loss: 1.1105676889419556 | Accuracy: 51.5625%\n",
            "GB | Epoch 2 | Loss: 1.2192944288253784 | Accuracy: 45.3125%\n",
            "GB | Epoch 2 | Loss: 1.3069878816604614 | Accuracy: 37.5%\n"
          ]
        },
        {
          "name": "stderr",
          "output_type": "stream",
          "text": [
            "Epoch 2:  62%|██████▏   | 468/751 [00:03<00:02, 127.32batch/s, accuracy=48.4375%, loss=1.23]"
          ]
        },
        {
          "name": "stdout",
          "output_type": "stream",
          "text": [
            "GB | Epoch 2 | Loss: 1.2428784370422363 | Accuracy: 42.1875%\n",
            "GB | Epoch 2 | Loss: 1.2050093412399292 | Accuracy: 46.875%\n",
            "GB | Epoch 2 | Loss: 1.2643884420394897 | Accuracy: 40.625%\n",
            "GB | Epoch 2 | Loss: 1.2765069007873535 | Accuracy: 43.75%\n",
            "GB | Epoch 2 | Loss: 1.1640106439590454 | Accuracy: 53.125%\n",
            "GB | Epoch 2 | Loss: 1.184553623199463 | Accuracy: 48.4375%\n",
            "GB | Epoch 2 | Loss: 1.295465111732483 | Accuracy: 40.625%\n",
            "GB | Epoch 2 | Loss: 1.2306665182113647 | Accuracy: 43.75%\n",
            "GB | Epoch 2 | Loss: 1.2106845378875732 | Accuracy: 39.0625%\n",
            "GB | Epoch 2 | Loss: 1.2910155057907104 | Accuracy: 35.9375%\n",
            "GB | Epoch 2 | Loss: 1.139981746673584 | Accuracy: 51.5625%\n",
            "GB | Epoch 2 | Loss: 1.1612646579742432 | Accuracy: 51.5625%\n",
            "GB | Epoch 2 | Loss: 1.2096325159072876 | Accuracy: 43.75%\n",
            "GB | Epoch 2 | Loss: 1.1750373840332031 | Accuracy: 51.5625%\n",
            "GB | Epoch 2 | Loss: 1.1371387243270874 | Accuracy: 54.6875%\n",
            "GB | Epoch 2 | Loss: 1.184230923652649 | Accuracy: 53.125%\n",
            "GB | Epoch 2 | Loss: 1.1485227346420288 | Accuracy: 46.875%\n",
            "GB | Epoch 2 | Loss: 1.2860631942749023 | Accuracy: 40.625%\n",
            "GB | Epoch 2 | Loss: 1.1865869760513306 | Accuracy: 46.875%\n",
            "GB | Epoch 2 | Loss: 1.141842007637024 | Accuracy: 50.0%\n",
            "GB | Epoch 2 | Loss: 1.1925463676452637 | Accuracy: 46.875%\n",
            "GB | Epoch 2 | Loss: 1.2513078451156616 | Accuracy: 35.9375%\n",
            "GB | Epoch 2 | Loss: 1.2056388854980469 | Accuracy: 46.875%\n",
            "GB | Epoch 2 | Loss: 1.2013943195343018 | Accuracy: 48.4375%\n",
            "GB | Epoch 2 | Loss: 1.1282285451889038 | Accuracy: 57.8125%\n",
            "GB | Epoch 2 | Loss: 1.1182681322097778 | Accuracy: 56.25%\n",
            "GB | Epoch 2 | Loss: 1.200217604637146 | Accuracy: 42.1875%\n"
          ]
        },
        {
          "name": "stderr",
          "output_type": "stream",
          "text": [
            "Epoch 2:  66%|██████▌   | 497/751 [00:04<00:01, 131.32batch/s, accuracy=51.5625%, loss=1.13]"
          ]
        },
        {
          "name": "stdout",
          "output_type": "stream",
          "text": [
            "GB | Epoch 2 | Loss: 1.2264493703842163 | Accuracy: 48.4375%\n",
            "GB | Epoch 2 | Loss: 1.1030960083007812 | Accuracy: 53.125%\n",
            "GB | Epoch 2 | Loss: 1.1130012273788452 | Accuracy: 53.125%\n",
            "GB | Epoch 2 | Loss: 1.166912317276001 | Accuracy: 50.0%\n",
            "GB | Epoch 2 | Loss: 1.183982014656067 | Accuracy: 40.625%\n",
            "GB | Epoch 2 | Loss: 1.0689043998718262 | Accuracy: 57.8125%\n",
            "GB | Epoch 2 | Loss: 1.1773808002471924 | Accuracy: 53.125%\n",
            "GB | Epoch 2 | Loss: 1.0905847549438477 | Accuracy: 53.125%\n",
            "GB | Epoch 2 | Loss: 1.2190451622009277 | Accuracy: 50.0%\n",
            "GB | Epoch 2 | Loss: 1.1883869171142578 | Accuracy: 43.75%\n",
            "GB | Epoch 2 | Loss: 1.1730886697769165 | Accuracy: 45.3125%\n",
            "GB | Epoch 2 | Loss: 1.1926566362380981 | Accuracy: 42.1875%\n",
            "GB | Epoch 2 | Loss: 1.2960116863250732 | Accuracy: 40.625%\n",
            "GB | Epoch 2 | Loss: 1.1661778688430786 | Accuracy: 46.875%\n",
            "GB | Epoch 2 | Loss: 1.2389408349990845 | Accuracy: 46.875%\n",
            "GB | Epoch 2 | Loss: 1.1468647718429565 | Accuracy: 51.5625%\n",
            "GB | Epoch 2 | Loss: 1.1754759550094604 | Accuracy: 50.0%\n",
            "GB | Epoch 2 | Loss: 1.182701587677002 | Accuracy: 48.4375%\n",
            "GB | Epoch 2 | Loss: 1.1525683403015137 | Accuracy: 48.4375%\n",
            "GB | Epoch 2 | Loss: 1.0162805318832397 | Accuracy: 60.9375%\n",
            "GB | Epoch 2 | Loss: 1.2005921602249146 | Accuracy: 45.3125%\n",
            "GB | Epoch 2 | Loss: 1.1078331470489502 | Accuracy: 57.8125%\n",
            "GB | Epoch 2 | Loss: 1.1833182573318481 | Accuracy: 43.75%\n",
            "GB | Epoch 2 | Loss: 1.189411997795105 | Accuracy: 40.625%\n",
            "GB | Epoch 2 | Loss: 1.1015384197235107 | Accuracy: 45.3125%\n",
            "GB | Epoch 2 | Loss: 1.0904502868652344 | Accuracy: 53.125%\n",
            "GB | Epoch 2 | Loss: 1.1325173377990723 | Accuracy: 51.5625%\n"
          ]
        },
        {
          "name": "stderr",
          "output_type": "stream",
          "text": [
            "Epoch 2:  70%|██████▉   | 525/751 [00:04<00:01, 130.28batch/s, accuracy=50.0%, loss=1.16]"
          ]
        },
        {
          "name": "stdout",
          "output_type": "stream",
          "text": [
            "GB | Epoch 2 | Loss: 1.0745959281921387 | Accuracy: 54.6875%\n",
            "GB | Epoch 2 | Loss: 1.2515084743499756 | Accuracy: 43.75%\n",
            "GB | Epoch 2 | Loss: 1.1551069021224976 | Accuracy: 45.3125%\n",
            "GB | Epoch 2 | Loss: 1.1675738096237183 | Accuracy: 48.4375%\n",
            "GB | Epoch 2 | Loss: 1.1031404733657837 | Accuracy: 54.6875%\n",
            "GB | Epoch 2 | Loss: 1.1071693897247314 | Accuracy: 51.5625%\n",
            "GB | Epoch 2 | Loss: 1.0689762830734253 | Accuracy: 53.125%\n",
            "GB | Epoch 2 | Loss: 1.1611279249191284 | Accuracy: 53.125%\n",
            "GB | Epoch 2 | Loss: 1.2910914421081543 | Accuracy: 35.9375%\n",
            "GB | Epoch 2 | Loss: 1.2235968112945557 | Accuracy: 48.4375%\n",
            "GB | Epoch 2 | Loss: 0.9739546179771423 | Accuracy: 70.3125%\n",
            "GB | Epoch 2 | Loss: 1.104636788368225 | Accuracy: 54.6875%\n",
            "GB | Epoch 2 | Loss: 1.2145267724990845 | Accuracy: 39.0625%\n",
            "GB | Epoch 2 | Loss: 1.1054913997650146 | Accuracy: 46.875%\n",
            "GB | Epoch 2 | Loss: 1.1405574083328247 | Accuracy: 48.4375%\n",
            "GB | Epoch 2 | Loss: 1.17279052734375 | Accuracy: 39.0625%\n",
            "GB | Epoch 2 | Loss: 1.0969769954681396 | Accuracy: 53.125%\n",
            "GB | Epoch 2 | Loss: 1.125797152519226 | Accuracy: 50.0%\n",
            "GB | Epoch 2 | Loss: 1.0649739503860474 | Accuracy: 62.5%\n",
            "GB | Epoch 2 | Loss: 1.0934209823608398 | Accuracy: 57.8125%\n",
            "GB | Epoch 2 | Loss: 1.1510446071624756 | Accuracy: 51.5625%\n",
            "GB | Epoch 2 | Loss: 1.2509876489639282 | Accuracy: 45.3125%\n",
            "GB | Epoch 2 | Loss: 1.0452771186828613 | Accuracy: 48.4375%\n",
            "GB | Epoch 2 | Loss: 1.0806421041488647 | Accuracy: 53.125%\n",
            "GB | Epoch 2 | Loss: 1.2139828205108643 | Accuracy: 45.3125%\n",
            "GB | Epoch 2 | Loss: 1.0811115503311157 | Accuracy: 50.0%\n",
            "GB | Epoch 2 | Loss: 1.1612153053283691 | Accuracy: 50.0%\n"
          ]
        },
        {
          "name": "stderr",
          "output_type": "stream",
          "text": [
            "Epoch 2:  74%|███████▎  | 553/751 [00:04<00:01, 131.53batch/s, accuracy=50.0%, loss=1.13] "
          ]
        },
        {
          "name": "stdout",
          "output_type": "stream",
          "text": [
            "GB | Epoch 2 | Loss: 1.1968258619308472 | Accuracy: 51.5625%\n",
            "GB | Epoch 2 | Loss: 1.10113525390625 | Accuracy: 54.6875%\n",
            "GB | Epoch 2 | Loss: 1.1406450271606445 | Accuracy: 48.4375%\n",
            "GB | Epoch 2 | Loss: 1.0296719074249268 | Accuracy: 60.9375%\n",
            "GB | Epoch 2 | Loss: 1.30007004737854 | Accuracy: 40.625%\n",
            "GB | Epoch 2 | Loss: 1.1768203973770142 | Accuracy: 51.5625%\n",
            "GB | Epoch 2 | Loss: 1.0924311876296997 | Accuracy: 54.6875%\n",
            "GB | Epoch 2 | Loss: 1.0662165880203247 | Accuracy: 54.6875%\n",
            "GB | Epoch 2 | Loss: 1.2027671337127686 | Accuracy: 43.75%\n",
            "GB | Epoch 2 | Loss: 1.0541536808013916 | Accuracy: 57.8125%\n",
            "GB | Epoch 2 | Loss: 1.1286828517913818 | Accuracy: 56.25%\n",
            "GB | Epoch 2 | Loss: 1.123323678970337 | Accuracy: 53.125%\n",
            "GB | Epoch 2 | Loss: 1.170782446861267 | Accuracy: 46.875%\n",
            "GB | Epoch 2 | Loss: 1.1484507322311401 | Accuracy: 50.0%\n",
            "GB | Epoch 2 | Loss: 1.0833321809768677 | Accuracy: 57.8125%\n",
            "GB | Epoch 2 | Loss: 1.3641990423202515 | Accuracy: 25.0%\n",
            "GB | Epoch 2 | Loss: 1.058880090713501 | Accuracy: 56.25%\n",
            "GB | Epoch 2 | Loss: 1.0451213121414185 | Accuracy: 53.125%\n",
            "GB | Epoch 2 | Loss: 1.0646469593048096 | Accuracy: 57.8125%\n",
            "GB | Epoch 2 | Loss: 1.1279168128967285 | Accuracy: 56.25%\n",
            "GB | Epoch 2 | Loss: 1.1146568059921265 | Accuracy: 51.5625%\n",
            "GB | Epoch 2 | Loss: 1.2760283946990967 | Accuracy: 40.625%\n",
            "GB | Epoch 2 | Loss: 1.01322603225708 | Accuracy: 59.375%\n",
            "GB | Epoch 2 | Loss: 1.2578626871109009 | Accuracy: 40.625%\n",
            "GB | Epoch 2 | Loss: 1.0754801034927368 | Accuracy: 51.5625%\n",
            "GB | Epoch 2 | Loss: 1.0874234437942505 | Accuracy: 56.25%\n",
            "GB | Epoch 2 | Loss: 1.1282545328140259 | Accuracy: 50.0%\n"
          ]
        },
        {
          "name": "stderr",
          "output_type": "stream",
          "text": [
            "Epoch 2:  77%|███████▋  | 581/751 [00:04<00:01, 130.35batch/s, accuracy=45.3125%, loss=1.21]"
          ]
        },
        {
          "name": "stdout",
          "output_type": "stream",
          "text": [
            "GB | Epoch 2 | Loss: 1.221118688583374 | Accuracy: 43.75%\n",
            "GB | Epoch 2 | Loss: 0.8975744843482971 | Accuracy: 67.1875%\n",
            "GB | Epoch 2 | Loss: 1.2070555686950684 | Accuracy: 42.1875%\n",
            "GB | Epoch 2 | Loss: 1.1151889562606812 | Accuracy: 51.5625%\n",
            "GB | Epoch 2 | Loss: 1.12714684009552 | Accuracy: 54.6875%\n",
            "GB | Epoch 2 | Loss: 1.1177189350128174 | Accuracy: 53.125%\n",
            "GB | Epoch 2 | Loss: 1.0717531442642212 | Accuracy: 59.375%\n",
            "GB | Epoch 2 | Loss: 1.0695228576660156 | Accuracy: 50.0%\n",
            "GB | Epoch 2 | Loss: 1.1294817924499512 | Accuracy: 45.3125%\n",
            "GB | Epoch 2 | Loss: 1.099396824836731 | Accuracy: 53.125%\n",
            "GB | Epoch 2 | Loss: 1.1672271490097046 | Accuracy: 45.3125%\n",
            "GB | Epoch 2 | Loss: 1.2268257141113281 | Accuracy: 39.0625%\n",
            "GB | Epoch 2 | Loss: 1.2567250728607178 | Accuracy: 32.8125%\n",
            "GB | Epoch 2 | Loss: 1.2101203203201294 | Accuracy: 45.3125%\n",
            "GB | Epoch 2 | Loss: 1.1224082708358765 | Accuracy: 53.125%\n",
            "GB | Epoch 2 | Loss: 0.9923150539398193 | Accuracy: 62.5%\n",
            "GB | Epoch 2 | Loss: 1.2087841033935547 | Accuracy: 51.5625%\n",
            "GB | Epoch 2 | Loss: 1.2250847816467285 | Accuracy: 43.75%\n",
            "GB | Epoch 2 | Loss: 1.283964991569519 | Accuracy: 40.625%\n",
            "GB | Epoch 2 | Loss: 1.139722466468811 | Accuracy: 51.5625%\n",
            "GB | Epoch 2 | Loss: 1.0582523345947266 | Accuracy: 54.6875%\n",
            "GB | Epoch 2 | Loss: 1.182344913482666 | Accuracy: 59.375%\n",
            "GB | Epoch 2 | Loss: 1.1345053911209106 | Accuracy: 50.0%\n",
            "GB | Epoch 2 | Loss: 1.1346944570541382 | Accuracy: 48.4375%\n",
            "GB | Epoch 2 | Loss: 1.1321576833724976 | Accuracy: 46.875%\n",
            "GB | Epoch 2 | Loss: 1.2082345485687256 | Accuracy: 45.3125%\n"
          ]
        },
        {
          "name": "stderr",
          "output_type": "stream",
          "text": [
            "Epoch 2:  79%|███████▉  | 595/751 [00:05<00:01, 125.35batch/s, accuracy=50.0%, loss=1.15]  "
          ]
        },
        {
          "name": "stdout",
          "output_type": "stream",
          "text": [
            "GB | Epoch 2 | Loss: 1.1455920934677124 | Accuracy: 60.9375%\n",
            "GB | Epoch 2 | Loss: 1.0468940734863281 | Accuracy: 56.25%\n",
            "GB | Epoch 2 | Loss: 1.198973536491394 | Accuracy: 48.4375%\n",
            "GB | Epoch 2 | Loss: 1.2169586420059204 | Accuracy: 46.875%\n",
            "GB | Epoch 2 | Loss: 0.9640157222747803 | Accuracy: 60.9375%\n",
            "GB | Epoch 2 | Loss: 1.0579464435577393 | Accuracy: 54.6875%\n",
            "GB | Epoch 2 | Loss: 1.0974533557891846 | Accuracy: 54.6875%\n",
            "GB | Epoch 2 | Loss: 1.129723072052002 | Accuracy: 50.0%\n",
            "GB | Epoch 2 | Loss: 1.3368312120437622 | Accuracy: 37.5%\n",
            "GB | Epoch 2 | Loss: 1.0422805547714233 | Accuracy: 53.125%\n",
            "GB | Epoch 2 | Loss: 1.2150810956954956 | Accuracy: 45.3125%\n",
            "GB | Epoch 2 | Loss: 1.1661111116409302 | Accuracy: 48.4375%\n",
            "GB | Epoch 2 | Loss: 1.220541000366211 | Accuracy: 46.875%\n",
            "GB | Epoch 2 | Loss: 1.1648871898651123 | Accuracy: 46.875%\n",
            "GB | Epoch 2 | Loss: 1.135567545890808 | Accuracy: 53.125%\n",
            "GB | Epoch 2 | Loss: 1.059892177581787 | Accuracy: 59.375%\n",
            "GB | Epoch 2 | Loss: 1.0875294208526611 | Accuracy: 59.375%\n",
            "GB | Epoch 2 | Loss: 1.096738576889038 | Accuracy: 46.875%\n",
            "GB | Epoch 2 | Loss: 1.2338558435440063 | Accuracy: 46.875%\n",
            "GB | Epoch 2 | Loss: 1.101433515548706 | Accuracy: 50.0%\n",
            "GB | Epoch 2 | Loss: 1.154142141342163 | Accuracy: 43.75%\n",
            "GB | Epoch 2 | Loss: 1.0429257154464722 | Accuracy: 62.5%\n",
            "GB | Epoch 2 | Loss: 1.0933067798614502 | Accuracy: 46.875%\n",
            "GB | Epoch 2 | Loss: 1.2485910654067993 | Accuracy: 40.625%\n",
            "GB | Epoch 2 | Loss: 1.0833126306533813 | Accuracy: 46.875%\n"
          ]
        },
        {
          "name": "stderr",
          "output_type": "stream",
          "text": [
            "Epoch 2:  83%|████████▎ | 622/751 [00:05<00:01, 125.81batch/s, accuracy=56.25%, loss=1.03] "
          ]
        },
        {
          "name": "stdout",
          "output_type": "stream",
          "text": [
            "GB | Epoch 2 | Loss: 1.1466420888900757 | Accuracy: 50.0%\n",
            "GB | Epoch 2 | Loss: 1.1018506288528442 | Accuracy: 53.125%\n",
            "GB | Epoch 2 | Loss: 1.1168781518936157 | Accuracy: 57.8125%\n",
            "GB | Epoch 2 | Loss: 1.1019245386123657 | Accuracy: 56.25%\n",
            "GB | Epoch 2 | Loss: 1.138237714767456 | Accuracy: 48.4375%\n",
            "GB | Epoch 2 | Loss: 1.1158866882324219 | Accuracy: 48.4375%\n",
            "GB | Epoch 2 | Loss: 1.1591389179229736 | Accuracy: 54.6875%\n",
            "GB | Epoch 2 | Loss: 1.014416217803955 | Accuracy: 59.375%\n",
            "GB | Epoch 2 | Loss: 1.0683428049087524 | Accuracy: 53.125%\n",
            "GB | Epoch 2 | Loss: 1.0732351541519165 | Accuracy: 54.6875%\n",
            "GB | Epoch 2 | Loss: 0.958213210105896 | Accuracy: 60.9375%\n",
            "GB | Epoch 2 | Loss: 1.3295018672943115 | Accuracy: 45.3125%\n",
            "GB | Epoch 2 | Loss: 1.1146314144134521 | Accuracy: 57.8125%\n",
            "GB | Epoch 2 | Loss: 1.1386114358901978 | Accuracy: 43.75%\n",
            "GB | Epoch 2 | Loss: 1.0295886993408203 | Accuracy: 54.6875%\n",
            "GB | Epoch 2 | Loss: 1.1542468070983887 | Accuracy: 43.75%\n",
            "GB | Epoch 2 | Loss: 1.1077433824539185 | Accuracy: 50.0%\n",
            "GB | Epoch 2 | Loss: 1.2004714012145996 | Accuracy: 50.0%\n",
            "GB | Epoch 2 | Loss: 1.0789358615875244 | Accuracy: 48.4375%\n",
            "GB | Epoch 2 | Loss: 1.108311414718628 | Accuracy: 51.5625%\n",
            "GB | Epoch 2 | Loss: 1.1392356157302856 | Accuracy: 43.75%\n",
            "GB | Epoch 2 | Loss: 1.2578668594360352 | Accuracy: 43.75%\n",
            "GB | Epoch 2 | Loss: 1.0677083730697632 | Accuracy: 57.8125%\n",
            "GB | Epoch 2 | Loss: 1.1161425113677979 | Accuracy: 46.875%\n",
            "GB | Epoch 2 | Loss: 1.0331050157546997 | Accuracy: 56.25%\n"
          ]
        },
        {
          "name": "stderr",
          "output_type": "stream",
          "text": [
            "Epoch 2:  86%|████████▋ | 648/751 [00:05<00:00, 125.82batch/s, accuracy=45.3125%, loss=1.14]"
          ]
        },
        {
          "name": "stdout",
          "output_type": "stream",
          "text": [
            "GB | Epoch 2 | Loss: 1.0914674997329712 | Accuracy: 51.5625%\n",
            "GB | Epoch 2 | Loss: 1.0773314237594604 | Accuracy: 60.9375%\n",
            "GB | Epoch 2 | Loss: 1.2943202257156372 | Accuracy: 43.75%\n",
            "GB | Epoch 2 | Loss: 1.0568150281906128 | Accuracy: 50.0%\n",
            "GB | Epoch 2 | Loss: 1.0432171821594238 | Accuracy: 59.375%\n",
            "GB | Epoch 2 | Loss: 1.1402846574783325 | Accuracy: 48.4375%\n",
            "GB | Epoch 2 | Loss: 0.9742284417152405 | Accuracy: 59.375%\n",
            "GB | Epoch 2 | Loss: 1.1772160530090332 | Accuracy: 50.0%\n",
            "GB | Epoch 2 | Loss: 1.1837726831436157 | Accuracy: 48.4375%\n",
            "GB | Epoch 2 | Loss: 1.1238622665405273 | Accuracy: 48.4375%\n",
            "GB | Epoch 2 | Loss: 1.0835812091827393 | Accuracy: 48.4375%\n",
            "GB | Epoch 2 | Loss: 1.0863971710205078 | Accuracy: 53.125%\n",
            "GB | Epoch 2 | Loss: 1.1690070629119873 | Accuracy: 46.875%\n",
            "GB | Epoch 2 | Loss: 1.1279363632202148 | Accuracy: 53.125%\n",
            "GB | Epoch 2 | Loss: 1.00139582157135 | Accuracy: 60.9375%\n",
            "GB | Epoch 2 | Loss: 1.0751893520355225 | Accuracy: 59.375%\n",
            "GB | Epoch 2 | Loss: 1.0397523641586304 | Accuracy: 59.375%\n",
            "GB | Epoch 2 | Loss: 1.034586787223816 | Accuracy: 56.25%\n",
            "GB | Epoch 2 | Loss: 1.0746277570724487 | Accuracy: 60.9375%\n",
            "GB | Epoch 2 | Loss: 1.0627655982971191 | Accuracy: 53.125%\n",
            "GB | Epoch 2 | Loss: 1.262037992477417 | Accuracy: 40.625%\n",
            "GB | Epoch 2 | Loss: 1.0558527708053589 | Accuracy: 46.875%\n",
            "GB | Epoch 2 | Loss: 1.060322642326355 | Accuracy: 51.5625%\n",
            "GB | Epoch 2 | Loss: 1.131279706954956 | Accuracy: 45.3125%\n",
            "GB | Epoch 2 | Loss: 1.144526720046997 | Accuracy: 45.3125%\n"
          ]
        },
        {
          "name": "stderr",
          "output_type": "stream",
          "text": [
            "Epoch 2:  90%|████████▉ | 674/751 [00:05<00:00, 126.37batch/s, accuracy=43.75%, loss=1.22] "
          ]
        },
        {
          "name": "stdout",
          "output_type": "stream",
          "text": [
            "GB | Epoch 2 | Loss: 1.1489509344100952 | Accuracy: 45.3125%\n",
            "GB | Epoch 2 | Loss: 1.1003786325454712 | Accuracy: 51.5625%\n",
            "GB | Epoch 2 | Loss: 1.0639293193817139 | Accuracy: 48.4375%\n",
            "GB | Epoch 2 | Loss: 1.1422462463378906 | Accuracy: 46.875%\n",
            "GB | Epoch 2 | Loss: 1.1078921556472778 | Accuracy: 45.3125%\n",
            "GB | Epoch 2 | Loss: 1.0692888498306274 | Accuracy: 54.6875%\n",
            "GB | Epoch 2 | Loss: 0.9884070754051208 | Accuracy: 57.8125%\n",
            "GB | Epoch 2 | Loss: 0.8874115943908691 | Accuracy: 62.5%\n",
            "GB | Epoch 2 | Loss: 1.141259789466858 | Accuracy: 45.3125%\n",
            "GB | Epoch 2 | Loss: 1.3114025592803955 | Accuracy: 35.9375%\n",
            "GB | Epoch 2 | Loss: 1.1329295635223389 | Accuracy: 46.875%\n",
            "GB | Epoch 2 | Loss: 1.2254981994628906 | Accuracy: 40.625%\n",
            "GB | Epoch 2 | Loss: 1.1227573156356812 | Accuracy: 45.3125%\n",
            "GB | Epoch 2 | Loss: 1.0395153760910034 | Accuracy: 54.6875%\n",
            "GB | Epoch 2 | Loss: 1.176478624343872 | Accuracy: 43.75%\n",
            "GB | Epoch 2 | Loss: 1.0987648963928223 | Accuracy: 56.25%\n",
            "GB | Epoch 2 | Loss: 1.0636355876922607 | Accuracy: 54.6875%\n",
            "GB | Epoch 2 | Loss: 1.0275801420211792 | Accuracy: 46.875%\n",
            "GB | Epoch 2 | Loss: 1.0610496997833252 | Accuracy: 54.6875%\n",
            "GB | Epoch 2 | Loss: 1.2104164361953735 | Accuracy: 37.5%\n",
            "GB | Epoch 2 | Loss: 1.2036031484603882 | Accuracy: 40.625%\n",
            "GB | Epoch 2 | Loss: 1.0634946823120117 | Accuracy: 57.8125%\n",
            "GB | Epoch 2 | Loss: 1.1162441968917847 | Accuracy: 57.8125%\n",
            "GB | Epoch 2 | Loss: 1.1436156034469604 | Accuracy: 45.3125%\n",
            "GB | Epoch 2 | Loss: 1.0733791589736938 | Accuracy: 46.875%\n",
            "GB | Epoch 2 | Loss: 1.0977261066436768 | Accuracy: 54.6875%\n",
            "GB | Epoch 2 | Loss: 1.2154362201690674 | Accuracy: 43.75%\n"
          ]
        },
        {
          "name": "stderr",
          "output_type": "stream",
          "text": [
            "Epoch 2:  93%|█████████▎| 701/751 [00:05<00:00, 129.84batch/s, accuracy=48.4375%, loss=1.09]"
          ]
        },
        {
          "name": "stdout",
          "output_type": "stream",
          "text": [
            "GB | Epoch 2 | Loss: 0.909516453742981 | Accuracy: 65.625%\n",
            "GB | Epoch 2 | Loss: 1.2636055946350098 | Accuracy: 37.5%\n",
            "GB | Epoch 2 | Loss: 0.9442943334579468 | Accuracy: 65.625%\n",
            "GB | Epoch 2 | Loss: 1.019728660583496 | Accuracy: 53.125%\n",
            "GB | Epoch 2 | Loss: 1.064372181892395 | Accuracy: 56.25%\n",
            "GB | Epoch 2 | Loss: 1.080924391746521 | Accuracy: 46.875%\n",
            "GB | Epoch 2 | Loss: 1.0920947790145874 | Accuracy: 54.6875%\n",
            "GB | Epoch 2 | Loss: 1.141435980796814 | Accuracy: 46.875%\n",
            "GB | Epoch 2 | Loss: 1.012379765510559 | Accuracy: 57.8125%\n",
            "GB | Epoch 2 | Loss: 1.090728521347046 | Accuracy: 48.4375%\n",
            "GB | Epoch 2 | Loss: 1.0080678462982178 | Accuracy: 57.8125%\n",
            "GB | Epoch 2 | Loss: 1.1564676761627197 | Accuracy: 45.3125%\n",
            "GB | Epoch 2 | Loss: 1.0810209512710571 | Accuracy: 50.0%\n",
            "GB | Epoch 2 | Loss: 1.1069144010543823 | Accuracy: 40.625%\n",
            "GB | Epoch 2 | Loss: 1.082051396369934 | Accuracy: 46.875%\n",
            "GB | Epoch 2 | Loss: 1.0822087526321411 | Accuracy: 59.375%\n",
            "GB | Epoch 2 | Loss: 1.0506223440170288 | Accuracy: 53.125%\n",
            "GB | Epoch 2 | Loss: 0.9242366552352905 | Accuracy: 65.625%\n",
            "GB | Epoch 2 | Loss: 1.16255521774292 | Accuracy: 51.5625%\n",
            "GB | Epoch 2 | Loss: 0.9687172770500183 | Accuracy: 59.375%\n",
            "GB | Epoch 2 | Loss: 1.0564290285110474 | Accuracy: 50.0%\n",
            "GB | Epoch 2 | Loss: 1.0271809101104736 | Accuracy: 48.4375%\n",
            "GB | Epoch 2 | Loss: 1.0657401084899902 | Accuracy: 51.5625%\n",
            "GB | Epoch 2 | Loss: 1.0227644443511963 | Accuracy: 60.9375%\n",
            "GB | Epoch 2 | Loss: 1.2030339241027832 | Accuracy: 45.3125%\n",
            "GB | Epoch 2 | Loss: 1.1413154602050781 | Accuracy: 42.1875%\n",
            "GB | Epoch 2 | Loss: 1.1769533157348633 | Accuracy: 48.4375%\n"
          ]
        },
        {
          "name": "stderr",
          "output_type": "stream",
          "text": [
            "Epoch 2:  97%|█████████▋| 727/751 [00:06<00:00, 125.23batch/s, accuracy=53.125%, loss=1]  "
          ]
        },
        {
          "name": "stdout",
          "output_type": "stream",
          "text": [
            "GB | Epoch 2 | Loss: 1.0856760740280151 | Accuracy: 48.4375%\n",
            "GB | Epoch 2 | Loss: 1.1418222188949585 | Accuracy: 53.125%\n",
            "GB | Epoch 2 | Loss: 1.092552661895752 | Accuracy: 54.6875%\n",
            "GB | Epoch 2 | Loss: 1.0875434875488281 | Accuracy: 50.0%\n",
            "GB | Epoch 2 | Loss: 0.9503912329673767 | Accuracy: 62.5%\n",
            "GB | Epoch 2 | Loss: 1.1079989671707153 | Accuracy: 46.875%\n",
            "GB | Epoch 2 | Loss: 0.9130370616912842 | Accuracy: 57.8125%\n",
            "GB | Epoch 2 | Loss: 1.0153062343597412 | Accuracy: 54.6875%\n",
            "GB | Epoch 2 | Loss: 1.1303935050964355 | Accuracy: 40.625%\n",
            "GB | Epoch 2 | Loss: 1.1192734241485596 | Accuracy: 48.4375%\n",
            "GB | Epoch 2 | Loss: 0.9306178689002991 | Accuracy: 67.1875%\n",
            "GB | Epoch 2 | Loss: 1.0268841981887817 | Accuracy: 56.25%\n",
            "GB | Epoch 2 | Loss: 1.0161980390548706 | Accuracy: 59.375%\n",
            "GB | Epoch 2 | Loss: 1.0765300989151 | Accuracy: 53.125%\n",
            "GB | Epoch 2 | Loss: 0.9542974829673767 | Accuracy: 56.25%\n",
            "GB | Epoch 2 | Loss: 1.0067946910858154 | Accuracy: 65.625%\n",
            "GB | Epoch 2 | Loss: 0.9715553522109985 | Accuracy: 59.375%\n",
            "GB | Epoch 2 | Loss: 1.0599473714828491 | Accuracy: 54.6875%\n",
            "GB | Epoch 2 | Loss: 1.0579595565795898 | Accuracy: 54.6875%\n",
            "GB | Epoch 2 | Loss: 1.135036587715149 | Accuracy: 50.0%\n",
            "GB | Epoch 2 | Loss: 1.079132318496704 | Accuracy: 43.75%\n",
            "GB | Epoch 2 | Loss: 1.1019896268844604 | Accuracy: 46.875%\n",
            "GB | Epoch 2 | Loss: 1.1381498575210571 | Accuracy: 43.75%\n",
            "GB | Epoch 2 | Loss: 1.00015389919281 | Accuracy: 53.125%\n"
          ]
        },
        {
          "name": "stderr",
          "output_type": "stream",
          "text": [
            "Epoch 2:  99%|█████████▊| 740/751 [00:06<00:00, 124.56batch/s, accuracy=75.0%, loss=0.812] "
          ]
        },
        {
          "name": "stdout",
          "output_type": "stream",
          "text": [
            "GB | Epoch 2 | Loss: 1.1029151678085327 | Accuracy: 50.0%\n",
            "GB | Epoch 2 | Loss: 0.9015825986862183 | Accuracy: 68.75%\n",
            "GB | Epoch 2 | Loss: 1.067034363746643 | Accuracy: 56.25%\n",
            "GB | Epoch 2 | Loss: 1.0513259172439575 | Accuracy: 50.0%\n",
            "GB | Epoch 2 | Loss: 1.0253506898880005 | Accuracy: 59.375%\n",
            "GB | Epoch 2 | Loss: 0.9970532059669495 | Accuracy: 53.125%\n",
            "GB | Epoch 2 | Loss: 0.8929991722106934 | Accuracy: 67.1875%\n",
            "GB | Epoch 2 | Loss: 1.0879484415054321 | Accuracy: 53.125%\n",
            "GB | Epoch 2 | Loss: 1.0367202758789062 | Accuracy: 59.375%\n",
            "GB | Epoch 2 | Loss: 1.0322332382202148 | Accuracy: 50.0%\n",
            "GB | Epoch 2 | Loss: 1.1385401487350464 | Accuracy: 42.1875%\n",
            "GB | Epoch 2 | Loss: 0.9217723608016968 | Accuracy: 51.5625%\n",
            "GB | Epoch 2 | Loss: 0.981714129447937 | Accuracy: 53.125%\n",
            "GB | Epoch 2 | Loss: 1.082748293876648 | Accuracy: 54.6875%\n",
            "GB | Epoch 2 | Loss: 1.1092783212661743 | Accuracy: 53.125%\n",
            "GB | Epoch 2 | Loss: 1.0646952390670776 | Accuracy: 46.875%\n",
            "GB | Epoch 2 | Loss: 0.8119189143180847 | Accuracy: 75.0%\n"
          ]
        },
        {
          "name": "stderr",
          "output_type": "stream",
          "text": [
            "Epoch 2: 100%|██████████| 751/751 [00:06<00:00, 119.27batch/s, accuracy=75.0%, loss=0.812]\n",
            "Epoch 3:   3%|▎         | 22/751 [00:00<00:11, 61.03batch/s, accuracy=56.25%, loss=0.991]"
          ]
        },
        {
          "name": "stdout",
          "output_type": "stream",
          "text": [
            "GB | Epoch 3 | Loss: 1.1764392852783203 | Accuracy: 46.875%\n",
            "GB | Epoch 3 | Loss: 1.2347915172576904 | Accuracy: 42.1875%\n",
            "GB | Epoch 3 | Loss: 1.1026321649551392 | Accuracy: 53.125%\n",
            "GB | Epoch 3 | Loss: 1.2253798246383667 | Accuracy: 62.5%\n",
            "GB | Epoch 3 | Loss: 1.2260314226150513 | Accuracy: 45.3125%\n",
            "GB | Epoch 3 | Loss: 1.0933085680007935 | Accuracy: 56.25%\n",
            "GB | Epoch 3 | Loss: 1.0163583755493164 | Accuracy: 53.125%\n",
            "GB | Epoch 3 | Loss: 1.2903732061386108 | Accuracy: 45.3125%\n",
            "GB | Epoch 3 | Loss: 1.0910975933074951 | Accuracy: 53.125%\n",
            "GB | Epoch 3 | Loss: 1.0628095865249634 | Accuracy: 46.875%\n",
            "GB | Epoch 3 | Loss: 1.1507694721221924 | Accuracy: 54.6875%\n",
            "GB | Epoch 3 | Loss: 1.0232423543930054 | Accuracy: 57.8125%\n",
            "GB | Epoch 3 | Loss: 1.184992790222168 | Accuracy: 45.3125%\n",
            "GB | Epoch 3 | Loss: 1.1009019613265991 | Accuracy: 54.6875%\n",
            "GB | Epoch 3 | Loss: 1.112633228302002 | Accuracy: 46.875%\n",
            "GB | Epoch 3 | Loss: 1.08259916305542 | Accuracy: 54.6875%\n",
            "GB | Epoch 3 | Loss: 0.9836970567703247 | Accuracy: 59.375%\n",
            "GB | Epoch 3 | Loss: 1.048879861831665 | Accuracy: 53.125%\n",
            "GB | Epoch 3 | Loss: 1.0433984994888306 | Accuracy: 56.25%\n",
            "GB | Epoch 3 | Loss: 1.1668510437011719 | Accuracy: 50.0%\n",
            "GB | Epoch 3 | Loss: 0.974270761013031 | Accuracy: 56.25%\n",
            "GB | Epoch 3 | Loss: 0.990994930267334 | Accuracy: 56.25%\n"
          ]
        },
        {
          "name": "stderr",
          "output_type": "stream",
          "text": [
            "Epoch 3:   5%|▍         | 35/751 [00:00<00:08, 81.13batch/s, accuracy=60.9375%, loss=0.972]"
          ]
        },
        {
          "name": "stdout",
          "output_type": "stream",
          "text": [
            "GB | Epoch 3 | Loss: 1.0346078872680664 | Accuracy: 54.6875%\n",
            "GB | Epoch 3 | Loss: 1.0181235074996948 | Accuracy: 54.6875%\n",
            "GB | Epoch 3 | Loss: 1.0571720600128174 | Accuracy: 57.8125%\n",
            "GB | Epoch 3 | Loss: 1.019084095954895 | Accuracy: 57.8125%\n",
            "GB | Epoch 3 | Loss: 0.8728834986686707 | Accuracy: 71.875%\n",
            "GB | Epoch 3 | Loss: 1.0829447507858276 | Accuracy: 46.875%\n",
            "GB | Epoch 3 | Loss: 1.0132973194122314 | Accuracy: 54.6875%\n",
            "GB | Epoch 3 | Loss: 1.0406310558319092 | Accuracy: 50.0%\n",
            "GB | Epoch 3 | Loss: 0.9772769212722778 | Accuracy: 56.25%\n",
            "GB | Epoch 3 | Loss: 0.9906647801399231 | Accuracy: 57.8125%\n",
            "GB | Epoch 3 | Loss: 1.0334352254867554 | Accuracy: 54.6875%\n",
            "GB | Epoch 3 | Loss: 0.8731432557106018 | Accuracy: 65.625%\n",
            "GB | Epoch 3 | Loss: 1.2068994045257568 | Accuracy: 43.75%\n",
            "GB | Epoch 3 | Loss: 1.0528138875961304 | Accuracy: 57.8125%\n",
            "GB | Epoch 3 | Loss: 0.984090268611908 | Accuracy: 59.375%\n",
            "GB | Epoch 3 | Loss: 0.9541664123535156 | Accuracy: 59.375%\n",
            "GB | Epoch 3 | Loss: 1.1075326204299927 | Accuracy: 48.4375%\n",
            "GB | Epoch 3 | Loss: 1.0138747692108154 | Accuracy: 59.375%\n",
            "GB | Epoch 3 | Loss: 1.1035388708114624 | Accuracy: 51.5625%\n",
            "GB | Epoch 3 | Loss: 0.9959703683853149 | Accuracy: 57.8125%\n",
            "GB | Epoch 3 | Loss: 0.9280056953430176 | Accuracy: 57.8125%\n",
            "GB | Epoch 3 | Loss: 1.0691999197006226 | Accuracy: 46.875%\n",
            "GB | Epoch 3 | Loss: 1.0412321090698242 | Accuracy: 57.8125%\n",
            "GB | Epoch 3 | Loss: 0.9722113609313965 | Accuracy: 60.9375%\n"
          ]
        },
        {
          "name": "stderr",
          "output_type": "stream",
          "text": [
            "Epoch 3:   8%|▊         | 60/751 [00:00<00:06, 102.41batch/s, accuracy=48.4375%, loss=0.987]"
          ]
        },
        {
          "name": "stdout",
          "output_type": "stream",
          "text": [
            "GB | Epoch 3 | Loss: 1.0237962007522583 | Accuracy: 57.8125%\n",
            "GB | Epoch 3 | Loss: 1.0731627941131592 | Accuracy: 40.625%\n",
            "GB | Epoch 3 | Loss: 1.1130753755569458 | Accuracy: 45.3125%\n",
            "GB | Epoch 3 | Loss: 1.0307198762893677 | Accuracy: 50.0%\n",
            "GB | Epoch 3 | Loss: 1.0342708826065063 | Accuracy: 51.5625%\n",
            "GB | Epoch 3 | Loss: 0.9170292615890503 | Accuracy: 59.375%\n",
            "GB | Epoch 3 | Loss: 0.9568789005279541 | Accuracy: 59.375%\n",
            "GB | Epoch 3 | Loss: 1.096774697303772 | Accuracy: 45.3125%\n",
            "GB | Epoch 3 | Loss: 1.0756309032440186 | Accuracy: 54.6875%\n",
            "GB | Epoch 3 | Loss: 1.038822054862976 | Accuracy: 56.25%\n",
            "GB | Epoch 3 | Loss: 1.1864179372787476 | Accuracy: 42.1875%\n",
            "GB | Epoch 3 | Loss: 1.0869284868240356 | Accuracy: 46.875%\n",
            "GB | Epoch 3 | Loss: 0.8935513496398926 | Accuracy: 60.9375%\n",
            "GB | Epoch 3 | Loss: 1.1868036985397339 | Accuracy: 40.625%\n",
            "GB | Epoch 3 | Loss: 0.9968088269233704 | Accuracy: 59.375%\n",
            "GB | Epoch 3 | Loss: 1.0594196319580078 | Accuracy: 51.5625%\n",
            "GB | Epoch 3 | Loss: 0.9916212558746338 | Accuracy: 51.5625%\n",
            "GB | Epoch 3 | Loss: 1.0251975059509277 | Accuracy: 51.5625%\n",
            "GB | Epoch 3 | Loss: 1.0108877420425415 | Accuracy: 54.6875%\n",
            "GB | Epoch 3 | Loss: 1.0222843885421753 | Accuracy: 54.6875%\n",
            "GB | Epoch 3 | Loss: 0.8815208077430725 | Accuracy: 68.75%\n",
            "GB | Epoch 3 | Loss: 1.1071356534957886 | Accuracy: 48.4375%\n",
            "GB | Epoch 3 | Loss: 1.0117536783218384 | Accuracy: 60.9375%\n",
            "GB | Epoch 3 | Loss: 0.9233719110488892 | Accuracy: 53.125%\n",
            "GB | Epoch 3 | Loss: 0.990848183631897 | Accuracy: 54.6875%\n",
            "GB | Epoch 3 | Loss: 0.9869680404663086 | Accuracy: 48.4375%\n"
          ]
        },
        {
          "name": "stderr",
          "output_type": "stream",
          "text": [
            "Epoch 3:  11%|█▏        | 86/751 [00:01<00:05, 115.05batch/s, accuracy=57.8125%, loss=0.966]"
          ]
        },
        {
          "name": "stdout",
          "output_type": "stream",
          "text": [
            "GB | Epoch 3 | Loss: 1.029185175895691 | Accuracy: 48.4375%\n",
            "GB | Epoch 3 | Loss: 1.1125319004058838 | Accuracy: 45.3125%\n",
            "GB | Epoch 3 | Loss: 1.2018284797668457 | Accuracy: 42.1875%\n",
            "GB | Epoch 3 | Loss: 0.8571988940238953 | Accuracy: 65.625%\n",
            "GB | Epoch 3 | Loss: 0.9891804456710815 | Accuracy: 54.6875%\n",
            "GB | Epoch 3 | Loss: 1.0947648286819458 | Accuracy: 59.375%\n",
            "GB | Epoch 3 | Loss: 0.9407238960266113 | Accuracy: 59.375%\n",
            "GB | Epoch 3 | Loss: 0.9437223672866821 | Accuracy: 54.6875%\n",
            "GB | Epoch 3 | Loss: 0.8993147611618042 | Accuracy: 57.8125%\n",
            "GB | Epoch 3 | Loss: 0.9578081965446472 | Accuracy: 56.25%\n",
            "GB | Epoch 3 | Loss: 0.9325319528579712 | Accuracy: 59.375%\n",
            "GB | Epoch 3 | Loss: 1.1533023118972778 | Accuracy: 37.5%\n",
            "GB | Epoch 3 | Loss: 0.9985628724098206 | Accuracy: 46.875%\n",
            "GB | Epoch 3 | Loss: 1.1240262985229492 | Accuracy: 42.1875%\n",
            "GB | Epoch 3 | Loss: 1.0814788341522217 | Accuracy: 56.25%\n",
            "GB | Epoch 3 | Loss: 0.9220113754272461 | Accuracy: 64.0625%\n",
            "GB | Epoch 3 | Loss: 0.9513137340545654 | Accuracy: 54.6875%\n",
            "GB | Epoch 3 | Loss: 0.922779381275177 | Accuracy: 62.5%\n",
            "GB | Epoch 3 | Loss: 0.8955167531967163 | Accuracy: 59.375%\n",
            "GB | Epoch 3 | Loss: 0.9419039487838745 | Accuracy: 57.8125%\n",
            "GB | Epoch 3 | Loss: 0.8471524119377136 | Accuracy: 62.5%\n",
            "GB | Epoch 3 | Loss: 0.8887316584587097 | Accuracy: 70.3125%\n",
            "GB | Epoch 3 | Loss: 1.0095480680465698 | Accuracy: 53.125%\n",
            "GB | Epoch 3 | Loss: 1.0236319303512573 | Accuracy: 53.125%\n",
            "GB | Epoch 3 | Loss: 1.0384410619735718 | Accuracy: 56.25%\n",
            "GB | Epoch 3 | Loss: 1.0008679628372192 | Accuracy: 53.125%\n"
          ]
        },
        {
          "name": "stderr",
          "output_type": "stream",
          "text": [
            "Epoch 3:  15%|█▍        | 112/751 [00:01<00:05, 121.20batch/s, accuracy=56.25%, loss=1.03]   "
          ]
        },
        {
          "name": "stdout",
          "output_type": "stream",
          "text": [
            "GB | Epoch 3 | Loss: 0.9660758376121521 | Accuracy: 57.8125%\n",
            "GB | Epoch 3 | Loss: 1.061387062072754 | Accuracy: 53.125%\n",
            "GB | Epoch 3 | Loss: 0.9975963830947876 | Accuracy: 57.8125%\n",
            "GB | Epoch 3 | Loss: 0.8869532346725464 | Accuracy: 67.1875%\n",
            "GB | Epoch 3 | Loss: 0.8917770385742188 | Accuracy: 64.0625%\n",
            "GB | Epoch 3 | Loss: 1.016977310180664 | Accuracy: 53.125%\n",
            "GB | Epoch 3 | Loss: 1.0033644437789917 | Accuracy: 53.125%\n",
            "GB | Epoch 3 | Loss: 0.9631707668304443 | Accuracy: 59.375%\n",
            "GB | Epoch 3 | Loss: 1.0195924043655396 | Accuracy: 48.4375%\n",
            "GB | Epoch 3 | Loss: 1.1267116069793701 | Accuracy: 45.3125%\n",
            "GB | Epoch 3 | Loss: 0.9800627827644348 | Accuracy: 56.25%\n",
            "GB | Epoch 3 | Loss: 1.0167688131332397 | Accuracy: 56.25%\n",
            "GB | Epoch 3 | Loss: 1.1159818172454834 | Accuracy: 45.3125%\n",
            "GB | Epoch 3 | Loss: 0.9212303757667542 | Accuracy: 57.8125%\n",
            "GB | Epoch 3 | Loss: 1.0227398872375488 | Accuracy: 54.6875%\n",
            "GB | Epoch 3 | Loss: 0.9650430679321289 | Accuracy: 62.5%\n",
            "GB | Epoch 3 | Loss: 0.8133761286735535 | Accuracy: 65.625%\n",
            "GB | Epoch 3 | Loss: 0.8915703296661377 | Accuracy: 65.625%\n",
            "GB | Epoch 3 | Loss: 0.933856725692749 | Accuracy: 57.8125%\n",
            "GB | Epoch 3 | Loss: 0.9589940905570984 | Accuracy: 60.9375%\n",
            "GB | Epoch 3 | Loss: 0.9967837333679199 | Accuracy: 51.5625%\n",
            "GB | Epoch 3 | Loss: 0.9768401980400085 | Accuracy: 60.9375%\n",
            "GB | Epoch 3 | Loss: 0.9373666644096375 | Accuracy: 60.9375%\n",
            "GB | Epoch 3 | Loss: 0.9621373414993286 | Accuracy: 60.9375%\n",
            "GB | Epoch 3 | Loss: 0.8993089199066162 | Accuracy: 57.8125%\n",
            "GB | Epoch 3 | Loss: 1.0290472507476807 | Accuracy: 56.25%\n"
          ]
        },
        {
          "name": "stderr",
          "output_type": "stream",
          "text": [
            "Epoch 3:  18%|█▊        | 138/751 [00:01<00:05, 118.07batch/s, accuracy=57.8125%, loss=0.862]"
          ]
        },
        {
          "name": "stdout",
          "output_type": "stream",
          "text": [
            "GB | Epoch 3 | Loss: 0.8979867100715637 | Accuracy: 54.6875%\n",
            "GB | Epoch 3 | Loss: 1.0633578300476074 | Accuracy: 50.0%\n",
            "GB | Epoch 3 | Loss: 0.935800313949585 | Accuracy: 53.125%\n",
            "GB | Epoch 3 | Loss: 0.9310001730918884 | Accuracy: 53.125%\n",
            "GB | Epoch 3 | Loss: 0.9330036640167236 | Accuracy: 54.6875%\n",
            "GB | Epoch 3 | Loss: 1.1471155881881714 | Accuracy: 50.0%\n",
            "GB | Epoch 3 | Loss: 0.9371035695075989 | Accuracy: 62.5%\n",
            "GB | Epoch 3 | Loss: 0.8676010966300964 | Accuracy: 65.625%\n",
            "GB | Epoch 3 | Loss: 1.0385428667068481 | Accuracy: 59.375%\n",
            "GB | Epoch 3 | Loss: 0.9523624181747437 | Accuracy: 54.6875%\n",
            "GB | Epoch 3 | Loss: 0.905968189239502 | Accuracy: 53.125%\n",
            "GB | Epoch 3 | Loss: 0.9884392023086548 | Accuracy: 54.6875%\n",
            "GB | Epoch 3 | Loss: 0.9401582479476929 | Accuracy: 54.6875%\n",
            "GB | Epoch 3 | Loss: 1.0014588832855225 | Accuracy: 51.5625%\n",
            "GB | Epoch 3 | Loss: 0.9833582043647766 | Accuracy: 56.25%\n",
            "GB | Epoch 3 | Loss: 0.8922591805458069 | Accuracy: 64.0625%\n",
            "GB | Epoch 3 | Loss: 0.947227954864502 | Accuracy: 59.375%\n",
            "GB | Epoch 3 | Loss: 1.0719398260116577 | Accuracy: 46.875%\n",
            "GB | Epoch 3 | Loss: 1.0359992980957031 | Accuracy: 46.875%\n",
            "GB | Epoch 3 | Loss: 0.8873491287231445 | Accuracy: 57.8125%\n",
            "GB | Epoch 3 | Loss: 1.0895636081695557 | Accuracy: 46.875%\n",
            "GB | Epoch 3 | Loss: 0.9141231775283813 | Accuracy: 57.8125%\n",
            "GB | Epoch 3 | Loss: 0.9711300134658813 | Accuracy: 56.25%\n",
            "GB | Epoch 3 | Loss: 0.8619822263717651 | Accuracy: 57.8125%\n"
          ]
        },
        {
          "name": "stderr",
          "output_type": "stream",
          "text": [
            "Epoch 3:  22%|██▏       | 165/751 [00:01<00:04, 123.64batch/s, accuracy=59.375%, loss=0.912]"
          ]
        },
        {
          "name": "stdout",
          "output_type": "stream",
          "text": [
            "GB | Epoch 3 | Loss: 0.7854073643684387 | Accuracy: 62.5%\n",
            "GB | Epoch 3 | Loss: 0.8155890107154846 | Accuracy: 68.75%\n",
            "GB | Epoch 3 | Loss: 1.1071778535842896 | Accuracy: 56.25%\n",
            "GB | Epoch 3 | Loss: 1.046782374382019 | Accuracy: 51.5625%\n",
            "GB | Epoch 3 | Loss: 0.9039332866668701 | Accuracy: 62.5%\n",
            "GB | Epoch 3 | Loss: 0.8747717142105103 | Accuracy: 62.5%\n",
            "GB | Epoch 3 | Loss: 0.9871634840965271 | Accuracy: 57.8125%\n",
            "GB | Epoch 3 | Loss: 0.9032003283500671 | Accuracy: 62.5%\n",
            "GB | Epoch 3 | Loss: 0.8654550313949585 | Accuracy: 54.6875%\n",
            "GB | Epoch 3 | Loss: 0.9138369560241699 | Accuracy: 60.9375%\n",
            "GB | Epoch 3 | Loss: 0.8446354866027832 | Accuracy: 64.0625%\n",
            "GB | Epoch 3 | Loss: 0.8836131691932678 | Accuracy: 62.5%\n",
            "GB | Epoch 3 | Loss: 1.0542412996292114 | Accuracy: 51.5625%\n",
            "GB | Epoch 3 | Loss: 0.9988937973976135 | Accuracy: 54.6875%\n",
            "GB | Epoch 3 | Loss: 1.0458446741104126 | Accuracy: 59.375%\n",
            "GB | Epoch 3 | Loss: 0.9783560037612915 | Accuracy: 57.8125%\n",
            "GB | Epoch 3 | Loss: 1.0573605298995972 | Accuracy: 56.25%\n",
            "GB | Epoch 3 | Loss: 0.9319321513175964 | Accuracy: 50.0%\n",
            "GB | Epoch 3 | Loss: 0.9645706415176392 | Accuracy: 56.25%\n",
            "GB | Epoch 3 | Loss: 0.9731440544128418 | Accuracy: 59.375%\n",
            "GB | Epoch 3 | Loss: 0.9904789924621582 | Accuracy: 50.0%\n",
            "GB | Epoch 3 | Loss: 0.9044785499572754 | Accuracy: 60.9375%\n",
            "GB | Epoch 3 | Loss: 1.0680705308914185 | Accuracy: 53.125%\n",
            "GB | Epoch 3 | Loss: 1.0560290813446045 | Accuracy: 48.4375%\n",
            "GB | Epoch 3 | Loss: 0.9120894074440002 | Accuracy: 59.375%\n"
          ]
        },
        {
          "name": "stderr",
          "output_type": "stream",
          "text": [
            "Epoch 3:  25%|██▌       | 191/751 [00:01<00:04, 122.54batch/s, accuracy=51.5625%, loss=0.951]"
          ]
        },
        {
          "name": "stdout",
          "output_type": "stream",
          "text": [
            "GB | Epoch 3 | Loss: 1.0324516296386719 | Accuracy: 54.6875%\n",
            "GB | Epoch 3 | Loss: 0.9785807728767395 | Accuracy: 54.6875%\n",
            "GB | Epoch 3 | Loss: 0.7314282059669495 | Accuracy: 71.875%\n",
            "GB | Epoch 3 | Loss: 1.0338383913040161 | Accuracy: 53.125%\n",
            "GB | Epoch 3 | Loss: 0.980319619178772 | Accuracy: 56.25%\n",
            "GB | Epoch 3 | Loss: 0.989246666431427 | Accuracy: 64.0625%\n",
            "GB | Epoch 3 | Loss: 0.9016686081886292 | Accuracy: 56.25%\n",
            "GB | Epoch 3 | Loss: 1.0065513849258423 | Accuracy: 54.6875%\n",
            "GB | Epoch 3 | Loss: 0.9837707877159119 | Accuracy: 57.8125%\n",
            "GB | Epoch 3 | Loss: 0.8990564346313477 | Accuracy: 57.8125%\n",
            "GB | Epoch 3 | Loss: 0.8901105523109436 | Accuracy: 56.25%\n",
            "GB | Epoch 3 | Loss: 1.0749766826629639 | Accuracy: 45.3125%\n",
            "GB | Epoch 3 | Loss: 0.899188220500946 | Accuracy: 59.375%\n",
            "GB | Epoch 3 | Loss: 0.8415617942810059 | Accuracy: 64.0625%\n",
            "GB | Epoch 3 | Loss: 0.9183626770973206 | Accuracy: 56.25%\n",
            "GB | Epoch 3 | Loss: 0.9122660756111145 | Accuracy: 56.25%\n",
            "GB | Epoch 3 | Loss: 1.076386570930481 | Accuracy: 48.4375%\n",
            "GB | Epoch 3 | Loss: 0.8936305046081543 | Accuracy: 59.375%\n",
            "GB | Epoch 3 | Loss: 0.9992318153381348 | Accuracy: 54.6875%\n",
            "GB | Epoch 3 | Loss: 0.8478359580039978 | Accuracy: 59.375%\n",
            "GB | Epoch 3 | Loss: 0.8671022653579712 | Accuracy: 64.0625%\n",
            "GB | Epoch 3 | Loss: 0.8159040808677673 | Accuracy: 60.9375%\n",
            "GB | Epoch 3 | Loss: 0.9989983439445496 | Accuracy: 54.6875%\n",
            "GB | Epoch 3 | Loss: 1.0375460386276245 | Accuracy: 48.4375%\n",
            "GB | Epoch 3 | Loss: 0.8217571973800659 | Accuracy: 64.0625%\n",
            "GB | Epoch 3 | Loss: 0.9508265256881714 | Accuracy: 51.5625%\n"
          ]
        },
        {
          "name": "stderr",
          "output_type": "stream",
          "text": [
            "Epoch 3:  29%|██▉       | 217/751 [00:02<00:04, 124.14batch/s, accuracy=54.6875%, loss=1]   "
          ]
        },
        {
          "name": "stdout",
          "output_type": "stream",
          "text": [
            "GB | Epoch 3 | Loss: 0.8955541253089905 | Accuracy: 60.9375%\n",
            "GB | Epoch 3 | Loss: 0.9942423105239868 | Accuracy: 53.125%\n",
            "GB | Epoch 3 | Loss: 1.051741123199463 | Accuracy: 56.25%\n",
            "GB | Epoch 3 | Loss: 0.8732225298881531 | Accuracy: 59.375%\n",
            "GB | Epoch 3 | Loss: 0.9531413316726685 | Accuracy: 59.375%\n",
            "GB | Epoch 3 | Loss: 1.0185014009475708 | Accuracy: 51.5625%\n",
            "GB | Epoch 3 | Loss: 0.9425739645957947 | Accuracy: 57.8125%\n",
            "GB | Epoch 3 | Loss: 1.1015119552612305 | Accuracy: 42.1875%\n",
            "GB | Epoch 3 | Loss: 0.9329847097396851 | Accuracy: 56.25%\n",
            "GB | Epoch 3 | Loss: 1.0282549858093262 | Accuracy: 53.125%\n",
            "GB | Epoch 3 | Loss: 0.8523175120353699 | Accuracy: 65.625%\n",
            "GB | Epoch 3 | Loss: 1.0529183149337769 | Accuracy: 48.4375%\n",
            "GB | Epoch 3 | Loss: 0.9696859121322632 | Accuracy: 54.6875%\n",
            "GB | Epoch 3 | Loss: 0.8705629706382751 | Accuracy: 64.0625%\n",
            "GB | Epoch 3 | Loss: 0.9755295515060425 | Accuracy: 62.5%\n",
            "GB | Epoch 3 | Loss: 0.8078574538230896 | Accuracy: 70.3125%\n",
            "GB | Epoch 3 | Loss: 0.9177427887916565 | Accuracy: 57.8125%\n",
            "GB | Epoch 3 | Loss: 0.9390798807144165 | Accuracy: 64.0625%\n",
            "GB | Epoch 3 | Loss: 0.786305844783783 | Accuracy: 68.75%\n",
            "GB | Epoch 3 | Loss: 0.8174325823783875 | Accuracy: 67.1875%\n",
            "GB | Epoch 3 | Loss: 0.9442366361618042 | Accuracy: 62.5%\n",
            "GB | Epoch 3 | Loss: 0.9880717992782593 | Accuracy: 57.8125%\n",
            "GB | Epoch 3 | Loss: 0.928989052772522 | Accuracy: 68.75%\n",
            "GB | Epoch 3 | Loss: 0.8904356956481934 | Accuracy: 60.9375%\n",
            "GB | Epoch 3 | Loss: 1.1067575216293335 | Accuracy: 48.4375%\n"
          ]
        },
        {
          "name": "stderr",
          "output_type": "stream",
          "text": [
            "Epoch 3:  32%|███▏      | 244/751 [00:02<00:04, 126.62batch/s, accuracy=59.375%, loss=0.963] "
          ]
        },
        {
          "name": "stdout",
          "output_type": "stream",
          "text": [
            "GB | Epoch 3 | Loss: 1.004946231842041 | Accuracy: 54.6875%\n",
            "GB | Epoch 3 | Loss: 0.7805903553962708 | Accuracy: 64.0625%\n",
            "GB | Epoch 3 | Loss: 0.8929619193077087 | Accuracy: 64.0625%\n",
            "GB | Epoch 3 | Loss: 0.847014844417572 | Accuracy: 67.1875%\n",
            "GB | Epoch 3 | Loss: 1.0703994035720825 | Accuracy: 45.3125%\n",
            "GB | Epoch 3 | Loss: 0.8620723485946655 | Accuracy: 68.75%\n",
            "GB | Epoch 3 | Loss: 1.0161690711975098 | Accuracy: 60.9375%\n",
            "GB | Epoch 3 | Loss: 0.9110331535339355 | Accuracy: 56.25%\n",
            "GB | Epoch 3 | Loss: 0.9321669936180115 | Accuracy: 57.8125%\n",
            "GB | Epoch 3 | Loss: 0.9241169691085815 | Accuracy: 64.0625%\n",
            "GB | Epoch 3 | Loss: 0.8795746564865112 | Accuracy: 64.0625%\n",
            "GB | Epoch 3 | Loss: 0.9072539806365967 | Accuracy: 65.625%\n",
            "GB | Epoch 3 | Loss: 0.9389615058898926 | Accuracy: 59.375%\n",
            "GB | Epoch 3 | Loss: 0.8758136034011841 | Accuracy: 65.625%\n",
            "GB | Epoch 3 | Loss: 0.9584155082702637 | Accuracy: 56.25%\n",
            "GB | Epoch 3 | Loss: 0.8605864644050598 | Accuracy: 64.0625%\n",
            "GB | Epoch 3 | Loss: 0.7990491390228271 | Accuracy: 64.0625%\n",
            "GB | Epoch 3 | Loss: 0.9772397875785828 | Accuracy: 54.6875%\n",
            "GB | Epoch 3 | Loss: 0.843928873538971 | Accuracy: 65.625%\n",
            "GB | Epoch 3 | Loss: 0.9393066167831421 | Accuracy: 60.9375%\n",
            "GB | Epoch 3 | Loss: 1.0218429565429688 | Accuracy: 57.8125%\n",
            "GB | Epoch 3 | Loss: 0.8316801190376282 | Accuracy: 71.875%\n",
            "GB | Epoch 3 | Loss: 0.8689120411872864 | Accuracy: 67.1875%\n",
            "GB | Epoch 3 | Loss: 0.7787526249885559 | Accuracy: 76.5625%\n",
            "GB | Epoch 3 | Loss: 0.7653228640556335 | Accuracy: 70.3125%\n",
            "GB | Epoch 3 | Loss: 0.963299572467804 | Accuracy: 59.375%\n"
          ]
        },
        {
          "name": "stderr",
          "output_type": "stream",
          "text": [
            "Epoch 3:  36%|███▌      | 270/751 [00:02<00:03, 125.50batch/s, accuracy=73.4375%, loss=0.841]"
          ]
        },
        {
          "name": "stdout",
          "output_type": "stream",
          "text": [
            "GB | Epoch 3 | Loss: 1.0205367803573608 | Accuracy: 54.6875%\n",
            "GB | Epoch 3 | Loss: 1.0157313346862793 | Accuracy: 56.25%\n",
            "GB | Epoch 3 | Loss: 0.8209250569343567 | Accuracy: 67.1875%\n",
            "GB | Epoch 3 | Loss: 0.9508064389228821 | Accuracy: 62.5%\n",
            "GB | Epoch 3 | Loss: 0.9862100481987 | Accuracy: 56.25%\n",
            "GB | Epoch 3 | Loss: 0.8262959718704224 | Accuracy: 71.875%\n",
            "GB | Epoch 3 | Loss: 0.9053510427474976 | Accuracy: 64.0625%\n",
            "GB | Epoch 3 | Loss: 0.7651911973953247 | Accuracy: 73.4375%\n",
            "GB | Epoch 3 | Loss: 0.8671680092811584 | Accuracy: 64.0625%\n",
            "GB | Epoch 3 | Loss: 0.9059397578239441 | Accuracy: 64.0625%\n",
            "GB | Epoch 3 | Loss: 0.9961975812911987 | Accuracy: 71.875%\n",
            "GB | Epoch 3 | Loss: 0.9769206047058105 | Accuracy: 57.8125%\n",
            "GB | Epoch 3 | Loss: 0.7879257798194885 | Accuracy: 70.3125%\n",
            "GB | Epoch 3 | Loss: 0.7893909811973572 | Accuracy: 70.3125%\n",
            "GB | Epoch 3 | Loss: 0.8689764738082886 | Accuracy: 67.1875%\n",
            "GB | Epoch 3 | Loss: 0.8220731616020203 | Accuracy: 75.0%\n",
            "GB | Epoch 3 | Loss: 0.8739883303642273 | Accuracy: 68.75%\n",
            "GB | Epoch 3 | Loss: 1.0032588243484497 | Accuracy: 59.375%\n",
            "GB | Epoch 3 | Loss: 0.9206491708755493 | Accuracy: 64.0625%\n",
            "GB | Epoch 3 | Loss: 0.9784801006317139 | Accuracy: 53.125%\n",
            "GB | Epoch 3 | Loss: 0.8742208480834961 | Accuracy: 64.0625%\n",
            "GB | Epoch 3 | Loss: 0.9507820010185242 | Accuracy: 67.1875%\n",
            "GB | Epoch 3 | Loss: 0.8682782649993896 | Accuracy: 65.625%\n",
            "GB | Epoch 3 | Loss: 0.8553768396377563 | Accuracy: 70.3125%\n",
            "GB | Epoch 3 | Loss: 0.9872153997421265 | Accuracy: 56.25%\n",
            "GB | Epoch 3 | Loss: 0.8414390683174133 | Accuracy: 73.4375%\n"
          ]
        },
        {
          "name": "stderr",
          "output_type": "stream",
          "text": [
            "Epoch 3:  39%|███▉      | 296/751 [00:02<00:03, 123.62batch/s, accuracy=62.5%, loss=0.862]"
          ]
        },
        {
          "name": "stdout",
          "output_type": "stream",
          "text": [
            "GB | Epoch 3 | Loss: 0.9400086402893066 | Accuracy: 56.25%\n",
            "GB | Epoch 3 | Loss: 0.8952821493148804 | Accuracy: 59.375%\n",
            "GB | Epoch 3 | Loss: 0.8330614566802979 | Accuracy: 73.4375%\n",
            "GB | Epoch 3 | Loss: 0.8750487565994263 | Accuracy: 73.4375%\n",
            "GB | Epoch 3 | Loss: 0.9621382355690002 | Accuracy: 56.25%\n",
            "GB | Epoch 3 | Loss: 0.7775457501411438 | Accuracy: 70.3125%\n",
            "GB | Epoch 3 | Loss: 0.8495638370513916 | Accuracy: 70.3125%\n",
            "GB | Epoch 3 | Loss: 0.8076956868171692 | Accuracy: 64.0625%\n",
            "GB | Epoch 3 | Loss: 0.9496228098869324 | Accuracy: 57.8125%\n",
            "GB | Epoch 3 | Loss: 0.8666954636573792 | Accuracy: 60.9375%\n",
            "GB | Epoch 3 | Loss: 0.8943344950675964 | Accuracy: 65.625%\n",
            "GB | Epoch 3 | Loss: 0.7214102149009705 | Accuracy: 71.875%\n",
            "GB | Epoch 3 | Loss: 0.6498010158538818 | Accuracy: 79.6875%\n",
            "GB | Epoch 3 | Loss: 0.8408291935920715 | Accuracy: 62.5%\n",
            "GB | Epoch 3 | Loss: 0.8625139594078064 | Accuracy: 62.5%\n",
            "GB | Epoch 3 | Loss: 0.8969162702560425 | Accuracy: 60.9375%\n",
            "GB | Epoch 3 | Loss: 0.827890157699585 | Accuracy: 67.1875%\n",
            "GB | Epoch 3 | Loss: 0.8403235673904419 | Accuracy: 70.3125%\n",
            "GB | Epoch 3 | Loss: 0.9350619316101074 | Accuracy: 67.1875%\n",
            "GB | Epoch 3 | Loss: 0.8907040953636169 | Accuracy: 70.3125%\n",
            "GB | Epoch 3 | Loss: 0.9177061319351196 | Accuracy: 64.0625%\n",
            "GB | Epoch 3 | Loss: 0.9215922951698303 | Accuracy: 62.5%\n",
            "GB | Epoch 3 | Loss: 0.8624805808067322 | Accuracy: 62.5%\n"
          ]
        },
        {
          "name": "stderr",
          "output_type": "stream",
          "text": [
            "Epoch 3:  43%|████▎     | 322/751 [00:02<00:03, 118.36batch/s, accuracy=59.375%, loss=0.863]"
          ]
        },
        {
          "name": "stdout",
          "output_type": "stream",
          "text": [
            "GB | Epoch 3 | Loss: 1.006668210029602 | Accuracy: 64.0625%\n",
            "GB | Epoch 3 | Loss: 0.8967649936676025 | Accuracy: 51.5625%\n",
            "GB | Epoch 3 | Loss: 0.8689314126968384 | Accuracy: 68.75%\n",
            "GB | Epoch 3 | Loss: 0.8602405786514282 | Accuracy: 67.1875%\n",
            "GB | Epoch 3 | Loss: 0.8347794413566589 | Accuracy: 64.0625%\n",
            "GB | Epoch 3 | Loss: 0.9107182025909424 | Accuracy: 54.6875%\n",
            "GB | Epoch 3 | Loss: 0.7362323999404907 | Accuracy: 68.75%\n",
            "GB | Epoch 3 | Loss: 0.9261117577552795 | Accuracy: 57.8125%\n",
            "GB | Epoch 3 | Loss: 0.9297631978988647 | Accuracy: 59.375%\n",
            "GB | Epoch 3 | Loss: 0.8654961585998535 | Accuracy: 62.5%\n",
            "GB | Epoch 3 | Loss: 0.7743353843688965 | Accuracy: 70.3125%\n",
            "GB | Epoch 3 | Loss: 0.8966125845909119 | Accuracy: 62.5%\n",
            "GB | Epoch 3 | Loss: 1.1359083652496338 | Accuracy: 50.0%\n",
            "GB | Epoch 3 | Loss: 0.9197594523429871 | Accuracy: 59.375%\n",
            "GB | Epoch 3 | Loss: 0.9308964014053345 | Accuracy: 62.5%\n",
            "GB | Epoch 3 | Loss: 0.9666074514389038 | Accuracy: 57.8125%\n",
            "GB | Epoch 3 | Loss: 0.9758889675140381 | Accuracy: 64.0625%\n",
            "GB | Epoch 3 | Loss: 0.7639095783233643 | Accuracy: 65.625%\n",
            "GB | Epoch 3 | Loss: 0.8292257785797119 | Accuracy: 65.625%\n",
            "GB | Epoch 3 | Loss: 0.8686224222183228 | Accuracy: 67.1875%\n",
            "GB | Epoch 3 | Loss: 0.9009426236152649 | Accuracy: 64.0625%\n",
            "GB | Epoch 3 | Loss: 0.9663127064704895 | Accuracy: 60.9375%\n",
            "GB | Epoch 3 | Loss: 0.8126491904258728 | Accuracy: 75.0%\n",
            "GB | Epoch 3 | Loss: 0.8300777673721313 | Accuracy: 68.75%\n",
            "GB | Epoch 3 | Loss: 0.8625656366348267 | Accuracy: 59.375%\n"
          ]
        },
        {
          "name": "stderr",
          "output_type": "stream",
          "text": [
            "Epoch 3:  47%|████▋     | 350/751 [00:03<00:03, 125.66batch/s, accuracy=65.625%, loss=0.873]"
          ]
        },
        {
          "name": "stdout",
          "output_type": "stream",
          "text": [
            "GB | Epoch 3 | Loss: 0.9817435145378113 | Accuracy: 48.4375%\n",
            "GB | Epoch 3 | Loss: 0.9430185556411743 | Accuracy: 70.3125%\n",
            "GB | Epoch 3 | Loss: 0.9297220706939697 | Accuracy: 53.125%\n",
            "GB | Epoch 3 | Loss: 0.9605913758277893 | Accuracy: 57.8125%\n",
            "GB | Epoch 3 | Loss: 0.9227256178855896 | Accuracy: 68.75%\n",
            "GB | Epoch 3 | Loss: 0.9723055362701416 | Accuracy: 65.625%\n",
            "GB | Epoch 3 | Loss: 0.8515724539756775 | Accuracy: 65.625%\n",
            "GB | Epoch 3 | Loss: 0.9305551648139954 | Accuracy: 71.875%\n",
            "GB | Epoch 3 | Loss: 0.8931936025619507 | Accuracy: 65.625%\n",
            "GB | Epoch 3 | Loss: 0.8479503989219666 | Accuracy: 68.75%\n",
            "GB | Epoch 3 | Loss: 0.9212989807128906 | Accuracy: 56.25%\n",
            "GB | Epoch 3 | Loss: 0.8490860462188721 | Accuracy: 64.0625%\n",
            "GB | Epoch 3 | Loss: 0.8906436562538147 | Accuracy: 57.8125%\n",
            "GB | Epoch 3 | Loss: 0.8907729983329773 | Accuracy: 65.625%\n",
            "GB | Epoch 3 | Loss: 0.6752156615257263 | Accuracy: 76.5625%\n",
            "GB | Epoch 3 | Loss: 0.8049286007881165 | Accuracy: 64.0625%\n",
            "GB | Epoch 3 | Loss: 0.8550168871879578 | Accuracy: 68.75%\n",
            "GB | Epoch 3 | Loss: 0.7519258260726929 | Accuracy: 68.75%\n",
            "GB | Epoch 3 | Loss: 0.774508535861969 | Accuracy: 70.3125%\n",
            "GB | Epoch 3 | Loss: 0.7148534059524536 | Accuracy: 76.5625%\n",
            "GB | Epoch 3 | Loss: 0.9128265976905823 | Accuracy: 59.375%\n",
            "GB | Epoch 3 | Loss: 0.8587023019790649 | Accuracy: 60.9375%\n",
            "GB | Epoch 3 | Loss: 1.0607465505599976 | Accuracy: 59.375%\n",
            "GB | Epoch 3 | Loss: 1.1859357357025146 | Accuracy: 48.4375%\n",
            "GB | Epoch 3 | Loss: 0.7323918342590332 | Accuracy: 65.625%\n",
            "GB | Epoch 3 | Loss: 0.832169771194458 | Accuracy: 62.5%\n",
            "GB | Epoch 3 | Loss: 0.8726596236228943 | Accuracy: 65.625%\n"
          ]
        },
        {
          "name": "stderr",
          "output_type": "stream",
          "text": [
            "Epoch 3:  50%|█████     | 376/751 [00:03<00:03, 124.95batch/s, accuracy=67.1875%, loss=0.879]"
          ]
        },
        {
          "name": "stdout",
          "output_type": "stream",
          "text": [
            "GB | Epoch 3 | Loss: 0.9261346459388733 | Accuracy: 60.9375%\n",
            "GB | Epoch 3 | Loss: 0.9211497902870178 | Accuracy: 60.9375%\n",
            "GB | Epoch 3 | Loss: 0.8544588685035706 | Accuracy: 62.5%\n",
            "GB | Epoch 3 | Loss: 0.864234983921051 | Accuracy: 67.1875%\n",
            "GB | Epoch 3 | Loss: 0.8012545704841614 | Accuracy: 76.5625%\n",
            "GB | Epoch 3 | Loss: 0.8204872012138367 | Accuracy: 60.9375%\n",
            "GB | Epoch 3 | Loss: 0.8484992980957031 | Accuracy: 64.0625%\n",
            "GB | Epoch 3 | Loss: 0.768671989440918 | Accuracy: 70.3125%\n",
            "GB | Epoch 3 | Loss: 1.0132710933685303 | Accuracy: 53.125%\n",
            "GB | Epoch 3 | Loss: 0.8910532593727112 | Accuracy: 62.5%\n",
            "GB | Epoch 3 | Loss: 0.8040478229522705 | Accuracy: 64.0625%\n",
            "GB | Epoch 3 | Loss: 0.7125228643417358 | Accuracy: 78.125%\n",
            "GB | Epoch 3 | Loss: 0.9064373970031738 | Accuracy: 57.8125%\n",
            "GB | Epoch 3 | Loss: 0.8307362198829651 | Accuracy: 64.0625%\n",
            "GB | Epoch 3 | Loss: 0.9333980679512024 | Accuracy: 60.9375%\n",
            "GB | Epoch 3 | Loss: 0.9249326586723328 | Accuracy: 57.8125%\n",
            "GB | Epoch 3 | Loss: 0.7755183577537537 | Accuracy: 70.3125%\n",
            "GB | Epoch 3 | Loss: 0.8677388429641724 | Accuracy: 67.1875%\n",
            "GB | Epoch 3 | Loss: 0.7099103331565857 | Accuracy: 70.3125%\n",
            "GB | Epoch 3 | Loss: 0.8702593445777893 | Accuracy: 62.5%\n",
            "GB | Epoch 3 | Loss: 0.7311872243881226 | Accuracy: 70.3125%\n",
            "GB | Epoch 3 | Loss: 0.7547494769096375 | Accuracy: 75.0%\n",
            "GB | Epoch 3 | Loss: 0.8674526214599609 | Accuracy: 70.3125%\n",
            "GB | Epoch 3 | Loss: 0.9649152755737305 | Accuracy: 62.5%\n",
            "GB | Epoch 3 | Loss: 0.7653000354766846 | Accuracy: 67.1875%\n",
            "GB | Epoch 3 | Loss: 0.8788082599639893 | Accuracy: 67.1875%\n"
          ]
        },
        {
          "name": "stderr",
          "output_type": "stream",
          "text": [
            "Epoch 3:  54%|█████▎    | 402/751 [00:03<00:02, 124.32batch/s, accuracy=62.5%, loss=0.824]   "
          ]
        },
        {
          "name": "stdout",
          "output_type": "stream",
          "text": [
            "GB | Epoch 3 | Loss: 0.7362008094787598 | Accuracy: 75.0%\n",
            "GB | Epoch 3 | Loss: 0.8523341417312622 | Accuracy: 64.0625%\n",
            "GB | Epoch 3 | Loss: 0.8757479786872864 | Accuracy: 57.8125%\n",
            "GB | Epoch 3 | Loss: 0.7009220719337463 | Accuracy: 79.6875%\n",
            "GB | Epoch 3 | Loss: 0.6665343642234802 | Accuracy: 76.5625%\n",
            "GB | Epoch 3 | Loss: 0.7911682724952698 | Accuracy: 67.1875%\n",
            "GB | Epoch 3 | Loss: 0.8370890021324158 | Accuracy: 62.5%\n",
            "GB | Epoch 3 | Loss: 1.046298623085022 | Accuracy: 50.0%\n",
            "GB | Epoch 3 | Loss: 0.8033713698387146 | Accuracy: 75.0%\n",
            "GB | Epoch 3 | Loss: 0.712800145149231 | Accuracy: 70.3125%\n",
            "GB | Epoch 3 | Loss: 0.7353601455688477 | Accuracy: 71.875%\n",
            "GB | Epoch 3 | Loss: 0.8379237055778503 | Accuracy: 60.9375%\n",
            "GB | Epoch 3 | Loss: 0.7427310943603516 | Accuracy: 70.3125%\n",
            "GB | Epoch 3 | Loss: 0.8975813388824463 | Accuracy: 65.625%\n",
            "GB | Epoch 3 | Loss: 0.9226710200309753 | Accuracy: 67.1875%\n",
            "GB | Epoch 3 | Loss: 0.8068199157714844 | Accuracy: 70.3125%\n",
            "GB | Epoch 3 | Loss: 0.8906600475311279 | Accuracy: 65.625%\n",
            "GB | Epoch 3 | Loss: 0.8626907467842102 | Accuracy: 64.0625%\n",
            "GB | Epoch 3 | Loss: 0.7404385805130005 | Accuracy: 65.625%\n",
            "GB | Epoch 3 | Loss: 0.8702548742294312 | Accuracy: 67.1875%\n",
            "GB | Epoch 3 | Loss: 0.7966653108596802 | Accuracy: 65.625%\n",
            "GB | Epoch 3 | Loss: 0.8224093914031982 | Accuracy: 67.1875%\n",
            "GB | Epoch 3 | Loss: 0.8423993587493896 | Accuracy: 64.0625%\n",
            "GB | Epoch 3 | Loss: 0.7842088937759399 | Accuracy: 65.625%\n",
            "GB | Epoch 3 | Loss: 0.756911039352417 | Accuracy: 76.5625%\n",
            "GB | Epoch 3 | Loss: 0.8237915635108948 | Accuracy: 62.5%\n"
          ]
        },
        {
          "name": "stderr",
          "output_type": "stream",
          "text": [
            "Epoch 3:  57%|█████▋    | 428/751 [00:03<00:02, 123.85batch/s, accuracy=64.0625%, loss=0.809]"
          ]
        },
        {
          "name": "stdout",
          "output_type": "stream",
          "text": [
            "GB | Epoch 3 | Loss: 0.9183235168457031 | Accuracy: 59.375%\n",
            "GB | Epoch 3 | Loss: 0.6232500672340393 | Accuracy: 78.125%\n",
            "GB | Epoch 3 | Loss: 0.6841356754302979 | Accuracy: 75.0%\n",
            "GB | Epoch 3 | Loss: 0.825242817401886 | Accuracy: 65.625%\n",
            "GB | Epoch 3 | Loss: 0.9387100338935852 | Accuracy: 57.8125%\n",
            "GB | Epoch 3 | Loss: 0.9089635610580444 | Accuracy: 68.75%\n",
            "GB | Epoch 3 | Loss: 0.7760847806930542 | Accuracy: 64.0625%\n",
            "GB | Epoch 3 | Loss: 0.7489410042762756 | Accuracy: 70.3125%\n",
            "GB | Epoch 3 | Loss: 0.8387917280197144 | Accuracy: 68.75%\n",
            "GB | Epoch 3 | Loss: 0.6539862155914307 | Accuracy: 76.5625%\n",
            "GB | Epoch 3 | Loss: 0.7501287460327148 | Accuracy: 70.3125%\n",
            "GB | Epoch 3 | Loss: 0.7358021140098572 | Accuracy: 67.1875%\n",
            "GB | Epoch 3 | Loss: 0.7642472982406616 | Accuracy: 71.875%\n",
            "GB | Epoch 3 | Loss: 0.7043612599372864 | Accuracy: 75.0%\n",
            "GB | Epoch 3 | Loss: 0.9201644062995911 | Accuracy: 65.625%\n",
            "GB | Epoch 3 | Loss: 0.7308017015457153 | Accuracy: 75.0%\n",
            "GB | Epoch 3 | Loss: 0.8082124590873718 | Accuracy: 70.3125%\n",
            "GB | Epoch 3 | Loss: 0.7791462540626526 | Accuracy: 67.1875%\n",
            "GB | Epoch 3 | Loss: 0.8618995547294617 | Accuracy: 62.5%\n",
            "GB | Epoch 3 | Loss: 0.7420226335525513 | Accuracy: 70.3125%\n",
            "GB | Epoch 3 | Loss: 0.8288428783416748 | Accuracy: 64.0625%\n",
            "GB | Epoch 3 | Loss: 0.8236435055732727 | Accuracy: 65.625%\n",
            "GB | Epoch 3 | Loss: 0.8208832740783691 | Accuracy: 67.1875%\n",
            "GB | Epoch 3 | Loss: 0.7603514790534973 | Accuracy: 67.1875%\n",
            "GB | Epoch 3 | Loss: 0.8086132407188416 | Accuracy: 64.0625%\n"
          ]
        },
        {
          "name": "stderr",
          "output_type": "stream",
          "text": [
            "Epoch 3:  59%|█████▊    | 441/751 [00:03<00:02, 120.41batch/s, accuracy=65.625%, loss=0.86]  "
          ]
        },
        {
          "name": "stdout",
          "output_type": "stream",
          "text": [
            "GB | Epoch 3 | Loss: 0.7191459536552429 | Accuracy: 73.4375%\n",
            "GB | Epoch 3 | Loss: 0.89387446641922 | Accuracy: 65.625%\n",
            "GB | Epoch 3 | Loss: 0.8780598044395447 | Accuracy: 59.375%\n",
            "GB | Epoch 3 | Loss: 0.9472435712814331 | Accuracy: 62.5%\n",
            "GB | Epoch 3 | Loss: 0.8446036577224731 | Accuracy: 65.625%\n",
            "GB | Epoch 3 | Loss: 0.8288266062736511 | Accuracy: 62.5%\n",
            "GB | Epoch 3 | Loss: 0.8839921355247498 | Accuracy: 64.0625%\n",
            "GB | Epoch 3 | Loss: 0.8252177238464355 | Accuracy: 64.0625%\n",
            "GB | Epoch 3 | Loss: 0.9212039113044739 | Accuracy: 62.5%\n",
            "GB | Epoch 3 | Loss: 0.748296320438385 | Accuracy: 65.625%\n",
            "GB | Epoch 3 | Loss: 0.9325022101402283 | Accuracy: 60.9375%\n",
            "GB | Epoch 3 | Loss: 0.8990763425827026 | Accuracy: 60.9375%\n",
            "GB | Epoch 3 | Loss: 0.7326563000679016 | Accuracy: 78.125%\n",
            "GB | Epoch 3 | Loss: 0.8758524656295776 | Accuracy: 67.1875%\n",
            "GB | Epoch 3 | Loss: 0.6067889332771301 | Accuracy: 71.875%\n",
            "GB | Epoch 3 | Loss: 0.9360327124595642 | Accuracy: 60.9375%\n",
            "GB | Epoch 3 | Loss: 0.8592315912246704 | Accuracy: 64.0625%\n",
            "GB | Epoch 3 | Loss: 0.9068789482116699 | Accuracy: 60.9375%\n",
            "GB | Epoch 3 | Loss: 0.7833281755447388 | Accuracy: 71.875%\n",
            "GB | Epoch 3 | Loss: 0.8981709480285645 | Accuracy: 60.9375%\n",
            "GB | Epoch 3 | Loss: 0.8596356511116028 | Accuracy: 65.625%\n"
          ]
        },
        {
          "name": "stderr",
          "output_type": "stream",
          "text": [
            "Epoch 3:  62%|██████▏   | 466/751 [00:04<00:02, 110.36batch/s, accuracy=68.75%, loss=0.805]  "
          ]
        },
        {
          "name": "stdout",
          "output_type": "stream",
          "text": [
            "GB | Epoch 3 | Loss: 0.7939220666885376 | Accuracy: 64.0625%\n",
            "GB | Epoch 3 | Loss: 0.9509180188179016 | Accuracy: 65.625%\n",
            "GB | Epoch 3 | Loss: 0.7781474590301514 | Accuracy: 73.4375%\n",
            "GB | Epoch 3 | Loss: 0.7804415225982666 | Accuracy: 65.625%\n",
            "GB | Epoch 3 | Loss: 0.7943020462989807 | Accuracy: 73.4375%\n",
            "GB | Epoch 3 | Loss: 0.8000345230102539 | Accuracy: 65.625%\n",
            "GB | Epoch 3 | Loss: 0.8888079524040222 | Accuracy: 59.375%\n",
            "GB | Epoch 3 | Loss: 0.6874006986618042 | Accuracy: 79.6875%\n",
            "GB | Epoch 3 | Loss: 0.706859290599823 | Accuracy: 71.875%\n",
            "GB | Epoch 3 | Loss: 0.7184860110282898 | Accuracy: 79.6875%\n",
            "GB | Epoch 3 | Loss: 0.852199375629425 | Accuracy: 64.0625%\n",
            "GB | Epoch 3 | Loss: 0.8740576505661011 | Accuracy: 65.625%\n",
            "GB | Epoch 3 | Loss: 0.6092745661735535 | Accuracy: 75.0%\n",
            "GB | Epoch 3 | Loss: 0.6515582799911499 | Accuracy: 75.0%\n",
            "GB | Epoch 3 | Loss: 0.7958502769470215 | Accuracy: 73.4375%\n",
            "GB | Epoch 3 | Loss: 0.6605632305145264 | Accuracy: 71.875%\n",
            "GB | Epoch 3 | Loss: 0.8156725764274597 | Accuracy: 60.9375%\n",
            "GB | Epoch 3 | Loss: 0.9174020886421204 | Accuracy: 60.9375%\n",
            "GB | Epoch 3 | Loss: 0.8944772481918335 | Accuracy: 57.8125%\n",
            "GB | Epoch 3 | Loss: 0.786401629447937 | Accuracy: 67.1875%\n",
            "GB | Epoch 3 | Loss: 0.7655426859855652 | Accuracy: 73.4375%\n",
            "GB | Epoch 3 | Loss: 0.8050467371940613 | Accuracy: 68.75%\n"
          ]
        },
        {
          "name": "stderr",
          "output_type": "stream",
          "text": [
            "Epoch 3:  65%|██████▌   | 489/751 [00:04<00:02, 104.97batch/s, accuracy=71.875%, loss=0.799] "
          ]
        },
        {
          "name": "stdout",
          "output_type": "stream",
          "text": [
            "GB | Epoch 3 | Loss: 0.7696018815040588 | Accuracy: 70.3125%\n",
            "GB | Epoch 3 | Loss: 0.8016258478164673 | Accuracy: 65.625%\n",
            "GB | Epoch 3 | Loss: 0.7344962358474731 | Accuracy: 68.75%\n",
            "GB | Epoch 3 | Loss: 0.7018960118293762 | Accuracy: 71.875%\n",
            "GB | Epoch 3 | Loss: 0.7458754181861877 | Accuracy: 73.4375%\n",
            "GB | Epoch 3 | Loss: 0.7983555793762207 | Accuracy: 62.5%\n",
            "GB | Epoch 3 | Loss: 0.9412991404533386 | Accuracy: 62.5%\n",
            "GB | Epoch 3 | Loss: 0.7787746787071228 | Accuracy: 67.1875%\n",
            "GB | Epoch 3 | Loss: 0.6745722889900208 | Accuracy: 75.0%\n",
            "GB | Epoch 3 | Loss: 0.7915709614753723 | Accuracy: 64.0625%\n",
            "GB | Epoch 3 | Loss: 0.8474376201629639 | Accuracy: 67.1875%\n",
            "GB | Epoch 3 | Loss: 0.8503723740577698 | Accuracy: 67.1875%\n",
            "GB | Epoch 3 | Loss: 0.7159435749053955 | Accuracy: 70.3125%\n",
            "GB | Epoch 3 | Loss: 0.9320374131202698 | Accuracy: 59.375%\n",
            "GB | Epoch 3 | Loss: 0.780414342880249 | Accuracy: 71.875%\n",
            "GB | Epoch 3 | Loss: 0.8672401309013367 | Accuracy: 59.375%\n",
            "GB | Epoch 3 | Loss: 0.8019903898239136 | Accuracy: 68.75%\n",
            "GB | Epoch 3 | Loss: 0.7626906633377075 | Accuracy: 70.3125%\n",
            "GB | Epoch 3 | Loss: 0.670634925365448 | Accuracy: 73.4375%\n",
            "GB | Epoch 3 | Loss: 0.798590898513794 | Accuracy: 71.875%\n"
          ]
        },
        {
          "name": "stderr",
          "output_type": "stream",
          "text": [
            "Epoch 3:  68%|██████▊   | 510/751 [00:04<00:02, 99.46batch/s, accuracy=70.3125%, loss=0.744]"
          ]
        },
        {
          "name": "stdout",
          "output_type": "stream",
          "text": [
            "GB | Epoch 3 | Loss: 0.9017955660820007 | Accuracy: 56.25%\n",
            "GB | Epoch 3 | Loss: 0.7799013257026672 | Accuracy: 65.625%\n",
            "GB | Epoch 3 | Loss: 0.7344109416007996 | Accuracy: 70.3125%\n",
            "GB | Epoch 3 | Loss: 0.8447560667991638 | Accuracy: 59.375%\n",
            "GB | Epoch 3 | Loss: 0.883573591709137 | Accuracy: 56.25%\n",
            "GB | Epoch 3 | Loss: 0.6515554189682007 | Accuracy: 73.4375%\n",
            "GB | Epoch 3 | Loss: 0.7726150155067444 | Accuracy: 60.9375%\n",
            "GB | Epoch 3 | Loss: 0.7391080260276794 | Accuracy: 70.3125%\n",
            "GB | Epoch 3 | Loss: 0.7794390916824341 | Accuracy: 70.3125%\n",
            "GB | Epoch 3 | Loss: 0.7541132569313049 | Accuracy: 71.875%\n",
            "GB | Epoch 3 | Loss: 0.7657475471496582 | Accuracy: 71.875%\n",
            "GB | Epoch 3 | Loss: 0.7998195886611938 | Accuracy: 65.625%\n",
            "GB | Epoch 3 | Loss: 0.7503653168678284 | Accuracy: 71.875%\n",
            "GB | Epoch 3 | Loss: 0.7869898080825806 | Accuracy: 64.0625%\n",
            "GB | Epoch 3 | Loss: 0.7453669905662537 | Accuracy: 64.0625%\n",
            "GB | Epoch 3 | Loss: 0.6816700100898743 | Accuracy: 78.125%\n",
            "GB | Epoch 3 | Loss: 0.7679470777511597 | Accuracy: 68.75%\n",
            "GB | Epoch 3 | Loss: 0.79337477684021 | Accuracy: 60.9375%\n",
            "GB | Epoch 3 | Loss: 0.7441080808639526 | Accuracy: 70.3125%\n"
          ]
        },
        {
          "name": "stderr",
          "output_type": "stream",
          "text": [
            "Epoch 3:  69%|██████▉   | 521/751 [00:04<00:02, 99.45batch/s, accuracy=62.5%, loss=0.838]  "
          ]
        },
        {
          "name": "stdout",
          "output_type": "stream",
          "text": [
            "GB | Epoch 3 | Loss: 0.8134008049964905 | Accuracy: 64.0625%\n",
            "GB | Epoch 3 | Loss: 0.7747529745101929 | Accuracy: 62.5%\n",
            "GB | Epoch 3 | Loss: 0.7834212779998779 | Accuracy: 68.75%\n",
            "GB | Epoch 3 | Loss: 0.8749337196350098 | Accuracy: 59.375%\n",
            "GB | Epoch 3 | Loss: 0.8307873010635376 | Accuracy: 64.0625%\n",
            "GB | Epoch 3 | Loss: 0.7699653506278992 | Accuracy: 73.4375%\n",
            "GB | Epoch 3 | Loss: 0.9678545594215393 | Accuracy: 51.5625%\n",
            "GB | Epoch 3 | Loss: 0.7295776605606079 | Accuracy: 70.3125%\n",
            "GB | Epoch 3 | Loss: 0.8011122941970825 | Accuracy: 67.1875%\n",
            "GB | Epoch 3 | Loss: 0.6728273034095764 | Accuracy: 71.875%\n",
            "GB | Epoch 3 | Loss: 0.7867617011070251 | Accuracy: 65.625%\n",
            "GB | Epoch 3 | Loss: 0.8888462781906128 | Accuracy: 68.75%\n",
            "GB | Epoch 3 | Loss: 0.787932276725769 | Accuracy: 67.1875%\n",
            "GB | Epoch 3 | Loss: 0.7097941637039185 | Accuracy: 70.3125%\n",
            "GB | Epoch 3 | Loss: 0.7471493482589722 | Accuracy: 76.5625%\n",
            "GB | Epoch 3 | Loss: 0.8177963495254517 | Accuracy: 60.9375%\n",
            "GB | Epoch 3 | Loss: 0.7513232231140137 | Accuracy: 70.3125%\n",
            "GB | Epoch 3 | Loss: 0.7350282073020935 | Accuracy: 71.875%\n",
            "GB | Epoch 3 | Loss: 0.736998438835144 | Accuracy: 71.875%\n",
            "GB | Epoch 3 | Loss: 0.7807382345199585 | Accuracy: 65.625%\n",
            "GB | Epoch 3 | Loss: 0.8375293612480164 | Accuracy: 62.5%\n"
          ]
        },
        {
          "name": "stderr",
          "output_type": "stream",
          "text": [
            "Epoch 3:  72%|███████▏  | 542/751 [00:04<00:02, 97.89batch/s, accuracy=73.4375%, loss=0.634]"
          ]
        },
        {
          "name": "stdout",
          "output_type": "stream",
          "text": [
            "GB | Epoch 3 | Loss: 0.6751166582107544 | Accuracy: 76.5625%\n",
            "GB | Epoch 3 | Loss: 0.7192623019218445 | Accuracy: 71.875%\n",
            "GB | Epoch 3 | Loss: 0.7585307955741882 | Accuracy: 68.75%\n",
            "GB | Epoch 3 | Loss: 0.6877452731132507 | Accuracy: 67.1875%\n",
            "GB | Epoch 3 | Loss: 0.7137964367866516 | Accuracy: 71.875%\n",
            "GB | Epoch 3 | Loss: 0.8633630871772766 | Accuracy: 60.9375%\n",
            "GB | Epoch 3 | Loss: 0.7887992858886719 | Accuracy: 64.0625%\n",
            "GB | Epoch 3 | Loss: 0.8098285794258118 | Accuracy: 62.5%\n",
            "GB | Epoch 3 | Loss: 0.7277367115020752 | Accuracy: 65.625%\n",
            "GB | Epoch 3 | Loss: 0.7943524122238159 | Accuracy: 59.375%\n",
            "GB | Epoch 3 | Loss: 0.5904016494750977 | Accuracy: 71.875%\n",
            "GB | Epoch 3 | Loss: 0.8079341053962708 | Accuracy: 68.75%\n",
            "GB | Epoch 3 | Loss: 0.7526142001152039 | Accuracy: 70.3125%\n",
            "GB | Epoch 3 | Loss: 0.7184933423995972 | Accuracy: 75.0%\n",
            "GB | Epoch 3 | Loss: 0.7073121666908264 | Accuracy: 71.875%\n",
            "GB | Epoch 3 | Loss: 0.6905414462089539 | Accuracy: 70.3125%\n",
            "GB | Epoch 3 | Loss: 0.6843301057815552 | Accuracy: 64.0625%\n",
            "GB | Epoch 3 | Loss: 0.7026386260986328 | Accuracy: 73.4375%\n",
            "GB | Epoch 3 | Loss: 0.8160884380340576 | Accuracy: 60.9375%\n",
            "GB | Epoch 3 | Loss: 0.7125190496444702 | Accuracy: 71.875%\n",
            "GB | Epoch 3 | Loss: 0.6341642737388611 | Accuracy: 73.4375%\n"
          ]
        },
        {
          "name": "stderr",
          "output_type": "stream",
          "text": [
            "Epoch 3:  75%|███████▌  | 564/751 [00:05<00:01, 100.95batch/s, accuracy=76.5625%, loss=0.735]"
          ]
        },
        {
          "name": "stdout",
          "output_type": "stream",
          "text": [
            "GB | Epoch 3 | Loss: 0.7699183225631714 | Accuracy: 60.9375%\n",
            "GB | Epoch 3 | Loss: 0.6598766446113586 | Accuracy: 73.4375%\n",
            "GB | Epoch 3 | Loss: 0.7228230237960815 | Accuracy: 73.4375%\n",
            "GB | Epoch 3 | Loss: 0.7892547249794006 | Accuracy: 57.8125%\n",
            "GB | Epoch 3 | Loss: 0.7118297815322876 | Accuracy: 71.875%\n",
            "GB | Epoch 3 | Loss: 0.7787707448005676 | Accuracy: 70.3125%\n",
            "GB | Epoch 3 | Loss: 0.7718462944030762 | Accuracy: 60.9375%\n",
            "GB | Epoch 3 | Loss: 0.7670755386352539 | Accuracy: 68.75%\n",
            "GB | Epoch 3 | Loss: 0.780305802822113 | Accuracy: 76.5625%\n",
            "GB | Epoch 3 | Loss: 0.7140650749206543 | Accuracy: 71.875%\n",
            "GB | Epoch 3 | Loss: 0.7362170219421387 | Accuracy: 65.625%\n",
            "GB | Epoch 3 | Loss: 0.7702803015708923 | Accuracy: 62.5%\n",
            "GB | Epoch 3 | Loss: 0.7321344017982483 | Accuracy: 65.625%\n",
            "GB | Epoch 3 | Loss: 0.6284080147743225 | Accuracy: 73.4375%\n",
            "GB | Epoch 3 | Loss: 0.7295782566070557 | Accuracy: 64.0625%\n",
            "GB | Epoch 3 | Loss: 0.7788468599319458 | Accuracy: 64.0625%\n",
            "GB | Epoch 3 | Loss: 0.777076005935669 | Accuracy: 68.75%\n",
            "GB | Epoch 3 | Loss: 0.7412161231040955 | Accuracy: 67.1875%\n",
            "GB | Epoch 3 | Loss: 0.7597137093544006 | Accuracy: 65.625%\n",
            "GB | Epoch 3 | Loss: 0.7132372856140137 | Accuracy: 67.1875%\n"
          ]
        },
        {
          "name": "stderr",
          "output_type": "stream",
          "text": [
            "Epoch 3:  78%|███████▊  | 586/751 [00:05<00:01, 100.76batch/s, accuracy=59.375%, loss=0.895]"
          ]
        },
        {
          "name": "stdout",
          "output_type": "stream",
          "text": [
            "GB | Epoch 3 | Loss: 0.7354750633239746 | Accuracy: 76.5625%\n",
            "GB | Epoch 3 | Loss: 0.7595080137252808 | Accuracy: 68.75%\n",
            "GB | Epoch 3 | Loss: 0.8106792569160461 | Accuracy: 65.625%\n",
            "GB | Epoch 3 | Loss: 0.6919409036636353 | Accuracy: 73.4375%\n",
            "GB | Epoch 3 | Loss: 0.6974672675132751 | Accuracy: 70.3125%\n",
            "GB | Epoch 3 | Loss: 0.67009437084198 | Accuracy: 71.875%\n",
            "GB | Epoch 3 | Loss: 0.9051193594932556 | Accuracy: 53.125%\n",
            "GB | Epoch 3 | Loss: 0.6864067912101746 | Accuracy: 73.4375%\n",
            "GB | Epoch 3 | Loss: 0.6883211135864258 | Accuracy: 78.125%\n",
            "GB | Epoch 3 | Loss: 0.8814587593078613 | Accuracy: 54.6875%\n",
            "GB | Epoch 3 | Loss: 0.7992315888404846 | Accuracy: 67.1875%\n",
            "GB | Epoch 3 | Loss: 0.7569883465766907 | Accuracy: 62.5%\n",
            "GB | Epoch 3 | Loss: 0.8108903169631958 | Accuracy: 56.25%\n",
            "GB | Epoch 3 | Loss: 0.7553711533546448 | Accuracy: 73.4375%\n",
            "GB | Epoch 3 | Loss: 0.6390717029571533 | Accuracy: 78.125%\n",
            "GB | Epoch 3 | Loss: 0.671203076839447 | Accuracy: 73.4375%\n",
            "GB | Epoch 3 | Loss: 0.6332367062568665 | Accuracy: 68.75%\n",
            "GB | Epoch 3 | Loss: 0.7126073241233826 | Accuracy: 70.3125%\n",
            "GB | Epoch 3 | Loss: 0.7542982697486877 | Accuracy: 67.1875%\n",
            "GB | Epoch 3 | Loss: 0.8099466562271118 | Accuracy: 64.0625%\n",
            "GB | Epoch 3 | Loss: 0.8948367238044739 | Accuracy: 59.375%\n"
          ]
        },
        {
          "name": "stderr",
          "output_type": "stream",
          "text": [
            "Epoch 3:  81%|████████  | 608/751 [00:05<00:01, 98.82batch/s, accuracy=59.375%, loss=0.851]"
          ]
        },
        {
          "name": "stdout",
          "output_type": "stream",
          "text": [
            "GB | Epoch 3 | Loss: 0.7831871509552002 | Accuracy: 67.1875%\n",
            "GB | Epoch 3 | Loss: 0.6633514165878296 | Accuracy: 71.875%\n",
            "GB | Epoch 3 | Loss: 0.7839455008506775 | Accuracy: 65.625%\n",
            "GB | Epoch 3 | Loss: 0.7793508768081665 | Accuracy: 68.75%\n",
            "GB | Epoch 3 | Loss: 0.8364292979240417 | Accuracy: 57.8125%\n",
            "GB | Epoch 3 | Loss: 0.7091489434242249 | Accuracy: 67.1875%\n",
            "GB | Epoch 3 | Loss: 0.9040844440460205 | Accuracy: 64.0625%\n",
            "GB | Epoch 3 | Loss: 0.6998375654220581 | Accuracy: 79.6875%\n",
            "GB | Epoch 3 | Loss: 0.7194330096244812 | Accuracy: 76.5625%\n",
            "GB | Epoch 3 | Loss: 0.6223970055580139 | Accuracy: 79.6875%\n",
            "GB | Epoch 3 | Loss: 0.5851935744285583 | Accuracy: 73.4375%\n",
            "GB | Epoch 3 | Loss: 0.9686800241470337 | Accuracy: 60.9375%\n",
            "GB | Epoch 3 | Loss: 0.8739696741104126 | Accuracy: 67.1875%\n",
            "GB | Epoch 3 | Loss: 0.7022673487663269 | Accuracy: 68.75%\n",
            "GB | Epoch 3 | Loss: 0.7828628420829773 | Accuracy: 67.1875%\n",
            "GB | Epoch 3 | Loss: 0.7470440864562988 | Accuracy: 64.0625%\n",
            "GB | Epoch 3 | Loss: 0.6955174207687378 | Accuracy: 71.875%\n",
            "GB | Epoch 3 | Loss: 0.7562475204467773 | Accuracy: 71.875%\n",
            "GB | Epoch 3 | Loss: 0.697015106678009 | Accuracy: 71.875%\n",
            "GB | Epoch 3 | Loss: 0.8506215214729309 | Accuracy: 59.375%\n"
          ]
        },
        {
          "name": "stderr",
          "output_type": "stream",
          "text": [
            "Epoch 3:  84%|████████▎ | 628/751 [00:05<00:01, 97.19batch/s, accuracy=71.875%, loss=0.77]"
          ]
        },
        {
          "name": "stdout",
          "output_type": "stream",
          "text": [
            "GB | Epoch 3 | Loss: 0.6550945043563843 | Accuracy: 71.875%\n",
            "GB | Epoch 3 | Loss: 0.6301071047782898 | Accuracy: 70.3125%\n",
            "GB | Epoch 3 | Loss: 0.6755057573318481 | Accuracy: 67.1875%\n",
            "GB | Epoch 3 | Loss: 0.7634890079498291 | Accuracy: 73.4375%\n",
            "GB | Epoch 3 | Loss: 0.6681439876556396 | Accuracy: 70.3125%\n",
            "GB | Epoch 3 | Loss: 0.7663593888282776 | Accuracy: 67.1875%\n",
            "GB | Epoch 3 | Loss: 0.9047660231590271 | Accuracy: 59.375%\n",
            "GB | Epoch 3 | Loss: 0.733067512512207 | Accuracy: 64.0625%\n",
            "GB | Epoch 3 | Loss: 0.8834654688835144 | Accuracy: 60.9375%\n",
            "GB | Epoch 3 | Loss: 0.6045489311218262 | Accuracy: 76.5625%\n",
            "GB | Epoch 3 | Loss: 0.7444071173667908 | Accuracy: 73.4375%\n",
            "GB | Epoch 3 | Loss: 0.6906028985977173 | Accuracy: 71.875%\n",
            "GB | Epoch 3 | Loss: 0.7879206538200378 | Accuracy: 64.0625%\n",
            "GB | Epoch 3 | Loss: 0.6757234334945679 | Accuracy: 68.75%\n",
            "GB | Epoch 3 | Loss: 0.6248301863670349 | Accuracy: 70.3125%\n",
            "GB | Epoch 3 | Loss: 0.5833458304405212 | Accuracy: 79.6875%\n",
            "GB | Epoch 3 | Loss: 0.5656979084014893 | Accuracy: 81.25%\n",
            "GB | Epoch 3 | Loss: 0.6866050958633423 | Accuracy: 65.625%\n",
            "GB | Epoch 3 | Loss: 0.6274988651275635 | Accuracy: 76.5625%\n",
            "GB | Epoch 3 | Loss: 0.7125129103660583 | Accuracy: 75.0%\n"
          ]
        },
        {
          "name": "stderr",
          "output_type": "stream",
          "text": [
            "Epoch 3:  87%|████████▋ | 650/751 [00:06<00:01, 100.11batch/s, accuracy=71.875%, loss=0.696]"
          ]
        },
        {
          "name": "stdout",
          "output_type": "stream",
          "text": [
            "GB | Epoch 3 | Loss: 0.7701995968818665 | Accuracy: 71.875%\n",
            "GB | Epoch 3 | Loss: 0.8833990693092346 | Accuracy: 60.9375%\n",
            "GB | Epoch 3 | Loss: 0.7088850140571594 | Accuracy: 67.1875%\n",
            "GB | Epoch 3 | Loss: 0.6435493230819702 | Accuracy: 78.125%\n",
            "GB | Epoch 3 | Loss: 0.7973313927650452 | Accuracy: 62.5%\n",
            "GB | Epoch 3 | Loss: 0.8643855452537537 | Accuracy: 59.375%\n",
            "GB | Epoch 3 | Loss: 0.8321421146392822 | Accuracy: 70.3125%\n",
            "GB | Epoch 3 | Loss: 0.8234212398529053 | Accuracy: 64.0625%\n",
            "GB | Epoch 3 | Loss: 0.6959434151649475 | Accuracy: 78.125%\n",
            "GB | Epoch 3 | Loss: 0.611900806427002 | Accuracy: 78.125%\n",
            "GB | Epoch 3 | Loss: 0.6821925640106201 | Accuracy: 75.0%\n",
            "GB | Epoch 3 | Loss: 0.6902660131454468 | Accuracy: 65.625%\n",
            "GB | Epoch 3 | Loss: 0.6343857645988464 | Accuracy: 79.6875%\n",
            "GB | Epoch 3 | Loss: 0.7501476407051086 | Accuracy: 71.875%\n",
            "GB | Epoch 3 | Loss: 0.5902872085571289 | Accuracy: 81.25%\n",
            "GB | Epoch 3 | Loss: 0.5387312173843384 | Accuracy: 79.6875%\n",
            "GB | Epoch 3 | Loss: 0.914474368095398 | Accuracy: 60.9375%\n",
            "GB | Epoch 3 | Loss: 0.5901843309402466 | Accuracy: 81.25%\n",
            "GB | Epoch 3 | Loss: 0.6600186228752136 | Accuracy: 75.0%\n",
            "GB | Epoch 3 | Loss: 0.6964020133018494 | Accuracy: 71.875%\n"
          ]
        },
        {
          "name": "stderr",
          "output_type": "stream",
          "text": [
            "Epoch 3:  89%|████████▉ | 672/751 [00:06<00:00, 101.91batch/s, accuracy=64.0625%, loss=0.702]"
          ]
        },
        {
          "name": "stdout",
          "output_type": "stream",
          "text": [
            "GB | Epoch 3 | Loss: 0.5700680017471313 | Accuracy: 78.125%\n",
            "GB | Epoch 3 | Loss: 0.7817090749740601 | Accuracy: 62.5%\n",
            "GB | Epoch 3 | Loss: 0.630337119102478 | Accuracy: 71.875%\n",
            "GB | Epoch 3 | Loss: 0.6285960674285889 | Accuracy: 70.3125%\n",
            "GB | Epoch 3 | Loss: 0.7589964866638184 | Accuracy: 67.1875%\n",
            "GB | Epoch 3 | Loss: 0.6412688493728638 | Accuracy: 73.4375%\n",
            "GB | Epoch 3 | Loss: 0.7066490650177002 | Accuracy: 67.1875%\n",
            "GB | Epoch 3 | Loss: 0.5683867931365967 | Accuracy: 81.25%\n",
            "GB | Epoch 3 | Loss: 0.8644510507583618 | Accuracy: 56.25%\n",
            "GB | Epoch 3 | Loss: 0.5952830910682678 | Accuracy: 81.25%\n",
            "GB | Epoch 3 | Loss: 0.7572174072265625 | Accuracy: 68.75%\n",
            "GB | Epoch 3 | Loss: 0.7728533148765564 | Accuracy: 71.875%\n",
            "GB | Epoch 3 | Loss: 0.6333706378936768 | Accuracy: 70.3125%\n",
            "GB | Epoch 3 | Loss: 0.5975069999694824 | Accuracy: 75.0%\n",
            "GB | Epoch 3 | Loss: 0.7023122906684875 | Accuracy: 68.75%\n",
            "GB | Epoch 3 | Loss: 0.7180486917495728 | Accuracy: 67.1875%\n",
            "GB | Epoch 3 | Loss: 0.7218209505081177 | Accuracy: 68.75%\n",
            "GB | Epoch 3 | Loss: 0.7201179265975952 | Accuracy: 67.1875%\n",
            "GB | Epoch 3 | Loss: 0.5712958574295044 | Accuracy: 81.25%\n",
            "GB | Epoch 3 | Loss: 0.7595657110214233 | Accuracy: 78.125%\n",
            "GB | Epoch 3 | Loss: 0.5887598991394043 | Accuracy: 81.25%\n",
            "GB | Epoch 3 | Loss: 0.7016069889068604 | Accuracy: 64.0625%\n"
          ]
        },
        {
          "name": "stderr",
          "output_type": "stream",
          "text": [
            "Epoch 3:  92%|█████████▏| 694/751 [00:06<00:00, 99.04batch/s, accuracy=59.375%, loss=0.82]  "
          ]
        },
        {
          "name": "stdout",
          "output_type": "stream",
          "text": [
            "GB | Epoch 3 | Loss: 0.5287690758705139 | Accuracy: 79.6875%\n",
            "GB | Epoch 3 | Loss: 0.6930400133132935 | Accuracy: 73.4375%\n",
            "GB | Epoch 3 | Loss: 0.6181526780128479 | Accuracy: 71.875%\n",
            "GB | Epoch 3 | Loss: 0.6755350232124329 | Accuracy: 73.4375%\n",
            "GB | Epoch 3 | Loss: 0.658525288105011 | Accuracy: 65.625%\n",
            "GB | Epoch 3 | Loss: 0.5527961850166321 | Accuracy: 76.5625%\n",
            "GB | Epoch 3 | Loss: 0.6169208884239197 | Accuracy: 73.4375%\n",
            "GB | Epoch 3 | Loss: 0.6990489959716797 | Accuracy: 71.875%\n",
            "GB | Epoch 3 | Loss: 0.6846080422401428 | Accuracy: 75.0%\n",
            "GB | Epoch 3 | Loss: 0.6021857857704163 | Accuracy: 73.4375%\n",
            "GB | Epoch 3 | Loss: 0.5632036924362183 | Accuracy: 75.0%\n",
            "GB | Epoch 3 | Loss: 0.7113997340202332 | Accuracy: 70.3125%\n",
            "GB | Epoch 3 | Loss: 0.7250617742538452 | Accuracy: 68.75%\n",
            "GB | Epoch 3 | Loss: 0.9353156685829163 | Accuracy: 57.8125%\n",
            "GB | Epoch 3 | Loss: 0.5900453329086304 | Accuracy: 79.6875%\n",
            "GB | Epoch 3 | Loss: 0.7543443441390991 | Accuracy: 67.1875%\n",
            "GB | Epoch 3 | Loss: 0.6620123982429504 | Accuracy: 81.25%\n",
            "GB | Epoch 3 | Loss: 0.5703654289245605 | Accuracy: 73.4375%\n",
            "GB | Epoch 3 | Loss: 0.6556979417800903 | Accuracy: 73.4375%\n",
            "GB | Epoch 3 | Loss: 0.8203491568565369 | Accuracy: 59.375%\n"
          ]
        },
        {
          "name": "stderr",
          "output_type": "stream",
          "text": [
            "Epoch 3:  95%|█████████▌| 716/751 [00:06<00:00, 101.57batch/s, accuracy=68.75%, loss=0.746]  "
          ]
        },
        {
          "name": "stdout",
          "output_type": "stream",
          "text": [
            "GB | Epoch 3 | Loss: 0.5405673384666443 | Accuracy: 82.8125%\n",
            "GB | Epoch 3 | Loss: 0.7138516902923584 | Accuracy: 68.75%\n",
            "GB | Epoch 3 | Loss: 0.7051717638969421 | Accuracy: 67.1875%\n",
            "GB | Epoch 3 | Loss: 0.5988830327987671 | Accuracy: 78.125%\n",
            "GB | Epoch 3 | Loss: 0.716590404510498 | Accuracy: 71.875%\n",
            "GB | Epoch 3 | Loss: 0.688945472240448 | Accuracy: 73.4375%\n",
            "GB | Epoch 3 | Loss: 0.6752059459686279 | Accuracy: 73.4375%\n",
            "GB | Epoch 3 | Loss: 0.6375190019607544 | Accuracy: 71.875%\n",
            "GB | Epoch 3 | Loss: 0.6333328485488892 | Accuracy: 78.125%\n",
            "GB | Epoch 3 | Loss: 0.7312455177307129 | Accuracy: 62.5%\n",
            "GB | Epoch 3 | Loss: 0.6130959391593933 | Accuracy: 76.5625%\n",
            "GB | Epoch 3 | Loss: 0.5638083815574646 | Accuracy: 78.125%\n",
            "GB | Epoch 3 | Loss: 0.7616872191429138 | Accuracy: 65.625%\n",
            "GB | Epoch 3 | Loss: 0.8144016861915588 | Accuracy: 68.75%\n",
            "GB | Epoch 3 | Loss: 0.6402273178100586 | Accuracy: 76.5625%\n",
            "GB | Epoch 3 | Loss: 0.7405508160591125 | Accuracy: 70.3125%\n",
            "GB | Epoch 3 | Loss: 0.5992600321769714 | Accuracy: 73.4375%\n",
            "GB | Epoch 3 | Loss: 0.8050248026847839 | Accuracy: 60.9375%\n",
            "GB | Epoch 3 | Loss: 0.7436155080795288 | Accuracy: 65.625%\n",
            "GB | Epoch 3 | Loss: 0.6999303102493286 | Accuracy: 75.0%\n",
            "GB | Epoch 3 | Loss: 0.6923236846923828 | Accuracy: 73.4375%\n",
            "GB | Epoch 3 | Loss: 0.7463470697402954 | Accuracy: 68.75%\n"
          ]
        },
        {
          "name": "stderr",
          "output_type": "stream",
          "text": [
            "Epoch 3:  98%|█████████▊| 738/751 [00:06<00:00, 101.74batch/s, accuracy=76.5625%, loss=0.617]"
          ]
        },
        {
          "name": "stdout",
          "output_type": "stream",
          "text": [
            "GB | Epoch 3 | Loss: 0.6577292680740356 | Accuracy: 73.4375%\n",
            "GB | Epoch 3 | Loss: 0.6966496109962463 | Accuracy: 67.1875%\n",
            "GB | Epoch 3 | Loss: 0.6663315892219543 | Accuracy: 73.4375%\n",
            "GB | Epoch 3 | Loss: 0.7116140127182007 | Accuracy: 73.4375%\n",
            "GB | Epoch 3 | Loss: 0.7716618776321411 | Accuracy: 65.625%\n",
            "GB | Epoch 3 | Loss: 0.6032541394233704 | Accuracy: 73.4375%\n",
            "GB | Epoch 3 | Loss: 0.632227897644043 | Accuracy: 75.0%\n",
            "GB | Epoch 3 | Loss: 0.5684676766395569 | Accuracy: 71.875%\n",
            "GB | Epoch 3 | Loss: 0.7772216796875 | Accuracy: 62.5%\n",
            "GB | Epoch 3 | Loss: 0.6975035667419434 | Accuracy: 73.4375%\n",
            "GB | Epoch 3 | Loss: 0.7589748501777649 | Accuracy: 64.0625%\n",
            "GB | Epoch 3 | Loss: 0.753751277923584 | Accuracy: 67.1875%\n",
            "GB | Epoch 3 | Loss: 0.769260823726654 | Accuracy: 65.625%\n",
            "GB | Epoch 3 | Loss: 0.5785767436027527 | Accuracy: 79.6875%\n",
            "GB | Epoch 3 | Loss: 0.6936705708503723 | Accuracy: 67.1875%\n",
            "GB | Epoch 3 | Loss: 0.6421284675598145 | Accuracy: 76.5625%\n",
            "GB | Epoch 3 | Loss: 0.6229274868965149 | Accuracy: 79.6875%\n",
            "GB | Epoch 3 | Loss: 0.6741059422492981 | Accuracy: 65.625%\n",
            "GB | Epoch 3 | Loss: 0.6712138652801514 | Accuracy: 73.4375%\n",
            "GB | Epoch 3 | Loss: 0.7754032611846924 | Accuracy: 73.4375%\n",
            "GB | Epoch 3 | Loss: 0.6173988580703735 | Accuracy: 76.5625%\n"
          ]
        },
        {
          "name": "stderr",
          "output_type": "stream",
          "text": [
            "Epoch 3:  98%|█████████▊| 738/751 [00:06<00:00, 101.74batch/s, accuracy=75.0%, loss=0.441]  "
          ]
        },
        {
          "name": "stdout",
          "output_type": "stream",
          "text": [
            "GB | Epoch 3 | Loss: 0.6540131568908691 | Accuracy: 73.4375%\n",
            "GB | Epoch 3 | Loss: 0.5917307734489441 | Accuracy: 75.0%\n",
            "GB | Epoch 3 | Loss: 0.6417973637580872 | Accuracy: 78.125%\n",
            "GB | Epoch 3 | Loss: 0.5224866271018982 | Accuracy: 76.5625%\n",
            "GB | Epoch 3 | Loss: 0.6381440758705139 | Accuracy: 73.4375%\n",
            "GB | Epoch 3 | Loss: 0.6340330839157104 | Accuracy: 78.125%\n",
            "GB | Epoch 3 | Loss: 0.6275503635406494 | Accuracy: 78.125%\n",
            "GB | Epoch 3 | Loss: 0.6285839676856995 | Accuracy: 76.5625%\n",
            "GB | Epoch 3 | Loss: 0.5906655788421631 | Accuracy: 78.125%\n",
            "GB | Epoch 3 | Loss: 0.8597791790962219 | Accuracy: 65.625%\n",
            "GB | Epoch 3 | Loss: 0.6452527046203613 | Accuracy: 73.4375%\n",
            "GB | Epoch 3 | Loss: 0.6068333387374878 | Accuracy: 71.875%\n",
            "GB | Epoch 3 | Loss: 0.4412265419960022 | Accuracy: 75.0%\n"
          ]
        },
        {
          "name": "stderr",
          "output_type": "stream",
          "text": [
            "Epoch 3: 100%|██████████| 751/751 [00:07<00:00, 104.32batch/s, accuracy=75.0%, loss=0.441]\n",
            "Epoch 4:   1%|▏         | 10/751 [00:00<00:31, 23.77batch/s, accuracy=79.6875%, loss=0.52] "
          ]
        },
        {
          "name": "stdout",
          "output_type": "stream",
          "text": [
            "GB | Epoch 4 | Loss: 0.7010931968688965 | Accuracy: 68.75%\n",
            "GB | Epoch 4 | Loss: 0.6372593641281128 | Accuracy: 71.875%\n",
            "GB | Epoch 4 | Loss: 0.5838366150856018 | Accuracy: 71.875%\n",
            "GB | Epoch 4 | Loss: 0.5713692903518677 | Accuracy: 81.25%\n",
            "GB | Epoch 4 | Loss: 0.7218456864356995 | Accuracy: 64.0625%\n",
            "GB | Epoch 4 | Loss: 0.7003427147865295 | Accuracy: 73.4375%\n",
            "GB | Epoch 4 | Loss: 0.6847567558288574 | Accuracy: 71.875%\n",
            "GB | Epoch 4 | Loss: 0.642633855342865 | Accuracy: 78.125%\n",
            "GB | Epoch 4 | Loss: 0.6106746196746826 | Accuracy: 75.0%\n",
            "GB | Epoch 4 | Loss: 0.6195652484893799 | Accuracy: 75.0%\n",
            "GB | Epoch 4 | Loss: 0.7701462507247925 | Accuracy: 67.1875%\n",
            "GB | Epoch 4 | Loss: 0.6727849245071411 | Accuracy: 70.3125%\n",
            "GB | Epoch 4 | Loss: 0.7835953831672668 | Accuracy: 65.625%\n",
            "GB | Epoch 4 | Loss: 0.6700088381767273 | Accuracy: 68.75%\n",
            "GB | Epoch 4 | Loss: 0.6913502812385559 | Accuracy: 71.875%\n",
            "GB | Epoch 4 | Loss: 0.8065640330314636 | Accuracy: 60.9375%\n",
            "GB | Epoch 4 | Loss: 0.7314987778663635 | Accuracy: 73.4375%\n",
            "GB | Epoch 4 | Loss: 0.5202170014381409 | Accuracy: 79.6875%\n"
          ]
        },
        {
          "name": "stderr",
          "output_type": "stream",
          "text": [
            "Epoch 4:   4%|▍         | 30/751 [00:00<00:12, 57.52batch/s, accuracy=67.1875%, loss=0.731]"
          ]
        },
        {
          "name": "stdout",
          "output_type": "stream",
          "text": [
            "GB | Epoch 4 | Loss: 0.621243953704834 | Accuracy: 73.4375%\n",
            "GB | Epoch 4 | Loss: 0.5968201756477356 | Accuracy: 75.0%\n",
            "GB | Epoch 4 | Loss: 0.6354606747627258 | Accuracy: 76.5625%\n",
            "GB | Epoch 4 | Loss: 0.42747563123703003 | Accuracy: 87.5%\n",
            "GB | Epoch 4 | Loss: 0.8702632188796997 | Accuracy: 59.375%\n",
            "GB | Epoch 4 | Loss: 0.5091360211372375 | Accuracy: 75.0%\n",
            "GB | Epoch 4 | Loss: 0.7174962759017944 | Accuracy: 68.75%\n",
            "GB | Epoch 4 | Loss: 0.7614114284515381 | Accuracy: 64.0625%\n",
            "GB | Epoch 4 | Loss: 0.594362735748291 | Accuracy: 78.125%\n",
            "GB | Epoch 4 | Loss: 0.5800685286521912 | Accuracy: 70.3125%\n",
            "GB | Epoch 4 | Loss: 0.5672624707221985 | Accuracy: 75.0%\n",
            "GB | Epoch 4 | Loss: 0.7570249438285828 | Accuracy: 68.75%\n",
            "GB | Epoch 4 | Loss: 0.5859207510948181 | Accuracy: 76.5625%\n",
            "GB | Epoch 4 | Loss: 0.5892319083213806 | Accuracy: 73.4375%\n",
            "GB | Epoch 4 | Loss: 0.873489499092102 | Accuracy: 59.375%\n",
            "GB | Epoch 4 | Loss: 0.5478105545043945 | Accuracy: 82.8125%\n",
            "GB | Epoch 4 | Loss: 0.6906369924545288 | Accuracy: 70.3125%\n",
            "GB | Epoch 4 | Loss: 0.7478526830673218 | Accuracy: 67.1875%\n",
            "GB | Epoch 4 | Loss: 0.5809018611907959 | Accuracy: 84.375%\n",
            "GB | Epoch 4 | Loss: 0.7313401699066162 | Accuracy: 67.1875%\n"
          ]
        },
        {
          "name": "stderr",
          "output_type": "stream",
          "text": [
            "Epoch 4:   7%|▋         | 51/751 [00:01<00:09, 77.67batch/s, accuracy=64.0625%, loss=0.752]"
          ]
        },
        {
          "name": "stdout",
          "output_type": "stream",
          "text": [
            "GB | Epoch 4 | Loss: 0.648862898349762 | Accuracy: 75.0%\n",
            "GB | Epoch 4 | Loss: 0.7380698919296265 | Accuracy: 64.0625%\n",
            "GB | Epoch 4 | Loss: 0.7142084836959839 | Accuracy: 76.5625%\n",
            "GB | Epoch 4 | Loss: 0.8344156742095947 | Accuracy: 65.625%\n",
            "GB | Epoch 4 | Loss: 0.5719686150550842 | Accuracy: 82.8125%\n",
            "GB | Epoch 4 | Loss: 0.6186779141426086 | Accuracy: 71.875%\n",
            "GB | Epoch 4 | Loss: 0.6055895090103149 | Accuracy: 75.0%\n",
            "GB | Epoch 4 | Loss: 0.8466516137123108 | Accuracy: 64.0625%\n",
            "GB | Epoch 4 | Loss: 0.6879956126213074 | Accuracy: 67.1875%\n",
            "GB | Epoch 4 | Loss: 0.7878218293190002 | Accuracy: 59.375%\n",
            "GB | Epoch 4 | Loss: 0.5725358724594116 | Accuracy: 68.75%\n",
            "GB | Epoch 4 | Loss: 0.678167462348938 | Accuracy: 67.1875%\n",
            "GB | Epoch 4 | Loss: 0.7996802926063538 | Accuracy: 64.0625%\n",
            "GB | Epoch 4 | Loss: 0.5093176364898682 | Accuracy: 82.8125%\n",
            "GB | Epoch 4 | Loss: 0.6877256035804749 | Accuracy: 73.4375%\n",
            "GB | Epoch 4 | Loss: 0.6075286269187927 | Accuracy: 78.125%\n",
            "GB | Epoch 4 | Loss: 0.6636995077133179 | Accuracy: 68.75%\n",
            "GB | Epoch 4 | Loss: 0.7071622014045715 | Accuracy: 70.3125%\n",
            "GB | Epoch 4 | Loss: 0.656551718711853 | Accuracy: 64.0625%\n",
            "GB | Epoch 4 | Loss: 0.6579672694206238 | Accuracy: 75.0%\n",
            "GB | Epoch 4 | Loss: 0.5541979670524597 | Accuracy: 81.25%\n"
          ]
        },
        {
          "name": "stderr",
          "output_type": "stream",
          "text": [
            "Epoch 4:  10%|▉         | 74/751 [00:01<00:07, 94.62batch/s, accuracy=73.4375%, loss=0.615]"
          ]
        },
        {
          "name": "stdout",
          "output_type": "stream",
          "text": [
            "GB | Epoch 4 | Loss: 0.7521361708641052 | Accuracy: 64.0625%\n",
            "GB | Epoch 4 | Loss: 0.6288764476776123 | Accuracy: 76.5625%\n",
            "GB | Epoch 4 | Loss: 0.5359697341918945 | Accuracy: 82.8125%\n",
            "GB | Epoch 4 | Loss: 0.609043300151825 | Accuracy: 73.4375%\n",
            "GB | Epoch 4 | Loss: 0.642426073551178 | Accuracy: 73.4375%\n",
            "GB | Epoch 4 | Loss: 0.6378807425498962 | Accuracy: 73.4375%\n",
            "GB | Epoch 4 | Loss: 0.5594035983085632 | Accuracy: 71.875%\n",
            "GB | Epoch 4 | Loss: 0.5731993913650513 | Accuracy: 76.5625%\n",
            "GB | Epoch 4 | Loss: 0.575632631778717 | Accuracy: 82.8125%\n",
            "GB | Epoch 4 | Loss: 0.6050845384597778 | Accuracy: 78.125%\n",
            "GB | Epoch 4 | Loss: 0.7156363129615784 | Accuracy: 64.0625%\n",
            "GB | Epoch 4 | Loss: 0.6875550150871277 | Accuracy: 68.75%\n",
            "GB | Epoch 4 | Loss: 0.6787252426147461 | Accuracy: 70.3125%\n",
            "GB | Epoch 4 | Loss: 0.6889240741729736 | Accuracy: 75.0%\n",
            "GB | Epoch 4 | Loss: 0.5487409830093384 | Accuracy: 76.5625%\n",
            "GB | Epoch 4 | Loss: 0.6528565883636475 | Accuracy: 75.0%\n",
            "GB | Epoch 4 | Loss: 0.5288246870040894 | Accuracy: 79.6875%\n",
            "GB | Epoch 4 | Loss: 0.5742784738540649 | Accuracy: 71.875%\n",
            "GB | Epoch 4 | Loss: 0.6523302793502808 | Accuracy: 68.75%\n",
            "GB | Epoch 4 | Loss: 0.7427850961685181 | Accuracy: 57.8125%\n",
            "GB | Epoch 4 | Loss: 0.5841184258460999 | Accuracy: 71.875%\n",
            "GB | Epoch 4 | Loss: 0.5621511340141296 | Accuracy: 78.125%\n",
            "GB | Epoch 4 | Loss: 0.6152084469795227 | Accuracy: 73.4375%\n"
          ]
        },
        {
          "name": "stderr",
          "output_type": "stream",
          "text": [
            "Epoch 4:  13%|█▎        | 98/751 [00:01<00:06, 106.12batch/s, accuracy=71.875%, loss=0.665]"
          ]
        },
        {
          "name": "stdout",
          "output_type": "stream",
          "text": [
            "GB | Epoch 4 | Loss: 0.774467945098877 | Accuracy: 68.75%\n",
            "GB | Epoch 4 | Loss: 0.7216261029243469 | Accuracy: 75.0%\n",
            "GB | Epoch 4 | Loss: 0.5536683797836304 | Accuracy: 75.0%\n",
            "GB | Epoch 4 | Loss: 0.6909986734390259 | Accuracy: 71.875%\n",
            "GB | Epoch 4 | Loss: 0.47313135862350464 | Accuracy: 76.5625%\n",
            "GB | Epoch 4 | Loss: 0.6110461950302124 | Accuracy: 71.875%\n",
            "GB | Epoch 4 | Loss: 0.6910150647163391 | Accuracy: 71.875%\n",
            "GB | Epoch 4 | Loss: 0.6069995760917664 | Accuracy: 68.75%\n",
            "GB | Epoch 4 | Loss: 0.7187194228172302 | Accuracy: 73.4375%\n",
            "GB | Epoch 4 | Loss: 0.537651777267456 | Accuracy: 81.25%\n",
            "GB | Epoch 4 | Loss: 0.8063054084777832 | Accuracy: 70.3125%\n",
            "GB | Epoch 4 | Loss: 0.6668086051940918 | Accuracy: 71.875%\n",
            "GB | Epoch 4 | Loss: 0.8389154672622681 | Accuracy: 64.0625%\n",
            "GB | Epoch 4 | Loss: 0.6925086379051208 | Accuracy: 76.5625%\n",
            "GB | Epoch 4 | Loss: 0.6241499185562134 | Accuracy: 76.5625%\n",
            "GB | Epoch 4 | Loss: 0.4530812203884125 | Accuracy: 82.8125%\n",
            "GB | Epoch 4 | Loss: 0.6789332032203674 | Accuracy: 73.4375%\n",
            "GB | Epoch 4 | Loss: 0.5317894816398621 | Accuracy: 79.6875%\n",
            "GB | Epoch 4 | Loss: 0.6478962898254395 | Accuracy: 78.125%\n",
            "GB | Epoch 4 | Loss: 0.6596560478210449 | Accuracy: 75.0%\n",
            "GB | Epoch 4 | Loss: 0.7256030440330505 | Accuracy: 76.5625%\n",
            "GB | Epoch 4 | Loss: 0.6273979544639587 | Accuracy: 75.0%\n",
            "GB | Epoch 4 | Loss: 0.7166224718093872 | Accuracy: 65.625%\n",
            "GB | Epoch 4 | Loss: 0.5690587759017944 | Accuracy: 75.0%\n",
            "GB | Epoch 4 | Loss: 0.6646767258644104 | Accuracy: 71.875%\n"
          ]
        },
        {
          "name": "stderr",
          "output_type": "stream",
          "text": [
            "Epoch 4:  17%|█▋        | 124/751 [00:01<00:05, 114.51batch/s, accuracy=76.5625%, loss=0.593]"
          ]
        },
        {
          "name": "stdout",
          "output_type": "stream",
          "text": [
            "GB | Epoch 4 | Loss: 0.7616943120956421 | Accuracy: 62.5%\n",
            "GB | Epoch 4 | Loss: 0.5797269940376282 | Accuracy: 71.875%\n",
            "GB | Epoch 4 | Loss: 0.7136355042457581 | Accuracy: 70.3125%\n",
            "GB | Epoch 4 | Loss: 0.6042300462722778 | Accuracy: 78.125%\n",
            "GB | Epoch 4 | Loss: 0.6662285923957825 | Accuracy: 79.6875%\n",
            "GB | Epoch 4 | Loss: 0.6355990171432495 | Accuracy: 71.875%\n",
            "GB | Epoch 4 | Loss: 0.6917589902877808 | Accuracy: 70.3125%\n",
            "GB | Epoch 4 | Loss: 0.5185015201568604 | Accuracy: 76.5625%\n",
            "GB | Epoch 4 | Loss: 0.5405163168907166 | Accuracy: 79.6875%\n",
            "GB | Epoch 4 | Loss: 0.5593512058258057 | Accuracy: 82.8125%\n",
            "GB | Epoch 4 | Loss: 0.7201032042503357 | Accuracy: 65.625%\n",
            "GB | Epoch 4 | Loss: 0.8787811398506165 | Accuracy: 59.375%\n",
            "GB | Epoch 4 | Loss: 0.7817898988723755 | Accuracy: 65.625%\n",
            "GB | Epoch 4 | Loss: 0.6251044273376465 | Accuracy: 73.4375%\n",
            "GB | Epoch 4 | Loss: 0.6182417869567871 | Accuracy: 70.3125%\n",
            "GB | Epoch 4 | Loss: 0.6130691170692444 | Accuracy: 73.4375%\n",
            "GB | Epoch 4 | Loss: 0.5926139950752258 | Accuracy: 78.125%\n",
            "GB | Epoch 4 | Loss: 0.6427329778671265 | Accuracy: 78.125%\n",
            "GB | Epoch 4 | Loss: 0.7584757804870605 | Accuracy: 78.125%\n",
            "GB | Epoch 4 | Loss: 0.7211207151412964 | Accuracy: 71.875%\n",
            "GB | Epoch 4 | Loss: 0.5957219004631042 | Accuracy: 76.5625%\n",
            "GB | Epoch 4 | Loss: 0.49674373865127563 | Accuracy: 82.8125%\n",
            "GB | Epoch 4 | Loss: 0.7281267046928406 | Accuracy: 67.1875%\n",
            "GB | Epoch 4 | Loss: 0.6634432077407837 | Accuracy: 73.4375%\n",
            "GB | Epoch 4 | Loss: 0.5927420854568481 | Accuracy: 76.5625%\n"
          ]
        },
        {
          "name": "stderr",
          "output_type": "stream",
          "text": [
            "Epoch 4:  20%|██        | 151/751 [00:01<00:05, 117.70batch/s, accuracy=76.5625%, loss=0.568]"
          ]
        },
        {
          "name": "stdout",
          "output_type": "stream",
          "text": [
            "GB | Epoch 4 | Loss: 0.5297936201095581 | Accuracy: 84.375%\n",
            "GB | Epoch 4 | Loss: 0.7720919847488403 | Accuracy: 64.0625%\n",
            "GB | Epoch 4 | Loss: 0.5442387461662292 | Accuracy: 82.8125%\n",
            "GB | Epoch 4 | Loss: 0.6167568564414978 | Accuracy: 75.0%\n",
            "GB | Epoch 4 | Loss: 0.6039391160011292 | Accuracy: 73.4375%\n",
            "GB | Epoch 4 | Loss: 0.7721760272979736 | Accuracy: 70.3125%\n",
            "GB | Epoch 4 | Loss: 0.6499338150024414 | Accuracy: 70.3125%\n",
            "GB | Epoch 4 | Loss: 0.624701976776123 | Accuracy: 76.5625%\n",
            "GB | Epoch 4 | Loss: 0.6726512908935547 | Accuracy: 70.3125%\n",
            "GB | Epoch 4 | Loss: 0.6075462102890015 | Accuracy: 76.5625%\n",
            "GB | Epoch 4 | Loss: 0.6128091216087341 | Accuracy: 73.4375%\n",
            "GB | Epoch 4 | Loss: 0.5576674342155457 | Accuracy: 70.3125%\n",
            "GB | Epoch 4 | Loss: 0.6798103451728821 | Accuracy: 70.3125%\n",
            "GB | Epoch 4 | Loss: 0.7376622557640076 | Accuracy: 65.625%\n",
            "GB | Epoch 4 | Loss: 0.668519139289856 | Accuracy: 68.75%\n",
            "GB | Epoch 4 | Loss: 0.7415941953659058 | Accuracy: 73.4375%\n",
            "GB | Epoch 4 | Loss: 0.5248178243637085 | Accuracy: 82.8125%\n",
            "GB | Epoch 4 | Loss: 0.6188016533851624 | Accuracy: 65.625%\n",
            "GB | Epoch 4 | Loss: 0.5099373459815979 | Accuracy: 81.25%\n",
            "GB | Epoch 4 | Loss: 0.6450543999671936 | Accuracy: 71.875%\n",
            "GB | Epoch 4 | Loss: 0.678471565246582 | Accuracy: 71.875%\n",
            "GB | Epoch 4 | Loss: 0.5665757060050964 | Accuracy: 78.125%\n",
            "GB | Epoch 4 | Loss: 0.5506901144981384 | Accuracy: 81.25%\n",
            "GB | Epoch 4 | Loss: 0.6005569696426392 | Accuracy: 70.3125%\n",
            "GB | Epoch 4 | Loss: 0.5682604908943176 | Accuracy: 76.5625%\n"
          ]
        },
        {
          "name": "stderr",
          "output_type": "stream",
          "text": [
            "Epoch 4:  23%|██▎       | 176/751 [00:02<00:05, 114.33batch/s, accuracy=73.4375%, loss=0.551]"
          ]
        },
        {
          "name": "stdout",
          "output_type": "stream",
          "text": [
            "GB | Epoch 4 | Loss: 0.6486961841583252 | Accuracy: 73.4375%\n",
            "GB | Epoch 4 | Loss: 0.527649998664856 | Accuracy: 75.0%\n",
            "GB | Epoch 4 | Loss: 0.5354090332984924 | Accuracy: 78.125%\n",
            "GB | Epoch 4 | Loss: 0.5958083271980286 | Accuracy: 70.3125%\n",
            "GB | Epoch 4 | Loss: 0.5117565393447876 | Accuracy: 75.0%\n",
            "GB | Epoch 4 | Loss: 0.5549538135528564 | Accuracy: 76.5625%\n",
            "GB | Epoch 4 | Loss: 0.562473475933075 | Accuracy: 78.125%\n",
            "GB | Epoch 4 | Loss: 0.5802400708198547 | Accuracy: 78.125%\n",
            "GB | Epoch 4 | Loss: 0.61476069688797 | Accuracy: 75.0%\n",
            "GB | Epoch 4 | Loss: 0.5892730355262756 | Accuracy: 81.25%\n",
            "GB | Epoch 4 | Loss: 0.6933049559593201 | Accuracy: 68.75%\n",
            "GB | Epoch 4 | Loss: 0.6467880010604858 | Accuracy: 67.1875%\n",
            "GB | Epoch 4 | Loss: 0.8092176914215088 | Accuracy: 64.0625%\n",
            "GB | Epoch 4 | Loss: 0.633699893951416 | Accuracy: 78.125%\n",
            "GB | Epoch 4 | Loss: 0.6371325850486755 | Accuracy: 75.0%\n",
            "GB | Epoch 4 | Loss: 0.5811613202095032 | Accuracy: 73.4375%\n",
            "GB | Epoch 4 | Loss: 0.5101538300514221 | Accuracy: 79.6875%\n",
            "GB | Epoch 4 | Loss: 0.5122718811035156 | Accuracy: 78.125%\n",
            "GB | Epoch 4 | Loss: 0.7124452590942383 | Accuracy: 71.875%\n",
            "GB | Epoch 4 | Loss: 0.5744263529777527 | Accuracy: 75.0%\n",
            "GB | Epoch 4 | Loss: 0.45968368649482727 | Accuracy: 82.8125%\n",
            "GB | Epoch 4 | Loss: 0.6255930662155151 | Accuracy: 78.125%\n"
          ]
        },
        {
          "name": "stderr",
          "output_type": "stream",
          "text": [
            "Epoch 4:  27%|██▋       | 201/751 [00:02<00:04, 117.02batch/s, accuracy=62.5%, loss=0.77]   "
          ]
        },
        {
          "name": "stdout",
          "output_type": "stream",
          "text": [
            "GB | Epoch 4 | Loss: 0.5509788393974304 | Accuracy: 73.4375%\n",
            "GB | Epoch 4 | Loss: 0.6223405003547668 | Accuracy: 71.875%\n",
            "GB | Epoch 4 | Loss: 0.5273020267486572 | Accuracy: 79.6875%\n",
            "GB | Epoch 4 | Loss: 0.7328917384147644 | Accuracy: 67.1875%\n",
            "GB | Epoch 4 | Loss: 0.6917611360549927 | Accuracy: 73.4375%\n",
            "GB | Epoch 4 | Loss: 0.5703996419906616 | Accuracy: 82.8125%\n",
            "GB | Epoch 4 | Loss: 0.5448752045631409 | Accuracy: 75.0%\n",
            "GB | Epoch 4 | Loss: 0.6128273010253906 | Accuracy: 70.3125%\n",
            "GB | Epoch 4 | Loss: 0.7406871318817139 | Accuracy: 75.0%\n",
            "GB | Epoch 4 | Loss: 0.5337925553321838 | Accuracy: 76.5625%\n",
            "GB | Epoch 4 | Loss: 0.5639328956604004 | Accuracy: 73.4375%\n",
            "GB | Epoch 4 | Loss: 0.6306883096694946 | Accuracy: 70.3125%\n",
            "GB | Epoch 4 | Loss: 0.6854308247566223 | Accuracy: 70.3125%\n",
            "GB | Epoch 4 | Loss: 0.5573355555534363 | Accuracy: 81.25%\n",
            "GB | Epoch 4 | Loss: 0.6420366168022156 | Accuracy: 65.625%\n",
            "GB | Epoch 4 | Loss: 0.5950431823730469 | Accuracy: 71.875%\n",
            "GB | Epoch 4 | Loss: 0.5624626278877258 | Accuracy: 78.125%\n",
            "GB | Epoch 4 | Loss: 0.6484336256980896 | Accuracy: 68.75%\n",
            "GB | Epoch 4 | Loss: 0.7209882140159607 | Accuracy: 67.1875%\n",
            "GB | Epoch 4 | Loss: 0.5779215693473816 | Accuracy: 78.125%\n",
            "GB | Epoch 4 | Loss: 0.5271389484405518 | Accuracy: 81.25%\n",
            "GB | Epoch 4 | Loss: 0.6820913553237915 | Accuracy: 75.0%\n",
            "GB | Epoch 4 | Loss: 0.6111516356468201 | Accuracy: 73.4375%\n",
            "GB | Epoch 4 | Loss: 0.5303913354873657 | Accuracy: 79.6875%\n",
            "GB | Epoch 4 | Loss: 0.7699282169342041 | Accuracy: 62.5%\n"
          ]
        },
        {
          "name": "stderr",
          "output_type": "stream",
          "text": [
            "Epoch 4:  30%|███       | 226/751 [00:02<00:04, 118.59batch/s, accuracy=67.1875%, loss=0.636]"
          ]
        },
        {
          "name": "stdout",
          "output_type": "stream",
          "text": [
            "GB | Epoch 4 | Loss: 0.6445755362510681 | Accuracy: 65.625%\n",
            "GB | Epoch 4 | Loss: 0.7167489528656006 | Accuracy: 68.75%\n",
            "GB | Epoch 4 | Loss: 0.6989305019378662 | Accuracy: 70.3125%\n",
            "GB | Epoch 4 | Loss: 0.651908278465271 | Accuracy: 65.625%\n",
            "GB | Epoch 4 | Loss: 0.527350664138794 | Accuracy: 71.875%\n",
            "GB | Epoch 4 | Loss: 0.5103074312210083 | Accuracy: 82.8125%\n",
            "GB | Epoch 4 | Loss: 0.6025970578193665 | Accuracy: 78.125%\n",
            "GB | Epoch 4 | Loss: 0.5818101763725281 | Accuracy: 75.0%\n",
            "GB | Epoch 4 | Loss: 0.5245032906532288 | Accuracy: 79.6875%\n",
            "GB | Epoch 4 | Loss: 0.5556149482727051 | Accuracy: 70.3125%\n",
            "GB | Epoch 4 | Loss: 0.6462892293930054 | Accuracy: 78.125%\n",
            "GB | Epoch 4 | Loss: 0.6770596504211426 | Accuracy: 71.875%\n",
            "GB | Epoch 4 | Loss: 0.5544459819793701 | Accuracy: 73.4375%\n",
            "GB | Epoch 4 | Loss: 0.6155827045440674 | Accuracy: 73.4375%\n",
            "GB | Epoch 4 | Loss: 0.7073960900306702 | Accuracy: 70.3125%\n",
            "GB | Epoch 4 | Loss: 0.4674283564090729 | Accuracy: 81.25%\n",
            "GB | Epoch 4 | Loss: 0.6350980401039124 | Accuracy: 68.75%\n",
            "GB | Epoch 4 | Loss: 0.5498077273368835 | Accuracy: 81.25%\n",
            "GB | Epoch 4 | Loss: 0.44636034965515137 | Accuracy: 82.8125%\n",
            "GB | Epoch 4 | Loss: 0.7189953327178955 | Accuracy: 73.4375%\n",
            "GB | Epoch 4 | Loss: 0.6242150664329529 | Accuracy: 76.5625%\n",
            "GB | Epoch 4 | Loss: 0.5008260011672974 | Accuracy: 76.5625%\n",
            "GB | Epoch 4 | Loss: 0.5734454393386841 | Accuracy: 81.25%\n",
            "GB | Epoch 4 | Loss: 0.6356848478317261 | Accuracy: 67.1875%\n"
          ]
        },
        {
          "name": "stderr",
          "output_type": "stream",
          "text": [
            "Epoch 4:  33%|███▎      | 251/751 [00:02<00:04, 120.10batch/s, accuracy=85.9375%, loss=0.324]"
          ]
        },
        {
          "name": "stdout",
          "output_type": "stream",
          "text": [
            "GB | Epoch 4 | Loss: 0.5822404623031616 | Accuracy: 79.6875%\n",
            "GB | Epoch 4 | Loss: 0.5615891814231873 | Accuracy: 76.5625%\n",
            "GB | Epoch 4 | Loss: 0.5151088833808899 | Accuracy: 82.8125%\n",
            "GB | Epoch 4 | Loss: 0.5903148055076599 | Accuracy: 78.125%\n",
            "GB | Epoch 4 | Loss: 0.5743052363395691 | Accuracy: 75.0%\n",
            "GB | Epoch 4 | Loss: 0.5746437311172485 | Accuracy: 76.5625%\n",
            "GB | Epoch 4 | Loss: 0.6569341421127319 | Accuracy: 71.875%\n",
            "GB | Epoch 4 | Loss: 0.4251846671104431 | Accuracy: 84.375%\n",
            "GB | Epoch 4 | Loss: 0.6564155220985413 | Accuracy: 71.875%\n",
            "GB | Epoch 4 | Loss: 0.5165308713912964 | Accuracy: 75.0%\n",
            "GB | Epoch 4 | Loss: 0.6203621625900269 | Accuracy: 78.125%\n",
            "GB | Epoch 4 | Loss: 0.7146511077880859 | Accuracy: 68.75%\n",
            "GB | Epoch 4 | Loss: 0.43892598152160645 | Accuracy: 82.8125%\n",
            "GB | Epoch 4 | Loss: 0.73960942029953 | Accuracy: 65.625%\n",
            "GB | Epoch 4 | Loss: 0.5662844777107239 | Accuracy: 75.0%\n",
            "GB | Epoch 4 | Loss: 0.5845768451690674 | Accuracy: 79.6875%\n",
            "GB | Epoch 4 | Loss: 0.600864589214325 | Accuracy: 73.4375%\n",
            "GB | Epoch 4 | Loss: 0.5656875967979431 | Accuracy: 76.5625%\n",
            "GB | Epoch 4 | Loss: 0.5527001619338989 | Accuracy: 82.8125%\n",
            "GB | Epoch 4 | Loss: 0.6318967342376709 | Accuracy: 68.75%\n",
            "GB | Epoch 4 | Loss: 0.5535088777542114 | Accuracy: 84.375%\n",
            "GB | Epoch 4 | Loss: 0.6158233284950256 | Accuracy: 70.3125%\n",
            "GB | Epoch 4 | Loss: 0.5027526021003723 | Accuracy: 76.5625%\n",
            "GB | Epoch 4 | Loss: 0.6733023524284363 | Accuracy: 70.3125%\n",
            "GB | Epoch 4 | Loss: 0.32378238439559937 | Accuracy: 85.9375%\n"
          ]
        },
        {
          "name": "stderr",
          "output_type": "stream",
          "text": [
            "Epoch 4:  37%|███▋      | 277/751 [00:02<00:03, 119.81batch/s, accuracy=71.875%, loss=0.654] "
          ]
        },
        {
          "name": "stdout",
          "output_type": "stream",
          "text": [
            "GB | Epoch 4 | Loss: 0.807733416557312 | Accuracy: 65.625%\n",
            "GB | Epoch 4 | Loss: 0.7502288222312927 | Accuracy: 78.125%\n",
            "GB | Epoch 4 | Loss: 0.5431598424911499 | Accuracy: 76.5625%\n",
            "GB | Epoch 4 | Loss: 0.5911468267440796 | Accuracy: 76.5625%\n",
            "GB | Epoch 4 | Loss: 0.6193649172782898 | Accuracy: 73.4375%\n",
            "GB | Epoch 4 | Loss: 0.517517626285553 | Accuracy: 81.25%\n",
            "GB | Epoch 4 | Loss: 0.48287907242774963 | Accuracy: 76.5625%\n",
            "GB | Epoch 4 | Loss: 0.6387795805931091 | Accuracy: 73.4375%\n",
            "GB | Epoch 4 | Loss: 0.4786059558391571 | Accuracy: 85.9375%\n",
            "GB | Epoch 4 | Loss: 0.6523148417472839 | Accuracy: 67.1875%\n",
            "GB | Epoch 4 | Loss: 0.5975562930107117 | Accuracy: 75.0%\n",
            "GB | Epoch 4 | Loss: 0.4859996438026428 | Accuracy: 81.25%\n",
            "GB | Epoch 4 | Loss: 0.5209625363349915 | Accuracy: 84.375%\n",
            "GB | Epoch 4 | Loss: 0.5811572074890137 | Accuracy: 79.6875%\n",
            "GB | Epoch 4 | Loss: 0.3801884651184082 | Accuracy: 84.375%\n",
            "GB | Epoch 4 | Loss: 0.7333746552467346 | Accuracy: 75.0%\n",
            "GB | Epoch 4 | Loss: 0.5824128985404968 | Accuracy: 81.25%\n",
            "GB | Epoch 4 | Loss: 0.5040667057037354 | Accuracy: 85.9375%\n",
            "GB | Epoch 4 | Loss: 0.6024206280708313 | Accuracy: 76.5625%\n",
            "GB | Epoch 4 | Loss: 0.5329898595809937 | Accuracy: 78.125%\n",
            "GB | Epoch 4 | Loss: 0.5436320304870605 | Accuracy: 78.125%\n",
            "GB | Epoch 4 | Loss: 0.45756995677948 | Accuracy: 82.8125%\n",
            "GB | Epoch 4 | Loss: 0.717097282409668 | Accuracy: 68.75%\n",
            "GB | Epoch 4 | Loss: 0.6052857637405396 | Accuracy: 70.3125%\n",
            "GB | Epoch 4 | Loss: 0.6538375020027161 | Accuracy: 71.875%\n"
          ]
        },
        {
          "name": "stderr",
          "output_type": "stream",
          "text": [
            "Epoch 4:  40%|████      | 301/751 [00:03<00:03, 114.92batch/s, accuracy=78.125%, loss=0.504]"
          ]
        },
        {
          "name": "stdout",
          "output_type": "stream",
          "text": [
            "GB | Epoch 4 | Loss: 0.6851903796195984 | Accuracy: 73.4375%\n",
            "GB | Epoch 4 | Loss: 0.6524680852890015 | Accuracy: 76.5625%\n",
            "GB | Epoch 4 | Loss: 0.6249328255653381 | Accuracy: 75.0%\n",
            "GB | Epoch 4 | Loss: 0.48474788665771484 | Accuracy: 81.25%\n",
            "GB | Epoch 4 | Loss: 0.6540790796279907 | Accuracy: 68.75%\n",
            "GB | Epoch 4 | Loss: 0.6612185835838318 | Accuracy: 71.875%\n",
            "GB | Epoch 4 | Loss: 0.5622243285179138 | Accuracy: 76.5625%\n",
            "GB | Epoch 4 | Loss: 0.6486674547195435 | Accuracy: 68.75%\n",
            "GB | Epoch 4 | Loss: 0.5455645322799683 | Accuracy: 82.8125%\n",
            "GB | Epoch 4 | Loss: 0.6485368609428406 | Accuracy: 76.5625%\n",
            "GB | Epoch 4 | Loss: 0.49596598744392395 | Accuracy: 79.6875%\n",
            "GB | Epoch 4 | Loss: 0.6201912760734558 | Accuracy: 73.4375%\n",
            "GB | Epoch 4 | Loss: 0.5071290135383606 | Accuracy: 78.125%\n",
            "GB | Epoch 4 | Loss: 0.6030491590499878 | Accuracy: 76.5625%\n",
            "GB | Epoch 4 | Loss: 0.7444671988487244 | Accuracy: 71.875%\n",
            "GB | Epoch 4 | Loss: 0.48732367157936096 | Accuracy: 87.5%\n",
            "GB | Epoch 4 | Loss: 0.5826858282089233 | Accuracy: 79.6875%\n",
            "GB | Epoch 4 | Loss: 0.33297979831695557 | Accuracy: 87.5%\n",
            "GB | Epoch 4 | Loss: 0.567817747592926 | Accuracy: 78.125%\n",
            "GB | Epoch 4 | Loss: 0.5316449999809265 | Accuracy: 76.5625%\n",
            "GB | Epoch 4 | Loss: 0.6154437065124512 | Accuracy: 73.4375%\n",
            "GB | Epoch 4 | Loss: 0.6174660921096802 | Accuracy: 79.6875%\n",
            "GB | Epoch 4 | Loss: 0.5037840008735657 | Accuracy: 78.125%\n"
          ]
        },
        {
          "name": "stderr",
          "output_type": "stream",
          "text": [
            "Epoch 4:  42%|████▏     | 313/751 [00:03<00:03, 115.68batch/s, accuracy=76.5625%, loss=0.557]"
          ]
        },
        {
          "name": "stdout",
          "output_type": "stream",
          "text": [
            "GB | Epoch 4 | Loss: 0.7522060871124268 | Accuracy: 76.5625%\n",
            "GB | Epoch 4 | Loss: 0.6843704581260681 | Accuracy: 70.3125%\n",
            "GB | Epoch 4 | Loss: 0.6889116764068604 | Accuracy: 70.3125%\n",
            "GB | Epoch 4 | Loss: 0.5047310590744019 | Accuracy: 78.125%\n",
            "GB | Epoch 4 | Loss: 0.6333709955215454 | Accuracy: 71.875%\n",
            "GB | Epoch 4 | Loss: 0.6213238835334778 | Accuracy: 75.0%\n",
            "GB | Epoch 4 | Loss: 0.5727989673614502 | Accuracy: 76.5625%\n",
            "GB | Epoch 4 | Loss: 0.4824492931365967 | Accuracy: 87.5%\n",
            "GB | Epoch 4 | Loss: 0.5523405075073242 | Accuracy: 76.5625%\n",
            "GB | Epoch 4 | Loss: 0.41526007652282715 | Accuracy: 81.25%\n",
            "GB | Epoch 4 | Loss: 0.4927753210067749 | Accuracy: 78.125%\n",
            "GB | Epoch 4 | Loss: 0.6089778542518616 | Accuracy: 78.125%\n",
            "GB | Epoch 4 | Loss: 0.6647626161575317 | Accuracy: 67.1875%\n",
            "GB | Epoch 4 | Loss: 0.5160989165306091 | Accuracy: 79.6875%\n",
            "GB | Epoch 4 | Loss: 0.580705463886261 | Accuracy: 73.4375%\n",
            "GB | Epoch 4 | Loss: 0.5337706804275513 | Accuracy: 78.125%\n",
            "GB | Epoch 4 | Loss: 0.6367511749267578 | Accuracy: 67.1875%\n",
            "GB | Epoch 4 | Loss: 0.4478239417076111 | Accuracy: 81.25%\n",
            "GB | Epoch 4 | Loss: 0.6368632912635803 | Accuracy: 71.875%\n",
            "GB | Epoch 4 | Loss: 0.8124004602432251 | Accuracy: 64.0625%\n",
            "GB | Epoch 4 | Loss: 0.6505592465400696 | Accuracy: 70.3125%\n",
            "GB | Epoch 4 | Loss: 0.5060096979141235 | Accuracy: 78.125%\n",
            "GB | Epoch 4 | Loss: 0.6674861311912537 | Accuracy: 67.1875%\n",
            "GB | Epoch 4 | Loss: 0.5571105480194092 | Accuracy: 76.5625%\n"
          ]
        },
        {
          "name": "stderr",
          "output_type": "stream",
          "text": [
            "Epoch 4:  45%|████▌     | 338/751 [00:03<00:03, 117.72batch/s, accuracy=78.125%, loss=0.607]"
          ]
        },
        {
          "name": "stdout",
          "output_type": "stream",
          "text": [
            "GB | Epoch 4 | Loss: 0.5434938073158264 | Accuracy: 78.125%\n",
            "GB | Epoch 4 | Loss: 0.5090079307556152 | Accuracy: 76.5625%\n",
            "GB | Epoch 4 | Loss: 0.5565541386604309 | Accuracy: 82.8125%\n",
            "GB | Epoch 4 | Loss: 0.5352634787559509 | Accuracy: 78.125%\n",
            "GB | Epoch 4 | Loss: 0.6385639905929565 | Accuracy: 68.75%\n",
            "GB | Epoch 4 | Loss: 0.4938901960849762 | Accuracy: 82.8125%\n",
            "GB | Epoch 4 | Loss: 0.40994369983673096 | Accuracy: 84.375%\n",
            "GB | Epoch 4 | Loss: 0.4676533341407776 | Accuracy: 84.375%\n",
            "GB | Epoch 4 | Loss: 0.5590792894363403 | Accuracy: 76.5625%\n",
            "GB | Epoch 4 | Loss: 0.7667280435562134 | Accuracy: 71.875%\n",
            "GB | Epoch 4 | Loss: 0.5991041660308838 | Accuracy: 71.875%\n",
            "GB | Epoch 4 | Loss: 0.5764994621276855 | Accuracy: 75.0%\n",
            "GB | Epoch 4 | Loss: 0.5855345129966736 | Accuracy: 75.0%\n",
            "GB | Epoch 4 | Loss: 0.4442071318626404 | Accuracy: 81.25%\n",
            "GB | Epoch 4 | Loss: 0.5824921131134033 | Accuracy: 78.125%\n",
            "GB | Epoch 4 | Loss: 0.6111845374107361 | Accuracy: 76.5625%\n",
            "GB | Epoch 4 | Loss: 0.43836700916290283 | Accuracy: 85.9375%\n",
            "GB | Epoch 4 | Loss: 0.523395836353302 | Accuracy: 75.0%\n",
            "GB | Epoch 4 | Loss: 0.5721708536148071 | Accuracy: 71.875%\n",
            "GB | Epoch 4 | Loss: 0.4833568334579468 | Accuracy: 82.8125%\n",
            "GB | Epoch 4 | Loss: 0.4195045232772827 | Accuracy: 84.375%\n",
            "GB | Epoch 4 | Loss: 0.480658620595932 | Accuracy: 82.8125%\n",
            "GB | Epoch 4 | Loss: 0.5623767971992493 | Accuracy: 82.8125%\n",
            "GB | Epoch 4 | Loss: 0.6355049014091492 | Accuracy: 84.375%\n",
            "GB | Epoch 4 | Loss: 0.6067667603492737 | Accuracy: 78.125%\n"
          ]
        },
        {
          "name": "stderr",
          "output_type": "stream",
          "text": [
            "Epoch 4:  48%|████▊     | 364/751 [00:03<00:03, 120.88batch/s, accuracy=82.8125%, loss=0.482]"
          ]
        },
        {
          "name": "stdout",
          "output_type": "stream",
          "text": [
            "GB | Epoch 4 | Loss: 0.5007551312446594 | Accuracy: 79.6875%\n",
            "GB | Epoch 4 | Loss: 0.6763015985488892 | Accuracy: 78.125%\n",
            "GB | Epoch 4 | Loss: 0.5540475249290466 | Accuracy: 75.0%\n",
            "GB | Epoch 4 | Loss: 0.4870103597640991 | Accuracy: 78.125%\n",
            "GB | Epoch 4 | Loss: 0.5932207703590393 | Accuracy: 73.4375%\n",
            "GB | Epoch 4 | Loss: 0.6218751072883606 | Accuracy: 71.875%\n",
            "GB | Epoch 4 | Loss: 0.5559115409851074 | Accuracy: 71.875%\n",
            "GB | Epoch 4 | Loss: 0.4865138828754425 | Accuracy: 82.8125%\n",
            "GB | Epoch 4 | Loss: 0.46377307176589966 | Accuracy: 84.375%\n",
            "GB | Epoch 4 | Loss: 0.5285882949829102 | Accuracy: 81.25%\n",
            "GB | Epoch 4 | Loss: 0.545153796672821 | Accuracy: 76.5625%\n",
            "GB | Epoch 4 | Loss: 0.47260168194770813 | Accuracy: 81.25%\n",
            "GB | Epoch 4 | Loss: 0.5060079097747803 | Accuracy: 82.8125%\n",
            "GB | Epoch 4 | Loss: 0.557047963142395 | Accuracy: 78.125%\n",
            "GB | Epoch 4 | Loss: 0.6346801519393921 | Accuracy: 76.5625%\n",
            "GB | Epoch 4 | Loss: 0.5499932765960693 | Accuracy: 75.0%\n",
            "GB | Epoch 4 | Loss: 0.4342113137245178 | Accuracy: 84.375%\n",
            "GB | Epoch 4 | Loss: 0.524199903011322 | Accuracy: 79.6875%\n",
            "GB | Epoch 4 | Loss: 0.5805795192718506 | Accuracy: 75.0%\n",
            "GB | Epoch 4 | Loss: 0.5030505657196045 | Accuracy: 78.125%\n",
            "GB | Epoch 4 | Loss: 0.6318554282188416 | Accuracy: 73.4375%\n",
            "GB | Epoch 4 | Loss: 0.4185360074043274 | Accuracy: 90.625%\n",
            "GB | Epoch 4 | Loss: 0.5661239624023438 | Accuracy: 79.6875%\n",
            "GB | Epoch 4 | Loss: 0.4717562198638916 | Accuracy: 79.6875%\n",
            "GB | Epoch 4 | Loss: 0.4359411299228668 | Accuracy: 87.5%\n",
            "GB | Epoch 4 | Loss: 0.481636643409729 | Accuracy: 82.8125%\n"
          ]
        },
        {
          "name": "stderr",
          "output_type": "stream",
          "text": [
            "Epoch 4:  52%|█████▏    | 390/751 [00:03<00:03, 119.06batch/s, accuracy=75.0%, loss=0.579] "
          ]
        },
        {
          "name": "stdout",
          "output_type": "stream",
          "text": [
            "GB | Epoch 4 | Loss: 0.6136770248413086 | Accuracy: 73.4375%\n",
            "GB | Epoch 4 | Loss: 0.5587086081504822 | Accuracy: 75.0%\n",
            "GB | Epoch 4 | Loss: 0.483564168214798 | Accuracy: 84.375%\n",
            "GB | Epoch 4 | Loss: 0.5350638031959534 | Accuracy: 73.4375%\n",
            "GB | Epoch 4 | Loss: 0.7230197787284851 | Accuracy: 70.3125%\n",
            "GB | Epoch 4 | Loss: 0.46634823083877563 | Accuracy: 81.25%\n",
            "GB | Epoch 4 | Loss: 0.5123962163925171 | Accuracy: 78.125%\n",
            "GB | Epoch 4 | Loss: 0.639766275882721 | Accuracy: 71.875%\n",
            "GB | Epoch 4 | Loss: 0.56302410364151 | Accuracy: 82.8125%\n",
            "GB | Epoch 4 | Loss: 0.6166521906852722 | Accuracy: 71.875%\n",
            "GB | Epoch 4 | Loss: 0.6378574371337891 | Accuracy: 68.75%\n",
            "GB | Epoch 4 | Loss: 0.5191906690597534 | Accuracy: 81.25%\n",
            "GB | Epoch 4 | Loss: 0.5591950416564941 | Accuracy: 78.125%\n",
            "GB | Epoch 4 | Loss: 0.6019043326377869 | Accuracy: 76.5625%\n",
            "GB | Epoch 4 | Loss: 0.43472322821617126 | Accuracy: 87.5%\n",
            "GB | Epoch 4 | Loss: 0.5310311317443848 | Accuracy: 78.125%\n",
            "GB | Epoch 4 | Loss: 0.5620375275611877 | Accuracy: 76.5625%\n",
            "GB | Epoch 4 | Loss: 0.5444434285163879 | Accuracy: 81.25%\n",
            "GB | Epoch 4 | Loss: 0.48715639114379883 | Accuracy: 84.375%\n",
            "GB | Epoch 4 | Loss: 0.5477180480957031 | Accuracy: 82.8125%\n",
            "GB | Epoch 4 | Loss: 0.4765634536743164 | Accuracy: 81.25%\n",
            "GB | Epoch 4 | Loss: 0.47224846482276917 | Accuracy: 81.25%\n",
            "GB | Epoch 4 | Loss: 0.5792091488838196 | Accuracy: 75.0%\n"
          ]
        },
        {
          "name": "stderr",
          "output_type": "stream",
          "text": [
            "Epoch 4:  55%|█████▌    | 414/751 [00:04<00:02, 114.88batch/s, accuracy=78.125%, loss=0.508] "
          ]
        },
        {
          "name": "stdout",
          "output_type": "stream",
          "text": [
            "GB | Epoch 4 | Loss: 0.5670917630195618 | Accuracy: 78.125%\n",
            "GB | Epoch 4 | Loss: 0.7318057417869568 | Accuracy: 65.625%\n",
            "GB | Epoch 4 | Loss: 0.5919831395149231 | Accuracy: 78.125%\n",
            "GB | Epoch 4 | Loss: 0.6488832235336304 | Accuracy: 78.125%\n",
            "GB | Epoch 4 | Loss: 0.44150927662849426 | Accuracy: 81.25%\n",
            "GB | Epoch 4 | Loss: 0.40406686067581177 | Accuracy: 85.9375%\n",
            "GB | Epoch 4 | Loss: 0.4197554588317871 | Accuracy: 89.0625%\n",
            "GB | Epoch 4 | Loss: 0.6252527236938477 | Accuracy: 76.5625%\n",
            "GB | Epoch 4 | Loss: 0.476175993680954 | Accuracy: 82.8125%\n",
            "GB | Epoch 4 | Loss: 0.5537187457084656 | Accuracy: 78.125%\n",
            "GB | Epoch 4 | Loss: 0.505010724067688 | Accuracy: 78.125%\n",
            "GB | Epoch 4 | Loss: 0.6575430035591125 | Accuracy: 65.625%\n",
            "GB | Epoch 4 | Loss: 0.5276343822479248 | Accuracy: 76.5625%\n",
            "GB | Epoch 4 | Loss: 0.55057293176651 | Accuracy: 79.6875%\n",
            "GB | Epoch 4 | Loss: 0.5588662624359131 | Accuracy: 76.5625%\n",
            "GB | Epoch 4 | Loss: 0.573652446269989 | Accuracy: 75.0%\n",
            "GB | Epoch 4 | Loss: 0.5693582892417908 | Accuracy: 79.6875%\n",
            "GB | Epoch 4 | Loss: 0.3414188325405121 | Accuracy: 90.625%\n",
            "GB | Epoch 4 | Loss: 0.5734783411026001 | Accuracy: 81.25%\n",
            "GB | Epoch 4 | Loss: 0.5944328308105469 | Accuracy: 70.3125%\n",
            "GB | Epoch 4 | Loss: 0.7542001008987427 | Accuracy: 64.0625%\n",
            "GB | Epoch 4 | Loss: 0.4926418662071228 | Accuracy: 82.8125%\n",
            "GB | Epoch 4 | Loss: 0.5092266201972961 | Accuracy: 79.6875%\n"
          ]
        },
        {
          "name": "stderr",
          "output_type": "stream",
          "text": [
            "Epoch 4:  58%|█████▊    | 438/751 [00:04<00:02, 115.22batch/s, accuracy=84.375%, loss=0.52]  "
          ]
        },
        {
          "name": "stdout",
          "output_type": "stream",
          "text": [
            "GB | Epoch 4 | Loss: 0.5084256529808044 | Accuracy: 78.125%\n",
            "GB | Epoch 4 | Loss: 0.5888742804527283 | Accuracy: 82.8125%\n",
            "GB | Epoch 4 | Loss: 0.532833456993103 | Accuracy: 78.125%\n",
            "GB | Epoch 4 | Loss: 0.45046287775039673 | Accuracy: 78.125%\n",
            "GB | Epoch 4 | Loss: 0.5863514542579651 | Accuracy: 76.5625%\n",
            "GB | Epoch 4 | Loss: 0.4761049747467041 | Accuracy: 81.25%\n",
            "GB | Epoch 4 | Loss: 0.45694592595100403 | Accuracy: 78.125%\n",
            "GB | Epoch 4 | Loss: 0.49052539467811584 | Accuracy: 79.6875%\n",
            "GB | Epoch 4 | Loss: 0.5500247478485107 | Accuracy: 78.125%\n",
            "GB | Epoch 4 | Loss: 0.5185702443122864 | Accuracy: 75.0%\n",
            "GB | Epoch 4 | Loss: 0.4467458724975586 | Accuracy: 81.25%\n",
            "GB | Epoch 4 | Loss: 0.5200774669647217 | Accuracy: 76.5625%\n",
            "GB | Epoch 4 | Loss: 0.4922972321510315 | Accuracy: 81.25%\n",
            "GB | Epoch 4 | Loss: 0.4921933114528656 | Accuracy: 78.125%\n",
            "GB | Epoch 4 | Loss: 0.3603680431842804 | Accuracy: 85.9375%\n",
            "GB | Epoch 4 | Loss: 0.5617519021034241 | Accuracy: 73.4375%\n",
            "GB | Epoch 4 | Loss: 0.5517570376396179 | Accuracy: 82.8125%\n",
            "GB | Epoch 4 | Loss: 0.4818829298019409 | Accuracy: 81.25%\n",
            "GB | Epoch 4 | Loss: 0.6440878510475159 | Accuracy: 73.4375%\n",
            "GB | Epoch 4 | Loss: 0.5135246515274048 | Accuracy: 81.25%\n",
            "GB | Epoch 4 | Loss: 0.4663865864276886 | Accuracy: 84.375%\n",
            "GB | Epoch 4 | Loss: 0.6823121905326843 | Accuracy: 75.0%\n",
            "GB | Epoch 4 | Loss: 0.5137468576431274 | Accuracy: 79.6875%\n",
            "GB | Epoch 4 | Loss: 0.5202465653419495 | Accuracy: 84.375%\n"
          ]
        },
        {
          "name": "stderr",
          "output_type": "stream",
          "text": [
            "Epoch 4:  62%|██████▏   | 464/751 [00:04<00:02, 118.36batch/s, accuracy=85.9375%, loss=0.52]"
          ]
        },
        {
          "name": "stdout",
          "output_type": "stream",
          "text": [
            "GB | Epoch 4 | Loss: 0.5011715888977051 | Accuracy: 75.0%\n",
            "GB | Epoch 4 | Loss: 0.5390300154685974 | Accuracy: 81.25%\n",
            "GB | Epoch 4 | Loss: 0.44837677478790283 | Accuracy: 82.8125%\n",
            "GB | Epoch 4 | Loss: 0.3936704993247986 | Accuracy: 82.8125%\n",
            "GB | Epoch 4 | Loss: 0.47827157378196716 | Accuracy: 85.9375%\n",
            "GB | Epoch 4 | Loss: 0.5983848571777344 | Accuracy: 76.5625%\n",
            "GB | Epoch 4 | Loss: 0.4612351357936859 | Accuracy: 84.375%\n",
            "GB | Epoch 4 | Loss: 0.6389762163162231 | Accuracy: 73.4375%\n",
            "GB | Epoch 4 | Loss: 0.4627039134502411 | Accuracy: 87.5%\n",
            "GB | Epoch 4 | Loss: 0.5917239189147949 | Accuracy: 78.125%\n",
            "GB | Epoch 4 | Loss: 0.5246634483337402 | Accuracy: 75.0%\n",
            "GB | Epoch 4 | Loss: 0.6239207983016968 | Accuracy: 70.3125%\n",
            "GB | Epoch 4 | Loss: 0.5521587133407593 | Accuracy: 75.0%\n",
            "GB | Epoch 4 | Loss: 0.44375139474868774 | Accuracy: 89.0625%\n",
            "GB | Epoch 4 | Loss: 0.5317913889884949 | Accuracy: 84.375%\n",
            "GB | Epoch 4 | Loss: 0.47117266058921814 | Accuracy: 82.8125%\n",
            "GB | Epoch 4 | Loss: 0.5211725831031799 | Accuracy: 78.125%\n",
            "GB | Epoch 4 | Loss: 0.5286893844604492 | Accuracy: 78.125%\n",
            "GB | Epoch 4 | Loss: 0.5388431549072266 | Accuracy: 73.4375%\n",
            "GB | Epoch 4 | Loss: 0.5333632230758667 | Accuracy: 71.875%\n",
            "GB | Epoch 4 | Loss: 0.5183565616607666 | Accuracy: 78.125%\n",
            "GB | Epoch 4 | Loss: 0.6799042820930481 | Accuracy: 75.0%\n",
            "GB | Epoch 4 | Loss: 0.6527939438819885 | Accuracy: 78.125%\n",
            "GB | Epoch 4 | Loss: 0.47930267453193665 | Accuracy: 78.125%\n",
            "GB | Epoch 4 | Loss: 0.5199939012527466 | Accuracy: 85.9375%\n"
          ]
        },
        {
          "name": "stderr",
          "output_type": "stream",
          "text": [
            "Epoch 4:  65%|██████▌   | 490/751 [00:04<00:02, 119.62batch/s, accuracy=87.5%, loss=0.396]   "
          ]
        },
        {
          "name": "stdout",
          "output_type": "stream",
          "text": [
            "GB | Epoch 4 | Loss: 0.5584368109703064 | Accuracy: 76.5625%\n",
            "GB | Epoch 4 | Loss: 0.6196362376213074 | Accuracy: 71.875%\n",
            "GB | Epoch 4 | Loss: 0.4126298129558563 | Accuracy: 84.375%\n",
            "GB | Epoch 4 | Loss: 0.527024507522583 | Accuracy: 79.6875%\n",
            "GB | Epoch 4 | Loss: 0.4078243374824524 | Accuracy: 89.0625%\n",
            "GB | Epoch 4 | Loss: 0.4235464036464691 | Accuracy: 85.9375%\n",
            "GB | Epoch 4 | Loss: 0.5416775345802307 | Accuracy: 79.6875%\n",
            "GB | Epoch 4 | Loss: 0.7130760550498962 | Accuracy: 65.625%\n",
            "GB | Epoch 4 | Loss: 0.5719671845436096 | Accuracy: 73.4375%\n",
            "GB | Epoch 4 | Loss: 0.3936755061149597 | Accuracy: 82.8125%\n",
            "GB | Epoch 4 | Loss: 0.5396618247032166 | Accuracy: 79.6875%\n",
            "GB | Epoch 4 | Loss: 0.7642037868499756 | Accuracy: 73.4375%\n",
            "GB | Epoch 4 | Loss: 0.554473876953125 | Accuracy: 76.5625%\n",
            "GB | Epoch 4 | Loss: 0.3765712082386017 | Accuracy: 89.0625%\n",
            "GB | Epoch 4 | Loss: 0.5385186672210693 | Accuracy: 78.125%\n",
            "GB | Epoch 4 | Loss: 0.4471469521522522 | Accuracy: 82.8125%\n",
            "GB | Epoch 4 | Loss: 0.6961088180541992 | Accuracy: 73.4375%\n",
            "GB | Epoch 4 | Loss: 0.5051520466804504 | Accuracy: 84.375%\n",
            "GB | Epoch 4 | Loss: 0.6277370452880859 | Accuracy: 68.75%\n",
            "GB | Epoch 4 | Loss: 0.647682785987854 | Accuracy: 70.3125%\n",
            "GB | Epoch 4 | Loss: 0.5138699412345886 | Accuracy: 78.125%\n",
            "GB | Epoch 4 | Loss: 0.3517893850803375 | Accuracy: 85.9375%\n",
            "GB | Epoch 4 | Loss: 0.670417845249176 | Accuracy: 78.125%\n",
            "GB | Epoch 4 | Loss: 0.49400514364242554 | Accuracy: 76.5625%\n",
            "GB | Epoch 4 | Loss: 0.39566734433174133 | Accuracy: 87.5%\n"
          ]
        },
        {
          "name": "stderr",
          "output_type": "stream",
          "text": [
            "Epoch 4:  69%|██████▊   | 515/751 [00:04<00:01, 118.21batch/s, accuracy=81.25%, loss=0.442]  "
          ]
        },
        {
          "name": "stdout",
          "output_type": "stream",
          "text": [
            "GB | Epoch 4 | Loss: 0.6995380520820618 | Accuracy: 67.1875%\n",
            "GB | Epoch 4 | Loss: 0.4565810263156891 | Accuracy: 87.5%\n",
            "GB | Epoch 4 | Loss: 0.4138335883617401 | Accuracy: 82.8125%\n",
            "GB | Epoch 4 | Loss: 0.4673941135406494 | Accuracy: 82.8125%\n",
            "GB | Epoch 4 | Loss: 0.45783835649490356 | Accuracy: 81.25%\n",
            "GB | Epoch 4 | Loss: 0.6752005219459534 | Accuracy: 70.3125%\n",
            "GB | Epoch 4 | Loss: 0.5537957549095154 | Accuracy: 81.25%\n",
            "GB | Epoch 4 | Loss: 0.47905662655830383 | Accuracy: 82.8125%\n",
            "GB | Epoch 4 | Loss: 0.3700334429740906 | Accuracy: 90.625%\n",
            "GB | Epoch 4 | Loss: 0.47055235505104065 | Accuracy: 79.6875%\n",
            "GB | Epoch 4 | Loss: 0.5445820093154907 | Accuracy: 78.125%\n",
            "GB | Epoch 4 | Loss: 0.47228431701660156 | Accuracy: 82.8125%\n",
            "GB | Epoch 4 | Loss: 0.48960551619529724 | Accuracy: 82.8125%\n",
            "GB | Epoch 4 | Loss: 0.6509776711463928 | Accuracy: 70.3125%\n",
            "GB | Epoch 4 | Loss: 0.6046863794326782 | Accuracy: 73.4375%\n",
            "GB | Epoch 4 | Loss: 0.47317108511924744 | Accuracy: 81.25%\n",
            "GB | Epoch 4 | Loss: 0.522590696811676 | Accuracy: 79.6875%\n",
            "GB | Epoch 4 | Loss: 0.5319821834564209 | Accuracy: 76.5625%\n",
            "GB | Epoch 4 | Loss: 0.510519802570343 | Accuracy: 78.125%\n",
            "GB | Epoch 4 | Loss: 0.5930895805358887 | Accuracy: 75.0%\n",
            "GB | Epoch 4 | Loss: 0.47415998578071594 | Accuracy: 76.5625%\n",
            "GB | Epoch 4 | Loss: 0.44005170464515686 | Accuracy: 79.6875%\n",
            "GB | Epoch 4 | Loss: 0.44130057096481323 | Accuracy: 85.9375%\n",
            "GB | Epoch 4 | Loss: 0.44187554717063904 | Accuracy: 81.25%\n"
          ]
        },
        {
          "name": "stderr",
          "output_type": "stream",
          "text": [
            "Epoch 4:  72%|███████▏  | 540/751 [00:05<00:01, 117.71batch/s, accuracy=79.6875%, loss=0.46] "
          ]
        },
        {
          "name": "stdout",
          "output_type": "stream",
          "text": [
            "GB | Epoch 4 | Loss: 0.42898812890052795 | Accuracy: 81.25%\n",
            "GB | Epoch 4 | Loss: 0.5062869787216187 | Accuracy: 79.6875%\n",
            "GB | Epoch 4 | Loss: 0.5185691714286804 | Accuracy: 79.6875%\n",
            "GB | Epoch 4 | Loss: 0.476896733045578 | Accuracy: 79.6875%\n",
            "GB | Epoch 4 | Loss: 0.4371221363544464 | Accuracy: 79.6875%\n",
            "GB | Epoch 4 | Loss: 0.5421916246414185 | Accuracy: 78.125%\n",
            "GB | Epoch 4 | Loss: 0.5454452633857727 | Accuracy: 76.5625%\n",
            "GB | Epoch 4 | Loss: 0.3687446117401123 | Accuracy: 87.5%\n",
            "GB | Epoch 4 | Loss: 0.5541497468948364 | Accuracy: 76.5625%\n",
            "GB | Epoch 4 | Loss: 0.4690679609775543 | Accuracy: 76.5625%\n",
            "GB | Epoch 4 | Loss: 0.47823065519332886 | Accuracy: 81.25%\n",
            "GB | Epoch 4 | Loss: 0.33439716696739197 | Accuracy: 87.5%\n",
            "GB | Epoch 4 | Loss: 0.43172261118888855 | Accuracy: 87.5%\n",
            "GB | Epoch 4 | Loss: 0.4226696193218231 | Accuracy: 89.0625%\n",
            "GB | Epoch 4 | Loss: 0.37866494059562683 | Accuracy: 84.375%\n",
            "GB | Epoch 4 | Loss: 0.4407198131084442 | Accuracy: 76.5625%\n",
            "GB | Epoch 4 | Loss: 0.5427197217941284 | Accuracy: 68.75%\n",
            "GB | Epoch 4 | Loss: 0.5655293464660645 | Accuracy: 76.5625%\n",
            "GB | Epoch 4 | Loss: 0.4365100860595703 | Accuracy: 82.8125%\n",
            "GB | Epoch 4 | Loss: 0.4386158287525177 | Accuracy: 84.375%\n",
            "GB | Epoch 4 | Loss: 0.516431450843811 | Accuracy: 81.25%\n",
            "GB | Epoch 4 | Loss: 0.6023985743522644 | Accuracy: 73.4375%\n",
            "GB | Epoch 4 | Loss: 0.46046432852745056 | Accuracy: 79.6875%\n"
          ]
        },
        {
          "name": "stderr",
          "output_type": "stream",
          "text": [
            "Epoch 4:  75%|███████▌  | 564/751 [00:05<00:01, 113.35batch/s, accuracy=79.6875%, loss=0.608]"
          ]
        },
        {
          "name": "stdout",
          "output_type": "stream",
          "text": [
            "GB | Epoch 4 | Loss: 0.36735618114471436 | Accuracy: 89.0625%\n",
            "GB | Epoch 4 | Loss: 0.6116259098052979 | Accuracy: 70.3125%\n",
            "GB | Epoch 4 | Loss: 0.545282244682312 | Accuracy: 75.0%\n",
            "GB | Epoch 4 | Loss: 0.524970293045044 | Accuracy: 78.125%\n",
            "GB | Epoch 4 | Loss: 0.4804031550884247 | Accuracy: 82.8125%\n",
            "GB | Epoch 4 | Loss: 0.43521830439567566 | Accuracy: 81.25%\n",
            "GB | Epoch 4 | Loss: 0.5286654829978943 | Accuracy: 75.0%\n",
            "GB | Epoch 4 | Loss: 0.5355806946754456 | Accuracy: 76.5625%\n",
            "GB | Epoch 4 | Loss: 0.4280628561973572 | Accuracy: 79.6875%\n",
            "GB | Epoch 4 | Loss: 0.43520501255989075 | Accuracy: 79.6875%\n",
            "GB | Epoch 4 | Loss: 0.414266973733902 | Accuracy: 82.8125%\n",
            "GB | Epoch 4 | Loss: 0.46139299869537354 | Accuracy: 79.6875%\n",
            "GB | Epoch 4 | Loss: 0.39618393778800964 | Accuracy: 89.0625%\n",
            "GB | Epoch 4 | Loss: 0.36509978771209717 | Accuracy: 85.9375%\n",
            "GB | Epoch 4 | Loss: 0.4922918677330017 | Accuracy: 84.375%\n",
            "GB | Epoch 4 | Loss: 0.4203982353210449 | Accuracy: 84.375%\n",
            "GB | Epoch 4 | Loss: 0.4814809262752533 | Accuracy: 81.25%\n",
            "GB | Epoch 4 | Loss: 0.42938297986984253 | Accuracy: 85.9375%\n",
            "GB | Epoch 4 | Loss: 0.4269961714744568 | Accuracy: 82.8125%\n",
            "GB | Epoch 4 | Loss: 0.4834737479686737 | Accuracy: 82.8125%\n",
            "GB | Epoch 4 | Loss: 0.6480510234832764 | Accuracy: 76.5625%\n",
            "GB | Epoch 4 | Loss: 0.3928309679031372 | Accuracy: 84.375%\n",
            "GB | Epoch 4 | Loss: 0.6076896786689758 | Accuracy: 79.6875%\n"
          ]
        },
        {
          "name": "stderr",
          "output_type": "stream",
          "text": [
            "Epoch 4:  78%|███████▊  | 589/751 [00:05<00:01, 115.96batch/s, accuracy=81.25%, loss=0.397] "
          ]
        },
        {
          "name": "stdout",
          "output_type": "stream",
          "text": [
            "GB | Epoch 4 | Loss: 0.47668251395225525 | Accuracy: 76.5625%\n",
            "GB | Epoch 4 | Loss: 0.35788577795028687 | Accuracy: 85.9375%\n",
            "GB | Epoch 4 | Loss: 0.36464953422546387 | Accuracy: 87.5%\n",
            "GB | Epoch 4 | Loss: 0.6089365482330322 | Accuracy: 76.5625%\n",
            "GB | Epoch 4 | Loss: 0.5337886214256287 | Accuracy: 81.25%\n",
            "GB | Epoch 4 | Loss: 0.4693435728549957 | Accuracy: 84.375%\n",
            "GB | Epoch 4 | Loss: 0.4540054202079773 | Accuracy: 84.375%\n",
            "GB | Epoch 4 | Loss: 0.552562415599823 | Accuracy: 81.25%\n",
            "GB | Epoch 4 | Loss: 0.4470946788787842 | Accuracy: 82.8125%\n",
            "GB | Epoch 4 | Loss: 0.4930938184261322 | Accuracy: 78.125%\n",
            "GB | Epoch 4 | Loss: 0.4334995746612549 | Accuracy: 82.8125%\n",
            "GB | Epoch 4 | Loss: 0.6023442149162292 | Accuracy: 81.25%\n",
            "GB | Epoch 4 | Loss: 0.3703345060348511 | Accuracy: 87.5%\n",
            "GB | Epoch 4 | Loss: 0.42811205983161926 | Accuracy: 85.9375%\n",
            "GB | Epoch 4 | Loss: 0.4875134229660034 | Accuracy: 82.8125%\n",
            "GB | Epoch 4 | Loss: 0.4803401231765747 | Accuracy: 76.5625%\n",
            "GB | Epoch 4 | Loss: 0.5134933590888977 | Accuracy: 78.125%\n",
            "GB | Epoch 4 | Loss: 0.6212521195411682 | Accuracy: 76.5625%\n",
            "GB | Epoch 4 | Loss: 0.6077417135238647 | Accuracy: 71.875%\n",
            "GB | Epoch 4 | Loss: 0.3152954578399658 | Accuracy: 89.0625%\n",
            "GB | Epoch 4 | Loss: 0.5553336143493652 | Accuracy: 71.875%\n",
            "GB | Epoch 4 | Loss: 0.5684884190559387 | Accuracy: 73.4375%\n",
            "GB | Epoch 4 | Loss: 0.44197922945022583 | Accuracy: 84.375%\n",
            "GB | Epoch 4 | Loss: 0.3974568545818329 | Accuracy: 81.25%\n"
          ]
        },
        {
          "name": "stderr",
          "output_type": "stream",
          "text": [
            "Epoch 4:  82%|████████▏ | 614/751 [00:05<00:01, 118.74batch/s, accuracy=89.0625%, loss=0.556]"
          ]
        },
        {
          "name": "stdout",
          "output_type": "stream",
          "text": [
            "GB | Epoch 4 | Loss: 0.5355175137519836 | Accuracy: 75.0%\n",
            "GB | Epoch 4 | Loss: 0.4446699321269989 | Accuracy: 85.9375%\n",
            "GB | Epoch 4 | Loss: 0.4334600567817688 | Accuracy: 89.0625%\n",
            "GB | Epoch 4 | Loss: 0.3577077388763428 | Accuracy: 89.0625%\n",
            "GB | Epoch 4 | Loss: 0.367321640253067 | Accuracy: 87.5%\n",
            "GB | Epoch 4 | Loss: 0.5818877816200256 | Accuracy: 68.75%\n",
            "GB | Epoch 4 | Loss: 0.4151463210582733 | Accuracy: 84.375%\n",
            "GB | Epoch 4 | Loss: 0.6700479388237 | Accuracy: 70.3125%\n",
            "GB | Epoch 4 | Loss: 0.4465598165988922 | Accuracy: 81.25%\n",
            "GB | Epoch 4 | Loss: 0.5793837904930115 | Accuracy: 79.6875%\n",
            "GB | Epoch 4 | Loss: 0.6325371265411377 | Accuracy: 81.25%\n",
            "GB | Epoch 4 | Loss: 0.49091124534606934 | Accuracy: 81.25%\n",
            "GB | Epoch 4 | Loss: 0.401581734418869 | Accuracy: 84.375%\n",
            "GB | Epoch 4 | Loss: 0.40533745288848877 | Accuracy: 84.375%\n",
            "GB | Epoch 4 | Loss: 0.45708027482032776 | Accuracy: 79.6875%\n",
            "GB | Epoch 4 | Loss: 0.45032238960266113 | Accuracy: 81.25%\n",
            "GB | Epoch 4 | Loss: 0.4886094331741333 | Accuracy: 78.125%\n",
            "GB | Epoch 4 | Loss: 0.46233370900154114 | Accuracy: 82.8125%\n",
            "GB | Epoch 4 | Loss: 0.3726637065410614 | Accuracy: 87.5%\n",
            "GB | Epoch 4 | Loss: 0.5505971908569336 | Accuracy: 76.5625%\n",
            "GB | Epoch 4 | Loss: 0.4791557788848877 | Accuracy: 82.8125%\n",
            "GB | Epoch 4 | Loss: 0.4937203824520111 | Accuracy: 79.6875%\n",
            "GB | Epoch 4 | Loss: 0.48370808362960815 | Accuracy: 81.25%\n",
            "GB | Epoch 4 | Loss: 0.45470860600471497 | Accuracy: 87.5%\n",
            "GB | Epoch 4 | Loss: 0.5559045076370239 | Accuracy: 89.0625%\n"
          ]
        },
        {
          "name": "stderr",
          "output_type": "stream",
          "text": [
            "Epoch 4:  85%|████████▍ | 638/751 [00:05<00:00, 118.39batch/s, accuracy=87.5%, loss=0.353]"
          ]
        },
        {
          "name": "stdout",
          "output_type": "stream",
          "text": [
            "GB | Epoch 4 | Loss: 0.7021423578262329 | Accuracy: 75.0%\n",
            "GB | Epoch 4 | Loss: 0.38913291692733765 | Accuracy: 89.0625%\n",
            "GB | Epoch 4 | Loss: 0.45874714851379395 | Accuracy: 82.8125%\n",
            "GB | Epoch 4 | Loss: 0.4384530186653137 | Accuracy: 84.375%\n",
            "GB | Epoch 4 | Loss: 0.4170309007167816 | Accuracy: 90.625%\n",
            "GB | Epoch 4 | Loss: 0.4477388262748718 | Accuracy: 84.375%\n",
            "GB | Epoch 4 | Loss: 0.509463369846344 | Accuracy: 75.0%\n",
            "GB | Epoch 4 | Loss: 0.3813169598579407 | Accuracy: 82.8125%\n",
            "GB | Epoch 4 | Loss: 0.40816983580589294 | Accuracy: 89.0625%\n",
            "GB | Epoch 4 | Loss: 0.4881729781627655 | Accuracy: 84.375%\n",
            "GB | Epoch 4 | Loss: 0.4318447709083557 | Accuracy: 82.8125%\n",
            "GB | Epoch 4 | Loss: 0.38219934701919556 | Accuracy: 85.9375%\n",
            "GB | Epoch 4 | Loss: 0.44498947262763977 | Accuracy: 85.9375%\n",
            "GB | Epoch 4 | Loss: 0.46356114745140076 | Accuracy: 84.375%\n",
            "GB | Epoch 4 | Loss: 0.5107419490814209 | Accuracy: 78.125%\n",
            "GB | Epoch 4 | Loss: 0.5939569473266602 | Accuracy: 84.375%\n",
            "GB | Epoch 4 | Loss: 0.5092769861221313 | Accuracy: 79.6875%\n",
            "GB | Epoch 4 | Loss: 0.4795251488685608 | Accuracy: 79.6875%\n",
            "GB | Epoch 4 | Loss: 0.45636460185050964 | Accuracy: 79.6875%\n",
            "GB | Epoch 4 | Loss: 0.3856481909751892 | Accuracy: 87.5%\n",
            "GB | Epoch 4 | Loss: 0.383541077375412 | Accuracy: 85.9375%\n",
            "GB | Epoch 4 | Loss: 0.46491721272468567 | Accuracy: 82.8125%\n",
            "GB | Epoch 4 | Loss: 0.4430631399154663 | Accuracy: 87.5%\n",
            "GB | Epoch 4 | Loss: 0.35281842947006226 | Accuracy: 87.5%\n"
          ]
        },
        {
          "name": "stderr",
          "output_type": "stream",
          "text": [
            "Epoch 4:  88%|████████▊ | 662/751 [00:06<00:00, 116.42batch/s, accuracy=78.125%, loss=0.456]"
          ]
        },
        {
          "name": "stdout",
          "output_type": "stream",
          "text": [
            "GB | Epoch 4 | Loss: 0.5101912617683411 | Accuracy: 78.125%\n",
            "GB | Epoch 4 | Loss: 0.40600085258483887 | Accuracy: 79.6875%\n",
            "GB | Epoch 4 | Loss: 0.4987374544143677 | Accuracy: 75.0%\n",
            "GB | Epoch 4 | Loss: 0.5311552882194519 | Accuracy: 78.125%\n",
            "GB | Epoch 4 | Loss: 0.46981126070022583 | Accuracy: 79.6875%\n",
            "GB | Epoch 4 | Loss: 0.4328732490539551 | Accuracy: 84.375%\n",
            "GB | Epoch 4 | Loss: 0.44535553455352783 | Accuracy: 84.375%\n",
            "GB | Epoch 4 | Loss: 0.4632011651992798 | Accuracy: 79.6875%\n",
            "GB | Epoch 4 | Loss: 0.4873218536376953 | Accuracy: 81.25%\n",
            "GB | Epoch 4 | Loss: 0.4237021505832672 | Accuracy: 82.8125%\n",
            "GB | Epoch 4 | Loss: 0.5375366806983948 | Accuracy: 81.25%\n",
            "GB | Epoch 4 | Loss: 0.6058551669120789 | Accuracy: 78.125%\n",
            "GB | Epoch 4 | Loss: 0.5137341022491455 | Accuracy: 79.6875%\n",
            "GB | Epoch 4 | Loss: 0.5025231242179871 | Accuracy: 75.0%\n",
            "GB | Epoch 4 | Loss: 0.2923862338066101 | Accuracy: 85.9375%\n",
            "GB | Epoch 4 | Loss: 0.5222455263137817 | Accuracy: 76.5625%\n",
            "GB | Epoch 4 | Loss: 0.45548397302627563 | Accuracy: 81.25%\n",
            "GB | Epoch 4 | Loss: 0.37241309881210327 | Accuracy: 81.25%\n",
            "GB | Epoch 4 | Loss: 0.4443923830986023 | Accuracy: 78.125%\n",
            "GB | Epoch 4 | Loss: 0.45972907543182373 | Accuracy: 78.125%\n",
            "GB | Epoch 4 | Loss: 0.4963751435279846 | Accuracy: 76.5625%\n",
            "GB | Epoch 4 | Loss: 0.23753651976585388 | Accuracy: 93.75%\n",
            "GB | Epoch 4 | Loss: 0.46773797273635864 | Accuracy: 81.25%\n",
            "GB | Epoch 4 | Loss: 0.4562065303325653 | Accuracy: 78.125%\n"
          ]
        },
        {
          "name": "stderr",
          "output_type": "stream",
          "text": [
            "Epoch 4:  91%|█████████▏| 687/751 [00:06<00:00, 116.66batch/s, accuracy=87.5%, loss=0.357]"
          ]
        },
        {
          "name": "stdout",
          "output_type": "stream",
          "text": [
            "GB | Epoch 4 | Loss: 0.32014229893684387 | Accuracy: 85.9375%\n",
            "GB | Epoch 4 | Loss: 0.5366700291633606 | Accuracy: 75.0%\n",
            "GB | Epoch 4 | Loss: 0.37570589780807495 | Accuracy: 89.0625%\n",
            "GB | Epoch 4 | Loss: 0.6594530344009399 | Accuracy: 68.75%\n",
            "GB | Epoch 4 | Loss: 0.6145596504211426 | Accuracy: 73.4375%\n",
            "GB | Epoch 4 | Loss: 0.5477296113967896 | Accuracy: 76.5625%\n",
            "GB | Epoch 4 | Loss: 0.440189927816391 | Accuracy: 87.5%\n",
            "GB | Epoch 4 | Loss: 0.4111694097518921 | Accuracy: 84.375%\n",
            "GB | Epoch 4 | Loss: 0.40931540727615356 | Accuracy: 82.8125%\n",
            "GB | Epoch 4 | Loss: 0.5618373155593872 | Accuracy: 79.6875%\n",
            "GB | Epoch 4 | Loss: 0.4952011704444885 | Accuracy: 76.5625%\n",
            "GB | Epoch 4 | Loss: 0.4459892511367798 | Accuracy: 84.375%\n",
            "GB | Epoch 4 | Loss: 0.43632397055625916 | Accuracy: 87.5%\n",
            "GB | Epoch 4 | Loss: 0.3962692618370056 | Accuracy: 89.0625%\n",
            "GB | Epoch 4 | Loss: 0.5146353244781494 | Accuracy: 79.6875%\n",
            "GB | Epoch 4 | Loss: 0.4648890197277069 | Accuracy: 81.25%\n",
            "GB | Epoch 4 | Loss: 0.6278598308563232 | Accuracy: 75.0%\n",
            "GB | Epoch 4 | Loss: 0.49459922313690186 | Accuracy: 84.375%\n",
            "GB | Epoch 4 | Loss: 0.38473454117774963 | Accuracy: 92.1875%\n",
            "GB | Epoch 4 | Loss: 0.5336787104606628 | Accuracy: 82.8125%\n",
            "GB | Epoch 4 | Loss: 0.5115509629249573 | Accuracy: 79.6875%\n",
            "GB | Epoch 4 | Loss: 0.39028921723365784 | Accuracy: 92.1875%\n",
            "GB | Epoch 4 | Loss: 0.6055334806442261 | Accuracy: 76.5625%\n",
            "GB | Epoch 4 | Loss: 0.35687240958213806 | Accuracy: 87.5%\n"
          ]
        },
        {
          "name": "stderr",
          "output_type": "stream",
          "text": [
            "Epoch 4:  95%|█████████▍| 712/751 [00:06<00:00, 119.18batch/s, accuracy=82.8125%, loss=0.492]"
          ]
        },
        {
          "name": "stdout",
          "output_type": "stream",
          "text": [
            "GB | Epoch 4 | Loss: 0.3332441747188568 | Accuracy: 92.1875%\n",
            "GB | Epoch 4 | Loss: 0.49669528007507324 | Accuracy: 85.9375%\n",
            "GB | Epoch 4 | Loss: 0.4966579079627991 | Accuracy: 82.8125%\n",
            "GB | Epoch 4 | Loss: 0.4486788213253021 | Accuracy: 84.375%\n",
            "GB | Epoch 4 | Loss: 0.5120173692703247 | Accuracy: 82.8125%\n",
            "GB | Epoch 4 | Loss: 0.4891873896121979 | Accuracy: 81.25%\n",
            "GB | Epoch 4 | Loss: 0.4926910698413849 | Accuracy: 85.9375%\n",
            "GB | Epoch 4 | Loss: 0.39402198791503906 | Accuracy: 89.0625%\n",
            "GB | Epoch 4 | Loss: 0.45417526364326477 | Accuracy: 85.9375%\n",
            "GB | Epoch 4 | Loss: 0.3750108480453491 | Accuracy: 84.375%\n",
            "GB | Epoch 4 | Loss: 0.6459717750549316 | Accuracy: 81.25%\n",
            "GB | Epoch 4 | Loss: 0.5174870491027832 | Accuracy: 81.25%\n",
            "GB | Epoch 4 | Loss: 0.3868638277053833 | Accuracy: 87.5%\n",
            "GB | Epoch 4 | Loss: 0.3947625160217285 | Accuracy: 87.5%\n",
            "GB | Epoch 4 | Loss: 0.5194803476333618 | Accuracy: 78.125%\n",
            "GB | Epoch 4 | Loss: 0.5103416442871094 | Accuracy: 84.375%\n",
            "GB | Epoch 4 | Loss: 0.5285472273826599 | Accuracy: 79.6875%\n",
            "GB | Epoch 4 | Loss: 0.29293951392173767 | Accuracy: 92.1875%\n",
            "GB | Epoch 4 | Loss: 0.36030811071395874 | Accuracy: 87.5%\n",
            "GB | Epoch 4 | Loss: 0.5360569357872009 | Accuracy: 81.25%\n",
            "GB | Epoch 4 | Loss: 0.4560278058052063 | Accuracy: 87.5%\n",
            "GB | Epoch 4 | Loss: 0.48323121666908264 | Accuracy: 79.6875%\n",
            "GB | Epoch 4 | Loss: 0.4462955892086029 | Accuracy: 82.8125%\n",
            "GB | Epoch 4 | Loss: 0.5790934562683105 | Accuracy: 76.5625%\n",
            "GB | Epoch 4 | Loss: 0.4916021227836609 | Accuracy: 82.8125%\n"
          ]
        },
        {
          "name": "stderr",
          "output_type": "stream",
          "text": [
            "Epoch 4:  96%|█████████▋| 724/751 [00:06<00:00, 116.87batch/s, accuracy=87.5%, loss=0.384]  "
          ]
        },
        {
          "name": "stdout",
          "output_type": "stream",
          "text": [
            "GB | Epoch 4 | Loss: 0.4254876971244812 | Accuracy: 84.375%\n",
            "GB | Epoch 4 | Loss: 0.3798060715198517 | Accuracy: 84.375%\n",
            "GB | Epoch 4 | Loss: 0.33920180797576904 | Accuracy: 85.9375%\n",
            "GB | Epoch 4 | Loss: 0.5227480530738831 | Accuracy: 76.5625%\n",
            "GB | Epoch 4 | Loss: 0.49750587344169617 | Accuracy: 79.6875%\n",
            "GB | Epoch 4 | Loss: 0.4086769223213196 | Accuracy: 89.0625%\n",
            "GB | Epoch 4 | Loss: 0.4227735996246338 | Accuracy: 84.375%\n",
            "GB | Epoch 4 | Loss: 0.3717406392097473 | Accuracy: 90.625%\n",
            "GB | Epoch 4 | Loss: 0.39947381615638733 | Accuracy: 84.375%\n",
            "GB | Epoch 4 | Loss: 0.3637038767337799 | Accuracy: 85.9375%\n",
            "GB | Epoch 4 | Loss: 0.4416552186012268 | Accuracy: 90.625%\n",
            "GB | Epoch 4 | Loss: 0.42283281683921814 | Accuracy: 81.25%\n",
            "GB | Epoch 4 | Loss: 0.43548583984375 | Accuracy: 87.5%\n",
            "GB | Epoch 4 | Loss: 0.4732635021209717 | Accuracy: 81.25%\n",
            "GB | Epoch 4 | Loss: 0.5221084952354431 | Accuracy: 78.125%\n",
            "GB | Epoch 4 | Loss: 0.309905469417572 | Accuracy: 92.1875%\n",
            "GB | Epoch 4 | Loss: 0.4600653648376465 | Accuracy: 82.8125%\n",
            "GB | Epoch 4 | Loss: 0.4640854597091675 | Accuracy: 84.375%\n",
            "GB | Epoch 4 | Loss: 0.3969072699546814 | Accuracy: 89.0625%\n",
            "GB | Epoch 4 | Loss: 0.347698450088501 | Accuracy: 89.0625%\n",
            "GB | Epoch 4 | Loss: 0.3135501444339752 | Accuracy: 89.0625%\n",
            "GB | Epoch 4 | Loss: 0.355092316865921 | Accuracy: 85.9375%\n",
            "GB | Epoch 4 | Loss: 0.38734370470046997 | Accuracy: 87.5%\n",
            "GB | Epoch 4 | Loss: 0.46514636278152466 | Accuracy: 78.125%\n"
          ]
        },
        {
          "name": "stderr",
          "output_type": "stream",
          "text": [
            "Epoch 4:  98%|█████████▊| 737/751 [00:06<00:00, 118.47batch/s, accuracy=75.0%, loss=0.728]"
          ]
        },
        {
          "name": "stdout",
          "output_type": "stream",
          "text": [
            "GB | Epoch 4 | Loss: 0.3838815689086914 | Accuracy: 87.5%\n",
            "GB | Epoch 4 | Loss: 0.42499056458473206 | Accuracy: 82.8125%\n",
            "GB | Epoch 4 | Loss: 0.397802472114563 | Accuracy: 85.9375%\n",
            "GB | Epoch 4 | Loss: 0.4408744275569916 | Accuracy: 84.375%\n",
            "GB | Epoch 4 | Loss: 0.4785282015800476 | Accuracy: 79.6875%\n",
            "GB | Epoch 4 | Loss: 0.6775768399238586 | Accuracy: 82.8125%\n",
            "GB | Epoch 4 | Loss: 0.4335169196128845 | Accuracy: 82.8125%\n",
            "GB | Epoch 4 | Loss: 0.4561988115310669 | Accuracy: 82.8125%\n",
            "GB | Epoch 4 | Loss: 0.46745988726615906 | Accuracy: 81.25%\n",
            "GB | Epoch 4 | Loss: 0.4450228810310364 | Accuracy: 84.375%\n",
            "GB | Epoch 4 | Loss: 0.48430436849594116 | Accuracy: 87.5%\n",
            "GB | Epoch 4 | Loss: 0.5853269100189209 | Accuracy: 81.25%\n",
            "GB | Epoch 4 | Loss: 0.3703388571739197 | Accuracy: 89.0625%\n",
            "GB | Epoch 4 | Loss: 0.599533200263977 | Accuracy: 81.25%\n",
            "GB | Epoch 4 | Loss: 0.7284409999847412 | Accuracy: 75.0%\n"
          ]
        },
        {
          "name": "stderr",
          "output_type": "stream",
          "text": [
            "Epoch 4: 100%|██████████| 751/751 [00:07<00:00, 106.32batch/s, accuracy=75.0%, loss=0.728]\n",
            "Epoch 5:   2%|▏         | 13/751 [00:00<00:17, 42.27batch/s, accuracy=84.375%, loss=0.438]"
          ]
        },
        {
          "name": "stdout",
          "output_type": "stream",
          "text": [
            "GB | Epoch 5 | Loss: 0.5871977806091309 | Accuracy: 76.5625%\n",
            "GB | Epoch 5 | Loss: 0.5448177456855774 | Accuracy: 75.0%\n",
            "GB | Epoch 5 | Loss: 0.49463894963264465 | Accuracy: 84.375%\n",
            "GB | Epoch 5 | Loss: 0.48879101872444153 | Accuracy: 81.25%\n",
            "GB | Epoch 5 | Loss: 0.49574631452560425 | Accuracy: 85.9375%\n",
            "GB | Epoch 5 | Loss: 0.40558546781539917 | Accuracy: 85.9375%\n",
            "GB | Epoch 5 | Loss: 0.4957197904586792 | Accuracy: 81.25%\n",
            "GB | Epoch 5 | Loss: 0.39594006538391113 | Accuracy: 82.8125%\n",
            "GB | Epoch 5 | Loss: 0.5910570621490479 | Accuracy: 73.4375%\n",
            "GB | Epoch 5 | Loss: 0.32134243845939636 | Accuracy: 87.5%\n",
            "GB | Epoch 5 | Loss: 0.5044898390769958 | Accuracy: 89.0625%\n",
            "GB | Epoch 5 | Loss: 0.4871089458465576 | Accuracy: 84.375%\n",
            "GB | Epoch 5 | Loss: 0.36117807030677795 | Accuracy: 93.75%\n",
            "GB | Epoch 5 | Loss: 0.3080895245075226 | Accuracy: 95.3125%\n",
            "GB | Epoch 5 | Loss: 0.5410034656524658 | Accuracy: 79.6875%\n",
            "GB | Epoch 5 | Loss: 0.3843739926815033 | Accuracy: 89.0625%\n",
            "GB | Epoch 5 | Loss: 0.35900160670280457 | Accuracy: 89.0625%\n",
            "GB | Epoch 5 | Loss: 0.4067429304122925 | Accuracy: 89.0625%\n",
            "GB | Epoch 5 | Loss: 0.34291544556617737 | Accuracy: 90.625%\n",
            "GB | Epoch 5 | Loss: 0.32534608244895935 | Accuracy: 87.5%\n",
            "GB | Epoch 5 | Loss: 0.42147397994995117 | Accuracy: 85.9375%\n",
            "GB | Epoch 5 | Loss: 0.42853495478630066 | Accuracy: 87.5%\n"
          ]
        },
        {
          "name": "stderr",
          "output_type": "stream",
          "text": [
            "Epoch 5:   5%|▍         | 37/751 [00:00<00:08, 81.87batch/s, accuracy=92.1875%, loss=0.329]"
          ]
        },
        {
          "name": "stdout",
          "output_type": "stream",
          "text": [
            "GB | Epoch 5 | Loss: 0.4384177625179291 | Accuracy: 84.375%\n",
            "GB | Epoch 5 | Loss: 0.3702291250228882 | Accuracy: 87.5%\n",
            "GB | Epoch 5 | Loss: 0.4201679825782776 | Accuracy: 82.8125%\n",
            "GB | Epoch 5 | Loss: 0.359769731760025 | Accuracy: 84.375%\n",
            "GB | Epoch 5 | Loss: 0.6452212929725647 | Accuracy: 73.4375%\n",
            "GB | Epoch 5 | Loss: 0.4462108910083771 | Accuracy: 85.9375%\n",
            "GB | Epoch 5 | Loss: 0.6971666216850281 | Accuracy: 73.4375%\n",
            "GB | Epoch 5 | Loss: 0.5284882187843323 | Accuracy: 73.4375%\n",
            "GB | Epoch 5 | Loss: 0.4443871080875397 | Accuracy: 87.5%\n",
            "GB | Epoch 5 | Loss: 0.5446394681930542 | Accuracy: 79.6875%\n",
            "GB | Epoch 5 | Loss: 0.3021644055843353 | Accuracy: 90.625%\n",
            "GB | Epoch 5 | Loss: 0.3911513090133667 | Accuracy: 85.9375%\n",
            "GB | Epoch 5 | Loss: 0.4471897780895233 | Accuracy: 81.25%\n",
            "GB | Epoch 5 | Loss: 0.3880070745944977 | Accuracy: 90.625%\n",
            "GB | Epoch 5 | Loss: 0.3466964364051819 | Accuracy: 89.0625%\n",
            "GB | Epoch 5 | Loss: 0.491167813539505 | Accuracy: 82.8125%\n",
            "GB | Epoch 5 | Loss: 0.43802914023399353 | Accuracy: 81.25%\n",
            "GB | Epoch 5 | Loss: 0.3446315824985504 | Accuracy: 92.1875%\n",
            "GB | Epoch 5 | Loss: 0.2766088843345642 | Accuracy: 93.75%\n",
            "GB | Epoch 5 | Loss: 0.46711400151252747 | Accuracy: 84.375%\n",
            "GB | Epoch 5 | Loss: 0.5148247480392456 | Accuracy: 82.8125%\n",
            "GB | Epoch 5 | Loss: 0.31227827072143555 | Accuracy: 93.75%\n",
            "GB | Epoch 5 | Loss: 0.3285478353500366 | Accuracy: 92.1875%\n"
          ]
        },
        {
          "name": "stderr",
          "output_type": "stream",
          "text": [
            "Epoch 5:   8%|▊         | 59/751 [00:00<00:07, 93.80batch/s, accuracy=87.5%, loss=0.405] "
          ]
        },
        {
          "name": "stdout",
          "output_type": "stream",
          "text": [
            "GB | Epoch 5 | Loss: 0.507727324962616 | Accuracy: 82.8125%\n",
            "GB | Epoch 5 | Loss: 0.3364046812057495 | Accuracy: 95.3125%\n",
            "GB | Epoch 5 | Loss: 0.35096022486686707 | Accuracy: 87.5%\n",
            "GB | Epoch 5 | Loss: 0.35758790373802185 | Accuracy: 85.9375%\n",
            "GB | Epoch 5 | Loss: 0.705223560333252 | Accuracy: 81.25%\n",
            "GB | Epoch 5 | Loss: 0.6785500645637512 | Accuracy: 79.6875%\n",
            "GB | Epoch 5 | Loss: 0.4202020764350891 | Accuracy: 89.0625%\n",
            "GB | Epoch 5 | Loss: 0.3487700819969177 | Accuracy: 92.1875%\n",
            "GB | Epoch 5 | Loss: 0.3660789728164673 | Accuracy: 90.625%\n",
            "GB | Epoch 5 | Loss: 0.46887311339378357 | Accuracy: 81.25%\n",
            "GB | Epoch 5 | Loss: 0.330958753824234 | Accuracy: 90.625%\n",
            "GB | Epoch 5 | Loss: 0.43548524379730225 | Accuracy: 85.9375%\n",
            "GB | Epoch 5 | Loss: 0.3219214379787445 | Accuracy: 90.625%\n",
            "GB | Epoch 5 | Loss: 0.4951039254665375 | Accuracy: 84.375%\n",
            "GB | Epoch 5 | Loss: 0.4654775857925415 | Accuracy: 89.0625%\n",
            "GB | Epoch 5 | Loss: 0.48888102173805237 | Accuracy: 81.25%\n",
            "GB | Epoch 5 | Loss: 0.332233726978302 | Accuracy: 92.1875%\n",
            "GB | Epoch 5 | Loss: 0.23685327172279358 | Accuracy: 96.875%\n",
            "GB | Epoch 5 | Loss: 0.5362914204597473 | Accuracy: 79.6875%\n",
            "GB | Epoch 5 | Loss: 0.3207167387008667 | Accuracy: 93.75%\n",
            "GB | Epoch 5 | Loss: 0.4857909083366394 | Accuracy: 81.25%\n",
            "GB | Epoch 5 | Loss: 0.40483489632606506 | Accuracy: 87.5%\n"
          ]
        },
        {
          "name": "stderr",
          "output_type": "stream",
          "text": [
            "Epoch 5:  11%|█         | 83/751 [00:01<00:06, 104.45batch/s, accuracy=81.25%, loss=0.519] "
          ]
        },
        {
          "name": "stdout",
          "output_type": "stream",
          "text": [
            "GB | Epoch 5 | Loss: 0.4823480546474457 | Accuracy: 84.375%\n",
            "GB | Epoch 5 | Loss: 0.4337838292121887 | Accuracy: 87.5%\n",
            "GB | Epoch 5 | Loss: 0.37181520462036133 | Accuracy: 87.5%\n",
            "GB | Epoch 5 | Loss: 0.4394318759441376 | Accuracy: 84.375%\n",
            "GB | Epoch 5 | Loss: 0.3849357068538666 | Accuracy: 85.9375%\n",
            "GB | Epoch 5 | Loss: 0.34778115153312683 | Accuracy: 89.0625%\n",
            "GB | Epoch 5 | Loss: 0.3894467055797577 | Accuracy: 84.375%\n",
            "GB | Epoch 5 | Loss: 0.42191776633262634 | Accuracy: 84.375%\n",
            "GB | Epoch 5 | Loss: 0.36570000648498535 | Accuracy: 90.625%\n",
            "GB | Epoch 5 | Loss: 0.47413578629493713 | Accuracy: 79.6875%\n",
            "GB | Epoch 5 | Loss: 0.37583762407302856 | Accuracy: 87.5%\n",
            "GB | Epoch 5 | Loss: 0.40915387868881226 | Accuracy: 82.8125%\n",
            "GB | Epoch 5 | Loss: 0.33567485213279724 | Accuracy: 82.8125%\n",
            "GB | Epoch 5 | Loss: 0.40681537985801697 | Accuracy: 85.9375%\n",
            "GB | Epoch 5 | Loss: 0.39002707600593567 | Accuracy: 87.5%\n",
            "GB | Epoch 5 | Loss: 0.31575343012809753 | Accuracy: 93.75%\n",
            "GB | Epoch 5 | Loss: 0.37638962268829346 | Accuracy: 84.375%\n",
            "GB | Epoch 5 | Loss: 0.6981372833251953 | Accuracy: 67.1875%\n",
            "GB | Epoch 5 | Loss: 0.38739094138145447 | Accuracy: 89.0625%\n",
            "GB | Epoch 5 | Loss: 0.3433404564857483 | Accuracy: 87.5%\n",
            "GB | Epoch 5 | Loss: 0.35584622621536255 | Accuracy: 87.5%\n",
            "GB | Epoch 5 | Loss: 0.29463157057762146 | Accuracy: 90.625%\n",
            "GB | Epoch 5 | Loss: 0.5187587738037109 | Accuracy: 81.25%\n"
          ]
        },
        {
          "name": "stderr",
          "output_type": "stream",
          "text": [
            "Epoch 5:  14%|█▍        | 106/751 [00:01<00:05, 108.19batch/s, accuracy=82.8125%, loss=0.478]"
          ]
        },
        {
          "name": "stdout",
          "output_type": "stream",
          "text": [
            "GB | Epoch 5 | Loss: 0.39008063077926636 | Accuracy: 90.625%\n",
            "GB | Epoch 5 | Loss: 0.5014818906784058 | Accuracy: 81.25%\n",
            "GB | Epoch 5 | Loss: 0.4804825782775879 | Accuracy: 79.6875%\n",
            "GB | Epoch 5 | Loss: 0.3127700984477997 | Accuracy: 92.1875%\n",
            "GB | Epoch 5 | Loss: 0.4042024314403534 | Accuracy: 82.8125%\n",
            "GB | Epoch 5 | Loss: 0.3561123013496399 | Accuracy: 85.9375%\n",
            "GB | Epoch 5 | Loss: 0.2699996829032898 | Accuracy: 92.1875%\n",
            "GB | Epoch 5 | Loss: 0.5535728931427002 | Accuracy: 81.25%\n",
            "GB | Epoch 5 | Loss: 0.31127235293388367 | Accuracy: 90.625%\n",
            "GB | Epoch 5 | Loss: 0.4765908718109131 | Accuracy: 81.25%\n",
            "GB | Epoch 5 | Loss: 0.42305007576942444 | Accuracy: 85.9375%\n",
            "GB | Epoch 5 | Loss: 0.3809281587600708 | Accuracy: 82.8125%\n",
            "GB | Epoch 5 | Loss: 0.5492023825645447 | Accuracy: 81.25%\n",
            "GB | Epoch 5 | Loss: 0.3046981990337372 | Accuracy: 89.0625%\n",
            "GB | Epoch 5 | Loss: 0.34555280208587646 | Accuracy: 89.0625%\n",
            "GB | Epoch 5 | Loss: 0.4514581561088562 | Accuracy: 85.9375%\n",
            "GB | Epoch 5 | Loss: 0.36482927203178406 | Accuracy: 89.0625%\n",
            "GB | Epoch 5 | Loss: 0.4168173670768738 | Accuracy: 84.375%\n",
            "GB | Epoch 5 | Loss: 0.4265626072883606 | Accuracy: 84.375%\n",
            "GB | Epoch 5 | Loss: 0.3863879144191742 | Accuracy: 85.9375%\n",
            "GB | Epoch 5 | Loss: 0.4403630495071411 | Accuracy: 87.5%\n",
            "GB | Epoch 5 | Loss: 0.2993101179599762 | Accuracy: 90.625%\n",
            "GB | Epoch 5 | Loss: 0.47771114110946655 | Accuracy: 82.8125%\n"
          ]
        },
        {
          "name": "stderr",
          "output_type": "stream",
          "text": [
            "Epoch 5:  17%|█▋        | 130/751 [00:01<00:05, 109.82batch/s, accuracy=84.375%, loss=0.381]"
          ]
        },
        {
          "name": "stdout",
          "output_type": "stream",
          "text": [
            "GB | Epoch 5 | Loss: 0.552424967288971 | Accuracy: 75.0%\n",
            "GB | Epoch 5 | Loss: 0.41018548607826233 | Accuracy: 87.5%\n",
            "GB | Epoch 5 | Loss: 0.4273938238620758 | Accuracy: 81.25%\n",
            "GB | Epoch 5 | Loss: 0.3309604227542877 | Accuracy: 92.1875%\n",
            "GB | Epoch 5 | Loss: 0.48473915457725525 | Accuracy: 79.6875%\n",
            "GB | Epoch 5 | Loss: 0.3590676188468933 | Accuracy: 95.3125%\n",
            "GB | Epoch 5 | Loss: 0.3653453588485718 | Accuracy: 89.0625%\n",
            "GB | Epoch 5 | Loss: 0.4021753668785095 | Accuracy: 84.375%\n",
            "GB | Epoch 5 | Loss: 0.27026474475860596 | Accuracy: 92.1875%\n",
            "GB | Epoch 5 | Loss: 0.45521119236946106 | Accuracy: 79.6875%\n",
            "GB | Epoch 5 | Loss: 0.4800427258014679 | Accuracy: 87.5%\n",
            "GB | Epoch 5 | Loss: 0.516870379447937 | Accuracy: 81.25%\n",
            "GB | Epoch 5 | Loss: 0.494768351316452 | Accuracy: 85.9375%\n",
            "GB | Epoch 5 | Loss: 0.3731788098812103 | Accuracy: 89.0625%\n",
            "GB | Epoch 5 | Loss: 0.4429367184638977 | Accuracy: 81.25%\n",
            "GB | Epoch 5 | Loss: 0.40751051902770996 | Accuracy: 85.9375%\n",
            "GB | Epoch 5 | Loss: 0.5552071928977966 | Accuracy: 76.5625%\n",
            "GB | Epoch 5 | Loss: 0.3970591425895691 | Accuracy: 89.0625%\n",
            "GB | Epoch 5 | Loss: 0.35517945885658264 | Accuracy: 92.1875%\n",
            "GB | Epoch 5 | Loss: 0.3297742009162903 | Accuracy: 89.0625%\n",
            "GB | Epoch 5 | Loss: 0.4132234454154968 | Accuracy: 84.375%\n",
            "GB | Epoch 5 | Loss: 0.36314070224761963 | Accuracy: 87.5%\n",
            "GB | Epoch 5 | Loss: 0.3596054017543793 | Accuracy: 89.0625%\n",
            "GB | Epoch 5 | Loss: 0.38085928559303284 | Accuracy: 84.375%\n"
          ]
        },
        {
          "name": "stderr",
          "output_type": "stream",
          "text": [
            "Epoch 5:  21%|██        | 154/751 [00:01<00:05, 111.98batch/s, accuracy=85.9375%, loss=0.389]"
          ]
        },
        {
          "name": "stdout",
          "output_type": "stream",
          "text": [
            "GB | Epoch 5 | Loss: 0.31998178362846375 | Accuracy: 92.1875%\n",
            "GB | Epoch 5 | Loss: 0.39322444796562195 | Accuracy: 93.75%\n",
            "GB | Epoch 5 | Loss: 0.3934635519981384 | Accuracy: 85.9375%\n",
            "GB | Epoch 5 | Loss: 0.3473365008831024 | Accuracy: 82.8125%\n",
            "GB | Epoch 5 | Loss: 0.246000275015831 | Accuracy: 92.1875%\n",
            "GB | Epoch 5 | Loss: 0.24009236693382263 | Accuracy: 93.75%\n",
            "GB | Epoch 5 | Loss: 0.44044533371925354 | Accuracy: 81.25%\n",
            "GB | Epoch 5 | Loss: 0.42219415307044983 | Accuracy: 92.1875%\n",
            "GB | Epoch 5 | Loss: 0.36709481477737427 | Accuracy: 85.9375%\n",
            "GB | Epoch 5 | Loss: 0.45621898770332336 | Accuracy: 82.8125%\n",
            "GB | Epoch 5 | Loss: 0.5501797795295715 | Accuracy: 84.375%\n",
            "GB | Epoch 5 | Loss: 0.40103718638420105 | Accuracy: 84.375%\n",
            "GB | Epoch 5 | Loss: 0.29993900656700134 | Accuracy: 92.1875%\n",
            "GB | Epoch 5 | Loss: 0.3710949420928955 | Accuracy: 90.625%\n",
            "GB | Epoch 5 | Loss: 0.4293786585330963 | Accuracy: 84.375%\n",
            "GB | Epoch 5 | Loss: 0.3577161431312561 | Accuracy: 90.625%\n",
            "GB | Epoch 5 | Loss: 0.4633956849575043 | Accuracy: 82.8125%\n",
            "GB | Epoch 5 | Loss: 0.45403438806533813 | Accuracy: 81.25%\n",
            "GB | Epoch 5 | Loss: 0.4377233386039734 | Accuracy: 82.8125%\n",
            "GB | Epoch 5 | Loss: 0.42546895146369934 | Accuracy: 85.9375%\n",
            "GB | Epoch 5 | Loss: 0.34420520067214966 | Accuracy: 90.625%\n",
            "GB | Epoch 5 | Loss: 0.441434383392334 | Accuracy: 85.9375%\n",
            "GB | Epoch 5 | Loss: 0.3885464072227478 | Accuracy: 85.9375%\n"
          ]
        },
        {
          "name": "stderr",
          "output_type": "stream",
          "text": [
            "Epoch 5:  24%|██▎       | 178/751 [00:01<00:05, 111.97batch/s, accuracy=87.5%, loss=0.454]   "
          ]
        },
        {
          "name": "stdout",
          "output_type": "stream",
          "text": [
            "GB | Epoch 5 | Loss: 0.46407514810562134 | Accuracy: 76.5625%\n",
            "GB | Epoch 5 | Loss: 0.37460002303123474 | Accuracy: 87.5%\n",
            "GB | Epoch 5 | Loss: 0.38207948207855225 | Accuracy: 87.5%\n",
            "GB | Epoch 5 | Loss: 0.3791115880012512 | Accuracy: 87.5%\n",
            "GB | Epoch 5 | Loss: 0.3989318013191223 | Accuracy: 85.9375%\n",
            "GB | Epoch 5 | Loss: 0.46427682042121887 | Accuracy: 85.9375%\n",
            "GB | Epoch 5 | Loss: 0.29795101284980774 | Accuracy: 93.75%\n",
            "GB | Epoch 5 | Loss: 0.4480511248111725 | Accuracy: 81.25%\n",
            "GB | Epoch 5 | Loss: 0.34871143102645874 | Accuracy: 87.5%\n",
            "GB | Epoch 5 | Loss: 0.39543765783309937 | Accuracy: 90.625%\n",
            "GB | Epoch 5 | Loss: 0.24523212015628815 | Accuracy: 89.0625%\n",
            "GB | Epoch 5 | Loss: 0.4582720398902893 | Accuracy: 89.0625%\n",
            "GB | Epoch 5 | Loss: 0.4428790807723999 | Accuracy: 84.375%\n",
            "GB | Epoch 5 | Loss: 0.3169092833995819 | Accuracy: 90.625%\n",
            "GB | Epoch 5 | Loss: 0.6299980878829956 | Accuracy: 81.25%\n",
            "GB | Epoch 5 | Loss: 0.4242106080055237 | Accuracy: 84.375%\n",
            "GB | Epoch 5 | Loss: 0.3177865743637085 | Accuracy: 90.625%\n",
            "GB | Epoch 5 | Loss: 0.33057454228401184 | Accuracy: 95.3125%\n",
            "GB | Epoch 5 | Loss: 0.33135634660720825 | Accuracy: 89.0625%\n",
            "GB | Epoch 5 | Loss: 0.3263096213340759 | Accuracy: 87.5%\n",
            "GB | Epoch 5 | Loss: 0.3453681766986847 | Accuracy: 85.9375%\n",
            "GB | Epoch 5 | Loss: 0.35115939378738403 | Accuracy: 89.0625%\n",
            "GB | Epoch 5 | Loss: 0.4278872311115265 | Accuracy: 85.9375%\n",
            "GB | Epoch 5 | Loss: 0.4536372721195221 | Accuracy: 87.5%\n"
          ]
        },
        {
          "name": "stderr",
          "output_type": "stream",
          "text": [
            "Epoch 5:  27%|██▋       | 203/751 [00:02<00:04, 115.88batch/s, accuracy=92.1875%, loss=0.248]"
          ]
        },
        {
          "name": "stdout",
          "output_type": "stream",
          "text": [
            "GB | Epoch 5 | Loss: 0.42648985981941223 | Accuracy: 87.5%\n",
            "GB | Epoch 5 | Loss: 0.3517334461212158 | Accuracy: 90.625%\n",
            "GB | Epoch 5 | Loss: 0.4965098202228546 | Accuracy: 84.375%\n",
            "GB | Epoch 5 | Loss: 0.2910667955875397 | Accuracy: 89.0625%\n",
            "GB | Epoch 5 | Loss: 0.23984983563423157 | Accuracy: 95.3125%\n",
            "GB | Epoch 5 | Loss: 0.5132700204849243 | Accuracy: 85.9375%\n",
            "GB | Epoch 5 | Loss: 0.3984956741333008 | Accuracy: 85.9375%\n",
            "GB | Epoch 5 | Loss: 0.4597170650959015 | Accuracy: 81.25%\n",
            "GB | Epoch 5 | Loss: 0.4162371754646301 | Accuracy: 85.9375%\n",
            "GB | Epoch 5 | Loss: 0.24807099997997284 | Accuracy: 95.3125%\n",
            "GB | Epoch 5 | Loss: 0.3771004378795624 | Accuracy: 87.5%\n",
            "GB | Epoch 5 | Loss: 0.36428266763687134 | Accuracy: 87.5%\n",
            "GB | Epoch 5 | Loss: 0.440554678440094 | Accuracy: 82.8125%\n",
            "GB | Epoch 5 | Loss: 0.4305565059185028 | Accuracy: 85.9375%\n",
            "GB | Epoch 5 | Loss: 0.5011739730834961 | Accuracy: 84.375%\n",
            "GB | Epoch 5 | Loss: 0.47749727964401245 | Accuracy: 84.375%\n",
            "GB | Epoch 5 | Loss: 0.4114917814731598 | Accuracy: 85.9375%\n",
            "GB | Epoch 5 | Loss: 0.36044687032699585 | Accuracy: 85.9375%\n",
            "GB | Epoch 5 | Loss: 0.41317036747932434 | Accuracy: 84.375%\n",
            "GB | Epoch 5 | Loss: 0.33498215675354004 | Accuracy: 90.625%\n",
            "GB | Epoch 5 | Loss: 0.48364734649658203 | Accuracy: 82.8125%\n",
            "GB | Epoch 5 | Loss: 0.34455615282058716 | Accuracy: 87.5%\n",
            "GB | Epoch 5 | Loss: 0.35074520111083984 | Accuracy: 85.9375%\n",
            "GB | Epoch 5 | Loss: 0.2478403002023697 | Accuracy: 92.1875%\n"
          ]
        },
        {
          "name": "stderr",
          "output_type": "stream",
          "text": [
            "Epoch 5:  30%|███       | 227/751 [00:02<00:04, 111.35batch/s, accuracy=87.5%, loss=0.398]   "
          ]
        },
        {
          "name": "stdout",
          "output_type": "stream",
          "text": [
            "GB | Epoch 5 | Loss: 0.381835401058197 | Accuracy: 87.5%\n",
            "GB | Epoch 5 | Loss: 0.4072282314300537 | Accuracy: 87.5%\n",
            "GB | Epoch 5 | Loss: 0.47760719060897827 | Accuracy: 79.6875%\n",
            "GB | Epoch 5 | Loss: 0.49477359652519226 | Accuracy: 84.375%\n",
            "GB | Epoch 5 | Loss: 0.4001493453979492 | Accuracy: 84.375%\n",
            "GB | Epoch 5 | Loss: 0.39984118938446045 | Accuracy: 82.8125%\n",
            "GB | Epoch 5 | Loss: 0.47086089849472046 | Accuracy: 84.375%\n",
            "GB | Epoch 5 | Loss: 0.3631429374217987 | Accuracy: 89.0625%\n",
            "GB | Epoch 5 | Loss: 0.49281045794487 | Accuracy: 84.375%\n",
            "GB | Epoch 5 | Loss: 0.3528885245323181 | Accuracy: 90.625%\n",
            "GB | Epoch 5 | Loss: 0.5510058999061584 | Accuracy: 81.25%\n",
            "GB | Epoch 5 | Loss: 0.3336946964263916 | Accuracy: 92.1875%\n",
            "GB | Epoch 5 | Loss: 0.3290746510028839 | Accuracy: 85.9375%\n",
            "GB | Epoch 5 | Loss: 0.38467729091644287 | Accuracy: 82.8125%\n",
            "GB | Epoch 5 | Loss: 0.21447725594043732 | Accuracy: 96.875%\n",
            "GB | Epoch 5 | Loss: 0.5487020015716553 | Accuracy: 79.6875%\n",
            "GB | Epoch 5 | Loss: 0.3993009328842163 | Accuracy: 89.0625%\n",
            "GB | Epoch 5 | Loss: 0.2940095067024231 | Accuracy: 90.625%\n",
            "GB | Epoch 5 | Loss: 0.36929312348365784 | Accuracy: 90.625%\n",
            "GB | Epoch 5 | Loss: 0.3442516326904297 | Accuracy: 85.9375%\n",
            "GB | Epoch 5 | Loss: 0.29685869812965393 | Accuracy: 92.1875%\n",
            "GB | Epoch 5 | Loss: 0.397893488407135 | Accuracy: 87.5%\n"
          ]
        },
        {
          "name": "stderr",
          "output_type": "stream",
          "text": [
            "Epoch 5:  33%|███▎      | 251/751 [00:02<00:04, 113.45batch/s, accuracy=90.625%, loss=0.368]"
          ]
        },
        {
          "name": "stdout",
          "output_type": "stream",
          "text": [
            "GB | Epoch 5 | Loss: 0.3513319790363312 | Accuracy: 89.0625%\n",
            "GB | Epoch 5 | Loss: 0.7546265125274658 | Accuracy: 81.25%\n",
            "GB | Epoch 5 | Loss: 0.37473204731941223 | Accuracy: 81.25%\n",
            "GB | Epoch 5 | Loss: 0.41392630338668823 | Accuracy: 85.9375%\n",
            "GB | Epoch 5 | Loss: 0.2745179235935211 | Accuracy: 90.625%\n",
            "GB | Epoch 5 | Loss: 0.23101255297660828 | Accuracy: 95.3125%\n",
            "GB | Epoch 5 | Loss: 0.31316956877708435 | Accuracy: 89.0625%\n",
            "GB | Epoch 5 | Loss: 0.2096000611782074 | Accuracy: 95.3125%\n",
            "GB | Epoch 5 | Loss: 0.42271801829338074 | Accuracy: 84.375%\n",
            "GB | Epoch 5 | Loss: 0.36874690651893616 | Accuracy: 87.5%\n",
            "GB | Epoch 5 | Loss: 0.4231087267398834 | Accuracy: 84.375%\n",
            "GB | Epoch 5 | Loss: 0.30178913474082947 | Accuracy: 90.625%\n",
            "GB | Epoch 5 | Loss: 0.4842931926250458 | Accuracy: 84.375%\n",
            "GB | Epoch 5 | Loss: 0.27853304147720337 | Accuracy: 89.0625%\n",
            "GB | Epoch 5 | Loss: 0.5146807432174683 | Accuracy: 79.6875%\n",
            "GB | Epoch 5 | Loss: 0.2911301851272583 | Accuracy: 92.1875%\n",
            "GB | Epoch 5 | Loss: 0.3393763601779938 | Accuracy: 89.0625%\n",
            "GB | Epoch 5 | Loss: 0.396070659160614 | Accuracy: 84.375%\n",
            "GB | Epoch 5 | Loss: 0.3888094127178192 | Accuracy: 89.0625%\n",
            "GB | Epoch 5 | Loss: 0.3500533998012543 | Accuracy: 90.625%\n",
            "GB | Epoch 5 | Loss: 0.3779315650463104 | Accuracy: 89.0625%\n",
            "GB | Epoch 5 | Loss: 0.2638017237186432 | Accuracy: 90.625%\n",
            "GB | Epoch 5 | Loss: 0.3249870538711548 | Accuracy: 90.625%\n",
            "GB | Epoch 5 | Loss: 0.36794593930244446 | Accuracy: 90.625%\n"
          ]
        },
        {
          "name": "stderr",
          "output_type": "stream",
          "text": [
            "Epoch 5:  37%|███▋      | 275/751 [00:02<00:04, 109.81batch/s, accuracy=92.1875%, loss=0.332]"
          ]
        },
        {
          "name": "stdout",
          "output_type": "stream",
          "text": [
            "GB | Epoch 5 | Loss: 0.34686848521232605 | Accuracy: 90.625%\n",
            "GB | Epoch 5 | Loss: 0.3949931561946869 | Accuracy: 87.5%\n",
            "GB | Epoch 5 | Loss: 0.26779359579086304 | Accuracy: 96.875%\n",
            "GB | Epoch 5 | Loss: 0.4284850060939789 | Accuracy: 90.625%\n",
            "GB | Epoch 5 | Loss: 0.37518370151519775 | Accuracy: 90.625%\n",
            "GB | Epoch 5 | Loss: 0.28537479043006897 | Accuracy: 93.75%\n",
            "GB | Epoch 5 | Loss: 0.39461058378219604 | Accuracy: 84.375%\n",
            "GB | Epoch 5 | Loss: 0.37626317143440247 | Accuracy: 87.5%\n",
            "GB | Epoch 5 | Loss: 0.32431328296661377 | Accuracy: 89.0625%\n",
            "GB | Epoch 5 | Loss: 0.33282312750816345 | Accuracy: 85.9375%\n",
            "GB | Epoch 5 | Loss: 0.41120725870132446 | Accuracy: 85.9375%\n",
            "GB | Epoch 5 | Loss: 0.34947651624679565 | Accuracy: 84.375%\n",
            "GB | Epoch 5 | Loss: 0.3659467399120331 | Accuracy: 92.1875%\n",
            "GB | Epoch 5 | Loss: 0.30494025349617004 | Accuracy: 90.625%\n",
            "GB | Epoch 5 | Loss: 0.4150197505950928 | Accuracy: 87.5%\n",
            "GB | Epoch 5 | Loss: 0.3522856533527374 | Accuracy: 87.5%\n",
            "GB | Epoch 5 | Loss: 0.3363514542579651 | Accuracy: 90.625%\n",
            "GB | Epoch 5 | Loss: 0.32384932041168213 | Accuracy: 87.5%\n",
            "GB | Epoch 5 | Loss: 0.4123821556568146 | Accuracy: 87.5%\n",
            "GB | Epoch 5 | Loss: 0.42498376965522766 | Accuracy: 87.5%\n",
            "GB | Epoch 5 | Loss: 0.330567866563797 | Accuracy: 92.1875%\n",
            "GB | Epoch 5 | Loss: 0.33166182041168213 | Accuracy: 92.1875%\n"
          ]
        },
        {
          "name": "stderr",
          "output_type": "stream",
          "text": [
            "Epoch 5:  40%|███▉      | 300/751 [00:02<00:04, 112.40batch/s, accuracy=96.875%, loss=0.205]"
          ]
        },
        {
          "name": "stdout",
          "output_type": "stream",
          "text": [
            "GB | Epoch 5 | Loss: 0.29315218329429626 | Accuracy: 92.1875%\n",
            "GB | Epoch 5 | Loss: 0.3291361629962921 | Accuracy: 89.0625%\n",
            "GB | Epoch 5 | Loss: 0.40820664167404175 | Accuracy: 85.9375%\n",
            "GB | Epoch 5 | Loss: 0.37583136558532715 | Accuracy: 89.0625%\n",
            "GB | Epoch 5 | Loss: 0.31799641251564026 | Accuracy: 89.0625%\n",
            "GB | Epoch 5 | Loss: 0.4421338737010956 | Accuracy: 82.8125%\n",
            "GB | Epoch 5 | Loss: 0.3804909884929657 | Accuracy: 87.5%\n",
            "GB | Epoch 5 | Loss: 0.3674928545951843 | Accuracy: 84.375%\n",
            "GB | Epoch 5 | Loss: 0.2909627854824066 | Accuracy: 92.1875%\n",
            "GB | Epoch 5 | Loss: 0.41249513626098633 | Accuracy: 89.0625%\n",
            "GB | Epoch 5 | Loss: 0.275661438703537 | Accuracy: 90.625%\n",
            "GB | Epoch 5 | Loss: 0.2989148497581482 | Accuracy: 89.0625%\n",
            "GB | Epoch 5 | Loss: 0.3533835709095001 | Accuracy: 90.625%\n",
            "GB | Epoch 5 | Loss: 0.2872917354106903 | Accuracy: 95.3125%\n",
            "GB | Epoch 5 | Loss: 0.36287954449653625 | Accuracy: 95.3125%\n",
            "GB | Epoch 5 | Loss: 0.24681326746940613 | Accuracy: 95.3125%\n",
            "GB | Epoch 5 | Loss: 0.34387487173080444 | Accuracy: 89.0625%\n",
            "GB | Epoch 5 | Loss: 0.3035462498664856 | Accuracy: 95.3125%\n",
            "GB | Epoch 5 | Loss: 0.2577822208404541 | Accuracy: 92.1875%\n",
            "GB | Epoch 5 | Loss: 0.38769811391830444 | Accuracy: 87.5%\n",
            "GB | Epoch 5 | Loss: 0.34578442573547363 | Accuracy: 90.625%\n",
            "GB | Epoch 5 | Loss: 0.30182507634162903 | Accuracy: 90.625%\n",
            "GB | Epoch 5 | Loss: 0.3447118401527405 | Accuracy: 87.5%\n",
            "GB | Epoch 5 | Loss: 0.2045251727104187 | Accuracy: 96.875%\n"
          ]
        },
        {
          "name": "stderr",
          "output_type": "stream",
          "text": [
            "Epoch 5:  42%|████▏     | 312/751 [00:03<00:03, 113.32batch/s, accuracy=87.5%, loss=0.389]   "
          ]
        },
        {
          "name": "stdout",
          "output_type": "stream",
          "text": [
            "GB | Epoch 5 | Loss: 0.40618225932121277 | Accuracy: 84.375%\n",
            "GB | Epoch 5 | Loss: 0.2907412350177765 | Accuracy: 89.0625%\n",
            "GB | Epoch 5 | Loss: 0.3183321952819824 | Accuracy: 89.0625%\n",
            "GB | Epoch 5 | Loss: 0.35608169436454773 | Accuracy: 90.625%\n",
            "GB | Epoch 5 | Loss: 0.41274139285087585 | Accuracy: 84.375%\n",
            "GB | Epoch 5 | Loss: 0.4308028221130371 | Accuracy: 84.375%\n",
            "GB | Epoch 5 | Loss: 0.30334511399269104 | Accuracy: 89.0625%\n",
            "GB | Epoch 5 | Loss: 0.35109710693359375 | Accuracy: 87.5%\n",
            "GB | Epoch 5 | Loss: 0.33888140320777893 | Accuracy: 87.5%\n",
            "GB | Epoch 5 | Loss: 0.34551358222961426 | Accuracy: 87.5%\n",
            "GB | Epoch 5 | Loss: 0.4386279881000519 | Accuracy: 82.8125%\n",
            "GB | Epoch 5 | Loss: 0.26502060890197754 | Accuracy: 93.75%\n",
            "GB | Epoch 5 | Loss: 0.31400391459465027 | Accuracy: 89.0625%\n",
            "GB | Epoch 5 | Loss: 0.3596211373806 | Accuracy: 90.625%\n",
            "GB | Epoch 5 | Loss: 0.29823607206344604 | Accuracy: 92.1875%\n",
            "GB | Epoch 5 | Loss: 0.28494754433631897 | Accuracy: 93.75%\n",
            "GB | Epoch 5 | Loss: 0.3553607165813446 | Accuracy: 85.9375%\n",
            "GB | Epoch 5 | Loss: 0.3741729259490967 | Accuracy: 90.625%\n",
            "GB | Epoch 5 | Loss: 0.4725209176540375 | Accuracy: 79.6875%\n",
            "GB | Epoch 5 | Loss: 0.3169192969799042 | Accuracy: 87.5%\n",
            "GB | Epoch 5 | Loss: 0.39696022868156433 | Accuracy: 87.5%\n",
            "GB | Epoch 5 | Loss: 0.2914924621582031 | Accuracy: 95.3125%\n",
            "GB | Epoch 5 | Loss: 0.3889937102794647 | Accuracy: 87.5%\n"
          ]
        },
        {
          "name": "stderr",
          "output_type": "stream",
          "text": [
            "Epoch 5:  45%|████▍     | 336/751 [00:03<00:03, 112.95batch/s, accuracy=84.375%, loss=0.392] "
          ]
        },
        {
          "name": "stdout",
          "output_type": "stream",
          "text": [
            "GB | Epoch 5 | Loss: 0.31787604093551636 | Accuracy: 90.625%\n",
            "GB | Epoch 5 | Loss: 0.23777996003627777 | Accuracy: 93.75%\n",
            "GB | Epoch 5 | Loss: 0.323001503944397 | Accuracy: 90.625%\n",
            "GB | Epoch 5 | Loss: 0.34584784507751465 | Accuracy: 89.0625%\n",
            "GB | Epoch 5 | Loss: 0.4077092707157135 | Accuracy: 82.8125%\n",
            "GB | Epoch 5 | Loss: 0.29918792843818665 | Accuracy: 90.625%\n",
            "GB | Epoch 5 | Loss: 0.27122962474823 | Accuracy: 92.1875%\n",
            "GB | Epoch 5 | Loss: 0.5163867473602295 | Accuracy: 78.125%\n",
            "GB | Epoch 5 | Loss: 0.2293691337108612 | Accuracy: 95.3125%\n",
            "GB | Epoch 5 | Loss: 0.33860212564468384 | Accuracy: 87.5%\n",
            "GB | Epoch 5 | Loss: 0.38866153359413147 | Accuracy: 87.5%\n",
            "GB | Epoch 5 | Loss: 0.24586136639118195 | Accuracy: 90.625%\n",
            "GB | Epoch 5 | Loss: 0.2954573929309845 | Accuracy: 95.3125%\n",
            "GB | Epoch 5 | Loss: 0.30980274081230164 | Accuracy: 85.9375%\n",
            "GB | Epoch 5 | Loss: 0.38375407457351685 | Accuracy: 87.5%\n",
            "GB | Epoch 5 | Loss: 0.2892155349254608 | Accuracy: 89.0625%\n",
            "GB | Epoch 5 | Loss: 0.2139873057603836 | Accuracy: 95.3125%\n",
            "GB | Epoch 5 | Loss: 0.23887433111667633 | Accuracy: 93.75%\n",
            "GB | Epoch 5 | Loss: 0.2786191701889038 | Accuracy: 89.0625%\n",
            "GB | Epoch 5 | Loss: 0.2773752808570862 | Accuracy: 93.75%\n",
            "GB | Epoch 5 | Loss: 0.4425443410873413 | Accuracy: 84.375%\n",
            "GB | Epoch 5 | Loss: 0.2605492174625397 | Accuracy: 93.75%\n",
            "GB | Epoch 5 | Loss: 0.3573986887931824 | Accuracy: 89.0625%\n",
            "GB | Epoch 5 | Loss: 0.391759991645813 | Accuracy: 84.375%\n"
          ]
        },
        {
          "name": "stderr",
          "output_type": "stream",
          "text": [
            "Epoch 5:  48%|████▊     | 360/751 [00:03<00:03, 107.25batch/s, accuracy=90.625%, loss=0.292] "
          ]
        },
        {
          "name": "stdout",
          "output_type": "stream",
          "text": [
            "GB | Epoch 5 | Loss: 0.279622882604599 | Accuracy: 95.3125%\n",
            "GB | Epoch 5 | Loss: 0.3150452971458435 | Accuracy: 89.0625%\n",
            "GB | Epoch 5 | Loss: 0.24626730382442474 | Accuracy: 93.75%\n",
            "GB | Epoch 5 | Loss: 0.3094363808631897 | Accuracy: 89.0625%\n",
            "GB | Epoch 5 | Loss: 0.2215697169303894 | Accuracy: 92.1875%\n",
            "GB | Epoch 5 | Loss: 0.3056921362876892 | Accuracy: 92.1875%\n",
            "GB | Epoch 5 | Loss: 0.37146270275115967 | Accuracy: 85.9375%\n",
            "GB | Epoch 5 | Loss: 0.26209762692451477 | Accuracy: 90.625%\n",
            "GB | Epoch 5 | Loss: 0.27620700001716614 | Accuracy: 96.875%\n",
            "GB | Epoch 5 | Loss: 0.3544049859046936 | Accuracy: 89.0625%\n",
            "GB | Epoch 5 | Loss: 0.1845986545085907 | Accuracy: 95.3125%\n",
            "GB | Epoch 5 | Loss: 0.45101967453956604 | Accuracy: 87.5%\n",
            "GB | Epoch 5 | Loss: 0.20738385617733002 | Accuracy: 96.875%\n",
            "GB | Epoch 5 | Loss: 0.38503748178482056 | Accuracy: 89.0625%\n",
            "GB | Epoch 5 | Loss: 0.3533531725406647 | Accuracy: 89.0625%\n",
            "GB | Epoch 5 | Loss: 0.27147749066352844 | Accuracy: 93.75%\n",
            "GB | Epoch 5 | Loss: 0.3885722756385803 | Accuracy: 89.0625%\n",
            "GB | Epoch 5 | Loss: 0.7469900250434875 | Accuracy: 75.0%\n",
            "GB | Epoch 5 | Loss: 0.24217194318771362 | Accuracy: 92.1875%\n",
            "GB | Epoch 5 | Loss: 0.29170531034469604 | Accuracy: 90.625%\n"
          ]
        },
        {
          "name": "stderr",
          "output_type": "stream",
          "text": [
            "Epoch 5:  51%|█████     | 383/751 [00:03<00:03, 110.18batch/s, accuracy=92.1875%, loss=0.306]"
          ]
        },
        {
          "name": "stdout",
          "output_type": "stream",
          "text": [
            "GB | Epoch 5 | Loss: 0.341445654630661 | Accuracy: 84.375%\n",
            "GB | Epoch 5 | Loss: 0.23136992752552032 | Accuracy: 92.1875%\n",
            "GB | Epoch 5 | Loss: 0.3328823447227478 | Accuracy: 90.625%\n",
            "GB | Epoch 5 | Loss: 0.15431001782417297 | Accuracy: 96.875%\n",
            "GB | Epoch 5 | Loss: 0.21616584062576294 | Accuracy: 96.875%\n",
            "GB | Epoch 5 | Loss: 0.3291216790676117 | Accuracy: 85.9375%\n",
            "GB | Epoch 5 | Loss: 0.23788700997829437 | Accuracy: 93.75%\n",
            "GB | Epoch 5 | Loss: 0.3482415974140167 | Accuracy: 90.625%\n",
            "GB | Epoch 5 | Loss: 0.373501181602478 | Accuracy: 90.625%\n",
            "GB | Epoch 5 | Loss: 0.23716099560260773 | Accuracy: 93.75%\n",
            "GB | Epoch 5 | Loss: 0.3687205910682678 | Accuracy: 85.9375%\n",
            "GB | Epoch 5 | Loss: 0.2998192608356476 | Accuracy: 90.625%\n",
            "GB | Epoch 5 | Loss: 0.3025474548339844 | Accuracy: 90.625%\n",
            "GB | Epoch 5 | Loss: 0.2636326849460602 | Accuracy: 90.625%\n",
            "GB | Epoch 5 | Loss: 0.3684370815753937 | Accuracy: 92.1875%\n",
            "GB | Epoch 5 | Loss: 0.457643061876297 | Accuracy: 79.6875%\n",
            "GB | Epoch 5 | Loss: 0.1527041345834732 | Accuracy: 98.4375%\n",
            "GB | Epoch 5 | Loss: 0.32625213265419006 | Accuracy: 89.0625%\n",
            "GB | Epoch 5 | Loss: 0.30394187569618225 | Accuracy: 93.75%\n",
            "GB | Epoch 5 | Loss: 0.2394573986530304 | Accuracy: 95.3125%\n",
            "GB | Epoch 5 | Loss: 0.43551620841026306 | Accuracy: 85.9375%\n",
            "GB | Epoch 5 | Loss: 0.30646857619285583 | Accuracy: 92.1875%\n"
          ]
        },
        {
          "name": "stderr",
          "output_type": "stream",
          "text": [
            "Epoch 5:  54%|█████▍    | 406/751 [00:03<00:03, 96.05batch/s, accuracy=90.625%, loss=0.292] "
          ]
        },
        {
          "name": "stdout",
          "output_type": "stream",
          "text": [
            "GB | Epoch 5 | Loss: 0.241273894906044 | Accuracy: 95.3125%\n",
            "GB | Epoch 5 | Loss: 0.4543639123439789 | Accuracy: 79.6875%\n",
            "GB | Epoch 5 | Loss: 0.4013223946094513 | Accuracy: 92.1875%\n",
            "GB | Epoch 5 | Loss: 0.3900027573108673 | Accuracy: 90.625%\n",
            "GB | Epoch 5 | Loss: 0.2927904427051544 | Accuracy: 90.625%\n",
            "GB | Epoch 5 | Loss: 0.2357759177684784 | Accuracy: 95.3125%\n",
            "GB | Epoch 5 | Loss: 0.3187432289123535 | Accuracy: 89.0625%\n",
            "GB | Epoch 5 | Loss: 0.27650579810142517 | Accuracy: 89.0625%\n",
            "GB | Epoch 5 | Loss: 0.2807236611843109 | Accuracy: 93.75%\n",
            "GB | Epoch 5 | Loss: 0.3049691915512085 | Accuracy: 89.0625%\n",
            "GB | Epoch 5 | Loss: 0.2969529926776886 | Accuracy: 90.625%\n",
            "GB | Epoch 5 | Loss: 0.37523484230041504 | Accuracy: 87.5%\n",
            "GB | Epoch 5 | Loss: 0.24675467610359192 | Accuracy: 92.1875%\n",
            "GB | Epoch 5 | Loss: 0.2598496079444885 | Accuracy: 95.3125%\n",
            "GB | Epoch 5 | Loss: 0.2446296066045761 | Accuracy: 92.1875%\n",
            "GB | Epoch 5 | Loss: 0.2316679209470749 | Accuracy: 95.3125%\n",
            "GB | Epoch 5 | Loss: 0.2923565208911896 | Accuracy: 90.625%\n"
          ]
        },
        {
          "name": "stderr",
          "output_type": "stream",
          "text": [
            "Epoch 5:  56%|█████▌    | 417/751 [00:04<00:03, 97.66batch/s, accuracy=90.625%, loss=0.244]"
          ]
        },
        {
          "name": "stdout",
          "output_type": "stream",
          "text": [
            "GB | Epoch 5 | Loss: 0.35754209756851196 | Accuracy: 85.9375%\n",
            "GB | Epoch 5 | Loss: 0.17120583355426788 | Accuracy: 95.3125%\n",
            "GB | Epoch 5 | Loss: 0.33322829008102417 | Accuracy: 87.5%\n",
            "GB | Epoch 5 | Loss: 0.5438182950019836 | Accuracy: 84.375%\n",
            "GB | Epoch 5 | Loss: 0.31598955392837524 | Accuracy: 89.0625%\n",
            "GB | Epoch 5 | Loss: 0.26823148131370544 | Accuracy: 93.75%\n",
            "GB | Epoch 5 | Loss: 0.22834911942481995 | Accuracy: 95.3125%\n",
            "GB | Epoch 5 | Loss: 0.3322947919368744 | Accuracy: 89.0625%\n",
            "GB | Epoch 5 | Loss: 0.1713416427373886 | Accuracy: 96.875%\n",
            "GB | Epoch 5 | Loss: 0.31579461693763733 | Accuracy: 84.375%\n",
            "GB | Epoch 5 | Loss: 0.362123042345047 | Accuracy: 85.9375%\n",
            "GB | Epoch 5 | Loss: 0.16116464138031006 | Accuracy: 96.875%\n",
            "GB | Epoch 5 | Loss: 0.49831393361091614 | Accuracy: 89.0625%\n",
            "GB | Epoch 5 | Loss: 0.34914299845695496 | Accuracy: 87.5%\n",
            "GB | Epoch 5 | Loss: 0.37486276030540466 | Accuracy: 82.8125%\n",
            "GB | Epoch 5 | Loss: 0.384552001953125 | Accuracy: 81.25%\n",
            "GB | Epoch 5 | Loss: 0.22349677979946136 | Accuracy: 95.3125%\n",
            "GB | Epoch 5 | Loss: 0.33924782276153564 | Accuracy: 85.9375%\n",
            "GB | Epoch 5 | Loss: 0.4830542206764221 | Accuracy: 84.375%\n",
            "GB | Epoch 5 | Loss: 0.3606221079826355 | Accuracy: 79.6875%\n",
            "GB | Epoch 5 | Loss: 0.32028496265411377 | Accuracy: 90.625%\n"
          ]
        },
        {
          "name": "stderr",
          "output_type": "stream",
          "text": [
            "Epoch 5:  58%|█████▊    | 438/751 [00:04<00:03, 97.10batch/s, accuracy=92.1875%, loss=0.307]"
          ]
        },
        {
          "name": "stdout",
          "output_type": "stream",
          "text": [
            "GB | Epoch 5 | Loss: 0.2443656027317047 | Accuracy: 90.625%\n",
            "GB | Epoch 5 | Loss: 0.24559420347213745 | Accuracy: 93.75%\n",
            "GB | Epoch 5 | Loss: 0.17773838341236115 | Accuracy: 95.3125%\n",
            "GB | Epoch 5 | Loss: 0.36969053745269775 | Accuracy: 84.375%\n",
            "GB | Epoch 5 | Loss: 0.22729022800922394 | Accuracy: 92.1875%\n",
            "GB | Epoch 5 | Loss: 0.3430968225002289 | Accuracy: 89.0625%\n",
            "GB | Epoch 5 | Loss: 0.29595959186553955 | Accuracy: 90.625%\n",
            "GB | Epoch 5 | Loss: 0.28081437945365906 | Accuracy: 92.1875%\n",
            "GB | Epoch 5 | Loss: 0.35733315348625183 | Accuracy: 87.5%\n",
            "GB | Epoch 5 | Loss: 0.36476001143455505 | Accuracy: 85.9375%\n",
            "GB | Epoch 5 | Loss: 0.3606950044631958 | Accuracy: 90.625%\n",
            "GB | Epoch 5 | Loss: 0.3268190324306488 | Accuracy: 89.0625%\n",
            "GB | Epoch 5 | Loss: 0.17624767124652863 | Accuracy: 95.3125%\n",
            "GB | Epoch 5 | Loss: 0.3796871304512024 | Accuracy: 87.5%\n",
            "GB | Epoch 5 | Loss: 0.29609763622283936 | Accuracy: 95.3125%\n",
            "GB | Epoch 5 | Loss: 0.34042513370513916 | Accuracy: 85.9375%\n",
            "GB | Epoch 5 | Loss: 0.433397114276886 | Accuracy: 84.375%\n",
            "GB | Epoch 5 | Loss: 0.24576294422149658 | Accuracy: 93.75%\n",
            "GB | Epoch 5 | Loss: 0.30689847469329834 | Accuracy: 92.1875%\n"
          ]
        },
        {
          "name": "stderr",
          "output_type": "stream",
          "text": [
            "Epoch 5:  61%|██████    | 459/751 [00:04<00:02, 97.89batch/s, accuracy=90.625%, loss=0.274] "
          ]
        },
        {
          "name": "stdout",
          "output_type": "stream",
          "text": [
            "GB | Epoch 5 | Loss: 0.28796836733818054 | Accuracy: 92.1875%\n",
            "GB | Epoch 5 | Loss: 0.2085186094045639 | Accuracy: 95.3125%\n",
            "GB | Epoch 5 | Loss: 0.49176546931266785 | Accuracy: 79.6875%\n",
            "GB | Epoch 5 | Loss: 0.27754244208335876 | Accuracy: 95.3125%\n",
            "GB | Epoch 5 | Loss: 0.25625166296958923 | Accuracy: 90.625%\n",
            "GB | Epoch 5 | Loss: 0.2557147741317749 | Accuracy: 92.1875%\n",
            "GB | Epoch 5 | Loss: 0.26846036314964294 | Accuracy: 93.75%\n",
            "GB | Epoch 5 | Loss: 0.2828833758831024 | Accuracy: 92.1875%\n",
            "GB | Epoch 5 | Loss: 0.1928032785654068 | Accuracy: 93.75%\n",
            "GB | Epoch 5 | Loss: 0.33163538575172424 | Accuracy: 89.0625%\n",
            "GB | Epoch 5 | Loss: 0.3685625195503235 | Accuracy: 84.375%\n",
            "GB | Epoch 5 | Loss: 0.16647201776504517 | Accuracy: 93.75%\n",
            "GB | Epoch 5 | Loss: 0.25731560587882996 | Accuracy: 89.0625%\n",
            "GB | Epoch 5 | Loss: 0.33229270577430725 | Accuracy: 87.5%\n",
            "GB | Epoch 5 | Loss: 0.18475894629955292 | Accuracy: 93.75%\n",
            "GB | Epoch 5 | Loss: 0.31134486198425293 | Accuracy: 90.625%\n",
            "GB | Epoch 5 | Loss: 0.368141233921051 | Accuracy: 90.625%\n",
            "GB | Epoch 5 | Loss: 0.3057857155799866 | Accuracy: 90.625%\n",
            "GB | Epoch 5 | Loss: 0.34729456901550293 | Accuracy: 87.5%\n",
            "GB | Epoch 5 | Loss: 0.2689974904060364 | Accuracy: 89.0625%\n",
            "GB | Epoch 5 | Loss: 0.27357321977615356 | Accuracy: 90.625%\n"
          ]
        },
        {
          "name": "stderr",
          "output_type": "stream",
          "text": [
            "Epoch 5:  64%|██████▍   | 480/751 [00:04<00:02, 96.73batch/s, accuracy=90.625%, loss=0.289] "
          ]
        },
        {
          "name": "stdout",
          "output_type": "stream",
          "text": [
            "GB | Epoch 5 | Loss: 0.24553047120571136 | Accuracy: 92.1875%\n",
            "GB | Epoch 5 | Loss: 0.27326828241348267 | Accuracy: 87.5%\n",
            "GB | Epoch 5 | Loss: 0.24076451361179352 | Accuracy: 92.1875%\n",
            "GB | Epoch 5 | Loss: 0.31687384843826294 | Accuracy: 85.9375%\n",
            "GB | Epoch 5 | Loss: 0.36286109685897827 | Accuracy: 85.9375%\n",
            "GB | Epoch 5 | Loss: 0.18561524152755737 | Accuracy: 95.3125%\n",
            "GB | Epoch 5 | Loss: 0.22741100192070007 | Accuracy: 93.75%\n",
            "GB | Epoch 5 | Loss: 0.323406845331192 | Accuracy: 84.375%\n",
            "GB | Epoch 5 | Loss: 0.2974688708782196 | Accuracy: 89.0625%\n",
            "GB | Epoch 5 | Loss: 0.23336461186408997 | Accuracy: 95.3125%\n",
            "GB | Epoch 5 | Loss: 0.2873915135860443 | Accuracy: 90.625%\n",
            "GB | Epoch 5 | Loss: 0.43811503052711487 | Accuracy: 90.625%\n",
            "GB | Epoch 5 | Loss: 0.24781355261802673 | Accuracy: 93.75%\n",
            "GB | Epoch 5 | Loss: 0.29502490162849426 | Accuracy: 90.625%\n",
            "GB | Epoch 5 | Loss: 0.29360833764076233 | Accuracy: 84.375%\n",
            "GB | Epoch 5 | Loss: 0.37264856696128845 | Accuracy: 92.1875%\n",
            "GB | Epoch 5 | Loss: 0.23980164527893066 | Accuracy: 90.625%\n",
            "GB | Epoch 5 | Loss: 0.23727403581142426 | Accuracy: 90.625%\n",
            "GB | Epoch 5 | Loss: 0.21521754562854767 | Accuracy: 95.3125%\n"
          ]
        },
        {
          "name": "stderr",
          "output_type": "stream",
          "text": [
            "Epoch 5:  67%|██████▋   | 501/751 [00:04<00:02, 97.96batch/s, accuracy=90.625%, loss=0.258]"
          ]
        },
        {
          "name": "stdout",
          "output_type": "stream",
          "text": [
            "GB | Epoch 5 | Loss: 0.28877344727516174 | Accuracy: 90.625%\n",
            "GB | Epoch 5 | Loss: 0.4008236527442932 | Accuracy: 89.0625%\n",
            "GB | Epoch 5 | Loss: 0.09959325939416885 | Accuracy: 100.0%\n",
            "GB | Epoch 5 | Loss: 0.3123374581336975 | Accuracy: 93.75%\n",
            "GB | Epoch 5 | Loss: 0.2928224802017212 | Accuracy: 90.625%\n",
            "GB | Epoch 5 | Loss: 0.2753516733646393 | Accuracy: 93.75%\n",
            "GB | Epoch 5 | Loss: 0.19727914035320282 | Accuracy: 95.3125%\n",
            "GB | Epoch 5 | Loss: 0.19958588480949402 | Accuracy: 93.75%\n",
            "GB | Epoch 5 | Loss: 0.34842079877853394 | Accuracy: 87.5%\n",
            "GB | Epoch 5 | Loss: 0.36671268939971924 | Accuracy: 87.5%\n",
            "GB | Epoch 5 | Loss: 0.2354380488395691 | Accuracy: 96.875%\n",
            "GB | Epoch 5 | Loss: 0.2982011139392853 | Accuracy: 90.625%\n",
            "GB | Epoch 5 | Loss: 0.3887103497982025 | Accuracy: 85.9375%\n",
            "GB | Epoch 5 | Loss: 0.24749299883842468 | Accuracy: 89.0625%\n",
            "GB | Epoch 5 | Loss: 0.12847548723220825 | Accuracy: 98.4375%\n",
            "GB | Epoch 5 | Loss: 0.3711664378643036 | Accuracy: 87.5%\n",
            "GB | Epoch 5 | Loss: 0.27750876545906067 | Accuracy: 87.5%\n",
            "GB | Epoch 5 | Loss: 0.39683958888053894 | Accuracy: 92.1875%\n",
            "GB | Epoch 5 | Loss: 0.30779531598091125 | Accuracy: 89.0625%\n",
            "GB | Epoch 5 | Loss: 0.23396728932857513 | Accuracy: 90.625%\n",
            "GB | Epoch 5 | Loss: 0.25776153802871704 | Accuracy: 90.625%\n"
          ]
        },
        {
          "name": "stderr",
          "output_type": "stream",
          "text": [
            "Epoch 5:  70%|██████▉   | 524/751 [00:05<00:02, 101.92batch/s, accuracy=92.1875%, loss=0.217]"
          ]
        },
        {
          "name": "stdout",
          "output_type": "stream",
          "text": [
            "GB | Epoch 5 | Loss: 0.2765401005744934 | Accuracy: 90.625%\n",
            "GB | Epoch 5 | Loss: 0.42477381229400635 | Accuracy: 84.375%\n",
            "GB | Epoch 5 | Loss: 0.3457937240600586 | Accuracy: 89.0625%\n",
            "GB | Epoch 5 | Loss: 0.21326804161071777 | Accuracy: 93.75%\n",
            "GB | Epoch 5 | Loss: 0.22223994135856628 | Accuracy: 92.1875%\n",
            "GB | Epoch 5 | Loss: 0.3240971267223358 | Accuracy: 87.5%\n",
            "GB | Epoch 5 | Loss: 0.29004809260368347 | Accuracy: 89.0625%\n",
            "GB | Epoch 5 | Loss: 0.31138017773628235 | Accuracy: 85.9375%\n",
            "GB | Epoch 5 | Loss: 0.20339316129684448 | Accuracy: 93.75%\n",
            "GB | Epoch 5 | Loss: 0.3037649691104889 | Accuracy: 87.5%\n",
            "GB | Epoch 5 | Loss: 0.35316282510757446 | Accuracy: 82.8125%\n",
            "GB | Epoch 5 | Loss: 0.25923335552215576 | Accuracy: 93.75%\n",
            "GB | Epoch 5 | Loss: 0.4483036696910858 | Accuracy: 85.9375%\n",
            "GB | Epoch 5 | Loss: 0.2845771908760071 | Accuracy: 90.625%\n",
            "GB | Epoch 5 | Loss: 0.2721284329891205 | Accuracy: 92.1875%\n",
            "GB | Epoch 5 | Loss: 0.2231939435005188 | Accuracy: 92.1875%\n",
            "GB | Epoch 5 | Loss: 0.3100278079509735 | Accuracy: 89.0625%\n",
            "GB | Epoch 5 | Loss: 0.3493547737598419 | Accuracy: 84.375%\n",
            "GB | Epoch 5 | Loss: 0.21810369193553925 | Accuracy: 96.875%\n",
            "GB | Epoch 5 | Loss: 0.21245039999485016 | Accuracy: 95.3125%\n",
            "GB | Epoch 5 | Loss: 0.21735359728336334 | Accuracy: 92.1875%\n"
          ]
        },
        {
          "name": "stderr",
          "output_type": "stream",
          "text": [
            "Epoch 5:  73%|███████▎  | 547/751 [00:05<00:01, 102.49batch/s, accuracy=84.375%, loss=0.347]"
          ]
        },
        {
          "name": "stdout",
          "output_type": "stream",
          "text": [
            "GB | Epoch 5 | Loss: 0.32211339473724365 | Accuracy: 87.5%\n",
            "GB | Epoch 5 | Loss: 0.3529745042324066 | Accuracy: 95.3125%\n",
            "GB | Epoch 5 | Loss: 0.269386351108551 | Accuracy: 92.1875%\n",
            "GB | Epoch 5 | Loss: 0.32504093647003174 | Accuracy: 90.625%\n",
            "GB | Epoch 5 | Loss: 0.23703044652938843 | Accuracy: 90.625%\n",
            "GB | Epoch 5 | Loss: 0.46693453192710876 | Accuracy: 81.25%\n",
            "GB | Epoch 5 | Loss: 0.23449528217315674 | Accuracy: 93.75%\n",
            "GB | Epoch 5 | Loss: 0.23957371711730957 | Accuracy: 89.0625%\n",
            "GB | Epoch 5 | Loss: 0.21856538951396942 | Accuracy: 90.625%\n",
            "GB | Epoch 5 | Loss: 0.24613915383815765 | Accuracy: 90.625%\n",
            "GB | Epoch 5 | Loss: 0.23880380392074585 | Accuracy: 89.0625%\n",
            "GB | Epoch 5 | Loss: 0.29644864797592163 | Accuracy: 84.375%\n",
            "GB | Epoch 5 | Loss: 0.30520179867744446 | Accuracy: 89.0625%\n",
            "GB | Epoch 5 | Loss: 0.27287906408309937 | Accuracy: 87.5%\n",
            "GB | Epoch 5 | Loss: 0.3421817123889923 | Accuracy: 90.625%\n",
            "GB | Epoch 5 | Loss: 0.5253084301948547 | Accuracy: 90.625%\n",
            "GB | Epoch 5 | Loss: 0.2726130783557892 | Accuracy: 90.625%\n",
            "GB | Epoch 5 | Loss: 0.302074134349823 | Accuracy: 90.625%\n",
            "GB | Epoch 5 | Loss: 0.2866517901420593 | Accuracy: 90.625%\n",
            "GB | Epoch 5 | Loss: 0.2431682050228119 | Accuracy: 92.1875%\n",
            "GB | Epoch 5 | Loss: 0.29833611845970154 | Accuracy: 93.75%\n",
            "GB | Epoch 5 | Loss: 0.3626117408275604 | Accuracy: 87.5%\n",
            "GB | Epoch 5 | Loss: 0.34716999530792236 | Accuracy: 84.375%\n"
          ]
        },
        {
          "name": "stderr",
          "output_type": "stream",
          "text": [
            "Epoch 5:  76%|███████▌  | 569/751 [00:05<00:01, 104.05batch/s, accuracy=92.1875%, loss=0.24] "
          ]
        },
        {
          "name": "stdout",
          "output_type": "stream",
          "text": [
            "GB | Epoch 5 | Loss: 0.13059480488300323 | Accuracy: 96.875%\n",
            "GB | Epoch 5 | Loss: 0.30442070960998535 | Accuracy: 93.75%\n",
            "GB | Epoch 5 | Loss: 0.18030822277069092 | Accuracy: 96.875%\n",
            "GB | Epoch 5 | Loss: 0.255615770816803 | Accuracy: 95.3125%\n",
            "GB | Epoch 5 | Loss: 0.3363513648509979 | Accuracy: 84.375%\n",
            "GB | Epoch 5 | Loss: 0.40938910841941833 | Accuracy: 81.25%\n",
            "GB | Epoch 5 | Loss: 0.25275737047195435 | Accuracy: 95.3125%\n",
            "GB | Epoch 5 | Loss: 0.1461411714553833 | Accuracy: 96.875%\n",
            "GB | Epoch 5 | Loss: 0.2616054117679596 | Accuracy: 90.625%\n",
            "GB | Epoch 5 | Loss: 0.2887435555458069 | Accuracy: 92.1875%\n",
            "GB | Epoch 5 | Loss: 0.25909459590911865 | Accuracy: 90.625%\n",
            "GB | Epoch 5 | Loss: 0.28398656845092773 | Accuracy: 93.75%\n",
            "GB | Epoch 5 | Loss: 0.22752390801906586 | Accuracy: 95.3125%\n",
            "GB | Epoch 5 | Loss: 0.14898031949996948 | Accuracy: 98.4375%\n",
            "GB | Epoch 5 | Loss: 0.2483215183019638 | Accuracy: 92.1875%\n",
            "GB | Epoch 5 | Loss: 0.25430595874786377 | Accuracy: 95.3125%\n",
            "GB | Epoch 5 | Loss: 0.19078309834003448 | Accuracy: 93.75%\n",
            "GB | Epoch 5 | Loss: 0.15809740126132965 | Accuracy: 95.3125%\n",
            "GB | Epoch 5 | Loss: 0.32432258129119873 | Accuracy: 92.1875%\n",
            "GB | Epoch 5 | Loss: 0.1954815834760666 | Accuracy: 96.875%\n",
            "GB | Epoch 5 | Loss: 0.1987503170967102 | Accuracy: 92.1875%\n"
          ]
        },
        {
          "name": "stderr",
          "output_type": "stream",
          "text": [
            "Epoch 5:  79%|███████▊  | 591/751 [00:05<00:01, 106.54batch/s, accuracy=85.9375%, loss=0.333]"
          ]
        },
        {
          "name": "stdout",
          "output_type": "stream",
          "text": [
            "GB | Epoch 5 | Loss: 0.23988467454910278 | Accuracy: 92.1875%\n",
            "GB | Epoch 5 | Loss: 0.1467331051826477 | Accuracy: 96.875%\n",
            "GB | Epoch 5 | Loss: 0.24599120020866394 | Accuracy: 92.1875%\n",
            "GB | Epoch 5 | Loss: 0.19758164882659912 | Accuracy: 95.3125%\n",
            "GB | Epoch 5 | Loss: 0.28887712955474854 | Accuracy: 87.5%\n",
            "GB | Epoch 5 | Loss: 0.2599831223487854 | Accuracy: 90.625%\n",
            "GB | Epoch 5 | Loss: 0.3081530034542084 | Accuracy: 85.9375%\n",
            "GB | Epoch 5 | Loss: 0.28192150592803955 | Accuracy: 95.3125%\n",
            "GB | Epoch 5 | Loss: 0.3356017768383026 | Accuracy: 87.5%\n",
            "GB | Epoch 5 | Loss: 0.2539668083190918 | Accuracy: 90.625%\n",
            "GB | Epoch 5 | Loss: 0.26914867758750916 | Accuracy: 90.625%\n",
            "GB | Epoch 5 | Loss: 0.2130979299545288 | Accuracy: 92.1875%\n",
            "GB | Epoch 5 | Loss: 0.2190442681312561 | Accuracy: 93.75%\n",
            "GB | Epoch 5 | Loss: 0.15926788747310638 | Accuracy: 95.3125%\n",
            "GB | Epoch 5 | Loss: 0.28458720445632935 | Accuracy: 84.375%\n",
            "GB | Epoch 5 | Loss: 0.24865925312042236 | Accuracy: 92.1875%\n",
            "GB | Epoch 5 | Loss: 0.23035600781440735 | Accuracy: 89.0625%\n",
            "GB | Epoch 5 | Loss: 0.28138554096221924 | Accuracy: 90.625%\n",
            "GB | Epoch 5 | Loss: 0.20872974395751953 | Accuracy: 92.1875%\n",
            "GB | Epoch 5 | Loss: 0.18267476558685303 | Accuracy: 92.1875%\n",
            "GB | Epoch 5 | Loss: 0.18206746876239777 | Accuracy: 93.75%\n",
            "GB | Epoch 5 | Loss: 0.3334921598434448 | Accuracy: 85.9375%\n"
          ]
        },
        {
          "name": "stderr",
          "output_type": "stream",
          "text": [
            "Epoch 5:  82%|████████▏ | 613/751 [00:06<00:01, 104.84batch/s, accuracy=95.3125%, loss=0.16] "
          ]
        },
        {
          "name": "stdout",
          "output_type": "stream",
          "text": [
            "GB | Epoch 5 | Loss: 0.20089149475097656 | Accuracy: 92.1875%\n",
            "GB | Epoch 5 | Loss: 0.3112814426422119 | Accuracy: 81.25%\n",
            "GB | Epoch 5 | Loss: 0.26287224888801575 | Accuracy: 87.5%\n",
            "GB | Epoch 5 | Loss: 0.27373531460762024 | Accuracy: 87.5%\n",
            "GB | Epoch 5 | Loss: 0.21325576305389404 | Accuracy: 90.625%\n",
            "GB | Epoch 5 | Loss: 0.22842757403850555 | Accuracy: 96.875%\n",
            "GB | Epoch 5 | Loss: 0.22964635491371155 | Accuracy: 90.625%\n",
            "GB | Epoch 5 | Loss: 0.23259994387626648 | Accuracy: 92.1875%\n",
            "GB | Epoch 5 | Loss: 0.20411013066768646 | Accuracy: 92.1875%\n",
            "GB | Epoch 5 | Loss: 0.20345421135425568 | Accuracy: 93.75%\n",
            "GB | Epoch 5 | Loss: 0.24238820374011993 | Accuracy: 89.0625%\n",
            "GB | Epoch 5 | Loss: 0.19539989531040192 | Accuracy: 95.3125%\n",
            "GB | Epoch 5 | Loss: 0.26453927159309387 | Accuracy: 87.5%\n",
            "GB | Epoch 5 | Loss: 0.25125694274902344 | Accuracy: 92.1875%\n",
            "GB | Epoch 5 | Loss: 0.20172131061553955 | Accuracy: 93.75%\n",
            "GB | Epoch 5 | Loss: 0.330800861120224 | Accuracy: 87.5%\n",
            "GB | Epoch 5 | Loss: 0.3225418031215668 | Accuracy: 89.0625%\n",
            "GB | Epoch 5 | Loss: 0.1746729612350464 | Accuracy: 95.3125%\n",
            "GB | Epoch 5 | Loss: 0.2000228464603424 | Accuracy: 92.1875%\n",
            "GB | Epoch 5 | Loss: 0.2430116832256317 | Accuracy: 92.1875%\n",
            "GB | Epoch 5 | Loss: 0.16039426624774933 | Accuracy: 95.3125%\n"
          ]
        },
        {
          "name": "stderr",
          "output_type": "stream",
          "text": [
            "Epoch 5:  85%|████████▍ | 635/751 [00:06<00:01, 104.71batch/s, accuracy=93.75%, loss=0.248]"
          ]
        },
        {
          "name": "stdout",
          "output_type": "stream",
          "text": [
            "GB | Epoch 5 | Loss: 0.12196061760187149 | Accuracy: 96.875%\n",
            "GB | Epoch 5 | Loss: 0.4170381724834442 | Accuracy: 89.0625%\n",
            "GB | Epoch 5 | Loss: 0.2293938845396042 | Accuracy: 92.1875%\n",
            "GB | Epoch 5 | Loss: 0.17809632420539856 | Accuracy: 92.1875%\n",
            "GB | Epoch 5 | Loss: 0.3362720310688019 | Accuracy: 84.375%\n",
            "GB | Epoch 5 | Loss: 0.22699232399463654 | Accuracy: 90.625%\n",
            "GB | Epoch 5 | Loss: 0.3155617415904999 | Accuracy: 90.625%\n",
            "GB | Epoch 5 | Loss: 0.2983446717262268 | Accuracy: 85.9375%\n",
            "GB | Epoch 5 | Loss: 0.17902371287345886 | Accuracy: 92.1875%\n",
            "GB | Epoch 5 | Loss: 0.24130108952522278 | Accuracy: 90.625%\n",
            "GB | Epoch 5 | Loss: 0.24609577655792236 | Accuracy: 92.1875%\n",
            "GB | Epoch 5 | Loss: 0.1811572015285492 | Accuracy: 95.3125%\n",
            "GB | Epoch 5 | Loss: 0.16867132484912872 | Accuracy: 93.75%\n",
            "GB | Epoch 5 | Loss: 0.29304051399230957 | Accuracy: 92.1875%\n",
            "GB | Epoch 5 | Loss: 0.17882175743579865 | Accuracy: 95.3125%\n",
            "GB | Epoch 5 | Loss: 0.21979691088199615 | Accuracy: 89.0625%\n",
            "GB | Epoch 5 | Loss: 0.245306134223938 | Accuracy: 84.375%\n",
            "GB | Epoch 5 | Loss: 0.09823644161224365 | Accuracy: 98.4375%\n",
            "GB | Epoch 5 | Loss: 0.17661859095096588 | Accuracy: 93.75%\n",
            "GB | Epoch 5 | Loss: 0.1883424073457718 | Accuracy: 96.875%\n",
            "GB | Epoch 5 | Loss: 0.23364251852035522 | Accuracy: 93.75%\n",
            "GB | Epoch 5 | Loss: 0.24769245088100433 | Accuracy: 93.75%\n"
          ]
        },
        {
          "name": "stderr",
          "output_type": "stream",
          "text": [
            "Epoch 5:  88%|████████▊ | 658/751 [00:06<00:00, 105.16batch/s, accuracy=95.3125%, loss=0.136]"
          ]
        },
        {
          "name": "stdout",
          "output_type": "stream",
          "text": [
            "GB | Epoch 5 | Loss: 0.22352172434329987 | Accuracy: 92.1875%\n",
            "GB | Epoch 5 | Loss: 0.2867940366268158 | Accuracy: 89.0625%\n",
            "GB | Epoch 5 | Loss: 0.24883681535720825 | Accuracy: 90.625%\n",
            "GB | Epoch 5 | Loss: 0.2266564816236496 | Accuracy: 90.625%\n",
            "GB | Epoch 5 | Loss: 0.14830473065376282 | Accuracy: 96.875%\n",
            "GB | Epoch 5 | Loss: 0.22918091714382172 | Accuracy: 92.1875%\n",
            "GB | Epoch 5 | Loss: 0.2251598984003067 | Accuracy: 92.1875%\n",
            "GB | Epoch 5 | Loss: 0.28082603216171265 | Accuracy: 84.375%\n",
            "GB | Epoch 5 | Loss: 0.2018517702817917 | Accuracy: 93.75%\n",
            "GB | Epoch 5 | Loss: 0.2956518828868866 | Accuracy: 87.5%\n",
            "GB | Epoch 5 | Loss: 0.203309565782547 | Accuracy: 89.0625%\n",
            "GB | Epoch 5 | Loss: 0.21704061329364777 | Accuracy: 92.1875%\n",
            "GB | Epoch 5 | Loss: 0.3508715331554413 | Accuracy: 93.75%\n",
            "GB | Epoch 5 | Loss: 0.25905492901802063 | Accuracy: 92.1875%\n",
            "GB | Epoch 5 | Loss: 0.25286099314689636 | Accuracy: 90.625%\n",
            "GB | Epoch 5 | Loss: 0.24436704814434052 | Accuracy: 93.75%\n",
            "GB | Epoch 5 | Loss: 0.14820855855941772 | Accuracy: 96.875%\n",
            "GB | Epoch 5 | Loss: 0.3091553747653961 | Accuracy: 90.625%\n",
            "GB | Epoch 5 | Loss: 0.2764120101928711 | Accuracy: 93.75%\n",
            "GB | Epoch 5 | Loss: 0.24703167378902435 | Accuracy: 87.5%\n",
            "GB | Epoch 5 | Loss: 0.26145076751708984 | Accuracy: 92.1875%\n",
            "GB | Epoch 5 | Loss: 0.13582773506641388 | Accuracy: 95.3125%\n"
          ]
        },
        {
          "name": "stderr",
          "output_type": "stream",
          "text": [
            "Epoch 5:  91%|█████████ | 681/751 [00:06<00:00, 108.63batch/s, accuracy=90.625%, loss=0.182] "
          ]
        },
        {
          "name": "stdout",
          "output_type": "stream",
          "text": [
            "GB | Epoch 5 | Loss: 0.27244654297828674 | Accuracy: 87.5%\n",
            "GB | Epoch 5 | Loss: 0.16452397406101227 | Accuracy: 95.3125%\n",
            "GB | Epoch 5 | Loss: 0.2584608197212219 | Accuracy: 89.0625%\n",
            "GB | Epoch 5 | Loss: 0.19635629653930664 | Accuracy: 89.0625%\n",
            "GB | Epoch 5 | Loss: 0.37896427512168884 | Accuracy: 84.375%\n",
            "GB | Epoch 5 | Loss: 0.15136045217514038 | Accuracy: 95.3125%\n",
            "GB | Epoch 5 | Loss: 0.2008567452430725 | Accuracy: 92.1875%\n",
            "GB | Epoch 5 | Loss: 0.45799046754837036 | Accuracy: 81.25%\n",
            "GB | Epoch 5 | Loss: 0.21095748245716095 | Accuracy: 90.625%\n",
            "GB | Epoch 5 | Loss: 0.244859978556633 | Accuracy: 90.625%\n",
            "GB | Epoch 5 | Loss: 0.2550613582134247 | Accuracy: 92.1875%\n",
            "GB | Epoch 5 | Loss: 0.16546908020973206 | Accuracy: 93.75%\n",
            "GB | Epoch 5 | Loss: 0.24196094274520874 | Accuracy: 89.0625%\n",
            "GB | Epoch 5 | Loss: 0.1863306164741516 | Accuracy: 96.875%\n",
            "GB | Epoch 5 | Loss: 0.23820093274116516 | Accuracy: 93.75%\n",
            "GB | Epoch 5 | Loss: 0.25919970870018005 | Accuracy: 89.0625%\n",
            "GB | Epoch 5 | Loss: 0.24064132571220398 | Accuracy: 90.625%\n",
            "GB | Epoch 5 | Loss: 0.2207736372947693 | Accuracy: 89.0625%\n",
            "GB | Epoch 5 | Loss: 0.09821368753910065 | Accuracy: 96.875%\n",
            "GB | Epoch 5 | Loss: 0.1808258593082428 | Accuracy: 92.1875%\n",
            "GB | Epoch 5 | Loss: 0.2152215838432312 | Accuracy: 93.75%\n",
            "GB | Epoch 5 | Loss: 0.1963001936674118 | Accuracy: 92.1875%\n",
            "GB | Epoch 5 | Loss: 0.1821749061346054 | Accuracy: 90.625%\n"
          ]
        },
        {
          "name": "stderr",
          "output_type": "stream",
          "text": [
            "Epoch 5:  92%|█████████▏| 692/751 [00:06<00:00, 104.49batch/s, accuracy=95.3125%, loss=0.203]"
          ]
        },
        {
          "name": "stdout",
          "output_type": "stream",
          "text": [
            "GB | Epoch 5 | Loss: 0.11660268157720566 | Accuracy: 96.875%\n",
            "GB | Epoch 5 | Loss: 0.25965166091918945 | Accuracy: 95.3125%\n",
            "GB | Epoch 5 | Loss: 0.2612602710723877 | Accuracy: 85.9375%\n",
            "GB | Epoch 5 | Loss: 0.13833872973918915 | Accuracy: 95.3125%\n",
            "GB | Epoch 5 | Loss: 0.18008862435817719 | Accuracy: 95.3125%\n",
            "GB | Epoch 5 | Loss: 0.21035811305046082 | Accuracy: 92.1875%\n",
            "GB | Epoch 5 | Loss: 0.20973865687847137 | Accuracy: 93.75%\n",
            "GB | Epoch 5 | Loss: 0.16188019514083862 | Accuracy: 93.75%\n",
            "GB | Epoch 5 | Loss: 0.1439678817987442 | Accuracy: 96.875%\n",
            "GB | Epoch 5 | Loss: 0.19325214624404907 | Accuracy: 98.4375%\n",
            "GB | Epoch 5 | Loss: 0.22430872917175293 | Accuracy: 93.75%\n",
            "GB | Epoch 5 | Loss: 0.21364277601242065 | Accuracy: 93.75%\n",
            "GB | Epoch 5 | Loss: 0.2744486629962921 | Accuracy: 90.625%\n",
            "GB | Epoch 5 | Loss: 0.20043493807315826 | Accuracy: 95.3125%\n",
            "GB | Epoch 5 | Loss: 0.20514154434204102 | Accuracy: 92.1875%\n",
            "GB | Epoch 5 | Loss: 0.1864156424999237 | Accuracy: 95.3125%\n",
            "GB | Epoch 5 | Loss: 0.17383375763893127 | Accuracy: 96.875%\n",
            "GB | Epoch 5 | Loss: 0.22510330379009247 | Accuracy: 93.75%\n",
            "GB | Epoch 5 | Loss: 0.20284828543663025 | Accuracy: 95.3125%\n"
          ]
        },
        {
          "name": "stderr",
          "output_type": "stream",
          "text": [
            "Epoch 5:  95%|█████████▌| 714/751 [00:07<00:00, 99.75batch/s, accuracy=90.625%, loss=0.216]"
          ]
        },
        {
          "name": "stdout",
          "output_type": "stream",
          "text": [
            "GB | Epoch 5 | Loss: 0.24315834045410156 | Accuracy: 93.75%\n",
            "GB | Epoch 5 | Loss: 0.1769065111875534 | Accuracy: 92.1875%\n",
            "GB | Epoch 5 | Loss: 0.1208142414689064 | Accuracy: 96.875%\n",
            "GB | Epoch 5 | Loss: 0.2527937591075897 | Accuracy: 89.0625%\n",
            "GB | Epoch 5 | Loss: 0.2760728895664215 | Accuracy: 87.5%\n",
            "GB | Epoch 5 | Loss: 0.22414691746234894 | Accuracy: 90.625%\n",
            "GB | Epoch 5 | Loss: 0.28883522748947144 | Accuracy: 90.625%\n",
            "GB | Epoch 5 | Loss: 0.2662056088447571 | Accuracy: 87.5%\n",
            "GB | Epoch 5 | Loss: 0.24424146115779877 | Accuracy: 87.5%\n",
            "GB | Epoch 5 | Loss: 0.2249860018491745 | Accuracy: 90.625%\n",
            "GB | Epoch 5 | Loss: 0.26696109771728516 | Accuracy: 90.625%\n",
            "GB | Epoch 5 | Loss: 0.28069043159484863 | Accuracy: 92.1875%\n",
            "GB | Epoch 5 | Loss: 0.14645834267139435 | Accuracy: 95.3125%\n",
            "GB | Epoch 5 | Loss: 0.20601658523082733 | Accuracy: 92.1875%\n",
            "GB | Epoch 5 | Loss: 0.13275288045406342 | Accuracy: 93.75%\n",
            "GB | Epoch 5 | Loss: 0.17347177863121033 | Accuracy: 95.3125%\n",
            "GB | Epoch 5 | Loss: 0.2368508279323578 | Accuracy: 92.1875%\n",
            "GB | Epoch 5 | Loss: 0.31743887066841125 | Accuracy: 92.1875%\n",
            "GB | Epoch 5 | Loss: 0.2250179797410965 | Accuracy: 90.625%\n",
            "GB | Epoch 5 | Loss: 0.21565845608711243 | Accuracy: 90.625%\n"
          ]
        },
        {
          "name": "stderr",
          "output_type": "stream",
          "text": [
            "Epoch 5:  98%|█████████▊| 735/751 [00:07<00:00, 98.30batch/s, accuracy=90.625%, loss=0.246]"
          ]
        },
        {
          "name": "stdout",
          "output_type": "stream",
          "text": [
            "GB | Epoch 5 | Loss: 0.16894115507602692 | Accuracy: 93.75%\n",
            "GB | Epoch 5 | Loss: 0.16828040778636932 | Accuracy: 90.625%\n",
            "GB | Epoch 5 | Loss: 0.24578526616096497 | Accuracy: 92.1875%\n",
            "GB | Epoch 5 | Loss: 0.21600154042243958 | Accuracy: 95.3125%\n",
            "GB | Epoch 5 | Loss: 0.12892158329486847 | Accuracy: 95.3125%\n",
            "GB | Epoch 5 | Loss: 0.24410785734653473 | Accuracy: 93.75%\n",
            "GB | Epoch 5 | Loss: 0.2521611154079437 | Accuracy: 92.1875%\n",
            "GB | Epoch 5 | Loss: 0.19625049829483032 | Accuracy: 93.75%\n",
            "GB | Epoch 5 | Loss: 0.17701654136180878 | Accuracy: 93.75%\n",
            "GB | Epoch 5 | Loss: 0.15320780873298645 | Accuracy: 96.875%\n",
            "GB | Epoch 5 | Loss: 0.20159858465194702 | Accuracy: 93.75%\n",
            "GB | Epoch 5 | Loss: 0.21583764255046844 | Accuracy: 90.625%\n",
            "GB | Epoch 5 | Loss: 0.17971837520599365 | Accuracy: 96.875%\n",
            "GB | Epoch 5 | Loss: 0.17902494966983795 | Accuracy: 95.3125%\n",
            "GB | Epoch 5 | Loss: 0.2912288010120392 | Accuracy: 89.0625%\n",
            "GB | Epoch 5 | Loss: 0.1942751705646515 | Accuracy: 92.1875%\n",
            "GB | Epoch 5 | Loss: 0.1867869645357132 | Accuracy: 92.1875%\n",
            "GB | Epoch 5 | Loss: 0.17128174006938934 | Accuracy: 93.75%\n",
            "GB | Epoch 5 | Loss: 0.24122083187103271 | Accuracy: 96.875%\n",
            "GB | Epoch 5 | Loss: 0.24569857120513916 | Accuracy: 90.625%\n"
          ]
        },
        {
          "name": "stderr",
          "output_type": "stream",
          "text": [
            "Epoch 5:  99%|█████████▉| 746/751 [00:07<00:00, 100.90batch/s, accuracy=50.0%, loss=0.583]   "
          ]
        },
        {
          "name": "stdout",
          "output_type": "stream",
          "text": [
            "GB | Epoch 5 | Loss: 0.25126156210899353 | Accuracy: 95.3125%\n",
            "GB | Epoch 5 | Loss: 0.2826785147190094 | Accuracy: 92.1875%\n",
            "GB | Epoch 5 | Loss: 0.1671977937221527 | Accuracy: 96.875%\n",
            "GB | Epoch 5 | Loss: 0.23609575629234314 | Accuracy: 93.75%\n",
            "GB | Epoch 5 | Loss: 0.1453796625137329 | Accuracy: 93.75%\n",
            "GB | Epoch 5 | Loss: 0.3002021610736847 | Accuracy: 90.625%\n",
            "GB | Epoch 5 | Loss: 0.09423408657312393 | Accuracy: 98.4375%\n",
            "GB | Epoch 5 | Loss: 0.2926362156867981 | Accuracy: 89.0625%\n",
            "GB | Epoch 5 | Loss: 0.21158406138420105 | Accuracy: 92.1875%\n",
            "GB | Epoch 5 | Loss: 0.5825673341751099 | Accuracy: 50.0%\n"
          ]
        },
        {
          "name": "stderr",
          "output_type": "stream",
          "text": [
            "Epoch 5: 100%|██████████| 751/751 [00:07<00:00, 99.17batch/s, accuracy=50.0%, loss=0.583] \n",
            "Epoch 6:   1%|          | 8/751 [00:00<00:43, 17.27batch/s, accuracy=92.1875%, loss=0.267]"
          ]
        },
        {
          "name": "stdout",
          "output_type": "stream",
          "text": [
            "GB | Epoch 6 | Loss: 0.27062147855758667 | Accuracy: 93.75%\n",
            "GB | Epoch 6 | Loss: 0.34235215187072754 | Accuracy: 82.8125%\n",
            "GB | Epoch 6 | Loss: 0.22382576763629913 | Accuracy: 85.9375%\n",
            "GB | Epoch 6 | Loss: 0.20609071850776672 | Accuracy: 92.1875%\n",
            "GB | Epoch 6 | Loss: 0.13727116584777832 | Accuracy: 95.3125%\n",
            "GB | Epoch 6 | Loss: 0.22898203134536743 | Accuracy: 93.75%\n",
            "GB | Epoch 6 | Loss: 0.18056467175483704 | Accuracy: 95.3125%\n",
            "GB | Epoch 6 | Loss: 0.2249431014060974 | Accuracy: 92.1875%\n",
            "GB | Epoch 6 | Loss: 0.13895191252231598 | Accuracy: 98.4375%\n",
            "GB | Epoch 6 | Loss: 0.3560665249824524 | Accuracy: 85.9375%\n",
            "GB | Epoch 6 | Loss: 0.1917809247970581 | Accuracy: 95.3125%\n",
            "GB | Epoch 6 | Loss: 0.1636403203010559 | Accuracy: 95.3125%\n",
            "GB | Epoch 6 | Loss: 0.1782069206237793 | Accuracy: 95.3125%\n",
            "GB | Epoch 6 | Loss: 0.1128339096903801 | Accuracy: 96.875%\n",
            "GB | Epoch 6 | Loss: 0.1400650143623352 | Accuracy: 96.875%\n",
            "GB | Epoch 6 | Loss: 0.2672153115272522 | Accuracy: 92.1875%\n"
          ]
        },
        {
          "name": "stderr",
          "output_type": "stream",
          "text": [
            "Epoch 6:   4%|▎         | 27/751 [00:00<00:14, 50.90batch/s, accuracy=96.875%, loss=0.265] "
          ]
        },
        {
          "name": "stdout",
          "output_type": "stream",
          "text": [
            "GB | Epoch 6 | Loss: 0.14415839314460754 | Accuracy: 96.875%\n",
            "GB | Epoch 6 | Loss: 0.1453559249639511 | Accuracy: 98.4375%\n",
            "GB | Epoch 6 | Loss: 0.11042004078626633 | Accuracy: 95.3125%\n",
            "GB | Epoch 6 | Loss: 0.19926799833774567 | Accuracy: 93.75%\n",
            "GB | Epoch 6 | Loss: 0.25992515683174133 | Accuracy: 90.625%\n",
            "GB | Epoch 6 | Loss: 0.1575094759464264 | Accuracy: 92.1875%\n",
            "GB | Epoch 6 | Loss: 0.17578724026679993 | Accuracy: 96.875%\n",
            "GB | Epoch 6 | Loss: 0.3597540855407715 | Accuracy: 90.625%\n",
            "GB | Epoch 6 | Loss: 0.14164631068706512 | Accuracy: 95.3125%\n",
            "GB | Epoch 6 | Loss: 0.2558146119117737 | Accuracy: 89.0625%\n",
            "GB | Epoch 6 | Loss: 0.31934046745300293 | Accuracy: 87.5%\n",
            "GB | Epoch 6 | Loss: 0.34368374943733215 | Accuracy: 96.875%\n",
            "GB | Epoch 6 | Loss: 0.3015963137149811 | Accuracy: 93.75%\n",
            "GB | Epoch 6 | Loss: 0.22347621619701385 | Accuracy: 96.875%\n",
            "GB | Epoch 6 | Loss: 0.269756942987442 | Accuracy: 96.875%\n",
            "GB | Epoch 6 | Loss: 0.23789235949516296 | Accuracy: 89.0625%\n",
            "GB | Epoch 6 | Loss: 0.1936320811510086 | Accuracy: 95.3125%\n",
            "GB | Epoch 6 | Loss: 0.16745498776435852 | Accuracy: 92.1875%\n",
            "GB | Epoch 6 | Loss: 0.1111912727355957 | Accuracy: 100.0%\n",
            "GB | Epoch 6 | Loss: 0.16412638127803802 | Accuracy: 95.3125%\n",
            "GB | Epoch 6 | Loss: 0.17213059961795807 | Accuracy: 95.3125%\n",
            "GB | Epoch 6 | Loss: 0.26490873098373413 | Accuracy: 96.875%\n"
          ]
        },
        {
          "name": "stderr",
          "output_type": "stream",
          "text": [
            "Epoch 6:   7%|▋         | 50/751 [00:01<00:08, 79.36batch/s, accuracy=93.75%, loss=0.214]  "
          ]
        },
        {
          "name": "stdout",
          "output_type": "stream",
          "text": [
            "GB | Epoch 6 | Loss: 0.16320548951625824 | Accuracy: 95.3125%\n",
            "GB | Epoch 6 | Loss: 0.2537877559661865 | Accuracy: 92.1875%\n",
            "GB | Epoch 6 | Loss: 0.13064543902873993 | Accuracy: 93.75%\n",
            "GB | Epoch 6 | Loss: 0.29248785972595215 | Accuracy: 89.0625%\n",
            "GB | Epoch 6 | Loss: 0.18890507519245148 | Accuracy: 93.75%\n",
            "GB | Epoch 6 | Loss: 0.19745305180549622 | Accuracy: 93.75%\n",
            "GB | Epoch 6 | Loss: 0.2741160988807678 | Accuracy: 87.5%\n",
            "GB | Epoch 6 | Loss: 0.12350072711706161 | Accuracy: 96.875%\n",
            "GB | Epoch 6 | Loss: 0.12487073242664337 | Accuracy: 96.875%\n",
            "GB | Epoch 6 | Loss: 0.18112507462501526 | Accuracy: 95.3125%\n",
            "GB | Epoch 6 | Loss: 0.11490285396575928 | Accuracy: 96.875%\n",
            "GB | Epoch 6 | Loss: 0.202436625957489 | Accuracy: 92.1875%\n",
            "GB | Epoch 6 | Loss: 0.20003193616867065 | Accuracy: 95.3125%\n",
            "GB | Epoch 6 | Loss: 0.14903666079044342 | Accuracy: 95.3125%\n",
            "GB | Epoch 6 | Loss: 0.2349020093679428 | Accuracy: 93.75%\n",
            "GB | Epoch 6 | Loss: 0.08800959587097168 | Accuracy: 96.875%\n",
            "GB | Epoch 6 | Loss: 0.10885678231716156 | Accuracy: 95.3125%\n",
            "GB | Epoch 6 | Loss: 0.18029212951660156 | Accuracy: 90.625%\n",
            "GB | Epoch 6 | Loss: 0.22853483259677887 | Accuracy: 89.0625%\n",
            "GB | Epoch 6 | Loss: 0.21757562458515167 | Accuracy: 93.75%\n",
            "GB | Epoch 6 | Loss: 0.18442247807979584 | Accuracy: 92.1875%\n",
            "GB | Epoch 6 | Loss: 0.22491459548473358 | Accuracy: 92.1875%\n",
            "GB | Epoch 6 | Loss: 0.21403665840625763 | Accuracy: 93.75%\n"
          ]
        },
        {
          "name": "stderr",
          "output_type": "stream",
          "text": [
            "Epoch 6:  10%|▉         | 74/751 [00:01<00:06, 97.86batch/s, accuracy=96.875%, loss=0.173]"
          ]
        },
        {
          "name": "stdout",
          "output_type": "stream",
          "text": [
            "GB | Epoch 6 | Loss: 0.10327868908643723 | Accuracy: 96.875%\n",
            "GB | Epoch 6 | Loss: 0.30727776885032654 | Accuracy: 85.9375%\n",
            "GB | Epoch 6 | Loss: 0.13524280488491058 | Accuracy: 96.875%\n",
            "GB | Epoch 6 | Loss: 0.2411433905363083 | Accuracy: 92.1875%\n",
            "GB | Epoch 6 | Loss: 0.23963738977909088 | Accuracy: 90.625%\n",
            "GB | Epoch 6 | Loss: 0.162721186876297 | Accuracy: 93.75%\n",
            "GB | Epoch 6 | Loss: 0.1678856611251831 | Accuracy: 95.3125%\n",
            "GB | Epoch 6 | Loss: 0.2067243605852127 | Accuracy: 90.625%\n",
            "GB | Epoch 6 | Loss: 0.2312951534986496 | Accuracy: 92.1875%\n",
            "GB | Epoch 6 | Loss: 0.13540653884410858 | Accuracy: 93.75%\n",
            "GB | Epoch 6 | Loss: 0.2317197620868683 | Accuracy: 92.1875%\n",
            "GB | Epoch 6 | Loss: 0.23910503089427948 | Accuracy: 90.625%\n",
            "GB | Epoch 6 | Loss: 0.13788160681724548 | Accuracy: 100.0%\n",
            "GB | Epoch 6 | Loss: 0.15280847251415253 | Accuracy: 96.875%\n",
            "GB | Epoch 6 | Loss: 0.17506328225135803 | Accuracy: 95.3125%\n",
            "GB | Epoch 6 | Loss: 0.21025745570659637 | Accuracy: 89.0625%\n",
            "GB | Epoch 6 | Loss: 0.18821904063224792 | Accuracy: 95.3125%\n",
            "GB | Epoch 6 | Loss: 0.14510592818260193 | Accuracy: 96.875%\n",
            "GB | Epoch 6 | Loss: 0.14278684556484222 | Accuracy: 95.3125%\n",
            "GB | Epoch 6 | Loss: 0.10479731112718582 | Accuracy: 100.0%\n",
            "GB | Epoch 6 | Loss: 0.17819783091545105 | Accuracy: 95.3125%\n",
            "GB | Epoch 6 | Loss: 0.2187417894601822 | Accuracy: 96.875%\n",
            "GB | Epoch 6 | Loss: 0.17280161380767822 | Accuracy: 96.875%\n"
          ]
        },
        {
          "name": "stderr",
          "output_type": "stream",
          "text": [
            "Epoch 6:  13%|█▎        | 97/751 [00:01<00:06, 103.79batch/s, accuracy=90.625%, loss=0.228]"
          ]
        },
        {
          "name": "stdout",
          "output_type": "stream",
          "text": [
            "GB | Epoch 6 | Loss: 0.11042594164609909 | Accuracy: 100.0%\n",
            "GB | Epoch 6 | Loss: 0.20622941851615906 | Accuracy: 92.1875%\n",
            "GB | Epoch 6 | Loss: 0.2788737714290619 | Accuracy: 98.4375%\n",
            "GB | Epoch 6 | Loss: 0.12211377918720245 | Accuracy: 98.4375%\n",
            "GB | Epoch 6 | Loss: 0.14376501739025116 | Accuracy: 98.4375%\n",
            "GB | Epoch 6 | Loss: 0.14633919298648834 | Accuracy: 96.875%\n",
            "GB | Epoch 6 | Loss: 0.2570768892765045 | Accuracy: 90.625%\n",
            "GB | Epoch 6 | Loss: 0.11453735828399658 | Accuracy: 96.875%\n",
            "GB | Epoch 6 | Loss: 0.2647533416748047 | Accuracy: 93.75%\n",
            "GB | Epoch 6 | Loss: 0.18721753358840942 | Accuracy: 93.75%\n",
            "GB | Epoch 6 | Loss: 0.13906368613243103 | Accuracy: 96.875%\n",
            "GB | Epoch 6 | Loss: 0.22631217539310455 | Accuracy: 92.1875%\n",
            "GB | Epoch 6 | Loss: 0.15131743252277374 | Accuracy: 92.1875%\n",
            "GB | Epoch 6 | Loss: 0.1270742416381836 | Accuracy: 96.875%\n",
            "GB | Epoch 6 | Loss: 0.2541126012802124 | Accuracy: 90.625%\n",
            "GB | Epoch 6 | Loss: 0.14637109637260437 | Accuracy: 93.75%\n",
            "GB | Epoch 6 | Loss: 0.17588505148887634 | Accuracy: 93.75%\n",
            "GB | Epoch 6 | Loss: 0.2167065143585205 | Accuracy: 89.0625%\n",
            "GB | Epoch 6 | Loss: 0.23395264148712158 | Accuracy: 90.625%\n",
            "GB | Epoch 6 | Loss: 0.09596028178930283 | Accuracy: 100.0%\n",
            "GB | Epoch 6 | Loss: 0.12497267872095108 | Accuracy: 96.875%\n",
            "GB | Epoch 6 | Loss: 0.25802475214004517 | Accuracy: 85.9375%\n",
            "GB | Epoch 6 | Loss: 0.252429723739624 | Accuracy: 90.625%\n",
            "GB | Epoch 6 | Loss: 0.22784170508384705 | Accuracy: 90.625%\n"
          ]
        },
        {
          "name": "stderr",
          "output_type": "stream",
          "text": [
            "Epoch 6:  16%|█▌        | 121/751 [00:01<00:05, 107.20batch/s, accuracy=98.4375%, loss=0.0968]"
          ]
        },
        {
          "name": "stdout",
          "output_type": "stream",
          "text": [
            "GB | Epoch 6 | Loss: 0.13817352056503296 | Accuracy: 95.3125%\n",
            "GB | Epoch 6 | Loss: 0.2297329604625702 | Accuracy: 95.3125%\n",
            "GB | Epoch 6 | Loss: 0.14909599721431732 | Accuracy: 95.3125%\n",
            "GB | Epoch 6 | Loss: 0.12999702990055084 | Accuracy: 95.3125%\n",
            "GB | Epoch 6 | Loss: 0.19543145596981049 | Accuracy: 93.75%\n",
            "GB | Epoch 6 | Loss: 0.24312639236450195 | Accuracy: 95.3125%\n",
            "GB | Epoch 6 | Loss: 0.15074391663074493 | Accuracy: 96.875%\n",
            "GB | Epoch 6 | Loss: 0.2276459038257599 | Accuracy: 92.1875%\n",
            "GB | Epoch 6 | Loss: 0.1872156709432602 | Accuracy: 93.75%\n",
            "GB | Epoch 6 | Loss: 0.12734417617321014 | Accuracy: 98.4375%\n",
            "GB | Epoch 6 | Loss: 0.23357747495174408 | Accuracy: 92.1875%\n",
            "GB | Epoch 6 | Loss: 0.19191840291023254 | Accuracy: 93.75%\n",
            "GB | Epoch 6 | Loss: 0.1830710619688034 | Accuracy: 96.875%\n",
            "GB | Epoch 6 | Loss: 0.20765449106693268 | Accuracy: 93.75%\n",
            "GB | Epoch 6 | Loss: 0.19573967158794403 | Accuracy: 96.875%\n",
            "GB | Epoch 6 | Loss: 0.17190854251384735 | Accuracy: 98.4375%\n",
            "GB | Epoch 6 | Loss: 0.1505293995141983 | Accuracy: 96.875%\n",
            "GB | Epoch 6 | Loss: 0.1160549595952034 | Accuracy: 96.875%\n",
            "GB | Epoch 6 | Loss: 0.26327046751976013 | Accuracy: 89.0625%\n",
            "GB | Epoch 6 | Loss: 0.1850624978542328 | Accuracy: 95.3125%\n",
            "GB | Epoch 6 | Loss: 0.32736003398895264 | Accuracy: 90.625%\n",
            "GB | Epoch 6 | Loss: 0.09680049866437912 | Accuracy: 98.4375%\n"
          ]
        },
        {
          "name": "stderr",
          "output_type": "stream",
          "text": [
            "Epoch 6:  19%|█▉        | 143/751 [00:01<00:05, 105.98batch/s, accuracy=92.1875%, loss=0.163]"
          ]
        },
        {
          "name": "stdout",
          "output_type": "stream",
          "text": [
            "GB | Epoch 6 | Loss: 0.10576198250055313 | Accuracy: 96.875%\n",
            "GB | Epoch 6 | Loss: 0.13188377022743225 | Accuracy: 96.875%\n",
            "GB | Epoch 6 | Loss: 0.1484842449426651 | Accuracy: 93.75%\n",
            "GB | Epoch 6 | Loss: 0.11482400447130203 | Accuracy: 93.75%\n",
            "GB | Epoch 6 | Loss: 0.05440672114491463 | Accuracy: 100.0%\n",
            "GB | Epoch 6 | Loss: 0.15523651242256165 | Accuracy: 93.75%\n",
            "GB | Epoch 6 | Loss: 0.12201254814863205 | Accuracy: 95.3125%\n",
            "GB | Epoch 6 | Loss: 0.11619480699300766 | Accuracy: 100.0%\n",
            "GB | Epoch 6 | Loss: 0.09993012249469757 | Accuracy: 96.875%\n",
            "GB | Epoch 6 | Loss: 0.14148837327957153 | Accuracy: 96.875%\n",
            "GB | Epoch 6 | Loss: 0.21148332953453064 | Accuracy: 90.625%\n",
            "GB | Epoch 6 | Loss: 0.17875219881534576 | Accuracy: 93.75%\n",
            "GB | Epoch 6 | Loss: 0.12393474578857422 | Accuracy: 96.875%\n",
            "GB | Epoch 6 | Loss: 0.13943731784820557 | Accuracy: 98.4375%\n",
            "GB | Epoch 6 | Loss: 0.1107339933514595 | Accuracy: 100.0%\n",
            "GB | Epoch 6 | Loss: 0.17630842328071594 | Accuracy: 95.3125%\n",
            "GB | Epoch 6 | Loss: 0.2672763764858246 | Accuracy: 85.9375%\n",
            "GB | Epoch 6 | Loss: 0.07806650549173355 | Accuracy: 98.4375%\n",
            "GB | Epoch 6 | Loss: 0.21616967022418976 | Accuracy: 92.1875%\n",
            "GB | Epoch 6 | Loss: 0.13997003436088562 | Accuracy: 92.1875%\n",
            "GB | Epoch 6 | Loss: 0.21884220838546753 | Accuracy: 89.0625%\n",
            "GB | Epoch 6 | Loss: 0.16270442306995392 | Accuracy: 92.1875%\n"
          ]
        },
        {
          "name": "stderr",
          "output_type": "stream",
          "text": [
            "Epoch 6:  22%|██▏       | 167/751 [00:02<00:05, 110.18batch/s, accuracy=96.875%, loss=0.13] "
          ]
        },
        {
          "name": "stdout",
          "output_type": "stream",
          "text": [
            "GB | Epoch 6 | Loss: 0.1614449918270111 | Accuracy: 95.3125%\n",
            "GB | Epoch 6 | Loss: 0.1571585237979889 | Accuracy: 93.75%\n",
            "GB | Epoch 6 | Loss: 0.13316108286380768 | Accuracy: 93.75%\n",
            "GB | Epoch 6 | Loss: 0.1543947160243988 | Accuracy: 93.75%\n",
            "GB | Epoch 6 | Loss: 0.2299630492925644 | Accuracy: 92.1875%\n",
            "GB | Epoch 6 | Loss: 0.1637745350599289 | Accuracy: 95.3125%\n",
            "GB | Epoch 6 | Loss: 0.33063918352127075 | Accuracy: 96.875%\n",
            "GB | Epoch 6 | Loss: 0.14531566202640533 | Accuracy: 95.3125%\n",
            "GB | Epoch 6 | Loss: 0.14675109088420868 | Accuracy: 98.4375%\n",
            "GB | Epoch 6 | Loss: 0.2189006209373474 | Accuracy: 93.75%\n",
            "GB | Epoch 6 | Loss: 0.10012519359588623 | Accuracy: 100.0%\n",
            "GB | Epoch 6 | Loss: 0.20174869894981384 | Accuracy: 93.75%\n",
            "GB | Epoch 6 | Loss: 0.18284174799919128 | Accuracy: 92.1875%\n",
            "GB | Epoch 6 | Loss: 0.21007047593593597 | Accuracy: 93.75%\n",
            "GB | Epoch 6 | Loss: 0.1854071170091629 | Accuracy: 93.75%\n",
            "GB | Epoch 6 | Loss: 0.2183351218700409 | Accuracy: 90.625%\n",
            "GB | Epoch 6 | Loss: 0.13256587088108063 | Accuracy: 95.3125%\n",
            "GB | Epoch 6 | Loss: 0.25456562638282776 | Accuracy: 93.75%\n",
            "GB | Epoch 6 | Loss: 0.14488080143928528 | Accuracy: 95.3125%\n",
            "GB | Epoch 6 | Loss: 0.21606391668319702 | Accuracy: 90.625%\n",
            "GB | Epoch 6 | Loss: 0.32640478014945984 | Accuracy: 90.625%\n",
            "GB | Epoch 6 | Loss: 0.4430549144744873 | Accuracy: 92.1875%\n",
            "GB | Epoch 6 | Loss: 0.1728907823562622 | Accuracy: 96.875%\n"
          ]
        },
        {
          "name": "stderr",
          "output_type": "stream",
          "text": [
            "Epoch 6:  25%|██▌       | 190/751 [00:02<00:05, 109.21batch/s, accuracy=98.4375%, loss=0.0877]"
          ]
        },
        {
          "name": "stdout",
          "output_type": "stream",
          "text": [
            "GB | Epoch 6 | Loss: 0.12992678582668304 | Accuracy: 96.875%\n",
            "GB | Epoch 6 | Loss: 0.11752777546644211 | Accuracy: 96.875%\n",
            "GB | Epoch 6 | Loss: 0.13558003306388855 | Accuracy: 98.4375%\n",
            "GB | Epoch 6 | Loss: 0.16338446736335754 | Accuracy: 92.1875%\n",
            "GB | Epoch 6 | Loss: 0.17563259601593018 | Accuracy: 95.3125%\n",
            "GB | Epoch 6 | Loss: 0.21026940643787384 | Accuracy: 89.0625%\n",
            "GB | Epoch 6 | Loss: 0.10242506861686707 | Accuracy: 98.4375%\n",
            "GB | Epoch 6 | Loss: 0.2193056344985962 | Accuracy: 93.75%\n",
            "GB | Epoch 6 | Loss: 0.1173488050699234 | Accuracy: 96.875%\n",
            "GB | Epoch 6 | Loss: 0.11317887157201767 | Accuracy: 100.0%\n",
            "GB | Epoch 6 | Loss: 0.27665773034095764 | Accuracy: 92.1875%\n",
            "GB | Epoch 6 | Loss: 0.11857469379901886 | Accuracy: 98.4375%\n",
            "GB | Epoch 6 | Loss: 0.12167930603027344 | Accuracy: 100.0%\n",
            "GB | Epoch 6 | Loss: 0.12530742585659027 | Accuracy: 96.875%\n",
            "GB | Epoch 6 | Loss: 0.22057399153709412 | Accuracy: 93.75%\n",
            "GB | Epoch 6 | Loss: 0.17274270951747894 | Accuracy: 93.75%\n",
            "GB | Epoch 6 | Loss: 0.1724691092967987 | Accuracy: 95.3125%\n",
            "GB | Epoch 6 | Loss: 0.13390198349952698 | Accuracy: 92.1875%\n",
            "GB | Epoch 6 | Loss: 0.12767855823040009 | Accuracy: 95.3125%\n",
            "GB | Epoch 6 | Loss: 0.16118879616260529 | Accuracy: 98.4375%\n",
            "GB | Epoch 6 | Loss: 0.13809923827648163 | Accuracy: 92.1875%\n",
            "GB | Epoch 6 | Loss: 0.087709940969944 | Accuracy: 98.4375%\n"
          ]
        },
        {
          "name": "stderr",
          "output_type": "stream",
          "text": [
            "Epoch 6:  28%|██▊       | 212/751 [00:02<00:05, 106.86batch/s, accuracy=96.875%, loss=0.0782] "
          ]
        },
        {
          "name": "stdout",
          "output_type": "stream",
          "text": [
            "GB | Epoch 6 | Loss: 0.143028125166893 | Accuracy: 95.3125%\n",
            "GB | Epoch 6 | Loss: 0.32590359449386597 | Accuracy: 92.1875%\n",
            "GB | Epoch 6 | Loss: 0.218079075217247 | Accuracy: 92.1875%\n",
            "GB | Epoch 6 | Loss: 0.1893850415945053 | Accuracy: 96.875%\n",
            "GB | Epoch 6 | Loss: 0.1899142563343048 | Accuracy: 92.1875%\n",
            "GB | Epoch 6 | Loss: 0.15355244278907776 | Accuracy: 96.875%\n",
            "GB | Epoch 6 | Loss: 0.22361846268177032 | Accuracy: 92.1875%\n",
            "GB | Epoch 6 | Loss: 0.13063667714595795 | Accuracy: 98.4375%\n",
            "GB | Epoch 6 | Loss: 0.0969051867723465 | Accuracy: 93.75%\n",
            "GB | Epoch 6 | Loss: 0.1321529746055603 | Accuracy: 96.875%\n",
            "GB | Epoch 6 | Loss: 0.10483137518167496 | Accuracy: 98.4375%\n",
            "GB | Epoch 6 | Loss: 0.09671981632709503 | Accuracy: 98.4375%\n",
            "GB | Epoch 6 | Loss: 0.1213950365781784 | Accuracy: 96.875%\n",
            "GB | Epoch 6 | Loss: 0.13248880207538605 | Accuracy: 95.3125%\n",
            "GB | Epoch 6 | Loss: 0.08322986215353012 | Accuracy: 96.875%\n",
            "GB | Epoch 6 | Loss: 0.2838567793369293 | Accuracy: 90.625%\n",
            "GB | Epoch 6 | Loss: 0.18109914660453796 | Accuracy: 93.75%\n",
            "GB | Epoch 6 | Loss: 0.16807515919208527 | Accuracy: 93.75%\n",
            "GB | Epoch 6 | Loss: 0.13003197312355042 | Accuracy: 95.3125%\n",
            "GB | Epoch 6 | Loss: 0.07893583923578262 | Accuracy: 98.4375%\n",
            "GB | Epoch 6 | Loss: 0.07824429124593735 | Accuracy: 96.875%\n"
          ]
        },
        {
          "name": "stderr",
          "output_type": "stream",
          "text": [
            "Epoch 6:  31%|███       | 234/751 [00:02<00:05, 103.28batch/s, accuracy=100.0%, loss=0.0959] "
          ]
        },
        {
          "name": "stdout",
          "output_type": "stream",
          "text": [
            "GB | Epoch 6 | Loss: 0.12851683795452118 | Accuracy: 95.3125%\n",
            "GB | Epoch 6 | Loss: 0.11396416276693344 | Accuracy: 98.4375%\n",
            "GB | Epoch 6 | Loss: 0.14235016703605652 | Accuracy: 95.3125%\n",
            "GB | Epoch 6 | Loss: 0.07078972458839417 | Accuracy: 98.4375%\n",
            "GB | Epoch 6 | Loss: 0.1859016716480255 | Accuracy: 92.1875%\n",
            "GB | Epoch 6 | Loss: 0.11358864605426788 | Accuracy: 98.4375%\n",
            "GB | Epoch 6 | Loss: 0.10543712228536606 | Accuracy: 96.875%\n",
            "GB | Epoch 6 | Loss: 0.2081880122423172 | Accuracy: 90.625%\n",
            "GB | Epoch 6 | Loss: 0.17257672548294067 | Accuracy: 90.625%\n",
            "GB | Epoch 6 | Loss: 0.10006477683782578 | Accuracy: 96.875%\n",
            "GB | Epoch 6 | Loss: 0.12514257431030273 | Accuracy: 98.4375%\n",
            "GB | Epoch 6 | Loss: 0.11167701333761215 | Accuracy: 95.3125%\n",
            "GB | Epoch 6 | Loss: 0.15414707362651825 | Accuracy: 95.3125%\n",
            "GB | Epoch 6 | Loss: 0.15834203362464905 | Accuracy: 98.4375%\n",
            "GB | Epoch 6 | Loss: 0.12967413663864136 | Accuracy: 96.875%\n",
            "GB | Epoch 6 | Loss: 0.1013740599155426 | Accuracy: 96.875%\n",
            "GB | Epoch 6 | Loss: 0.14369605481624603 | Accuracy: 93.75%\n",
            "GB | Epoch 6 | Loss: 0.23836953938007355 | Accuracy: 92.1875%\n",
            "GB | Epoch 6 | Loss: 0.1822683960199356 | Accuracy: 93.75%\n",
            "GB | Epoch 6 | Loss: 0.0958624929189682 | Accuracy: 96.875%\n",
            "GB | Epoch 6 | Loss: 0.09593570977449417 | Accuracy: 100.0%\n"
          ]
        },
        {
          "name": "stderr",
          "output_type": "stream",
          "text": [
            "Epoch 6:  34%|███▍      | 256/751 [00:02<00:04, 105.37batch/s, accuracy=98.4375%, loss=0.115]"
          ]
        },
        {
          "name": "stdout",
          "output_type": "stream",
          "text": [
            "GB | Epoch 6 | Loss: 0.1555793285369873 | Accuracy: 95.3125%\n",
            "GB | Epoch 6 | Loss: 0.10150174051523209 | Accuracy: 98.4375%\n",
            "GB | Epoch 6 | Loss: 0.08309400826692581 | Accuracy: 98.4375%\n",
            "GB | Epoch 6 | Loss: 0.14389902353286743 | Accuracy: 95.3125%\n",
            "GB | Epoch 6 | Loss: 0.1689578890800476 | Accuracy: 92.1875%\n",
            "GB | Epoch 6 | Loss: 0.14757397770881653 | Accuracy: 96.875%\n",
            "GB | Epoch 6 | Loss: 0.1218390017747879 | Accuracy: 95.3125%\n",
            "GB | Epoch 6 | Loss: 0.1273689568042755 | Accuracy: 93.75%\n",
            "GB | Epoch 6 | Loss: 0.09322194010019302 | Accuracy: 100.0%\n",
            "GB | Epoch 6 | Loss: 0.099960558116436 | Accuracy: 98.4375%\n",
            "GB | Epoch 6 | Loss: 0.21310527622699738 | Accuracy: 93.75%\n",
            "GB | Epoch 6 | Loss: 0.09541653096675873 | Accuracy: 96.875%\n",
            "GB | Epoch 6 | Loss: 0.11990052461624146 | Accuracy: 93.75%\n",
            "GB | Epoch 6 | Loss: 0.0714462623000145 | Accuracy: 98.4375%\n",
            "GB | Epoch 6 | Loss: 0.10225576907396317 | Accuracy: 98.4375%\n",
            "GB | Epoch 6 | Loss: 0.19151310622692108 | Accuracy: 90.625%\n",
            "GB | Epoch 6 | Loss: 0.2636643350124359 | Accuracy: 95.3125%\n",
            "GB | Epoch 6 | Loss: 0.13505275547504425 | Accuracy: 96.875%\n",
            "GB | Epoch 6 | Loss: 0.09968835860490799 | Accuracy: 100.0%\n",
            "GB | Epoch 6 | Loss: 0.13703376054763794 | Accuracy: 93.75%\n",
            "GB | Epoch 6 | Loss: 0.15526652336120605 | Accuracy: 95.3125%\n",
            "GB | Epoch 6 | Loss: 0.11529190093278885 | Accuracy: 98.4375%\n"
          ]
        },
        {
          "name": "stderr",
          "output_type": "stream",
          "text": [
            "Epoch 6:  37%|███▋      | 278/751 [00:03<00:04, 106.74batch/s, accuracy=100.0%, loss=0.0542]"
          ]
        },
        {
          "name": "stdout",
          "output_type": "stream",
          "text": [
            "GB | Epoch 6 | Loss: 0.09420281648635864 | Accuracy: 98.4375%\n",
            "GB | Epoch 6 | Loss: 0.24672463536262512 | Accuracy: 93.75%\n",
            "GB | Epoch 6 | Loss: 0.1641009896993637 | Accuracy: 96.875%\n",
            "GB | Epoch 6 | Loss: 0.10967093706130981 | Accuracy: 98.4375%\n",
            "GB | Epoch 6 | Loss: 0.14297889173030853 | Accuracy: 93.75%\n",
            "GB | Epoch 6 | Loss: 0.1331758052110672 | Accuracy: 93.75%\n",
            "GB | Epoch 6 | Loss: 0.0943109542131424 | Accuracy: 100.0%\n",
            "GB | Epoch 6 | Loss: 0.12249188125133514 | Accuracy: 95.3125%\n",
            "GB | Epoch 6 | Loss: 0.22167693078517914 | Accuracy: 92.1875%\n",
            "GB | Epoch 6 | Loss: 0.12911935150623322 | Accuracy: 92.1875%\n",
            "GB | Epoch 6 | Loss: 0.3074244558811188 | Accuracy: 93.75%\n",
            "GB | Epoch 6 | Loss: 0.09994244575500488 | Accuracy: 100.0%\n",
            "GB | Epoch 6 | Loss: 0.13958588242530823 | Accuracy: 96.875%\n",
            "GB | Epoch 6 | Loss: 0.10360578447580338 | Accuracy: 96.875%\n",
            "GB | Epoch 6 | Loss: 0.12727956473827362 | Accuracy: 98.4375%\n",
            "GB | Epoch 6 | Loss: 0.09408839046955109 | Accuracy: 100.0%\n",
            "GB | Epoch 6 | Loss: 0.13759760558605194 | Accuracy: 98.4375%\n",
            "GB | Epoch 6 | Loss: 0.048193834722042084 | Accuracy: 98.4375%\n",
            "GB | Epoch 6 | Loss: 0.14441536366939545 | Accuracy: 95.3125%\n",
            "GB | Epoch 6 | Loss: 0.1985759139060974 | Accuracy: 96.875%\n",
            "GB | Epoch 6 | Loss: 0.10777859389781952 | Accuracy: 96.875%\n",
            "GB | Epoch 6 | Loss: 0.13372677564620972 | Accuracy: 96.875%\n",
            "GB | Epoch 6 | Loss: 0.12014008313417435 | Accuracy: 96.875%\n",
            "GB | Epoch 6 | Loss: 0.0541902631521225 | Accuracy: 100.0%\n"
          ]
        },
        {
          "name": "stderr",
          "output_type": "stream",
          "text": [
            "Epoch 6:  40%|████      | 303/751 [00:03<00:03, 114.31batch/s, accuracy=98.4375%, loss=0.076]"
          ]
        },
        {
          "name": "stdout",
          "output_type": "stream",
          "text": [
            "GB | Epoch 6 | Loss: 0.16022275388240814 | Accuracy: 93.75%\n",
            "GB | Epoch 6 | Loss: 0.20072904229164124 | Accuracy: 93.75%\n",
            "GB | Epoch 6 | Loss: 0.0792381763458252 | Accuracy: 96.875%\n",
            "GB | Epoch 6 | Loss: 0.1306864470243454 | Accuracy: 98.4375%\n",
            "GB | Epoch 6 | Loss: 0.07364442199468613 | Accuracy: 98.4375%\n",
            "GB | Epoch 6 | Loss: 0.11590491235256195 | Accuracy: 98.4375%\n",
            "GB | Epoch 6 | Loss: 0.097892627120018 | Accuracy: 96.875%\n",
            "GB | Epoch 6 | Loss: 0.12106306850910187 | Accuracy: 96.875%\n",
            "GB | Epoch 6 | Loss: 0.10850737988948822 | Accuracy: 98.4375%\n",
            "GB | Epoch 6 | Loss: 0.23274606466293335 | Accuracy: 93.75%\n",
            "GB | Epoch 6 | Loss: 0.05011414363980293 | Accuracy: 100.0%\n",
            "GB | Epoch 6 | Loss: 0.1631285548210144 | Accuracy: 95.3125%\n",
            "GB | Epoch 6 | Loss: 0.13016407191753387 | Accuracy: 95.3125%\n",
            "GB | Epoch 6 | Loss: 0.184151753783226 | Accuracy: 92.1875%\n",
            "GB | Epoch 6 | Loss: 0.15366825461387634 | Accuracy: 95.3125%\n",
            "GB | Epoch 6 | Loss: 0.09467065334320068 | Accuracy: 96.875%\n",
            "GB | Epoch 6 | Loss: 0.16239605844020844 | Accuracy: 93.75%\n",
            "GB | Epoch 6 | Loss: 0.14614909887313843 | Accuracy: 92.1875%\n",
            "GB | Epoch 6 | Loss: 0.2394779920578003 | Accuracy: 93.75%\n",
            "GB | Epoch 6 | Loss: 0.054354507476091385 | Accuracy: 100.0%\n",
            "GB | Epoch 6 | Loss: 0.10148506611585617 | Accuracy: 98.4375%\n",
            "GB | Epoch 6 | Loss: 0.13448244333267212 | Accuracy: 93.75%\n",
            "GB | Epoch 6 | Loss: 0.24239403009414673 | Accuracy: 90.625%\n",
            "GB | Epoch 6 | Loss: 0.07596083730459213 | Accuracy: 98.4375%\n"
          ]
        },
        {
          "name": "stderr",
          "output_type": "stream",
          "text": [
            "Epoch 6:  44%|████▎     | 327/751 [00:03<00:03, 110.37batch/s, accuracy=96.875%, loss=0.178]"
          ]
        },
        {
          "name": "stdout",
          "output_type": "stream",
          "text": [
            "GB | Epoch 6 | Loss: 0.14027097821235657 | Accuracy: 95.3125%\n",
            "GB | Epoch 6 | Loss: 0.11597952246665955 | Accuracy: 93.75%\n",
            "GB | Epoch 6 | Loss: 0.22234728932380676 | Accuracy: 93.75%\n",
            "GB | Epoch 6 | Loss: 0.15472541749477386 | Accuracy: 95.3125%\n",
            "GB | Epoch 6 | Loss: 0.11118375509977341 | Accuracy: 95.3125%\n",
            "GB | Epoch 6 | Loss: 0.16193370521068573 | Accuracy: 95.3125%\n",
            "GB | Epoch 6 | Loss: 0.05348324775695801 | Accuracy: 100.0%\n",
            "GB | Epoch 6 | Loss: 0.11794063448905945 | Accuracy: 96.875%\n",
            "GB | Epoch 6 | Loss: 0.2357957363128662 | Accuracy: 90.625%\n",
            "GB | Epoch 6 | Loss: 0.15125146508216858 | Accuracy: 96.875%\n",
            "GB | Epoch 6 | Loss: 0.13711275160312653 | Accuracy: 95.3125%\n",
            "GB | Epoch 6 | Loss: 0.07865621149539948 | Accuracy: 96.875%\n",
            "GB | Epoch 6 | Loss: 0.13788288831710815 | Accuracy: 96.875%\n",
            "GB | Epoch 6 | Loss: 0.1277628242969513 | Accuracy: 95.3125%\n",
            "GB | Epoch 6 | Loss: 0.10479750484228134 | Accuracy: 100.0%\n",
            "GB | Epoch 6 | Loss: 0.09908135235309601 | Accuracy: 96.875%\n",
            "GB | Epoch 6 | Loss: 0.17234915494918823 | Accuracy: 92.1875%\n",
            "GB | Epoch 6 | Loss: 0.13613305985927582 | Accuracy: 90.625%\n",
            "GB | Epoch 6 | Loss: 0.19043029844760895 | Accuracy: 93.75%\n",
            "GB | Epoch 6 | Loss: 0.04405771195888519 | Accuracy: 98.4375%\n",
            "GB | Epoch 6 | Loss: 0.10369513183832169 | Accuracy: 96.875%\n",
            "GB | Epoch 6 | Loss: 0.17827776074409485 | Accuracy: 96.875%\n"
          ]
        },
        {
          "name": "stderr",
          "output_type": "stream",
          "text": [
            "Epoch 6:  47%|████▋     | 351/751 [00:03<00:03, 112.12batch/s, accuracy=96.875%, loss=0.0902]"
          ]
        },
        {
          "name": "stdout",
          "output_type": "stream",
          "text": [
            "GB | Epoch 6 | Loss: 0.08235904574394226 | Accuracy: 98.4375%\n",
            "GB | Epoch 6 | Loss: 0.12480084598064423 | Accuracy: 96.875%\n",
            "GB | Epoch 6 | Loss: 0.07471350580453873 | Accuracy: 98.4375%\n",
            "GB | Epoch 6 | Loss: 0.12308462709188461 | Accuracy: 96.875%\n",
            "GB | Epoch 6 | Loss: 0.21560169756412506 | Accuracy: 96.875%\n",
            "GB | Epoch 6 | Loss: 0.10768763720989227 | Accuracy: 98.4375%\n",
            "GB | Epoch 6 | Loss: 0.08465242385864258 | Accuracy: 100.0%\n",
            "GB | Epoch 6 | Loss: 0.09372958540916443 | Accuracy: 96.875%\n",
            "GB | Epoch 6 | Loss: 0.062870092689991 | Accuracy: 100.0%\n",
            "GB | Epoch 6 | Loss: 0.10978984087705612 | Accuracy: 93.75%\n",
            "GB | Epoch 6 | Loss: 0.06064712628722191 | Accuracy: 100.0%\n",
            "GB | Epoch 6 | Loss: 0.1255871057510376 | Accuracy: 98.4375%\n",
            "GB | Epoch 6 | Loss: 0.19744087755680084 | Accuracy: 93.75%\n",
            "GB | Epoch 6 | Loss: 0.3788907527923584 | Accuracy: 93.75%\n",
            "GB | Epoch 6 | Loss: 0.33476999402046204 | Accuracy: 96.875%\n",
            "GB | Epoch 6 | Loss: 0.12202902138233185 | Accuracy: 96.875%\n",
            "GB | Epoch 6 | Loss: 0.20656369626522064 | Accuracy: 93.75%\n",
            "GB | Epoch 6 | Loss: 0.11391489207744598 | Accuracy: 95.3125%\n",
            "GB | Epoch 6 | Loss: 0.08523935079574585 | Accuracy: 100.0%\n",
            "GB | Epoch 6 | Loss: 0.1992035210132599 | Accuracy: 90.625%\n",
            "GB | Epoch 6 | Loss: 0.13753804564476013 | Accuracy: 96.875%\n",
            "GB | Epoch 6 | Loss: 0.148384228348732 | Accuracy: 95.3125%\n",
            "GB | Epoch 6 | Loss: 0.07633254677057266 | Accuracy: 96.875%\n",
            "GB | Epoch 6 | Loss: 0.0902043953537941 | Accuracy: 96.875%\n"
          ]
        },
        {
          "name": "stderr",
          "output_type": "stream",
          "text": [
            "Epoch 6:  50%|████▉     | 375/751 [00:03<00:03, 112.44batch/s, accuracy=95.3125%, loss=0.265]"
          ]
        },
        {
          "name": "stdout",
          "output_type": "stream",
          "text": [
            "GB | Epoch 6 | Loss: 0.10939635336399078 | Accuracy: 93.75%\n",
            "GB | Epoch 6 | Loss: 0.0802856907248497 | Accuracy: 96.875%\n",
            "GB | Epoch 6 | Loss: 0.08277280628681183 | Accuracy: 98.4375%\n",
            "GB | Epoch 6 | Loss: 0.17584222555160522 | Accuracy: 95.3125%\n",
            "GB | Epoch 6 | Loss: 0.16994929313659668 | Accuracy: 93.75%\n",
            "GB | Epoch 6 | Loss: 0.2620723843574524 | Accuracy: 93.75%\n",
            "GB | Epoch 6 | Loss: 0.1300702542066574 | Accuracy: 96.875%\n",
            "GB | Epoch 6 | Loss: 0.0802040845155716 | Accuracy: 96.875%\n",
            "GB | Epoch 6 | Loss: 0.09831108897924423 | Accuracy: 100.0%\n",
            "GB | Epoch 6 | Loss: 0.06447935849428177 | Accuracy: 98.4375%\n",
            "GB | Epoch 6 | Loss: 0.15133170783519745 | Accuracy: 95.3125%\n",
            "GB | Epoch 6 | Loss: 0.06997612118721008 | Accuracy: 100.0%\n",
            "GB | Epoch 6 | Loss: 0.1438111811876297 | Accuracy: 95.3125%\n",
            "GB | Epoch 6 | Loss: 0.05865907296538353 | Accuracy: 100.0%\n",
            "GB | Epoch 6 | Loss: 0.0993206650018692 | Accuracy: 96.875%\n",
            "GB | Epoch 6 | Loss: 0.15732558071613312 | Accuracy: 95.3125%\n",
            "GB | Epoch 6 | Loss: 0.16556639969348907 | Accuracy: 93.75%\n",
            "GB | Epoch 6 | Loss: 0.15010595321655273 | Accuracy: 95.3125%\n",
            "GB | Epoch 6 | Loss: 0.08006018400192261 | Accuracy: 98.4375%\n",
            "GB | Epoch 6 | Loss: 0.14204992353916168 | Accuracy: 95.3125%\n",
            "GB | Epoch 6 | Loss: 0.12491146475076675 | Accuracy: 98.4375%\n",
            "GB | Epoch 6 | Loss: 0.0938781201839447 | Accuracy: 96.875%\n",
            "GB | Epoch 6 | Loss: 0.2645915746688843 | Accuracy: 95.3125%\n"
          ]
        },
        {
          "name": "stderr",
          "output_type": "stream",
          "text": [
            "Epoch 6:  53%|█████▎    | 400/751 [00:04<00:03, 115.26batch/s, accuracy=93.75%, loss=0.155]  "
          ]
        },
        {
          "name": "stdout",
          "output_type": "stream",
          "text": [
            "GB | Epoch 6 | Loss: 0.10457681864500046 | Accuracy: 96.875%\n",
            "GB | Epoch 6 | Loss: 0.12730121612548828 | Accuracy: 96.875%\n",
            "GB | Epoch 6 | Loss: 0.06279915571212769 | Accuracy: 100.0%\n",
            "GB | Epoch 6 | Loss: 0.15226225554943085 | Accuracy: 96.875%\n",
            "GB | Epoch 6 | Loss: 0.12235905975103378 | Accuracy: 95.3125%\n",
            "GB | Epoch 6 | Loss: 0.04883972927927971 | Accuracy: 100.0%\n",
            "GB | Epoch 6 | Loss: 0.09021958708763123 | Accuracy: 98.4375%\n",
            "GB | Epoch 6 | Loss: 0.12130198627710342 | Accuracy: 96.875%\n",
            "GB | Epoch 6 | Loss: 0.10832749307155609 | Accuracy: 96.875%\n",
            "GB | Epoch 6 | Loss: 0.1429208517074585 | Accuracy: 96.875%\n",
            "GB | Epoch 6 | Loss: 0.1727425903081894 | Accuracy: 92.1875%\n",
            "GB | Epoch 6 | Loss: 0.20401428639888763 | Accuracy: 95.3125%\n",
            "GB | Epoch 6 | Loss: 0.14199572801589966 | Accuracy: 95.3125%\n",
            "GB | Epoch 6 | Loss: 0.15724003314971924 | Accuracy: 93.75%\n",
            "GB | Epoch 6 | Loss: 0.10643573850393295 | Accuracy: 98.4375%\n",
            "GB | Epoch 6 | Loss: 0.05745740234851837 | Accuracy: 100.0%\n",
            "GB | Epoch 6 | Loss: 0.0835929811000824 | Accuracy: 98.4375%\n",
            "GB | Epoch 6 | Loss: 0.08982615172863007 | Accuracy: 98.4375%\n",
            "GB | Epoch 6 | Loss: 0.1341327428817749 | Accuracy: 95.3125%\n",
            "GB | Epoch 6 | Loss: 0.07046336680650711 | Accuracy: 100.0%\n",
            "GB | Epoch 6 | Loss: 0.15727119147777557 | Accuracy: 95.3125%\n",
            "GB | Epoch 6 | Loss: 0.10191041976213455 | Accuracy: 96.875%\n",
            "GB | Epoch 6 | Loss: 0.08106813579797745 | Accuracy: 96.875%\n",
            "GB | Epoch 6 | Loss: 0.15526539087295532 | Accuracy: 93.75%\n"
          ]
        },
        {
          "name": "stderr",
          "output_type": "stream",
          "text": [
            "Epoch 6:  56%|█████▋    | 424/751 [00:04<00:02, 113.78batch/s, accuracy=93.75%, loss=0.245]  "
          ]
        },
        {
          "name": "stdout",
          "output_type": "stream",
          "text": [
            "GB | Epoch 6 | Loss: 0.1698606163263321 | Accuracy: 93.75%\n",
            "GB | Epoch 6 | Loss: 0.08154405653476715 | Accuracy: 100.0%\n",
            "GB | Epoch 6 | Loss: 0.08475936949253082 | Accuracy: 98.4375%\n",
            "GB | Epoch 6 | Loss: 0.13223546743392944 | Accuracy: 95.3125%\n",
            "GB | Epoch 6 | Loss: 0.15704689919948578 | Accuracy: 96.875%\n",
            "GB | Epoch 6 | Loss: 0.08066099137067795 | Accuracy: 98.4375%\n",
            "GB | Epoch 6 | Loss: 0.27102595567703247 | Accuracy: 93.75%\n",
            "GB | Epoch 6 | Loss: 0.11887335777282715 | Accuracy: 96.875%\n",
            "GB | Epoch 6 | Loss: 0.21693414449691772 | Accuracy: 90.625%\n",
            "GB | Epoch 6 | Loss: 0.11305465549230576 | Accuracy: 96.875%\n",
            "GB | Epoch 6 | Loss: 0.1375742405653 | Accuracy: 96.875%\n",
            "GB | Epoch 6 | Loss: 0.08095378428697586 | Accuracy: 96.875%\n",
            "GB | Epoch 6 | Loss: 0.10920719802379608 | Accuracy: 98.4375%\n",
            "GB | Epoch 6 | Loss: 0.40699058771133423 | Accuracy: 96.875%\n",
            "GB | Epoch 6 | Loss: 0.10180491209030151 | Accuracy: 98.4375%\n",
            "GB | Epoch 6 | Loss: 0.10988414287567139 | Accuracy: 98.4375%\n",
            "GB | Epoch 6 | Loss: 0.04754861444234848 | Accuracy: 100.0%\n",
            "GB | Epoch 6 | Loss: 0.08164383471012115 | Accuracy: 98.4375%\n",
            "GB | Epoch 6 | Loss: 0.18452617526054382 | Accuracy: 92.1875%\n",
            "GB | Epoch 6 | Loss: 0.08001424372196198 | Accuracy: 96.875%\n",
            "GB | Epoch 6 | Loss: 0.1344580501317978 | Accuracy: 95.3125%\n",
            "GB | Epoch 6 | Loss: 0.13151304423809052 | Accuracy: 95.3125%\n",
            "GB | Epoch 6 | Loss: 0.24450555443763733 | Accuracy: 93.75%\n"
          ]
        },
        {
          "name": "stderr",
          "output_type": "stream",
          "text": [
            "Epoch 6:  58%|█████▊    | 436/751 [00:04<00:02, 113.45batch/s, accuracy=98.4375%, loss=0.105]"
          ]
        },
        {
          "name": "stdout",
          "output_type": "stream",
          "text": [
            "GB | Epoch 6 | Loss: 0.13999733328819275 | Accuracy: 96.875%\n",
            "GB | Epoch 6 | Loss: 0.0786990225315094 | Accuracy: 96.875%\n",
            "GB | Epoch 6 | Loss: 0.11876846104860306 | Accuracy: 95.3125%\n",
            "GB | Epoch 6 | Loss: 0.09447696059942245 | Accuracy: 98.4375%\n",
            "GB | Epoch 6 | Loss: 0.07739737629890442 | Accuracy: 96.875%\n",
            "GB | Epoch 6 | Loss: 0.07446101307868958 | Accuracy: 100.0%\n",
            "GB | Epoch 6 | Loss: 0.07382098585367203 | Accuracy: 98.4375%\n",
            "GB | Epoch 6 | Loss: 0.12455219030380249 | Accuracy: 98.4375%\n",
            "GB | Epoch 6 | Loss: 0.0679730623960495 | Accuracy: 100.0%\n",
            "GB | Epoch 6 | Loss: 0.07071490585803986 | Accuracy: 98.4375%\n",
            "GB | Epoch 6 | Loss: 0.08461540937423706 | Accuracy: 100.0%\n",
            "GB | Epoch 6 | Loss: 0.10831766575574875 | Accuracy: 96.875%\n",
            "GB | Epoch 6 | Loss: 0.0842926874756813 | Accuracy: 98.4375%\n",
            "GB | Epoch 6 | Loss: 0.2423318326473236 | Accuracy: 93.75%\n",
            "GB | Epoch 6 | Loss: 0.09985257685184479 | Accuracy: 98.4375%\n",
            "GB | Epoch 6 | Loss: 0.16108831763267517 | Accuracy: 95.3125%\n",
            "GB | Epoch 6 | Loss: 0.1482638120651245 | Accuracy: 96.875%\n",
            "GB | Epoch 6 | Loss: 0.10656426846981049 | Accuracy: 96.875%\n",
            "GB | Epoch 6 | Loss: 0.11663616448640823 | Accuracy: 98.4375%\n",
            "GB | Epoch 6 | Loss: 0.05469813942909241 | Accuracy: 98.4375%\n",
            "GB | Epoch 6 | Loss: 0.10740058124065399 | Accuracy: 96.875%\n",
            "GB | Epoch 6 | Loss: 0.10522544384002686 | Accuracy: 98.4375%\n"
          ]
        },
        {
          "name": "stderr",
          "output_type": "stream",
          "text": [
            "Epoch 6:  61%|██████▏   | 461/751 [00:04<00:02, 113.44batch/s, accuracy=95.3125%, loss=0.162] "
          ]
        },
        {
          "name": "stdout",
          "output_type": "stream",
          "text": [
            "GB | Epoch 6 | Loss: 0.1673606038093567 | Accuracy: 95.3125%\n",
            "GB | Epoch 6 | Loss: 0.14358200132846832 | Accuracy: 93.75%\n",
            "GB | Epoch 6 | Loss: 0.14114640653133392 | Accuracy: 95.3125%\n",
            "GB | Epoch 6 | Loss: 0.17873239517211914 | Accuracy: 92.1875%\n",
            "GB | Epoch 6 | Loss: 0.13198156654834747 | Accuracy: 96.875%\n",
            "GB | Epoch 6 | Loss: 0.10048819333314896 | Accuracy: 98.4375%\n",
            "GB | Epoch 6 | Loss: 0.14490507543087006 | Accuracy: 95.3125%\n",
            "GB | Epoch 6 | Loss: 0.1601676195859909 | Accuracy: 90.625%\n",
            "GB | Epoch 6 | Loss: 0.1046101525425911 | Accuracy: 95.3125%\n",
            "GB | Epoch 6 | Loss: 0.08805403113365173 | Accuracy: 96.875%\n",
            "GB | Epoch 6 | Loss: 0.09702476859092712 | Accuracy: 96.875%\n",
            "GB | Epoch 6 | Loss: 0.131160169839859 | Accuracy: 98.4375%\n",
            "GB | Epoch 6 | Loss: 0.1200859472155571 | Accuracy: 95.3125%\n",
            "GB | Epoch 6 | Loss: 0.1143287867307663 | Accuracy: 93.75%\n",
            "GB | Epoch 6 | Loss: 0.17192792892456055 | Accuracy: 98.4375%\n",
            "GB | Epoch 6 | Loss: 0.05018768087029457 | Accuracy: 100.0%\n",
            "GB | Epoch 6 | Loss: 0.08943787962198257 | Accuracy: 98.4375%\n",
            "GB | Epoch 6 | Loss: 0.07953311502933502 | Accuracy: 100.0%\n",
            "GB | Epoch 6 | Loss: 0.11465089023113251 | Accuracy: 98.4375%\n",
            "GB | Epoch 6 | Loss: 0.11718419194221497 | Accuracy: 98.4375%\n",
            "GB | Epoch 6 | Loss: 0.082949697971344 | Accuracy: 98.4375%\n",
            "GB | Epoch 6 | Loss: 0.07483498007059097 | Accuracy: 98.4375%\n",
            "GB | Epoch 6 | Loss: 0.06885170936584473 | Accuracy: 98.4375%\n",
            "GB | Epoch 6 | Loss: 0.1619047373533249 | Accuracy: 95.3125%\n"
          ]
        },
        {
          "name": "stderr",
          "output_type": "stream",
          "text": [
            "Epoch 6:  65%|██████▍   | 485/751 [00:05<00:02, 111.76batch/s, accuracy=100.0%, loss=0.0581]  "
          ]
        },
        {
          "name": "stdout",
          "output_type": "stream",
          "text": [
            "GB | Epoch 6 | Loss: 0.10747579485177994 | Accuracy: 98.4375%\n",
            "GB | Epoch 6 | Loss: 0.09743611514568329 | Accuracy: 98.4375%\n",
            "GB | Epoch 6 | Loss: 0.0739702358841896 | Accuracy: 98.4375%\n",
            "GB | Epoch 6 | Loss: 0.07802147418260574 | Accuracy: 98.4375%\n",
            "GB | Epoch 6 | Loss: 0.19004933536052704 | Accuracy: 92.1875%\n",
            "GB | Epoch 6 | Loss: 0.1630876660346985 | Accuracy: 96.875%\n",
            "GB | Epoch 6 | Loss: 0.10335017740726471 | Accuracy: 100.0%\n",
            "GB | Epoch 6 | Loss: 0.07789263874292374 | Accuracy: 98.4375%\n",
            "GB | Epoch 6 | Loss: 0.20522324740886688 | Accuracy: 92.1875%\n",
            "GB | Epoch 6 | Loss: 0.10641194880008698 | Accuracy: 96.875%\n",
            "GB | Epoch 6 | Loss: 0.0810927301645279 | Accuracy: 100.0%\n",
            "GB | Epoch 6 | Loss: 0.14502987265586853 | Accuracy: 95.3125%\n",
            "GB | Epoch 6 | Loss: 0.0762288048863411 | Accuracy: 98.4375%\n",
            "GB | Epoch 6 | Loss: 0.05292746424674988 | Accuracy: 100.0%\n",
            "GB | Epoch 6 | Loss: 0.08730863779783249 | Accuracy: 98.4375%\n",
            "GB | Epoch 6 | Loss: 0.0894317552447319 | Accuracy: 100.0%\n",
            "GB | Epoch 6 | Loss: 0.08698348701000214 | Accuracy: 98.4375%\n",
            "GB | Epoch 6 | Loss: 0.10730668157339096 | Accuracy: 98.4375%\n",
            "GB | Epoch 6 | Loss: 0.09410636126995087 | Accuracy: 96.875%\n",
            "GB | Epoch 6 | Loss: 0.10179714858531952 | Accuracy: 98.4375%\n",
            "GB | Epoch 6 | Loss: 0.16606628894805908 | Accuracy: 92.1875%\n",
            "GB | Epoch 6 | Loss: 0.06633099913597107 | Accuracy: 98.4375%\n",
            "GB | Epoch 6 | Loss: 0.05805741623044014 | Accuracy: 100.0%\n"
          ]
        },
        {
          "name": "stderr",
          "output_type": "stream",
          "text": [
            "Epoch 6:  68%|██████▊   | 509/751 [00:05<00:02, 112.11batch/s, accuracy=96.875%, loss=0.212]"
          ]
        },
        {
          "name": "stdout",
          "output_type": "stream",
          "text": [
            "GB | Epoch 6 | Loss: 0.06162429600954056 | Accuracy: 100.0%\n",
            "GB | Epoch 6 | Loss: 0.0845656543970108 | Accuracy: 98.4375%\n",
            "GB | Epoch 6 | Loss: 0.19941359758377075 | Accuracy: 95.3125%\n",
            "GB | Epoch 6 | Loss: 0.13144199550151825 | Accuracy: 96.875%\n",
            "GB | Epoch 6 | Loss: 0.10751338303089142 | Accuracy: 95.3125%\n",
            "GB | Epoch 6 | Loss: 0.06821202486753464 | Accuracy: 98.4375%\n",
            "GB | Epoch 6 | Loss: 0.11464900523424149 | Accuracy: 95.3125%\n",
            "GB | Epoch 6 | Loss: 0.05035657808184624 | Accuracy: 98.4375%\n",
            "GB | Epoch 6 | Loss: 0.06932049989700317 | Accuracy: 98.4375%\n",
            "GB | Epoch 6 | Loss: 0.11194676905870438 | Accuracy: 96.875%\n",
            "GB | Epoch 6 | Loss: 0.1037139892578125 | Accuracy: 93.75%\n",
            "GB | Epoch 6 | Loss: 0.04330183193087578 | Accuracy: 100.0%\n",
            "GB | Epoch 6 | Loss: 0.13626016676425934 | Accuracy: 95.3125%\n",
            "GB | Epoch 6 | Loss: 0.07330770790576935 | Accuracy: 98.4375%\n",
            "GB | Epoch 6 | Loss: 0.13584782183170319 | Accuracy: 98.4375%\n",
            "GB | Epoch 6 | Loss: 0.06718458980321884 | Accuracy: 100.0%\n",
            "GB | Epoch 6 | Loss: 0.09145335853099823 | Accuracy: 98.4375%\n",
            "GB | Epoch 6 | Loss: 0.10554713010787964 | Accuracy: 98.4375%\n",
            "GB | Epoch 6 | Loss: 0.091090127825737 | Accuracy: 96.875%\n",
            "GB | Epoch 6 | Loss: 0.10769199579954147 | Accuracy: 95.3125%\n",
            "GB | Epoch 6 | Loss: 0.036377836018800735 | Accuracy: 100.0%\n",
            "GB | Epoch 6 | Loss: 0.063807912170887 | Accuracy: 100.0%\n",
            "GB | Epoch 6 | Loss: 0.2122041881084442 | Accuracy: 96.875%\n"
          ]
        },
        {
          "name": "stderr",
          "output_type": "stream",
          "text": [
            "Epoch 6:  71%|███████   | 533/751 [00:05<00:01, 112.46batch/s, accuracy=100.0%, loss=0.0381]"
          ]
        },
        {
          "name": "stdout",
          "output_type": "stream",
          "text": [
            "GB | Epoch 6 | Loss: 0.10063408315181732 | Accuracy: 100.0%\n",
            "GB | Epoch 6 | Loss: 0.09044087678194046 | Accuracy: 98.4375%\n",
            "GB | Epoch 6 | Loss: 0.11373408138751984 | Accuracy: 95.3125%\n",
            "GB | Epoch 6 | Loss: 0.12618258595466614 | Accuracy: 95.3125%\n",
            "GB | Epoch 6 | Loss: 0.10803903639316559 | Accuracy: 95.3125%\n",
            "GB | Epoch 6 | Loss: 0.06435336172580719 | Accuracy: 98.4375%\n",
            "GB | Epoch 6 | Loss: 0.07342427223920822 | Accuracy: 98.4375%\n",
            "GB | Epoch 6 | Loss: 0.18800246715545654 | Accuracy: 93.75%\n",
            "GB | Epoch 6 | Loss: 0.11432833224534988 | Accuracy: 98.4375%\n",
            "GB | Epoch 6 | Loss: 0.08515234291553497 | Accuracy: 96.875%\n",
            "GB | Epoch 6 | Loss: 0.16259120404720306 | Accuracy: 92.1875%\n",
            "GB | Epoch 6 | Loss: 0.15453045070171356 | Accuracy: 96.875%\n",
            "GB | Epoch 6 | Loss: 0.05228633061051369 | Accuracy: 98.4375%\n",
            "GB | Epoch 6 | Loss: 0.09789658337831497 | Accuracy: 98.4375%\n",
            "GB | Epoch 6 | Loss: 0.1129446029663086 | Accuracy: 93.75%\n",
            "GB | Epoch 6 | Loss: 0.07742610573768616 | Accuracy: 100.0%\n",
            "GB | Epoch 6 | Loss: 0.07753480225801468 | Accuracy: 96.875%\n",
            "GB | Epoch 6 | Loss: 0.14131811261177063 | Accuracy: 92.1875%\n",
            "GB | Epoch 6 | Loss: 0.07258615642786026 | Accuracy: 96.875%\n",
            "GB | Epoch 6 | Loss: 0.09301812946796417 | Accuracy: 98.4375%\n",
            "GB | Epoch 6 | Loss: 0.09054550528526306 | Accuracy: 98.4375%\n",
            "GB | Epoch 6 | Loss: 0.10401041805744171 | Accuracy: 95.3125%\n",
            "GB | Epoch 6 | Loss: 0.11029000580310822 | Accuracy: 93.75%\n",
            "GB | Epoch 6 | Loss: 0.03812962770462036 | Accuracy: 100.0%\n"
          ]
        },
        {
          "name": "stderr",
          "output_type": "stream",
          "text": [
            "Epoch 6:  74%|███████▍  | 557/751 [00:05<00:01, 114.65batch/s, accuracy=98.4375%, loss=0.209] "
          ]
        },
        {
          "name": "stdout",
          "output_type": "stream",
          "text": [
            "GB | Epoch 6 | Loss: 0.13428746163845062 | Accuracy: 93.75%\n",
            "GB | Epoch 6 | Loss: 0.14756132662296295 | Accuracy: 96.875%\n",
            "GB | Epoch 6 | Loss: 0.1259385496377945 | Accuracy: 96.875%\n",
            "GB | Epoch 6 | Loss: 0.08942867070436478 | Accuracy: 98.4375%\n",
            "GB | Epoch 6 | Loss: 0.16710613667964935 | Accuracy: 95.3125%\n",
            "GB | Epoch 6 | Loss: 0.1381225287914276 | Accuracy: 98.4375%\n",
            "GB | Epoch 6 | Loss: 0.2784741222858429 | Accuracy: 95.3125%\n",
            "GB | Epoch 6 | Loss: 0.12222321331501007 | Accuracy: 96.875%\n",
            "GB | Epoch 6 | Loss: 0.06467223167419434 | Accuracy: 100.0%\n",
            "GB | Epoch 6 | Loss: 0.09514959156513214 | Accuracy: 98.4375%\n",
            "GB | Epoch 6 | Loss: 0.18330037593841553 | Accuracy: 95.3125%\n",
            "GB | Epoch 6 | Loss: 0.15331195294857025 | Accuracy: 93.75%\n",
            "GB | Epoch 6 | Loss: 0.2821289896965027 | Accuracy: 96.875%\n",
            "GB | Epoch 6 | Loss: 0.04547429084777832 | Accuracy: 100.0%\n",
            "GB | Epoch 6 | Loss: 0.0852569118142128 | Accuracy: 98.4375%\n",
            "GB | Epoch 6 | Loss: 0.04815121740102768 | Accuracy: 100.0%\n",
            "GB | Epoch 6 | Loss: 0.14302785694599152 | Accuracy: 93.75%\n",
            "GB | Epoch 6 | Loss: 0.12140531837940216 | Accuracy: 98.4375%\n",
            "GB | Epoch 6 | Loss: 0.04754394665360451 | Accuracy: 100.0%\n",
            "GB | Epoch 6 | Loss: 0.1521482765674591 | Accuracy: 96.875%\n",
            "GB | Epoch 6 | Loss: 0.12936356663703918 | Accuracy: 96.875%\n",
            "GB | Epoch 6 | Loss: 0.053412843495607376 | Accuracy: 98.4375%\n",
            "GB | Epoch 6 | Loss: 0.20933695137500763 | Accuracy: 98.4375%\n"
          ]
        },
        {
          "name": "stderr",
          "output_type": "stream",
          "text": [
            "Epoch 6:  77%|███████▋  | 581/751 [00:05<00:01, 113.96batch/s, accuracy=96.875%, loss=0.0844] "
          ]
        },
        {
          "name": "stdout",
          "output_type": "stream",
          "text": [
            "GB | Epoch 6 | Loss: 0.1274409145116806 | Accuracy: 96.875%\n",
            "GB | Epoch 6 | Loss: 0.058973778039216995 | Accuracy: 98.4375%\n",
            "GB | Epoch 6 | Loss: 0.13588647544384003 | Accuracy: 93.75%\n",
            "GB | Epoch 6 | Loss: 0.09701871871948242 | Accuracy: 100.0%\n",
            "GB | Epoch 6 | Loss: 0.1502668559551239 | Accuracy: 93.75%\n",
            "GB | Epoch 6 | Loss: 0.06100926175713539 | Accuracy: 96.875%\n",
            "GB | Epoch 6 | Loss: 0.06813862174749374 | Accuracy: 100.0%\n",
            "GB | Epoch 6 | Loss: 0.0684720128774643 | Accuracy: 98.4375%\n",
            "GB | Epoch 6 | Loss: 0.09870059043169022 | Accuracy: 96.875%\n",
            "GB | Epoch 6 | Loss: 0.09069211035966873 | Accuracy: 96.875%\n",
            "GB | Epoch 6 | Loss: 0.08731992542743683 | Accuracy: 98.4375%\n",
            "GB | Epoch 6 | Loss: 0.0770343765616417 | Accuracy: 96.875%\n",
            "GB | Epoch 6 | Loss: 0.04442853480577469 | Accuracy: 98.4375%\n",
            "GB | Epoch 6 | Loss: 0.129686638712883 | Accuracy: 95.3125%\n",
            "GB | Epoch 6 | Loss: 0.06204264238476753 | Accuracy: 98.4375%\n",
            "GB | Epoch 6 | Loss: 0.12437605112791061 | Accuracy: 96.875%\n",
            "GB | Epoch 6 | Loss: 0.07866054773330688 | Accuracy: 96.875%\n",
            "GB | Epoch 6 | Loss: 0.0703306570649147 | Accuracy: 98.4375%\n",
            "GB | Epoch 6 | Loss: 0.09653175622224808 | Accuracy: 98.4375%\n",
            "GB | Epoch 6 | Loss: 0.060573264956474304 | Accuracy: 98.4375%\n",
            "GB | Epoch 6 | Loss: 0.04640360176563263 | Accuracy: 98.4375%\n",
            "GB | Epoch 6 | Loss: 0.06872281432151794 | Accuracy: 100.0%\n",
            "GB | Epoch 6 | Loss: 0.07520107924938202 | Accuracy: 98.4375%\n",
            "GB | Epoch 6 | Loss: 0.08437418192625046 | Accuracy: 96.875%\n"
          ]
        },
        {
          "name": "stderr",
          "output_type": "stream",
          "text": [
            "Epoch 6:  81%|████████  | 605/751 [00:06<00:01, 114.98batch/s, accuracy=95.3125%, loss=0.131]"
          ]
        },
        {
          "name": "stdout",
          "output_type": "stream",
          "text": [
            "GB | Epoch 6 | Loss: 0.04963556304574013 | Accuracy: 98.4375%\n",
            "GB | Epoch 6 | Loss: 0.20764262974262238 | Accuracy: 95.3125%\n",
            "GB | Epoch 6 | Loss: 0.13561862707138062 | Accuracy: 95.3125%\n",
            "GB | Epoch 6 | Loss: 0.07717491686344147 | Accuracy: 98.4375%\n",
            "GB | Epoch 6 | Loss: 0.09306398034095764 | Accuracy: 96.875%\n",
            "GB | Epoch 6 | Loss: 0.04635036736726761 | Accuracy: 100.0%\n",
            "GB | Epoch 6 | Loss: 0.05978989601135254 | Accuracy: 98.4375%\n",
            "GB | Epoch 6 | Loss: 0.12991705536842346 | Accuracy: 96.875%\n",
            "GB | Epoch 6 | Loss: 0.09186302870512009 | Accuracy: 98.4375%\n",
            "GB | Epoch 6 | Loss: 0.08013878762722015 | Accuracy: 98.4375%\n",
            "GB | Epoch 6 | Loss: 0.06717988103628159 | Accuracy: 98.4375%\n",
            "GB | Epoch 6 | Loss: 0.07102768123149872 | Accuracy: 98.4375%\n",
            "GB | Epoch 6 | Loss: 0.049381665885448456 | Accuracy: 100.0%\n",
            "GB | Epoch 6 | Loss: 0.11742142587900162 | Accuracy: 95.3125%\n",
            "GB | Epoch 6 | Loss: 0.022796284407377243 | Accuracy: 100.0%\n",
            "GB | Epoch 6 | Loss: 0.05014738067984581 | Accuracy: 100.0%\n",
            "GB | Epoch 6 | Loss: 0.10455925762653351 | Accuracy: 96.875%\n",
            "GB | Epoch 6 | Loss: 0.05748573690652847 | Accuracy: 100.0%\n",
            "GB | Epoch 6 | Loss: 0.05780759081244469 | Accuracy: 98.4375%\n",
            "GB | Epoch 6 | Loss: 0.07709610462188721 | Accuracy: 98.4375%\n",
            "GB | Epoch 6 | Loss: 0.091469407081604 | Accuracy: 98.4375%\n",
            "GB | Epoch 6 | Loss: 0.033758725970983505 | Accuracy: 100.0%\n",
            "GB | Epoch 6 | Loss: 0.1309359222650528 | Accuracy: 95.3125%\n"
          ]
        },
        {
          "name": "stderr",
          "output_type": "stream",
          "text": [
            "Epoch 6:  84%|████████▍ | 629/751 [00:06<00:01, 112.39batch/s, accuracy=96.875%, loss=0.0854]"
          ]
        },
        {
          "name": "stdout",
          "output_type": "stream",
          "text": [
            "GB | Epoch 6 | Loss: 0.05328955501317978 | Accuracy: 100.0%\n",
            "GB | Epoch 6 | Loss: 0.02043047361075878 | Accuracy: 100.0%\n",
            "GB | Epoch 6 | Loss: 0.07256527990102768 | Accuracy: 98.4375%\n",
            "GB | Epoch 6 | Loss: 0.1130417212843895 | Accuracy: 98.4375%\n",
            "GB | Epoch 6 | Loss: 0.31830713152885437 | Accuracy: 96.875%\n",
            "GB | Epoch 6 | Loss: 0.08955764770507812 | Accuracy: 96.875%\n",
            "GB | Epoch 6 | Loss: 0.0531127043068409 | Accuracy: 100.0%\n",
            "GB | Epoch 6 | Loss: 0.13216395676136017 | Accuracy: 95.3125%\n",
            "GB | Epoch 6 | Loss: 0.05829501524567604 | Accuracy: 98.4375%\n",
            "GB | Epoch 6 | Loss: 0.10821168124675751 | Accuracy: 98.4375%\n",
            "GB | Epoch 6 | Loss: 0.1549459993839264 | Accuracy: 95.3125%\n",
            "GB | Epoch 6 | Loss: 0.0851178988814354 | Accuracy: 98.4375%\n",
            "GB | Epoch 6 | Loss: 0.10629238933324814 | Accuracy: 96.875%\n",
            "GB | Epoch 6 | Loss: 0.06029944866895676 | Accuracy: 100.0%\n",
            "GB | Epoch 6 | Loss: 0.08360674977302551 | Accuracy: 98.4375%\n",
            "GB | Epoch 6 | Loss: 0.11159848421812057 | Accuracy: 98.4375%\n",
            "GB | Epoch 6 | Loss: 0.05410103127360344 | Accuracy: 100.0%\n",
            "GB | Epoch 6 | Loss: 0.10412295162677765 | Accuracy: 96.875%\n",
            "GB | Epoch 6 | Loss: 0.12410139292478561 | Accuracy: 95.3125%\n",
            "GB | Epoch 6 | Loss: 0.1507430076599121 | Accuracy: 96.875%\n",
            "GB | Epoch 6 | Loss: 0.13577201962471008 | Accuracy: 96.875%\n",
            "GB | Epoch 6 | Loss: 0.12173432111740112 | Accuracy: 93.75%\n"
          ]
        },
        {
          "name": "stderr",
          "output_type": "stream",
          "text": [
            "Epoch 6:  87%|████████▋ | 653/751 [00:06<00:00, 108.95batch/s, accuracy=96.875%, loss=0.114] "
          ]
        },
        {
          "name": "stdout",
          "output_type": "stream",
          "text": [
            "GB | Epoch 6 | Loss: 0.08540802448987961 | Accuracy: 96.875%\n",
            "GB | Epoch 6 | Loss: 0.04985014349222183 | Accuracy: 100.0%\n",
            "GB | Epoch 6 | Loss: 0.09568154811859131 | Accuracy: 96.875%\n",
            "GB | Epoch 6 | Loss: 0.05544944107532501 | Accuracy: 98.4375%\n",
            "GB | Epoch 6 | Loss: 0.07613922655582428 | Accuracy: 98.4375%\n",
            "GB | Epoch 6 | Loss: 0.05272896587848663 | Accuracy: 98.4375%\n",
            "GB | Epoch 6 | Loss: 0.05903644487261772 | Accuracy: 98.4375%\n",
            "GB | Epoch 6 | Loss: 0.1057877242565155 | Accuracy: 96.875%\n",
            "GB | Epoch 6 | Loss: 0.06851968914270401 | Accuracy: 98.4375%\n",
            "GB | Epoch 6 | Loss: 0.0717497169971466 | Accuracy: 96.875%\n",
            "GB | Epoch 6 | Loss: 0.24141119420528412 | Accuracy: 95.3125%\n",
            "GB | Epoch 6 | Loss: 0.04415681213140488 | Accuracy: 98.4375%\n",
            "GB | Epoch 6 | Loss: 0.27443572878837585 | Accuracy: 93.75%\n",
            "GB | Epoch 6 | Loss: 0.08438248932361603 | Accuracy: 96.875%\n",
            "GB | Epoch 6 | Loss: 0.12701287865638733 | Accuracy: 96.875%\n",
            "GB | Epoch 6 | Loss: 0.06330270320177078 | Accuracy: 98.4375%\n",
            "GB | Epoch 6 | Loss: 0.12113623321056366 | Accuracy: 96.875%\n",
            "GB | Epoch 6 | Loss: 0.06521818041801453 | Accuracy: 100.0%\n",
            "GB | Epoch 6 | Loss: 0.03909383714199066 | Accuracy: 98.4375%\n",
            "GB | Epoch 6 | Loss: 0.19178229570388794 | Accuracy: 96.875%\n",
            "GB | Epoch 6 | Loss: 0.08237411081790924 | Accuracy: 96.875%\n",
            "GB | Epoch 6 | Loss: 0.1136522963643074 | Accuracy: 96.875%\n"
          ]
        },
        {
          "name": "stderr",
          "output_type": "stream",
          "text": [
            "Epoch 6:  90%|████████▉ | 675/751 [00:06<00:00, 108.25batch/s, accuracy=96.875%, loss=0.195] "
          ]
        },
        {
          "name": "stdout",
          "output_type": "stream",
          "text": [
            "GB | Epoch 6 | Loss: 0.08427470922470093 | Accuracy: 98.4375%\n",
            "GB | Epoch 6 | Loss: 0.05553055182099342 | Accuracy: 98.4375%\n",
            "GB | Epoch 6 | Loss: 0.05121369659900665 | Accuracy: 98.4375%\n",
            "GB | Epoch 6 | Loss: 0.05065958574414253 | Accuracy: 98.4375%\n",
            "GB | Epoch 6 | Loss: 0.0793653056025505 | Accuracy: 100.0%\n",
            "GB | Epoch 6 | Loss: 0.059464216232299805 | Accuracy: 98.4375%\n",
            "GB | Epoch 6 | Loss: 0.055287014693021774 | Accuracy: 100.0%\n",
            "GB | Epoch 6 | Loss: 0.11760491132736206 | Accuracy: 96.875%\n",
            "GB | Epoch 6 | Loss: 0.022349324077367783 | Accuracy: 100.0%\n",
            "GB | Epoch 6 | Loss: 0.05625656992197037 | Accuracy: 100.0%\n",
            "GB | Epoch 6 | Loss: 0.07989314198493958 | Accuracy: 98.4375%\n",
            "GB | Epoch 6 | Loss: 0.06380294263362885 | Accuracy: 98.4375%\n",
            "GB | Epoch 6 | Loss: 0.08984432369470596 | Accuracy: 96.875%\n",
            "GB | Epoch 6 | Loss: 0.0673726350069046 | Accuracy: 98.4375%\n",
            "GB | Epoch 6 | Loss: 0.08269183337688446 | Accuracy: 96.875%\n",
            "GB | Epoch 6 | Loss: 0.021006399765610695 | Accuracy: 100.0%\n",
            "GB | Epoch 6 | Loss: 0.039274971932172775 | Accuracy: 98.4375%\n",
            "GB | Epoch 6 | Loss: 0.03182510286569595 | Accuracy: 100.0%\n",
            "GB | Epoch 6 | Loss: 0.06521165370941162 | Accuracy: 98.4375%\n",
            "GB | Epoch 6 | Loss: 0.11863572150468826 | Accuracy: 95.3125%\n",
            "GB | Epoch 6 | Loss: 0.07072283327579498 | Accuracy: 96.875%\n",
            "GB | Epoch 6 | Loss: 0.1954451948404312 | Accuracy: 96.875%\n"
          ]
        },
        {
          "name": "stderr",
          "output_type": "stream",
          "text": [
            "Epoch 6:  93%|█████████▎| 698/751 [00:06<00:00, 107.51batch/s, accuracy=100.0%, loss=0.0326]"
          ]
        },
        {
          "name": "stdout",
          "output_type": "stream",
          "text": [
            "GB | Epoch 6 | Loss: 0.04392180219292641 | Accuracy: 100.0%\n",
            "GB | Epoch 6 | Loss: 0.03548647090792656 | Accuracy: 100.0%\n",
            "GB | Epoch 6 | Loss: 0.046816304326057434 | Accuracy: 100.0%\n",
            "GB | Epoch 6 | Loss: 0.16619613766670227 | Accuracy: 96.875%\n",
            "GB | Epoch 6 | Loss: 0.08402793854475021 | Accuracy: 98.4375%\n",
            "GB | Epoch 6 | Loss: 0.0671784058213234 | Accuracy: 100.0%\n",
            "GB | Epoch 6 | Loss: 0.050468310713768005 | Accuracy: 100.0%\n",
            "GB | Epoch 6 | Loss: 0.10505630820989609 | Accuracy: 96.875%\n",
            "GB | Epoch 6 | Loss: 0.048868577927351 | Accuracy: 100.0%\n",
            "GB | Epoch 6 | Loss: 0.042537130415439606 | Accuracy: 98.4375%\n",
            "GB | Epoch 6 | Loss: 0.08879876881837845 | Accuracy: 96.875%\n",
            "GB | Epoch 6 | Loss: 0.14191091060638428 | Accuracy: 93.75%\n",
            "GB | Epoch 6 | Loss: 0.09092344343662262 | Accuracy: 96.875%\n",
            "GB | Epoch 6 | Loss: 0.05982190743088722 | Accuracy: 98.4375%\n",
            "GB | Epoch 6 | Loss: 0.0768159031867981 | Accuracy: 96.875%\n",
            "GB | Epoch 6 | Loss: 0.049871038645505905 | Accuracy: 98.4375%\n",
            "GB | Epoch 6 | Loss: 0.06440306454896927 | Accuracy: 98.4375%\n",
            "GB | Epoch 6 | Loss: 0.07381505519151688 | Accuracy: 96.875%\n",
            "GB | Epoch 6 | Loss: 0.049671124666929245 | Accuracy: 100.0%\n",
            "GB | Epoch 6 | Loss: 0.045136645436286926 | Accuracy: 100.0%\n",
            "GB | Epoch 6 | Loss: 0.12924474477767944 | Accuracy: 96.875%\n",
            "GB | Epoch 6 | Loss: 0.032612692564725876 | Accuracy: 100.0%\n"
          ]
        },
        {
          "name": "stderr",
          "output_type": "stream",
          "text": [
            "Epoch 6:  96%|█████████▌| 721/751 [00:07<00:00, 108.03batch/s, accuracy=100.0%, loss=0.0658]"
          ]
        },
        {
          "name": "stdout",
          "output_type": "stream",
          "text": [
            "GB | Epoch 6 | Loss: 0.08181492239236832 | Accuracy: 98.4375%\n",
            "GB | Epoch 6 | Loss: 0.07027167826890945 | Accuracy: 96.875%\n",
            "GB | Epoch 6 | Loss: 0.08307670801877975 | Accuracy: 96.875%\n",
            "GB | Epoch 6 | Loss: 0.06628987193107605 | Accuracy: 98.4375%\n",
            "GB | Epoch 6 | Loss: 0.06806518882513046 | Accuracy: 100.0%\n",
            "GB | Epoch 6 | Loss: 0.09310119599103928 | Accuracy: 96.875%\n",
            "GB | Epoch 6 | Loss: 0.11327244341373444 | Accuracy: 98.4375%\n",
            "GB | Epoch 6 | Loss: 0.020606204867362976 | Accuracy: 100.0%\n",
            "GB | Epoch 6 | Loss: 0.1573580801486969 | Accuracy: 96.875%\n",
            "GB | Epoch 6 | Loss: 0.1840638369321823 | Accuracy: 93.75%\n",
            "GB | Epoch 6 | Loss: 0.05597890168428421 | Accuracy: 98.4375%\n",
            "GB | Epoch 6 | Loss: 0.09827317297458649 | Accuracy: 96.875%\n",
            "GB | Epoch 6 | Loss: 0.13012850284576416 | Accuracy: 96.875%\n",
            "GB | Epoch 6 | Loss: 0.049806684255599976 | Accuracy: 100.0%\n",
            "GB | Epoch 6 | Loss: 0.13254642486572266 | Accuracy: 93.75%\n",
            "GB | Epoch 6 | Loss: 0.09409913420677185 | Accuracy: 96.875%\n",
            "GB | Epoch 6 | Loss: 0.09159892052412033 | Accuracy: 98.4375%\n",
            "GB | Epoch 6 | Loss: 0.09579465538263321 | Accuracy: 96.875%\n",
            "GB | Epoch 6 | Loss: 0.0660305842757225 | Accuracy: 98.4375%\n",
            "GB | Epoch 6 | Loss: 0.10027028620243073 | Accuracy: 96.875%\n",
            "GB | Epoch 6 | Loss: 0.08590676635503769 | Accuracy: 98.4375%\n",
            "GB | Epoch 6 | Loss: 0.06582038849592209 | Accuracy: 100.0%\n"
          ]
        },
        {
          "name": "stderr",
          "output_type": "stream",
          "text": [
            "Epoch 6:  99%|█████████▉| 743/751 [00:07<00:00, 106.47batch/s, accuracy=90.625%, loss=0.125]"
          ]
        },
        {
          "name": "stdout",
          "output_type": "stream",
          "text": [
            "GB | Epoch 6 | Loss: 0.07373209297657013 | Accuracy: 98.4375%\n",
            "GB | Epoch 6 | Loss: 0.06846614927053452 | Accuracy: 100.0%\n",
            "GB | Epoch 6 | Loss: 0.037614308297634125 | Accuracy: 100.0%\n",
            "GB | Epoch 6 | Loss: 0.0892590880393982 | Accuracy: 96.875%\n",
            "GB | Epoch 6 | Loss: 0.04928256943821907 | Accuracy: 100.0%\n",
            "GB | Epoch 6 | Loss: 0.06906765699386597 | Accuracy: 96.875%\n",
            "GB | Epoch 6 | Loss: 0.04250570386648178 | Accuracy: 100.0%\n",
            "GB | Epoch 6 | Loss: 0.07507230341434479 | Accuracy: 96.875%\n",
            "GB | Epoch 6 | Loss: 0.04762952774763107 | Accuracy: 98.4375%\n",
            "GB | Epoch 6 | Loss: 0.06159178540110588 | Accuracy: 100.0%\n",
            "GB | Epoch 6 | Loss: 0.411514550447464 | Accuracy: 95.3125%\n",
            "GB | Epoch 6 | Loss: 0.04454117268323898 | Accuracy: 98.4375%\n",
            "GB | Epoch 6 | Loss: 0.08599422872066498 | Accuracy: 98.4375%\n",
            "GB | Epoch 6 | Loss: 0.05793313682079315 | Accuracy: 100.0%\n",
            "GB | Epoch 6 | Loss: 0.15006785094738007 | Accuracy: 98.4375%\n",
            "GB | Epoch 6 | Loss: 0.12752580642700195 | Accuracy: 93.75%\n",
            "GB | Epoch 6 | Loss: 0.08604621142148972 | Accuracy: 98.4375%\n",
            "GB | Epoch 6 | Loss: 0.10313666611909866 | Accuracy: 95.3125%\n",
            "GB | Epoch 6 | Loss: 0.09131402522325516 | Accuracy: 96.875%\n",
            "GB | Epoch 6 | Loss: 0.06221511960029602 | Accuracy: 96.875%\n",
            "GB | Epoch 6 | Loss: 0.04648067429661751 | Accuracy: 100.0%\n",
            "GB | Epoch 6 | Loss: 0.12493329495191574 | Accuracy: 90.625%\n"
          ]
        },
        {
          "name": "stderr",
          "output_type": "stream",
          "text": [
            "Epoch 6:  99%|█████████▉| 743/751 [00:07<00:00, 106.47batch/s, accuracy=100.0%, loss=0.00722] "
          ]
        },
        {
          "name": "stdout",
          "output_type": "stream",
          "text": [
            "GB | Epoch 6 | Loss: 0.19068485498428345 | Accuracy: 98.4375%\n",
            "GB | Epoch 6 | Loss: 0.07944858819246292 | Accuracy: 98.4375%\n",
            "GB | Epoch 6 | Loss: 0.12356021255254745 | Accuracy: 98.4375%\n",
            "GB | Epoch 6 | Loss: 0.07866036146879196 | Accuracy: 98.4375%\n",
            "GB | Epoch 6 | Loss: 0.0650404840707779 | Accuracy: 98.4375%\n",
            "GB | Epoch 6 | Loss: 0.04643729701638222 | Accuracy: 100.0%\n",
            "GB | Epoch 6 | Loss: 0.07894676178693771 | Accuracy: 98.4375%\n",
            "GB | Epoch 6 | Loss: 0.007222914602607489 | Accuracy: 100.0%\n"
          ]
        },
        {
          "name": "stderr",
          "output_type": "stream",
          "text": [
            "Epoch 6: 100%|██████████| 751/751 [00:07<00:00, 99.46batch/s, accuracy=100.0%, loss=0.00722] \n",
            "Epoch 7:   1%|▏         | 10/751 [00:00<00:28, 25.86batch/s, accuracy=100.0%, loss=0.0324]  "
          ]
        },
        {
          "name": "stdout",
          "output_type": "stream",
          "text": [
            "GB | Epoch 7 | Loss: 0.09757029265165329 | Accuracy: 95.3125%\n",
            "GB | Epoch 7 | Loss: 0.0653490424156189 | Accuracy: 100.0%\n",
            "GB | Epoch 7 | Loss: 0.13051003217697144 | Accuracy: 96.875%\n",
            "GB | Epoch 7 | Loss: 0.07933185994625092 | Accuracy: 98.4375%\n",
            "GB | Epoch 7 | Loss: 0.06927647441625595 | Accuracy: 98.4375%\n",
            "GB | Epoch 7 | Loss: 0.06612623482942581 | Accuracy: 100.0%\n",
            "GB | Epoch 7 | Loss: 0.22475804388523102 | Accuracy: 96.875%\n",
            "GB | Epoch 7 | Loss: 0.07358517497777939 | Accuracy: 100.0%\n",
            "GB | Epoch 7 | Loss: 0.11031179875135422 | Accuracy: 95.3125%\n",
            "GB | Epoch 7 | Loss: 0.056734684854745865 | Accuracy: 98.4375%\n",
            "GB | Epoch 7 | Loss: 0.0972290188074112 | Accuracy: 96.875%\n",
            "GB | Epoch 7 | Loss: 0.09259950369596481 | Accuracy: 96.875%\n",
            "GB | Epoch 7 | Loss: 0.14310668408870697 | Accuracy: 96.875%\n",
            "GB | Epoch 7 | Loss: 0.08294838666915894 | Accuracy: 95.3125%\n",
            "GB | Epoch 7 | Loss: 0.029029203578829765 | Accuracy: 100.0%\n",
            "GB | Epoch 7 | Loss: 0.06183610484004021 | Accuracy: 98.4375%\n",
            "GB | Epoch 7 | Loss: 0.16500620543956757 | Accuracy: 95.3125%\n",
            "GB | Epoch 7 | Loss: 0.07610403001308441 | Accuracy: 98.4375%\n",
            "GB | Epoch 7 | Loss: 0.032422084361314774 | Accuracy: 100.0%\n"
          ]
        },
        {
          "name": "stderr",
          "output_type": "stream",
          "text": [
            "Epoch 7:   4%|▍         | 31/751 [00:00<00:11, 61.28batch/s, accuracy=98.4375%, loss=0.0759]"
          ]
        },
        {
          "name": "stdout",
          "output_type": "stream",
          "text": [
            "GB | Epoch 7 | Loss: 0.06562504172325134 | Accuracy: 98.4375%\n",
            "GB | Epoch 7 | Loss: 0.06762412190437317 | Accuracy: 100.0%\n",
            "GB | Epoch 7 | Loss: 0.08042717725038528 | Accuracy: 96.875%\n",
            "GB | Epoch 7 | Loss: 0.03756603226065636 | Accuracy: 100.0%\n",
            "GB | Epoch 7 | Loss: 0.10625298321247101 | Accuracy: 96.875%\n",
            "GB | Epoch 7 | Loss: 0.03298764303326607 | Accuracy: 100.0%\n",
            "GB | Epoch 7 | Loss: 0.04340555518865585 | Accuracy: 98.4375%\n",
            "GB | Epoch 7 | Loss: 0.047404780983924866 | Accuracy: 100.0%\n",
            "GB | Epoch 7 | Loss: 0.06584589928388596 | Accuracy: 96.875%\n",
            "GB | Epoch 7 | Loss: 0.09953354299068451 | Accuracy: 96.875%\n",
            "GB | Epoch 7 | Loss: 0.02247537672519684 | Accuracy: 100.0%\n",
            "GB | Epoch 7 | Loss: 0.0490163192152977 | Accuracy: 100.0%\n",
            "GB | Epoch 7 | Loss: 0.06932902336120605 | Accuracy: 98.4375%\n",
            "GB | Epoch 7 | Loss: 0.3755717873573303 | Accuracy: 95.3125%\n",
            "GB | Epoch 7 | Loss: 0.0562819242477417 | Accuracy: 100.0%\n",
            "GB | Epoch 7 | Loss: 0.028378576040267944 | Accuracy: 100.0%\n",
            "GB | Epoch 7 | Loss: 0.06395460665225983 | Accuracy: 96.875%\n",
            "GB | Epoch 7 | Loss: 0.24476562440395355 | Accuracy: 96.875%\n",
            "GB | Epoch 7 | Loss: 0.07608567178249359 | Accuracy: 100.0%\n",
            "GB | Epoch 7 | Loss: 0.07591024041175842 | Accuracy: 98.4375%\n"
          ]
        },
        {
          "name": "stderr",
          "output_type": "stream",
          "text": [
            "Epoch 7:   7%|▋         | 53/751 [00:00<00:08, 82.68batch/s, accuracy=98.4375%, loss=0.0646]"
          ]
        },
        {
          "name": "stdout",
          "output_type": "stream",
          "text": [
            "GB | Epoch 7 | Loss: 0.10206449031829834 | Accuracy: 96.875%\n",
            "GB | Epoch 7 | Loss: 0.044771648943424225 | Accuracy: 100.0%\n",
            "GB | Epoch 7 | Loss: 0.08948409557342529 | Accuracy: 98.4375%\n",
            "GB | Epoch 7 | Loss: 0.058998528867959976 | Accuracy: 100.0%\n",
            "GB | Epoch 7 | Loss: 0.08592075109481812 | Accuracy: 96.875%\n",
            "GB | Epoch 7 | Loss: 0.10885851085186005 | Accuracy: 98.4375%\n",
            "GB | Epoch 7 | Loss: 0.14755959808826447 | Accuracy: 95.3125%\n",
            "GB | Epoch 7 | Loss: 0.0601855143904686 | Accuracy: 98.4375%\n",
            "GB | Epoch 7 | Loss: 0.06601721793413162 | Accuracy: 100.0%\n",
            "GB | Epoch 7 | Loss: 0.23046299815177917 | Accuracy: 93.75%\n",
            "GB | Epoch 7 | Loss: 0.16420865058898926 | Accuracy: 98.4375%\n",
            "GB | Epoch 7 | Loss: 0.14690198004245758 | Accuracy: 95.3125%\n",
            "GB | Epoch 7 | Loss: 0.13014259934425354 | Accuracy: 95.3125%\n",
            "GB | Epoch 7 | Loss: 0.08325861394405365 | Accuracy: 96.875%\n",
            "GB | Epoch 7 | Loss: 0.29507753252983093 | Accuracy: 90.625%\n",
            "GB | Epoch 7 | Loss: 0.035701245069503784 | Accuracy: 100.0%\n",
            "GB | Epoch 7 | Loss: 0.05821007490158081 | Accuracy: 100.0%\n",
            "GB | Epoch 7 | Loss: 0.14567658305168152 | Accuracy: 95.3125%\n",
            "GB | Epoch 7 | Loss: 0.06569217145442963 | Accuracy: 100.0%\n",
            "GB | Epoch 7 | Loss: 0.09575240314006805 | Accuracy: 96.875%\n",
            "GB | Epoch 7 | Loss: 0.06461255997419357 | Accuracy: 98.4375%\n"
          ]
        },
        {
          "name": "stderr",
          "output_type": "stream",
          "text": [
            "Epoch 7:  10%|█         | 76/751 [00:01<00:06, 96.84batch/s, accuracy=96.875%, loss=0.0627] "
          ]
        },
        {
          "name": "stdout",
          "output_type": "stream",
          "text": [
            "GB | Epoch 7 | Loss: 0.07386262714862823 | Accuracy: 98.4375%\n",
            "GB | Epoch 7 | Loss: 0.03938387334346771 | Accuracy: 100.0%\n",
            "GB | Epoch 7 | Loss: 0.04845958948135376 | Accuracy: 98.4375%\n",
            "GB | Epoch 7 | Loss: 0.17520001530647278 | Accuracy: 93.75%\n",
            "GB | Epoch 7 | Loss: 0.07268446683883667 | Accuracy: 98.4375%\n",
            "GB | Epoch 7 | Loss: 0.03206965699791908 | Accuracy: 100.0%\n",
            "GB | Epoch 7 | Loss: 0.05953482538461685 | Accuracy: 98.4375%\n",
            "GB | Epoch 7 | Loss: 0.03689076751470566 | Accuracy: 100.0%\n",
            "GB | Epoch 7 | Loss: 0.03005143627524376 | Accuracy: 100.0%\n",
            "GB | Epoch 7 | Loss: 0.040804821997880936 | Accuracy: 100.0%\n",
            "GB | Epoch 7 | Loss: 0.10660173743963242 | Accuracy: 95.3125%\n",
            "GB | Epoch 7 | Loss: 0.1293811947107315 | Accuracy: 98.4375%\n",
            "GB | Epoch 7 | Loss: 0.0422254353761673 | Accuracy: 100.0%\n",
            "GB | Epoch 7 | Loss: 0.04822567105293274 | Accuracy: 100.0%\n",
            "GB | Epoch 7 | Loss: 0.07198193669319153 | Accuracy: 98.4375%\n",
            "GB | Epoch 7 | Loss: 0.09117401391267776 | Accuracy: 96.875%\n",
            "GB | Epoch 7 | Loss: 0.042705077677965164 | Accuracy: 98.4375%\n",
            "GB | Epoch 7 | Loss: 0.046757180243730545 | Accuracy: 98.4375%\n",
            "GB | Epoch 7 | Loss: 0.029417257755994797 | Accuracy: 100.0%\n",
            "GB | Epoch 7 | Loss: 0.08262179791927338 | Accuracy: 96.875%\n",
            "GB | Epoch 7 | Loss: 0.0685960054397583 | Accuracy: 98.4375%\n",
            "GB | Epoch 7 | Loss: 0.06530056148767471 | Accuracy: 98.4375%\n",
            "GB | Epoch 7 | Loss: 0.06270177662372589 | Accuracy: 96.875%\n"
          ]
        },
        {
          "name": "stderr",
          "output_type": "stream",
          "text": [
            "Epoch 7:  13%|█▎        | 99/751 [00:01<00:06, 103.73batch/s, accuracy=96.875%, loss=0.115]"
          ]
        },
        {
          "name": "stdout",
          "output_type": "stream",
          "text": [
            "GB | Epoch 7 | Loss: 0.0726008489727974 | Accuracy: 98.4375%\n",
            "GB | Epoch 7 | Loss: 0.06198980659246445 | Accuracy: 96.875%\n",
            "GB | Epoch 7 | Loss: 0.039041902869939804 | Accuracy: 100.0%\n",
            "GB | Epoch 7 | Loss: 0.04055727645754814 | Accuracy: 100.0%\n",
            "GB | Epoch 7 | Loss: 0.10979101061820984 | Accuracy: 98.4375%\n",
            "GB | Epoch 7 | Loss: 0.05451391637325287 | Accuracy: 100.0%\n",
            "GB | Epoch 7 | Loss: 0.10870757699012756 | Accuracy: 98.4375%\n",
            "GB | Epoch 7 | Loss: 0.07409338653087616 | Accuracy: 98.4375%\n",
            "GB | Epoch 7 | Loss: 0.0702902153134346 | Accuracy: 98.4375%\n",
            "GB | Epoch 7 | Loss: 0.05342521890997887 | Accuracy: 100.0%\n",
            "GB | Epoch 7 | Loss: 0.05358659848570824 | Accuracy: 100.0%\n",
            "GB | Epoch 7 | Loss: 0.0439942330121994 | Accuracy: 100.0%\n",
            "GB | Epoch 7 | Loss: 0.12450086325407028 | Accuracy: 96.875%\n",
            "GB | Epoch 7 | Loss: 0.029368067160248756 | Accuracy: 100.0%\n",
            "GB | Epoch 7 | Loss: 0.16064026951789856 | Accuracy: 96.875%\n",
            "GB | Epoch 7 | Loss: 0.09422186762094498 | Accuracy: 96.875%\n",
            "GB | Epoch 7 | Loss: 0.12879210710525513 | Accuracy: 96.875%\n",
            "GB | Epoch 7 | Loss: 0.05455835163593292 | Accuracy: 100.0%\n",
            "GB | Epoch 7 | Loss: 0.14610926806926727 | Accuracy: 96.875%\n",
            "GB | Epoch 7 | Loss: 0.36338862776756287 | Accuracy: 98.4375%\n",
            "GB | Epoch 7 | Loss: 0.07399258017539978 | Accuracy: 98.4375%\n",
            "GB | Epoch 7 | Loss: 0.03615593537688255 | Accuracy: 100.0%\n",
            "GB | Epoch 7 | Loss: 0.11511281877756119 | Accuracy: 96.875%\n"
          ]
        },
        {
          "name": "stderr",
          "output_type": "stream",
          "text": [
            "Epoch 7:  16%|█▋        | 123/751 [00:01<00:05, 107.04batch/s, accuracy=98.4375%, loss=0.072]"
          ]
        },
        {
          "name": "stdout",
          "output_type": "stream",
          "text": [
            "GB | Epoch 7 | Loss: 0.06750320643186569 | Accuracy: 98.4375%\n",
            "GB | Epoch 7 | Loss: 0.08842132240533829 | Accuracy: 96.875%\n",
            "GB | Epoch 7 | Loss: 0.035083379596471786 | Accuracy: 100.0%\n",
            "GB | Epoch 7 | Loss: 0.11719616502523422 | Accuracy: 93.75%\n",
            "GB | Epoch 7 | Loss: 0.182578906416893 | Accuracy: 95.3125%\n",
            "GB | Epoch 7 | Loss: 0.0402049720287323 | Accuracy: 100.0%\n",
            "GB | Epoch 7 | Loss: 0.025228099897503853 | Accuracy: 100.0%\n",
            "GB | Epoch 7 | Loss: 0.07185578346252441 | Accuracy: 100.0%\n",
            "GB | Epoch 7 | Loss: 0.19120945036411285 | Accuracy: 95.3125%\n",
            "GB | Epoch 7 | Loss: 0.09984342008829117 | Accuracy: 96.875%\n",
            "GB | Epoch 7 | Loss: 0.06558632105588913 | Accuracy: 98.4375%\n",
            "GB | Epoch 7 | Loss: 0.06793607771396637 | Accuracy: 96.875%\n",
            "GB | Epoch 7 | Loss: 0.03717818111181259 | Accuracy: 98.4375%\n",
            "GB | Epoch 7 | Loss: 0.12277527153491974 | Accuracy: 96.875%\n",
            "GB | Epoch 7 | Loss: 0.0626118928194046 | Accuracy: 98.4375%\n",
            "GB | Epoch 7 | Loss: 0.12074240297079086 | Accuracy: 96.875%\n",
            "GB | Epoch 7 | Loss: 0.16188041865825653 | Accuracy: 95.3125%\n",
            "GB | Epoch 7 | Loss: 0.10027848184108734 | Accuracy: 96.875%\n",
            "GB | Epoch 7 | Loss: 0.112418033182621 | Accuracy: 96.875%\n",
            "GB | Epoch 7 | Loss: 0.28688013553619385 | Accuracy: 89.0625%\n",
            "GB | Epoch 7 | Loss: 0.03984636440873146 | Accuracy: 100.0%\n",
            "GB | Epoch 7 | Loss: 0.15885195136070251 | Accuracy: 90.625%\n",
            "GB | Epoch 7 | Loss: 0.07200254499912262 | Accuracy: 98.4375%\n"
          ]
        },
        {
          "name": "stderr",
          "output_type": "stream",
          "text": [
            "Epoch 7:  19%|█▉        | 146/751 [00:01<00:05, 108.76batch/s, accuracy=100.0%, loss=0.051] "
          ]
        },
        {
          "name": "stdout",
          "output_type": "stream",
          "text": [
            "GB | Epoch 7 | Loss: 0.1799219399690628 | Accuracy: 96.875%\n",
            "GB | Epoch 7 | Loss: 0.1156948134303093 | Accuracy: 96.875%\n",
            "GB | Epoch 7 | Loss: 0.11219137161970139 | Accuracy: 95.3125%\n",
            "GB | Epoch 7 | Loss: 0.07431164383888245 | Accuracy: 98.4375%\n",
            "GB | Epoch 7 | Loss: 0.15840771794319153 | Accuracy: 95.3125%\n",
            "GB | Epoch 7 | Loss: 0.06636382639408112 | Accuracy: 98.4375%\n",
            "GB | Epoch 7 | Loss: 0.08609633892774582 | Accuracy: 96.875%\n",
            "GB | Epoch 7 | Loss: 0.05791991576552391 | Accuracy: 100.0%\n",
            "GB | Epoch 7 | Loss: 0.047814466059207916 | Accuracy: 98.4375%\n",
            "GB | Epoch 7 | Loss: 0.19958867132663727 | Accuracy: 95.3125%\n",
            "GB | Epoch 7 | Loss: 0.04507208988070488 | Accuracy: 98.4375%\n",
            "GB | Epoch 7 | Loss: 0.06587100774049759 | Accuracy: 98.4375%\n",
            "GB | Epoch 7 | Loss: 0.10053364932537079 | Accuracy: 98.4375%\n",
            "GB | Epoch 7 | Loss: 0.10268229991197586 | Accuracy: 96.875%\n",
            "GB | Epoch 7 | Loss: 0.08608916401863098 | Accuracy: 96.875%\n",
            "GB | Epoch 7 | Loss: 0.06774106621742249 | Accuracy: 100.0%\n",
            "GB | Epoch 7 | Loss: 0.07223506271839142 | Accuracy: 98.4375%\n",
            "GB | Epoch 7 | Loss: 0.21916840970516205 | Accuracy: 98.4375%\n",
            "GB | Epoch 7 | Loss: 0.09395774453878403 | Accuracy: 96.875%\n",
            "GB | Epoch 7 | Loss: 0.13357678055763245 | Accuracy: 98.4375%\n",
            "GB | Epoch 7 | Loss: 0.05604277178645134 | Accuracy: 100.0%\n",
            "GB | Epoch 7 | Loss: 0.12120485305786133 | Accuracy: 96.875%\n",
            "GB | Epoch 7 | Loss: 0.05099526792764664 | Accuracy: 100.0%\n"
          ]
        },
        {
          "name": "stderr",
          "output_type": "stream",
          "text": [
            "Epoch 7:  23%|██▎       | 170/751 [00:02<00:05, 111.31batch/s, accuracy=98.4375%, loss=0.06] "
          ]
        },
        {
          "name": "stdout",
          "output_type": "stream",
          "text": [
            "GB | Epoch 7 | Loss: 0.10345476865768433 | Accuracy: 98.4375%\n",
            "GB | Epoch 7 | Loss: 0.049003228545188904 | Accuracy: 98.4375%\n",
            "GB | Epoch 7 | Loss: 0.09547427296638489 | Accuracy: 96.875%\n",
            "GB | Epoch 7 | Loss: 0.04479803517460823 | Accuracy: 100.0%\n",
            "GB | Epoch 7 | Loss: 0.054134026169776917 | Accuracy: 100.0%\n",
            "GB | Epoch 7 | Loss: 0.04936736449599266 | Accuracy: 100.0%\n",
            "GB | Epoch 7 | Loss: 0.2113146036863327 | Accuracy: 93.75%\n",
            "GB | Epoch 7 | Loss: 0.029641421511769295 | Accuracy: 100.0%\n",
            "GB | Epoch 7 | Loss: 0.07176448404788971 | Accuracy: 98.4375%\n",
            "GB | Epoch 7 | Loss: 0.18383918702602386 | Accuracy: 93.75%\n",
            "GB | Epoch 7 | Loss: 0.03324815630912781 | Accuracy: 100.0%\n",
            "GB | Epoch 7 | Loss: 0.11135981976985931 | Accuracy: 96.875%\n",
            "GB | Epoch 7 | Loss: 0.0835476666688919 | Accuracy: 98.4375%\n",
            "GB | Epoch 7 | Loss: 0.04711276292800903 | Accuracy: 100.0%\n",
            "GB | Epoch 7 | Loss: 0.06748988479375839 | Accuracy: 98.4375%\n",
            "GB | Epoch 7 | Loss: 0.20774631202220917 | Accuracy: 95.3125%\n",
            "GB | Epoch 7 | Loss: 0.030484680086374283 | Accuracy: 100.0%\n",
            "GB | Epoch 7 | Loss: 0.03052539937198162 | Accuracy: 100.0%\n",
            "GB | Epoch 7 | Loss: 0.07658489048480988 | Accuracy: 98.4375%\n",
            "GB | Epoch 7 | Loss: 0.031485434621572495 | Accuracy: 100.0%\n",
            "GB | Epoch 7 | Loss: 0.046650439500808716 | Accuracy: 98.4375%\n",
            "GB | Epoch 7 | Loss: 0.11344923824071884 | Accuracy: 96.875%\n",
            "GB | Epoch 7 | Loss: 0.14686177670955658 | Accuracy: 95.3125%\n"
          ]
        },
        {
          "name": "stderr",
          "output_type": "stream",
          "text": [
            "Epoch 7:  26%|██▌       | 194/751 [00:02<00:04, 111.90batch/s, accuracy=100.0%, loss=0.0293]  "
          ]
        },
        {
          "name": "stdout",
          "output_type": "stream",
          "text": [
            "GB | Epoch 7 | Loss: 0.06000766158103943 | Accuracy: 98.4375%\n",
            "GB | Epoch 7 | Loss: 0.07128281146287918 | Accuracy: 98.4375%\n",
            "GB | Epoch 7 | Loss: 0.055339645594358444 | Accuracy: 100.0%\n",
            "GB | Epoch 7 | Loss: 0.023855533450841904 | Accuracy: 100.0%\n",
            "GB | Epoch 7 | Loss: 0.23658111691474915 | Accuracy: 96.875%\n",
            "GB | Epoch 7 | Loss: 0.07984483242034912 | Accuracy: 98.4375%\n",
            "GB | Epoch 7 | Loss: 0.06697994470596313 | Accuracy: 98.4375%\n",
            "GB | Epoch 7 | Loss: 0.10857617855072021 | Accuracy: 96.875%\n",
            "GB | Epoch 7 | Loss: 0.12471213191747665 | Accuracy: 98.4375%\n",
            "GB | Epoch 7 | Loss: 0.061126161366701126 | Accuracy: 98.4375%\n",
            "GB | Epoch 7 | Loss: 0.22274352610111237 | Accuracy: 96.875%\n",
            "GB | Epoch 7 | Loss: 0.08380653709173203 | Accuracy: 98.4375%\n",
            "GB | Epoch 7 | Loss: 0.0535971075296402 | Accuracy: 100.0%\n",
            "GB | Epoch 7 | Loss: 0.02374771051108837 | Accuracy: 100.0%\n",
            "GB | Epoch 7 | Loss: 0.062047094106674194 | Accuracy: 98.4375%\n",
            "GB | Epoch 7 | Loss: 0.0543631836771965 | Accuracy: 98.4375%\n",
            "GB | Epoch 7 | Loss: 0.04000050574541092 | Accuracy: 100.0%\n",
            "GB | Epoch 7 | Loss: 0.03004530444741249 | Accuracy: 100.0%\n",
            "GB | Epoch 7 | Loss: 0.05849013477563858 | Accuracy: 98.4375%\n",
            "GB | Epoch 7 | Loss: 0.08185678720474243 | Accuracy: 98.4375%\n",
            "GB | Epoch 7 | Loss: 0.14024212956428528 | Accuracy: 98.4375%\n",
            "GB | Epoch 7 | Loss: 0.06376370042562485 | Accuracy: 98.4375%\n",
            "GB | Epoch 7 | Loss: 0.029347436502575874 | Accuracy: 100.0%\n"
          ]
        },
        {
          "name": "stderr",
          "output_type": "stream",
          "text": [
            "Epoch 7:  29%|██▉       | 218/751 [00:02<00:04, 113.30batch/s, accuracy=100.0%, loss=0.0317]"
          ]
        },
        {
          "name": "stdout",
          "output_type": "stream",
          "text": [
            "GB | Epoch 7 | Loss: 0.0887027308344841 | Accuracy: 98.4375%\n",
            "GB | Epoch 7 | Loss: 0.049323663115501404 | Accuracy: 100.0%\n",
            "GB | Epoch 7 | Loss: 0.08858019858598709 | Accuracy: 96.875%\n",
            "GB | Epoch 7 | Loss: 0.06346272677183151 | Accuracy: 98.4375%\n",
            "GB | Epoch 7 | Loss: 0.0816928967833519 | Accuracy: 98.4375%\n",
            "GB | Epoch 7 | Loss: 0.09545991569757462 | Accuracy: 96.875%\n",
            "GB | Epoch 7 | Loss: 0.10486927628517151 | Accuracy: 96.875%\n",
            "GB | Epoch 7 | Loss: 0.09992864727973938 | Accuracy: 98.4375%\n",
            "GB | Epoch 7 | Loss: 0.027410967275500298 | Accuracy: 100.0%\n",
            "GB | Epoch 7 | Loss: 0.03652177006006241 | Accuracy: 100.0%\n",
            "GB | Epoch 7 | Loss: 0.053745534271001816 | Accuracy: 100.0%\n",
            "GB | Epoch 7 | Loss: 0.05664495378732681 | Accuracy: 100.0%\n",
            "GB | Epoch 7 | Loss: 0.052305545657873154 | Accuracy: 100.0%\n",
            "GB | Epoch 7 | Loss: 0.035206351429224014 | Accuracy: 100.0%\n",
            "GB | Epoch 7 | Loss: 0.05780238285660744 | Accuracy: 100.0%\n",
            "GB | Epoch 7 | Loss: 0.053451135754585266 | Accuracy: 98.4375%\n",
            "GB | Epoch 7 | Loss: 0.04253651946783066 | Accuracy: 100.0%\n",
            "GB | Epoch 7 | Loss: 0.044220294803380966 | Accuracy: 100.0%\n",
            "GB | Epoch 7 | Loss: 0.032260481268167496 | Accuracy: 100.0%\n",
            "GB | Epoch 7 | Loss: 0.05150244012475014 | Accuracy: 100.0%\n",
            "GB | Epoch 7 | Loss: 0.11429282277822495 | Accuracy: 96.875%\n",
            "GB | Epoch 7 | Loss: 0.03393436223268509 | Accuracy: 100.0%\n",
            "GB | Epoch 7 | Loss: 0.03165120258927345 | Accuracy: 100.0%\n"
          ]
        },
        {
          "name": "stderr",
          "output_type": "stream",
          "text": [
            "Epoch 7:  32%|███▏      | 242/751 [00:02<00:04, 112.75batch/s, accuracy=100.0%, loss=0.0673] "
          ]
        },
        {
          "name": "stdout",
          "output_type": "stream",
          "text": [
            "GB | Epoch 7 | Loss: 0.026156645268201828 | Accuracy: 100.0%\n",
            "GB | Epoch 7 | Loss: 0.05316905677318573 | Accuracy: 98.4375%\n",
            "GB | Epoch 7 | Loss: 0.06849260628223419 | Accuracy: 96.875%\n",
            "GB | Epoch 7 | Loss: 0.03180937469005585 | Accuracy: 100.0%\n",
            "GB | Epoch 7 | Loss: 0.040860388427972794 | Accuracy: 100.0%\n",
            "GB | Epoch 7 | Loss: 0.043629661202430725 | Accuracy: 100.0%\n",
            "GB | Epoch 7 | Loss: 0.052381616085767746 | Accuracy: 98.4375%\n",
            "GB | Epoch 7 | Loss: 0.03298930078744888 | Accuracy: 100.0%\n",
            "GB | Epoch 7 | Loss: 0.041842423379421234 | Accuracy: 100.0%\n",
            "GB | Epoch 7 | Loss: 0.038925912231206894 | Accuracy: 100.0%\n",
            "GB | Epoch 7 | Loss: 0.023990340530872345 | Accuracy: 100.0%\n",
            "GB | Epoch 7 | Loss: 0.0493236668407917 | Accuracy: 98.4375%\n",
            "GB | Epoch 7 | Loss: 0.03359993174672127 | Accuracy: 100.0%\n",
            "GB | Epoch 7 | Loss: 0.021605931222438812 | Accuracy: 100.0%\n",
            "GB | Epoch 7 | Loss: 0.06590093672275543 | Accuracy: 96.875%\n",
            "GB | Epoch 7 | Loss: 0.061709802597761154 | Accuracy: 98.4375%\n",
            "GB | Epoch 7 | Loss: 0.04154035076498985 | Accuracy: 98.4375%\n",
            "GB | Epoch 7 | Loss: 0.025260426104068756 | Accuracy: 100.0%\n",
            "GB | Epoch 7 | Loss: 0.06713680177927017 | Accuracy: 96.875%\n",
            "GB | Epoch 7 | Loss: 0.0434504970908165 | Accuracy: 100.0%\n",
            "GB | Epoch 7 | Loss: 0.0582423098385334 | Accuracy: 100.0%\n",
            "GB | Epoch 7 | Loss: 0.11897353827953339 | Accuracy: 95.3125%\n",
            "GB | Epoch 7 | Loss: 0.06728243082761765 | Accuracy: 100.0%\n"
          ]
        },
        {
          "name": "stderr",
          "output_type": "stream",
          "text": [
            "Epoch 7:  35%|███▌      | 266/751 [00:02<00:04, 112.75batch/s, accuracy=98.4375%, loss=0.0454]"
          ]
        },
        {
          "name": "stdout",
          "output_type": "stream",
          "text": [
            "GB | Epoch 7 | Loss: 0.02407919242978096 | Accuracy: 100.0%\n",
            "GB | Epoch 7 | Loss: 0.03462616726756096 | Accuracy: 100.0%\n",
            "GB | Epoch 7 | Loss: 0.07548642158508301 | Accuracy: 96.875%\n",
            "GB | Epoch 7 | Loss: 0.1267009675502777 | Accuracy: 98.4375%\n",
            "GB | Epoch 7 | Loss: 0.037901874631643295 | Accuracy: 98.4375%\n",
            "GB | Epoch 7 | Loss: 0.03232865780591965 | Accuracy: 100.0%\n",
            "GB | Epoch 7 | Loss: 0.045670293271541595 | Accuracy: 98.4375%\n",
            "GB | Epoch 7 | Loss: 0.05908745154738426 | Accuracy: 100.0%\n",
            "GB | Epoch 7 | Loss: 0.1052398756146431 | Accuracy: 96.875%\n",
            "GB | Epoch 7 | Loss: 0.11235668510198593 | Accuracy: 98.4375%\n",
            "GB | Epoch 7 | Loss: 0.0251113623380661 | Accuracy: 100.0%\n",
            "GB | Epoch 7 | Loss: 0.026204699650406837 | Accuracy: 100.0%\n",
            "GB | Epoch 7 | Loss: 0.029858602210879326 | Accuracy: 100.0%\n",
            "GB | Epoch 7 | Loss: 0.08269894123077393 | Accuracy: 98.4375%\n",
            "GB | Epoch 7 | Loss: 0.10668954998254776 | Accuracy: 98.4375%\n",
            "GB | Epoch 7 | Loss: 0.06378594040870667 | Accuracy: 98.4375%\n",
            "GB | Epoch 7 | Loss: 0.04177787899971008 | Accuracy: 98.4375%\n",
            "GB | Epoch 7 | Loss: 0.07228129357099533 | Accuracy: 98.4375%\n",
            "GB | Epoch 7 | Loss: 0.05884067341685295 | Accuracy: 98.4375%\n",
            "GB | Epoch 7 | Loss: 0.13003090023994446 | Accuracy: 96.875%\n",
            "GB | Epoch 7 | Loss: 0.04198659211397171 | Accuracy: 100.0%\n",
            "GB | Epoch 7 | Loss: 0.13545212149620056 | Accuracy: 98.4375%\n",
            "GB | Epoch 7 | Loss: 0.045420922338962555 | Accuracy: 98.4375%\n"
          ]
        },
        {
          "name": "stderr",
          "output_type": "stream",
          "text": [
            "Epoch 7:  39%|███▊      | 290/751 [00:03<00:04, 114.13batch/s, accuracy=100.0%, loss=0.0246]  "
          ]
        },
        {
          "name": "stdout",
          "output_type": "stream",
          "text": [
            "GB | Epoch 7 | Loss: 0.04646798223257065 | Accuracy: 100.0%\n",
            "GB | Epoch 7 | Loss: 0.05652400851249695 | Accuracy: 100.0%\n",
            "GB | Epoch 7 | Loss: 0.04744022339582443 | Accuracy: 98.4375%\n",
            "GB | Epoch 7 | Loss: 0.04938251152634621 | Accuracy: 100.0%\n",
            "GB | Epoch 7 | Loss: 0.22960016131401062 | Accuracy: 95.3125%\n",
            "GB | Epoch 7 | Loss: 0.08916851878166199 | Accuracy: 98.4375%\n",
            "GB | Epoch 7 | Loss: 0.06018517166376114 | Accuracy: 98.4375%\n",
            "GB | Epoch 7 | Loss: 0.09021826088428497 | Accuracy: 98.4375%\n",
            "GB | Epoch 7 | Loss: 0.08743303269147873 | Accuracy: 98.4375%\n",
            "GB | Epoch 7 | Loss: 0.06885633617639542 | Accuracy: 98.4375%\n",
            "GB | Epoch 7 | Loss: 0.05483409762382507 | Accuracy: 100.0%\n",
            "GB | Epoch 7 | Loss: 0.04375922307372093 | Accuracy: 100.0%\n",
            "GB | Epoch 7 | Loss: 0.022611400112509727 | Accuracy: 100.0%\n",
            "GB | Epoch 7 | Loss: 0.07215595245361328 | Accuracy: 98.4375%\n",
            "GB | Epoch 7 | Loss: 0.051772311329841614 | Accuracy: 96.875%\n",
            "GB | Epoch 7 | Loss: 0.02986115589737892 | Accuracy: 100.0%\n",
            "GB | Epoch 7 | Loss: 0.03983033448457718 | Accuracy: 100.0%\n",
            "GB | Epoch 7 | Loss: 0.1936376392841339 | Accuracy: 98.4375%\n",
            "GB | Epoch 7 | Loss: 0.039161235094070435 | Accuracy: 100.0%\n",
            "GB | Epoch 7 | Loss: 0.07293011248111725 | Accuracy: 98.4375%\n",
            "GB | Epoch 7 | Loss: 0.015474644489586353 | Accuracy: 100.0%\n",
            "GB | Epoch 7 | Loss: 0.054427620023489 | Accuracy: 98.4375%\n",
            "GB | Epoch 7 | Loss: 0.08926044404506683 | Accuracy: 98.4375%\n",
            "GB | Epoch 7 | Loss: 0.02461063675582409 | Accuracy: 100.0%\n"
          ]
        },
        {
          "name": "stderr",
          "output_type": "stream",
          "text": [
            "Epoch 7:  40%|████      | 302/751 [00:03<00:03, 113.12batch/s, accuracy=100.0%, loss=0.0417]"
          ]
        },
        {
          "name": "stdout",
          "output_type": "stream",
          "text": [
            "GB | Epoch 7 | Loss: 0.03004494309425354 | Accuracy: 100.0%\n",
            "GB | Epoch 7 | Loss: 0.05705229192972183 | Accuracy: 98.4375%\n",
            "GB | Epoch 7 | Loss: 0.02860846370458603 | Accuracy: 100.0%\n",
            "GB | Epoch 7 | Loss: 0.04941583424806595 | Accuracy: 100.0%\n",
            "GB | Epoch 7 | Loss: 0.06069494038820267 | Accuracy: 98.4375%\n",
            "GB | Epoch 7 | Loss: 0.05821150168776512 | Accuracy: 98.4375%\n",
            "GB | Epoch 7 | Loss: 0.06113908812403679 | Accuracy: 98.4375%\n",
            "GB | Epoch 7 | Loss: 0.03147982433438301 | Accuracy: 100.0%\n",
            "GB | Epoch 7 | Loss: 0.07154753804206848 | Accuracy: 96.875%\n",
            "GB | Epoch 7 | Loss: 0.04550132900476456 | Accuracy: 100.0%\n",
            "GB | Epoch 7 | Loss: 0.12237811833620071 | Accuracy: 98.4375%\n",
            "GB | Epoch 7 | Loss: 0.05846807733178139 | Accuracy: 98.4375%\n",
            "GB | Epoch 7 | Loss: 0.10591942816972733 | Accuracy: 98.4375%\n",
            "GB | Epoch 7 | Loss: 0.06167881563305855 | Accuracy: 98.4375%\n",
            "GB | Epoch 7 | Loss: 0.10807231813669205 | Accuracy: 96.875%\n",
            "GB | Epoch 7 | Loss: 0.042142193764448166 | Accuracy: 100.0%\n",
            "GB | Epoch 7 | Loss: 0.0668746754527092 | Accuracy: 100.0%\n",
            "GB | Epoch 7 | Loss: 0.05442740395665169 | Accuracy: 100.0%\n",
            "GB | Epoch 7 | Loss: 0.04535366967320442 | Accuracy: 100.0%\n",
            "GB | Epoch 7 | Loss: 0.04047863930463791 | Accuracy: 100.0%\n",
            "GB | Epoch 7 | Loss: 0.051277823746204376 | Accuracy: 100.0%\n",
            "GB | Epoch 7 | Loss: 0.04171985760331154 | Accuracy: 100.0%\n"
          ]
        },
        {
          "name": "stderr",
          "output_type": "stream",
          "text": [
            "Epoch 7:  43%|████▎     | 325/751 [00:03<00:04, 106.28batch/s, accuracy=100.0%, loss=0.0361] "
          ]
        },
        {
          "name": "stdout",
          "output_type": "stream",
          "text": [
            "GB | Epoch 7 | Loss: 0.06429043412208557 | Accuracy: 98.4375%\n",
            "GB | Epoch 7 | Loss: 0.14176839590072632 | Accuracy: 96.875%\n",
            "GB | Epoch 7 | Loss: 0.04055510461330414 | Accuracy: 100.0%\n",
            "GB | Epoch 7 | Loss: 0.056591980159282684 | Accuracy: 98.4375%\n",
            "GB | Epoch 7 | Loss: 0.09506624191999435 | Accuracy: 98.4375%\n",
            "GB | Epoch 7 | Loss: 0.09554039686918259 | Accuracy: 96.875%\n",
            "GB | Epoch 7 | Loss: 0.05059274658560753 | Accuracy: 98.4375%\n",
            "GB | Epoch 7 | Loss: 0.057846203446388245 | Accuracy: 98.4375%\n",
            "GB | Epoch 7 | Loss: 0.06374247372150421 | Accuracy: 98.4375%\n",
            "GB | Epoch 7 | Loss: 0.06926427036523819 | Accuracy: 98.4375%\n",
            "GB | Epoch 7 | Loss: 0.16783615946769714 | Accuracy: 93.75%\n",
            "GB | Epoch 7 | Loss: 0.07958967238664627 | Accuracy: 98.4375%\n",
            "GB | Epoch 7 | Loss: 0.0613478422164917 | Accuracy: 96.875%\n",
            "GB | Epoch 7 | Loss: 0.04013966768980026 | Accuracy: 100.0%\n",
            "GB | Epoch 7 | Loss: 0.05222698301076889 | Accuracy: 98.4375%\n",
            "GB | Epoch 7 | Loss: 0.08061873912811279 | Accuracy: 98.4375%\n",
            "GB | Epoch 7 | Loss: 0.06809505820274353 | Accuracy: 98.4375%\n",
            "GB | Epoch 7 | Loss: 0.043593067675828934 | Accuracy: 100.0%\n",
            "GB | Epoch 7 | Loss: 0.06596800684928894 | Accuracy: 98.4375%\n",
            "GB | Epoch 7 | Loss: 0.027251042425632477 | Accuracy: 100.0%\n",
            "GB | Epoch 7 | Loss: 0.07457680255174637 | Accuracy: 96.875%\n",
            "GB | Epoch 7 | Loss: 0.036069080233573914 | Accuracy: 100.0%\n"
          ]
        },
        {
          "name": "stderr",
          "output_type": "stream",
          "text": [
            "Epoch 7:  46%|████▌     | 347/751 [00:03<00:03, 106.65batch/s, accuracy=98.4375%, loss=0.0604]"
          ]
        },
        {
          "name": "stdout",
          "output_type": "stream",
          "text": [
            "GB | Epoch 7 | Loss: 0.04361134395003319 | Accuracy: 100.0%\n",
            "GB | Epoch 7 | Loss: 0.10286177694797516 | Accuracy: 98.4375%\n",
            "GB | Epoch 7 | Loss: 0.06997446715831757 | Accuracy: 98.4375%\n",
            "GB | Epoch 7 | Loss: 0.024312902241945267 | Accuracy: 100.0%\n",
            "GB | Epoch 7 | Loss: 0.05030184984207153 | Accuracy: 100.0%\n",
            "GB | Epoch 7 | Loss: 0.1640203297138214 | Accuracy: 96.875%\n",
            "GB | Epoch 7 | Loss: 0.19631561636924744 | Accuracy: 95.3125%\n",
            "GB | Epoch 7 | Loss: 0.032430537045001984 | Accuracy: 100.0%\n",
            "GB | Epoch 7 | Loss: 0.14676986634731293 | Accuracy: 98.4375%\n",
            "GB | Epoch 7 | Loss: 0.059747833758592606 | Accuracy: 96.875%\n",
            "GB | Epoch 7 | Loss: 0.075318843126297 | Accuracy: 95.3125%\n",
            "GB | Epoch 7 | Loss: 0.05828261747956276 | Accuracy: 100.0%\n",
            "GB | Epoch 7 | Loss: 0.0950448215007782 | Accuracy: 98.4375%\n",
            "GB | Epoch 7 | Loss: 0.03453807532787323 | Accuracy: 100.0%\n",
            "GB | Epoch 7 | Loss: 0.04337652772665024 | Accuracy: 100.0%\n",
            "GB | Epoch 7 | Loss: 0.053091708570718765 | Accuracy: 98.4375%\n",
            "GB | Epoch 7 | Loss: 0.0503559336066246 | Accuracy: 98.4375%\n",
            "GB | Epoch 7 | Loss: 0.03755814582109451 | Accuracy: 98.4375%\n",
            "GB | Epoch 7 | Loss: 0.2712368965148926 | Accuracy: 95.3125%\n",
            "GB | Epoch 7 | Loss: 0.08845943212509155 | Accuracy: 98.4375%\n",
            "GB | Epoch 7 | Loss: 0.06037614122033119 | Accuracy: 98.4375%\n"
          ]
        },
        {
          "name": "stderr",
          "output_type": "stream",
          "text": [
            "Epoch 7:  49%|████▉     | 369/751 [00:03<00:03, 100.47batch/s, accuracy=96.875%, loss=0.132] "
          ]
        },
        {
          "name": "stdout",
          "output_type": "stream",
          "text": [
            "GB | Epoch 7 | Loss: 0.06036901846528053 | Accuracy: 98.4375%\n",
            "GB | Epoch 7 | Loss: 0.027884457260370255 | Accuracy: 100.0%\n",
            "GB | Epoch 7 | Loss: 0.08710011094808578 | Accuracy: 96.875%\n",
            "GB | Epoch 7 | Loss: 0.040851838886737823 | Accuracy: 98.4375%\n",
            "GB | Epoch 7 | Loss: 0.022965671494603157 | Accuracy: 100.0%\n",
            "GB | Epoch 7 | Loss: 0.059666357934474945 | Accuracy: 100.0%\n",
            "GB | Epoch 7 | Loss: 0.03250207006931305 | Accuracy: 100.0%\n",
            "GB | Epoch 7 | Loss: 0.03816638141870499 | Accuracy: 100.0%\n",
            "GB | Epoch 7 | Loss: 0.10245371609926224 | Accuracy: 96.875%\n",
            "GB | Epoch 7 | Loss: 0.030461490154266357 | Accuracy: 100.0%\n",
            "GB | Epoch 7 | Loss: 0.09945759177207947 | Accuracy: 98.4375%\n",
            "GB | Epoch 7 | Loss: 0.043854303658008575 | Accuracy: 100.0%\n",
            "GB | Epoch 7 | Loss: 0.09815908223390579 | Accuracy: 96.875%\n",
            "GB | Epoch 7 | Loss: 0.022706782445311546 | Accuracy: 100.0%\n",
            "GB | Epoch 7 | Loss: 0.02151438221335411 | Accuracy: 100.0%\n",
            "GB | Epoch 7 | Loss: 0.047085072845220566 | Accuracy: 100.0%\n",
            "GB | Epoch 7 | Loss: 0.024365151301026344 | Accuracy: 100.0%\n",
            "GB | Epoch 7 | Loss: 0.09138070791959763 | Accuracy: 96.875%\n",
            "GB | Epoch 7 | Loss: 0.14614471793174744 | Accuracy: 98.4375%\n",
            "GB | Epoch 7 | Loss: 0.13241416215896606 | Accuracy: 96.875%\n"
          ]
        },
        {
          "name": "stderr",
          "output_type": "stream",
          "text": [
            "Epoch 7:  52%|█████▏    | 392/751 [00:04<00:03, 105.41batch/s, accuracy=100.0%, loss=0.0267]  "
          ]
        },
        {
          "name": "stdout",
          "output_type": "stream",
          "text": [
            "GB | Epoch 7 | Loss: 0.02678946778178215 | Accuracy: 100.0%\n",
            "GB | Epoch 7 | Loss: 0.09273603558540344 | Accuracy: 96.875%\n",
            "GB | Epoch 7 | Loss: 0.04697652533650398 | Accuracy: 100.0%\n",
            "GB | Epoch 7 | Loss: 0.04476376995444298 | Accuracy: 100.0%\n",
            "GB | Epoch 7 | Loss: 0.055509377270936966 | Accuracy: 98.4375%\n",
            "GB | Epoch 7 | Loss: 0.033279672265052795 | Accuracy: 100.0%\n",
            "GB | Epoch 7 | Loss: 0.06072546914219856 | Accuracy: 98.4375%\n",
            "GB | Epoch 7 | Loss: 0.07827907800674438 | Accuracy: 95.3125%\n",
            "GB | Epoch 7 | Loss: 0.05975539982318878 | Accuracy: 98.4375%\n",
            "GB | Epoch 7 | Loss: 0.11595805734395981 | Accuracy: 95.3125%\n",
            "GB | Epoch 7 | Loss: 0.028642265126109123 | Accuracy: 100.0%\n",
            "GB | Epoch 7 | Loss: 0.04036432132124901 | Accuracy: 98.4375%\n",
            "GB | Epoch 7 | Loss: 0.044076334685087204 | Accuracy: 100.0%\n",
            "GB | Epoch 7 | Loss: 0.03481937572360039 | Accuracy: 100.0%\n",
            "GB | Epoch 7 | Loss: 0.17910274863243103 | Accuracy: 95.3125%\n",
            "GB | Epoch 7 | Loss: 0.017270980402827263 | Accuracy: 100.0%\n",
            "GB | Epoch 7 | Loss: 0.1532263606786728 | Accuracy: 95.3125%\n",
            "GB | Epoch 7 | Loss: 0.0806371420621872 | Accuracy: 96.875%\n",
            "GB | Epoch 7 | Loss: 0.06323482096195221 | Accuracy: 96.875%\n",
            "GB | Epoch 7 | Loss: 0.03397979587316513 | Accuracy: 100.0%\n",
            "GB | Epoch 7 | Loss: 0.02368040569126606 | Accuracy: 100.0%\n",
            "GB | Epoch 7 | Loss: 0.04582410305738449 | Accuracy: 98.4375%\n",
            "GB | Epoch 7 | Loss: 0.02671857923269272 | Accuracy: 100.0%\n"
          ]
        },
        {
          "name": "stderr",
          "output_type": "stream",
          "text": [
            "Epoch 7:  55%|█████▌    | 415/751 [00:04<00:03, 107.53batch/s, accuracy=98.4375%, loss=0.0505]"
          ]
        },
        {
          "name": "stdout",
          "output_type": "stream",
          "text": [
            "GB | Epoch 7 | Loss: 0.032237302511930466 | Accuracy: 98.4375%\n",
            "GB | Epoch 7 | Loss: 0.12762416899204254 | Accuracy: 98.4375%\n",
            "GB | Epoch 7 | Loss: 0.027661291882395744 | Accuracy: 100.0%\n",
            "GB | Epoch 7 | Loss: 0.0229661725461483 | Accuracy: 100.0%\n",
            "GB | Epoch 7 | Loss: 0.10300702601671219 | Accuracy: 98.4375%\n",
            "GB | Epoch 7 | Loss: 0.11688126623630524 | Accuracy: 98.4375%\n",
            "GB | Epoch 7 | Loss: 0.03708167001605034 | Accuracy: 100.0%\n",
            "GB | Epoch 7 | Loss: 0.05032365769147873 | Accuracy: 98.4375%\n",
            "GB | Epoch 7 | Loss: 0.016566073521971703 | Accuracy: 100.0%\n",
            "GB | Epoch 7 | Loss: 0.07913854718208313 | Accuracy: 98.4375%\n",
            "GB | Epoch 7 | Loss: 0.047882258892059326 | Accuracy: 98.4375%\n",
            "GB | Epoch 7 | Loss: 0.02445572055876255 | Accuracy: 100.0%\n",
            "GB | Epoch 7 | Loss: 0.13851648569107056 | Accuracy: 96.875%\n",
            "GB | Epoch 7 | Loss: 0.05428154394030571 | Accuracy: 98.4375%\n",
            "GB | Epoch 7 | Loss: 0.1427745372056961 | Accuracy: 98.4375%\n",
            "GB | Epoch 7 | Loss: 0.03441675752401352 | Accuracy: 100.0%\n",
            "GB | Epoch 7 | Loss: 0.06955402344465256 | Accuracy: 98.4375%\n",
            "GB | Epoch 7 | Loss: 0.026537088677287102 | Accuracy: 100.0%\n",
            "GB | Epoch 7 | Loss: 0.02894510328769684 | Accuracy: 100.0%\n",
            "GB | Epoch 7 | Loss: 0.06459911912679672 | Accuracy: 98.4375%\n",
            "GB | Epoch 7 | Loss: 0.049910835921764374 | Accuracy: 100.0%\n",
            "GB | Epoch 7 | Loss: 0.05053044483065605 | Accuracy: 98.4375%\n"
          ]
        },
        {
          "name": "stderr",
          "output_type": "stream",
          "text": [
            "Epoch 7:  58%|█████▊    | 438/751 [00:04<00:02, 107.38batch/s, accuracy=100.0%, loss=0.0468]"
          ]
        },
        {
          "name": "stdout",
          "output_type": "stream",
          "text": [
            "GB | Epoch 7 | Loss: 0.05674707144498825 | Accuracy: 98.4375%\n",
            "GB | Epoch 7 | Loss: 0.04734359309077263 | Accuracy: 98.4375%\n",
            "GB | Epoch 7 | Loss: 0.05304231867194176 | Accuracy: 98.4375%\n",
            "GB | Epoch 7 | Loss: 0.009210524149239063 | Accuracy: 100.0%\n",
            "GB | Epoch 7 | Loss: 0.06874145567417145 | Accuracy: 96.875%\n",
            "GB | Epoch 7 | Loss: 0.03104056417942047 | Accuracy: 100.0%\n",
            "GB | Epoch 7 | Loss: 0.045842330902814865 | Accuracy: 100.0%\n",
            "GB | Epoch 7 | Loss: 0.030283302068710327 | Accuracy: 100.0%\n",
            "GB | Epoch 7 | Loss: 0.019215473905205727 | Accuracy: 100.0%\n",
            "GB | Epoch 7 | Loss: 0.025832997635006905 | Accuracy: 100.0%\n",
            "GB | Epoch 7 | Loss: 0.05000252276659012 | Accuracy: 98.4375%\n",
            "GB | Epoch 7 | Loss: 0.06485312432050705 | Accuracy: 98.4375%\n",
            "GB | Epoch 7 | Loss: 0.04774843528866768 | Accuracy: 98.4375%\n",
            "GB | Epoch 7 | Loss: 0.024533873423933983 | Accuracy: 100.0%\n",
            "GB | Epoch 7 | Loss: 0.05781283974647522 | Accuracy: 98.4375%\n",
            "GB | Epoch 7 | Loss: 0.029796695336699486 | Accuracy: 98.4375%\n",
            "GB | Epoch 7 | Loss: 0.037810683250427246 | Accuracy: 100.0%\n",
            "GB | Epoch 7 | Loss: 0.03315158933401108 | Accuracy: 98.4375%\n",
            "GB | Epoch 7 | Loss: 0.05713321268558502 | Accuracy: 98.4375%\n",
            "GB | Epoch 7 | Loss: 0.031839124858379364 | Accuracy: 100.0%\n",
            "GB | Epoch 7 | Loss: 0.12231472879648209 | Accuracy: 96.875%\n"
          ]
        },
        {
          "name": "stderr",
          "output_type": "stream",
          "text": [
            "Epoch 7:  61%|██████▏   | 460/751 [00:04<00:02, 103.07batch/s, accuracy=95.3125%, loss=0.178]"
          ]
        },
        {
          "name": "stdout",
          "output_type": "stream",
          "text": [
            "GB | Epoch 7 | Loss: 0.0467783585190773 | Accuracy: 100.0%\n",
            "GB | Epoch 7 | Loss: 0.064869724214077 | Accuracy: 98.4375%\n",
            "GB | Epoch 7 | Loss: 0.14685243368148804 | Accuracy: 98.4375%\n",
            "GB | Epoch 7 | Loss: 0.0628519207239151 | Accuracy: 98.4375%\n",
            "GB | Epoch 7 | Loss: 0.014863756485283375 | Accuracy: 100.0%\n",
            "GB | Epoch 7 | Loss: 0.1030750498175621 | Accuracy: 96.875%\n",
            "GB | Epoch 7 | Loss: 0.048237551003694534 | Accuracy: 100.0%\n",
            "GB | Epoch 7 | Loss: 0.2528204619884491 | Accuracy: 96.875%\n",
            "GB | Epoch 7 | Loss: 0.06842660903930664 | Accuracy: 98.4375%\n",
            "GB | Epoch 7 | Loss: 0.08908796310424805 | Accuracy: 98.4375%\n",
            "GB | Epoch 7 | Loss: 0.06659668684005737 | Accuracy: 96.875%\n",
            "GB | Epoch 7 | Loss: 0.043521516025066376 | Accuracy: 100.0%\n",
            "GB | Epoch 7 | Loss: 0.04695448279380798 | Accuracy: 100.0%\n",
            "GB | Epoch 7 | Loss: 0.042567864060401917 | Accuracy: 98.4375%\n",
            "GB | Epoch 7 | Loss: 0.06817840039730072 | Accuracy: 95.3125%\n",
            "GB | Epoch 7 | Loss: 0.059506919234991074 | Accuracy: 98.4375%\n",
            "GB | Epoch 7 | Loss: 0.053912289440631866 | Accuracy: 98.4375%\n",
            "GB | Epoch 7 | Loss: 0.10499183088541031 | Accuracy: 96.875%\n",
            "GB | Epoch 7 | Loss: 0.05919360741972923 | Accuracy: 98.4375%\n",
            "GB | Epoch 7 | Loss: 0.06804695725440979 | Accuracy: 96.875%\n",
            "GB | Epoch 7 | Loss: 0.1776525378227234 | Accuracy: 95.3125%\n"
          ]
        },
        {
          "name": "stderr",
          "output_type": "stream",
          "text": [
            "Epoch 7:  64%|██████▍   | 482/751 [00:04<00:02, 99.69batch/s, accuracy=98.4375%, loss=0.0935]"
          ]
        },
        {
          "name": "stdout",
          "output_type": "stream",
          "text": [
            "GB | Epoch 7 | Loss: 0.07710932195186615 | Accuracy: 98.4375%\n",
            "GB | Epoch 7 | Loss: 0.026189638301730156 | Accuracy: 100.0%\n",
            "GB | Epoch 7 | Loss: 0.07602046430110931 | Accuracy: 98.4375%\n",
            "GB | Epoch 7 | Loss: 0.0629798173904419 | Accuracy: 100.0%\n",
            "GB | Epoch 7 | Loss: 0.04959632456302643 | Accuracy: 98.4375%\n",
            "GB | Epoch 7 | Loss: 0.10213348269462585 | Accuracy: 96.875%\n",
            "GB | Epoch 7 | Loss: 0.05818583071231842 | Accuracy: 98.4375%\n",
            "GB | Epoch 7 | Loss: 0.03646617382764816 | Accuracy: 100.0%\n",
            "GB | Epoch 7 | Loss: 0.06042508780956268 | Accuracy: 98.4375%\n",
            "GB | Epoch 7 | Loss: 0.044751059263944626 | Accuracy: 100.0%\n",
            "GB | Epoch 7 | Loss: 0.024870898574590683 | Accuracy: 100.0%\n",
            "GB | Epoch 7 | Loss: 0.04477454349398613 | Accuracy: 98.4375%\n",
            "GB | Epoch 7 | Loss: 0.03256496042013168 | Accuracy: 100.0%\n",
            "GB | Epoch 7 | Loss: 0.0513419434428215 | Accuracy: 100.0%\n",
            "GB | Epoch 7 | Loss: 0.1267595887184143 | Accuracy: 96.875%\n",
            "GB | Epoch 7 | Loss: 0.24712930619716644 | Accuracy: 95.3125%\n",
            "GB | Epoch 7 | Loss: 0.06469706445932388 | Accuracy: 96.875%\n",
            "GB | Epoch 7 | Loss: 0.026343069970607758 | Accuracy: 100.0%\n",
            "GB | Epoch 7 | Loss: 0.04187093302607536 | Accuracy: 100.0%\n",
            "GB | Epoch 7 | Loss: 0.09345225989818573 | Accuracy: 98.4375%\n"
          ]
        },
        {
          "name": "stderr",
          "output_type": "stream",
          "text": [
            "Epoch 7:  67%|██████▋   | 504/751 [00:05<00:02, 101.08batch/s, accuracy=98.4375%, loss=0.0522]"
          ]
        },
        {
          "name": "stdout",
          "output_type": "stream",
          "text": [
            "GB | Epoch 7 | Loss: 0.02468015067279339 | Accuracy: 100.0%\n",
            "GB | Epoch 7 | Loss: 0.12460023909807205 | Accuracy: 96.875%\n",
            "GB | Epoch 7 | Loss: 0.025758814066648483 | Accuracy: 100.0%\n",
            "GB | Epoch 7 | Loss: 0.017107488587498665 | Accuracy: 100.0%\n",
            "GB | Epoch 7 | Loss: 0.1326933056116104 | Accuracy: 96.875%\n",
            "GB | Epoch 7 | Loss: 0.03460436314344406 | Accuracy: 100.0%\n",
            "GB | Epoch 7 | Loss: 0.08597806841135025 | Accuracy: 98.4375%\n",
            "GB | Epoch 7 | Loss: 0.030508792027831078 | Accuracy: 100.0%\n",
            "GB | Epoch 7 | Loss: 0.13735507428646088 | Accuracy: 98.4375%\n",
            "GB | Epoch 7 | Loss: 0.028958218172192574 | Accuracy: 100.0%\n",
            "GB | Epoch 7 | Loss: 0.04560326039791107 | Accuracy: 98.4375%\n",
            "GB | Epoch 7 | Loss: 0.09806562215089798 | Accuracy: 98.4375%\n",
            "GB | Epoch 7 | Loss: 0.03217453882098198 | Accuracy: 100.0%\n",
            "GB | Epoch 7 | Loss: 0.1001766175031662 | Accuracy: 96.875%\n",
            "GB | Epoch 7 | Loss: 0.030601980164647102 | Accuracy: 100.0%\n",
            "GB | Epoch 7 | Loss: 0.02483392506837845 | Accuracy: 100.0%\n",
            "GB | Epoch 7 | Loss: 0.08794305473566055 | Accuracy: 96.875%\n",
            "GB | Epoch 7 | Loss: 0.05592409521341324 | Accuracy: 100.0%\n",
            "GB | Epoch 7 | Loss: 0.08327298611402512 | Accuracy: 98.4375%\n",
            "GB | Epoch 7 | Loss: 0.05509914457798004 | Accuracy: 98.4375%\n",
            "GB | Epoch 7 | Loss: 0.05215732753276825 | Accuracy: 98.4375%\n"
          ]
        },
        {
          "name": "stderr",
          "output_type": "stream",
          "text": [
            "Epoch 7:  69%|██████▊   | 515/751 [00:05<00:02, 100.08batch/s, accuracy=100.0%, loss=0.0252]"
          ]
        },
        {
          "name": "stdout",
          "output_type": "stream",
          "text": [
            "GB | Epoch 7 | Loss: 0.045649223029613495 | Accuracy: 98.4375%\n",
            "GB | Epoch 7 | Loss: 0.029413143172860146 | Accuracy: 100.0%\n",
            "GB | Epoch 7 | Loss: 0.041740767657756805 | Accuracy: 100.0%\n",
            "GB | Epoch 7 | Loss: 0.15212751924991608 | Accuracy: 96.875%\n",
            "GB | Epoch 7 | Loss: 0.06590007990598679 | Accuracy: 98.4375%\n",
            "GB | Epoch 7 | Loss: 0.02857396937906742 | Accuracy: 100.0%\n",
            "GB | Epoch 7 | Loss: 0.03310465067625046 | Accuracy: 100.0%\n",
            "GB | Epoch 7 | Loss: 0.03732847422361374 | Accuracy: 98.4375%\n",
            "GB | Epoch 7 | Loss: 0.046391651034355164 | Accuracy: 98.4375%\n",
            "GB | Epoch 7 | Loss: 0.035600144416093826 | Accuracy: 100.0%\n",
            "GB | Epoch 7 | Loss: 0.024824092164635658 | Accuracy: 100.0%\n",
            "GB | Epoch 7 | Loss: 0.09591341763734818 | Accuracy: 96.875%\n",
            "GB | Epoch 7 | Loss: 0.030953768640756607 | Accuracy: 98.4375%\n",
            "GB | Epoch 7 | Loss: 0.08017027378082275 | Accuracy: 96.875%\n",
            "GB | Epoch 7 | Loss: 0.02495783008635044 | Accuracy: 100.0%\n",
            "GB | Epoch 7 | Loss: 0.03779866546392441 | Accuracy: 100.0%\n",
            "GB | Epoch 7 | Loss: 0.03945412114262581 | Accuracy: 98.4375%\n",
            "GB | Epoch 7 | Loss: 0.18744637072086334 | Accuracy: 96.875%\n",
            "GB | Epoch 7 | Loss: 0.03240928053855896 | Accuracy: 100.0%\n",
            "GB | Epoch 7 | Loss: 0.03545280918478966 | Accuracy: 100.0%\n",
            "GB | Epoch 7 | Loss: 0.025219736620783806 | Accuracy: 100.0%\n"
          ]
        },
        {
          "name": "stderr",
          "output_type": "stream",
          "text": [
            "Epoch 7:  72%|███████▏  | 537/751 [00:05<00:02, 99.73batch/s, accuracy=100.0%, loss=0.0188] "
          ]
        },
        {
          "name": "stdout",
          "output_type": "stream",
          "text": [
            "GB | Epoch 7 | Loss: 0.026614904403686523 | Accuracy: 100.0%\n",
            "GB | Epoch 7 | Loss: 0.02412867173552513 | Accuracy: 100.0%\n",
            "GB | Epoch 7 | Loss: 0.022475337609648705 | Accuracy: 100.0%\n",
            "GB | Epoch 7 | Loss: 0.02965479902923107 | Accuracy: 100.0%\n",
            "GB | Epoch 7 | Loss: 0.042391031980514526 | Accuracy: 98.4375%\n",
            "GB | Epoch 7 | Loss: 0.13792921602725983 | Accuracy: 95.3125%\n",
            "GB | Epoch 7 | Loss: 0.07113069295883179 | Accuracy: 98.4375%\n",
            "GB | Epoch 7 | Loss: 0.02614223025739193 | Accuracy: 100.0%\n",
            "GB | Epoch 7 | Loss: 0.07983294874429703 | Accuracy: 96.875%\n",
            "GB | Epoch 7 | Loss: 0.03459226340055466 | Accuracy: 100.0%\n",
            "GB | Epoch 7 | Loss: 0.11153994500637054 | Accuracy: 98.4375%\n",
            "GB | Epoch 7 | Loss: 0.03694881126284599 | Accuracy: 100.0%\n",
            "GB | Epoch 7 | Loss: 0.020505497232079506 | Accuracy: 100.0%\n",
            "GB | Epoch 7 | Loss: 0.021421032026410103 | Accuracy: 100.0%\n",
            "GB | Epoch 7 | Loss: 0.045925043523311615 | Accuracy: 98.4375%\n",
            "GB | Epoch 7 | Loss: 0.04529424011707306 | Accuracy: 100.0%\n",
            "GB | Epoch 7 | Loss: 0.09016507863998413 | Accuracy: 98.4375%\n",
            "GB | Epoch 7 | Loss: 0.024968892335891724 | Accuracy: 100.0%\n",
            "GB | Epoch 7 | Loss: 0.09931778162717819 | Accuracy: 96.875%\n",
            "GB | Epoch 7 | Loss: 0.01883680745959282 | Accuracy: 100.0%\n"
          ]
        },
        {
          "name": "stderr",
          "output_type": "stream",
          "text": [
            "Epoch 7:  74%|███████▍  | 558/751 [00:05<00:01, 100.67batch/s, accuracy=100.0%, loss=0.0399]"
          ]
        },
        {
          "name": "stdout",
          "output_type": "stream",
          "text": [
            "GB | Epoch 7 | Loss: 0.058830056339502335 | Accuracy: 98.4375%\n",
            "GB | Epoch 7 | Loss: 0.04056704416871071 | Accuracy: 100.0%\n",
            "GB | Epoch 7 | Loss: 0.026366472244262695 | Accuracy: 100.0%\n",
            "GB | Epoch 7 | Loss: 0.0355059914290905 | Accuracy: 100.0%\n",
            "GB | Epoch 7 | Loss: 0.026772515848279 | Accuracy: 100.0%\n",
            "GB | Epoch 7 | Loss: 0.020728077739477158 | Accuracy: 100.0%\n",
            "GB | Epoch 7 | Loss: 0.06778061389923096 | Accuracy: 98.4375%\n",
            "GB | Epoch 7 | Loss: 0.03505583852529526 | Accuracy: 98.4375%\n",
            "GB | Epoch 7 | Loss: 0.04274412989616394 | Accuracy: 98.4375%\n",
            "GB | Epoch 7 | Loss: 0.0497923269867897 | Accuracy: 96.875%\n",
            "GB | Epoch 7 | Loss: 0.09899847954511642 | Accuracy: 96.875%\n",
            "GB | Epoch 7 | Loss: 0.031392306089401245 | Accuracy: 98.4375%\n",
            "GB | Epoch 7 | Loss: 0.1670338213443756 | Accuracy: 96.875%\n",
            "GB | Epoch 7 | Loss: 0.025069991126656532 | Accuracy: 100.0%\n",
            "GB | Epoch 7 | Loss: 0.035370804369449615 | Accuracy: 100.0%\n",
            "GB | Epoch 7 | Loss: 0.021456414833664894 | Accuracy: 100.0%\n",
            "GB | Epoch 7 | Loss: 0.05731222406029701 | Accuracy: 98.4375%\n",
            "GB | Epoch 7 | Loss: 0.03925754502415657 | Accuracy: 98.4375%\n",
            "GB | Epoch 7 | Loss: 0.016804948449134827 | Accuracy: 100.0%\n",
            "GB | Epoch 7 | Loss: 0.04726583510637283 | Accuracy: 100.0%\n",
            "GB | Epoch 7 | Loss: 0.04570411890745163 | Accuracy: 100.0%\n"
          ]
        },
        {
          "name": "stderr",
          "output_type": "stream",
          "text": [
            "Epoch 7:  77%|███████▋  | 580/751 [00:05<00:01, 97.31batch/s, accuracy=98.4375%, loss=0.054] "
          ]
        },
        {
          "name": "stdout",
          "output_type": "stream",
          "text": [
            "GB | Epoch 7 | Loss: 0.03993212431669235 | Accuracy: 100.0%\n",
            "GB | Epoch 7 | Loss: 0.05058397352695465 | Accuracy: 98.4375%\n",
            "GB | Epoch 7 | Loss: 0.042286183685064316 | Accuracy: 98.4375%\n",
            "GB | Epoch 7 | Loss: 0.11881470680236816 | Accuracy: 96.875%\n",
            "GB | Epoch 7 | Loss: 0.06823902577161789 | Accuracy: 96.875%\n",
            "GB | Epoch 7 | Loss: 0.027279376983642578 | Accuracy: 100.0%\n",
            "GB | Epoch 7 | Loss: 0.037371594458818436 | Accuracy: 100.0%\n",
            "GB | Epoch 7 | Loss: 0.0282425656914711 | Accuracy: 100.0%\n",
            "GB | Epoch 7 | Loss: 0.16133485734462738 | Accuracy: 96.875%\n",
            "GB | Epoch 7 | Loss: 0.06521640717983246 | Accuracy: 96.875%\n",
            "GB | Epoch 7 | Loss: 0.06946062296628952 | Accuracy: 96.875%\n",
            "GB | Epoch 7 | Loss: 0.045687027275562286 | Accuracy: 98.4375%\n",
            "GB | Epoch 7 | Loss: 0.03814661502838135 | Accuracy: 100.0%\n",
            "GB | Epoch 7 | Loss: 0.02928009256720543 | Accuracy: 100.0%\n",
            "GB | Epoch 7 | Loss: 0.03319060057401657 | Accuracy: 100.0%\n",
            "GB | Epoch 7 | Loss: 0.05990730971097946 | Accuracy: 96.875%\n",
            "GB | Epoch 7 | Loss: 0.03433278203010559 | Accuracy: 100.0%\n",
            "GB | Epoch 7 | Loss: 0.033960115164518356 | Accuracy: 100.0%\n",
            "GB | Epoch 7 | Loss: 0.05932067707180977 | Accuracy: 98.4375%\n",
            "GB | Epoch 7 | Loss: 0.05403506010770798 | Accuracy: 98.4375%\n"
          ]
        },
        {
          "name": "stderr",
          "output_type": "stream",
          "text": [
            "Epoch 7:  80%|████████  | 601/751 [00:06<00:01, 97.58batch/s, accuracy=96.875%, loss=0.0714] "
          ]
        },
        {
          "name": "stdout",
          "output_type": "stream",
          "text": [
            "GB | Epoch 7 | Loss: 0.05720510706305504 | Accuracy: 100.0%\n",
            "GB | Epoch 7 | Loss: 0.19506104290485382 | Accuracy: 96.875%\n",
            "GB | Epoch 7 | Loss: 0.04632497951388359 | Accuracy: 98.4375%\n",
            "GB | Epoch 7 | Loss: 0.03202800452709198 | Accuracy: 100.0%\n",
            "GB | Epoch 7 | Loss: 0.0362047404050827 | Accuracy: 100.0%\n",
            "GB | Epoch 7 | Loss: 0.026868315413594246 | Accuracy: 100.0%\n",
            "GB | Epoch 7 | Loss: 0.07961931824684143 | Accuracy: 96.875%\n",
            "GB | Epoch 7 | Loss: 0.03443073853850365 | Accuracy: 100.0%\n",
            "GB | Epoch 7 | Loss: 0.04854726046323776 | Accuracy: 98.4375%\n",
            "GB | Epoch 7 | Loss: 0.02463131584227085 | Accuracy: 100.0%\n",
            "GB | Epoch 7 | Loss: 0.07227756083011627 | Accuracy: 98.4375%\n",
            "GB | Epoch 7 | Loss: 0.2718253433704376 | Accuracy: 96.875%\n",
            "GB | Epoch 7 | Loss: 0.055276863276958466 | Accuracy: 100.0%\n",
            "GB | Epoch 7 | Loss: 0.07990232110023499 | Accuracy: 98.4375%\n",
            "GB | Epoch 7 | Loss: 0.10265760123729706 | Accuracy: 98.4375%\n",
            "GB | Epoch 7 | Loss: 0.1625593602657318 | Accuracy: 98.4375%\n",
            "GB | Epoch 7 | Loss: 0.13554160296916962 | Accuracy: 96.875%\n",
            "GB | Epoch 7 | Loss: 0.07050010561943054 | Accuracy: 98.4375%\n",
            "GB | Epoch 7 | Loss: 0.06417838484048843 | Accuracy: 98.4375%\n",
            "GB | Epoch 7 | Loss: 0.07144264876842499 | Accuracy: 96.875%\n"
          ]
        },
        {
          "name": "stderr",
          "output_type": "stream",
          "text": [
            "Epoch 7:  83%|████████▎ | 621/751 [00:06<00:01, 95.58batch/s, accuracy=98.4375%, loss=0.211] "
          ]
        },
        {
          "name": "stdout",
          "output_type": "stream",
          "text": [
            "GB | Epoch 7 | Loss: 0.0404537208378315 | Accuracy: 100.0%\n",
            "GB | Epoch 7 | Loss: 0.07578560709953308 | Accuracy: 98.4375%\n",
            "GB | Epoch 7 | Loss: 0.01996740885078907 | Accuracy: 100.0%\n",
            "GB | Epoch 7 | Loss: 0.04409085586667061 | Accuracy: 100.0%\n",
            "GB | Epoch 7 | Loss: 0.03867626190185547 | Accuracy: 100.0%\n",
            "GB | Epoch 7 | Loss: 0.04406912624835968 | Accuracy: 98.4375%\n",
            "GB | Epoch 7 | Loss: 0.11045865714550018 | Accuracy: 95.3125%\n",
            "GB | Epoch 7 | Loss: 0.02889317087829113 | Accuracy: 100.0%\n",
            "GB | Epoch 7 | Loss: 0.01604064181447029 | Accuracy: 100.0%\n",
            "GB | Epoch 7 | Loss: 0.03849479556083679 | Accuracy: 100.0%\n",
            "GB | Epoch 7 | Loss: 0.020181991159915924 | Accuracy: 100.0%\n",
            "GB | Epoch 7 | Loss: 0.027250204235315323 | Accuracy: 100.0%\n",
            "GB | Epoch 7 | Loss: 0.032128702849149704 | Accuracy: 98.4375%\n",
            "GB | Epoch 7 | Loss: 0.04788459464907646 | Accuracy: 98.4375%\n",
            "GB | Epoch 7 | Loss: 0.038044124841690063 | Accuracy: 100.0%\n",
            "GB | Epoch 7 | Loss: 0.050324395298957825 | Accuracy: 98.4375%\n",
            "GB | Epoch 7 | Loss: 0.0239943265914917 | Accuracy: 100.0%\n",
            "GB | Epoch 7 | Loss: 0.041328806430101395 | Accuracy: 98.4375%\n",
            "GB | Epoch 7 | Loss: 0.2105882316827774 | Accuracy: 98.4375%\n"
          ]
        },
        {
          "name": "stderr",
          "output_type": "stream",
          "text": [
            "Epoch 7:  85%|████████▌ | 642/751 [00:06<00:01, 98.88batch/s, accuracy=98.4375%, loss=0.0839]"
          ]
        },
        {
          "name": "stdout",
          "output_type": "stream",
          "text": [
            "GB | Epoch 7 | Loss: 0.22590768337249756 | Accuracy: 96.875%\n",
            "GB | Epoch 7 | Loss: 0.16072995960712433 | Accuracy: 96.875%\n",
            "GB | Epoch 7 | Loss: 0.10690333694219589 | Accuracy: 96.875%\n",
            "GB | Epoch 7 | Loss: 0.058134786784648895 | Accuracy: 96.875%\n",
            "GB | Epoch 7 | Loss: 0.025187255814671516 | Accuracy: 100.0%\n",
            "GB | Epoch 7 | Loss: 0.23339085280895233 | Accuracy: 98.4375%\n",
            "GB | Epoch 7 | Loss: 0.031844355165958405 | Accuracy: 100.0%\n",
            "GB | Epoch 7 | Loss: 0.03485066443681717 | Accuracy: 100.0%\n",
            "GB | Epoch 7 | Loss: 0.09997934848070145 | Accuracy: 98.4375%\n",
            "GB | Epoch 7 | Loss: 0.038199037313461304 | Accuracy: 100.0%\n",
            "GB | Epoch 7 | Loss: 0.047626689076423645 | Accuracy: 100.0%\n",
            "GB | Epoch 7 | Loss: 0.047682423144578934 | Accuracy: 98.4375%\n",
            "GB | Epoch 7 | Loss: 0.05107731372117996 | Accuracy: 96.875%\n",
            "GB | Epoch 7 | Loss: 0.07152080535888672 | Accuracy: 96.875%\n",
            "GB | Epoch 7 | Loss: 0.05353265255689621 | Accuracy: 98.4375%\n",
            "GB | Epoch 7 | Loss: 0.04022128880023956 | Accuracy: 100.0%\n",
            "GB | Epoch 7 | Loss: 0.06763617694377899 | Accuracy: 98.4375%\n",
            "GB | Epoch 7 | Loss: 0.055531442165374756 | Accuracy: 98.4375%\n",
            "GB | Epoch 7 | Loss: 0.07789649069309235 | Accuracy: 96.875%\n",
            "GB | Epoch 7 | Loss: 0.04952029511332512 | Accuracy: 98.4375%\n",
            "GB | Epoch 7 | Loss: 0.08393912017345428 | Accuracy: 98.4375%\n"
          ]
        },
        {
          "name": "stderr",
          "output_type": "stream",
          "text": [
            "Epoch 7:  88%|████████▊ | 664/751 [00:06<00:00, 100.59batch/s, accuracy=95.3125%, loss=0.0984]"
          ]
        },
        {
          "name": "stdout",
          "output_type": "stream",
          "text": [
            "GB | Epoch 7 | Loss: 0.12040971964597702 | Accuracy: 98.4375%\n",
            "GB | Epoch 7 | Loss: 0.07327940315008163 | Accuracy: 98.4375%\n",
            "GB | Epoch 7 | Loss: 0.023580722510814667 | Accuracy: 100.0%\n",
            "GB | Epoch 7 | Loss: 0.018864639103412628 | Accuracy: 100.0%\n",
            "GB | Epoch 7 | Loss: 0.03203921020030975 | Accuracy: 100.0%\n",
            "GB | Epoch 7 | Loss: 0.04321014881134033 | Accuracy: 100.0%\n",
            "GB | Epoch 7 | Loss: 0.05512431263923645 | Accuracy: 98.4375%\n",
            "GB | Epoch 7 | Loss: 0.13327032327651978 | Accuracy: 96.875%\n",
            "GB | Epoch 7 | Loss: 0.007489780895411968 | Accuracy: 100.0%\n",
            "GB | Epoch 7 | Loss: 0.11621580272912979 | Accuracy: 98.4375%\n",
            "GB | Epoch 7 | Loss: 0.031919196248054504 | Accuracy: 98.4375%\n",
            "GB | Epoch 7 | Loss: 0.01632927544414997 | Accuracy: 100.0%\n",
            "GB | Epoch 7 | Loss: 0.04664864391088486 | Accuracy: 98.4375%\n",
            "GB | Epoch 7 | Loss: 0.0733375996351242 | Accuracy: 98.4375%\n",
            "GB | Epoch 7 | Loss: 0.045741088688373566 | Accuracy: 98.4375%\n",
            "GB | Epoch 7 | Loss: 0.017620494589209557 | Accuracy: 100.0%\n",
            "GB | Epoch 7 | Loss: 0.041951246559619904 | Accuracy: 98.4375%\n",
            "GB | Epoch 7 | Loss: 0.027027085423469543 | Accuracy: 100.0%\n",
            "GB | Epoch 7 | Loss: 0.017661092802882195 | Accuracy: 100.0%\n",
            "GB | Epoch 7 | Loss: 0.13756102323532104 | Accuracy: 96.875%\n",
            "GB | Epoch 7 | Loss: 0.05205092579126358 | Accuracy: 100.0%\n",
            "GB | Epoch 7 | Loss: 0.09839633107185364 | Accuracy: 95.3125%\n"
          ]
        },
        {
          "name": "stderr",
          "output_type": "stream",
          "text": [
            "Epoch 7:  91%|█████████▏| 686/751 [00:06<00:00, 97.25batch/s, accuracy=100.0%, loss=0.0429]"
          ]
        },
        {
          "name": "stdout",
          "output_type": "stream",
          "text": [
            "GB | Epoch 7 | Loss: 0.021636122837662697 | Accuracy: 100.0%\n",
            "GB | Epoch 7 | Loss: 0.06717672199010849 | Accuracy: 98.4375%\n",
            "GB | Epoch 7 | Loss: 0.0255466029047966 | Accuracy: 100.0%\n",
            "GB | Epoch 7 | Loss: 0.07039587944746017 | Accuracy: 96.875%\n",
            "GB | Epoch 7 | Loss: 0.05959249660372734 | Accuracy: 98.4375%\n",
            "GB | Epoch 7 | Loss: 0.13957223296165466 | Accuracy: 98.4375%\n",
            "GB | Epoch 7 | Loss: 0.020589567720890045 | Accuracy: 100.0%\n",
            "GB | Epoch 7 | Loss: 0.04292823001742363 | Accuracy: 98.4375%\n",
            "GB | Epoch 7 | Loss: 0.08611807972192764 | Accuracy: 95.3125%\n",
            "GB | Epoch 7 | Loss: 0.036465223878622055 | Accuracy: 100.0%\n",
            "GB | Epoch 7 | Loss: 0.06901077181100845 | Accuracy: 98.4375%\n",
            "GB | Epoch 7 | Loss: 0.05154198408126831 | Accuracy: 98.4375%\n",
            "GB | Epoch 7 | Loss: 0.032076820731163025 | Accuracy: 98.4375%\n",
            "GB | Epoch 7 | Loss: 0.04837975278496742 | Accuracy: 98.4375%\n",
            "GB | Epoch 7 | Loss: 0.019807416945695877 | Accuracy: 100.0%\n",
            "GB | Epoch 7 | Loss: 0.19615547358989716 | Accuracy: 96.875%\n",
            "GB | Epoch 7 | Loss: 0.024603581055998802 | Accuracy: 100.0%\n",
            "GB | Epoch 7 | Loss: 0.02489423006772995 | Accuracy: 100.0%\n",
            "GB | Epoch 7 | Loss: 0.04288666695356369 | Accuracy: 100.0%\n"
          ]
        },
        {
          "name": "stderr",
          "output_type": "stream",
          "text": [
            "Epoch 7:  94%|█████████▍| 707/751 [00:07<00:00, 97.53batch/s, accuracy=100.0%, loss=0.0304]"
          ]
        },
        {
          "name": "stdout",
          "output_type": "stream",
          "text": [
            "GB | Epoch 7 | Loss: 0.0745580792427063 | Accuracy: 98.4375%\n",
            "GB | Epoch 7 | Loss: 0.047781553119421005 | Accuracy: 100.0%\n",
            "GB | Epoch 7 | Loss: 0.017339682206511497 | Accuracy: 100.0%\n",
            "GB | Epoch 7 | Loss: 0.20651037991046906 | Accuracy: 95.3125%\n",
            "GB | Epoch 7 | Loss: 0.022157985717058182 | Accuracy: 100.0%\n",
            "GB | Epoch 7 | Loss: 0.0907631516456604 | Accuracy: 98.4375%\n",
            "GB | Epoch 7 | Loss: 0.07007917761802673 | Accuracy: 98.4375%\n",
            "GB | Epoch 7 | Loss: 0.027843372896313667 | Accuracy: 100.0%\n",
            "GB | Epoch 7 | Loss: 0.016211558133363724 | Accuracy: 100.0%\n",
            "GB | Epoch 7 | Loss: 0.01570829376578331 | Accuracy: 100.0%\n",
            "GB | Epoch 7 | Loss: 0.035974543541669846 | Accuracy: 98.4375%\n",
            "GB | Epoch 7 | Loss: 0.07961665093898773 | Accuracy: 98.4375%\n",
            "GB | Epoch 7 | Loss: 0.029434464871883392 | Accuracy: 100.0%\n",
            "GB | Epoch 7 | Loss: 0.1717306673526764 | Accuracy: 95.3125%\n",
            "GB | Epoch 7 | Loss: 0.011599174700677395 | Accuracy: 100.0%\n",
            "GB | Epoch 7 | Loss: 0.05985579267144203 | Accuracy: 98.4375%\n",
            "GB | Epoch 7 | Loss: 0.025932591408491135 | Accuracy: 100.0%\n",
            "GB | Epoch 7 | Loss: 0.1403622329235077 | Accuracy: 96.875%\n",
            "GB | Epoch 7 | Loss: 0.17221693694591522 | Accuracy: 96.875%\n",
            "GB | Epoch 7 | Loss: 0.03036903403699398 | Accuracy: 100.0%\n"
          ]
        },
        {
          "name": "stderr",
          "output_type": "stream",
          "text": [
            "Epoch 7:  96%|█████████▌| 718/751 [00:07<00:00, 98.26batch/s, accuracy=98.4375%, loss=0.247] "
          ]
        },
        {
          "name": "stdout",
          "output_type": "stream",
          "text": [
            "GB | Epoch 7 | Loss: 0.1333417147397995 | Accuracy: 98.4375%\n",
            "GB | Epoch 7 | Loss: 0.0336458683013916 | Accuracy: 100.0%\n",
            "GB | Epoch 7 | Loss: 0.11807306855916977 | Accuracy: 96.875%\n",
            "GB | Epoch 7 | Loss: 0.07294735312461853 | Accuracy: 98.4375%\n",
            "GB | Epoch 7 | Loss: 0.03652758523821831 | Accuracy: 100.0%\n",
            "GB | Epoch 7 | Loss: 0.08008218556642532 | Accuracy: 98.4375%\n",
            "GB | Epoch 7 | Loss: 0.035195499658584595 | Accuracy: 100.0%\n",
            "GB | Epoch 7 | Loss: 0.01973133161664009 | Accuracy: 100.0%\n",
            "GB | Epoch 7 | Loss: 0.029485270380973816 | Accuracy: 100.0%\n",
            "GB | Epoch 7 | Loss: 0.04239147529006004 | Accuracy: 98.4375%\n",
            "GB | Epoch 7 | Loss: 0.10262370854616165 | Accuracy: 98.4375%\n",
            "GB | Epoch 7 | Loss: 0.028503090143203735 | Accuracy: 100.0%\n",
            "GB | Epoch 7 | Loss: 0.028106892481446266 | Accuracy: 100.0%\n",
            "GB | Epoch 7 | Loss: 0.04599809646606445 | Accuracy: 100.0%\n",
            "GB | Epoch 7 | Loss: 0.026994256302714348 | Accuracy: 100.0%\n",
            "GB | Epoch 7 | Loss: 0.04745984077453613 | Accuracy: 100.0%\n",
            "GB | Epoch 7 | Loss: 0.06578937917947769 | Accuracy: 98.4375%\n",
            "GB | Epoch 7 | Loss: 0.02277432568371296 | Accuracy: 100.0%\n",
            "GB | Epoch 7 | Loss: 0.060642942786216736 | Accuracy: 96.875%\n",
            "GB | Epoch 7 | Loss: 0.04392610862851143 | Accuracy: 98.4375%\n",
            "GB | Epoch 7 | Loss: 0.24683474004268646 | Accuracy: 98.4375%\n"
          ]
        },
        {
          "name": "stderr",
          "output_type": "stream",
          "text": [
            "Epoch 7:  99%|█████████▊| 740/751 [00:07<00:00, 100.63batch/s, accuracy=100.0%, loss=0.014] "
          ]
        },
        {
          "name": "stdout",
          "output_type": "stream",
          "text": [
            "GB | Epoch 7 | Loss: 0.08233579993247986 | Accuracy: 96.875%\n",
            "GB | Epoch 7 | Loss: 0.016798343509435654 | Accuracy: 100.0%\n",
            "GB | Epoch 7 | Loss: 0.015028362162411213 | Accuracy: 100.0%\n",
            "GB | Epoch 7 | Loss: 0.03919100761413574 | Accuracy: 100.0%\n",
            "GB | Epoch 7 | Loss: 0.07630771398544312 | Accuracy: 96.875%\n",
            "GB | Epoch 7 | Loss: 0.018175575882196426 | Accuracy: 100.0%\n",
            "GB | Epoch 7 | Loss: 0.04311549663543701 | Accuracy: 100.0%\n",
            "GB | Epoch 7 | Loss: 0.032727986574172974 | Accuracy: 100.0%\n",
            "GB | Epoch 7 | Loss: 0.0291825570166111 | Accuracy: 100.0%\n",
            "GB | Epoch 7 | Loss: 0.024027248844504356 | Accuracy: 100.0%\n",
            "GB | Epoch 7 | Loss: 0.03641904145479202 | Accuracy: 100.0%\n",
            "GB | Epoch 7 | Loss: 0.03359663486480713 | Accuracy: 100.0%\n",
            "GB | Epoch 7 | Loss: 0.027590347453951836 | Accuracy: 100.0%\n",
            "GB | Epoch 7 | Loss: 0.10635267198085785 | Accuracy: 98.4375%\n",
            "GB | Epoch 7 | Loss: 0.05289279296994209 | Accuracy: 100.0%\n",
            "GB | Epoch 7 | Loss: 0.09051309525966644 | Accuracy: 98.4375%\n",
            "GB | Epoch 7 | Loss: 0.026402560994029045 | Accuracy: 100.0%\n",
            "GB | Epoch 7 | Loss: 0.050609130412340164 | Accuracy: 98.4375%\n",
            "GB | Epoch 7 | Loss: 0.06679584830999374 | Accuracy: 98.4375%\n",
            "GB | Epoch 7 | Loss: 0.05309813469648361 | Accuracy: 98.4375%\n",
            "GB | Epoch 7 | Loss: 0.022008737549185753 | Accuracy: 100.0%\n",
            "GB | Epoch 7 | Loss: 0.10158710181713104 | Accuracy: 96.875%\n",
            "GB | Epoch 7 | Loss: 0.013995357789099216 | Accuracy: 100.0%\n"
          ]
        },
        {
          "name": "stderr",
          "output_type": "stream",
          "text": [
            "Epoch 7: 100%|██████████| 751/751 [00:07<00:00, 96.22batch/s, accuracy=100.0%, loss=0.014] \n",
            "Epoch 8:   1%|▏         | 11/751 [00:00<00:26, 27.65batch/s, accuracy=98.4375%, loss=0.0589]"
          ]
        },
        {
          "name": "stdout",
          "output_type": "stream",
          "text": [
            "GB | Epoch 8 | Loss: 0.022219344973564148 | Accuracy: 100.0%\n",
            "GB | Epoch 8 | Loss: 0.032043710350990295 | Accuracy: 98.4375%\n",
            "GB | Epoch 8 | Loss: 0.03023637644946575 | Accuracy: 100.0%\n",
            "GB | Epoch 8 | Loss: 0.11238695681095123 | Accuracy: 98.4375%\n",
            "GB | Epoch 8 | Loss: 0.14935821294784546 | Accuracy: 96.875%\n",
            "GB | Epoch 8 | Loss: 0.030840406194329262 | Accuracy: 98.4375%\n",
            "GB | Epoch 8 | Loss: 0.10250109434127808 | Accuracy: 98.4375%\n",
            "GB | Epoch 8 | Loss: 0.042488791048526764 | Accuracy: 98.4375%\n",
            "GB | Epoch 8 | Loss: 0.02418402209877968 | Accuracy: 100.0%\n",
            "GB | Epoch 8 | Loss: 0.02131202444434166 | Accuracy: 100.0%\n",
            "GB | Epoch 8 | Loss: 0.0272398442029953 | Accuracy: 100.0%\n",
            "GB | Epoch 8 | Loss: 0.019165141507983208 | Accuracy: 100.0%\n",
            "GB | Epoch 8 | Loss: 0.03833106905221939 | Accuracy: 98.4375%\n",
            "GB | Epoch 8 | Loss: 0.07035484910011292 | Accuracy: 98.4375%\n",
            "GB | Epoch 8 | Loss: 0.038152482360601425 | Accuracy: 100.0%\n",
            "GB | Epoch 8 | Loss: 0.043306391686201096 | Accuracy: 100.0%\n",
            "GB | Epoch 8 | Loss: 0.045411378145217896 | Accuracy: 98.4375%\n",
            "GB | Epoch 8 | Loss: 0.0337601937353611 | Accuracy: 100.0%\n",
            "GB | Epoch 8 | Loss: 0.045121606439352036 | Accuracy: 100.0%\n",
            "GB | Epoch 8 | Loss: 0.02729235589504242 | Accuracy: 100.0%\n",
            "GB | Epoch 8 | Loss: 0.05891489237546921 | Accuracy: 98.4375%\n"
          ]
        },
        {
          "name": "stderr",
          "output_type": "stream",
          "text": [
            "Epoch 8:   4%|▍         | 33/751 [00:00<00:11, 64.52batch/s, accuracy=100.0%, loss=0.0347]  "
          ]
        },
        {
          "name": "stdout",
          "output_type": "stream",
          "text": [
            "GB | Epoch 8 | Loss: 0.03405703231692314 | Accuracy: 100.0%\n",
            "GB | Epoch 8 | Loss: 0.05569542199373245 | Accuracy: 98.4375%\n",
            "GB | Epoch 8 | Loss: 0.027995934709906578 | Accuracy: 98.4375%\n",
            "GB | Epoch 8 | Loss: 0.03188343718647957 | Accuracy: 100.0%\n",
            "GB | Epoch 8 | Loss: 0.0177341029047966 | Accuracy: 100.0%\n",
            "GB | Epoch 8 | Loss: 0.04284375533461571 | Accuracy: 98.4375%\n",
            "GB | Epoch 8 | Loss: 0.012130362913012505 | Accuracy: 100.0%\n",
            "GB | Epoch 8 | Loss: 0.09809132665395737 | Accuracy: 98.4375%\n",
            "GB | Epoch 8 | Loss: 0.01682085357606411 | Accuracy: 100.0%\n",
            "GB | Epoch 8 | Loss: 0.04256220906972885 | Accuracy: 100.0%\n",
            "GB | Epoch 8 | Loss: 0.13741035759449005 | Accuracy: 98.4375%\n",
            "GB | Epoch 8 | Loss: 0.03737277537584305 | Accuracy: 98.4375%\n",
            "GB | Epoch 8 | Loss: 0.09490177780389786 | Accuracy: 98.4375%\n",
            "GB | Epoch 8 | Loss: 0.07969911396503448 | Accuracy: 95.3125%\n",
            "GB | Epoch 8 | Loss: 0.18773749470710754 | Accuracy: 98.4375%\n",
            "GB | Epoch 8 | Loss: 0.012209970504045486 | Accuracy: 100.0%\n",
            "GB | Epoch 8 | Loss: 0.025812393054366112 | Accuracy: 100.0%\n",
            "GB | Epoch 8 | Loss: 0.021393368020653725 | Accuracy: 100.0%\n",
            "GB | Epoch 8 | Loss: 0.07027201354503632 | Accuracy: 96.875%\n",
            "GB | Epoch 8 | Loss: 0.05359423905611038 | Accuracy: 98.4375%\n",
            "GB | Epoch 8 | Loss: 0.03473681956529617 | Accuracy: 100.0%\n"
          ]
        },
        {
          "name": "stderr",
          "output_type": "stream",
          "text": [
            "Epoch 8:   7%|▋         | 55/751 [00:01<00:08, 83.62batch/s, accuracy=100.0%, loss=0.0162]"
          ]
        },
        {
          "name": "stdout",
          "output_type": "stream",
          "text": [
            "GB | Epoch 8 | Loss: 0.06441942602396011 | Accuracy: 96.875%\n",
            "GB | Epoch 8 | Loss: 0.036521948873996735 | Accuracy: 100.0%\n",
            "GB | Epoch 8 | Loss: 0.2581019699573517 | Accuracy: 98.4375%\n",
            "GB | Epoch 8 | Loss: 0.03454778715968132 | Accuracy: 100.0%\n",
            "GB | Epoch 8 | Loss: 0.026707474142313004 | Accuracy: 100.0%\n",
            "GB | Epoch 8 | Loss: 0.09664328396320343 | Accuracy: 96.875%\n",
            "GB | Epoch 8 | Loss: 0.1164093092083931 | Accuracy: 96.875%\n",
            "GB | Epoch 8 | Loss: 0.060620374977588654 | Accuracy: 96.875%\n",
            "GB | Epoch 8 | Loss: 0.02480432018637657 | Accuracy: 100.0%\n",
            "GB | Epoch 8 | Loss: 0.06328186392784119 | Accuracy: 98.4375%\n",
            "GB | Epoch 8 | Loss: 0.03380158543586731 | Accuracy: 100.0%\n",
            "GB | Epoch 8 | Loss: 0.04124113544821739 | Accuracy: 100.0%\n",
            "GB | Epoch 8 | Loss: 0.053783729672431946 | Accuracy: 96.875%\n",
            "GB | Epoch 8 | Loss: 0.05487770587205887 | Accuracy: 98.4375%\n",
            "GB | Epoch 8 | Loss: 0.03459629416465759 | Accuracy: 98.4375%\n",
            "GB | Epoch 8 | Loss: 0.08796343952417374 | Accuracy: 98.4375%\n",
            "GB | Epoch 8 | Loss: 0.039921872317790985 | Accuracy: 98.4375%\n",
            "GB | Epoch 8 | Loss: 0.03381148725748062 | Accuracy: 100.0%\n",
            "GB | Epoch 8 | Loss: 0.02676733396947384 | Accuracy: 100.0%\n",
            "GB | Epoch 8 | Loss: 0.01622525043785572 | Accuracy: 100.0%\n"
          ]
        },
        {
          "name": "stderr",
          "output_type": "stream",
          "text": [
            "Epoch 8:  10%|█         | 76/751 [00:01<00:07, 92.71batch/s, accuracy=98.4375%, loss=0.0222]"
          ]
        },
        {
          "name": "stdout",
          "output_type": "stream",
          "text": [
            "GB | Epoch 8 | Loss: 0.01826613023877144 | Accuracy: 100.0%\n",
            "GB | Epoch 8 | Loss: 0.06111413612961769 | Accuracy: 98.4375%\n",
            "GB | Epoch 8 | Loss: 0.031872984021902084 | Accuracy: 100.0%\n",
            "GB | Epoch 8 | Loss: 0.03544139117002487 | Accuracy: 100.0%\n",
            "GB | Epoch 8 | Loss: 0.10505624115467072 | Accuracy: 98.4375%\n",
            "GB | Epoch 8 | Loss: 0.01871613971889019 | Accuracy: 100.0%\n",
            "GB | Epoch 8 | Loss: 0.04704287648200989 | Accuracy: 98.4375%\n",
            "GB | Epoch 8 | Loss: 0.017591649666428566 | Accuracy: 100.0%\n",
            "GB | Epoch 8 | Loss: 0.0177400354295969 | Accuracy: 100.0%\n",
            "GB | Epoch 8 | Loss: 0.02996749058365822 | Accuracy: 98.4375%\n",
            "GB | Epoch 8 | Loss: 0.01839151419699192 | Accuracy: 100.0%\n",
            "GB | Epoch 8 | Loss: 0.251057505607605 | Accuracy: 96.875%\n",
            "GB | Epoch 8 | Loss: 0.026455052196979523 | Accuracy: 100.0%\n",
            "GB | Epoch 8 | Loss: 0.11344359815120697 | Accuracy: 96.875%\n",
            "GB | Epoch 8 | Loss: 0.022257765755057335 | Accuracy: 100.0%\n",
            "GB | Epoch 8 | Loss: 0.017270062118768692 | Accuracy: 100.0%\n",
            "GB | Epoch 8 | Loss: 0.018609503284096718 | Accuracy: 100.0%\n",
            "GB | Epoch 8 | Loss: 0.06268300861120224 | Accuracy: 96.875%\n",
            "GB | Epoch 8 | Loss: 0.07594846189022064 | Accuracy: 96.875%\n",
            "GB | Epoch 8 | Loss: 0.022211818024516106 | Accuracy: 98.4375%\n"
          ]
        },
        {
          "name": "stderr",
          "output_type": "stream",
          "text": [
            "Epoch 8:  13%|█▎        | 97/751 [00:01<00:06, 96.70batch/s, accuracy=100.0%, loss=0.0121]"
          ]
        },
        {
          "name": "stdout",
          "output_type": "stream",
          "text": [
            "GB | Epoch 8 | Loss: 0.07438762485980988 | Accuracy: 98.4375%\n",
            "GB | Epoch 8 | Loss: 0.06141012907028198 | Accuracy: 98.4375%\n",
            "GB | Epoch 8 | Loss: 0.06717170029878616 | Accuracy: 96.875%\n",
            "GB | Epoch 8 | Loss: 0.10083790123462677 | Accuracy: 98.4375%\n",
            "GB | Epoch 8 | Loss: 0.055114805698394775 | Accuracy: 98.4375%\n",
            "GB | Epoch 8 | Loss: 0.06263167411088943 | Accuracy: 98.4375%\n",
            "GB | Epoch 8 | Loss: 0.06175858527421951 | Accuracy: 95.3125%\n",
            "GB | Epoch 8 | Loss: 0.0489378497004509 | Accuracy: 98.4375%\n",
            "GB | Epoch 8 | Loss: 0.023437440395355225 | Accuracy: 100.0%\n",
            "GB | Epoch 8 | Loss: 0.027247678488492966 | Accuracy: 100.0%\n",
            "GB | Epoch 8 | Loss: 0.20602735877037048 | Accuracy: 98.4375%\n",
            "GB | Epoch 8 | Loss: 0.026188647374510765 | Accuracy: 100.0%\n",
            "GB | Epoch 8 | Loss: 0.01235086377710104 | Accuracy: 100.0%\n",
            "GB | Epoch 8 | Loss: 0.02390478365123272 | Accuracy: 100.0%\n",
            "GB | Epoch 8 | Loss: 0.033571235835552216 | Accuracy: 98.4375%\n",
            "GB | Epoch 8 | Loss: 0.028743507340550423 | Accuracy: 100.0%\n",
            "GB | Epoch 8 | Loss: 0.013226864859461784 | Accuracy: 100.0%\n",
            "GB | Epoch 8 | Loss: 0.050405796617269516 | Accuracy: 96.875%\n",
            "GB | Epoch 8 | Loss: 0.29003044962882996 | Accuracy: 98.4375%\n",
            "GB | Epoch 8 | Loss: 0.020782846957445145 | Accuracy: 100.0%\n",
            "GB | Epoch 8 | Loss: 0.03237228840589523 | Accuracy: 100.0%\n",
            "GB | Epoch 8 | Loss: 0.012145609594881535 | Accuracy: 100.0%\n"
          ]
        },
        {
          "name": "stderr",
          "output_type": "stream",
          "text": [
            "Epoch 8:  16%|█▌        | 120/751 [00:01<00:06, 103.29batch/s, accuracy=100.0%, loss=0.034]   "
          ]
        },
        {
          "name": "stdout",
          "output_type": "stream",
          "text": [
            "GB | Epoch 8 | Loss: 0.04082927480340004 | Accuracy: 98.4375%\n",
            "GB | Epoch 8 | Loss: 0.02264976128935814 | Accuracy: 100.0%\n",
            "GB | Epoch 8 | Loss: 0.013504309579730034 | Accuracy: 100.0%\n",
            "GB | Epoch 8 | Loss: 0.04303404316306114 | Accuracy: 98.4375%\n",
            "GB | Epoch 8 | Loss: 0.04263516888022423 | Accuracy: 98.4375%\n",
            "GB | Epoch 8 | Loss: 0.02511357143521309 | Accuracy: 100.0%\n",
            "GB | Epoch 8 | Loss: 0.028850659728050232 | Accuracy: 100.0%\n",
            "GB | Epoch 8 | Loss: 0.015292683616280556 | Accuracy: 100.0%\n",
            "GB | Epoch 8 | Loss: 0.012852123007178307 | Accuracy: 100.0%\n",
            "GB | Epoch 8 | Loss: 0.03525673598051071 | Accuracy: 98.4375%\n",
            "GB | Epoch 8 | Loss: 0.031468335539102554 | Accuracy: 98.4375%\n",
            "GB | Epoch 8 | Loss: 0.084442637860775 | Accuracy: 98.4375%\n",
            "GB | Epoch 8 | Loss: 0.16152091324329376 | Accuracy: 96.875%\n",
            "GB | Epoch 8 | Loss: 0.06333279609680176 | Accuracy: 98.4375%\n",
            "GB | Epoch 8 | Loss: 0.04695805534720421 | Accuracy: 98.4375%\n",
            "GB | Epoch 8 | Loss: 0.022503819316625595 | Accuracy: 100.0%\n",
            "GB | Epoch 8 | Loss: 0.2500516474246979 | Accuracy: 96.875%\n",
            "GB | Epoch 8 | Loss: 0.02171308360993862 | Accuracy: 100.0%\n",
            "GB | Epoch 8 | Loss: 0.019228249788284302 | Accuracy: 100.0%\n",
            "GB | Epoch 8 | Loss: 0.0270472913980484 | Accuracy: 100.0%\n",
            "GB | Epoch 8 | Loss: 0.05535915866494179 | Accuracy: 98.4375%\n",
            "GB | Epoch 8 | Loss: 0.03400607779622078 | Accuracy: 100.0%\n"
          ]
        },
        {
          "name": "stderr",
          "output_type": "stream",
          "text": [
            "Epoch 8:  19%|█▉        | 142/751 [00:01<00:05, 104.77batch/s, accuracy=100.0%, loss=0.0128]"
          ]
        },
        {
          "name": "stdout",
          "output_type": "stream",
          "text": [
            "GB | Epoch 8 | Loss: 0.032912954688072205 | Accuracy: 98.4375%\n",
            "GB | Epoch 8 | Loss: 0.023508967831730843 | Accuracy: 100.0%\n",
            "GB | Epoch 8 | Loss: 0.10997717827558517 | Accuracy: 96.875%\n",
            "GB | Epoch 8 | Loss: 0.023412592709064484 | Accuracy: 100.0%\n",
            "GB | Epoch 8 | Loss: 0.03762577101588249 | Accuracy: 98.4375%\n",
            "GB | Epoch 8 | Loss: 0.016098814085125923 | Accuracy: 100.0%\n",
            "GB | Epoch 8 | Loss: 0.01604929007589817 | Accuracy: 100.0%\n",
            "GB | Epoch 8 | Loss: 0.08245925605297089 | Accuracy: 98.4375%\n",
            "GB | Epoch 8 | Loss: 0.029838597401976585 | Accuracy: 100.0%\n",
            "GB | Epoch 8 | Loss: 0.05819854885339737 | Accuracy: 100.0%\n",
            "GB | Epoch 8 | Loss: 0.017799803987145424 | Accuracy: 100.0%\n",
            "GB | Epoch 8 | Loss: 0.019680527970194817 | Accuracy: 100.0%\n",
            "GB | Epoch 8 | Loss: 0.27972501516342163 | Accuracy: 98.4375%\n",
            "GB | Epoch 8 | Loss: 0.048607587814331055 | Accuracy: 98.4375%\n",
            "GB | Epoch 8 | Loss: 0.05231122300028801 | Accuracy: 98.4375%\n",
            "GB | Epoch 8 | Loss: 0.027546869590878487 | Accuracy: 100.0%\n",
            "GB | Epoch 8 | Loss: 0.11350821703672409 | Accuracy: 96.875%\n",
            "GB | Epoch 8 | Loss: 0.04095994308590889 | Accuracy: 98.4375%\n",
            "GB | Epoch 8 | Loss: 0.1519797146320343 | Accuracy: 98.4375%\n",
            "GB | Epoch 8 | Loss: 0.03340046480298042 | Accuracy: 98.4375%\n",
            "GB | Epoch 8 | Loss: 0.10671710222959518 | Accuracy: 96.875%\n",
            "GB | Epoch 8 | Loss: 0.012781060300767422 | Accuracy: 100.0%\n"
          ]
        },
        {
          "name": "stderr",
          "output_type": "stream",
          "text": [
            "Epoch 8:  22%|██▏       | 165/751 [00:02<00:05, 107.04batch/s, accuracy=98.4375%, loss=0.037]"
          ]
        },
        {
          "name": "stdout",
          "output_type": "stream",
          "text": [
            "GB | Epoch 8 | Loss: 0.028012694790959358 | Accuracy: 100.0%\n",
            "GB | Epoch 8 | Loss: 0.029203439131379128 | Accuracy: 98.4375%\n",
            "GB | Epoch 8 | Loss: 0.09088284522294998 | Accuracy: 98.4375%\n",
            "GB | Epoch 8 | Loss: 0.09974533319473267 | Accuracy: 96.875%\n",
            "GB | Epoch 8 | Loss: 0.01738569140434265 | Accuracy: 100.0%\n",
            "GB | Epoch 8 | Loss: 0.021733174100518227 | Accuracy: 100.0%\n",
            "GB | Epoch 8 | Loss: 0.05540087819099426 | Accuracy: 98.4375%\n",
            "GB | Epoch 8 | Loss: 0.025678493082523346 | Accuracy: 100.0%\n",
            "GB | Epoch 8 | Loss: 0.05406521260738373 | Accuracy: 96.875%\n",
            "GB | Epoch 8 | Loss: 0.009022732265293598 | Accuracy: 100.0%\n",
            "GB | Epoch 8 | Loss: 0.02964685671031475 | Accuracy: 100.0%\n",
            "GB | Epoch 8 | Loss: 0.027913585305213928 | Accuracy: 100.0%\n",
            "GB | Epoch 8 | Loss: 0.014386778697371483 | Accuracy: 100.0%\n",
            "GB | Epoch 8 | Loss: 0.011107344180345535 | Accuracy: 100.0%\n",
            "GB | Epoch 8 | Loss: 0.012337276712059975 | Accuracy: 100.0%\n",
            "GB | Epoch 8 | Loss: 0.03225819393992424 | Accuracy: 98.4375%\n",
            "GB | Epoch 8 | Loss: 0.05225412920117378 | Accuracy: 96.875%\n",
            "GB | Epoch 8 | Loss: 0.048527274280786514 | Accuracy: 98.4375%\n",
            "GB | Epoch 8 | Loss: 0.019853800535202026 | Accuracy: 100.0%\n",
            "GB | Epoch 8 | Loss: 0.017967939376831055 | Accuracy: 100.0%\n",
            "GB | Epoch 8 | Loss: 0.02917497605085373 | Accuracy: 98.4375%\n",
            "GB | Epoch 8 | Loss: 0.02490183524787426 | Accuracy: 100.0%\n",
            "GB | Epoch 8 | Loss: 0.03701106086373329 | Accuracy: 98.4375%\n"
          ]
        },
        {
          "name": "stderr",
          "output_type": "stream",
          "text": [
            "Epoch 8:  25%|██▌       | 189/751 [00:02<00:05, 109.47batch/s, accuracy=98.4375%, loss=0.0351]"
          ]
        },
        {
          "name": "stdout",
          "output_type": "stream",
          "text": [
            "GB | Epoch 8 | Loss: 0.0307939313352108 | Accuracy: 100.0%\n",
            "GB | Epoch 8 | Loss: 0.06754621118307114 | Accuracy: 98.4375%\n",
            "GB | Epoch 8 | Loss: 0.03295540437102318 | Accuracy: 100.0%\n",
            "GB | Epoch 8 | Loss: 0.051613423973321915 | Accuracy: 98.4375%\n",
            "GB | Epoch 8 | Loss: 0.08613088726997375 | Accuracy: 98.4375%\n",
            "GB | Epoch 8 | Loss: 0.07469899952411652 | Accuracy: 98.4375%\n",
            "GB | Epoch 8 | Loss: 0.021852178499102592 | Accuracy: 100.0%\n",
            "GB | Epoch 8 | Loss: 0.06880741566419601 | Accuracy: 98.4375%\n",
            "GB | Epoch 8 | Loss: 0.307597815990448 | Accuracy: 98.4375%\n",
            "GB | Epoch 8 | Loss: 0.06519478559494019 | Accuracy: 96.875%\n",
            "GB | Epoch 8 | Loss: 0.03917843475937843 | Accuracy: 100.0%\n",
            "GB | Epoch 8 | Loss: 0.011591081507503986 | Accuracy: 100.0%\n",
            "GB | Epoch 8 | Loss: 0.038658756762742996 | Accuracy: 98.4375%\n",
            "GB | Epoch 8 | Loss: 0.020031427964568138 | Accuracy: 100.0%\n",
            "GB | Epoch 8 | Loss: 0.05399824678897858 | Accuracy: 96.875%\n",
            "GB | Epoch 8 | Loss: 0.09016112983226776 | Accuracy: 96.875%\n",
            "GB | Epoch 8 | Loss: 0.08024239540100098 | Accuracy: 98.4375%\n",
            "GB | Epoch 8 | Loss: 0.01940464787185192 | Accuracy: 100.0%\n",
            "GB | Epoch 8 | Loss: 0.02562130242586136 | Accuracy: 100.0%\n",
            "GB | Epoch 8 | Loss: 0.016471391543745995 | Accuracy: 100.0%\n",
            "GB | Epoch 8 | Loss: 0.03321462869644165 | Accuracy: 100.0%\n",
            "GB | Epoch 8 | Loss: 0.03506084531545639 | Accuracy: 98.4375%\n"
          ]
        },
        {
          "name": "stderr",
          "output_type": "stream",
          "text": [
            "Epoch 8:  28%|██▊       | 213/751 [00:02<00:04, 112.21batch/s, accuracy=98.4375%, loss=0.0488]"
          ]
        },
        {
          "name": "stdout",
          "output_type": "stream",
          "text": [
            "GB | Epoch 8 | Loss: 0.01019213255494833 | Accuracy: 100.0%\n",
            "GB | Epoch 8 | Loss: 0.030918801203370094 | Accuracy: 100.0%\n",
            "GB | Epoch 8 | Loss: 0.08571368455886841 | Accuracy: 98.4375%\n",
            "GB | Epoch 8 | Loss: 0.01542573980987072 | Accuracy: 100.0%\n",
            "GB | Epoch 8 | Loss: 0.16430243849754333 | Accuracy: 95.3125%\n",
            "GB | Epoch 8 | Loss: 0.05460365116596222 | Accuracy: 96.875%\n",
            "GB | Epoch 8 | Loss: 0.04973569139838219 | Accuracy: 98.4375%\n",
            "GB | Epoch 8 | Loss: 0.025456339120864868 | Accuracy: 100.0%\n",
            "GB | Epoch 8 | Loss: 0.021575456485152245 | Accuracy: 100.0%\n",
            "GB | Epoch 8 | Loss: 0.048085398972034454 | Accuracy: 98.4375%\n",
            "GB | Epoch 8 | Loss: 0.02934999205172062 | Accuracy: 100.0%\n",
            "GB | Epoch 8 | Loss: 0.07884460687637329 | Accuracy: 96.875%\n",
            "GB | Epoch 8 | Loss: 0.02586124837398529 | Accuracy: 100.0%\n",
            "GB | Epoch 8 | Loss: 0.03158567100763321 | Accuracy: 100.0%\n",
            "GB | Epoch 8 | Loss: 0.018857484683394432 | Accuracy: 100.0%\n",
            "GB | Epoch 8 | Loss: 0.014499527402222157 | Accuracy: 100.0%\n",
            "GB | Epoch 8 | Loss: 0.055623121559619904 | Accuracy: 96.875%\n",
            "GB | Epoch 8 | Loss: 0.034784041345119476 | Accuracy: 100.0%\n",
            "GB | Epoch 8 | Loss: 0.013335363008081913 | Accuracy: 100.0%\n",
            "GB | Epoch 8 | Loss: 0.02482384815812111 | Accuracy: 100.0%\n",
            "GB | Epoch 8 | Loss: 0.027452191337943077 | Accuracy: 100.0%\n",
            "GB | Epoch 8 | Loss: 0.11077684909105301 | Accuracy: 96.875%\n",
            "GB | Epoch 8 | Loss: 0.5166031122207642 | Accuracy: 96.875%\n",
            "GB | Epoch 8 | Loss: 0.04881822317838669 | Accuracy: 98.4375%\n"
          ]
        },
        {
          "name": "stderr",
          "output_type": "stream",
          "text": [
            "Epoch 8:  32%|███▏      | 237/751 [00:02<00:04, 111.39batch/s, accuracy=100.0%, loss=0.0211] "
          ]
        },
        {
          "name": "stdout",
          "output_type": "stream",
          "text": [
            "GB | Epoch 8 | Loss: 0.06715358048677444 | Accuracy: 96.875%\n",
            "GB | Epoch 8 | Loss: 0.025532584637403488 | Accuracy: 100.0%\n",
            "GB | Epoch 8 | Loss: 0.03832600265741348 | Accuracy: 100.0%\n",
            "GB | Epoch 8 | Loss: 0.02977399155497551 | Accuracy: 100.0%\n",
            "GB | Epoch 8 | Loss: 0.16599251329898834 | Accuracy: 98.4375%\n",
            "GB | Epoch 8 | Loss: 0.01988385245203972 | Accuracy: 100.0%\n",
            "GB | Epoch 8 | Loss: 0.06388203054666519 | Accuracy: 98.4375%\n",
            "GB | Epoch 8 | Loss: 0.03574774041771889 | Accuracy: 98.4375%\n",
            "GB | Epoch 8 | Loss: 0.06350874155759811 | Accuracy: 98.4375%\n",
            "GB | Epoch 8 | Loss: 0.016337264329195023 | Accuracy: 100.0%\n",
            "GB | Epoch 8 | Loss: 0.05760843679308891 | Accuracy: 98.4375%\n",
            "GB | Epoch 8 | Loss: 0.02021169848740101 | Accuracy: 100.0%\n",
            "GB | Epoch 8 | Loss: 0.03163965046405792 | Accuracy: 98.4375%\n",
            "GB | Epoch 8 | Loss: 0.1653977930545807 | Accuracy: 98.4375%\n",
            "GB | Epoch 8 | Loss: 0.053987469524145126 | Accuracy: 98.4375%\n",
            "GB | Epoch 8 | Loss: 0.04493439197540283 | Accuracy: 98.4375%\n",
            "GB | Epoch 8 | Loss: 0.07212555408477783 | Accuracy: 95.3125%\n",
            "GB | Epoch 8 | Loss: 0.08266707509756088 | Accuracy: 98.4375%\n",
            "GB | Epoch 8 | Loss: 0.04246854409575462 | Accuracy: 98.4375%\n",
            "GB | Epoch 8 | Loss: 0.0165287833660841 | Accuracy: 100.0%\n",
            "GB | Epoch 8 | Loss: 0.020538056269288063 | Accuracy: 100.0%\n",
            "GB | Epoch 8 | Loss: 0.1788138598203659 | Accuracy: 98.4375%\n",
            "GB | Epoch 8 | Loss: 0.021148759871721268 | Accuracy: 100.0%\n"
          ]
        },
        {
          "name": "stderr",
          "output_type": "stream",
          "text": [
            "Epoch 8:  35%|███▍      | 261/751 [00:02<00:04, 112.55batch/s, accuracy=96.875%, loss=0.103]"
          ]
        },
        {
          "name": "stdout",
          "output_type": "stream",
          "text": [
            "GB | Epoch 8 | Loss: 0.025689153000712395 | Accuracy: 100.0%\n",
            "GB | Epoch 8 | Loss: 0.02315836027264595 | Accuracy: 100.0%\n",
            "GB | Epoch 8 | Loss: 0.03688183054327965 | Accuracy: 98.4375%\n",
            "GB | Epoch 8 | Loss: 0.065078504383564 | Accuracy: 98.4375%\n",
            "GB | Epoch 8 | Loss: 0.018034936860203743 | Accuracy: 100.0%\n",
            "GB | Epoch 8 | Loss: 0.029578428715467453 | Accuracy: 100.0%\n",
            "GB | Epoch 8 | Loss: 0.027339627966284752 | Accuracy: 100.0%\n",
            "GB | Epoch 8 | Loss: 0.176387220621109 | Accuracy: 96.875%\n",
            "GB | Epoch 8 | Loss: 0.013893240131437778 | Accuracy: 100.0%\n",
            "GB | Epoch 8 | Loss: 0.041605863720178604 | Accuracy: 98.4375%\n",
            "GB | Epoch 8 | Loss: 0.022585613653063774 | Accuracy: 100.0%\n",
            "GB | Epoch 8 | Loss: 0.026824340224266052 | Accuracy: 100.0%\n",
            "GB | Epoch 8 | Loss: 0.027306467294692993 | Accuracy: 100.0%\n",
            "GB | Epoch 8 | Loss: 0.02425263449549675 | Accuracy: 100.0%\n",
            "GB | Epoch 8 | Loss: 0.025171762332320213 | Accuracy: 100.0%\n",
            "GB | Epoch 8 | Loss: 0.02498093619942665 | Accuracy: 100.0%\n",
            "GB | Epoch 8 | Loss: 0.07613146305084229 | Accuracy: 96.875%\n",
            "GB | Epoch 8 | Loss: 0.022350052371621132 | Accuracy: 98.4375%\n",
            "GB | Epoch 8 | Loss: 0.015053549781441689 | Accuracy: 100.0%\n",
            "GB | Epoch 8 | Loss: 0.07607543468475342 | Accuracy: 96.875%\n",
            "GB | Epoch 8 | Loss: 0.009150740690529346 | Accuracy: 100.0%\n",
            "GB | Epoch 8 | Loss: 0.031160937622189522 | Accuracy: 100.0%\n",
            "GB | Epoch 8 | Loss: 0.022864703088998795 | Accuracy: 100.0%\n"
          ]
        },
        {
          "name": "stderr",
          "output_type": "stream",
          "text": [
            "Epoch 8:  38%|███▊      | 285/751 [00:03<00:04, 114.16batch/s, accuracy=100.0%, loss=0.0361]  "
          ]
        },
        {
          "name": "stdout",
          "output_type": "stream",
          "text": [
            "GB | Epoch 8 | Loss: 0.10263042151927948 | Accuracy: 96.875%\n",
            "GB | Epoch 8 | Loss: 0.025502502918243408 | Accuracy: 98.4375%\n",
            "GB | Epoch 8 | Loss: 0.04371499642729759 | Accuracy: 98.4375%\n",
            "GB | Epoch 8 | Loss: 0.02974986657500267 | Accuracy: 98.4375%\n",
            "GB | Epoch 8 | Loss: 0.047348737716674805 | Accuracy: 98.4375%\n",
            "GB | Epoch 8 | Loss: 0.02173534408211708 | Accuracy: 100.0%\n",
            "GB | Epoch 8 | Loss: 0.020694511011242867 | Accuracy: 100.0%\n",
            "GB | Epoch 8 | Loss: 0.026783250272274017 | Accuracy: 100.0%\n",
            "GB | Epoch 8 | Loss: 0.3535268008708954 | Accuracy: 98.4375%\n",
            "GB | Epoch 8 | Loss: 0.056041426956653595 | Accuracy: 98.4375%\n",
            "GB | Epoch 8 | Loss: 0.02539750002324581 | Accuracy: 100.0%\n",
            "GB | Epoch 8 | Loss: 0.10388313978910446 | Accuracy: 95.3125%\n",
            "GB | Epoch 8 | Loss: 0.025115737691521645 | Accuracy: 100.0%\n",
            "GB | Epoch 8 | Loss: 0.08423666656017303 | Accuracy: 96.875%\n",
            "GB | Epoch 8 | Loss: 0.16128265857696533 | Accuracy: 96.875%\n",
            "GB | Epoch 8 | Loss: 0.02751021645963192 | Accuracy: 100.0%\n",
            "GB | Epoch 8 | Loss: 0.023953529074788094 | Accuracy: 100.0%\n",
            "GB | Epoch 8 | Loss: 0.06377899646759033 | Accuracy: 98.4375%\n",
            "GB | Epoch 8 | Loss: 0.029709143564105034 | Accuracy: 100.0%\n",
            "GB | Epoch 8 | Loss: 0.013661575503647327 | Accuracy: 100.0%\n",
            "GB | Epoch 8 | Loss: 0.025012606754899025 | Accuracy: 100.0%\n",
            "GB | Epoch 8 | Loss: 0.0393955260515213 | Accuracy: 100.0%\n",
            "GB | Epoch 8 | Loss: 0.030390823259949684 | Accuracy: 98.4375%\n",
            "GB | Epoch 8 | Loss: 0.03612441569566727 | Accuracy: 100.0%\n"
          ]
        },
        {
          "name": "stderr",
          "output_type": "stream",
          "text": [
            "Epoch 8:  41%|████▏     | 310/751 [00:03<00:03, 112.47batch/s, accuracy=98.4375%, loss=0.0418]"
          ]
        },
        {
          "name": "stdout",
          "output_type": "stream",
          "text": [
            "GB | Epoch 8 | Loss: 0.04678899794816971 | Accuracy: 98.4375%\n",
            "GB | Epoch 8 | Loss: 0.022793971002101898 | Accuracy: 100.0%\n",
            "GB | Epoch 8 | Loss: 0.01459453720599413 | Accuracy: 100.0%\n",
            "GB | Epoch 8 | Loss: 0.01873786747455597 | Accuracy: 100.0%\n",
            "GB | Epoch 8 | Loss: 0.02832256630063057 | Accuracy: 98.4375%\n",
            "GB | Epoch 8 | Loss: 0.024032827466726303 | Accuracy: 100.0%\n",
            "GB | Epoch 8 | Loss: 0.01589048095047474 | Accuracy: 100.0%\n",
            "GB | Epoch 8 | Loss: 0.014777807518839836 | Accuracy: 100.0%\n",
            "GB | Epoch 8 | Loss: 0.05083012580871582 | Accuracy: 96.875%\n",
            "GB | Epoch 8 | Loss: 0.01961636357009411 | Accuracy: 100.0%\n",
            "GB | Epoch 8 | Loss: 0.01598983258008957 | Accuracy: 100.0%\n",
            "GB | Epoch 8 | Loss: 0.04007203131914139 | Accuracy: 98.4375%\n",
            "GB | Epoch 8 | Loss: 0.16337274014949799 | Accuracy: 96.875%\n",
            "GB | Epoch 8 | Loss: 0.016661323606967926 | Accuracy: 100.0%\n",
            "GB | Epoch 8 | Loss: 0.07642704993486404 | Accuracy: 96.875%\n",
            "GB | Epoch 8 | Loss: 0.04111630469560623 | Accuracy: 100.0%\n",
            "GB | Epoch 8 | Loss: 0.02078794129192829 | Accuracy: 100.0%\n",
            "GB | Epoch 8 | Loss: 0.020194364711642265 | Accuracy: 100.0%\n",
            "GB | Epoch 8 | Loss: 0.06506838649511337 | Accuracy: 98.4375%\n",
            "GB | Epoch 8 | Loss: 0.3380178213119507 | Accuracy: 96.875%\n",
            "GB | Epoch 8 | Loss: 0.11110199242830276 | Accuracy: 96.875%\n",
            "GB | Epoch 8 | Loss: 0.19818729162216187 | Accuracy: 98.4375%\n",
            "GB | Epoch 8 | Loss: 0.04178435355424881 | Accuracy: 98.4375%\n"
          ]
        },
        {
          "name": "stderr",
          "output_type": "stream",
          "text": [
            "Epoch 8:  43%|████▎     | 322/751 [00:03<00:04, 105.70batch/s, accuracy=98.4375%, loss=0.0575]"
          ]
        },
        {
          "name": "stdout",
          "output_type": "stream",
          "text": [
            "GB | Epoch 8 | Loss: 0.028358401730656624 | Accuracy: 100.0%\n",
            "GB | Epoch 8 | Loss: 0.29664918780326843 | Accuracy: 95.3125%\n",
            "GB | Epoch 8 | Loss: 0.03924847021698952 | Accuracy: 98.4375%\n",
            "GB | Epoch 8 | Loss: 0.12066210061311722 | Accuracy: 96.875%\n",
            "GB | Epoch 8 | Loss: 0.02069861814379692 | Accuracy: 100.0%\n",
            "GB | Epoch 8 | Loss: 0.05703195184469223 | Accuracy: 98.4375%\n",
            "GB | Epoch 8 | Loss: 0.02054426074028015 | Accuracy: 100.0%\n",
            "GB | Epoch 8 | Loss: 0.21110403537750244 | Accuracy: 98.4375%\n",
            "GB | Epoch 8 | Loss: 0.03290455788373947 | Accuracy: 98.4375%\n",
            "GB | Epoch 8 | Loss: 0.01989435777068138 | Accuracy: 100.0%\n",
            "GB | Epoch 8 | Loss: 0.019800672307610512 | Accuracy: 100.0%\n",
            "GB | Epoch 8 | Loss: 0.017031561583280563 | Accuracy: 100.0%\n",
            "GB | Epoch 8 | Loss: 0.032030295580625534 | Accuracy: 100.0%\n",
            "GB | Epoch 8 | Loss: 0.02163398265838623 | Accuracy: 100.0%\n",
            "GB | Epoch 8 | Loss: 0.024542173370718956 | Accuracy: 100.0%\n",
            "GB | Epoch 8 | Loss: 0.025642016902565956 | Accuracy: 100.0%\n",
            "GB | Epoch 8 | Loss: 0.09070070832967758 | Accuracy: 98.4375%\n",
            "GB | Epoch 8 | Loss: 0.029528185725212097 | Accuracy: 100.0%\n",
            "GB | Epoch 8 | Loss: 0.031804732978343964 | Accuracy: 100.0%\n",
            "GB | Epoch 8 | Loss: 0.05746644735336304 | Accuracy: 98.4375%\n"
          ]
        },
        {
          "name": "stderr",
          "output_type": "stream",
          "text": [
            "Epoch 8:  46%|████▌     | 344/751 [00:03<00:03, 106.28batch/s, accuracy=98.4375%, loss=0.046] "
          ]
        },
        {
          "name": "stdout",
          "output_type": "stream",
          "text": [
            "GB | Epoch 8 | Loss: 0.026474816724658012 | Accuracy: 100.0%\n",
            "GB | Epoch 8 | Loss: 0.049437906593084335 | Accuracy: 98.4375%\n",
            "GB | Epoch 8 | Loss: 0.017862455919384956 | Accuracy: 100.0%\n",
            "GB | Epoch 8 | Loss: 0.023905228823423386 | Accuracy: 100.0%\n",
            "GB | Epoch 8 | Loss: 0.015454093925654888 | Accuracy: 100.0%\n",
            "GB | Epoch 8 | Loss: 0.013610872440040112 | Accuracy: 100.0%\n",
            "GB | Epoch 8 | Loss: 0.035071805119514465 | Accuracy: 98.4375%\n",
            "GB | Epoch 8 | Loss: 0.015546225011348724 | Accuracy: 100.0%\n",
            "GB | Epoch 8 | Loss: 0.011912064626812935 | Accuracy: 100.0%\n",
            "GB | Epoch 8 | Loss: 0.050162672996520996 | Accuracy: 96.875%\n",
            "GB | Epoch 8 | Loss: 0.03431786969304085 | Accuracy: 98.4375%\n",
            "GB | Epoch 8 | Loss: 0.03906312212347984 | Accuracy: 98.4375%\n",
            "GB | Epoch 8 | Loss: 0.04477366432547569 | Accuracy: 98.4375%\n",
            "GB | Epoch 8 | Loss: 0.08407629281282425 | Accuracy: 96.875%\n",
            "GB | Epoch 8 | Loss: 0.01811962015926838 | Accuracy: 100.0%\n",
            "GB | Epoch 8 | Loss: 0.049697455018758774 | Accuracy: 98.4375%\n",
            "GB | Epoch 8 | Loss: 0.054101649671792984 | Accuracy: 98.4375%\n",
            "GB | Epoch 8 | Loss: 0.06878021359443665 | Accuracy: 98.4375%\n",
            "GB | Epoch 8 | Loss: 0.025769449770450592 | Accuracy: 100.0%\n",
            "GB | Epoch 8 | Loss: 0.04157458245754242 | Accuracy: 98.4375%\n",
            "GB | Epoch 8 | Loss: 0.04598754271864891 | Accuracy: 98.4375%\n"
          ]
        },
        {
          "name": "stderr",
          "output_type": "stream",
          "text": [
            "Epoch 8:  49%|████▉     | 367/751 [00:03<00:03, 106.96batch/s, accuracy=95.3125%, loss=0.0775]"
          ]
        },
        {
          "name": "stdout",
          "output_type": "stream",
          "text": [
            "GB | Epoch 8 | Loss: 0.032084546983242035 | Accuracy: 98.4375%\n",
            "GB | Epoch 8 | Loss: 0.030759377405047417 | Accuracy: 100.0%\n",
            "GB | Epoch 8 | Loss: 0.019673652946949005 | Accuracy: 100.0%\n",
            "GB | Epoch 8 | Loss: 0.03839859366416931 | Accuracy: 98.4375%\n",
            "GB | Epoch 8 | Loss: 0.04173681512475014 | Accuracy: 98.4375%\n",
            "GB | Epoch 8 | Loss: 0.045001063495874405 | Accuracy: 98.4375%\n",
            "GB | Epoch 8 | Loss: 0.0770268514752388 | Accuracy: 96.875%\n",
            "GB | Epoch 8 | Loss: 0.02019532397389412 | Accuracy: 100.0%\n",
            "GB | Epoch 8 | Loss: 0.02204425446689129 | Accuracy: 100.0%\n",
            "GB | Epoch 8 | Loss: 0.0765901729464531 | Accuracy: 98.4375%\n",
            "GB | Epoch 8 | Loss: 0.0335419736802578 | Accuracy: 100.0%\n",
            "GB | Epoch 8 | Loss: 0.029420187696814537 | Accuracy: 100.0%\n",
            "GB | Epoch 8 | Loss: 0.015588358044624329 | Accuracy: 100.0%\n",
            "GB | Epoch 8 | Loss: 0.020593108609318733 | Accuracy: 100.0%\n",
            "GB | Epoch 8 | Loss: 0.06788893789052963 | Accuracy: 98.4375%\n",
            "GB | Epoch 8 | Loss: 0.014198307879269123 | Accuracy: 100.0%\n",
            "GB | Epoch 8 | Loss: 0.14683951437473297 | Accuracy: 98.4375%\n",
            "GB | Epoch 8 | Loss: 0.04317334294319153 | Accuracy: 98.4375%\n",
            "GB | Epoch 8 | Loss: 0.07622813433408737 | Accuracy: 96.875%\n",
            "GB | Epoch 8 | Loss: 0.01797931082546711 | Accuracy: 100.0%\n",
            "GB | Epoch 8 | Loss: 0.043224744498729706 | Accuracy: 98.4375%\n",
            "GB | Epoch 8 | Loss: 0.0775124654173851 | Accuracy: 95.3125%\n"
          ]
        },
        {
          "name": "stderr",
          "output_type": "stream",
          "text": [
            "Epoch 8:  52%|█████▏    | 391/751 [00:04<00:03, 111.69batch/s, accuracy=100.0%, loss=0.0279] "
          ]
        },
        {
          "name": "stdout",
          "output_type": "stream",
          "text": [
            "GB | Epoch 8 | Loss: 0.015263207256793976 | Accuracy: 100.0%\n",
            "GB | Epoch 8 | Loss: 0.026092424988746643 | Accuracy: 98.4375%\n",
            "GB | Epoch 8 | Loss: 0.020792927592992783 | Accuracy: 100.0%\n",
            "GB | Epoch 8 | Loss: 0.04819553345441818 | Accuracy: 98.4375%\n",
            "GB | Epoch 8 | Loss: 0.028747204691171646 | Accuracy: 100.0%\n",
            "GB | Epoch 8 | Loss: 0.08030181378126144 | Accuracy: 98.4375%\n",
            "GB | Epoch 8 | Loss: 0.02504733018577099 | Accuracy: 100.0%\n",
            "GB | Epoch 8 | Loss: 0.0925898402929306 | Accuracy: 96.875%\n",
            "GB | Epoch 8 | Loss: 0.025899000465869904 | Accuracy: 100.0%\n",
            "GB | Epoch 8 | Loss: 0.0354289636015892 | Accuracy: 98.4375%\n",
            "GB | Epoch 8 | Loss: 0.019479911774396896 | Accuracy: 100.0%\n",
            "GB | Epoch 8 | Loss: 0.04318593069911003 | Accuracy: 98.4375%\n",
            "GB | Epoch 8 | Loss: 0.08623231202363968 | Accuracy: 98.4375%\n",
            "GB | Epoch 8 | Loss: 0.04760029911994934 | Accuracy: 98.4375%\n",
            "GB | Epoch 8 | Loss: 0.033974189311265945 | Accuracy: 98.4375%\n",
            "GB | Epoch 8 | Loss: 0.04736056923866272 | Accuracy: 98.4375%\n",
            "GB | Epoch 8 | Loss: 0.024206236004829407 | Accuracy: 100.0%\n",
            "GB | Epoch 8 | Loss: 0.0598524734377861 | Accuracy: 96.875%\n",
            "GB | Epoch 8 | Loss: 0.0258429367095232 | Accuracy: 98.4375%\n",
            "GB | Epoch 8 | Loss: 0.020537782460451126 | Accuracy: 100.0%\n",
            "GB | Epoch 8 | Loss: 0.02489311434328556 | Accuracy: 100.0%\n",
            "GB | Epoch 8 | Loss: 0.11711444705724716 | Accuracy: 96.875%\n",
            "GB | Epoch 8 | Loss: 0.015196220949292183 | Accuracy: 100.0%\n",
            "GB | Epoch 8 | Loss: 0.009869233705103397 | Accuracy: 100.0%\n"
          ]
        },
        {
          "name": "stderr",
          "output_type": "stream",
          "text": [
            "Epoch 8:  55%|█████▌    | 415/751 [00:04<00:03, 111.56batch/s, accuracy=98.4375%, loss=0.0722]"
          ]
        },
        {
          "name": "stdout",
          "output_type": "stream",
          "text": [
            "GB | Epoch 8 | Loss: 0.027931367978453636 | Accuracy: 100.0%\n",
            "GB | Epoch 8 | Loss: 0.018041832372546196 | Accuracy: 100.0%\n",
            "GB | Epoch 8 | Loss: 0.05932129919528961 | Accuracy: 96.875%\n",
            "GB | Epoch 8 | Loss: 0.024397816509008408 | Accuracy: 100.0%\n",
            "GB | Epoch 8 | Loss: 0.01870841532945633 | Accuracy: 100.0%\n",
            "GB | Epoch 8 | Loss: 0.01123847160488367 | Accuracy: 100.0%\n",
            "GB | Epoch 8 | Loss: 0.12924858927726746 | Accuracy: 96.875%\n",
            "GB | Epoch 8 | Loss: 0.021981609985232353 | Accuracy: 100.0%\n",
            "GB | Epoch 8 | Loss: 0.07662498950958252 | Accuracy: 95.3125%\n",
            "GB | Epoch 8 | Loss: 0.021021226420998573 | Accuracy: 100.0%\n",
            "GB | Epoch 8 | Loss: 0.031223483383655548 | Accuracy: 100.0%\n",
            "GB | Epoch 8 | Loss: 0.24641813337802887 | Accuracy: 95.3125%\n",
            "GB | Epoch 8 | Loss: 0.3036104440689087 | Accuracy: 98.4375%\n",
            "GB | Epoch 8 | Loss: 0.03090294450521469 | Accuracy: 100.0%\n",
            "GB | Epoch 8 | Loss: 0.025081805884838104 | Accuracy: 100.0%\n",
            "GB | Epoch 8 | Loss: 0.0431339256465435 | Accuracy: 98.4375%\n",
            "GB | Epoch 8 | Loss: 0.015028038993477821 | Accuracy: 100.0%\n",
            "GB | Epoch 8 | Loss: 0.025978434830904007 | Accuracy: 100.0%\n",
            "GB | Epoch 8 | Loss: 0.15072792768478394 | Accuracy: 98.4375%\n",
            "GB | Epoch 8 | Loss: 0.012514628469944 | Accuracy: 100.0%\n",
            "GB | Epoch 8 | Loss: 0.021825553849339485 | Accuracy: 100.0%\n",
            "GB | Epoch 8 | Loss: 0.02451961115002632 | Accuracy: 100.0%\n",
            "GB | Epoch 8 | Loss: 0.07220739126205444 | Accuracy: 98.4375%\n"
          ]
        },
        {
          "name": "stderr",
          "output_type": "stream",
          "text": [
            "Epoch 8:  58%|█████▊    | 439/751 [00:04<00:02, 110.06batch/s, accuracy=100.0%, loss=0.0194] "
          ]
        },
        {
          "name": "stdout",
          "output_type": "stream",
          "text": [
            "GB | Epoch 8 | Loss: 0.06422151625156403 | Accuracy: 98.4375%\n",
            "GB | Epoch 8 | Loss: 0.014654277823865414 | Accuracy: 100.0%\n",
            "GB | Epoch 8 | Loss: 0.1057116910815239 | Accuracy: 95.3125%\n",
            "GB | Epoch 8 | Loss: 0.023060286417603493 | Accuracy: 98.4375%\n",
            "GB | Epoch 8 | Loss: 0.033055566251277924 | Accuracy: 100.0%\n",
            "GB | Epoch 8 | Loss: 0.013762029819190502 | Accuracy: 100.0%\n",
            "GB | Epoch 8 | Loss: 0.06614832580089569 | Accuracy: 96.875%\n",
            "GB | Epoch 8 | Loss: 0.039917875081300735 | Accuracy: 100.0%\n",
            "GB | Epoch 8 | Loss: 0.02339576929807663 | Accuracy: 100.0%\n",
            "GB | Epoch 8 | Loss: 0.056947775185108185 | Accuracy: 98.4375%\n",
            "GB | Epoch 8 | Loss: 0.05296400561928749 | Accuracy: 98.4375%\n",
            "GB | Epoch 8 | Loss: 0.01917337253689766 | Accuracy: 100.0%\n",
            "GB | Epoch 8 | Loss: 0.04022820293903351 | Accuracy: 98.4375%\n",
            "GB | Epoch 8 | Loss: 0.021642720326781273 | Accuracy: 100.0%\n",
            "GB | Epoch 8 | Loss: 0.3669551908969879 | Accuracy: 98.4375%\n",
            "GB | Epoch 8 | Loss: 0.03925755247473717 | Accuracy: 98.4375%\n",
            "GB | Epoch 8 | Loss: 0.011782452464103699 | Accuracy: 100.0%\n",
            "GB | Epoch 8 | Loss: 0.028369760140776634 | Accuracy: 100.0%\n",
            "GB | Epoch 8 | Loss: 0.020819680765271187 | Accuracy: 100.0%\n",
            "GB | Epoch 8 | Loss: 0.022833852097392082 | Accuracy: 100.0%\n",
            "GB | Epoch 8 | Loss: 0.32312193512916565 | Accuracy: 98.4375%\n",
            "GB | Epoch 8 | Loss: 0.019432565197348595 | Accuracy: 100.0%\n"
          ]
        },
        {
          "name": "stderr",
          "output_type": "stream",
          "text": [
            "Epoch 8:  62%|██████▏   | 463/751 [00:04<00:02, 109.11batch/s, accuracy=98.4375%, loss=0.0391]"
          ]
        },
        {
          "name": "stdout",
          "output_type": "stream",
          "text": [
            "GB | Epoch 8 | Loss: 0.02304379642009735 | Accuracy: 100.0%\n",
            "GB | Epoch 8 | Loss: 0.1662408709526062 | Accuracy: 98.4375%\n",
            "GB | Epoch 8 | Loss: 0.018770063295960426 | Accuracy: 100.0%\n",
            "GB | Epoch 8 | Loss: 0.04044598340988159 | Accuracy: 98.4375%\n",
            "GB | Epoch 8 | Loss: 0.04135579243302345 | Accuracy: 98.4375%\n",
            "GB | Epoch 8 | Loss: 0.03438326716423035 | Accuracy: 98.4375%\n",
            "GB | Epoch 8 | Loss: 0.007078478578478098 | Accuracy: 100.0%\n",
            "GB | Epoch 8 | Loss: 0.03730087727308273 | Accuracy: 98.4375%\n",
            "GB | Epoch 8 | Loss: 0.024749932810664177 | Accuracy: 100.0%\n",
            "GB | Epoch 8 | Loss: 0.025667784735560417 | Accuracy: 100.0%\n",
            "GB | Epoch 8 | Loss: 0.015850963070988655 | Accuracy: 100.0%\n",
            "GB | Epoch 8 | Loss: 0.013012745417654514 | Accuracy: 100.0%\n",
            "GB | Epoch 8 | Loss: 0.03740572929382324 | Accuracy: 100.0%\n",
            "GB | Epoch 8 | Loss: 0.008976239711046219 | Accuracy: 100.0%\n",
            "GB | Epoch 8 | Loss: 0.040390171110630035 | Accuracy: 98.4375%\n",
            "GB | Epoch 8 | Loss: 0.01066320389509201 | Accuracy: 100.0%\n",
            "GB | Epoch 8 | Loss: 0.04591676592826843 | Accuracy: 98.4375%\n",
            "GB | Epoch 8 | Loss: 0.01077257376164198 | Accuracy: 100.0%\n",
            "GB | Epoch 8 | Loss: 0.023923173546791077 | Accuracy: 100.0%\n",
            "GB | Epoch 8 | Loss: 0.02894851751625538 | Accuracy: 100.0%\n",
            "GB | Epoch 8 | Loss: 0.024072125554084778 | Accuracy: 100.0%\n",
            "GB | Epoch 8 | Loss: 0.03435730189085007 | Accuracy: 98.4375%\n",
            "GB | Epoch 8 | Loss: 0.039104677736759186 | Accuracy: 98.4375%\n"
          ]
        },
        {
          "name": "stderr",
          "output_type": "stream",
          "text": [
            "Epoch 8:  65%|██████▍   | 487/751 [00:04<00:02, 110.46batch/s, accuracy=100.0%, loss=0.0252]"
          ]
        },
        {
          "name": "stdout",
          "output_type": "stream",
          "text": [
            "GB | Epoch 8 | Loss: 0.019231578335165977 | Accuracy: 100.0%\n",
            "GB | Epoch 8 | Loss: 0.01174786128103733 | Accuracy: 100.0%\n",
            "GB | Epoch 8 | Loss: 0.012574360705912113 | Accuracy: 100.0%\n",
            "GB | Epoch 8 | Loss: 0.01164284534752369 | Accuracy: 100.0%\n",
            "GB | Epoch 8 | Loss: 0.08909183740615845 | Accuracy: 96.875%\n",
            "GB | Epoch 8 | Loss: 0.06116074323654175 | Accuracy: 98.4375%\n",
            "GB | Epoch 8 | Loss: 0.05905817449092865 | Accuracy: 96.875%\n",
            "GB | Epoch 8 | Loss: 0.03748490288853645 | Accuracy: 100.0%\n",
            "GB | Epoch 8 | Loss: 0.06094808131456375 | Accuracy: 98.4375%\n",
            "GB | Epoch 8 | Loss: 0.026503443717956543 | Accuracy: 100.0%\n",
            "GB | Epoch 8 | Loss: 0.027887925505638123 | Accuracy: 98.4375%\n",
            "GB | Epoch 8 | Loss: 0.1877811998128891 | Accuracy: 98.4375%\n",
            "GB | Epoch 8 | Loss: 0.02871006354689598 | Accuracy: 100.0%\n",
            "GB | Epoch 8 | Loss: 0.05763997510075569 | Accuracy: 98.4375%\n",
            "GB | Epoch 8 | Loss: 0.018651749938726425 | Accuracy: 100.0%\n",
            "GB | Epoch 8 | Loss: 0.021141208708286285 | Accuracy: 100.0%\n",
            "GB | Epoch 8 | Loss: 0.025702619925141335 | Accuracy: 100.0%\n",
            "GB | Epoch 8 | Loss: 0.03977157548069954 | Accuracy: 100.0%\n",
            "GB | Epoch 8 | Loss: 0.049439746886491776 | Accuracy: 98.4375%\n",
            "GB | Epoch 8 | Loss: 0.014695470221340656 | Accuracy: 100.0%\n",
            "GB | Epoch 8 | Loss: 0.054732851684093475 | Accuracy: 96.875%\n",
            "GB | Epoch 8 | Loss: 0.020628968253731728 | Accuracy: 100.0%\n",
            "GB | Epoch 8 | Loss: 0.025161737576127052 | Accuracy: 100.0%\n"
          ]
        },
        {
          "name": "stderr",
          "output_type": "stream",
          "text": [
            "Epoch 8:  68%|██████▊   | 511/751 [00:05<00:02, 110.59batch/s, accuracy=95.3125%, loss=0.124]"
          ]
        },
        {
          "name": "stdout",
          "output_type": "stream",
          "text": [
            "GB | Epoch 8 | Loss: 0.15563489496707916 | Accuracy: 98.4375%\n",
            "GB | Epoch 8 | Loss: 0.037819769233465195 | Accuracy: 98.4375%\n",
            "GB | Epoch 8 | Loss: 0.019970830529928207 | Accuracy: 100.0%\n",
            "GB | Epoch 8 | Loss: 0.10584433376789093 | Accuracy: 96.875%\n",
            "GB | Epoch 8 | Loss: 0.208139106631279 | Accuracy: 96.875%\n",
            "GB | Epoch 8 | Loss: 0.14101336896419525 | Accuracy: 95.3125%\n",
            "GB | Epoch 8 | Loss: 0.023352622985839844 | Accuracy: 100.0%\n",
            "GB | Epoch 8 | Loss: 0.02397298440337181 | Accuracy: 100.0%\n",
            "GB | Epoch 8 | Loss: 0.021460629999637604 | Accuracy: 100.0%\n",
            "GB | Epoch 8 | Loss: 0.04575520008802414 | Accuracy: 98.4375%\n",
            "GB | Epoch 8 | Loss: 0.02672874554991722 | Accuracy: 100.0%\n",
            "GB | Epoch 8 | Loss: 0.04711860045790672 | Accuracy: 98.4375%\n",
            "GB | Epoch 8 | Loss: 0.16494260728359222 | Accuracy: 98.4375%\n",
            "GB | Epoch 8 | Loss: 0.02347767911851406 | Accuracy: 100.0%\n",
            "GB | Epoch 8 | Loss: 0.07215496152639389 | Accuracy: 98.4375%\n",
            "GB | Epoch 8 | Loss: 0.07603895664215088 | Accuracy: 96.875%\n",
            "GB | Epoch 8 | Loss: 0.03032021038234234 | Accuracy: 100.0%\n",
            "GB | Epoch 8 | Loss: 0.03313992917537689 | Accuracy: 100.0%\n",
            "GB | Epoch 8 | Loss: 0.01924806647002697 | Accuracy: 100.0%\n",
            "GB | Epoch 8 | Loss: 0.02749486267566681 | Accuracy: 100.0%\n",
            "GB | Epoch 8 | Loss: 0.01512609701603651 | Accuracy: 100.0%\n",
            "GB | Epoch 8 | Loss: 0.02405230514705181 | Accuracy: 100.0%\n",
            "GB | Epoch 8 | Loss: 0.12379667907953262 | Accuracy: 95.3125%\n"
          ]
        },
        {
          "name": "stderr",
          "output_type": "stream",
          "text": [
            "Epoch 8:  70%|██████▉   | 523/751 [00:05<00:02, 110.02batch/s, accuracy=100.0%, loss=0.0182]"
          ]
        },
        {
          "name": "stdout",
          "output_type": "stream",
          "text": [
            "GB | Epoch 8 | Loss: 0.12038634717464447 | Accuracy: 96.875%\n",
            "GB | Epoch 8 | Loss: 0.010593395680189133 | Accuracy: 100.0%\n",
            "GB | Epoch 8 | Loss: 0.01156205590814352 | Accuracy: 100.0%\n",
            "GB | Epoch 8 | Loss: 0.35425132513046265 | Accuracy: 92.1875%\n",
            "GB | Epoch 8 | Loss: 0.046866275370121 | Accuracy: 98.4375%\n",
            "GB | Epoch 8 | Loss: 0.11258083581924438 | Accuracy: 96.875%\n",
            "GB | Epoch 8 | Loss: 0.08232780545949936 | Accuracy: 98.4375%\n",
            "GB | Epoch 8 | Loss: 0.09600525349378586 | Accuracy: 96.875%\n",
            "GB | Epoch 8 | Loss: 0.016384238377213478 | Accuracy: 100.0%\n",
            "GB | Epoch 8 | Loss: 0.02799764648079872 | Accuracy: 100.0%\n",
            "GB | Epoch 8 | Loss: 0.02581646293401718 | Accuracy: 100.0%\n",
            "GB | Epoch 8 | Loss: 0.11706007272005081 | Accuracy: 96.875%\n",
            "GB | Epoch 8 | Loss: 0.03331228345632553 | Accuracy: 98.4375%\n",
            "GB | Epoch 8 | Loss: 0.044831059873104095 | Accuracy: 98.4375%\n",
            "GB | Epoch 8 | Loss: 0.015791775658726692 | Accuracy: 100.0%\n",
            "GB | Epoch 8 | Loss: 0.015078636817634106 | Accuracy: 100.0%\n",
            "GB | Epoch 8 | Loss: 0.014947806484997272 | Accuracy: 100.0%\n",
            "GB | Epoch 8 | Loss: 0.01947459764778614 | Accuracy: 100.0%\n",
            "GB | Epoch 8 | Loss: 0.011645237915217876 | Accuracy: 100.0%\n",
            "GB | Epoch 8 | Loss: 0.03300197422504425 | Accuracy: 98.4375%\n",
            "GB | Epoch 8 | Loss: 0.010408291593194008 | Accuracy: 100.0%\n",
            "GB | Epoch 8 | Loss: 0.010993417352437973 | Accuracy: 100.0%\n",
            "GB | Epoch 8 | Loss: 0.018172238022089005 | Accuracy: 100.0%\n"
          ]
        },
        {
          "name": "stderr",
          "output_type": "stream",
          "text": [
            "Epoch 8:  73%|███████▎  | 547/751 [00:05<00:01, 111.08batch/s, accuracy=98.4375%, loss=0.039]"
          ]
        },
        {
          "name": "stdout",
          "output_type": "stream",
          "text": [
            "GB | Epoch 8 | Loss: 0.018950780853629112 | Accuracy: 100.0%\n",
            "GB | Epoch 8 | Loss: 0.12383586913347244 | Accuracy: 98.4375%\n",
            "GB | Epoch 8 | Loss: 0.04551481828093529 | Accuracy: 98.4375%\n",
            "GB | Epoch 8 | Loss: 0.04796158894896507 | Accuracy: 98.4375%\n",
            "GB | Epoch 8 | Loss: 0.19093191623687744 | Accuracy: 98.4375%\n",
            "GB | Epoch 8 | Loss: 0.041264645755290985 | Accuracy: 98.4375%\n",
            "GB | Epoch 8 | Loss: 0.023443249985575676 | Accuracy: 100.0%\n",
            "GB | Epoch 8 | Loss: 0.06257768720388412 | Accuracy: 98.4375%\n",
            "GB | Epoch 8 | Loss: 0.05298347771167755 | Accuracy: 98.4375%\n",
            "GB | Epoch 8 | Loss: 0.01818392612040043 | Accuracy: 100.0%\n",
            "GB | Epoch 8 | Loss: 0.022577160969376564 | Accuracy: 100.0%\n",
            "GB | Epoch 8 | Loss: 0.04191999509930611 | Accuracy: 98.4375%\n",
            "GB | Epoch 8 | Loss: 0.07064370065927505 | Accuracy: 98.4375%\n",
            "GB | Epoch 8 | Loss: 0.03876478224992752 | Accuracy: 100.0%\n",
            "GB | Epoch 8 | Loss: 0.019271768629550934 | Accuracy: 100.0%\n",
            "GB | Epoch 8 | Loss: 0.0317724384367466 | Accuracy: 98.4375%\n",
            "GB | Epoch 8 | Loss: 0.022021906450390816 | Accuracy: 100.0%\n",
            "GB | Epoch 8 | Loss: 0.017798632383346558 | Accuracy: 100.0%\n",
            "GB | Epoch 8 | Loss: 0.02267434634268284 | Accuracy: 100.0%\n",
            "GB | Epoch 8 | Loss: 0.02607004903256893 | Accuracy: 100.0%\n",
            "GB | Epoch 8 | Loss: 0.028206512331962585 | Accuracy: 100.0%\n",
            "GB | Epoch 8 | Loss: 0.03897020220756531 | Accuracy: 98.4375%\n"
          ]
        },
        {
          "name": "stderr",
          "output_type": "stream",
          "text": [
            "Epoch 8:  76%|███████▌  | 571/751 [00:05<00:01, 111.00batch/s, accuracy=100.0%, loss=0.0152] "
          ]
        },
        {
          "name": "stdout",
          "output_type": "stream",
          "text": [
            "GB | Epoch 8 | Loss: 0.015438290312886238 | Accuracy: 100.0%\n",
            "GB | Epoch 8 | Loss: 0.028580443933606148 | Accuracy: 100.0%\n",
            "GB | Epoch 8 | Loss: 0.026177050545811653 | Accuracy: 98.4375%\n",
            "GB | Epoch 8 | Loss: 0.020104965195059776 | Accuracy: 100.0%\n",
            "GB | Epoch 8 | Loss: 0.0977066233754158 | Accuracy: 95.3125%\n",
            "GB | Epoch 8 | Loss: 0.012489784508943558 | Accuracy: 100.0%\n",
            "GB | Epoch 8 | Loss: 0.015540341846644878 | Accuracy: 100.0%\n",
            "GB | Epoch 8 | Loss: 0.04022077098488808 | Accuracy: 98.4375%\n",
            "GB | Epoch 8 | Loss: 0.03970521688461304 | Accuracy: 100.0%\n",
            "GB | Epoch 8 | Loss: 0.02599583938717842 | Accuracy: 100.0%\n",
            "GB | Epoch 8 | Loss: 0.025280682370066643 | Accuracy: 100.0%\n",
            "GB | Epoch 8 | Loss: 0.013561299070715904 | Accuracy: 100.0%\n",
            "GB | Epoch 8 | Loss: 0.04943206533789635 | Accuracy: 98.4375%\n",
            "GB | Epoch 8 | Loss: 0.04982545226812363 | Accuracy: 98.4375%\n",
            "GB | Epoch 8 | Loss: 0.016277171671390533 | Accuracy: 100.0%\n",
            "GB | Epoch 8 | Loss: 0.029905211180448532 | Accuracy: 98.4375%\n",
            "GB | Epoch 8 | Loss: 0.016109244897961617 | Accuracy: 100.0%\n",
            "GB | Epoch 8 | Loss: 0.014883853495121002 | Accuracy: 100.0%\n",
            "GB | Epoch 8 | Loss: 0.023507583886384964 | Accuracy: 100.0%\n",
            "GB | Epoch 8 | Loss: 0.018720094114542007 | Accuracy: 100.0%\n",
            "GB | Epoch 8 | Loss: 0.02400127612054348 | Accuracy: 100.0%\n",
            "GB | Epoch 8 | Loss: 0.016180027276277542 | Accuracy: 100.0%\n",
            "GB | Epoch 8 | Loss: 0.053383633494377136 | Accuracy: 96.875%\n",
            "GB | Epoch 8 | Loss: 0.015216213651001453 | Accuracy: 100.0%\n"
          ]
        },
        {
          "name": "stderr",
          "output_type": "stream",
          "text": [
            "Epoch 8:  79%|███████▉  | 595/751 [00:05<00:01, 112.37batch/s, accuracy=98.4375%, loss=0.0305]"
          ]
        },
        {
          "name": "stdout",
          "output_type": "stream",
          "text": [
            "GB | Epoch 8 | Loss: 0.33544057607650757 | Accuracy: 96.875%\n",
            "GB | Epoch 8 | Loss: 0.08119047433137894 | Accuracy: 98.4375%\n",
            "GB | Epoch 8 | Loss: 0.06340260058641434 | Accuracy: 98.4375%\n",
            "GB | Epoch 8 | Loss: 0.03227562457323074 | Accuracy: 100.0%\n",
            "GB | Epoch 8 | Loss: 0.024784421548247337 | Accuracy: 100.0%\n",
            "GB | Epoch 8 | Loss: 0.05041065812110901 | Accuracy: 98.4375%\n",
            "GB | Epoch 8 | Loss: 0.03361104801297188 | Accuracy: 98.4375%\n",
            "GB | Epoch 8 | Loss: 0.10958942770957947 | Accuracy: 96.875%\n",
            "GB | Epoch 8 | Loss: 0.02941574715077877 | Accuracy: 100.0%\n",
            "GB | Epoch 8 | Loss: 0.03194761648774147 | Accuracy: 98.4375%\n",
            "GB | Epoch 8 | Loss: 0.14561328291893005 | Accuracy: 96.875%\n",
            "GB | Epoch 8 | Loss: 0.04836135730147362 | Accuracy: 98.4375%\n",
            "GB | Epoch 8 | Loss: 0.08807048946619034 | Accuracy: 96.875%\n",
            "GB | Epoch 8 | Loss: 0.019815098494291306 | Accuracy: 100.0%\n",
            "GB | Epoch 8 | Loss: 0.14062653481960297 | Accuracy: 96.875%\n",
            "GB | Epoch 8 | Loss: 0.028904441744089127 | Accuracy: 100.0%\n",
            "GB | Epoch 8 | Loss: 0.0538623183965683 | Accuracy: 98.4375%\n",
            "GB | Epoch 8 | Loss: 0.01836882345378399 | Accuracy: 100.0%\n",
            "GB | Epoch 8 | Loss: 0.013957405462861061 | Accuracy: 100.0%\n",
            "GB | Epoch 8 | Loss: 0.03315798193216324 | Accuracy: 98.4375%\n",
            "GB | Epoch 8 | Loss: 0.15594159066677094 | Accuracy: 98.4375%\n",
            "GB | Epoch 8 | Loss: 0.028536617755889893 | Accuracy: 100.0%\n",
            "GB | Epoch 8 | Loss: 0.02158978581428528 | Accuracy: 100.0%\n",
            "GB | Epoch 8 | Loss: 0.030492546036839485 | Accuracy: 98.4375%\n"
          ]
        },
        {
          "name": "stderr",
          "output_type": "stream",
          "text": [
            "Epoch 8:  82%|████████▏ | 619/751 [00:06<00:01, 109.61batch/s, accuracy=100.0%, loss=0.0165]"
          ]
        },
        {
          "name": "stdout",
          "output_type": "stream",
          "text": [
            "GB | Epoch 8 | Loss: 0.021931875497102737 | Accuracy: 100.0%\n",
            "GB | Epoch 8 | Loss: 0.24716633558273315 | Accuracy: 98.4375%\n",
            "GB | Epoch 8 | Loss: 0.012859347276389599 | Accuracy: 100.0%\n",
            "GB | Epoch 8 | Loss: 0.016867665573954582 | Accuracy: 100.0%\n",
            "GB | Epoch 8 | Loss: 0.0884043499827385 | Accuracy: 96.875%\n",
            "GB | Epoch 8 | Loss: 0.15779955685138702 | Accuracy: 96.875%\n",
            "GB | Epoch 8 | Loss: 0.10543987154960632 | Accuracy: 96.875%\n",
            "GB | Epoch 8 | Loss: 0.02104220539331436 | Accuracy: 100.0%\n",
            "GB | Epoch 8 | Loss: 0.028101326897740364 | Accuracy: 100.0%\n",
            "GB | Epoch 8 | Loss: 0.029989855363965034 | Accuracy: 98.4375%\n",
            "GB | Epoch 8 | Loss: 0.028694644570350647 | Accuracy: 100.0%\n",
            "GB | Epoch 8 | Loss: 0.011653355322778225 | Accuracy: 100.0%\n",
            "GB | Epoch 8 | Loss: 0.01833868771791458 | Accuracy: 100.0%\n",
            "GB | Epoch 8 | Loss: 0.03693661093711853 | Accuracy: 98.4375%\n",
            "GB | Epoch 8 | Loss: 0.07188165932893753 | Accuracy: 98.4375%\n",
            "GB | Epoch 8 | Loss: 0.11103740334510803 | Accuracy: 98.4375%\n",
            "GB | Epoch 8 | Loss: 0.01732476055622101 | Accuracy: 100.0%\n",
            "GB | Epoch 8 | Loss: 0.017080727964639664 | Accuracy: 100.0%\n",
            "GB | Epoch 8 | Loss: 0.01341632753610611 | Accuracy: 100.0%\n",
            "GB | Epoch 8 | Loss: 0.0809880867600441 | Accuracy: 98.4375%\n",
            "GB | Epoch 8 | Loss: 0.012534779496490955 | Accuracy: 100.0%\n",
            "GB | Epoch 8 | Loss: 0.01648915931582451 | Accuracy: 100.0%\n"
          ]
        },
        {
          "name": "stderr",
          "output_type": "stream",
          "text": [
            "Epoch 8:  85%|████████▌ | 642/751 [00:06<00:00, 111.27batch/s, accuracy=98.4375%, loss=0.0373]"
          ]
        },
        {
          "name": "stdout",
          "output_type": "stream",
          "text": [
            "GB | Epoch 8 | Loss: 0.020945914089679718 | Accuracy: 100.0%\n",
            "GB | Epoch 8 | Loss: 0.028839128091931343 | Accuracy: 100.0%\n",
            "GB | Epoch 8 | Loss: 0.025674091652035713 | Accuracy: 100.0%\n",
            "GB | Epoch 8 | Loss: 0.10602869838476181 | Accuracy: 96.875%\n",
            "GB | Epoch 8 | Loss: 0.03343566507101059 | Accuracy: 98.4375%\n",
            "GB | Epoch 8 | Loss: 0.013401745818555355 | Accuracy: 100.0%\n",
            "GB | Epoch 8 | Loss: 0.012602955102920532 | Accuracy: 100.0%\n",
            "GB | Epoch 8 | Loss: 0.05247361212968826 | Accuracy: 98.4375%\n",
            "GB | Epoch 8 | Loss: 0.21121540665626526 | Accuracy: 95.3125%\n",
            "GB | Epoch 8 | Loss: 0.02238539792597294 | Accuracy: 100.0%\n",
            "GB | Epoch 8 | Loss: 0.07105083763599396 | Accuracy: 98.4375%\n",
            "GB | Epoch 8 | Loss: 0.02557647041976452 | Accuracy: 100.0%\n",
            "GB | Epoch 8 | Loss: 0.030679499730467796 | Accuracy: 100.0%\n",
            "GB | Epoch 8 | Loss: 0.05753280222415924 | Accuracy: 98.4375%\n",
            "GB | Epoch 8 | Loss: 0.030758878216147423 | Accuracy: 100.0%\n",
            "GB | Epoch 8 | Loss: 0.023279951885342598 | Accuracy: 100.0%\n",
            "GB | Epoch 8 | Loss: 0.05346670746803284 | Accuracy: 98.4375%\n",
            "GB | Epoch 8 | Loss: 0.014494654722511768 | Accuracy: 100.0%\n",
            "GB | Epoch 8 | Loss: 0.01760886050760746 | Accuracy: 100.0%\n",
            "GB | Epoch 8 | Loss: 0.024178585037589073 | Accuracy: 100.0%\n",
            "GB | Epoch 8 | Loss: 0.054019179195165634 | Accuracy: 98.4375%\n",
            "GB | Epoch 8 | Loss: 0.015167662873864174 | Accuracy: 100.0%\n",
            "GB | Epoch 8 | Loss: 0.03727467358112335 | Accuracy: 98.4375%\n"
          ]
        },
        {
          "name": "stderr",
          "output_type": "stream",
          "text": [
            "Epoch 8:  89%|████████▊ | 666/751 [00:06<00:00, 106.33batch/s, accuracy=100.0%, loss=0.0114]"
          ]
        },
        {
          "name": "stdout",
          "output_type": "stream",
          "text": [
            "GB | Epoch 8 | Loss: 0.0611429437994957 | Accuracy: 98.4375%\n",
            "GB | Epoch 8 | Loss: 0.015744689851999283 | Accuracy: 100.0%\n",
            "GB | Epoch 8 | Loss: 0.025123868137598038 | Accuracy: 98.4375%\n",
            "GB | Epoch 8 | Loss: 0.040374308824539185 | Accuracy: 98.4375%\n",
            "GB | Epoch 8 | Loss: 0.015726054087281227 | Accuracy: 100.0%\n",
            "GB | Epoch 8 | Loss: 0.04216822236776352 | Accuracy: 98.4375%\n",
            "GB | Epoch 8 | Loss: 0.028177335858345032 | Accuracy: 100.0%\n",
            "GB | Epoch 8 | Loss: 0.011568752117455006 | Accuracy: 100.0%\n",
            "GB | Epoch 8 | Loss: 0.02619132772088051 | Accuracy: 100.0%\n",
            "GB | Epoch 8 | Loss: 0.024175604805350304 | Accuracy: 98.4375%\n",
            "GB | Epoch 8 | Loss: 0.011756882071495056 | Accuracy: 100.0%\n",
            "GB | Epoch 8 | Loss: 0.017320498824119568 | Accuracy: 100.0%\n",
            "GB | Epoch 8 | Loss: 0.041334375739097595 | Accuracy: 98.4375%\n",
            "GB | Epoch 8 | Loss: 0.0258078221231699 | Accuracy: 100.0%\n",
            "GB | Epoch 8 | Loss: 0.02012053318321705 | Accuracy: 100.0%\n",
            "GB | Epoch 8 | Loss: 0.21521376073360443 | Accuracy: 95.3125%\n",
            "GB | Epoch 8 | Loss: 0.012814830988645554 | Accuracy: 100.0%\n",
            "GB | Epoch 8 | Loss: 0.019632801413536072 | Accuracy: 100.0%\n",
            "GB | Epoch 8 | Loss: 0.022338375449180603 | Accuracy: 100.0%\n",
            "GB | Epoch 8 | Loss: 0.011765269562602043 | Accuracy: 100.0%\n",
            "GB | Epoch 8 | Loss: 0.18261145055294037 | Accuracy: 96.875%\n",
            "GB | Epoch 8 | Loss: 0.011394575238227844 | Accuracy: 100.0%\n"
          ]
        },
        {
          "name": "stderr",
          "output_type": "stream",
          "text": [
            "Epoch 8:  92%|█████████▏| 691/751 [00:06<00:00, 113.30batch/s, accuracy=100.0%, loss=0.0113] "
          ]
        },
        {
          "name": "stdout",
          "output_type": "stream",
          "text": [
            "GB | Epoch 8 | Loss: 0.03348217532038689 | Accuracy: 98.4375%\n",
            "GB | Epoch 8 | Loss: 0.024502109736204147 | Accuracy: 100.0%\n",
            "GB | Epoch 8 | Loss: 0.04526067525148392 | Accuracy: 98.4375%\n",
            "GB | Epoch 8 | Loss: 0.011210888624191284 | Accuracy: 100.0%\n",
            "GB | Epoch 8 | Loss: 0.014089997857809067 | Accuracy: 100.0%\n",
            "GB | Epoch 8 | Loss: 0.0723254531621933 | Accuracy: 96.875%\n",
            "GB | Epoch 8 | Loss: 0.15450772643089294 | Accuracy: 98.4375%\n",
            "GB | Epoch 8 | Loss: 0.04077542573213577 | Accuracy: 98.4375%\n",
            "GB | Epoch 8 | Loss: 0.025296609848737717 | Accuracy: 100.0%\n",
            "GB | Epoch 8 | Loss: 0.017591364681720734 | Accuracy: 100.0%\n",
            "GB | Epoch 8 | Loss: 0.025511248037219048 | Accuracy: 100.0%\n",
            "GB | Epoch 8 | Loss: 0.012244830839335918 | Accuracy: 100.0%\n",
            "GB | Epoch 8 | Loss: 0.01123398169875145 | Accuracy: 100.0%\n",
            "GB | Epoch 8 | Loss: 0.028264524415135384 | Accuracy: 98.4375%\n",
            "GB | Epoch 8 | Loss: 0.07738514989614487 | Accuracy: 96.875%\n",
            "GB | Epoch 8 | Loss: 0.018259676173329353 | Accuracy: 100.0%\n",
            "GB | Epoch 8 | Loss: 0.12467680126428604 | Accuracy: 98.4375%\n",
            "GB | Epoch 8 | Loss: 0.031753651797771454 | Accuracy: 98.4375%\n",
            "GB | Epoch 8 | Loss: 0.028271343559026718 | Accuracy: 98.4375%\n",
            "GB | Epoch 8 | Loss: 0.04937627911567688 | Accuracy: 98.4375%\n",
            "GB | Epoch 8 | Loss: 0.013584128580987453 | Accuracy: 100.0%\n",
            "GB | Epoch 8 | Loss: 0.01929604262113571 | Accuracy: 100.0%\n",
            "GB | Epoch 8 | Loss: 0.019050030037760735 | Accuracy: 100.0%\n",
            "GB | Epoch 8 | Loss: 0.18525414168834686 | Accuracy: 98.4375%\n",
            "GB | Epoch 8 | Loss: 0.011346213519573212 | Accuracy: 100.0%\n"
          ]
        },
        {
          "name": "stderr",
          "output_type": "stream",
          "text": [
            "Epoch 8:  95%|█████████▌| 715/751 [00:06<00:00, 110.47batch/s, accuracy=100.0%, loss=0.0159] "
          ]
        },
        {
          "name": "stdout",
          "output_type": "stream",
          "text": [
            "GB | Epoch 8 | Loss: 0.017229802906513214 | Accuracy: 100.0%\n",
            "GB | Epoch 8 | Loss: 0.06544168293476105 | Accuracy: 98.4375%\n",
            "GB | Epoch 8 | Loss: 0.06366436183452606 | Accuracy: 98.4375%\n",
            "GB | Epoch 8 | Loss: 0.015107497572898865 | Accuracy: 100.0%\n",
            "GB | Epoch 8 | Loss: 0.014674118719995022 | Accuracy: 100.0%\n",
            "GB | Epoch 8 | Loss: 0.04024558141827583 | Accuracy: 98.4375%\n",
            "GB | Epoch 8 | Loss: 0.017100177705287933 | Accuracy: 100.0%\n",
            "GB | Epoch 8 | Loss: 0.1684640794992447 | Accuracy: 98.4375%\n",
            "GB | Epoch 8 | Loss: 0.1336018592119217 | Accuracy: 95.3125%\n",
            "GB | Epoch 8 | Loss: 0.019108539447188377 | Accuracy: 100.0%\n",
            "GB | Epoch 8 | Loss: 0.019339945167303085 | Accuracy: 100.0%\n",
            "GB | Epoch 8 | Loss: 0.021875159814953804 | Accuracy: 100.0%\n",
            "GB | Epoch 8 | Loss: 0.10941383987665176 | Accuracy: 98.4375%\n",
            "GB | Epoch 8 | Loss: 0.07686575502157211 | Accuracy: 95.3125%\n",
            "GB | Epoch 8 | Loss: 0.020713888108730316 | Accuracy: 100.0%\n",
            "GB | Epoch 8 | Loss: 0.03019673191010952 | Accuracy: 98.4375%\n",
            "GB | Epoch 8 | Loss: 0.0144750215113163 | Accuracy: 100.0%\n",
            "GB | Epoch 8 | Loss: 0.03271627426147461 | Accuracy: 98.4375%\n",
            "GB | Epoch 8 | Loss: 0.014270639047026634 | Accuracy: 100.0%\n",
            "GB | Epoch 8 | Loss: 0.025418100878596306 | Accuracy: 98.4375%\n",
            "GB | Epoch 8 | Loss: 0.05104609578847885 | Accuracy: 98.4375%\n",
            "GB | Epoch 8 | Loss: 0.015864089131355286 | Accuracy: 100.0%\n"
          ]
        },
        {
          "name": "stderr",
          "output_type": "stream",
          "text": [
            "Epoch 8:  98%|█████████▊| 739/751 [00:07<00:00, 111.32batch/s, accuracy=98.4375%, loss=0.0397]"
          ]
        },
        {
          "name": "stdout",
          "output_type": "stream",
          "text": [
            "GB | Epoch 8 | Loss: 0.009283721446990967 | Accuracy: 100.0%\n",
            "GB | Epoch 8 | Loss: 0.009425376541912556 | Accuracy: 100.0%\n",
            "GB | Epoch 8 | Loss: 0.017803411930799484 | Accuracy: 100.0%\n",
            "GB | Epoch 8 | Loss: 0.009253259748220444 | Accuracy: 100.0%\n",
            "GB | Epoch 8 | Loss: 0.08982644230127335 | Accuracy: 98.4375%\n",
            "GB | Epoch 8 | Loss: 0.023372801020741463 | Accuracy: 100.0%\n",
            "GB | Epoch 8 | Loss: 0.026003610342741013 | Accuracy: 100.0%\n",
            "GB | Epoch 8 | Loss: 0.027631329372525215 | Accuracy: 98.4375%\n",
            "GB | Epoch 8 | Loss: 0.019617736339569092 | Accuracy: 100.0%\n",
            "GB | Epoch 8 | Loss: 0.05667724460363388 | Accuracy: 98.4375%\n",
            "GB | Epoch 8 | Loss: 0.013561822474002838 | Accuracy: 100.0%\n",
            "GB | Epoch 8 | Loss: 0.013997643254697323 | Accuracy: 100.0%\n",
            "GB | Epoch 8 | Loss: 0.12531059980392456 | Accuracy: 98.4375%\n",
            "GB | Epoch 8 | Loss: 0.02461073361337185 | Accuracy: 98.4375%\n",
            "GB | Epoch 8 | Loss: 0.02649964764714241 | Accuracy: 100.0%\n",
            "GB | Epoch 8 | Loss: 0.04460763931274414 | Accuracy: 98.4375%\n",
            "GB | Epoch 8 | Loss: 0.027572903782129288 | Accuracy: 98.4375%\n",
            "GB | Epoch 8 | Loss: 0.033405013382434845 | Accuracy: 100.0%\n",
            "GB | Epoch 8 | Loss: 0.03728249669075012 | Accuracy: 100.0%\n",
            "GB | Epoch 8 | Loss: 0.01654217578470707 | Accuracy: 100.0%\n",
            "GB | Epoch 8 | Loss: 0.019568273797631264 | Accuracy: 100.0%\n",
            "GB | Epoch 8 | Loss: 0.011026321910321712 | Accuracy: 100.0%\n",
            "GB | Epoch 8 | Loss: 0.0397392213344574 | Accuracy: 98.4375%\n"
          ]
        },
        {
          "name": "stderr",
          "output_type": "stream",
          "text": [
            "Epoch 8:  98%|█████████▊| 739/751 [00:07<00:00, 111.32batch/s, accuracy=100.0%, loss=0.0222] "
          ]
        },
        {
          "name": "stdout",
          "output_type": "stream",
          "text": [
            "GB | Epoch 8 | Loss: 0.018415356054902077 | Accuracy: 100.0%\n",
            "GB | Epoch 8 | Loss: 0.0639350488781929 | Accuracy: 96.875%\n",
            "GB | Epoch 8 | Loss: 0.03224492818117142 | Accuracy: 100.0%\n",
            "GB | Epoch 8 | Loss: 0.016190316528081894 | Accuracy: 100.0%\n",
            "GB | Epoch 8 | Loss: 0.08250413835048676 | Accuracy: 98.4375%\n",
            "GB | Epoch 8 | Loss: 0.025016160681843758 | Accuracy: 100.0%\n",
            "GB | Epoch 8 | Loss: 0.02867891639471054 | Accuracy: 100.0%\n",
            "GB | Epoch 8 | Loss: 0.17271345853805542 | Accuracy: 98.4375%\n",
            "GB | Epoch 8 | Loss: 0.009255814366042614 | Accuracy: 100.0%\n",
            "GB | Epoch 8 | Loss: 0.022159019485116005 | Accuracy: 100.0%\n"
          ]
        },
        {
          "name": "stderr",
          "output_type": "stream",
          "text": [
            "Epoch 8: 100%|██████████| 751/751 [00:07<00:00, 100.22batch/s, accuracy=100.0%, loss=0.0222]\n",
            "Epoch 9:   1%|▏         | 11/751 [00:00<00:26, 28.18batch/s, accuracy=100.0%, loss=0.0334]"
          ]
        },
        {
          "name": "stdout",
          "output_type": "stream",
          "text": [
            "GB | Epoch 9 | Loss: 0.05827747657895088 | Accuracy: 98.4375%\n",
            "GB | Epoch 9 | Loss: 0.10784926265478134 | Accuracy: 98.4375%\n",
            "GB | Epoch 9 | Loss: 0.04530182108283043 | Accuracy: 98.4375%\n",
            "GB | Epoch 9 | Loss: 0.1275542676448822 | Accuracy: 98.4375%\n",
            "GB | Epoch 9 | Loss: 0.03173249214887619 | Accuracy: 100.0%\n",
            "GB | Epoch 9 | Loss: 0.0250669177621603 | Accuracy: 100.0%\n",
            "GB | Epoch 9 | Loss: 0.19583112001419067 | Accuracy: 96.875%\n",
            "GB | Epoch 9 | Loss: 0.023994138464331627 | Accuracy: 100.0%\n",
            "GB | Epoch 9 | Loss: 0.02359636500477791 | Accuracy: 100.0%\n",
            "GB | Epoch 9 | Loss: 0.0428590402007103 | Accuracy: 98.4375%\n",
            "GB | Epoch 9 | Loss: 0.016042152419686317 | Accuracy: 100.0%\n",
            "GB | Epoch 9 | Loss: 0.01930762641131878 | Accuracy: 100.0%\n",
            "GB | Epoch 9 | Loss: 0.039100199937820435 | Accuracy: 98.4375%\n",
            "GB | Epoch 9 | Loss: 0.020956797525286674 | Accuracy: 100.0%\n",
            "GB | Epoch 9 | Loss: 0.02343454584479332 | Accuracy: 100.0%\n",
            "GB | Epoch 9 | Loss: 0.03719693422317505 | Accuracy: 100.0%\n",
            "GB | Epoch 9 | Loss: 0.03416864201426506 | Accuracy: 98.4375%\n",
            "GB | Epoch 9 | Loss: 0.009139122441411018 | Accuracy: 100.0%\n",
            "GB | Epoch 9 | Loss: 0.1337769478559494 | Accuracy: 96.875%\n",
            "GB | Epoch 9 | Loss: 0.010078421793878078 | Accuracy: 100.0%\n",
            "GB | Epoch 9 | Loss: 0.03343861922621727 | Accuracy: 100.0%\n"
          ]
        },
        {
          "name": "stderr",
          "output_type": "stream",
          "text": [
            "Epoch 9:   4%|▍         | 33/751 [00:00<00:11, 64.09batch/s, accuracy=100.0%, loss=0.0279]"
          ]
        },
        {
          "name": "stdout",
          "output_type": "stream",
          "text": [
            "GB | Epoch 9 | Loss: 0.011999116279184818 | Accuracy: 100.0%\n",
            "GB | Epoch 9 | Loss: 0.009081244468688965 | Accuracy: 100.0%\n",
            "GB | Epoch 9 | Loss: 0.13600029051303864 | Accuracy: 96.875%\n",
            "GB | Epoch 9 | Loss: 0.03663884475827217 | Accuracy: 96.875%\n",
            "GB | Epoch 9 | Loss: 0.024777142331004143 | Accuracy: 100.0%\n",
            "GB | Epoch 9 | Loss: 0.05078606680035591 | Accuracy: 98.4375%\n",
            "GB | Epoch 9 | Loss: 0.06840704381465912 | Accuracy: 98.4375%\n",
            "GB | Epoch 9 | Loss: 0.02956049144268036 | Accuracy: 98.4375%\n",
            "GB | Epoch 9 | Loss: 0.027606235817074776 | Accuracy: 100.0%\n",
            "GB | Epoch 9 | Loss: 0.013649617321789265 | Accuracy: 100.0%\n",
            "GB | Epoch 9 | Loss: 0.02002151869237423 | Accuracy: 100.0%\n",
            "GB | Epoch 9 | Loss: 0.00943985115736723 | Accuracy: 100.0%\n",
            "GB | Epoch 9 | Loss: 0.04108922928571701 | Accuracy: 98.4375%\n",
            "GB | Epoch 9 | Loss: 0.012500150129199028 | Accuracy: 100.0%\n",
            "GB | Epoch 9 | Loss: 0.01491712499409914 | Accuracy: 100.0%\n",
            "GB | Epoch 9 | Loss: 0.016763759776949883 | Accuracy: 100.0%\n",
            "GB | Epoch 9 | Loss: 0.04486856609582901 | Accuracy: 98.4375%\n",
            "GB | Epoch 9 | Loss: 0.016844382509589195 | Accuracy: 100.0%\n",
            "GB | Epoch 9 | Loss: 0.01563171111047268 | Accuracy: 100.0%\n",
            "GB | Epoch 9 | Loss: 0.027924630790948868 | Accuracy: 100.0%\n"
          ]
        },
        {
          "name": "stderr",
          "output_type": "stream",
          "text": [
            "Epoch 9:   7%|▋         | 55/751 [00:01<00:08, 84.81batch/s, accuracy=100.0%, loss=0.0185]"
          ]
        },
        {
          "name": "stdout",
          "output_type": "stream",
          "text": [
            "GB | Epoch 9 | Loss: 0.020683398470282555 | Accuracy: 100.0%\n",
            "GB | Epoch 9 | Loss: 0.10226193815469742 | Accuracy: 96.875%\n",
            "GB | Epoch 9 | Loss: 0.01092417910695076 | Accuracy: 100.0%\n",
            "GB | Epoch 9 | Loss: 0.016372252255678177 | Accuracy: 100.0%\n",
            "GB | Epoch 9 | Loss: 0.01244634110480547 | Accuracy: 100.0%\n",
            "GB | Epoch 9 | Loss: 0.06198207661509514 | Accuracy: 98.4375%\n",
            "GB | Epoch 9 | Loss: 0.01806742139160633 | Accuracy: 100.0%\n",
            "GB | Epoch 9 | Loss: 0.010045675560832024 | Accuracy: 100.0%\n",
            "GB | Epoch 9 | Loss: 0.04617452248930931 | Accuracy: 96.875%\n",
            "GB | Epoch 9 | Loss: 0.019681591540575027 | Accuracy: 100.0%\n",
            "GB | Epoch 9 | Loss: 0.045559901744127274 | Accuracy: 96.875%\n",
            "GB | Epoch 9 | Loss: 0.04140656813979149 | Accuracy: 98.4375%\n",
            "GB | Epoch 9 | Loss: 0.020672481507062912 | Accuracy: 100.0%\n",
            "GB | Epoch 9 | Loss: 0.02174827642738819 | Accuracy: 100.0%\n",
            "GB | Epoch 9 | Loss: 0.06854197382926941 | Accuracy: 98.4375%\n",
            "GB | Epoch 9 | Loss: 0.032275885343551636 | Accuracy: 98.4375%\n",
            "GB | Epoch 9 | Loss: 0.009348560124635696 | Accuracy: 100.0%\n",
            "GB | Epoch 9 | Loss: 0.07232239097356796 | Accuracy: 98.4375%\n",
            "GB | Epoch 9 | Loss: 0.012653308920562267 | Accuracy: 100.0%\n",
            "GB | Epoch 9 | Loss: 0.0734201967716217 | Accuracy: 98.4375%\n",
            "GB | Epoch 9 | Loss: 0.007424753624945879 | Accuracy: 100.0%\n",
            "GB | Epoch 9 | Loss: 0.019326884299516678 | Accuracy: 100.0%\n",
            "GB | Epoch 9 | Loss: 0.018519356846809387 | Accuracy: 100.0%\n"
          ]
        },
        {
          "name": "stderr",
          "output_type": "stream",
          "text": [
            "Epoch 9:  10%|█         | 77/751 [00:01<00:06, 96.34batch/s, accuracy=100.0%, loss=0.0166]"
          ]
        },
        {
          "name": "stdout",
          "output_type": "stream",
          "text": [
            "GB | Epoch 9 | Loss: 0.03524598106741905 | Accuracy: 98.4375%\n",
            "GB | Epoch 9 | Loss: 0.01095041073858738 | Accuracy: 100.0%\n",
            "GB | Epoch 9 | Loss: 0.032365065068006516 | Accuracy: 98.4375%\n",
            "GB | Epoch 9 | Loss: 0.029728354886174202 | Accuracy: 100.0%\n",
            "GB | Epoch 9 | Loss: 0.010348350740969181 | Accuracy: 100.0%\n",
            "GB | Epoch 9 | Loss: 0.1430249810218811 | Accuracy: 95.3125%\n",
            "GB | Epoch 9 | Loss: 0.028233157470822334 | Accuracy: 100.0%\n",
            "GB | Epoch 9 | Loss: 0.010091129690408707 | Accuracy: 100.0%\n",
            "GB | Epoch 9 | Loss: 0.02126181498169899 | Accuracy: 100.0%\n",
            "GB | Epoch 9 | Loss: 0.03375101834535599 | Accuracy: 100.0%\n",
            "GB | Epoch 9 | Loss: 0.0197154451161623 | Accuracy: 100.0%\n",
            "GB | Epoch 9 | Loss: 0.012725656852126122 | Accuracy: 100.0%\n",
            "GB | Epoch 9 | Loss: 0.013269968330860138 | Accuracy: 100.0%\n",
            "GB | Epoch 9 | Loss: 0.01743685081601143 | Accuracy: 100.0%\n",
            "GB | Epoch 9 | Loss: 0.015743311494588852 | Accuracy: 100.0%\n",
            "GB | Epoch 9 | Loss: 0.00962207280099392 | Accuracy: 100.0%\n",
            "GB | Epoch 9 | Loss: 0.01682356931269169 | Accuracy: 100.0%\n",
            "GB | Epoch 9 | Loss: 0.037785839289426804 | Accuracy: 98.4375%\n",
            "GB | Epoch 9 | Loss: 0.07007785886526108 | Accuracy: 96.875%\n",
            "GB | Epoch 9 | Loss: 0.006028902251273394 | Accuracy: 100.0%\n",
            "GB | Epoch 9 | Loss: 0.014768782071769238 | Accuracy: 100.0%\n",
            "GB | Epoch 9 | Loss: 0.01659039594233036 | Accuracy: 100.0%\n"
          ]
        },
        {
          "name": "stderr",
          "output_type": "stream",
          "text": [
            "Epoch 9:  13%|█▎        | 100/751 [00:01<00:06, 101.56batch/s, accuracy=100.0%, loss=0.00753]"
          ]
        },
        {
          "name": "stdout",
          "output_type": "stream",
          "text": [
            "GB | Epoch 9 | Loss: 0.08583366125822067 | Accuracy: 96.875%\n",
            "GB | Epoch 9 | Loss: 0.01815631240606308 | Accuracy: 100.0%\n",
            "GB | Epoch 9 | Loss: 0.043860215693712234 | Accuracy: 98.4375%\n",
            "GB | Epoch 9 | Loss: 0.019551433622837067 | Accuracy: 100.0%\n",
            "GB | Epoch 9 | Loss: 0.014704274013638496 | Accuracy: 100.0%\n",
            "GB | Epoch 9 | Loss: 0.013118362054228783 | Accuracy: 100.0%\n",
            "GB | Epoch 9 | Loss: 0.047584690153598785 | Accuracy: 98.4375%\n",
            "GB | Epoch 9 | Loss: 0.05090427026152611 | Accuracy: 98.4375%\n",
            "GB | Epoch 9 | Loss: 0.06946942210197449 | Accuracy: 98.4375%\n",
            "GB | Epoch 9 | Loss: 0.011238946579396725 | Accuracy: 100.0%\n",
            "GB | Epoch 9 | Loss: 0.015204970724880695 | Accuracy: 100.0%\n",
            "GB | Epoch 9 | Loss: 0.018553754314780235 | Accuracy: 100.0%\n",
            "GB | Epoch 9 | Loss: 0.012049349024891853 | Accuracy: 100.0%\n",
            "GB | Epoch 9 | Loss: 0.01143573597073555 | Accuracy: 100.0%\n",
            "GB | Epoch 9 | Loss: 0.011427659541368484 | Accuracy: 100.0%\n",
            "GB | Epoch 9 | Loss: 0.01277552917599678 | Accuracy: 100.0%\n",
            "GB | Epoch 9 | Loss: 0.03133098781108856 | Accuracy: 98.4375%\n",
            "GB | Epoch 9 | Loss: 0.02874436415731907 | Accuracy: 98.4375%\n",
            "GB | Epoch 9 | Loss: 0.022261695936322212 | Accuracy: 100.0%\n",
            "GB | Epoch 9 | Loss: 0.008229118771851063 | Accuracy: 100.0%\n",
            "GB | Epoch 9 | Loss: 0.011846630834043026 | Accuracy: 100.0%\n"
          ]
        },
        {
          "name": "stderr",
          "output_type": "stream",
          "text": [
            "Epoch 9:  16%|█▌        | 122/751 [00:01<00:06, 103.52batch/s, accuracy=100.0%, loss=0.0203]"
          ]
        },
        {
          "name": "stdout",
          "output_type": "stream",
          "text": [
            "GB | Epoch 9 | Loss: 0.0075294203124940395 | Accuracy: 100.0%\n",
            "GB | Epoch 9 | Loss: 0.07015716284513474 | Accuracy: 98.4375%\n",
            "GB | Epoch 9 | Loss: 0.024247925728559494 | Accuracy: 98.4375%\n",
            "GB | Epoch 9 | Loss: 0.09278906136751175 | Accuracy: 96.875%\n",
            "GB | Epoch 9 | Loss: 0.09520221501588821 | Accuracy: 96.875%\n",
            "GB | Epoch 9 | Loss: 0.009991255588829517 | Accuracy: 100.0%\n",
            "GB | Epoch 9 | Loss: 0.018861426040530205 | Accuracy: 100.0%\n",
            "GB | Epoch 9 | Loss: 0.04266925901174545 | Accuracy: 98.4375%\n",
            "GB | Epoch 9 | Loss: 0.013125920668244362 | Accuracy: 100.0%\n",
            "GB | Epoch 9 | Loss: 0.009075869806110859 | Accuracy: 100.0%\n",
            "GB | Epoch 9 | Loss: 0.029552655294537544 | Accuracy: 100.0%\n",
            "GB | Epoch 9 | Loss: 0.016085973009467125 | Accuracy: 100.0%\n",
            "GB | Epoch 9 | Loss: 0.008359706029295921 | Accuracy: 100.0%\n",
            "GB | Epoch 9 | Loss: 0.01321189571171999 | Accuracy: 100.0%\n",
            "GB | Epoch 9 | Loss: 0.017619505524635315 | Accuracy: 100.0%\n",
            "GB | Epoch 9 | Loss: 0.036492496728897095 | Accuracy: 98.4375%\n",
            "GB | Epoch 9 | Loss: 0.05613350495696068 | Accuracy: 98.4375%\n",
            "GB | Epoch 9 | Loss: 0.012927623465657234 | Accuracy: 100.0%\n",
            "GB | Epoch 9 | Loss: 0.01252686232328415 | Accuracy: 100.0%\n",
            "GB | Epoch 9 | Loss: 0.01671154424548149 | Accuracy: 100.0%\n",
            "GB | Epoch 9 | Loss: 0.010549230501055717 | Accuracy: 100.0%\n",
            "GB | Epoch 9 | Loss: 0.19610753655433655 | Accuracy: 96.875%\n",
            "GB | Epoch 9 | Loss: 0.02032107673585415 | Accuracy: 100.0%\n"
          ]
        },
        {
          "name": "stderr",
          "output_type": "stream",
          "text": [
            "Epoch 9:  19%|█▉        | 146/751 [00:01<00:05, 108.84batch/s, accuracy=98.4375%, loss=0.0336]"
          ]
        },
        {
          "name": "stdout",
          "output_type": "stream",
          "text": [
            "GB | Epoch 9 | Loss: 0.018104003742337227 | Accuracy: 100.0%\n",
            "GB | Epoch 9 | Loss: 0.04773983359336853 | Accuracy: 98.4375%\n",
            "GB | Epoch 9 | Loss: 0.014285382814705372 | Accuracy: 100.0%\n",
            "GB | Epoch 9 | Loss: 0.020562471821904182 | Accuracy: 100.0%\n",
            "GB | Epoch 9 | Loss: 0.01883881911635399 | Accuracy: 100.0%\n",
            "GB | Epoch 9 | Loss: 0.0781605914235115 | Accuracy: 96.875%\n",
            "GB | Epoch 9 | Loss: 0.18610112369060516 | Accuracy: 95.3125%\n",
            "GB | Epoch 9 | Loss: 0.011942691169679165 | Accuracy: 100.0%\n",
            "GB | Epoch 9 | Loss: 0.012510081753134727 | Accuracy: 100.0%\n",
            "GB | Epoch 9 | Loss: 0.03763657808303833 | Accuracy: 98.4375%\n",
            "GB | Epoch 9 | Loss: 0.05890752747654915 | Accuracy: 98.4375%\n",
            "GB | Epoch 9 | Loss: 0.014132929965853691 | Accuracy: 100.0%\n",
            "GB | Epoch 9 | Loss: 0.12467148154973984 | Accuracy: 98.4375%\n",
            "GB | Epoch 9 | Loss: 0.03396642208099365 | Accuracy: 98.4375%\n",
            "GB | Epoch 9 | Loss: 0.011606370098888874 | Accuracy: 100.0%\n",
            "GB | Epoch 9 | Loss: 0.01731942594051361 | Accuracy: 100.0%\n",
            "GB | Epoch 9 | Loss: 0.0427585132420063 | Accuracy: 96.875%\n",
            "GB | Epoch 9 | Loss: 0.058370597660541534 | Accuracy: 98.4375%\n",
            "GB | Epoch 9 | Loss: 0.028530964627861977 | Accuracy: 100.0%\n",
            "GB | Epoch 9 | Loss: 0.007865936495363712 | Accuracy: 100.0%\n",
            "GB | Epoch 9 | Loss: 0.02175142802298069 | Accuracy: 100.0%\n",
            "GB | Epoch 9 | Loss: 0.0099208764731884 | Accuracy: 100.0%\n",
            "GB | Epoch 9 | Loss: 0.02443394996225834 | Accuracy: 98.4375%\n",
            "GB | Epoch 9 | Loss: 0.033605895936489105 | Accuracy: 98.4375%\n"
          ]
        },
        {
          "name": "stderr",
          "output_type": "stream",
          "text": [
            "Epoch 9:  23%|██▎       | 170/751 [00:02<00:05, 109.87batch/s, accuracy=96.875%, loss=0.139]"
          ]
        },
        {
          "name": "stdout",
          "output_type": "stream",
          "text": [
            "GB | Epoch 9 | Loss: 0.019692014902830124 | Accuracy: 100.0%\n",
            "GB | Epoch 9 | Loss: 0.005212895106524229 | Accuracy: 100.0%\n",
            "GB | Epoch 9 | Loss: 0.04053522273898125 | Accuracy: 98.4375%\n",
            "GB | Epoch 9 | Loss: 0.01322694681584835 | Accuracy: 100.0%\n",
            "GB | Epoch 9 | Loss: 0.00701782014220953 | Accuracy: 100.0%\n",
            "GB | Epoch 9 | Loss: 0.01333236787468195 | Accuracy: 100.0%\n",
            "GB | Epoch 9 | Loss: 0.012426309287548065 | Accuracy: 100.0%\n",
            "GB | Epoch 9 | Loss: 0.013783696107566357 | Accuracy: 100.0%\n",
            "GB | Epoch 9 | Loss: 0.00966023001819849 | Accuracy: 100.0%\n",
            "GB | Epoch 9 | Loss: 0.014051873236894608 | Accuracy: 100.0%\n",
            "GB | Epoch 9 | Loss: 0.013016813434660435 | Accuracy: 100.0%\n",
            "GB | Epoch 9 | Loss: 0.023564839735627174 | Accuracy: 98.4375%\n",
            "GB | Epoch 9 | Loss: 0.011304621584713459 | Accuracy: 100.0%\n",
            "GB | Epoch 9 | Loss: 0.18476586043834686 | Accuracy: 96.875%\n",
            "GB | Epoch 9 | Loss: 0.01787109673023224 | Accuracy: 100.0%\n",
            "GB | Epoch 9 | Loss: 0.004375489428639412 | Accuracy: 100.0%\n",
            "GB | Epoch 9 | Loss: 0.012366024777293205 | Accuracy: 100.0%\n",
            "GB | Epoch 9 | Loss: 0.01862482912838459 | Accuracy: 100.0%\n",
            "GB | Epoch 9 | Loss: 0.015697471797466278 | Accuracy: 100.0%\n",
            "GB | Epoch 9 | Loss: 0.007193246856331825 | Accuracy: 100.0%\n",
            "GB | Epoch 9 | Loss: 0.00939840730279684 | Accuracy: 100.0%\n",
            "GB | Epoch 9 | Loss: 0.014042043127119541 | Accuracy: 100.0%\n",
            "GB | Epoch 9 | Loss: 0.1389968991279602 | Accuracy: 96.875%\n"
          ]
        },
        {
          "name": "stderr",
          "output_type": "stream",
          "text": [
            "Epoch 9:  26%|██▌       | 194/751 [00:02<00:05, 111.29batch/s, accuracy=100.0%, loss=0.0141]  "
          ]
        },
        {
          "name": "stdout",
          "output_type": "stream",
          "text": [
            "GB | Epoch 9 | Loss: 0.027026325464248657 | Accuracy: 98.4375%\n",
            "GB | Epoch 9 | Loss: 0.009123665280640125 | Accuracy: 100.0%\n",
            "GB | Epoch 9 | Loss: 0.029439998790621758 | Accuracy: 100.0%\n",
            "GB | Epoch 9 | Loss: 0.03935692831873894 | Accuracy: 100.0%\n",
            "GB | Epoch 9 | Loss: 0.022593965753912926 | Accuracy: 100.0%\n",
            "GB | Epoch 9 | Loss: 0.027734072878956795 | Accuracy: 100.0%\n",
            "GB | Epoch 9 | Loss: 0.018666699528694153 | Accuracy: 100.0%\n",
            "GB | Epoch 9 | Loss: 0.045613206923007965 | Accuracy: 96.875%\n",
            "GB | Epoch 9 | Loss: 0.015246426686644554 | Accuracy: 100.0%\n",
            "GB | Epoch 9 | Loss: 0.019304020330309868 | Accuracy: 100.0%\n",
            "GB | Epoch 9 | Loss: 0.015610302798449993 | Accuracy: 100.0%\n",
            "GB | Epoch 9 | Loss: 0.11365394294261932 | Accuracy: 98.4375%\n",
            "GB | Epoch 9 | Loss: 0.010633477941155434 | Accuracy: 100.0%\n",
            "GB | Epoch 9 | Loss: 0.012855860404670238 | Accuracy: 100.0%\n",
            "GB | Epoch 9 | Loss: 0.02076468989253044 | Accuracy: 100.0%\n",
            "GB | Epoch 9 | Loss: 0.034184250980615616 | Accuracy: 98.4375%\n",
            "GB | Epoch 9 | Loss: 0.0174998976290226 | Accuracy: 100.0%\n",
            "GB | Epoch 9 | Loss: 0.01703055202960968 | Accuracy: 100.0%\n",
            "GB | Epoch 9 | Loss: 0.010245760902762413 | Accuracy: 100.0%\n",
            "GB | Epoch 9 | Loss: 0.03346642479300499 | Accuracy: 100.0%\n",
            "GB | Epoch 9 | Loss: 0.07670889794826508 | Accuracy: 98.4375%\n",
            "GB | Epoch 9 | Loss: 0.014083362184464931 | Accuracy: 100.0%\n"
          ]
        },
        {
          "name": "stderr",
          "output_type": "stream",
          "text": [
            "Epoch 9:  29%|██▉       | 217/751 [00:02<00:05, 104.17batch/s, accuracy=100.0%, loss=0.0279]  "
          ]
        },
        {
          "name": "stdout",
          "output_type": "stream",
          "text": [
            "GB | Epoch 9 | Loss: 0.303410142660141 | Accuracy: 98.4375%\n",
            "GB | Epoch 9 | Loss: 0.018713293597102165 | Accuracy: 100.0%\n",
            "GB | Epoch 9 | Loss: 0.07348208129405975 | Accuracy: 96.875%\n",
            "GB | Epoch 9 | Loss: 0.017849819734692574 | Accuracy: 100.0%\n",
            "GB | Epoch 9 | Loss: 0.016706161201000214 | Accuracy: 100.0%\n",
            "GB | Epoch 9 | Loss: 0.0442359521985054 | Accuracy: 98.4375%\n",
            "GB | Epoch 9 | Loss: 0.016774045303463936 | Accuracy: 100.0%\n",
            "GB | Epoch 9 | Loss: 0.009999278001487255 | Accuracy: 100.0%\n",
            "GB | Epoch 9 | Loss: 0.016454627737402916 | Accuracy: 100.0%\n",
            "GB | Epoch 9 | Loss: 0.018600979819893837 | Accuracy: 98.4375%\n",
            "GB | Epoch 9 | Loss: 0.057269930839538574 | Accuracy: 96.875%\n",
            "GB | Epoch 9 | Loss: 0.04066559672355652 | Accuracy: 96.875%\n",
            "GB | Epoch 9 | Loss: 0.03291761502623558 | Accuracy: 98.4375%\n",
            "GB | Epoch 9 | Loss: 0.012957812286913395 | Accuracy: 100.0%\n",
            "GB | Epoch 9 | Loss: 0.08848229795694351 | Accuracy: 96.875%\n",
            "GB | Epoch 9 | Loss: 0.016216306015849113 | Accuracy: 100.0%\n",
            "GB | Epoch 9 | Loss: 0.009480290114879608 | Accuracy: 100.0%\n",
            "GB | Epoch 9 | Loss: 0.011223204433918 | Accuracy: 100.0%\n",
            "GB | Epoch 9 | Loss: 0.05412646010518074 | Accuracy: 98.4375%\n",
            "GB | Epoch 9 | Loss: 0.027881238609552383 | Accuracy: 100.0%\n"
          ]
        },
        {
          "name": "stderr",
          "output_type": "stream",
          "text": [
            "Epoch 9:  30%|███       | 228/751 [00:02<00:05, 101.94batch/s, accuracy=100.0%, loss=0.0205]"
          ]
        },
        {
          "name": "stdout",
          "output_type": "stream",
          "text": [
            "GB | Epoch 9 | Loss: 0.07576315850019455 | Accuracy: 98.4375%\n",
            "GB | Epoch 9 | Loss: 0.03697899356484413 | Accuracy: 98.4375%\n",
            "GB | Epoch 9 | Loss: 0.09068147093057632 | Accuracy: 98.4375%\n",
            "GB | Epoch 9 | Loss: 0.019810961559414864 | Accuracy: 100.0%\n",
            "GB | Epoch 9 | Loss: 0.010745334438979626 | Accuracy: 100.0%\n",
            "GB | Epoch 9 | Loss: 0.15206493437290192 | Accuracy: 98.4375%\n",
            "GB | Epoch 9 | Loss: 0.01152996439486742 | Accuracy: 100.0%\n",
            "GB | Epoch 9 | Loss: 0.010748809203505516 | Accuracy: 100.0%\n",
            "GB | Epoch 9 | Loss: 0.010916062630712986 | Accuracy: 100.0%\n",
            "GB | Epoch 9 | Loss: 0.024493267759680748 | Accuracy: 100.0%\n",
            "GB | Epoch 9 | Loss: 0.007632189430296421 | Accuracy: 100.0%\n",
            "GB | Epoch 9 | Loss: 0.024920374155044556 | Accuracy: 100.0%\n",
            "GB | Epoch 9 | Loss: 0.0200415700674057 | Accuracy: 100.0%\n",
            "GB | Epoch 9 | Loss: 0.007609045132994652 | Accuracy: 100.0%\n",
            "GB | Epoch 9 | Loss: 0.012233437038958073 | Accuracy: 100.0%\n",
            "GB | Epoch 9 | Loss: 0.06069115176796913 | Accuracy: 96.875%\n",
            "GB | Epoch 9 | Loss: 0.009103312157094479 | Accuracy: 100.0%\n",
            "GB | Epoch 9 | Loss: 0.11293597519397736 | Accuracy: 95.3125%\n",
            "GB | Epoch 9 | Loss: 0.01907091587781906 | Accuracy: 100.0%\n"
          ]
        },
        {
          "name": "stderr",
          "output_type": "stream",
          "text": [
            "Epoch 9:  33%|███▎      | 250/751 [00:02<00:04, 100.56batch/s, accuracy=100.0%, loss=0.0259]"
          ]
        },
        {
          "name": "stdout",
          "output_type": "stream",
          "text": [
            "GB | Epoch 9 | Loss: 0.02051808498799801 | Accuracy: 100.0%\n",
            "GB | Epoch 9 | Loss: 0.021002670750021935 | Accuracy: 100.0%\n",
            "GB | Epoch 9 | Loss: 0.015093158930540085 | Accuracy: 100.0%\n",
            "GB | Epoch 9 | Loss: 0.015617487020790577 | Accuracy: 100.0%\n",
            "GB | Epoch 9 | Loss: 0.21401439607143402 | Accuracy: 96.875%\n",
            "GB | Epoch 9 | Loss: 0.07646401971578598 | Accuracy: 96.875%\n",
            "GB | Epoch 9 | Loss: 0.06906789541244507 | Accuracy: 95.3125%\n",
            "GB | Epoch 9 | Loss: 0.02211657166481018 | Accuracy: 100.0%\n",
            "GB | Epoch 9 | Loss: 0.014945784583687782 | Accuracy: 100.0%\n",
            "GB | Epoch 9 | Loss: 0.06687699258327484 | Accuracy: 98.4375%\n",
            "GB | Epoch 9 | Loss: 0.10861173272132874 | Accuracy: 98.4375%\n",
            "GB | Epoch 9 | Loss: 0.025627529248595238 | Accuracy: 98.4375%\n",
            "GB | Epoch 9 | Loss: 0.0143223125487566 | Accuracy: 100.0%\n",
            "GB | Epoch 9 | Loss: 0.012735246680676937 | Accuracy: 100.0%\n",
            "GB | Epoch 9 | Loss: 0.014994792640209198 | Accuracy: 100.0%\n",
            "GB | Epoch 9 | Loss: 0.020553892478346825 | Accuracy: 100.0%\n",
            "GB | Epoch 9 | Loss: 0.08074349910020828 | Accuracy: 96.875%\n",
            "GB | Epoch 9 | Loss: 0.014093663543462753 | Accuracy: 100.0%\n",
            "GB | Epoch 9 | Loss: 0.01409178413450718 | Accuracy: 100.0%\n",
            "GB | Epoch 9 | Loss: 0.025562647730112076 | Accuracy: 100.0%\n",
            "GB | Epoch 9 | Loss: 0.025925416499376297 | Accuracy: 100.0%\n"
          ]
        },
        {
          "name": "stderr",
          "output_type": "stream",
          "text": [
            "Epoch 9:  36%|███▌      | 272/751 [00:03<00:04, 100.89batch/s, accuracy=96.875%, loss=0.0705]"
          ]
        },
        {
          "name": "stdout",
          "output_type": "stream",
          "text": [
            "GB | Epoch 9 | Loss: 0.008580298162996769 | Accuracy: 100.0%\n",
            "GB | Epoch 9 | Loss: 0.02256990224123001 | Accuracy: 98.4375%\n",
            "GB | Epoch 9 | Loss: 0.07997053861618042 | Accuracy: 98.4375%\n",
            "GB | Epoch 9 | Loss: 0.013614454306662083 | Accuracy: 100.0%\n",
            "GB | Epoch 9 | Loss: 0.006818268448114395 | Accuracy: 100.0%\n",
            "GB | Epoch 9 | Loss: 0.01690581627190113 | Accuracy: 100.0%\n",
            "GB | Epoch 9 | Loss: 0.007066087797284126 | Accuracy: 100.0%\n",
            "GB | Epoch 9 | Loss: 0.050264932215213776 | Accuracy: 98.4375%\n",
            "GB | Epoch 9 | Loss: 0.012727863155305386 | Accuracy: 100.0%\n",
            "GB | Epoch 9 | Loss: 0.011899237520992756 | Accuracy: 100.0%\n",
            "GB | Epoch 9 | Loss: 0.020667430013418198 | Accuracy: 100.0%\n",
            "GB | Epoch 9 | Loss: 0.012948448769748211 | Accuracy: 100.0%\n",
            "GB | Epoch 9 | Loss: 0.02838326059281826 | Accuracy: 98.4375%\n",
            "GB | Epoch 9 | Loss: 0.021623995155096054 | Accuracy: 98.4375%\n",
            "GB | Epoch 9 | Loss: 0.015043085440993309 | Accuracy: 100.0%\n",
            "GB | Epoch 9 | Loss: 0.006647101603448391 | Accuracy: 100.0%\n",
            "GB | Epoch 9 | Loss: 0.01356592122465372 | Accuracy: 100.0%\n",
            "GB | Epoch 9 | Loss: 0.007402877788990736 | Accuracy: 100.0%\n",
            "GB | Epoch 9 | Loss: 0.014726653695106506 | Accuracy: 100.0%\n",
            "GB | Epoch 9 | Loss: 0.011033736169338226 | Accuracy: 100.0%\n",
            "GB | Epoch 9 | Loss: 0.0705186277627945 | Accuracy: 96.875%\n"
          ]
        },
        {
          "name": "stderr",
          "output_type": "stream",
          "text": [
            "Epoch 9:  39%|███▉      | 294/751 [00:03<00:04, 102.61batch/s, accuracy=100.0%, loss=0.00805]"
          ]
        },
        {
          "name": "stdout",
          "output_type": "stream",
          "text": [
            "GB | Epoch 9 | Loss: 0.2592041492462158 | Accuracy: 96.875%\n",
            "GB | Epoch 9 | Loss: 0.014015525579452515 | Accuracy: 100.0%\n",
            "GB | Epoch 9 | Loss: 0.005988954566419125 | Accuracy: 100.0%\n",
            "GB | Epoch 9 | Loss: 0.019260376691818237 | Accuracy: 100.0%\n",
            "GB | Epoch 9 | Loss: 0.021541010588407516 | Accuracy: 98.4375%\n",
            "GB | Epoch 9 | Loss: 0.03427603095769882 | Accuracy: 98.4375%\n",
            "GB | Epoch 9 | Loss: 0.016037292778491974 | Accuracy: 100.0%\n",
            "GB | Epoch 9 | Loss: 0.0293070487678051 | Accuracy: 98.4375%\n",
            "GB | Epoch 9 | Loss: 0.018152447417378426 | Accuracy: 100.0%\n",
            "GB | Epoch 9 | Loss: 0.03231239318847656 | Accuracy: 100.0%\n",
            "GB | Epoch 9 | Loss: 0.010165398009121418 | Accuracy: 100.0%\n",
            "GB | Epoch 9 | Loss: 0.017407411709427834 | Accuracy: 100.0%\n",
            "GB | Epoch 9 | Loss: 0.07047362625598907 | Accuracy: 98.4375%\n",
            "GB | Epoch 9 | Loss: 0.023471541702747345 | Accuracy: 100.0%\n",
            "GB | Epoch 9 | Loss: 0.009188932366669178 | Accuracy: 100.0%\n",
            "GB | Epoch 9 | Loss: 0.03118126094341278 | Accuracy: 100.0%\n",
            "GB | Epoch 9 | Loss: 0.007515227422118187 | Accuracy: 100.0%\n",
            "GB | Epoch 9 | Loss: 0.008400856517255306 | Accuracy: 100.0%\n",
            "GB | Epoch 9 | Loss: 0.01830623485147953 | Accuracy: 100.0%\n",
            "GB | Epoch 9 | Loss: 0.010418495163321495 | Accuracy: 100.0%\n",
            "GB | Epoch 9 | Loss: 0.012674324214458466 | Accuracy: 100.0%\n",
            "GB | Epoch 9 | Loss: 0.008046005852520466 | Accuracy: 100.0%\n"
          ]
        },
        {
          "name": "stderr",
          "output_type": "stream",
          "text": [
            "Epoch 9:  42%|████▏     | 316/751 [00:03<00:04, 103.82batch/s, accuracy=100.0%, loss=0.013] "
          ]
        },
        {
          "name": "stdout",
          "output_type": "stream",
          "text": [
            "GB | Epoch 9 | Loss: 0.022063303738832474 | Accuracy: 100.0%\n",
            "GB | Epoch 9 | Loss: 0.02092980034649372 | Accuracy: 100.0%\n",
            "GB | Epoch 9 | Loss: 0.014407849870622158 | Accuracy: 100.0%\n",
            "GB | Epoch 9 | Loss: 0.01873880997300148 | Accuracy: 100.0%\n",
            "GB | Epoch 9 | Loss: 0.010825028643012047 | Accuracy: 100.0%\n",
            "GB | Epoch 9 | Loss: 0.010076495818793774 | Accuracy: 100.0%\n",
            "GB | Epoch 9 | Loss: 0.00835730042308569 | Accuracy: 100.0%\n",
            "GB | Epoch 9 | Loss: 0.019395090639591217 | Accuracy: 100.0%\n",
            "GB | Epoch 9 | Loss: 0.05899360403418541 | Accuracy: 96.875%\n",
            "GB | Epoch 9 | Loss: 0.011210051365196705 | Accuracy: 100.0%\n",
            "GB | Epoch 9 | Loss: 0.012097657658159733 | Accuracy: 100.0%\n",
            "GB | Epoch 9 | Loss: 0.016056610271334648 | Accuracy: 100.0%\n",
            "GB | Epoch 9 | Loss: 0.056098323315382004 | Accuracy: 98.4375%\n",
            "GB | Epoch 9 | Loss: 0.014640155248343945 | Accuracy: 100.0%\n",
            "GB | Epoch 9 | Loss: 0.040474168956279755 | Accuracy: 98.4375%\n",
            "GB | Epoch 9 | Loss: 0.015262661501765251 | Accuracy: 100.0%\n",
            "GB | Epoch 9 | Loss: 0.04026726260781288 | Accuracy: 98.4375%\n",
            "GB | Epoch 9 | Loss: 0.02947867475450039 | Accuracy: 100.0%\n",
            "GB | Epoch 9 | Loss: 0.13070522248744965 | Accuracy: 98.4375%\n",
            "GB | Epoch 9 | Loss: 0.02861824259161949 | Accuracy: 100.0%\n",
            "GB | Epoch 9 | Loss: 0.012984621338546276 | Accuracy: 100.0%\n"
          ]
        },
        {
          "name": "stderr",
          "output_type": "stream",
          "text": [
            "Epoch 9:  45%|████▌     | 338/751 [00:03<00:04, 102.61batch/s, accuracy=100.0%, loss=0.0361]"
          ]
        },
        {
          "name": "stdout",
          "output_type": "stream",
          "text": [
            "GB | Epoch 9 | Loss: 0.014449512585997581 | Accuracy: 100.0%\n",
            "GB | Epoch 9 | Loss: 0.025102779269218445 | Accuracy: 98.4375%\n",
            "GB | Epoch 9 | Loss: 0.010067397728562355 | Accuracy: 100.0%\n",
            "GB | Epoch 9 | Loss: 0.00842954870313406 | Accuracy: 100.0%\n",
            "GB | Epoch 9 | Loss: 0.03882216662168503 | Accuracy: 98.4375%\n",
            "GB | Epoch 9 | Loss: 0.07534442842006683 | Accuracy: 96.875%\n",
            "GB | Epoch 9 | Loss: 0.01904202811419964 | Accuracy: 100.0%\n",
            "GB | Epoch 9 | Loss: 0.16323217749595642 | Accuracy: 96.875%\n",
            "GB | Epoch 9 | Loss: 0.057082582265138626 | Accuracy: 96.875%\n",
            "GB | Epoch 9 | Loss: 0.01974741369485855 | Accuracy: 100.0%\n",
            "GB | Epoch 9 | Loss: 0.01735989935696125 | Accuracy: 100.0%\n",
            "GB | Epoch 9 | Loss: 0.007010462693870068 | Accuracy: 100.0%\n",
            "GB | Epoch 9 | Loss: 0.23742707073688507 | Accuracy: 96.875%\n",
            "GB | Epoch 9 | Loss: 0.018431195989251137 | Accuracy: 100.0%\n",
            "GB | Epoch 9 | Loss: 0.047101106494665146 | Accuracy: 98.4375%\n",
            "GB | Epoch 9 | Loss: 0.10661281645298004 | Accuracy: 95.3125%\n",
            "GB | Epoch 9 | Loss: 0.023218242451548576 | Accuracy: 100.0%\n",
            "GB | Epoch 9 | Loss: 0.024072350934147835 | Accuracy: 100.0%\n",
            "GB | Epoch 9 | Loss: 0.019522687420248985 | Accuracy: 100.0%\n",
            "GB | Epoch 9 | Loss: 0.04035510495305061 | Accuracy: 100.0%\n",
            "GB | Epoch 9 | Loss: 0.01910245791077614 | Accuracy: 100.0%\n",
            "GB | Epoch 9 | Loss: 0.03613639250397682 | Accuracy: 100.0%\n"
          ]
        },
        {
          "name": "stderr",
          "output_type": "stream",
          "text": [
            "Epoch 9:  48%|████▊     | 362/751 [00:03<00:03, 109.58batch/s, accuracy=100.0%, loss=0.0125]"
          ]
        },
        {
          "name": "stdout",
          "output_type": "stream",
          "text": [
            "GB | Epoch 9 | Loss: 0.07731281965970993 | Accuracy: 95.3125%\n",
            "GB | Epoch 9 | Loss: 0.03324805572628975 | Accuracy: 98.4375%\n",
            "GB | Epoch 9 | Loss: 0.0571213960647583 | Accuracy: 96.875%\n",
            "GB | Epoch 9 | Loss: 0.012083383277058601 | Accuracy: 100.0%\n",
            "GB | Epoch 9 | Loss: 0.028907522559165955 | Accuracy: 100.0%\n",
            "GB | Epoch 9 | Loss: 0.0827687606215477 | Accuracy: 96.875%\n",
            "GB | Epoch 9 | Loss: 0.10256756842136383 | Accuracy: 96.875%\n",
            "GB | Epoch 9 | Loss: 0.014295514672994614 | Accuracy: 100.0%\n",
            "GB | Epoch 9 | Loss: 0.09234682470560074 | Accuracy: 96.875%\n",
            "GB | Epoch 9 | Loss: 0.0653737410902977 | Accuracy: 98.4375%\n",
            "GB | Epoch 9 | Loss: 0.022845201194286346 | Accuracy: 100.0%\n",
            "GB | Epoch 9 | Loss: 0.02561252750456333 | Accuracy: 100.0%\n",
            "GB | Epoch 9 | Loss: 0.017757082358002663 | Accuracy: 100.0%\n",
            "GB | Epoch 9 | Loss: 0.018730856478214264 | Accuracy: 100.0%\n",
            "GB | Epoch 9 | Loss: 0.016079941764473915 | Accuracy: 100.0%\n",
            "GB | Epoch 9 | Loss: 0.20704418420791626 | Accuracy: 98.4375%\n",
            "GB | Epoch 9 | Loss: 0.015792764723300934 | Accuracy: 100.0%\n",
            "GB | Epoch 9 | Loss: 0.015857640653848648 | Accuracy: 100.0%\n",
            "GB | Epoch 9 | Loss: 0.02918045036494732 | Accuracy: 98.4375%\n",
            "GB | Epoch 9 | Loss: 0.016951750963926315 | Accuracy: 100.0%\n",
            "GB | Epoch 9 | Loss: 0.019110802561044693 | Accuracy: 100.0%\n",
            "GB | Epoch 9 | Loss: 0.031150253489613533 | Accuracy: 100.0%\n",
            "GB | Epoch 9 | Loss: 0.021317938342690468 | Accuracy: 100.0%\n",
            "GB | Epoch 9 | Loss: 0.01253357995301485 | Accuracy: 100.0%\n"
          ]
        },
        {
          "name": "stderr",
          "output_type": "stream",
          "text": [
            "Epoch 9:  51%|█████     | 384/751 [00:04<00:03, 108.53batch/s, accuracy=100.0%, loss=0.0127] "
          ]
        },
        {
          "name": "stdout",
          "output_type": "stream",
          "text": [
            "GB | Epoch 9 | Loss: 0.018610049039125443 | Accuracy: 100.0%\n",
            "GB | Epoch 9 | Loss: 0.016802551224827766 | Accuracy: 100.0%\n",
            "GB | Epoch 9 | Loss: 0.015333113260567188 | Accuracy: 100.0%\n",
            "GB | Epoch 9 | Loss: 0.15869827568531036 | Accuracy: 98.4375%\n",
            "GB | Epoch 9 | Loss: 0.01726970076560974 | Accuracy: 100.0%\n",
            "GB | Epoch 9 | Loss: 0.05351301282644272 | Accuracy: 98.4375%\n",
            "GB | Epoch 9 | Loss: 0.012098202481865883 | Accuracy: 100.0%\n",
            "GB | Epoch 9 | Loss: 0.01307331956923008 | Accuracy: 100.0%\n",
            "GB | Epoch 9 | Loss: 0.009358654730021954 | Accuracy: 100.0%\n",
            "GB | Epoch 9 | Loss: 0.0235377736389637 | Accuracy: 98.4375%\n",
            "GB | Epoch 9 | Loss: 0.05643849074840546 | Accuracy: 98.4375%\n",
            "GB | Epoch 9 | Loss: 0.04056449234485626 | Accuracy: 98.4375%\n",
            "GB | Epoch 9 | Loss: 0.012751530855894089 | Accuracy: 100.0%\n",
            "GB | Epoch 9 | Loss: 0.02452801913022995 | Accuracy: 98.4375%\n",
            "GB | Epoch 9 | Loss: 0.203514963388443 | Accuracy: 98.4375%\n",
            "GB | Epoch 9 | Loss: 0.03898561745882034 | Accuracy: 98.4375%\n",
            "GB | Epoch 9 | Loss: 0.1132439374923706 | Accuracy: 98.4375%\n",
            "GB | Epoch 9 | Loss: 0.03153393045067787 | Accuracy: 98.4375%\n",
            "GB | Epoch 9 | Loss: 0.009400865994393826 | Accuracy: 100.0%\n",
            "GB | Epoch 9 | Loss: 0.0058738961815834045 | Accuracy: 100.0%\n",
            "GB | Epoch 9 | Loss: 0.07063933461904526 | Accuracy: 96.875%\n",
            "GB | Epoch 9 | Loss: 0.012717765755951405 | Accuracy: 100.0%\n"
          ]
        },
        {
          "name": "stderr",
          "output_type": "stream",
          "text": [
            "Epoch 9:  54%|█████▍    | 408/751 [00:04<00:03, 109.29batch/s, accuracy=100.0%, loss=0.0208]"
          ]
        },
        {
          "name": "stdout",
          "output_type": "stream",
          "text": [
            "GB | Epoch 9 | Loss: 0.01148271095007658 | Accuracy: 100.0%\n",
            "GB | Epoch 9 | Loss: 0.08754750341176987 | Accuracy: 98.4375%\n",
            "GB | Epoch 9 | Loss: 0.01641879975795746 | Accuracy: 100.0%\n",
            "GB | Epoch 9 | Loss: 0.00856682937592268 | Accuracy: 100.0%\n",
            "GB | Epoch 9 | Loss: 0.042761098593473434 | Accuracy: 96.875%\n",
            "GB | Epoch 9 | Loss: 0.036145955324172974 | Accuracy: 98.4375%\n",
            "GB | Epoch 9 | Loss: 0.03205503895878792 | Accuracy: 100.0%\n",
            "GB | Epoch 9 | Loss: 0.015960445627570152 | Accuracy: 100.0%\n",
            "GB | Epoch 9 | Loss: 0.03206077963113785 | Accuracy: 98.4375%\n",
            "GB | Epoch 9 | Loss: 0.10638763010501862 | Accuracy: 98.4375%\n",
            "GB | Epoch 9 | Loss: 0.0321037583053112 | Accuracy: 100.0%\n",
            "GB | Epoch 9 | Loss: 0.01593034900724888 | Accuracy: 100.0%\n",
            "GB | Epoch 9 | Loss: 0.05092332884669304 | Accuracy: 98.4375%\n",
            "GB | Epoch 9 | Loss: 0.010137120261788368 | Accuracy: 100.0%\n",
            "GB | Epoch 9 | Loss: 0.013664012774825096 | Accuracy: 100.0%\n",
            "GB | Epoch 9 | Loss: 0.09421933442354202 | Accuracy: 96.875%\n",
            "GB | Epoch 9 | Loss: 0.015063515864312649 | Accuracy: 100.0%\n",
            "GB | Epoch 9 | Loss: 0.15916189551353455 | Accuracy: 96.875%\n",
            "GB | Epoch 9 | Loss: 0.030127927660942078 | Accuracy: 100.0%\n",
            "GB | Epoch 9 | Loss: 0.01767602190375328 | Accuracy: 100.0%\n",
            "GB | Epoch 9 | Loss: 0.020793460309505463 | Accuracy: 100.0%\n"
          ]
        },
        {
          "name": "stderr",
          "output_type": "stream",
          "text": [
            "Epoch 9:  57%|█████▋    | 430/751 [00:04<00:03, 103.21batch/s, accuracy=100.0%, loss=0.0245]  "
          ]
        },
        {
          "name": "stdout",
          "output_type": "stream",
          "text": [
            "GB | Epoch 9 | Loss: 0.03157832473516464 | Accuracy: 100.0%\n",
            "GB | Epoch 9 | Loss: 0.021162305027246475 | Accuracy: 100.0%\n",
            "GB | Epoch 9 | Loss: 0.018297823145985603 | Accuracy: 100.0%\n",
            "GB | Epoch 9 | Loss: 0.01087634451687336 | Accuracy: 100.0%\n",
            "GB | Epoch 9 | Loss: 0.012848136015236378 | Accuracy: 100.0%\n",
            "GB | Epoch 9 | Loss: 0.016723154112696648 | Accuracy: 100.0%\n",
            "GB | Epoch 9 | Loss: 0.012816498056054115 | Accuracy: 100.0%\n",
            "GB | Epoch 9 | Loss: 0.15529771149158478 | Accuracy: 98.4375%\n",
            "GB | Epoch 9 | Loss: 0.012760861776769161 | Accuracy: 100.0%\n",
            "GB | Epoch 9 | Loss: 0.14050506055355072 | Accuracy: 98.4375%\n",
            "GB | Epoch 9 | Loss: 0.01230914331972599 | Accuracy: 100.0%\n",
            "GB | Epoch 9 | Loss: 0.024862242862582207 | Accuracy: 98.4375%\n",
            "GB | Epoch 9 | Loss: 0.009998327121138573 | Accuracy: 100.0%\n",
            "GB | Epoch 9 | Loss: 0.19396395981311798 | Accuracy: 98.4375%\n",
            "GB | Epoch 9 | Loss: 0.014957348816096783 | Accuracy: 100.0%\n",
            "GB | Epoch 9 | Loss: 0.03365234285593033 | Accuracy: 98.4375%\n",
            "GB | Epoch 9 | Loss: 0.0588628426194191 | Accuracy: 98.4375%\n",
            "GB | Epoch 9 | Loss: 0.01633320190012455 | Accuracy: 100.0%\n",
            "GB | Epoch 9 | Loss: 0.027620552107691765 | Accuracy: 98.4375%\n",
            "GB | Epoch 9 | Loss: 0.02453034743666649 | Accuracy: 100.0%\n"
          ]
        },
        {
          "name": "stderr",
          "output_type": "stream",
          "text": [
            "Epoch 9:  60%|██████    | 453/751 [00:04<00:02, 106.26batch/s, accuracy=96.875%, loss=0.191]  "
          ]
        },
        {
          "name": "stdout",
          "output_type": "stream",
          "text": [
            "GB | Epoch 9 | Loss: 0.057415783405303955 | Accuracy: 98.4375%\n",
            "GB | Epoch 9 | Loss: 0.026178136467933655 | Accuracy: 100.0%\n",
            "GB | Epoch 9 | Loss: 0.011476547457277775 | Accuracy: 100.0%\n",
            "GB | Epoch 9 | Loss: 0.05408383905887604 | Accuracy: 96.875%\n",
            "GB | Epoch 9 | Loss: 0.01568683236837387 | Accuracy: 100.0%\n",
            "GB | Epoch 9 | Loss: 0.009693408384919167 | Accuracy: 100.0%\n",
            "GB | Epoch 9 | Loss: 0.015729838982224464 | Accuracy: 100.0%\n",
            "GB | Epoch 9 | Loss: 0.022679658606648445 | Accuracy: 100.0%\n",
            "GB | Epoch 9 | Loss: 0.025863058865070343 | Accuracy: 100.0%\n",
            "GB | Epoch 9 | Loss: 0.01549440622329712 | Accuracy: 100.0%\n",
            "GB | Epoch 9 | Loss: 0.010941973887383938 | Accuracy: 100.0%\n",
            "GB | Epoch 9 | Loss: 0.029180919751524925 | Accuracy: 100.0%\n",
            "GB | Epoch 9 | Loss: 0.012002103962004185 | Accuracy: 100.0%\n",
            "GB | Epoch 9 | Loss: 0.12424923479557037 | Accuracy: 96.875%\n",
            "GB | Epoch 9 | Loss: 0.09942438453435898 | Accuracy: 98.4375%\n",
            "GB | Epoch 9 | Loss: 0.013348611071705818 | Accuracy: 100.0%\n",
            "GB | Epoch 9 | Loss: 0.03942452371120453 | Accuracy: 98.4375%\n",
            "GB | Epoch 9 | Loss: 0.027144869789481163 | Accuracy: 98.4375%\n",
            "GB | Epoch 9 | Loss: 0.01565311662852764 | Accuracy: 100.0%\n",
            "GB | Epoch 9 | Loss: 0.025903161615133286 | Accuracy: 100.0%\n",
            "GB | Epoch 9 | Loss: 0.04747955873608589 | Accuracy: 98.4375%\n",
            "GB | Epoch 9 | Loss: 0.016213320195674896 | Accuracy: 100.0%\n",
            "GB | Epoch 9 | Loss: 0.035689618438482285 | Accuracy: 98.4375%\n",
            "GB | Epoch 9 | Loss: 0.19118693470954895 | Accuracy: 96.875%\n"
          ]
        },
        {
          "name": "stderr",
          "output_type": "stream",
          "text": [
            "Epoch 9:  64%|██████▎   | 477/751 [00:04<00:02, 111.21batch/s, accuracy=96.875%, loss=0.0474] "
          ]
        },
        {
          "name": "stdout",
          "output_type": "stream",
          "text": [
            "GB | Epoch 9 | Loss: 0.026035360991954803 | Accuracy: 100.0%\n",
            "GB | Epoch 9 | Loss: 0.029385359957814217 | Accuracy: 100.0%\n",
            "GB | Epoch 9 | Loss: 0.01194905024021864 | Accuracy: 100.0%\n",
            "GB | Epoch 9 | Loss: 0.0422087237238884 | Accuracy: 98.4375%\n",
            "GB | Epoch 9 | Loss: 0.014226683415472507 | Accuracy: 100.0%\n",
            "GB | Epoch 9 | Loss: 0.017271604388952255 | Accuracy: 100.0%\n",
            "GB | Epoch 9 | Loss: 0.01257108524441719 | Accuracy: 100.0%\n",
            "GB | Epoch 9 | Loss: 0.014775624498724937 | Accuracy: 100.0%\n",
            "GB | Epoch 9 | Loss: 0.009493900462985039 | Accuracy: 100.0%\n",
            "GB | Epoch 9 | Loss: 0.022607924416661263 | Accuracy: 100.0%\n",
            "GB | Epoch 9 | Loss: 0.01355710532516241 | Accuracy: 100.0%\n",
            "GB | Epoch 9 | Loss: 0.13928838074207306 | Accuracy: 98.4375%\n",
            "GB | Epoch 9 | Loss: 0.01537424698472023 | Accuracy: 100.0%\n",
            "GB | Epoch 9 | Loss: 0.020348258316516876 | Accuracy: 100.0%\n",
            "GB | Epoch 9 | Loss: 0.039213720709085464 | Accuracy: 96.875%\n",
            "GB | Epoch 9 | Loss: 0.017520733177661896 | Accuracy: 100.0%\n",
            "GB | Epoch 9 | Loss: 0.03628776967525482 | Accuracy: 98.4375%\n",
            "GB | Epoch 9 | Loss: 0.004598465748131275 | Accuracy: 100.0%\n",
            "GB | Epoch 9 | Loss: 0.038325097411870956 | Accuracy: 98.4375%\n",
            "GB | Epoch 9 | Loss: 0.007247633300721645 | Accuracy: 100.0%\n",
            "GB | Epoch 9 | Loss: 0.021560458466410637 | Accuracy: 98.4375%\n",
            "GB | Epoch 9 | Loss: 0.026051171123981476 | Accuracy: 98.4375%\n",
            "GB | Epoch 9 | Loss: 0.047372929751873016 | Accuracy: 96.875%\n"
          ]
        },
        {
          "name": "stderr",
          "output_type": "stream",
          "text": [
            "Epoch 9:  65%|██████▌   | 489/751 [00:05<00:02, 104.29batch/s, accuracy=98.4375%, loss=0.0344]"
          ]
        },
        {
          "name": "stdout",
          "output_type": "stream",
          "text": [
            "GB | Epoch 9 | Loss: 0.11365827172994614 | Accuracy: 96.875%\n",
            "GB | Epoch 9 | Loss: 0.03302803263068199 | Accuracy: 100.0%\n",
            "GB | Epoch 9 | Loss: 0.019290437921881676 | Accuracy: 100.0%\n",
            "GB | Epoch 9 | Loss: 0.03664882108569145 | Accuracy: 98.4375%\n",
            "GB | Epoch 9 | Loss: 0.023047374561429024 | Accuracy: 100.0%\n",
            "GB | Epoch 9 | Loss: 0.03301376476883888 | Accuracy: 100.0%\n",
            "GB | Epoch 9 | Loss: 0.023455053567886353 | Accuracy: 100.0%\n",
            "GB | Epoch 9 | Loss: 0.0146709019318223 | Accuracy: 100.0%\n",
            "GB | Epoch 9 | Loss: 0.014218277297914028 | Accuracy: 100.0%\n",
            "GB | Epoch 9 | Loss: 0.025944728404283524 | Accuracy: 100.0%\n",
            "GB | Epoch 9 | Loss: 0.010635352693498135 | Accuracy: 100.0%\n",
            "GB | Epoch 9 | Loss: 0.009914220310747623 | Accuracy: 100.0%\n",
            "GB | Epoch 9 | Loss: 0.04773951694369316 | Accuracy: 98.4375%\n",
            "GB | Epoch 9 | Loss: 0.010932552628219128 | Accuracy: 100.0%\n",
            "GB | Epoch 9 | Loss: 0.006593914702534676 | Accuracy: 100.0%\n",
            "GB | Epoch 9 | Loss: 0.015046422369778156 | Accuracy: 100.0%\n",
            "GB | Epoch 9 | Loss: 0.07639463245868683 | Accuracy: 98.4375%\n",
            "GB | Epoch 9 | Loss: 0.01732248067855835 | Accuracy: 100.0%\n",
            "GB | Epoch 9 | Loss: 0.013741398230195045 | Accuracy: 100.0%\n",
            "GB | Epoch 9 | Loss: 0.03438922017812729 | Accuracy: 98.4375%\n"
          ]
        },
        {
          "name": "stderr",
          "output_type": "stream",
          "text": [
            "Epoch 9:  68%|██████▊   | 511/751 [00:05<00:02, 103.03batch/s, accuracy=96.875%, loss=0.201]"
          ]
        },
        {
          "name": "stdout",
          "output_type": "stream",
          "text": [
            "GB | Epoch 9 | Loss: 0.08661260455846786 | Accuracy: 98.4375%\n",
            "GB | Epoch 9 | Loss: 0.007067352067679167 | Accuracy: 100.0%\n",
            "GB | Epoch 9 | Loss: 0.1288425624370575 | Accuracy: 96.875%\n",
            "GB | Epoch 9 | Loss: 0.01281359139829874 | Accuracy: 100.0%\n",
            "GB | Epoch 9 | Loss: 0.030691610649228096 | Accuracy: 98.4375%\n",
            "GB | Epoch 9 | Loss: 0.04775846749544144 | Accuracy: 98.4375%\n",
            "GB | Epoch 9 | Loss: 0.017721975222229958 | Accuracy: 100.0%\n",
            "GB | Epoch 9 | Loss: 0.02331661619246006 | Accuracy: 100.0%\n",
            "GB | Epoch 9 | Loss: 0.01682913303375244 | Accuracy: 100.0%\n",
            "GB | Epoch 9 | Loss: 0.011397032998502254 | Accuracy: 100.0%\n",
            "GB | Epoch 9 | Loss: 0.19251443445682526 | Accuracy: 96.875%\n",
            "GB | Epoch 9 | Loss: 0.06409003585577011 | Accuracy: 98.4375%\n",
            "GB | Epoch 9 | Loss: 0.022428099066019058 | Accuracy: 100.0%\n",
            "GB | Epoch 9 | Loss: 0.013152487576007843 | Accuracy: 100.0%\n",
            "GB | Epoch 9 | Loss: 0.01617593504488468 | Accuracy: 100.0%\n",
            "GB | Epoch 9 | Loss: 0.04596645385026932 | Accuracy: 98.4375%\n",
            "GB | Epoch 9 | Loss: 0.15821444988250732 | Accuracy: 98.4375%\n",
            "GB | Epoch 9 | Loss: 0.04600922390818596 | Accuracy: 98.4375%\n",
            "GB | Epoch 9 | Loss: 0.026727896183729172 | Accuracy: 100.0%\n",
            "GB | Epoch 9 | Loss: 0.20120440423488617 | Accuracy: 96.875%\n"
          ]
        },
        {
          "name": "stderr",
          "output_type": "stream",
          "text": [
            "Epoch 9:  71%|███████   | 533/751 [00:05<00:02, 99.13batch/s, accuracy=100.0%, loss=0.00911]"
          ]
        },
        {
          "name": "stdout",
          "output_type": "stream",
          "text": [
            "GB | Epoch 9 | Loss: 0.017043141648173332 | Accuracy: 100.0%\n",
            "GB | Epoch 9 | Loss: 0.03779478743672371 | Accuracy: 98.4375%\n",
            "GB | Epoch 9 | Loss: 0.041489288210868835 | Accuracy: 100.0%\n",
            "GB | Epoch 9 | Loss: 0.014577504247426987 | Accuracy: 100.0%\n",
            "GB | Epoch 9 | Loss: 0.015134201385080814 | Accuracy: 100.0%\n",
            "GB | Epoch 9 | Loss: 0.014663011766970158 | Accuracy: 100.0%\n",
            "GB | Epoch 9 | Loss: 0.023566141724586487 | Accuracy: 100.0%\n",
            "GB | Epoch 9 | Loss: 0.007130600977689028 | Accuracy: 100.0%\n",
            "GB | Epoch 9 | Loss: 0.00738311093300581 | Accuracy: 100.0%\n",
            "GB | Epoch 9 | Loss: 0.009292762726545334 | Accuracy: 100.0%\n",
            "GB | Epoch 9 | Loss: 0.008110282942652702 | Accuracy: 100.0%\n",
            "GB | Epoch 9 | Loss: 0.08417059481143951 | Accuracy: 98.4375%\n",
            "GB | Epoch 9 | Loss: 0.04435938596725464 | Accuracy: 98.4375%\n",
            "GB | Epoch 9 | Loss: 0.010098105296492577 | Accuracy: 100.0%\n",
            "GB | Epoch 9 | Loss: 0.020946575328707695 | Accuracy: 100.0%\n",
            "GB | Epoch 9 | Loss: 0.010567521676421165 | Accuracy: 100.0%\n",
            "GB | Epoch 9 | Loss: 0.03802615404129028 | Accuracy: 98.4375%\n",
            "GB | Epoch 9 | Loss: 0.0590352863073349 | Accuracy: 98.4375%\n",
            "GB | Epoch 9 | Loss: 0.012439548969268799 | Accuracy: 100.0%\n",
            "GB | Epoch 9 | Loss: 0.009110602550208569 | Accuracy: 100.0%\n"
          ]
        },
        {
          "name": "stderr",
          "output_type": "stream",
          "text": [
            "Epoch 9:  74%|███████▍  | 555/751 [00:05<00:01, 103.78batch/s, accuracy=98.4375%, loss=0.096]"
          ]
        },
        {
          "name": "stdout",
          "output_type": "stream",
          "text": [
            "GB | Epoch 9 | Loss: 0.016118360683321953 | Accuracy: 100.0%\n",
            "GB | Epoch 9 | Loss: 0.05454269424080849 | Accuracy: 96.875%\n",
            "GB | Epoch 9 | Loss: 0.03792818635702133 | Accuracy: 98.4375%\n",
            "GB | Epoch 9 | Loss: 0.048989515751600266 | Accuracy: 98.4375%\n",
            "GB | Epoch 9 | Loss: 0.0742327943444252 | Accuracy: 98.4375%\n",
            "GB | Epoch 9 | Loss: 0.032000865787267685 | Accuracy: 98.4375%\n",
            "GB | Epoch 9 | Loss: 0.01700793206691742 | Accuracy: 100.0%\n",
            "GB | Epoch 9 | Loss: 0.013809340074658394 | Accuracy: 100.0%\n",
            "GB | Epoch 9 | Loss: 0.021200481802225113 | Accuracy: 100.0%\n",
            "GB | Epoch 9 | Loss: 0.02041744440793991 | Accuracy: 100.0%\n",
            "GB | Epoch 9 | Loss: 0.008167033083736897 | Accuracy: 100.0%\n",
            "GB | Epoch 9 | Loss: 0.020946452394127846 | Accuracy: 100.0%\n",
            "GB | Epoch 9 | Loss: 0.06636399775743484 | Accuracy: 98.4375%\n",
            "GB | Epoch 9 | Loss: 0.013927935622632504 | Accuracy: 100.0%\n",
            "GB | Epoch 9 | Loss: 0.021044673398137093 | Accuracy: 100.0%\n",
            "GB | Epoch 9 | Loss: 0.010036522522568703 | Accuracy: 100.0%\n",
            "GB | Epoch 9 | Loss: 0.04007088765501976 | Accuracy: 98.4375%\n",
            "GB | Epoch 9 | Loss: 0.020613525062799454 | Accuracy: 100.0%\n",
            "GB | Epoch 9 | Loss: 0.007230675779283047 | Accuracy: 100.0%\n",
            "GB | Epoch 9 | Loss: 0.008891647681593895 | Accuracy: 100.0%\n",
            "GB | Epoch 9 | Loss: 0.09601254761219025 | Accuracy: 98.4375%\n"
          ]
        },
        {
          "name": "stderr",
          "output_type": "stream",
          "text": [
            "Epoch 9:  77%|███████▋  | 577/751 [00:05<00:01, 97.20batch/s, accuracy=100.0%, loss=0.0117] "
          ]
        },
        {
          "name": "stdout",
          "output_type": "stream",
          "text": [
            "GB | Epoch 9 | Loss: 0.007739734835922718 | Accuracy: 100.0%\n",
            "GB | Epoch 9 | Loss: 0.020038651302456856 | Accuracy: 100.0%\n",
            "GB | Epoch 9 | Loss: 0.04452333599328995 | Accuracy: 98.4375%\n",
            "GB | Epoch 9 | Loss: 0.013546456582844257 | Accuracy: 100.0%\n",
            "GB | Epoch 9 | Loss: 0.011858404614031315 | Accuracy: 100.0%\n",
            "GB | Epoch 9 | Loss: 0.010650836862623692 | Accuracy: 100.0%\n",
            "GB | Epoch 9 | Loss: 0.009794297628104687 | Accuracy: 100.0%\n",
            "GB | Epoch 9 | Loss: 0.01062769815325737 | Accuracy: 100.0%\n",
            "GB | Epoch 9 | Loss: 0.06964357942342758 | Accuracy: 98.4375%\n",
            "GB | Epoch 9 | Loss: 0.020384302362799644 | Accuracy: 98.4375%\n",
            "GB | Epoch 9 | Loss: 0.04291525483131409 | Accuracy: 98.4375%\n",
            "GB | Epoch 9 | Loss: 0.00915390532463789 | Accuracy: 100.0%\n",
            "GB | Epoch 9 | Loss: 0.011888368055224419 | Accuracy: 100.0%\n",
            "GB | Epoch 9 | Loss: 0.009372043423354626 | Accuracy: 100.0%\n",
            "GB | Epoch 9 | Loss: 0.010947133414447308 | Accuracy: 100.0%\n",
            "GB | Epoch 9 | Loss: 0.02068912982940674 | Accuracy: 100.0%\n",
            "GB | Epoch 9 | Loss: 0.0097583569586277 | Accuracy: 100.0%\n",
            "GB | Epoch 9 | Loss: 0.00696210702881217 | Accuracy: 100.0%\n",
            "GB | Epoch 9 | Loss: 0.011726086027920246 | Accuracy: 100.0%\n"
          ]
        },
        {
          "name": "stderr",
          "output_type": "stream",
          "text": [
            "Epoch 9:  79%|███████▉  | 597/751 [00:06<00:01, 92.02batch/s, accuracy=100.0%, loss=0.0094]"
          ]
        },
        {
          "name": "stdout",
          "output_type": "stream",
          "text": [
            "GB | Epoch 9 | Loss: 0.02926046773791313 | Accuracy: 98.4375%\n",
            "GB | Epoch 9 | Loss: 0.012748501263558865 | Accuracy: 100.0%\n",
            "GB | Epoch 9 | Loss: 0.007267855107784271 | Accuracy: 100.0%\n",
            "GB | Epoch 9 | Loss: 0.032253846526145935 | Accuracy: 98.4375%\n",
            "GB | Epoch 9 | Loss: 0.014347863383591175 | Accuracy: 100.0%\n",
            "GB | Epoch 9 | Loss: 0.005087359342724085 | Accuracy: 100.0%\n",
            "GB | Epoch 9 | Loss: 0.020030496641993523 | Accuracy: 100.0%\n",
            "GB | Epoch 9 | Loss: 0.013268926180899143 | Accuracy: 100.0%\n",
            "GB | Epoch 9 | Loss: 0.1302821785211563 | Accuracy: 96.875%\n",
            "GB | Epoch 9 | Loss: 0.013832476921379566 | Accuracy: 100.0%\n",
            "GB | Epoch 9 | Loss: 0.018650108948349953 | Accuracy: 100.0%\n",
            "GB | Epoch 9 | Loss: 0.017117224633693695 | Accuracy: 100.0%\n",
            "GB | Epoch 9 | Loss: 0.010997815988957882 | Accuracy: 100.0%\n",
            "GB | Epoch 9 | Loss: 0.021939070895314217 | Accuracy: 98.4375%\n",
            "GB | Epoch 9 | Loss: 0.01069021038711071 | Accuracy: 100.0%\n",
            "GB | Epoch 9 | Loss: 0.010649207979440689 | Accuracy: 100.0%\n",
            "GB | Epoch 9 | Loss: 0.09545572847127914 | Accuracy: 96.875%\n",
            "GB | Epoch 9 | Loss: 0.009400563314557076 | Accuracy: 100.0%\n"
          ]
        },
        {
          "name": "stderr",
          "output_type": "stream",
          "text": [
            "Epoch 9:  81%|████████  | 607/751 [00:06<00:01, 91.97batch/s, accuracy=100.0%, loss=0.0159]"
          ]
        },
        {
          "name": "stdout",
          "output_type": "stream",
          "text": [
            "GB | Epoch 9 | Loss: 0.07345550507307053 | Accuracy: 98.4375%\n",
            "GB | Epoch 9 | Loss: 0.04580100625753403 | Accuracy: 98.4375%\n",
            "GB | Epoch 9 | Loss: 0.01391567476093769 | Accuracy: 100.0%\n",
            "GB | Epoch 9 | Loss: 0.03125878423452377 | Accuracy: 98.4375%\n",
            "GB | Epoch 9 | Loss: 0.08930639177560806 | Accuracy: 98.4375%\n",
            "GB | Epoch 9 | Loss: 0.008736823685467243 | Accuracy: 100.0%\n",
            "GB | Epoch 9 | Loss: 0.10373616963624954 | Accuracy: 96.875%\n",
            "GB | Epoch 9 | Loss: 0.04247308522462845 | Accuracy: 100.0%\n",
            "GB | Epoch 9 | Loss: 0.052875816822052 | Accuracy: 98.4375%\n",
            "GB | Epoch 9 | Loss: 0.05944037809967995 | Accuracy: 96.875%\n",
            "GB | Epoch 9 | Loss: 0.01600859872996807 | Accuracy: 100.0%\n",
            "GB | Epoch 9 | Loss: 0.020568205043673515 | Accuracy: 100.0%\n",
            "GB | Epoch 9 | Loss: 0.018381496891379356 | Accuracy: 100.0%\n",
            "GB | Epoch 9 | Loss: 0.013085048645734787 | Accuracy: 100.0%\n",
            "GB | Epoch 9 | Loss: 0.02573314681649208 | Accuracy: 100.0%\n",
            "GB | Epoch 9 | Loss: 0.021241821348667145 | Accuracy: 100.0%\n",
            "GB | Epoch 9 | Loss: 0.01666073687374592 | Accuracy: 100.0%\n",
            "GB | Epoch 9 | Loss: 0.01592811942100525 | Accuracy: 100.0%\n"
          ]
        },
        {
          "name": "stderr",
          "output_type": "stream",
          "text": [
            "Epoch 9:  83%|████████▎ | 627/751 [00:06<00:01, 89.28batch/s, accuracy=100.0%, loss=0.01]  "
          ]
        },
        {
          "name": "stdout",
          "output_type": "stream",
          "text": [
            "GB | Epoch 9 | Loss: 0.014356371946632862 | Accuracy: 100.0%\n",
            "GB | Epoch 9 | Loss: 0.011880357749760151 | Accuracy: 100.0%\n",
            "GB | Epoch 9 | Loss: 0.007500339299440384 | Accuracy: 100.0%\n",
            "GB | Epoch 9 | Loss: 0.021772518754005432 | Accuracy: 100.0%\n",
            "GB | Epoch 9 | Loss: 0.013708152808248997 | Accuracy: 100.0%\n",
            "GB | Epoch 9 | Loss: 0.020467247813940048 | Accuracy: 98.4375%\n",
            "GB | Epoch 9 | Loss: 0.0503384955227375 | Accuracy: 98.4375%\n",
            "GB | Epoch 9 | Loss: 0.00973956473171711 | Accuracy: 100.0%\n",
            "GB | Epoch 9 | Loss: 0.008401401340961456 | Accuracy: 100.0%\n",
            "GB | Epoch 9 | Loss: 0.014627698808908463 | Accuracy: 100.0%\n",
            "GB | Epoch 9 | Loss: 0.0441918671131134 | Accuracy: 98.4375%\n",
            "GB | Epoch 9 | Loss: 0.06032262369990349 | Accuracy: 96.875%\n",
            "GB | Epoch 9 | Loss: 0.02011031284928322 | Accuracy: 100.0%\n",
            "GB | Epoch 9 | Loss: 0.011565802618861198 | Accuracy: 100.0%\n",
            "GB | Epoch 9 | Loss: 0.014292649924755096 | Accuracy: 100.0%\n",
            "GB | Epoch 9 | Loss: 0.02115621790289879 | Accuracy: 100.0%\n",
            "GB | Epoch 9 | Loss: 0.013173246756196022 | Accuracy: 100.0%\n",
            "GB | Epoch 9 | Loss: 0.01987392082810402 | Accuracy: 100.0%\n",
            "GB | Epoch 9 | Loss: 0.010046446695923805 | Accuracy: 100.0%\n"
          ]
        },
        {
          "name": "stderr",
          "output_type": "stream",
          "text": [
            "Epoch 9:  86%|████████▋ | 648/751 [00:06<00:01, 95.14batch/s, accuracy=100.0%, loss=0.0179]"
          ]
        },
        {
          "name": "stdout",
          "output_type": "stream",
          "text": [
            "GB | Epoch 9 | Loss: 0.13425980508327484 | Accuracy: 98.4375%\n",
            "GB | Epoch 9 | Loss: 0.020081721246242523 | Accuracy: 98.4375%\n",
            "GB | Epoch 9 | Loss: 0.00817826483398676 | Accuracy: 100.0%\n",
            "GB | Epoch 9 | Loss: 0.011509477160871029 | Accuracy: 100.0%\n",
            "GB | Epoch 9 | Loss: 0.058935072273015976 | Accuracy: 98.4375%\n",
            "GB | Epoch 9 | Loss: 0.029099242761731148 | Accuracy: 98.4375%\n",
            "GB | Epoch 9 | Loss: 0.02053232491016388 | Accuracy: 100.0%\n",
            "GB | Epoch 9 | Loss: 0.02207169681787491 | Accuracy: 100.0%\n",
            "GB | Epoch 9 | Loss: 0.010956766083836555 | Accuracy: 100.0%\n",
            "GB | Epoch 9 | Loss: 0.037809696048498154 | Accuracy: 98.4375%\n",
            "GB | Epoch 9 | Loss: 0.0065464298240840435 | Accuracy: 100.0%\n",
            "GB | Epoch 9 | Loss: 0.011600937694311142 | Accuracy: 100.0%\n",
            "GB | Epoch 9 | Loss: 0.017096010968089104 | Accuracy: 100.0%\n",
            "GB | Epoch 9 | Loss: 0.01496409997344017 | Accuracy: 100.0%\n",
            "GB | Epoch 9 | Loss: 0.00809125043451786 | Accuracy: 100.0%\n",
            "GB | Epoch 9 | Loss: 0.005806652829051018 | Accuracy: 100.0%\n",
            "GB | Epoch 9 | Loss: 0.08314628899097443 | Accuracy: 96.875%\n",
            "GB | Epoch 9 | Loss: 0.024650495499372482 | Accuracy: 98.4375%\n",
            "GB | Epoch 9 | Loss: 0.12091793119907379 | Accuracy: 96.875%\n",
            "GB | Epoch 9 | Loss: 0.014512174762785435 | Accuracy: 100.0%\n",
            "GB | Epoch 9 | Loss: 0.015054025687277317 | Accuracy: 100.0%\n"
          ]
        },
        {
          "name": "stderr",
          "output_type": "stream",
          "text": [
            "Epoch 9:  89%|████████▉ | 669/751 [00:06<00:00, 96.13batch/s, accuracy=100.0%, loss=0.015] "
          ]
        },
        {
          "name": "stdout",
          "output_type": "stream",
          "text": [
            "GB | Epoch 9 | Loss: 0.017894046381115913 | Accuracy: 100.0%\n",
            "GB | Epoch 9 | Loss: 0.011801023036241531 | Accuracy: 100.0%\n",
            "GB | Epoch 9 | Loss: 0.01948169432580471 | Accuracy: 100.0%\n",
            "GB | Epoch 9 | Loss: 0.008784838020801544 | Accuracy: 100.0%\n",
            "GB | Epoch 9 | Loss: 0.010512696579098701 | Accuracy: 100.0%\n",
            "GB | Epoch 9 | Loss: 0.02811518870294094 | Accuracy: 100.0%\n",
            "GB | Epoch 9 | Loss: 0.03677031770348549 | Accuracy: 98.4375%\n",
            "GB | Epoch 9 | Loss: 0.00858297199010849 | Accuracy: 100.0%\n",
            "GB | Epoch 9 | Loss: 0.018214646726846695 | Accuracy: 100.0%\n",
            "GB | Epoch 9 | Loss: 0.019568227231502533 | Accuracy: 100.0%\n",
            "GB | Epoch 9 | Loss: 0.014040689915418625 | Accuracy: 100.0%\n",
            "GB | Epoch 9 | Loss: 0.00716811791062355 | Accuracy: 100.0%\n",
            "GB | Epoch 9 | Loss: 0.009955738671123981 | Accuracy: 100.0%\n",
            "GB | Epoch 9 | Loss: 0.014488507062196732 | Accuracy: 100.0%\n",
            "GB | Epoch 9 | Loss: 0.005305293947458267 | Accuracy: 100.0%\n",
            "GB | Epoch 9 | Loss: 0.039327334612607956 | Accuracy: 98.4375%\n",
            "GB | Epoch 9 | Loss: 0.0827498733997345 | Accuracy: 98.4375%\n",
            "GB | Epoch 9 | Loss: 0.02171335555613041 | Accuracy: 100.0%\n",
            "GB | Epoch 9 | Loss: 0.012699208222329617 | Accuracy: 100.0%\n"
          ]
        },
        {
          "name": "stderr",
          "output_type": "stream",
          "text": [
            "Epoch 9:  92%|█████████▏| 689/751 [00:07<00:00, 95.74batch/s, accuracy=100.0%, loss=0.0133] "
          ]
        },
        {
          "name": "stdout",
          "output_type": "stream",
          "text": [
            "GB | Epoch 9 | Loss: 0.01496210414916277 | Accuracy: 100.0%\n",
            "GB | Epoch 9 | Loss: 0.010553766041994095 | Accuracy: 100.0%\n",
            "GB | Epoch 9 | Loss: 0.014553992077708244 | Accuracy: 100.0%\n",
            "GB | Epoch 9 | Loss: 0.01055443100631237 | Accuracy: 100.0%\n",
            "GB | Epoch 9 | Loss: 0.020764388144016266 | Accuracy: 100.0%\n",
            "GB | Epoch 9 | Loss: 0.07506892830133438 | Accuracy: 98.4375%\n",
            "GB | Epoch 9 | Loss: 0.03721488267183304 | Accuracy: 98.4375%\n",
            "GB | Epoch 9 | Loss: 0.011364152655005455 | Accuracy: 100.0%\n",
            "GB | Epoch 9 | Loss: 0.01636279560625553 | Accuracy: 100.0%\n",
            "GB | Epoch 9 | Loss: 0.2054225355386734 | Accuracy: 95.3125%\n",
            "GB | Epoch 9 | Loss: 0.02545609511435032 | Accuracy: 100.0%\n",
            "GB | Epoch 9 | Loss: 0.04758638143539429 | Accuracy: 98.4375%\n",
            "GB | Epoch 9 | Loss: 0.02490277960896492 | Accuracy: 100.0%\n",
            "GB | Epoch 9 | Loss: 0.035860270261764526 | Accuracy: 98.4375%\n",
            "GB | Epoch 9 | Loss: 0.01886030100286007 | Accuracy: 100.0%\n",
            "GB | Epoch 9 | Loss: 0.0342019721865654 | Accuracy: 98.4375%\n",
            "GB | Epoch 9 | Loss: 0.048470389097929 | Accuracy: 98.4375%\n",
            "GB | Epoch 9 | Loss: 0.039401471614837646 | Accuracy: 100.0%\n",
            "GB | Epoch 9 | Loss: 0.14876168966293335 | Accuracy: 98.4375%\n",
            "GB | Epoch 9 | Loss: 0.045010343194007874 | Accuracy: 98.4375%\n",
            "GB | Epoch 9 | Loss: 0.013340599834918976 | Accuracy: 100.0%\n"
          ]
        },
        {
          "name": "stderr",
          "output_type": "stream",
          "text": [
            "Epoch 9:  95%|█████████▍| 712/751 [00:07<00:00, 99.80batch/s, accuracy=100.0%, loss=0.0125]"
          ]
        },
        {
          "name": "stdout",
          "output_type": "stream",
          "text": [
            "GB | Epoch 9 | Loss: 0.010644548572599888 | Accuracy: 100.0%\n",
            "GB | Epoch 9 | Loss: 0.019560201093554497 | Accuracy: 100.0%\n",
            "GB | Epoch 9 | Loss: 0.017825618386268616 | Accuracy: 100.0%\n",
            "GB | Epoch 9 | Loss: 0.007970940321683884 | Accuracy: 100.0%\n",
            "GB | Epoch 9 | Loss: 0.02063800022006035 | Accuracy: 100.0%\n",
            "GB | Epoch 9 | Loss: 0.08063607662916183 | Accuracy: 98.4375%\n",
            "GB | Epoch 9 | Loss: 0.010459279641509056 | Accuracy: 100.0%\n",
            "GB | Epoch 9 | Loss: 0.011673766188323498 | Accuracy: 100.0%\n",
            "GB | Epoch 9 | Loss: 0.007875039242208004 | Accuracy: 100.0%\n",
            "GB | Epoch 9 | Loss: 0.012296644039452076 | Accuracy: 100.0%\n",
            "GB | Epoch 9 | Loss: 0.02719220332801342 | Accuracy: 98.4375%\n",
            "GB | Epoch 9 | Loss: 0.016565481200814247 | Accuracy: 100.0%\n",
            "GB | Epoch 9 | Loss: 0.020134717226028442 | Accuracy: 100.0%\n",
            "GB | Epoch 9 | Loss: 0.005031379871070385 | Accuracy: 100.0%\n",
            "GB | Epoch 9 | Loss: 0.011150429956614971 | Accuracy: 100.0%\n",
            "GB | Epoch 9 | Loss: 0.008000797592103481 | Accuracy: 100.0%\n",
            "GB | Epoch 9 | Loss: 0.016214454546570778 | Accuracy: 100.0%\n",
            "GB | Epoch 9 | Loss: 0.023644018918275833 | Accuracy: 100.0%\n",
            "GB | Epoch 9 | Loss: 0.17200630903244019 | Accuracy: 98.4375%\n",
            "GB | Epoch 9 | Loss: 0.026665296405553818 | Accuracy: 100.0%\n",
            "GB | Epoch 9 | Loss: 0.012496358714997768 | Accuracy: 100.0%\n"
          ]
        },
        {
          "name": "stderr",
          "output_type": "stream",
          "text": [
            "Epoch 9:  98%|█████████▊| 736/751 [00:07<00:00, 106.25batch/s, accuracy=98.4375%, loss=0.0273]"
          ]
        },
        {
          "name": "stdout",
          "output_type": "stream",
          "text": [
            "GB | Epoch 9 | Loss: 0.02006799913942814 | Accuracy: 100.0%\n",
            "GB | Epoch 9 | Loss: 0.01907799020409584 | Accuracy: 100.0%\n",
            "GB | Epoch 9 | Loss: 0.014814738184213638 | Accuracy: 100.0%\n",
            "GB | Epoch 9 | Loss: 0.03372849524021149 | Accuracy: 98.4375%\n",
            "GB | Epoch 9 | Loss: 0.034012097865343094 | Accuracy: 98.4375%\n",
            "GB | Epoch 9 | Loss: 0.019365200772881508 | Accuracy: 98.4375%\n",
            "GB | Epoch 9 | Loss: 0.049725137650966644 | Accuracy: 98.4375%\n",
            "GB | Epoch 9 | Loss: 0.06334876269102097 | Accuracy: 98.4375%\n",
            "GB | Epoch 9 | Loss: 0.03791162371635437 | Accuracy: 98.4375%\n",
            "GB | Epoch 9 | Loss: 0.012049587443470955 | Accuracy: 100.0%\n",
            "GB | Epoch 9 | Loss: 0.015672633424401283 | Accuracy: 100.0%\n",
            "GB | Epoch 9 | Loss: 0.011830687522888184 | Accuracy: 100.0%\n",
            "GB | Epoch 9 | Loss: 0.013821830041706562 | Accuracy: 100.0%\n",
            "GB | Epoch 9 | Loss: 0.04641519859433174 | Accuracy: 98.4375%\n",
            "GB | Epoch 9 | Loss: 0.04960229992866516 | Accuracy: 98.4375%\n",
            "GB | Epoch 9 | Loss: 0.008782165125012398 | Accuracy: 100.0%\n",
            "GB | Epoch 9 | Loss: 0.03524952754378319 | Accuracy: 98.4375%\n",
            "GB | Epoch 9 | Loss: 0.017609545961022377 | Accuracy: 100.0%\n",
            "GB | Epoch 9 | Loss: 0.025593899190425873 | Accuracy: 100.0%\n",
            "GB | Epoch 9 | Loss: 0.014336367137730122 | Accuracy: 100.0%\n",
            "GB | Epoch 9 | Loss: 0.025235217064619064 | Accuracy: 100.0%\n",
            "GB | Epoch 9 | Loss: 0.11317641288042068 | Accuracy: 96.875%\n",
            "GB | Epoch 9 | Loss: 0.027316192165017128 | Accuracy: 98.4375%\n"
          ]
        },
        {
          "name": "stderr",
          "output_type": "stream",
          "text": [
            "Epoch 9: 100%|██████████| 751/751 [00:07<00:00, 118.04batch/s, accuracy=100.0%, loss=0.000206]"
          ]
        },
        {
          "name": "stdout",
          "output_type": "stream",
          "text": [
            "GB | Epoch 9 | Loss: 0.016706187278032303 | Accuracy: 100.0%\n",
            "GB | Epoch 9 | Loss: 0.023577222600579262 | Accuracy: 98.4375%\n",
            "GB | Epoch 9 | Loss: 0.013218635693192482 | Accuracy: 100.0%\n",
            "GB | Epoch 9 | Loss: 0.015474628657102585 | Accuracy: 100.0%\n",
            "GB | Epoch 9 | Loss: 0.017495552077889442 | Accuracy: 100.0%\n",
            "GB | Epoch 9 | Loss: 0.014825286343693733 | Accuracy: 100.0%\n",
            "GB | Epoch 9 | Loss: 0.18921130895614624 | Accuracy: 98.4375%\n",
            "GB | Epoch 9 | Loss: 0.006940525956451893 | Accuracy: 100.0%\n",
            "GB | Epoch 9 | Loss: 0.026518158614635468 | Accuracy: 100.0%\n",
            "GB | Epoch 9 | Loss: 0.011062962003052235 | Accuracy: 100.0%\n",
            "GB | Epoch 9 | Loss: 0.01645934395492077 | Accuracy: 100.0%\n",
            "GB | Epoch 9 | Loss: 0.00020637200213968754 | Accuracy: 100.0%\n"
          ]
        },
        {
          "name": "stderr",
          "output_type": "stream",
          "text": [
            "\rEpoch 9: 100%|██████████| 751/751 [00:07<00:00, 95.43batch/s, accuracy=100.0%, loss=0.000206] \n"
          ]
        }
      ],
      "source": [
        "better_model = model_factory(\"lenet\", trainset[0][0].shape, trainset.num_classes).to(device)\n",
        "group_balance_erm = GroupBalanceBatchERM(\n",
        "    model=better_model,\n",
        "    num_epochs=10,\n",
        "    trainset=trainset,\n",
        "    group_partition=group_partition,\n",
        "    batch_size=64,\n",
        "    optimizer=SGD(better_model.parameters(),  lr=1e-3, weight_decay=5e-4, momentum=0.9, nesterov=True),\n",
        "    device=device,\n",
        "    verbose=True\n",
        ")\n",
        "group_balance_erm.train()"
      ]
    },
    {
      "cell_type": "code",
      "execution_count": null,
      "metadata": {
        "colab": {
          "base_uri": "https://localhost:8080/"
        },
        "id": "-C_XpcAHJ6G-",
        "outputId": "ed026cbb-9516-4ed8-802a-67212a30fbcd"
      },
      "outputs": [
        {
          "name": "stderr",
          "output_type": "stream",
          "text": [
            "Evaluating group-wise accuracy:   4%|▍         | 1/25 [00:00<00:09,  2.61it/s]"
          ]
        },
        {
          "name": "stdout",
          "output_type": "stream",
          "text": [
            "Group (0, 0) Accuracy: 99.76359338061465\n"
          ]
        },
        {
          "name": "stderr",
          "output_type": "stream",
          "text": [
            "\rEvaluating group-wise accuracy:   8%|▊         | 2/25 [00:00<00:08,  2.60it/s]"
          ]
        },
        {
          "name": "stdout",
          "output_type": "stream",
          "text": [
            "Group (0, 1) Accuracy: 87.23404255319149\n"
          ]
        },
        {
          "name": "stderr",
          "output_type": "stream",
          "text": [
            "\rEvaluating group-wise accuracy:  12%|█▏        | 3/25 [00:01<00:08,  2.51it/s]"
          ]
        },
        {
          "name": "stdout",
          "output_type": "stream",
          "text": [
            "Group (0, 2) Accuracy: 55.082742316784866\n"
          ]
        },
        {
          "name": "stderr",
          "output_type": "stream",
          "text": [
            "\rEvaluating group-wise accuracy:  16%|█▌        | 4/25 [00:01<00:08,  2.52it/s]"
          ]
        },
        {
          "name": "stdout",
          "output_type": "stream",
          "text": [
            "Group (0, 3) Accuracy: 84.39716312056737\n"
          ]
        },
        {
          "name": "stderr",
          "output_type": "stream",
          "text": [
            "\rEvaluating group-wise accuracy:  20%|██        | 5/25 [00:01<00:07,  2.57it/s]"
          ]
        },
        {
          "name": "stdout",
          "output_type": "stream",
          "text": [
            "Group (0, 4) Accuracy: 8.51063829787234\n"
          ]
        },
        {
          "name": "stderr",
          "output_type": "stream",
          "text": [
            "\rEvaluating group-wise accuracy:  24%|██▍       | 6/25 [00:02<00:07,  2.57it/s]"
          ]
        },
        {
          "name": "stdout",
          "output_type": "stream",
          "text": [
            "Group (1, 0) Accuracy: 55.256723716381416\n"
          ]
        },
        {
          "name": "stderr",
          "output_type": "stream",
          "text": [
            "\rEvaluating group-wise accuracy:  28%|██▊       | 7/25 [00:02<00:06,  2.59it/s]"
          ]
        },
        {
          "name": "stdout",
          "output_type": "stream",
          "text": [
            "Group (1, 1) Accuracy: 98.77750611246944\n"
          ]
        },
        {
          "name": "stderr",
          "output_type": "stream",
          "text": [
            "\rEvaluating group-wise accuracy:  32%|███▏      | 8/25 [00:03<00:06,  2.54it/s]"
          ]
        },
        {
          "name": "stdout",
          "output_type": "stream",
          "text": [
            "Group (1, 2) Accuracy: 37.990196078431374\n"
          ]
        },
        {
          "name": "stderr",
          "output_type": "stream",
          "text": [
            "\rEvaluating group-wise accuracy:  36%|███▌      | 9/25 [00:03<00:06,  2.57it/s]"
          ]
        },
        {
          "name": "stdout",
          "output_type": "stream",
          "text": [
            "Group (1, 3) Accuracy: 25.735294117647058\n"
          ]
        },
        {
          "name": "stderr",
          "output_type": "stream",
          "text": [
            "\rEvaluating group-wise accuracy:  40%|████      | 10/25 [00:03<00:05,  2.58it/s]"
          ]
        },
        {
          "name": "stdout",
          "output_type": "stream",
          "text": [
            "Group (1, 4) Accuracy: 75.0\n"
          ]
        },
        {
          "name": "stderr",
          "output_type": "stream",
          "text": [
            "\rEvaluating group-wise accuracy:  44%|████▍     | 11/25 [00:04<00:05,  2.55it/s]"
          ]
        },
        {
          "name": "stdout",
          "output_type": "stream",
          "text": [
            "Group (2, 0) Accuracy: 71.46666666666667\n"
          ]
        },
        {
          "name": "stderr",
          "output_type": "stream",
          "text": [
            "\rEvaluating group-wise accuracy:  48%|████▊     | 12/25 [00:04<00:05,  2.59it/s]"
          ]
        },
        {
          "name": "stdout",
          "output_type": "stream",
          "text": [
            "Group (2, 1) Accuracy: 61.86666666666667\n"
          ]
        },
        {
          "name": "stderr",
          "output_type": "stream",
          "text": [
            "\rEvaluating group-wise accuracy:  52%|█████▏    | 13/25 [00:05<00:04,  2.59it/s]"
          ]
        },
        {
          "name": "stdout",
          "output_type": "stream",
          "text": [
            "Group (2, 2) Accuracy: 99.2\n"
          ]
        },
        {
          "name": "stderr",
          "output_type": "stream",
          "text": [
            "\rEvaluating group-wise accuracy:  56%|█████▌    | 14/25 [00:05<00:04,  2.58it/s]"
          ]
        },
        {
          "name": "stdout",
          "output_type": "stream",
          "text": [
            "Group (2, 3) Accuracy: 9.6\n"
          ]
        },
        {
          "name": "stderr",
          "output_type": "stream",
          "text": [
            "\rEvaluating group-wise accuracy:  60%|██████    | 15/25 [00:05<00:04,  2.43it/s]"
          ]
        },
        {
          "name": "stdout",
          "output_type": "stream",
          "text": [
            "Group (2, 4) Accuracy: 63.101604278074866\n"
          ]
        },
        {
          "name": "stderr",
          "output_type": "stream",
          "text": [
            "\rEvaluating group-wise accuracy:  64%|██████▍   | 16/25 [00:06<00:04,  2.11it/s]"
          ]
        },
        {
          "name": "stdout",
          "output_type": "stream",
          "text": [
            "Group (3, 0) Accuracy: 75.12562814070351\n"
          ]
        },
        {
          "name": "stderr",
          "output_type": "stream",
          "text": [
            "\rEvaluating group-wise accuracy:  68%|██████▊   | 17/25 [00:07<00:04,  1.93it/s]"
          ]
        },
        {
          "name": "stdout",
          "output_type": "stream",
          "text": [
            "Group (3, 1) Accuracy: 5.289672544080605\n"
          ]
        },
        {
          "name": "stderr",
          "output_type": "stream",
          "text": [
            "\rEvaluating group-wise accuracy:  72%|███████▏  | 18/25 [00:07<00:03,  1.82it/s]"
          ]
        },
        {
          "name": "stdout",
          "output_type": "stream",
          "text": [
            "Group (3, 2) Accuracy: 1.7632241813602014\n"
          ]
        },
        {
          "name": "stderr",
          "output_type": "stream",
          "text": [
            "\rEvaluating group-wise accuracy:  76%|███████▌  | 19/25 [00:08<00:03,  1.90it/s]"
          ]
        },
        {
          "name": "stdout",
          "output_type": "stream",
          "text": [
            "Group (3, 3) Accuracy: 99.74811083123426\n"
          ]
        },
        {
          "name": "stderr",
          "output_type": "stream",
          "text": [
            "\rEvaluating group-wise accuracy:  80%|████████  | 20/25 [00:08<00:02,  2.05it/s]"
          ]
        },
        {
          "name": "stdout",
          "output_type": "stream",
          "text": [
            "Group (3, 4) Accuracy: 70.27707808564232\n"
          ]
        },
        {
          "name": "stderr",
          "output_type": "stream",
          "text": [
            "\rEvaluating group-wise accuracy:  84%|████████▍ | 21/25 [00:09<00:01,  2.17it/s]"
          ]
        },
        {
          "name": "stdout",
          "output_type": "stream",
          "text": [
            "Group (4, 0) Accuracy: 11.335012594458439\n"
          ]
        },
        {
          "name": "stderr",
          "output_type": "stream",
          "text": [
            "\rEvaluating group-wise accuracy:  88%|████████▊ | 22/25 [00:09<00:01,  2.27it/s]"
          ]
        },
        {
          "name": "stdout",
          "output_type": "stream",
          "text": [
            "Group (4, 1) Accuracy: 53.40050377833753\n"
          ]
        },
        {
          "name": "stderr",
          "output_type": "stream",
          "text": [
            "\rEvaluating group-wise accuracy:  92%|█████████▏| 23/25 [00:09<00:00,  2.34it/s]"
          ]
        },
        {
          "name": "stdout",
          "output_type": "stream",
          "text": [
            "Group (4, 2) Accuracy: 63.97984886649874\n"
          ]
        },
        {
          "name": "stderr",
          "output_type": "stream",
          "text": [
            "\rEvaluating group-wise accuracy:  96%|█████████▌| 24/25 [00:10<00:00,  2.41it/s]"
          ]
        },
        {
          "name": "stdout",
          "output_type": "stream",
          "text": [
            "Group (4, 3) Accuracy: 73.73737373737374\n"
          ]
        },
        {
          "name": "stderr",
          "output_type": "stream",
          "text": [
            "Evaluating group-wise accuracy: 100%|██████████| 25/25 [00:10<00:00,  2.35it/s]"
          ]
        },
        {
          "name": "stdout",
          "output_type": "stream",
          "text": [
            "Group (4, 4) Accuracy: 97.22222222222223\n"
          ]
        },
        {
          "name": "stderr",
          "output_type": "stream",
          "text": [
            "\n"
          ]
        },
        {
          "data": {
            "text/plain": [
              "{(0, 0): 99.76359338061465,\n",
              " (0, 1): 87.23404255319149,\n",
              " (0, 2): 55.082742316784866,\n",
              " (0, 3): 84.39716312056737,\n",
              " (0, 4): 8.51063829787234,\n",
              " (1, 0): 55.256723716381416,\n",
              " (1, 1): 98.77750611246944,\n",
              " (1, 2): 37.990196078431374,\n",
              " (1, 3): 25.735294117647058,\n",
              " (1, 4): 75.0,\n",
              " (2, 0): 71.46666666666667,\n",
              " (2, 1): 61.86666666666667,\n",
              " (2, 2): 99.2,\n",
              " (2, 3): 9.6,\n",
              " (2, 4): 63.101604278074866,\n",
              " (3, 0): 75.12562814070351,\n",
              " (3, 1): 5.289672544080605,\n",
              " (3, 2): 1.7632241813602014,\n",
              " (3, 3): 99.74811083123426,\n",
              " (3, 4): 70.27707808564232,\n",
              " (4, 0): 11.335012594458439,\n",
              " (4, 1): 53.40050377833753,\n",
              " (4, 2): 63.97984886649874,\n",
              " (4, 3): 73.73737373737374,\n",
              " (4, 4): 97.22222222222223}"
            ]
          },
          "execution_count": 33,
          "metadata": {},
          "output_type": "execute_result"
        }
      ],
      "source": [
        "evaluator = Evaluator(\n",
        "    testset=testset,\n",
        "    group_partition=testset.group_partition,\n",
        "    group_weights=trainset.group_weights,\n",
        "    batch_size=64,\n",
        "    model=better_model,\n",
        "    device=device,\n",
        "    verbose=True\n",
        ")\n",
        "evaluator.evaluate()"
      ]
    },
    {
      "cell_type": "code",
      "execution_count": null,
      "metadata": {
        "id": "ok8ZgHMTKHZN"
      },
      "outputs": [],
      "source": []
    }
  ],
  "metadata": {
    "accelerator": "GPU",
    "colab": {
      "gpuType": "T4",
      "provenance": []
    },
    "kernelspec": {
      "display_name": "Python 3",
      "name": "python3"
    },
    "language_info": {
      "name": "python"
    }
  },
  "nbformat": 4,
  "nbformat_minor": 0
}
